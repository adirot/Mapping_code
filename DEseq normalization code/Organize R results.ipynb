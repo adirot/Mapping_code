{
 "cells": [
  {
   "cell_type": "code",
   "execution_count": 1,
   "metadata": {},
   "outputs": [],
   "source": [
    "import pandas as pd"
   ]
  },
  {
   "cell_type": "code",
   "execution_count": 5,
   "metadata": {},
   "outputs": [],
   "source": [
    "# Load the results from R\n",
    "#experiment_name = 'Experiment1'\n",
    "#experiment_name = 'Experiment2'\n",
    "experiment_name = 'Exponential'\n",
    "if experiment_name in ['Experiment1','Experiment2']:\n",
    "    results_CASP = pd.read_csv('DEseq2_normalized_{}/CASP_DEseq2_norm.csv'.format(experiment_name))\n",
    "    results_CASP.rename(columns={'Unnamed: 0': 'Gene'}, inplace=True)\n",
    "    results_Disrupted = pd.read_csv('DEseq2_normalized_{}/Disrupted_DEseq2_norm.csv'.format(experiment_name))\n",
    "    results_Disrupted.rename(columns={'Unnamed: 0': 'Gene'}, inplace=True)\n",
    "    results = pd.concat([results_CASP, results_Disrupted], axis=1)\n",
    "    results.to_csv('../Normalized_data_'+experiment_name+'/DEseq2_norm_'+experiment_name+'.csv', index=False)\n",
    "elif experiment_name == 'Exponential':\n",
    "    results = pd.read_csv('DEseq2_normalized_{}/Exponential_DEseq2_norm.csv'.format(experiment_name))\n",
    "    results.rename(columns={'Unnamed: 0': 'Gene'}, inplace=True)\n",
    "    results.to_csv('../Normalized_data_'+experiment_name+'/DEseq2_norm_'+experiment_name+'.csv', index=False)"
   ]
  },
  {
   "cell_type": "code",
   "execution_count": null,
   "metadata": {},
   "outputs": [],
   "source": []
  }
 ],
 "metadata": {
  "kernelspec": {
   "display_name": "base",
   "language": "python",
   "name": "python3"
  },
  "language_info": {
   "codemirror_mode": {
    "name": "ipython",
    "version": 3
   },
   "file_extension": ".py",
   "mimetype": "text/x-python",
   "name": "python",
   "nbconvert_exporter": "python",
   "pygments_lexer": "ipython3",
   "version": "3.9.12"
  }
 },
 "nbformat": 4,
 "nbformat_minor": 2
}
