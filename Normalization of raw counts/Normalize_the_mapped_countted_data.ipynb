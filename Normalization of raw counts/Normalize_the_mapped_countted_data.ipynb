{
 "cells": [
  {
   "cell_type": "code",
   "execution_count": 1,
   "metadata": {},
   "outputs": [],
   "source": [
    "import pandas as pd\n",
    "import numpy as np\n",
    "from glob import glob\n",
    "import os\n",
    "\n",
    "# needed only for plotting\n",
    "import plotly.express as px\n",
    "import plotly.graph_objects as go"
   ]
  },
  {
   "cell_type": "code",
   "execution_count": 2,
   "metadata": {},
   "outputs": [
    {
     "data": {
      "text/plain": [
       "'\\nThis code is used to normalize the mapped and counted reads in all the ways presented in the paper (except for the DEseq2 normalization, which is done in R,see code in this folder). \\n\\n1. Normalize by ERCC spike-ins \\n2. Calculate the RPK\\n3. Remove transcript below the detection limit\\n4. Normalize by downsampling to the lowest number of mapped reads\\n5. Normalize by downsampling to the lowest number of mapped reads and then calculating the RPK\\n'"
      ]
     },
     "execution_count": 2,
     "metadata": {},
     "output_type": "execute_result"
    }
   ],
   "source": [
    "\"\"\"\n",
    "This code is used to normalize the mapped and counted reads in all the ways presented in the paper (except for the DEseq2 normalization, which is done in R,see code in this folder). \n",
    "\n",
    "1. Normalize by ERCC spike-ins \n",
    "2. Calculate the RPK\n",
    "3. Remove transcript below the detection limit\n",
    "4. Normalize by downsampling to the lowest number of mapped reads\n",
    "5. Normalize by downsampling to the lowest number of mapped reads and then calculating the RPK\n",
    "\"\"\""
   ]
  },
  {
   "cell_type": "code",
   "execution_count": null,
   "metadata": {},
   "outputs": [],
   "source": []
  },
  {
   "cell_type": "markdown",
   "metadata": {},
   "source": [
    "# Helper functions\n"
   ]
  },
  {
   "cell_type": "code",
   "execution_count": 3,
   "metadata": {},
   "outputs": [],
   "source": [
    "# for htseq file reading:\n",
    "\n",
    "def load_count_files(file_name_map,columns = ['ID','data']):\n",
    "    # load all count files, and make a long-format pandas array with all data.\n",
    "    # input is a list of dict with file location as keys and the sample names as values. All files are need to be in the htseq output format (tsv).\n",
    "    # output is a pandas array of all data in one long table, where each row is a transcript from one sample.\n",
    "    # 'file' column is added to indicate which file the data is from. \n",
    "    # columns is a list of column names for the output table (default: ['ID','data'])\n",
    "    \n",
    "    \n",
    "    raw_reads = pd.DataFrame(columns=columns)\n",
    "    for file in file_name_map.keys():\n",
    "             \n",
    "        this_pd = load_count_file(file,columns = columns)\n",
    "        this_pd['file'] = file_name_map[file]\n",
    "        raw_reads = pd.concat([raw_reads,this_pd])\n",
    "    \n",
    "    # remove statistics lines from htseq output\n",
    "    stat_lines = ['__no_feature', '__ambiguous', '__too_low_aQual', '__not_aligned',\n",
    "       '__alignment_not_unique']\n",
    "    raw_reads = raw_reads[~raw_reads.isin(stat_lines).any(axis=1)]\n",
    "\n",
    "    return raw_reads\n",
    "\n",
    "def load_count_file(count_file, columns = ['ID','data']):\n",
    "    # load the countsfile from location count_file \n",
    "    # input is a count file created by htseq (tsv) \n",
    "    # output is a pandas array of counts data with columns as specified in columns (default: ['ID','data'])\n",
    "    raw_reads = pd.read_csv(count_file,sep='\\t',header = None,names = columns)\n",
    "    \n",
    "    return raw_reads\n",
    "\n",
    "# for ERCC normalization:\n",
    "\n",
    "def get_ERCC_concentration(ERCC_info,mix):\n",
    "    # mix = 1,2,none. get concentration data in attomoles/ul from the correct mix.\n",
    "    col_name = 'concentration_in_Mix_' + str(int(mix)) + '_attomoles/ul'\n",
    "    concentration_map = dict(zip(ERCC_info['ERCC_ID'],ERCC_info[col_name]))\n",
    "    return concentration_map\n",
    "\n",
    "def calculate_ERCC_attomoles_in_sample(RPK_ERCC,sample_data_loc,ERCC_info_loc):\n",
    "    # This function calculates the ERCC attomoles in each sample according to the following formula: \n",
    "    # ERCC attomoles in sample = ERCC concentration * ul ERCC added to sample / ERCC dilution\n",
    "    # The results are added to the RPK_ERCC dataFrame in the column 'ERCC_attomoles_in_sample'.\n",
    "\n",
    "    # RPK_ERCC: a pandas array with the ERCC RPK data. This should be in long format, with the following columns:\n",
    "        # file: sample name\n",
    "        # ID: transcript name\n",
    "        # RPK: RPK data\n",
    "    # sample_data_loc should contain a csv file with the following columns:\n",
    "        # file: sample name\n",
    "        # mix: ERCC mix in sample (1 or 2)\n",
    "        # ul_ERCC_added_to_sample: ul ERCC added to sample (from ERCC dilution from original stock)\n",
    "        # ERCC_dilution: the ERCC dilution from the original stock.\n",
    "            # for example if ERCC was diluted 1:40 and 1.3ul were added from this dilution to the sample \n",
    "            # we set: ul_ERCC_added_to_sample = 1.3, ERCC_dilution = 40.\n",
    "        # may contain additional columns, this will not change the output.\n",
    "\n",
    "    samples = list(set(RPK_ERCC['file']))\n",
    "    # load samples metadata: how much ERCC was added to each sample, from which dilution, etc.\n",
    "    sample_data_pd = pd.read_csv(sample_data_loc)\n",
    "\n",
    "    # Load the ERCC metadata:\n",
    "    ERCC_info = pd.read_csv(ERCC_info_loc)\n",
    "\n",
    "    # define the ERCC mix in each sample:\n",
    "    mix_map = dict(zip(sample_data_pd['file'],sample_data_pd['mix']))\n",
    "\n",
    "    # define the amount of ERCC added to each sample (ul):\n",
    "    ul_ERCC_added_to_sample_map = dict(zip(sample_data_pd['file'],sample_data_pd['ul_ERCC_added_to_sample']))\n",
    "\n",
    "    # define the ERCC dilution from the original stock: (1:40 would be 40)\n",
    "    ERCC_dilution_map = dict(zip(sample_data_pd['file'],sample_data_pd['ERCC_dilution']))\n",
    "\n",
    "    # load ERCC concentration data for each sample (from the right mix):\n",
    "    concentration_map = {sample: get_ERCC_concentration(ERCC_info,mix) for sample,mix in mix_map.items()}\n",
    "\n",
    "    def add_concentration_data_to_pd(RPK_ERCC,concentration_map):\n",
    "        # add ERCC concentration data to the RPK_ERCC dataFrame.\n",
    "        # concentration_map is a dict with sample names as keys and ERCC concentration data as values.\n",
    "        RPK_ERCC['file_ID'] = RPK_ERCC['file'] + '_' + RPK_ERCC['ID']\n",
    "        new_concentration_map = {}\n",
    "        for sample,concentration in concentration_map.items():\n",
    "            new_concentration_map.update({sample + '_' + ERCC: concentration[ERCC] for ERCC in concentration.keys()})\n",
    "        RPK_ERCC['ERCC_concentration'] = RPK_ERCC['file_ID'].map(new_concentration_map)\n",
    "        RPK_ERCC = RPK_ERCC.drop(columns=['file_ID'])\n",
    "        return RPK_ERCC\n",
    "\n",
    "    # add all the metadata to the ERCC dataFrame:\n",
    "    RPK_ERCC['ul_ERCC_added_to_sample'] = RPK_ERCC['file'].map(ul_ERCC_added_to_sample_map)\n",
    "    RPK_ERCC['ERCC_dilution'] = RPK_ERCC['file'].map(ERCC_dilution_map)\n",
    "    RPK_ERCC = add_concentration_data_to_pd(RPK_ERCC,concentration_map)\n",
    "\n",
    "    # calculate the ERCC attomoles in each sample:\n",
    "    RPK_ERCC['ERCC_attomoles_in_sample'] = RPK_ERCC['ERCC_concentration'] * RPK_ERCC['ul_ERCC_added_to_sample'] / RPK_ERCC['ERCC_dilution']\n",
    "    return RPK_ERCC\n",
    "\n",
    "def find_ERCC_normalization_parameters(ERCC_RPK,x_DL_map,ignore_ERCCs=[]):\n",
    "    # find the normalization parameters for each sample (file) using the ERCC spike-ins.\n",
    "    # This function linear fits: log(RPK) = m*log(ERCC_attomoles_in_sample) + c\n",
    "    # Where RPK is measured in the sample, and ERCC_attomoles_in_sample is the ERCC attomoles in the sample as calculated by the mix known properties (see the function calculate_ERCC_attomoles_in_sample).\n",
    "    # ERCC_RPK: a pandas array with the ERCC RPK data. This should be in long format, with the following columns:\n",
    "        # file: sample name\n",
    "        # ID: transcript name\n",
    "        # data: RPK data\n",
    "        # ERCC_attomoles_in_sample: ERCC attomoles in sample (calculated by the function calculate_ERCC_attomoles_in_sample)\n",
    "    # x_DL_map: a dict with sample names as keys and the chosen lower limit of the ERCC_attomoles_in_sample data obove wich to do the fit as values.\n",
    "    \n",
    "    # ignore_ERCCs: list of transcript names to ignore, for example: ['ERCC-00002','ERCC-00003']. \n",
    "\n",
    "    # output: parameter_map: a dict with sample names as keys and the fit parameters as values. \n",
    "    # if the fit fails, the parameters are set to 0 and the r2 to the error message.\n",
    "\n",
    "    def log_transform_and_fit(x_data,y_data):\n",
    "        \n",
    "        # log transforms x_data and y_data, and does a linear fit \n",
    "        # input: x_data,y_data numpy arrays. \n",
    "        # output: m,c are the fit parameters: log(y_data) = m*log(x_data)+c\n",
    "        #        r2 is r-squared of the fit\n",
    "\n",
    "        x_fit = x_data\n",
    "        y_fit = y_data\n",
    "        x_fit = x_fit[y_fit > 0] # remove transcript if no reads were detected\n",
    "        y_fit = y_fit[y_fit > 0]\n",
    "\n",
    "\n",
    "        XYlog = np.vstack([np.log(x_fit.astype('double')),np.ones(len(x_fit))]).T\n",
    "        y_data_log = np.log(y_fit.astype('double'))\n",
    "        model, resid = np.linalg.lstsq(XYlog, y_data_log, rcond=None)[:2]\n",
    "        m, c = model\n",
    "        r2 = 1 - resid / (y_data_log.size * y_data_log.var())\n",
    "        r2 = r2[0]\n",
    "        \n",
    "        return m, c, r2\n",
    "\n",
    "\n",
    "    # remove ERCCs to ignore:\n",
    "    ERCC_pd_for_fit = ERCC_RPK[~ERCC_RPK['ID'].isin(ignore_ERCCs)].copy()\n",
    "    \n",
    "    # find normalization parameters for each sample (file)\n",
    "    parameter_map = {} \n",
    "    samples = list(set(ERCC_pd_for_fit['file']))       \n",
    "    for sample in samples:\n",
    "        this_data = ERCC_pd_for_fit[ERCC_pd_for_fit['file']==sample]\n",
    "        x_data = this_data['ERCC_attomoles_in_sample']\n",
    "        y_data = this_data['RPK']\n",
    "        \n",
    "        # only use data above the chosen lower limit:\n",
    "        y_data = y_data[this_data['RPK']>x_DL_map[sample]]\n",
    "        x_data = x_data[this_data['RPK']>x_DL_map[sample]]\n",
    "        \n",
    "        try:\n",
    "            m, c, r2 = log_transform_and_fit(x_data,y_data)\n",
    "            parameter_map[sample] = {'m':m, 'c':c, 'r2': r2}        \n",
    "        except Exception as e:\n",
    "            # if the fit fails, set the parameters to 0 and the r2 to the error message.\n",
    "            parameter_map[sample] = {'m':0, 'c':0, 'r2': str(e)}\n",
    "\n",
    "    return parameter_map \n",
    "\n",
    "def plot_ERCC_linear_fit(RPK_ERCC,file,parameter_map,x_DL_map,ignore_ERCCs=[]):\n",
    "    \n",
    "    # plot the ERCC RPK Vs ERCC attomoles in sample, and add the fit.\n",
    "    # RPK_ERCC: a pandas array with the ERCC RPK data. This should be in long format, with the following columns:\n",
    "        # file: sample name\n",
    "        # ID: transcript name\n",
    "        # data: RPK data\n",
    "        # ERCC_attomoles_in_sample: ERCC attomoles in sample (calculated by the function calculate_ERCC_attomoles_in_sample)\n",
    "    # file: the sample name to plot\n",
    "    # parameter_map: a dict with sample names as keys and the fit parameters as values. This is the output of the function find_ERCC_normalization_parameters.\n",
    "    # x_DL_map: a dict with sample names as keys and the chosen lower limit of the ERCC_attomoles_in_sample data obove wich the fit was done as values.\n",
    "    # ignore_ERCCs: list of transcript that were ignored, for example: ['ERCC-00002','ERCC-00003'].\n",
    "\n",
    "    # output: a plotly figure with the ERCC RPK Vs ERCC attomoles in sample, and the fit, in log-log scale. the fit parameters are added to the figure. the ignored ERCCs are marked in red.\n",
    "\n",
    "    def plot_ERCC_RPK_Vs_ERCC_attomoles_in_sample(RPK_ERCC):\n",
    "        fig = px.scatter(RPK_ERCC,x='ERCC_attomoles_in_sample',\n",
    "                        y='RPK',log_x=True,log_y=True,\n",
    "                        color = 'in_fit',\n",
    "                     hover_name='ID',width=2000,height=600)\n",
    "        #plot(fig)\n",
    "        fig.update_layout(font_size=24)\n",
    "        return fig\n",
    "    \n",
    "    def my_fig_annotation_box(fig,text,alignto='left',\n",
    "                          x=0,xanchor='left'):\n",
    "        # text is a list of strings with text lines\n",
    "        i = 0\n",
    "        for line in text:\n",
    "            fig.add_annotation(\n",
    "                    text=line,\n",
    "                    align=alignto,\n",
    "                    showarrow=False,\n",
    "                    xref='paper',\n",
    "                    yref='paper',\n",
    "                    xanchor = xanchor,\n",
    "                    x=x,\n",
    "                    y=1-0.1*i,\n",
    "                    bordercolor='black',\n",
    "                    borderwidth=1)\n",
    "            i+=1\n",
    "        return fig \n",
    "\n",
    "    ERCC_pd = RPK_ERCC[RPK_ERCC['file'] == file]\n",
    "    ERCC_pd['in_fit'] = ERCC_pd['ID'].apply(lambda x: 'in fit' if x not in ignore_ERCCs else 'not in fit')\n",
    "    \n",
    "    \n",
    "    fig = plot_ERCC_RPK_Vs_ERCC_attomoles_in_sample(ERCC_pd)\n",
    "    \n",
    "    max_x = max(ERCC_pd['ERCC_attomoles_in_sample'])\n",
    "    \n",
    "    # add fit line:\n",
    "    m = parameter_map[file]['m']\n",
    "    c = parameter_map[file]['c']\n",
    "    r2 = parameter_map[file]['r2']\n",
    "    x=np.array([x_DL_map[file],max_x])\n",
    "    fig.add_trace(go.Scatter(x=x,y=np.exp(c)*x**m,mode='lines',name=file))\n",
    "    \n",
    "    if not isinstance(r2, str):\n",
    "        r2 = format(r2, '.2f')\n",
    "    \n",
    "    # add fit info\n",
    "    fit_text = ['fit of log(y) Vs log(x), paremeters: log(y) = m*log(x)+c',\n",
    "                'fit in the range ERCC attomoles in sample [' + format(x_DL_map[file],'.2f') + ',' + format(max_x, '.2f') + ']',\n",
    "                'the slop in log scale: m = ' + format(m, '.2f'),\n",
    "                'the intercept in log scale: c = ' + format(c, '.2f'),'',\n",
    "                'log(y) = m*log(x)+c --> y = e^c * x^m',\n",
    "                'the slope in linear scale: e^c = ' + format(np.exp(c), '.2E'),\n",
    "                'R^2 = ' + r2,'',\n",
    "                'ERCCs with no reads detected', ' not fitted and not shown']\n",
    "    fig = my_fig_annotation_box(fig,fit_text,x=0.4,xanchor='left')\n",
    "    fig.update_xaxes(range=[-3, 15])\n",
    "    \n",
    "    return fig\n",
    "\n",
    "def get_length_from_gff(gff_file_loc):\n",
    "    # Load the gff file:\n",
    "    gff_file = gffpd.read_gff3(gff_file_loc)\n",
    "    gff_file.df = gff_file.df[gff_file.df['type']=='gene']\n",
    "    gff_file.df['name'] = gff_file.df['attributes'].apply(lambda x: x.split('Name=')[1].split(';')[0])\n",
    "\n",
    "    # get the transcript lengths (if a gene has multiple annotated transcripts, the sum of the lengths of all transcripts is taken. This happens in our gff only of RelA, since it has an insertion):\n",
    "    length_map = {gene:0 for gene in gff_file.df['name']}\n",
    "    for row in gff_file.df.iterrows():\n",
    "        this_row = row[1]\n",
    "        this_gene = this_row['name']\n",
    "        this_length = this_row['end'] - this_row['start']+1\n",
    "        length_map[this_gene] += this_length\n",
    "    transcript_lengths = pd.DataFrame.from_dict(length_map,orient='index')\n",
    "    transcript_lengths['ID'] = transcript_lengths.index\n",
    "    transcript_lengths.columns = ['length','ID']\n",
    "    return transcript_lengths\n",
    "\n",
    "def get_product_info_from_gff(gff_file_loc):\n",
    "    # Load the gff file:\n",
    "    gff_file = gffpd.read_gff3(gff_file_loc)\n",
    "    gff_file_CDS = gff_file.df[gff_file.df['type']=='CDS']\n",
    "    gff_file_CDS['product'] = gff_file_CDS['attributes'].apply(lambda x: x.split('product=')[1].split(';')[0])\n",
    "    gff_file_CDS['Parent'] = gff_file_CDS['attributes'].apply(lambda x: x.split('Parent=')[1].split(';')[0] )\n",
    "    gff_file_CDS['Source: Product'] = gff_file_CDS['source'] + ': ' + gff_file_CDS['product']\n",
    "    ID_product_map = dict(zip(gff_file_CDS['Parent'],gff_file_CDS['Source: Product']))\n",
    "    gff_file_gene = gff_file.df[gff_file.df['type']=='gene']\n",
    "    gff_file_gene = gff_file_gene[gff_file_gene['attributes'].str.contains('ID=')]\n",
    "    gff_file_gene['ID'] = gff_file_gene['attributes'].apply(lambda x: x.split('ID=')[1].split(';')[0])\n",
    "    gff_file_gene['Name'] = gff_file_gene['attributes'].apply(lambda x: x.split('Name=')[1].split(';')[0])\n",
    "    ID_name_map = dict(zip(gff_file_gene['ID'],gff_file_gene['Name']))\n",
    "    gene_product_map = {}\n",
    "    for id in ID_product_map.keys():\n",
    "        #print(id)\n",
    "        \n",
    "        if id in ID_name_map.keys():\n",
    "            gene_product_map[ID_name_map[id]] = ID_product_map[id]\n",
    "        \n",
    "    \n",
    "    return gene_product_map\n",
    "\n",
    "# Help functions for the resampling normalization:\n",
    "def create_resample_data(data,read_name_col,data_col):\n",
    "    # data is a dataframe with a column of read names and a column of data\n",
    "    # read_name_col is the name of the column with the read names\n",
    "    # data_col is the name of the column with the data\n",
    "    data_for_sampling = []\n",
    "    read_names = data[read_name_col]\n",
    "    for ele in read_names:\n",
    "        data_ele = list(data[data[read_name_col]==ele][data_col])[0]\n",
    "        # make a list of ele repeated as the number of times the read repeats\n",
    "        l2append = [ele]*data_ele\n",
    "        data_for_sampling = data_for_sampling + l2append\n",
    "    return data_for_sampling\n",
    "\n",
    "# a function to subsample the data of one sample to the min_reads\n",
    "def resample(data,read_name_col,data_col,samples):\n",
    "    # data is a dataframe with a column of read names and a column of data\n",
    "    # read_name_col is the name of the column with the read names\n",
    "    # data_col is the name of the column with the data\n",
    "    # samples is the number of samples to take\n",
    "\n",
    "    # create a list of all the reads in the data, each read repeated as the number of times it was counted\n",
    "    data_for_sampling = create_resample_data(data,read_name_col,data_col)\n",
    "\n",
    "    # resample the data\n",
    "    resampled_data = pd.DataFrame(columns=[read_name_col,data_col])\n",
    "    resampled_data[read_name_col] = data[read_name_col].copy()\n",
    "    #resampled_data[data_col] = 0\n",
    "    transcripts = list(set(resampled_data[read_name_col]))\n",
    "    count_dict = {t:0 for t in transcripts}\n",
    "    for s in range(samples):\n",
    "        chosen = random.choice(data_for_sampling)\n",
    "        count_dict[chosen] = count_dict[chosen]+1\n",
    "        #resampled_data.loc[resampled_data[read_name_col]==chosen,data_col] = resampled_data[resampled_data[read_name_col]==chosen][data_col] \n",
    "    resampled_data[data_col] = resampled_data[read_name_col].map(count_dict)\n",
    "    return resampled_data"
   ]
  },
  {
   "cell_type": "markdown",
   "metadata": {},
   "source": [
    "# Load the raw counts"
   ]
  },
  {
   "cell_type": "code",
   "execution_count": 4,
   "metadata": {},
   "outputs": [
    {
     "data": {
      "text/plain": [
       "array(['CASP_biorep1a', 'CASP_biorep1b', 'CASP_biorep1c', 'CASP_biorep2',\n",
       "       'CASP_biorep3', 'CASP_biorep4', 'Disrupted_biorep1a',\n",
       "       'Disrupted_biorep1b', 'Disrupted_biorep1c', 'Disrupted_biorep2',\n",
       "       'Disrupted_biorep3', 'Disrupted_biorep4'], dtype=object)"
      ]
     },
     "execution_count": 4,
     "metadata": {},
     "output_type": "execute_result"
    }
   ],
   "source": [
    "# set the experiment name:\n",
    "Experiment_name = 'Experiment1'\n",
    "#Experiment_name = 'Experiment2'\n",
    "# Experiment_name = 'subsample'\n",
    "#Experiment_name = 'Exponential'\n",
    "#Experiment_name = 'Time_in_SHX'\n",
    "# This code will go to the folder: ..\\map_count_outputs\\\"Experiment_name\"\\counts\\ and load all count files.\n",
    "\n",
    "# get the names of all count files:\n",
    "counts_file_path = '..\\\\map_count_outputs\\\\'+Experiment_name+'\\\\counts\\\\'\n",
    "count_files = glob(counts_file_path+'*.tsv')\n",
    "file_sample_map = {file:os.path.basename(file).split('.')[0] for file in count_files if ('reverse' not in file) and ('intergenic' not in file) and ('pseudogene' not in file) and ('notstranded' not in file)} # No need for reverse mapping\n",
    "\n",
    "\n",
    "# load the count files:\n",
    "raw_reads = load_count_files(file_sample_map,['ID','data'])\n",
    "# separate the ERCC spike-ins from the rest of the data:\n",
    "raw_reads_ERCC = raw_reads[raw_reads['ID'].str.contains('ERCC')]\n",
    "raw_reads = raw_reads[~raw_reads['ID'].str.contains('ERCC')]\n",
    "\n",
    "\n",
    "\n",
    "raw_reads['file'].unique()"
   ]
  },
  {
   "cell_type": "code",
   "execution_count": 5,
   "metadata": {},
   "outputs": [
    {
     "name": "stderr",
     "output_type": "stream",
     "text": [
      "C:\\Users\\adiro\\AppData\\Local\\Temp\\ipykernel_32200\\2061613557.py:258: SettingWithCopyWarning: \n",
      "A value is trying to be set on a copy of a slice from a DataFrame.\n",
      "Try using .loc[row_indexer,col_indexer] = value instead\n",
      "\n",
      "See the caveats in the documentation: https://pandas.pydata.org/pandas-docs/stable/user_guide/indexing.html#returning-a-view-versus-a-copy\n",
      "  gff_file_CDS['product'] = gff_file_CDS['attributes'].apply(lambda x: x.split('product=')[1].split(';')[0])\n",
      "C:\\Users\\adiro\\AppData\\Local\\Temp\\ipykernel_32200\\2061613557.py:259: SettingWithCopyWarning: \n",
      "A value is trying to be set on a copy of a slice from a DataFrame.\n",
      "Try using .loc[row_indexer,col_indexer] = value instead\n",
      "\n",
      "See the caveats in the documentation: https://pandas.pydata.org/pandas-docs/stable/user_guide/indexing.html#returning-a-view-versus-a-copy\n",
      "  gff_file_CDS['Parent'] = gff_file_CDS['attributes'].apply(lambda x: x.split('Parent=')[1].split(';')[0] )\n",
      "C:\\Users\\adiro\\AppData\\Local\\Temp\\ipykernel_32200\\2061613557.py:260: SettingWithCopyWarning: \n",
      "A value is trying to be set on a copy of a slice from a DataFrame.\n",
      "Try using .loc[row_indexer,col_indexer] = value instead\n",
      "\n",
      "See the caveats in the documentation: https://pandas.pydata.org/pandas-docs/stable/user_guide/indexing.html#returning-a-view-versus-a-copy\n",
      "  gff_file_CDS['Source: Product'] = gff_file_CDS['source'] + ': ' + gff_file_CDS['product']\n"
     ]
    }
   ],
   "source": [
    "\n",
    "# add gene product information from the gff file (can be commented out if not needed):\n",
    "import gffpandas.gffpandas as gffpd\n",
    "import pandas as pd\n",
    "gff_file_loc = '..\\Genome_files\\gffFile_combined.gff'\n",
    "product_map = get_product_info_from_gff(gff_file_loc)\n",
    "raw_reads['source: product'] = raw_reads['ID'].map(product_map)\n",
    "\n",
    "\n"
   ]
  },
  {
   "cell_type": "markdown",
   "metadata": {},
   "source": [
    "# Calculate the ERCC normalization"
   ]
  },
  {
   "cell_type": "markdown",
   "metadata": {},
   "source": [
    "To clculate the ERCC normalization:\n",
    "1. Calculate the RPK (reads per kilobase) for each gene and each ERCC spike-in according to the formula:\n",
    "$$RPK=\\frac{reads\\ aligned\\ to\\ transcript}{transcript\\ length / 1000}$$\n",
    "2. Find the attomols of ERCC added to each sample according to the formula:\n",
    "$$attomoles\\ per\\ sample\\ ERCC=\\frac{\\mu l\\ ERCC\\ added \\cdot attomole\\ per\\ \\mu l\\ in\\ ERCC\\ mix}{dilution\\ of\\ ERCC\\ Mix}$$\n",
    "(For example, in our setup we added 1.3 ul of ERCC mix1 to each sample from a 1:40 dilution of mix1. In that case $\\mu l\\ ERCC\\ added=1.3$ and $dilution\\ of\\ ERCC\\ Mix=40$. The attomole per $\\mu l$ in ERCC mix1for each transcript is taken from the ERCC datasheet)\n",
    "\n",
    "3. Linear Fit log(RPK) Vs log(ERCC attomoles in sample), to get the parameters of normalization for each sample, with the parameters:\n",
    "$$\\log (RPK\\ ERCC) =m\\cdot\\log (attomoles\\ per\\ sample\\ ERCC) +c$$\n",
    "The fit is for data in range attomole per sample >0.01. Two ERCCs that were always problematic (never on the linear trend) were removed from the fit.\n",
    "    We also Plot RPK as a function of attomoles in sample for each sample for ERCC transcripts. ERCCs removed from the fit are marked in red.\n",
    "\n",
    "4. Use m,c for each sample to find the attomoles per sample of all transcripts:\n",
    "$$attomoles\\ per\\ sample\\ =e^{-\\frac{c}{m}}\\cdot (RPK)^{\\frac{1}{m}}$$\n",
    "\n",
    "5. To estimate the number of transcripts per cell, we normalize each sample by the number of cells in that sample (calculated using CFU counts). To find an estimate the number of cells in each sample, we plated the cells before sample collection, and found the CFU per ml. By knowing the volume of the sample, we then calculate the number of cells in the sample. The number of cells in each sample is given in the CSV file in the folder \"Experiment metadata\" under the column \"Number of cells in sample\":\n",
    "\n",
    "$$attomoles\\ per\\ cell\\ =\\frac{attomoles\\ per\\ sample\\ }{cells\\ in\\ sample}$$"
   ]
  },
  {
   "cell_type": "code",
   "execution_count": 6,
   "metadata": {},
   "outputs": [],
   "source": [
    "# get transcript lengths from the gff file (uncomment if needed, the length are already saved in the file transcript_lengths.csv):\n",
    "\"\"\"\n",
    "import gffpandas.gffpandas as gffpd\n",
    "import pandas as pd\n",
    "\n",
    "gff_file_loc = '..\\Genome_files\\gffFile_combined.gff'\n",
    "transcript_lengths = get_length_from_gff(gff_file_loc)\n",
    "transcript_lengths.to_csv('normalizion_help_functions_and_info_tables/transcript_lengths.csv')\n",
    "\"\"\"\n",
    "\n",
    "\n",
    "# Get the transcript lengths:\n",
    "transcript_lengths = pd.read_csv('normalizion_help_functions_and_info_tables/transcript_lengths.csv')\n",
    "transcript_lengths_map = dict(zip(transcript_lengths['ID'],transcript_lengths['length']))\n",
    "\n",
    "# Calculate the RPK:\n",
    "RPK = raw_reads.copy()\n",
    "RPK['length'] = RPK['ID'].map(transcript_lengths_map)\n",
    "RPK['RPK'] = RPK['data']/(RPK['length']/1000)\n",
    "RPK = RPK.drop(columns=['data'])\n",
    "\n",
    "# Calculate the RPK for the ERCC spike-ins:\n",
    "RPK_ERCC = raw_reads_ERCC.copy()\n",
    "RPK_ERCC['length'] = RPK_ERCC['ID'].map(transcript_lengths_map)\n",
    "RPK_ERCC['RPK'] = RPK_ERCC['data']/(RPK_ERCC['length']/1000)\n",
    "RPK_ERCC = RPK_ERCC.drop(columns=['data'])\n",
    "\n",
    "\n"
   ]
  },
  {
   "cell_type": "code",
   "execution_count": 7,
   "metadata": {},
   "outputs": [
    {
     "data": {
      "text/plain": [
       "{'CASP_biorep4': {'m': 0.9994356852708378,\n",
       "  'c': 6.739996111223491,\n",
       "  'r2': 0.9680413717596051},\n",
       " 'CASP_biorep2': {'m': 0.9846284629786842,\n",
       "  'c': 6.83732021982415,\n",
       "  'r2': 0.9719791901673394},\n",
       " 'Disrupted_biorep2': {'m': 0.9770832006868032,\n",
       "  'c': 5.844344425251942,\n",
       "  'r2': 0.9702719711572231},\n",
       " 'Disrupted_biorep4': {'m': 0.9494078148771999,\n",
       "  'c': 5.207922711298116,\n",
       "  'r2': 0.9703451462658139},\n",
       " 'Disrupted_biorep1a': {'m': 0.9912814866885004,\n",
       "  'c': 6.133681687752506,\n",
       "  'r2': 0.9671374429389816},\n",
       " 'CASP_biorep1a': {'m': 0.9926203592150387,\n",
       "  'c': 7.186296097096157,\n",
       "  'r2': 0.9728729693023916},\n",
       " 'CASP_biorep3': {'m': 0.9893746210619769,\n",
       "  'c': 6.817603351757707,\n",
       "  'r2': 0.9678673015541115},\n",
       " 'Disrupted_biorep1c': {'m': 0.9645119868848481,\n",
       "  'c': 6.092382275228463,\n",
       "  'r2': 0.963027935622581},\n",
       " 'CASP_biorep1c': {'m': 0.9810653979662296,\n",
       "  'c': 7.2286311842887905,\n",
       "  'r2': 0.9731861715697676},\n",
       " 'Disrupted_biorep3': {'m': 0.9560903734214022,\n",
       "  'c': 5.786210027857781,\n",
       "  'r2': 0.9532805971140725},\n",
       " 'CASP_biorep1b': {'m': 0.9827380810235988,\n",
       "  'c': 6.36947742366267,\n",
       "  'r2': 0.9729653214098541},\n",
       " 'Disrupted_biorep1b': {'m': 1.005565995851349,\n",
       "  'c': 6.794672090108757,\n",
       "  'r2': 0.9648309590064221}}"
      ]
     },
     "execution_count": 7,
     "metadata": {},
     "output_type": "execute_result"
    }
   ],
   "source": [
    "# calculate the ERCC attomoles in each sample:\n",
    "sample_data_loc = '..//Experiment metadata//'+Experiment_name+'.csv'\n",
    "ERCC_info_loc = 'normalizion_help_functions_and_info_tables/ERCC_info.csv'\n",
    "\n",
    "RPK_ERCC = calculate_ERCC_attomoles_in_sample(RPK_ERCC,sample_data_loc,ERCC_info_loc)\n",
    "\n",
    "# Calculate the ERCC normalization parameters for each sample:\n",
    "\n",
    "# set the limit of ERCC attomoles in sample above which the fit will be done: \n",
    "samples = list(set(RPK_ERCC['file']))\n",
    "x_DL_map = {sample:0.01 for sample in samples}\n",
    "\n",
    "# set the ERCCs to ignore in the fit:\n",
    "ignore_ERCCs = ['ERCC-00054']\n",
    "\n",
    "parameter_map = find_ERCC_normalization_parameters(RPK_ERCC,x_DL_map,ignore_ERCCs)\n",
    "parameter_map"
   ]
  },
  {
   "cell_type": "code",
   "execution_count": 8,
   "metadata": {},
   "outputs": [
    {
     "data": {
      "text/html": [
       "<div>\n",
       "<style scoped>\n",
       "    .dataframe tbody tr th:only-of-type {\n",
       "        vertical-align: middle;\n",
       "    }\n",
       "\n",
       "    .dataframe tbody tr th {\n",
       "        vertical-align: top;\n",
       "    }\n",
       "\n",
       "    .dataframe thead th {\n",
       "        text-align: right;\n",
       "    }\n",
       "</style>\n",
       "<table border=\"1\" class=\"dataframe\">\n",
       "  <thead>\n",
       "    <tr style=\"text-align: right;\">\n",
       "      <th></th>\n",
       "      <th>file</th>\n",
       "      <th>m</th>\n",
       "      <th>c</th>\n",
       "    </tr>\n",
       "  </thead>\n",
       "  <tbody>\n",
       "    <tr>\n",
       "      <th>0</th>\n",
       "      <td>CASP_biorep4</td>\n",
       "      <td>0.999436</td>\n",
       "      <td>6.739996</td>\n",
       "    </tr>\n",
       "    <tr>\n",
       "      <th>1</th>\n",
       "      <td>CASP_biorep2</td>\n",
       "      <td>0.984628</td>\n",
       "      <td>6.837320</td>\n",
       "    </tr>\n",
       "    <tr>\n",
       "      <th>2</th>\n",
       "      <td>Disrupted_biorep2</td>\n",
       "      <td>0.977083</td>\n",
       "      <td>5.844344</td>\n",
       "    </tr>\n",
       "    <tr>\n",
       "      <th>3</th>\n",
       "      <td>Disrupted_biorep4</td>\n",
       "      <td>0.949408</td>\n",
       "      <td>5.207923</td>\n",
       "    </tr>\n",
       "    <tr>\n",
       "      <th>4</th>\n",
       "      <td>Disrupted_biorep1a</td>\n",
       "      <td>0.991281</td>\n",
       "      <td>6.133682</td>\n",
       "    </tr>\n",
       "    <tr>\n",
       "      <th>5</th>\n",
       "      <td>CASP_biorep1a</td>\n",
       "      <td>0.992620</td>\n",
       "      <td>7.186296</td>\n",
       "    </tr>\n",
       "    <tr>\n",
       "      <th>6</th>\n",
       "      <td>CASP_biorep3</td>\n",
       "      <td>0.989375</td>\n",
       "      <td>6.817603</td>\n",
       "    </tr>\n",
       "    <tr>\n",
       "      <th>7</th>\n",
       "      <td>Disrupted_biorep1c</td>\n",
       "      <td>0.964512</td>\n",
       "      <td>6.092382</td>\n",
       "    </tr>\n",
       "    <tr>\n",
       "      <th>8</th>\n",
       "      <td>CASP_biorep1c</td>\n",
       "      <td>0.981065</td>\n",
       "      <td>7.228631</td>\n",
       "    </tr>\n",
       "    <tr>\n",
       "      <th>9</th>\n",
       "      <td>Disrupted_biorep3</td>\n",
       "      <td>0.956090</td>\n",
       "      <td>5.786210</td>\n",
       "    </tr>\n",
       "    <tr>\n",
       "      <th>10</th>\n",
       "      <td>CASP_biorep1b</td>\n",
       "      <td>0.982738</td>\n",
       "      <td>6.369477</td>\n",
       "    </tr>\n",
       "    <tr>\n",
       "      <th>11</th>\n",
       "      <td>Disrupted_biorep1b</td>\n",
       "      <td>1.005566</td>\n",
       "      <td>6.794672</td>\n",
       "    </tr>\n",
       "  </tbody>\n",
       "</table>\n",
       "</div>"
      ],
      "text/plain": [
       "                  file         m         c\n",
       "0         CASP_biorep4  0.999436  6.739996\n",
       "1         CASP_biorep2  0.984628  6.837320\n",
       "2    Disrupted_biorep2  0.977083  5.844344\n",
       "3    Disrupted_biorep4  0.949408  5.207923\n",
       "4   Disrupted_biorep1a  0.991281  6.133682\n",
       "5        CASP_biorep1a  0.992620  7.186296\n",
       "6         CASP_biorep3  0.989375  6.817603\n",
       "7   Disrupted_biorep1c  0.964512  6.092382\n",
       "8        CASP_biorep1c  0.981065  7.228631\n",
       "9    Disrupted_biorep3  0.956090  5.786210\n",
       "10       CASP_biorep1b  0.982738  6.369477\n",
       "11  Disrupted_biorep1b  1.005566  6.794672"
      ]
     },
     "execution_count": 8,
     "metadata": {},
     "output_type": "execute_result"
    }
   ],
   "source": [
    "parameter_map_pd = pd.DataFrame()\n",
    "parameter_map_pd['file'] = list(parameter_map.keys())\n",
    "parameter_map_pd['m'] = [parameter_map[file]['m'] for file in parameter_map_pd['file']]\n",
    "parameter_map_pd['c'] = [parameter_map[file]['c'] for file in parameter_map_pd['file']]\n",
    "parameter_map_pd.to_csv('exp.csv')\n",
    "parameter_map_pd"
   ]
  },
  {
   "cell_type": "code",
   "execution_count": 9,
   "metadata": {},
   "outputs": [
    {
     "name": "stderr",
     "output_type": "stream",
     "text": [
      "C:\\Users\\adiro\\AppData\\Local\\Temp\\ipykernel_32200\\2061613557.py:205: SettingWithCopyWarning: \n",
      "A value is trying to be set on a copy of a slice from a DataFrame.\n",
      "Try using .loc[row_indexer,col_indexer] = value instead\n",
      "\n",
      "See the caveats in the documentation: https://pandas.pydata.org/pandas-docs/stable/user_guide/indexing.html#returning-a-view-versus-a-copy\n",
      "  ERCC_pd['in_fit'] = ERCC_pd['ID'].apply(lambda x: 'in fit' if x not in ignore_ERCCs else 'not in fit')\n"
     ]
    },
    {
     "data": {
      "application/vnd.plotly.v1+json": {
       "config": {
        "plotlyServerURL": "https://plot.ly"
       },
       "data": [
        {
         "hovertemplate": "<b>%{hovertext}</b><br><br>in_fit=in fit<br>ERCC_attomoles_in_sample=%{x}<br>RPK=%{y}<extra></extra>",
         "hovertext": [
          "ERCC-00002",
          "ERCC-00003",
          "ERCC-00004",
          "ERCC-00009",
          "ERCC-00012",
          "ERCC-00013",
          "ERCC-00014",
          "ERCC-00016",
          "ERCC-00017",
          "ERCC-00019",
          "ERCC-00022",
          "ERCC-00024",
          "ERCC-00025",
          "ERCC-00028",
          "ERCC-00031",
          "ERCC-00033",
          "ERCC-00034",
          "ERCC-00035",
          "ERCC-00039",
          "ERCC-00040",
          "ERCC-00041",
          "ERCC-00042",
          "ERCC-00043",
          "ERCC-00044",
          "ERCC-00046",
          "ERCC-00048",
          "ERCC-00051",
          "ERCC-00053",
          "ERCC-00057",
          "ERCC-00058",
          "ERCC-00059",
          "ERCC-00060",
          "ERCC-00061",
          "ERCC-00062",
          "ERCC-00067",
          "ERCC-00069",
          "ERCC-00071",
          "ERCC-00073",
          "ERCC-00074",
          "ERCC-00075",
          "ERCC-00076",
          "ERCC-00077",
          "ERCC-00078",
          "ERCC-00079",
          "ERCC-00081",
          "ERCC-00083",
          "ERCC-00084",
          "ERCC-00085",
          "ERCC-00086",
          "ERCC-00092",
          "ERCC-00095",
          "ERCC-00096",
          "ERCC-00097",
          "ERCC-00098",
          "ERCC-00099",
          "ERCC-00104",
          "ERCC-00108",
          "ERCC-00109",
          "ERCC-00111",
          "ERCC-00112",
          "ERCC-00113",
          "ERCC-00116",
          "ERCC-00117",
          "ERCC-00120",
          "ERCC-00123",
          "ERCC-00126",
          "ERCC-00130",
          "ERCC-00131",
          "ERCC-00134",
          "ERCC-00136",
          "ERCC-00137",
          "ERCC-00138",
          "ERCC-00142",
          "ERCC-00143",
          "ERCC-00144",
          "ERCC-00145",
          "ERCC-00147",
          "ERCC-00148",
          "ERCC-00150",
          "ERCC-00154",
          "ERCC-00156",
          "ERCC-00157",
          "ERCC-00158",
          "ERCC-00160",
          "ERCC-00162",
          "ERCC-00163",
          "ERCC-00164",
          "ERCC-00165",
          "ERCC-00168",
          "ERCC-00170",
          "ERCC-00171"
         ],
         "legendgroup": "in fit",
         "marker": {
          "color": "#636efa",
          "symbol": "circle"
         },
         "mode": "markers",
         "name": "in fit",
         "orientation": "h",
         "showlegend": true,
         "type": "scatter",
         "x": [
          487.5,
          30.46875,
          243.75,
          30.46875,
          0.0037193299,
          0.02975463855,
          0.11901855485000001,
          0.0074386598,
          0.0037193299,
          0.9521484375,
          7.6171875,
          0.0074386598,
          1.904296875,
          0.11901855485000001,
          0.05950927742500001,
          0.05950927742500001,
          0.238037109375,
          3.80859375,
          0.11901855485000001,
          0.02975463855,
          0.0074386598,
          15.234375,
          15.234375,
          3.80859375,
          121.875,
          0.0004649164,
          1.904296875,
          0.9521484375,
          0.0004649164,
          0.05950927742500001,
          0.47607421875,
          7.6171875,
          0.00185966495,
          1.904296875,
          0.11901855485000001,
          0.05950927742500001,
          1.904296875,
          0.02975463855,
          487.5,
          0.0004649164,
          7.6171875,
          0.11901855485000001,
          0.9521484375,
          1.904296875,
          0.0074386598,
          0.000929832475,
          0.9521484375,
          0.238037109375,
          0.0037193299,
          7.6171875,
          3.80859375,
          487.5,
          0.014877319275,
          0.00185966495,
          0.47607421875,
          0.0074386598,
          30.46875,
          0.02975463855,
          15.234375,
          3.80859375,
          121.875,
          15.234375,
          0.00185966495,
          0.02975463855,
          0.0074386598,
          0.47607421875,
          975,
          3.80859375,
          0.05950927742500001,
          60.9375,
          0.02975463855,
          0.0037193299,
          0.0074386598,
          0.11901855485000001,
          0.9521484375,
          30.46875,
          0.02975463855,
          0.47607421875,
          0.11901855485000001,
          0.238037109375,
          0.014877319275,
          0.238037109375,
          0.014877319275,
          0.238037109375,
          1.904296875,
          0.47607421875,
          0.014877319275,
          1.904296875,
          0.014877319275,
          0.47607421875,
          121.875
         ],
         "xaxis": "x",
         "y": [
          430616.3996229972,
          41294.23264907136,
          268726.5774378585,
          19100.60975609756,
          2.0120724346076457,
          40.84158415841584,
          104.75217169136432,
          5.924170616113744,
          2.6408450704225355,
          916.1490683229813,
          4812.250332889481,
          1.8656716417910446,
          1882.1464393179538,
          99.11504424778762,
          46.57293497363796,
          40.553907022749755,
          515.2109911678116,
          2781.41592920354,
          91.89189189189189,
          22.8494623655914,
          11.58645276292335,
          16340.17595307918,
          12075.268817204302,
          3113.321799307959,
          153998.08429118773,
          0,
          613.1386861313869,
          819.1593352883676,
          0.9794319294809012,
          58.09859154929578,
          403.8095238095238,
          11338.432122370936,
          0.8802816901408451,
          1982.4046920821115,
          62.11180124223603,
          95.86631486367634,
          1428.3489096573207,
          39.800995024875625,
          508553.63984674326,
          4.887585532746823,
          2900.3115264797507,
          36.63003663003663,
          1145.0151057401813,
          1728.2608695652173,
          3.745318352059925,
          2.935420743639922,
          963.7826961770623,
          213.27014218009478,
          2.941176470588235,
          9037.366548042704,
          5464.491362763915,
          600943.0894308944,
          24.8565965583174,
          5.2493438320209975,
          399.25925925925924,
          0.9891196834817014,
          24341.487279843444,
          13.059701492537313,
          10920.523138832998,
          4118.838028169014,
          127065.4761904762,
          17068.809643395278,
          0.8802816901408451,
          7.462686567164178,
          9.784735812133071,
          202.14669051878352,
          793985.835694051,
          5210.11673151751,
          7.2992700729927,
          37540.17424975799,
          13.035381750465548,
          2.9296875,
          2.028397565922921,
          131.37755102040816,
          648.6988847583642,
          13798.464491362764,
          11.730205278592376,
          147.77327935222672,
          92.86675639300135,
          139.66480446927375,
          8.097165991902834,
          390.5789990186458,
          20.44790652385589,
          559.892328398385,
          1959.8470363288718,
          460.4051565377532,
          13.698630136986301,
          1889.908256880734,
          30.2734375,
          682.3069403714566,
          105477.22772277228
         ],
         "yaxis": "y"
        },
        {
         "hovertemplate": "<b>%{hovertext}</b><br><br>in_fit=not in fit<br>ERCC_attomoles_in_sample=%{x}<br>RPK=%{y}<extra></extra>",
         "hovertext": [
          "ERCC-00054"
         ],
         "legendgroup": "not in fit",
         "marker": {
          "color": "#EF553B",
          "symbol": "circle"
         },
         "mode": "markers",
         "name": "not in fit",
         "orientation": "h",
         "showlegend": true,
         "type": "scatter",
         "x": [
          0.47607421875
         ],
         "xaxis": "x",
         "y": [
          7.2992700729927
         ],
         "yaxis": "y"
        },
        {
         "mode": "lines",
         "name": "CASP_biorep4",
         "type": "scatter",
         "x": [
          0.01,
          975
         ],
         "y": [
          8.47757710816399,
          821222.7945758054
         ]
        }
       ],
       "layout": {
        "annotations": [
         {
          "align": "left",
          "bordercolor": "black",
          "borderwidth": 1,
          "showarrow": false,
          "text": "fit of log(y) Vs log(x), paremeters: log(y) = m*log(x)+c",
          "x": 0.4,
          "xanchor": "left",
          "xref": "paper",
          "y": 1,
          "yref": "paper"
         },
         {
          "align": "left",
          "bordercolor": "black",
          "borderwidth": 1,
          "showarrow": false,
          "text": "fit in the range ERCC attomoles in sample [0.01,975.00]",
          "x": 0.4,
          "xanchor": "left",
          "xref": "paper",
          "y": 0.9,
          "yref": "paper"
         },
         {
          "align": "left",
          "bordercolor": "black",
          "borderwidth": 1,
          "showarrow": false,
          "text": "the slop in log scale: m = 1.00",
          "x": 0.4,
          "xanchor": "left",
          "xref": "paper",
          "y": 0.8,
          "yref": "paper"
         },
         {
          "align": "left",
          "bordercolor": "black",
          "borderwidth": 1,
          "showarrow": false,
          "text": "the intercept in log scale: c = 6.74",
          "x": 0.4,
          "xanchor": "left",
          "xref": "paper",
          "y": 0.7,
          "yref": "paper"
         },
         {
          "align": "left",
          "bordercolor": "black",
          "borderwidth": 1,
          "showarrow": false,
          "text": "",
          "x": 0.4,
          "xanchor": "left",
          "xref": "paper",
          "y": 0.6,
          "yref": "paper"
         },
         {
          "align": "left",
          "bordercolor": "black",
          "borderwidth": 1,
          "showarrow": false,
          "text": "log(y) = m*log(x)+c --> y = e^c * x^m",
          "x": 0.4,
          "xanchor": "left",
          "xref": "paper",
          "y": 0.5,
          "yref": "paper"
         },
         {
          "align": "left",
          "bordercolor": "black",
          "borderwidth": 1,
          "showarrow": false,
          "text": "the slope in linear scale: e^c = 8.46E+02",
          "x": 0.4,
          "xanchor": "left",
          "xref": "paper",
          "y": 0.3999999999999999,
          "yref": "paper"
         },
         {
          "align": "left",
          "bordercolor": "black",
          "borderwidth": 1,
          "showarrow": false,
          "text": "R^2 = 0.97",
          "x": 0.4,
          "xanchor": "left",
          "xref": "paper",
          "y": 0.29999999999999993,
          "yref": "paper"
         },
         {
          "align": "left",
          "bordercolor": "black",
          "borderwidth": 1,
          "showarrow": false,
          "text": "",
          "x": 0.4,
          "xanchor": "left",
          "xref": "paper",
          "y": 0.19999999999999996,
          "yref": "paper"
         },
         {
          "align": "left",
          "bordercolor": "black",
          "borderwidth": 1,
          "showarrow": false,
          "text": "ERCCs with no reads detected",
          "x": 0.4,
          "xanchor": "left",
          "xref": "paper",
          "y": 0.09999999999999998,
          "yref": "paper"
         },
         {
          "align": "left",
          "bordercolor": "black",
          "borderwidth": 1,
          "showarrow": false,
          "text": " not fitted and not shown",
          "x": 0.4,
          "xanchor": "left",
          "xref": "paper",
          "y": 0,
          "yref": "paper"
         }
        ],
        "font": {
         "size": 24
        },
        "height": 600,
        "legend": {
         "title": {
          "text": "in_fit"
         },
         "tracegroupgap": 0
        },
        "margin": {
         "t": 60
        },
        "template": {
         "data": {
          "bar": [
           {
            "error_x": {
             "color": "#2a3f5f"
            },
            "error_y": {
             "color": "#2a3f5f"
            },
            "marker": {
             "line": {
              "color": "#E5ECF6",
              "width": 0.5
             },
             "pattern": {
              "fillmode": "overlay",
              "size": 10,
              "solidity": 0.2
             }
            },
            "type": "bar"
           }
          ],
          "barpolar": [
           {
            "marker": {
             "line": {
              "color": "#E5ECF6",
              "width": 0.5
             },
             "pattern": {
              "fillmode": "overlay",
              "size": 10,
              "solidity": 0.2
             }
            },
            "type": "barpolar"
           }
          ],
          "carpet": [
           {
            "aaxis": {
             "endlinecolor": "#2a3f5f",
             "gridcolor": "white",
             "linecolor": "white",
             "minorgridcolor": "white",
             "startlinecolor": "#2a3f5f"
            },
            "baxis": {
             "endlinecolor": "#2a3f5f",
             "gridcolor": "white",
             "linecolor": "white",
             "minorgridcolor": "white",
             "startlinecolor": "#2a3f5f"
            },
            "type": "carpet"
           }
          ],
          "choropleth": [
           {
            "colorbar": {
             "outlinewidth": 0,
             "ticks": ""
            },
            "type": "choropleth"
           }
          ],
          "contour": [
           {
            "colorbar": {
             "outlinewidth": 0,
             "ticks": ""
            },
            "colorscale": [
             [
              0,
              "#0d0887"
             ],
             [
              0.1111111111111111,
              "#46039f"
             ],
             [
              0.2222222222222222,
              "#7201a8"
             ],
             [
              0.3333333333333333,
              "#9c179e"
             ],
             [
              0.4444444444444444,
              "#bd3786"
             ],
             [
              0.5555555555555556,
              "#d8576b"
             ],
             [
              0.6666666666666666,
              "#ed7953"
             ],
             [
              0.7777777777777778,
              "#fb9f3a"
             ],
             [
              0.8888888888888888,
              "#fdca26"
             ],
             [
              1,
              "#f0f921"
             ]
            ],
            "type": "contour"
           }
          ],
          "contourcarpet": [
           {
            "colorbar": {
             "outlinewidth": 0,
             "ticks": ""
            },
            "type": "contourcarpet"
           }
          ],
          "heatmap": [
           {
            "colorbar": {
             "outlinewidth": 0,
             "ticks": ""
            },
            "colorscale": [
             [
              0,
              "#0d0887"
             ],
             [
              0.1111111111111111,
              "#46039f"
             ],
             [
              0.2222222222222222,
              "#7201a8"
             ],
             [
              0.3333333333333333,
              "#9c179e"
             ],
             [
              0.4444444444444444,
              "#bd3786"
             ],
             [
              0.5555555555555556,
              "#d8576b"
             ],
             [
              0.6666666666666666,
              "#ed7953"
             ],
             [
              0.7777777777777778,
              "#fb9f3a"
             ],
             [
              0.8888888888888888,
              "#fdca26"
             ],
             [
              1,
              "#f0f921"
             ]
            ],
            "type": "heatmap"
           }
          ],
          "heatmapgl": [
           {
            "colorbar": {
             "outlinewidth": 0,
             "ticks": ""
            },
            "colorscale": [
             [
              0,
              "#0d0887"
             ],
             [
              0.1111111111111111,
              "#46039f"
             ],
             [
              0.2222222222222222,
              "#7201a8"
             ],
             [
              0.3333333333333333,
              "#9c179e"
             ],
             [
              0.4444444444444444,
              "#bd3786"
             ],
             [
              0.5555555555555556,
              "#d8576b"
             ],
             [
              0.6666666666666666,
              "#ed7953"
             ],
             [
              0.7777777777777778,
              "#fb9f3a"
             ],
             [
              0.8888888888888888,
              "#fdca26"
             ],
             [
              1,
              "#f0f921"
             ]
            ],
            "type": "heatmapgl"
           }
          ],
          "histogram": [
           {
            "marker": {
             "pattern": {
              "fillmode": "overlay",
              "size": 10,
              "solidity": 0.2
             }
            },
            "type": "histogram"
           }
          ],
          "histogram2d": [
           {
            "colorbar": {
             "outlinewidth": 0,
             "ticks": ""
            },
            "colorscale": [
             [
              0,
              "#0d0887"
             ],
             [
              0.1111111111111111,
              "#46039f"
             ],
             [
              0.2222222222222222,
              "#7201a8"
             ],
             [
              0.3333333333333333,
              "#9c179e"
             ],
             [
              0.4444444444444444,
              "#bd3786"
             ],
             [
              0.5555555555555556,
              "#d8576b"
             ],
             [
              0.6666666666666666,
              "#ed7953"
             ],
             [
              0.7777777777777778,
              "#fb9f3a"
             ],
             [
              0.8888888888888888,
              "#fdca26"
             ],
             [
              1,
              "#f0f921"
             ]
            ],
            "type": "histogram2d"
           }
          ],
          "histogram2dcontour": [
           {
            "colorbar": {
             "outlinewidth": 0,
             "ticks": ""
            },
            "colorscale": [
             [
              0,
              "#0d0887"
             ],
             [
              0.1111111111111111,
              "#46039f"
             ],
             [
              0.2222222222222222,
              "#7201a8"
             ],
             [
              0.3333333333333333,
              "#9c179e"
             ],
             [
              0.4444444444444444,
              "#bd3786"
             ],
             [
              0.5555555555555556,
              "#d8576b"
             ],
             [
              0.6666666666666666,
              "#ed7953"
             ],
             [
              0.7777777777777778,
              "#fb9f3a"
             ],
             [
              0.8888888888888888,
              "#fdca26"
             ],
             [
              1,
              "#f0f921"
             ]
            ],
            "type": "histogram2dcontour"
           }
          ],
          "mesh3d": [
           {
            "colorbar": {
             "outlinewidth": 0,
             "ticks": ""
            },
            "type": "mesh3d"
           }
          ],
          "parcoords": [
           {
            "line": {
             "colorbar": {
              "outlinewidth": 0,
              "ticks": ""
             }
            },
            "type": "parcoords"
           }
          ],
          "pie": [
           {
            "automargin": true,
            "type": "pie"
           }
          ],
          "scatter": [
           {
            "marker": {
             "colorbar": {
              "outlinewidth": 0,
              "ticks": ""
             }
            },
            "type": "scatter"
           }
          ],
          "scatter3d": [
           {
            "line": {
             "colorbar": {
              "outlinewidth": 0,
              "ticks": ""
             }
            },
            "marker": {
             "colorbar": {
              "outlinewidth": 0,
              "ticks": ""
             }
            },
            "type": "scatter3d"
           }
          ],
          "scattercarpet": [
           {
            "marker": {
             "colorbar": {
              "outlinewidth": 0,
              "ticks": ""
             }
            },
            "type": "scattercarpet"
           }
          ],
          "scattergeo": [
           {
            "marker": {
             "colorbar": {
              "outlinewidth": 0,
              "ticks": ""
             }
            },
            "type": "scattergeo"
           }
          ],
          "scattergl": [
           {
            "marker": {
             "colorbar": {
              "outlinewidth": 0,
              "ticks": ""
             }
            },
            "type": "scattergl"
           }
          ],
          "scattermapbox": [
           {
            "marker": {
             "colorbar": {
              "outlinewidth": 0,
              "ticks": ""
             }
            },
            "type": "scattermapbox"
           }
          ],
          "scatterpolar": [
           {
            "marker": {
             "colorbar": {
              "outlinewidth": 0,
              "ticks": ""
             }
            },
            "type": "scatterpolar"
           }
          ],
          "scatterpolargl": [
           {
            "marker": {
             "colorbar": {
              "outlinewidth": 0,
              "ticks": ""
             }
            },
            "type": "scatterpolargl"
           }
          ],
          "scatterternary": [
           {
            "marker": {
             "colorbar": {
              "outlinewidth": 0,
              "ticks": ""
             }
            },
            "type": "scatterternary"
           }
          ],
          "surface": [
           {
            "colorbar": {
             "outlinewidth": 0,
             "ticks": ""
            },
            "colorscale": [
             [
              0,
              "#0d0887"
             ],
             [
              0.1111111111111111,
              "#46039f"
             ],
             [
              0.2222222222222222,
              "#7201a8"
             ],
             [
              0.3333333333333333,
              "#9c179e"
             ],
             [
              0.4444444444444444,
              "#bd3786"
             ],
             [
              0.5555555555555556,
              "#d8576b"
             ],
             [
              0.6666666666666666,
              "#ed7953"
             ],
             [
              0.7777777777777778,
              "#fb9f3a"
             ],
             [
              0.8888888888888888,
              "#fdca26"
             ],
             [
              1,
              "#f0f921"
             ]
            ],
            "type": "surface"
           }
          ],
          "table": [
           {
            "cells": {
             "fill": {
              "color": "#EBF0F8"
             },
             "line": {
              "color": "white"
             }
            },
            "header": {
             "fill": {
              "color": "#C8D4E3"
             },
             "line": {
              "color": "white"
             }
            },
            "type": "table"
           }
          ]
         },
         "layout": {
          "annotationdefaults": {
           "arrowcolor": "#2a3f5f",
           "arrowhead": 0,
           "arrowwidth": 1
          },
          "autotypenumbers": "strict",
          "coloraxis": {
           "colorbar": {
            "outlinewidth": 0,
            "ticks": ""
           }
          },
          "colorscale": {
           "diverging": [
            [
             0,
             "#8e0152"
            ],
            [
             0.1,
             "#c51b7d"
            ],
            [
             0.2,
             "#de77ae"
            ],
            [
             0.3,
             "#f1b6da"
            ],
            [
             0.4,
             "#fde0ef"
            ],
            [
             0.5,
             "#f7f7f7"
            ],
            [
             0.6,
             "#e6f5d0"
            ],
            [
             0.7,
             "#b8e186"
            ],
            [
             0.8,
             "#7fbc41"
            ],
            [
             0.9,
             "#4d9221"
            ],
            [
             1,
             "#276419"
            ]
           ],
           "sequential": [
            [
             0,
             "#0d0887"
            ],
            [
             0.1111111111111111,
             "#46039f"
            ],
            [
             0.2222222222222222,
             "#7201a8"
            ],
            [
             0.3333333333333333,
             "#9c179e"
            ],
            [
             0.4444444444444444,
             "#bd3786"
            ],
            [
             0.5555555555555556,
             "#d8576b"
            ],
            [
             0.6666666666666666,
             "#ed7953"
            ],
            [
             0.7777777777777778,
             "#fb9f3a"
            ],
            [
             0.8888888888888888,
             "#fdca26"
            ],
            [
             1,
             "#f0f921"
            ]
           ],
           "sequentialminus": [
            [
             0,
             "#0d0887"
            ],
            [
             0.1111111111111111,
             "#46039f"
            ],
            [
             0.2222222222222222,
             "#7201a8"
            ],
            [
             0.3333333333333333,
             "#9c179e"
            ],
            [
             0.4444444444444444,
             "#bd3786"
            ],
            [
             0.5555555555555556,
             "#d8576b"
            ],
            [
             0.6666666666666666,
             "#ed7953"
            ],
            [
             0.7777777777777778,
             "#fb9f3a"
            ],
            [
             0.8888888888888888,
             "#fdca26"
            ],
            [
             1,
             "#f0f921"
            ]
           ]
          },
          "colorway": [
           "#636efa",
           "#EF553B",
           "#00cc96",
           "#ab63fa",
           "#FFA15A",
           "#19d3f3",
           "#FF6692",
           "#B6E880",
           "#FF97FF",
           "#FECB52"
          ],
          "font": {
           "color": "#2a3f5f"
          },
          "geo": {
           "bgcolor": "white",
           "lakecolor": "white",
           "landcolor": "#E5ECF6",
           "showlakes": true,
           "showland": true,
           "subunitcolor": "white"
          },
          "hoverlabel": {
           "align": "left"
          },
          "hovermode": "closest",
          "mapbox": {
           "style": "light"
          },
          "paper_bgcolor": "white",
          "plot_bgcolor": "#E5ECF6",
          "polar": {
           "angularaxis": {
            "gridcolor": "white",
            "linecolor": "white",
            "ticks": ""
           },
           "bgcolor": "#E5ECF6",
           "radialaxis": {
            "gridcolor": "white",
            "linecolor": "white",
            "ticks": ""
           }
          },
          "scene": {
           "xaxis": {
            "backgroundcolor": "#E5ECF6",
            "gridcolor": "white",
            "gridwidth": 2,
            "linecolor": "white",
            "showbackground": true,
            "ticks": "",
            "zerolinecolor": "white"
           },
           "yaxis": {
            "backgroundcolor": "#E5ECF6",
            "gridcolor": "white",
            "gridwidth": 2,
            "linecolor": "white",
            "showbackground": true,
            "ticks": "",
            "zerolinecolor": "white"
           },
           "zaxis": {
            "backgroundcolor": "#E5ECF6",
            "gridcolor": "white",
            "gridwidth": 2,
            "linecolor": "white",
            "showbackground": true,
            "ticks": "",
            "zerolinecolor": "white"
           }
          },
          "shapedefaults": {
           "line": {
            "color": "#2a3f5f"
           }
          },
          "ternary": {
           "aaxis": {
            "gridcolor": "white",
            "linecolor": "white",
            "ticks": ""
           },
           "baxis": {
            "gridcolor": "white",
            "linecolor": "white",
            "ticks": ""
           },
           "bgcolor": "#E5ECF6",
           "caxis": {
            "gridcolor": "white",
            "linecolor": "white",
            "ticks": ""
           }
          },
          "title": {
           "x": 0.05
          },
          "xaxis": {
           "automargin": true,
           "gridcolor": "white",
           "linecolor": "white",
           "ticks": "",
           "title": {
            "standoff": 15
           },
           "zerolinecolor": "white",
           "zerolinewidth": 2
          },
          "yaxis": {
           "automargin": true,
           "gridcolor": "white",
           "linecolor": "white",
           "ticks": "",
           "title": {
            "standoff": 15
           },
           "zerolinecolor": "white",
           "zerolinewidth": 2
          }
         }
        },
        "width": 2000,
        "xaxis": {
         "anchor": "y",
         "domain": [
          0,
          1
         ],
         "range": [
          -3,
          15
         ],
         "title": {
          "text": "ERCC_attomoles_in_sample"
         },
         "type": "log"
        },
        "yaxis": {
         "anchor": "x",
         "domain": [
          0,
          1
         ],
         "title": {
          "text": "RPK"
         },
         "type": "log"
        }
       }
      }
     },
     "metadata": {},
     "output_type": "display_data"
    },
    {
     "name": "stderr",
     "output_type": "stream",
     "text": [
      "C:\\Users\\adiro\\AppData\\Local\\Temp\\ipykernel_32200\\2061613557.py:205: SettingWithCopyWarning:\n",
      "\n",
      "\n",
      "A value is trying to be set on a copy of a slice from a DataFrame.\n",
      "Try using .loc[row_indexer,col_indexer] = value instead\n",
      "\n",
      "See the caveats in the documentation: https://pandas.pydata.org/pandas-docs/stable/user_guide/indexing.html#returning-a-view-versus-a-copy\n",
      "\n"
     ]
    },
    {
     "data": {
      "application/vnd.plotly.v1+json": {
       "config": {
        "plotlyServerURL": "https://plot.ly"
       },
       "data": [
        {
         "hovertemplate": "<b>%{hovertext}</b><br><br>in_fit=in fit<br>ERCC_attomoles_in_sample=%{x}<br>RPK=%{y}<extra></extra>",
         "hovertext": [
          "ERCC-00002",
          "ERCC-00003",
          "ERCC-00004",
          "ERCC-00009",
          "ERCC-00012",
          "ERCC-00013",
          "ERCC-00014",
          "ERCC-00016",
          "ERCC-00017",
          "ERCC-00019",
          "ERCC-00022",
          "ERCC-00024",
          "ERCC-00025",
          "ERCC-00028",
          "ERCC-00031",
          "ERCC-00033",
          "ERCC-00034",
          "ERCC-00035",
          "ERCC-00039",
          "ERCC-00040",
          "ERCC-00041",
          "ERCC-00042",
          "ERCC-00043",
          "ERCC-00044",
          "ERCC-00046",
          "ERCC-00048",
          "ERCC-00051",
          "ERCC-00053",
          "ERCC-00057",
          "ERCC-00058",
          "ERCC-00059",
          "ERCC-00060",
          "ERCC-00061",
          "ERCC-00062",
          "ERCC-00067",
          "ERCC-00069",
          "ERCC-00071",
          "ERCC-00073",
          "ERCC-00074",
          "ERCC-00075",
          "ERCC-00076",
          "ERCC-00077",
          "ERCC-00078",
          "ERCC-00079",
          "ERCC-00081",
          "ERCC-00083",
          "ERCC-00084",
          "ERCC-00085",
          "ERCC-00086",
          "ERCC-00092",
          "ERCC-00095",
          "ERCC-00096",
          "ERCC-00097",
          "ERCC-00098",
          "ERCC-00099",
          "ERCC-00104",
          "ERCC-00108",
          "ERCC-00109",
          "ERCC-00111",
          "ERCC-00112",
          "ERCC-00113",
          "ERCC-00116",
          "ERCC-00117",
          "ERCC-00120",
          "ERCC-00123",
          "ERCC-00126",
          "ERCC-00130",
          "ERCC-00131",
          "ERCC-00134",
          "ERCC-00136",
          "ERCC-00137",
          "ERCC-00138",
          "ERCC-00142",
          "ERCC-00143",
          "ERCC-00144",
          "ERCC-00145",
          "ERCC-00147",
          "ERCC-00148",
          "ERCC-00150",
          "ERCC-00154",
          "ERCC-00156",
          "ERCC-00157",
          "ERCC-00158",
          "ERCC-00160",
          "ERCC-00162",
          "ERCC-00163",
          "ERCC-00164",
          "ERCC-00165",
          "ERCC-00168",
          "ERCC-00170",
          "ERCC-00171"
         ],
         "legendgroup": "in fit",
         "marker": {
          "color": "#636efa",
          "symbol": "circle"
         },
         "mode": "markers",
         "name": "in fit",
         "orientation": "h",
         "showlegend": true,
         "type": "scatter",
         "x": [
          487.5,
          30.46875,
          243.75,
          30.46875,
          0.0037193299,
          0.02975463855,
          0.11901855485000001,
          0.0074386598,
          0.0037193299,
          0.9521484375,
          7.6171875,
          0.0074386598,
          1.904296875,
          0.11901855485000001,
          0.05950927742500001,
          0.05950927742500001,
          0.238037109375,
          3.80859375,
          0.11901855485000001,
          0.02975463855,
          0.0074386598,
          15.234375,
          15.234375,
          3.80859375,
          121.875,
          0.0004649164,
          1.904296875,
          0.9521484375,
          0.0004649164,
          0.05950927742500001,
          0.47607421875,
          7.6171875,
          0.00185966495,
          1.904296875,
          0.11901855485000001,
          0.05950927742500001,
          1.904296875,
          0.02975463855,
          487.5,
          0.0004649164,
          7.6171875,
          0.11901855485000001,
          0.9521484375,
          1.904296875,
          0.0074386598,
          0.000929832475,
          0.9521484375,
          0.238037109375,
          0.0037193299,
          7.6171875,
          3.80859375,
          487.5,
          0.014877319275,
          0.00185966495,
          0.47607421875,
          0.0074386598,
          30.46875,
          0.02975463855,
          15.234375,
          3.80859375,
          121.875,
          15.234375,
          0.00185966495,
          0.02975463855,
          0.0074386598,
          0.47607421875,
          975,
          3.80859375,
          0.05950927742500001,
          60.9375,
          0.02975463855,
          0.0037193299,
          0.0074386598,
          0.11901855485000001,
          0.9521484375,
          30.46875,
          0.02975463855,
          0.47607421875,
          0.11901855485000001,
          0.238037109375,
          0.014877319275,
          0.238037109375,
          0.014877319275,
          0.238037109375,
          1.904296875,
          0.47607421875,
          0.014877319275,
          1.904296875,
          0.014877319275,
          0.47607421875,
          121.875
         ],
         "xaxis": "x",
         "y": [
          465531.5739868049,
          45484.84848484849,
          307005.73613766726,
          21473.577235772358,
          4.0241448692152915,
          21.03960396039604,
          117.52682677567705,
          5.924170616113744,
          4.401408450704226,
          1055.9006211180124,
          5181.091877496671,
          3.731343283582089,
          1996.9909729187564,
          92.9203539823009,
          47.45166959578208,
          35.1137487636004,
          556.4278704612366,
          2996.4601769911505,
          98.64864864864865,
          20.161290322580644,
          7.1301247771836,
          18078.20136852395,
          12451.612903225807,
          3321.7993079584776,
          166511.49425287356,
          1.0080645161290323,
          762.7737226277371,
          886.6080156402738,
          0.9794319294809012,
          59.85915492957747,
          476.19047619047615,
          11665.391969407265,
          0.8802816901408451,
          2061.5835777126103,
          110.24844720496894,
          77.39665787159191,
          1434.5794392523364,
          43.117744610281925,
          601185.8237547893,
          0.9775171065493647,
          3098.1308411214955,
          54.94505494505494,
          1229.607250755287,
          1753.1055900621118,
          1.8726591760299625,
          6.8493150684931505,
          946.6800804828974,
          204.97630331753555,
          6.862745098039215,
          9495.551601423487,
          6635.316698656429,
          649209.5754290876,
          13.38432122370937,
          8.748906386701663,
          435.55555555555554,
          5.934718100890208,
          26581.213307240705,
          13.059701492537313,
          11714.285714285714,
          4579.225352112677,
          138865.47619047618,
          17952.285283776997,
          2.6408450704225355,
          7.462686567164178,
          16.634050880626223,
          222.71914132379246,
          771179.4145420208,
          5523.994811932555,
          14.5985401459854,
          40766.69893514037,
          26.070763500931097,
          4.8828125,
          0,
          116.07142857142857,
          737.9182156133828,
          14757.197696737043,
          2.932551319648094,
          220.64777327935224,
          87.48317631224765,
          126.62942271880819,
          6.0728744939271255,
          406.28066732090286,
          14.605647517039923,
          547.7792732166891,
          2240.9177820267687,
          511.97053406998157,
          18.59099804305284,
          2107.798165137615,
          36.1328125,
          570.8699902248289,
          112326.73267326732
         ],
         "yaxis": "y"
        },
        {
         "hovertemplate": "<b>%{hovertext}</b><br><br>in_fit=not in fit<br>ERCC_attomoles_in_sample=%{x}<br>RPK=%{y}<extra></extra>",
         "hovertext": [
          "ERCC-00054"
         ],
         "legendgroup": "not in fit",
         "marker": {
          "color": "#EF553B",
          "symbol": "circle"
         },
         "mode": "markers",
         "name": "not in fit",
         "orientation": "h",
         "showlegend": true,
         "type": "scatter",
         "x": [
          0.47607421875
         ],
         "xaxis": "x",
         "y": [
          3.64963503649635
         ],
         "yaxis": "y"
        },
        {
         "mode": "lines",
         "name": "CASP_biorep2",
         "type": "scatter",
         "x": [
          0.01,
          975
         ],
         "y": [
          10.003535473285186,
          817465.5567415104
         ]
        }
       ],
       "layout": {
        "annotations": [
         {
          "align": "left",
          "bordercolor": "black",
          "borderwidth": 1,
          "showarrow": false,
          "text": "fit of log(y) Vs log(x), paremeters: log(y) = m*log(x)+c",
          "x": 0.4,
          "xanchor": "left",
          "xref": "paper",
          "y": 1,
          "yref": "paper"
         },
         {
          "align": "left",
          "bordercolor": "black",
          "borderwidth": 1,
          "showarrow": false,
          "text": "fit in the range ERCC attomoles in sample [0.01,975.00]",
          "x": 0.4,
          "xanchor": "left",
          "xref": "paper",
          "y": 0.9,
          "yref": "paper"
         },
         {
          "align": "left",
          "bordercolor": "black",
          "borderwidth": 1,
          "showarrow": false,
          "text": "the slop in log scale: m = 0.98",
          "x": 0.4,
          "xanchor": "left",
          "xref": "paper",
          "y": 0.8,
          "yref": "paper"
         },
         {
          "align": "left",
          "bordercolor": "black",
          "borderwidth": 1,
          "showarrow": false,
          "text": "the intercept in log scale: c = 6.84",
          "x": 0.4,
          "xanchor": "left",
          "xref": "paper",
          "y": 0.7,
          "yref": "paper"
         },
         {
          "align": "left",
          "bordercolor": "black",
          "borderwidth": 1,
          "showarrow": false,
          "text": "",
          "x": 0.4,
          "xanchor": "left",
          "xref": "paper",
          "y": 0.6,
          "yref": "paper"
         },
         {
          "align": "left",
          "bordercolor": "black",
          "borderwidth": 1,
          "showarrow": false,
          "text": "log(y) = m*log(x)+c --> y = e^c * x^m",
          "x": 0.4,
          "xanchor": "left",
          "xref": "paper",
          "y": 0.5,
          "yref": "paper"
         },
         {
          "align": "left",
          "bordercolor": "black",
          "borderwidth": 1,
          "showarrow": false,
          "text": "the slope in linear scale: e^c = 9.32E+02",
          "x": 0.4,
          "xanchor": "left",
          "xref": "paper",
          "y": 0.3999999999999999,
          "yref": "paper"
         },
         {
          "align": "left",
          "bordercolor": "black",
          "borderwidth": 1,
          "showarrow": false,
          "text": "R^2 = 0.97",
          "x": 0.4,
          "xanchor": "left",
          "xref": "paper",
          "y": 0.29999999999999993,
          "yref": "paper"
         },
         {
          "align": "left",
          "bordercolor": "black",
          "borderwidth": 1,
          "showarrow": false,
          "text": "",
          "x": 0.4,
          "xanchor": "left",
          "xref": "paper",
          "y": 0.19999999999999996,
          "yref": "paper"
         },
         {
          "align": "left",
          "bordercolor": "black",
          "borderwidth": 1,
          "showarrow": false,
          "text": "ERCCs with no reads detected",
          "x": 0.4,
          "xanchor": "left",
          "xref": "paper",
          "y": 0.09999999999999998,
          "yref": "paper"
         },
         {
          "align": "left",
          "bordercolor": "black",
          "borderwidth": 1,
          "showarrow": false,
          "text": " not fitted and not shown",
          "x": 0.4,
          "xanchor": "left",
          "xref": "paper",
          "y": 0,
          "yref": "paper"
         }
        ],
        "font": {
         "size": 24
        },
        "height": 600,
        "legend": {
         "title": {
          "text": "in_fit"
         },
         "tracegroupgap": 0
        },
        "margin": {
         "t": 60
        },
        "template": {
         "data": {
          "bar": [
           {
            "error_x": {
             "color": "#2a3f5f"
            },
            "error_y": {
             "color": "#2a3f5f"
            },
            "marker": {
             "line": {
              "color": "#E5ECF6",
              "width": 0.5
             },
             "pattern": {
              "fillmode": "overlay",
              "size": 10,
              "solidity": 0.2
             }
            },
            "type": "bar"
           }
          ],
          "barpolar": [
           {
            "marker": {
             "line": {
              "color": "#E5ECF6",
              "width": 0.5
             },
             "pattern": {
              "fillmode": "overlay",
              "size": 10,
              "solidity": 0.2
             }
            },
            "type": "barpolar"
           }
          ],
          "carpet": [
           {
            "aaxis": {
             "endlinecolor": "#2a3f5f",
             "gridcolor": "white",
             "linecolor": "white",
             "minorgridcolor": "white",
             "startlinecolor": "#2a3f5f"
            },
            "baxis": {
             "endlinecolor": "#2a3f5f",
             "gridcolor": "white",
             "linecolor": "white",
             "minorgridcolor": "white",
             "startlinecolor": "#2a3f5f"
            },
            "type": "carpet"
           }
          ],
          "choropleth": [
           {
            "colorbar": {
             "outlinewidth": 0,
             "ticks": ""
            },
            "type": "choropleth"
           }
          ],
          "contour": [
           {
            "colorbar": {
             "outlinewidth": 0,
             "ticks": ""
            },
            "colorscale": [
             [
              0,
              "#0d0887"
             ],
             [
              0.1111111111111111,
              "#46039f"
             ],
             [
              0.2222222222222222,
              "#7201a8"
             ],
             [
              0.3333333333333333,
              "#9c179e"
             ],
             [
              0.4444444444444444,
              "#bd3786"
             ],
             [
              0.5555555555555556,
              "#d8576b"
             ],
             [
              0.6666666666666666,
              "#ed7953"
             ],
             [
              0.7777777777777778,
              "#fb9f3a"
             ],
             [
              0.8888888888888888,
              "#fdca26"
             ],
             [
              1,
              "#f0f921"
             ]
            ],
            "type": "contour"
           }
          ],
          "contourcarpet": [
           {
            "colorbar": {
             "outlinewidth": 0,
             "ticks": ""
            },
            "type": "contourcarpet"
           }
          ],
          "heatmap": [
           {
            "colorbar": {
             "outlinewidth": 0,
             "ticks": ""
            },
            "colorscale": [
             [
              0,
              "#0d0887"
             ],
             [
              0.1111111111111111,
              "#46039f"
             ],
             [
              0.2222222222222222,
              "#7201a8"
             ],
             [
              0.3333333333333333,
              "#9c179e"
             ],
             [
              0.4444444444444444,
              "#bd3786"
             ],
             [
              0.5555555555555556,
              "#d8576b"
             ],
             [
              0.6666666666666666,
              "#ed7953"
             ],
             [
              0.7777777777777778,
              "#fb9f3a"
             ],
             [
              0.8888888888888888,
              "#fdca26"
             ],
             [
              1,
              "#f0f921"
             ]
            ],
            "type": "heatmap"
           }
          ],
          "heatmapgl": [
           {
            "colorbar": {
             "outlinewidth": 0,
             "ticks": ""
            },
            "colorscale": [
             [
              0,
              "#0d0887"
             ],
             [
              0.1111111111111111,
              "#46039f"
             ],
             [
              0.2222222222222222,
              "#7201a8"
             ],
             [
              0.3333333333333333,
              "#9c179e"
             ],
             [
              0.4444444444444444,
              "#bd3786"
             ],
             [
              0.5555555555555556,
              "#d8576b"
             ],
             [
              0.6666666666666666,
              "#ed7953"
             ],
             [
              0.7777777777777778,
              "#fb9f3a"
             ],
             [
              0.8888888888888888,
              "#fdca26"
             ],
             [
              1,
              "#f0f921"
             ]
            ],
            "type": "heatmapgl"
           }
          ],
          "histogram": [
           {
            "marker": {
             "pattern": {
              "fillmode": "overlay",
              "size": 10,
              "solidity": 0.2
             }
            },
            "type": "histogram"
           }
          ],
          "histogram2d": [
           {
            "colorbar": {
             "outlinewidth": 0,
             "ticks": ""
            },
            "colorscale": [
             [
              0,
              "#0d0887"
             ],
             [
              0.1111111111111111,
              "#46039f"
             ],
             [
              0.2222222222222222,
              "#7201a8"
             ],
             [
              0.3333333333333333,
              "#9c179e"
             ],
             [
              0.4444444444444444,
              "#bd3786"
             ],
             [
              0.5555555555555556,
              "#d8576b"
             ],
             [
              0.6666666666666666,
              "#ed7953"
             ],
             [
              0.7777777777777778,
              "#fb9f3a"
             ],
             [
              0.8888888888888888,
              "#fdca26"
             ],
             [
              1,
              "#f0f921"
             ]
            ],
            "type": "histogram2d"
           }
          ],
          "histogram2dcontour": [
           {
            "colorbar": {
             "outlinewidth": 0,
             "ticks": ""
            },
            "colorscale": [
             [
              0,
              "#0d0887"
             ],
             [
              0.1111111111111111,
              "#46039f"
             ],
             [
              0.2222222222222222,
              "#7201a8"
             ],
             [
              0.3333333333333333,
              "#9c179e"
             ],
             [
              0.4444444444444444,
              "#bd3786"
             ],
             [
              0.5555555555555556,
              "#d8576b"
             ],
             [
              0.6666666666666666,
              "#ed7953"
             ],
             [
              0.7777777777777778,
              "#fb9f3a"
             ],
             [
              0.8888888888888888,
              "#fdca26"
             ],
             [
              1,
              "#f0f921"
             ]
            ],
            "type": "histogram2dcontour"
           }
          ],
          "mesh3d": [
           {
            "colorbar": {
             "outlinewidth": 0,
             "ticks": ""
            },
            "type": "mesh3d"
           }
          ],
          "parcoords": [
           {
            "line": {
             "colorbar": {
              "outlinewidth": 0,
              "ticks": ""
             }
            },
            "type": "parcoords"
           }
          ],
          "pie": [
           {
            "automargin": true,
            "type": "pie"
           }
          ],
          "scatter": [
           {
            "marker": {
             "colorbar": {
              "outlinewidth": 0,
              "ticks": ""
             }
            },
            "type": "scatter"
           }
          ],
          "scatter3d": [
           {
            "line": {
             "colorbar": {
              "outlinewidth": 0,
              "ticks": ""
             }
            },
            "marker": {
             "colorbar": {
              "outlinewidth": 0,
              "ticks": ""
             }
            },
            "type": "scatter3d"
           }
          ],
          "scattercarpet": [
           {
            "marker": {
             "colorbar": {
              "outlinewidth": 0,
              "ticks": ""
             }
            },
            "type": "scattercarpet"
           }
          ],
          "scattergeo": [
           {
            "marker": {
             "colorbar": {
              "outlinewidth": 0,
              "ticks": ""
             }
            },
            "type": "scattergeo"
           }
          ],
          "scattergl": [
           {
            "marker": {
             "colorbar": {
              "outlinewidth": 0,
              "ticks": ""
             }
            },
            "type": "scattergl"
           }
          ],
          "scattermapbox": [
           {
            "marker": {
             "colorbar": {
              "outlinewidth": 0,
              "ticks": ""
             }
            },
            "type": "scattermapbox"
           }
          ],
          "scatterpolar": [
           {
            "marker": {
             "colorbar": {
              "outlinewidth": 0,
              "ticks": ""
             }
            },
            "type": "scatterpolar"
           }
          ],
          "scatterpolargl": [
           {
            "marker": {
             "colorbar": {
              "outlinewidth": 0,
              "ticks": ""
             }
            },
            "type": "scatterpolargl"
           }
          ],
          "scatterternary": [
           {
            "marker": {
             "colorbar": {
              "outlinewidth": 0,
              "ticks": ""
             }
            },
            "type": "scatterternary"
           }
          ],
          "surface": [
           {
            "colorbar": {
             "outlinewidth": 0,
             "ticks": ""
            },
            "colorscale": [
             [
              0,
              "#0d0887"
             ],
             [
              0.1111111111111111,
              "#46039f"
             ],
             [
              0.2222222222222222,
              "#7201a8"
             ],
             [
              0.3333333333333333,
              "#9c179e"
             ],
             [
              0.4444444444444444,
              "#bd3786"
             ],
             [
              0.5555555555555556,
              "#d8576b"
             ],
             [
              0.6666666666666666,
              "#ed7953"
             ],
             [
              0.7777777777777778,
              "#fb9f3a"
             ],
             [
              0.8888888888888888,
              "#fdca26"
             ],
             [
              1,
              "#f0f921"
             ]
            ],
            "type": "surface"
           }
          ],
          "table": [
           {
            "cells": {
             "fill": {
              "color": "#EBF0F8"
             },
             "line": {
              "color": "white"
             }
            },
            "header": {
             "fill": {
              "color": "#C8D4E3"
             },
             "line": {
              "color": "white"
             }
            },
            "type": "table"
           }
          ]
         },
         "layout": {
          "annotationdefaults": {
           "arrowcolor": "#2a3f5f",
           "arrowhead": 0,
           "arrowwidth": 1
          },
          "autotypenumbers": "strict",
          "coloraxis": {
           "colorbar": {
            "outlinewidth": 0,
            "ticks": ""
           }
          },
          "colorscale": {
           "diverging": [
            [
             0,
             "#8e0152"
            ],
            [
             0.1,
             "#c51b7d"
            ],
            [
             0.2,
             "#de77ae"
            ],
            [
             0.3,
             "#f1b6da"
            ],
            [
             0.4,
             "#fde0ef"
            ],
            [
             0.5,
             "#f7f7f7"
            ],
            [
             0.6,
             "#e6f5d0"
            ],
            [
             0.7,
             "#b8e186"
            ],
            [
             0.8,
             "#7fbc41"
            ],
            [
             0.9,
             "#4d9221"
            ],
            [
             1,
             "#276419"
            ]
           ],
           "sequential": [
            [
             0,
             "#0d0887"
            ],
            [
             0.1111111111111111,
             "#46039f"
            ],
            [
             0.2222222222222222,
             "#7201a8"
            ],
            [
             0.3333333333333333,
             "#9c179e"
            ],
            [
             0.4444444444444444,
             "#bd3786"
            ],
            [
             0.5555555555555556,
             "#d8576b"
            ],
            [
             0.6666666666666666,
             "#ed7953"
            ],
            [
             0.7777777777777778,
             "#fb9f3a"
            ],
            [
             0.8888888888888888,
             "#fdca26"
            ],
            [
             1,
             "#f0f921"
            ]
           ],
           "sequentialminus": [
            [
             0,
             "#0d0887"
            ],
            [
             0.1111111111111111,
             "#46039f"
            ],
            [
             0.2222222222222222,
             "#7201a8"
            ],
            [
             0.3333333333333333,
             "#9c179e"
            ],
            [
             0.4444444444444444,
             "#bd3786"
            ],
            [
             0.5555555555555556,
             "#d8576b"
            ],
            [
             0.6666666666666666,
             "#ed7953"
            ],
            [
             0.7777777777777778,
             "#fb9f3a"
            ],
            [
             0.8888888888888888,
             "#fdca26"
            ],
            [
             1,
             "#f0f921"
            ]
           ]
          },
          "colorway": [
           "#636efa",
           "#EF553B",
           "#00cc96",
           "#ab63fa",
           "#FFA15A",
           "#19d3f3",
           "#FF6692",
           "#B6E880",
           "#FF97FF",
           "#FECB52"
          ],
          "font": {
           "color": "#2a3f5f"
          },
          "geo": {
           "bgcolor": "white",
           "lakecolor": "white",
           "landcolor": "#E5ECF6",
           "showlakes": true,
           "showland": true,
           "subunitcolor": "white"
          },
          "hoverlabel": {
           "align": "left"
          },
          "hovermode": "closest",
          "mapbox": {
           "style": "light"
          },
          "paper_bgcolor": "white",
          "plot_bgcolor": "#E5ECF6",
          "polar": {
           "angularaxis": {
            "gridcolor": "white",
            "linecolor": "white",
            "ticks": ""
           },
           "bgcolor": "#E5ECF6",
           "radialaxis": {
            "gridcolor": "white",
            "linecolor": "white",
            "ticks": ""
           }
          },
          "scene": {
           "xaxis": {
            "backgroundcolor": "#E5ECF6",
            "gridcolor": "white",
            "gridwidth": 2,
            "linecolor": "white",
            "showbackground": true,
            "ticks": "",
            "zerolinecolor": "white"
           },
           "yaxis": {
            "backgroundcolor": "#E5ECF6",
            "gridcolor": "white",
            "gridwidth": 2,
            "linecolor": "white",
            "showbackground": true,
            "ticks": "",
            "zerolinecolor": "white"
           },
           "zaxis": {
            "backgroundcolor": "#E5ECF6",
            "gridcolor": "white",
            "gridwidth": 2,
            "linecolor": "white",
            "showbackground": true,
            "ticks": "",
            "zerolinecolor": "white"
           }
          },
          "shapedefaults": {
           "line": {
            "color": "#2a3f5f"
           }
          },
          "ternary": {
           "aaxis": {
            "gridcolor": "white",
            "linecolor": "white",
            "ticks": ""
           },
           "baxis": {
            "gridcolor": "white",
            "linecolor": "white",
            "ticks": ""
           },
           "bgcolor": "#E5ECF6",
           "caxis": {
            "gridcolor": "white",
            "linecolor": "white",
            "ticks": ""
           }
          },
          "title": {
           "x": 0.05
          },
          "xaxis": {
           "automargin": true,
           "gridcolor": "white",
           "linecolor": "white",
           "ticks": "",
           "title": {
            "standoff": 15
           },
           "zerolinecolor": "white",
           "zerolinewidth": 2
          },
          "yaxis": {
           "automargin": true,
           "gridcolor": "white",
           "linecolor": "white",
           "ticks": "",
           "title": {
            "standoff": 15
           },
           "zerolinecolor": "white",
           "zerolinewidth": 2
          }
         }
        },
        "width": 2000,
        "xaxis": {
         "anchor": "y",
         "domain": [
          0,
          1
         ],
         "range": [
          -3,
          15
         ],
         "title": {
          "text": "ERCC_attomoles_in_sample"
         },
         "type": "log"
        },
        "yaxis": {
         "anchor": "x",
         "domain": [
          0,
          1
         ],
         "title": {
          "text": "RPK"
         },
         "type": "log"
        }
       }
      }
     },
     "metadata": {},
     "output_type": "display_data"
    },
    {
     "name": "stderr",
     "output_type": "stream",
     "text": [
      "C:\\Users\\adiro\\AppData\\Local\\Temp\\ipykernel_32200\\2061613557.py:205: SettingWithCopyWarning:\n",
      "\n",
      "\n",
      "A value is trying to be set on a copy of a slice from a DataFrame.\n",
      "Try using .loc[row_indexer,col_indexer] = value instead\n",
      "\n",
      "See the caveats in the documentation: https://pandas.pydata.org/pandas-docs/stable/user_guide/indexing.html#returning-a-view-versus-a-copy\n",
      "\n"
     ]
    },
    {
     "data": {
      "application/vnd.plotly.v1+json": {
       "config": {
        "plotlyServerURL": "https://plot.ly"
       },
       "data": [
        {
         "hovertemplate": "<b>%{hovertext}</b><br><br>in_fit=in fit<br>ERCC_attomoles_in_sample=%{x}<br>RPK=%{y}<extra></extra>",
         "hovertext": [
          "ERCC-00002",
          "ERCC-00003",
          "ERCC-00004",
          "ERCC-00009",
          "ERCC-00012",
          "ERCC-00013",
          "ERCC-00014",
          "ERCC-00016",
          "ERCC-00017",
          "ERCC-00019",
          "ERCC-00022",
          "ERCC-00024",
          "ERCC-00025",
          "ERCC-00028",
          "ERCC-00031",
          "ERCC-00033",
          "ERCC-00034",
          "ERCC-00035",
          "ERCC-00039",
          "ERCC-00040",
          "ERCC-00041",
          "ERCC-00042",
          "ERCC-00043",
          "ERCC-00044",
          "ERCC-00046",
          "ERCC-00048",
          "ERCC-00051",
          "ERCC-00053",
          "ERCC-00057",
          "ERCC-00058",
          "ERCC-00059",
          "ERCC-00060",
          "ERCC-00061",
          "ERCC-00062",
          "ERCC-00067",
          "ERCC-00069",
          "ERCC-00071",
          "ERCC-00073",
          "ERCC-00074",
          "ERCC-00075",
          "ERCC-00076",
          "ERCC-00077",
          "ERCC-00078",
          "ERCC-00079",
          "ERCC-00081",
          "ERCC-00083",
          "ERCC-00084",
          "ERCC-00085",
          "ERCC-00086",
          "ERCC-00092",
          "ERCC-00095",
          "ERCC-00096",
          "ERCC-00097",
          "ERCC-00098",
          "ERCC-00099",
          "ERCC-00104",
          "ERCC-00108",
          "ERCC-00109",
          "ERCC-00111",
          "ERCC-00112",
          "ERCC-00113",
          "ERCC-00116",
          "ERCC-00117",
          "ERCC-00120",
          "ERCC-00123",
          "ERCC-00126",
          "ERCC-00130",
          "ERCC-00131",
          "ERCC-00134",
          "ERCC-00136",
          "ERCC-00137",
          "ERCC-00138",
          "ERCC-00142",
          "ERCC-00143",
          "ERCC-00144",
          "ERCC-00145",
          "ERCC-00147",
          "ERCC-00148",
          "ERCC-00150",
          "ERCC-00154",
          "ERCC-00156",
          "ERCC-00157",
          "ERCC-00158",
          "ERCC-00160",
          "ERCC-00162",
          "ERCC-00163",
          "ERCC-00164",
          "ERCC-00165",
          "ERCC-00168",
          "ERCC-00170",
          "ERCC-00171"
         ],
         "legendgroup": "in fit",
         "marker": {
          "color": "#636efa",
          "symbol": "circle"
         },
         "mode": "markers",
         "name": "in fit",
         "orientation": "h",
         "showlegend": true,
         "type": "scatter",
         "x": [
          487.5,
          30.46875,
          243.75,
          30.46875,
          0.0037193299,
          0.02975463855,
          0.11901855485000001,
          0.0074386598,
          0.0037193299,
          0.9521484375,
          7.6171875,
          0.0074386598,
          1.904296875,
          0.11901855485000001,
          0.05950927742500001,
          0.05950927742500001,
          0.238037109375,
          3.80859375,
          0.11901855485000001,
          0.02975463855,
          0.0074386598,
          15.234375,
          15.234375,
          3.80859375,
          121.875,
          0.0004649164,
          1.904296875,
          0.9521484375,
          0.0004649164,
          0.05950927742500001,
          0.47607421875,
          7.6171875,
          0.00185966495,
          1.904296875,
          0.11901855485000001,
          0.05950927742500001,
          1.904296875,
          0.02975463855,
          487.5,
          0.0004649164,
          7.6171875,
          0.11901855485000001,
          0.9521484375,
          1.904296875,
          0.0074386598,
          0.000929832475,
          0.9521484375,
          0.238037109375,
          0.0037193299,
          7.6171875,
          3.80859375,
          487.5,
          0.014877319275,
          0.00185966495,
          0.47607421875,
          0.0074386598,
          30.46875,
          0.02975463855,
          15.234375,
          3.80859375,
          121.875,
          15.234375,
          0.00185966495,
          0.02975463855,
          0.0074386598,
          0.47607421875,
          975,
          3.80859375,
          0.05950927742500001,
          60.9375,
          0.02975463855,
          0.0037193299,
          0.0074386598,
          0.11901855485000001,
          0.9521484375,
          30.46875,
          0.02975463855,
          0.47607421875,
          0.11901855485000001,
          0.238037109375,
          0.014877319275,
          0.238037109375,
          0.014877319275,
          0.238037109375,
          1.904296875,
          0.47607421875,
          0.014877319275,
          1.904296875,
          0.014877319275,
          0.47607421875,
          121.875
         ],
         "xaxis": "x",
         "y": [
          170179.07634307258,
          17167.155425219942,
          114929.25430210325,
          7942.073170731707,
          2.0120724346076457,
          8.663366336633663,
          38.323965252938166,
          0,
          0,
          405.27950310559004,
          1954.7270306258322,
          0,
          769.8094282848546,
          38.05309734513275,
          13.181019332161688,
          18.793273986152325,
          199.21491658488716,
          1097.345132743363,
          36.486486486486484,
          16.129032258064516,
          0.89126559714795,
          7211.1436950146635,
          4425.219941348974,
          1224.0484429065746,
          55532.56704980843,
          1.0080645161290323,
          233.5766423357664,
          338.2209188660802,
          0,
          26.408450704225356,
          139.04761904761904,
          4053.5372848948373,
          0,
          742.9130009775172,
          15.527950310559007,
          40.45734388742304,
          610.5919003115265,
          16.58374792703151,
          226477.01149425286,
          0.9775171065493647,
          1183.8006230529595,
          21.978021978021978,
          420.9466263846929,
          655.27950310559,
          3.745318352059925,
          0.9784735812133072,
          332.9979879275654,
          75.82938388625593,
          0.9803921568627451,
          3546.263345195729,
          2539.3474088291746,
          248675.70009033423,
          9.560229445506693,
          1.7497812773403325,
          135.55555555555554,
          1.483679525222552,
          10276.908023483365,
          5.597014925373134,
          4498.9939637826965,
          1654.929577464789,
          52825,
          6882.471120040181,
          0.8802816901408451,
          9.328358208955223,
          6.8493150684931505,
          84.07871198568873,
          290068.93295561854,
          1976.6536964980544,
          7.2992700729927,
          14303.969022265248,
          3.7243947858472994,
          0,
          0,
          29.33673469387755,
          223.04832713754647,
          5405.95009596929,
          1.9550342130987295,
          78.94736842105263,
          18.842530282637956,
          31.657355679702047,
          4.048582995951417,
          140.333660451423,
          4.868549172346641,
          209.95962314939436,
          864.244741873805,
          174.9539594843462,
          2.935420743639922,
          821.1009174311927,
          9.765625,
          242.42424242424244,
          40144.55445544554
         ],
         "yaxis": "y"
        },
        {
         "hovertemplate": "<b>%{hovertext}</b><br><br>in_fit=not in fit<br>ERCC_attomoles_in_sample=%{x}<br>RPK=%{y}<extra></extra>",
         "hovertext": [
          "ERCC-00054"
         ],
         "legendgroup": "not in fit",
         "marker": {
          "color": "#EF553B",
          "symbol": "circle"
         },
         "mode": "markers",
         "name": "not in fit",
         "orientation": "h",
         "showlegend": true,
         "type": "scatter",
         "x": [
          0.47607421875
         ],
         "xaxis": "x",
         "y": [
          0
         ],
         "yaxis": "y"
        },
        {
         "mode": "lines",
         "name": "Disrupted_biorep2",
         "type": "scatter",
         "x": [
          0.01,
          975
         ],
         "y": [
          3.8370736287246174,
          287523.09255987697
         ]
        }
       ],
       "layout": {
        "annotations": [
         {
          "align": "left",
          "bordercolor": "black",
          "borderwidth": 1,
          "showarrow": false,
          "text": "fit of log(y) Vs log(x), paremeters: log(y) = m*log(x)+c",
          "x": 0.4,
          "xanchor": "left",
          "xref": "paper",
          "y": 1,
          "yref": "paper"
         },
         {
          "align": "left",
          "bordercolor": "black",
          "borderwidth": 1,
          "showarrow": false,
          "text": "fit in the range ERCC attomoles in sample [0.01,975.00]",
          "x": 0.4,
          "xanchor": "left",
          "xref": "paper",
          "y": 0.9,
          "yref": "paper"
         },
         {
          "align": "left",
          "bordercolor": "black",
          "borderwidth": 1,
          "showarrow": false,
          "text": "the slop in log scale: m = 0.98",
          "x": 0.4,
          "xanchor": "left",
          "xref": "paper",
          "y": 0.8,
          "yref": "paper"
         },
         {
          "align": "left",
          "bordercolor": "black",
          "borderwidth": 1,
          "showarrow": false,
          "text": "the intercept in log scale: c = 5.84",
          "x": 0.4,
          "xanchor": "left",
          "xref": "paper",
          "y": 0.7,
          "yref": "paper"
         },
         {
          "align": "left",
          "bordercolor": "black",
          "borderwidth": 1,
          "showarrow": false,
          "text": "",
          "x": 0.4,
          "xanchor": "left",
          "xref": "paper",
          "y": 0.6,
          "yref": "paper"
         },
         {
          "align": "left",
          "bordercolor": "black",
          "borderwidth": 1,
          "showarrow": false,
          "text": "log(y) = m*log(x)+c --> y = e^c * x^m",
          "x": 0.4,
          "xanchor": "left",
          "xref": "paper",
          "y": 0.5,
          "yref": "paper"
         },
         {
          "align": "left",
          "bordercolor": "black",
          "borderwidth": 1,
          "showarrow": false,
          "text": "the slope in linear scale: e^c = 3.45E+02",
          "x": 0.4,
          "xanchor": "left",
          "xref": "paper",
          "y": 0.3999999999999999,
          "yref": "paper"
         },
         {
          "align": "left",
          "bordercolor": "black",
          "borderwidth": 1,
          "showarrow": false,
          "text": "R^2 = 0.97",
          "x": 0.4,
          "xanchor": "left",
          "xref": "paper",
          "y": 0.29999999999999993,
          "yref": "paper"
         },
         {
          "align": "left",
          "bordercolor": "black",
          "borderwidth": 1,
          "showarrow": false,
          "text": "",
          "x": 0.4,
          "xanchor": "left",
          "xref": "paper",
          "y": 0.19999999999999996,
          "yref": "paper"
         },
         {
          "align": "left",
          "bordercolor": "black",
          "borderwidth": 1,
          "showarrow": false,
          "text": "ERCCs with no reads detected",
          "x": 0.4,
          "xanchor": "left",
          "xref": "paper",
          "y": 0.09999999999999998,
          "yref": "paper"
         },
         {
          "align": "left",
          "bordercolor": "black",
          "borderwidth": 1,
          "showarrow": false,
          "text": " not fitted and not shown",
          "x": 0.4,
          "xanchor": "left",
          "xref": "paper",
          "y": 0,
          "yref": "paper"
         }
        ],
        "font": {
         "size": 24
        },
        "height": 600,
        "legend": {
         "title": {
          "text": "in_fit"
         },
         "tracegroupgap": 0
        },
        "margin": {
         "t": 60
        },
        "template": {
         "data": {
          "bar": [
           {
            "error_x": {
             "color": "#2a3f5f"
            },
            "error_y": {
             "color": "#2a3f5f"
            },
            "marker": {
             "line": {
              "color": "#E5ECF6",
              "width": 0.5
             },
             "pattern": {
              "fillmode": "overlay",
              "size": 10,
              "solidity": 0.2
             }
            },
            "type": "bar"
           }
          ],
          "barpolar": [
           {
            "marker": {
             "line": {
              "color": "#E5ECF6",
              "width": 0.5
             },
             "pattern": {
              "fillmode": "overlay",
              "size": 10,
              "solidity": 0.2
             }
            },
            "type": "barpolar"
           }
          ],
          "carpet": [
           {
            "aaxis": {
             "endlinecolor": "#2a3f5f",
             "gridcolor": "white",
             "linecolor": "white",
             "minorgridcolor": "white",
             "startlinecolor": "#2a3f5f"
            },
            "baxis": {
             "endlinecolor": "#2a3f5f",
             "gridcolor": "white",
             "linecolor": "white",
             "minorgridcolor": "white",
             "startlinecolor": "#2a3f5f"
            },
            "type": "carpet"
           }
          ],
          "choropleth": [
           {
            "colorbar": {
             "outlinewidth": 0,
             "ticks": ""
            },
            "type": "choropleth"
           }
          ],
          "contour": [
           {
            "colorbar": {
             "outlinewidth": 0,
             "ticks": ""
            },
            "colorscale": [
             [
              0,
              "#0d0887"
             ],
             [
              0.1111111111111111,
              "#46039f"
             ],
             [
              0.2222222222222222,
              "#7201a8"
             ],
             [
              0.3333333333333333,
              "#9c179e"
             ],
             [
              0.4444444444444444,
              "#bd3786"
             ],
             [
              0.5555555555555556,
              "#d8576b"
             ],
             [
              0.6666666666666666,
              "#ed7953"
             ],
             [
              0.7777777777777778,
              "#fb9f3a"
             ],
             [
              0.8888888888888888,
              "#fdca26"
             ],
             [
              1,
              "#f0f921"
             ]
            ],
            "type": "contour"
           }
          ],
          "contourcarpet": [
           {
            "colorbar": {
             "outlinewidth": 0,
             "ticks": ""
            },
            "type": "contourcarpet"
           }
          ],
          "heatmap": [
           {
            "colorbar": {
             "outlinewidth": 0,
             "ticks": ""
            },
            "colorscale": [
             [
              0,
              "#0d0887"
             ],
             [
              0.1111111111111111,
              "#46039f"
             ],
             [
              0.2222222222222222,
              "#7201a8"
             ],
             [
              0.3333333333333333,
              "#9c179e"
             ],
             [
              0.4444444444444444,
              "#bd3786"
             ],
             [
              0.5555555555555556,
              "#d8576b"
             ],
             [
              0.6666666666666666,
              "#ed7953"
             ],
             [
              0.7777777777777778,
              "#fb9f3a"
             ],
             [
              0.8888888888888888,
              "#fdca26"
             ],
             [
              1,
              "#f0f921"
             ]
            ],
            "type": "heatmap"
           }
          ],
          "heatmapgl": [
           {
            "colorbar": {
             "outlinewidth": 0,
             "ticks": ""
            },
            "colorscale": [
             [
              0,
              "#0d0887"
             ],
             [
              0.1111111111111111,
              "#46039f"
             ],
             [
              0.2222222222222222,
              "#7201a8"
             ],
             [
              0.3333333333333333,
              "#9c179e"
             ],
             [
              0.4444444444444444,
              "#bd3786"
             ],
             [
              0.5555555555555556,
              "#d8576b"
             ],
             [
              0.6666666666666666,
              "#ed7953"
             ],
             [
              0.7777777777777778,
              "#fb9f3a"
             ],
             [
              0.8888888888888888,
              "#fdca26"
             ],
             [
              1,
              "#f0f921"
             ]
            ],
            "type": "heatmapgl"
           }
          ],
          "histogram": [
           {
            "marker": {
             "pattern": {
              "fillmode": "overlay",
              "size": 10,
              "solidity": 0.2
             }
            },
            "type": "histogram"
           }
          ],
          "histogram2d": [
           {
            "colorbar": {
             "outlinewidth": 0,
             "ticks": ""
            },
            "colorscale": [
             [
              0,
              "#0d0887"
             ],
             [
              0.1111111111111111,
              "#46039f"
             ],
             [
              0.2222222222222222,
              "#7201a8"
             ],
             [
              0.3333333333333333,
              "#9c179e"
             ],
             [
              0.4444444444444444,
              "#bd3786"
             ],
             [
              0.5555555555555556,
              "#d8576b"
             ],
             [
              0.6666666666666666,
              "#ed7953"
             ],
             [
              0.7777777777777778,
              "#fb9f3a"
             ],
             [
              0.8888888888888888,
              "#fdca26"
             ],
             [
              1,
              "#f0f921"
             ]
            ],
            "type": "histogram2d"
           }
          ],
          "histogram2dcontour": [
           {
            "colorbar": {
             "outlinewidth": 0,
             "ticks": ""
            },
            "colorscale": [
             [
              0,
              "#0d0887"
             ],
             [
              0.1111111111111111,
              "#46039f"
             ],
             [
              0.2222222222222222,
              "#7201a8"
             ],
             [
              0.3333333333333333,
              "#9c179e"
             ],
             [
              0.4444444444444444,
              "#bd3786"
             ],
             [
              0.5555555555555556,
              "#d8576b"
             ],
             [
              0.6666666666666666,
              "#ed7953"
             ],
             [
              0.7777777777777778,
              "#fb9f3a"
             ],
             [
              0.8888888888888888,
              "#fdca26"
             ],
             [
              1,
              "#f0f921"
             ]
            ],
            "type": "histogram2dcontour"
           }
          ],
          "mesh3d": [
           {
            "colorbar": {
             "outlinewidth": 0,
             "ticks": ""
            },
            "type": "mesh3d"
           }
          ],
          "parcoords": [
           {
            "line": {
             "colorbar": {
              "outlinewidth": 0,
              "ticks": ""
             }
            },
            "type": "parcoords"
           }
          ],
          "pie": [
           {
            "automargin": true,
            "type": "pie"
           }
          ],
          "scatter": [
           {
            "marker": {
             "colorbar": {
              "outlinewidth": 0,
              "ticks": ""
             }
            },
            "type": "scatter"
           }
          ],
          "scatter3d": [
           {
            "line": {
             "colorbar": {
              "outlinewidth": 0,
              "ticks": ""
             }
            },
            "marker": {
             "colorbar": {
              "outlinewidth": 0,
              "ticks": ""
             }
            },
            "type": "scatter3d"
           }
          ],
          "scattercarpet": [
           {
            "marker": {
             "colorbar": {
              "outlinewidth": 0,
              "ticks": ""
             }
            },
            "type": "scattercarpet"
           }
          ],
          "scattergeo": [
           {
            "marker": {
             "colorbar": {
              "outlinewidth": 0,
              "ticks": ""
             }
            },
            "type": "scattergeo"
           }
          ],
          "scattergl": [
           {
            "marker": {
             "colorbar": {
              "outlinewidth": 0,
              "ticks": ""
             }
            },
            "type": "scattergl"
           }
          ],
          "scattermapbox": [
           {
            "marker": {
             "colorbar": {
              "outlinewidth": 0,
              "ticks": ""
             }
            },
            "type": "scattermapbox"
           }
          ],
          "scatterpolar": [
           {
            "marker": {
             "colorbar": {
              "outlinewidth": 0,
              "ticks": ""
             }
            },
            "type": "scatterpolar"
           }
          ],
          "scatterpolargl": [
           {
            "marker": {
             "colorbar": {
              "outlinewidth": 0,
              "ticks": ""
             }
            },
            "type": "scatterpolargl"
           }
          ],
          "scatterternary": [
           {
            "marker": {
             "colorbar": {
              "outlinewidth": 0,
              "ticks": ""
             }
            },
            "type": "scatterternary"
           }
          ],
          "surface": [
           {
            "colorbar": {
             "outlinewidth": 0,
             "ticks": ""
            },
            "colorscale": [
             [
              0,
              "#0d0887"
             ],
             [
              0.1111111111111111,
              "#46039f"
             ],
             [
              0.2222222222222222,
              "#7201a8"
             ],
             [
              0.3333333333333333,
              "#9c179e"
             ],
             [
              0.4444444444444444,
              "#bd3786"
             ],
             [
              0.5555555555555556,
              "#d8576b"
             ],
             [
              0.6666666666666666,
              "#ed7953"
             ],
             [
              0.7777777777777778,
              "#fb9f3a"
             ],
             [
              0.8888888888888888,
              "#fdca26"
             ],
             [
              1,
              "#f0f921"
             ]
            ],
            "type": "surface"
           }
          ],
          "table": [
           {
            "cells": {
             "fill": {
              "color": "#EBF0F8"
             },
             "line": {
              "color": "white"
             }
            },
            "header": {
             "fill": {
              "color": "#C8D4E3"
             },
             "line": {
              "color": "white"
             }
            },
            "type": "table"
           }
          ]
         },
         "layout": {
          "annotationdefaults": {
           "arrowcolor": "#2a3f5f",
           "arrowhead": 0,
           "arrowwidth": 1
          },
          "autotypenumbers": "strict",
          "coloraxis": {
           "colorbar": {
            "outlinewidth": 0,
            "ticks": ""
           }
          },
          "colorscale": {
           "diverging": [
            [
             0,
             "#8e0152"
            ],
            [
             0.1,
             "#c51b7d"
            ],
            [
             0.2,
             "#de77ae"
            ],
            [
             0.3,
             "#f1b6da"
            ],
            [
             0.4,
             "#fde0ef"
            ],
            [
             0.5,
             "#f7f7f7"
            ],
            [
             0.6,
             "#e6f5d0"
            ],
            [
             0.7,
             "#b8e186"
            ],
            [
             0.8,
             "#7fbc41"
            ],
            [
             0.9,
             "#4d9221"
            ],
            [
             1,
             "#276419"
            ]
           ],
           "sequential": [
            [
             0,
             "#0d0887"
            ],
            [
             0.1111111111111111,
             "#46039f"
            ],
            [
             0.2222222222222222,
             "#7201a8"
            ],
            [
             0.3333333333333333,
             "#9c179e"
            ],
            [
             0.4444444444444444,
             "#bd3786"
            ],
            [
             0.5555555555555556,
             "#d8576b"
            ],
            [
             0.6666666666666666,
             "#ed7953"
            ],
            [
             0.7777777777777778,
             "#fb9f3a"
            ],
            [
             0.8888888888888888,
             "#fdca26"
            ],
            [
             1,
             "#f0f921"
            ]
           ],
           "sequentialminus": [
            [
             0,
             "#0d0887"
            ],
            [
             0.1111111111111111,
             "#46039f"
            ],
            [
             0.2222222222222222,
             "#7201a8"
            ],
            [
             0.3333333333333333,
             "#9c179e"
            ],
            [
             0.4444444444444444,
             "#bd3786"
            ],
            [
             0.5555555555555556,
             "#d8576b"
            ],
            [
             0.6666666666666666,
             "#ed7953"
            ],
            [
             0.7777777777777778,
             "#fb9f3a"
            ],
            [
             0.8888888888888888,
             "#fdca26"
            ],
            [
             1,
             "#f0f921"
            ]
           ]
          },
          "colorway": [
           "#636efa",
           "#EF553B",
           "#00cc96",
           "#ab63fa",
           "#FFA15A",
           "#19d3f3",
           "#FF6692",
           "#B6E880",
           "#FF97FF",
           "#FECB52"
          ],
          "font": {
           "color": "#2a3f5f"
          },
          "geo": {
           "bgcolor": "white",
           "lakecolor": "white",
           "landcolor": "#E5ECF6",
           "showlakes": true,
           "showland": true,
           "subunitcolor": "white"
          },
          "hoverlabel": {
           "align": "left"
          },
          "hovermode": "closest",
          "mapbox": {
           "style": "light"
          },
          "paper_bgcolor": "white",
          "plot_bgcolor": "#E5ECF6",
          "polar": {
           "angularaxis": {
            "gridcolor": "white",
            "linecolor": "white",
            "ticks": ""
           },
           "bgcolor": "#E5ECF6",
           "radialaxis": {
            "gridcolor": "white",
            "linecolor": "white",
            "ticks": ""
           }
          },
          "scene": {
           "xaxis": {
            "backgroundcolor": "#E5ECF6",
            "gridcolor": "white",
            "gridwidth": 2,
            "linecolor": "white",
            "showbackground": true,
            "ticks": "",
            "zerolinecolor": "white"
           },
           "yaxis": {
            "backgroundcolor": "#E5ECF6",
            "gridcolor": "white",
            "gridwidth": 2,
            "linecolor": "white",
            "showbackground": true,
            "ticks": "",
            "zerolinecolor": "white"
           },
           "zaxis": {
            "backgroundcolor": "#E5ECF6",
            "gridcolor": "white",
            "gridwidth": 2,
            "linecolor": "white",
            "showbackground": true,
            "ticks": "",
            "zerolinecolor": "white"
           }
          },
          "shapedefaults": {
           "line": {
            "color": "#2a3f5f"
           }
          },
          "ternary": {
           "aaxis": {
            "gridcolor": "white",
            "linecolor": "white",
            "ticks": ""
           },
           "baxis": {
            "gridcolor": "white",
            "linecolor": "white",
            "ticks": ""
           },
           "bgcolor": "#E5ECF6",
           "caxis": {
            "gridcolor": "white",
            "linecolor": "white",
            "ticks": ""
           }
          },
          "title": {
           "x": 0.05
          },
          "xaxis": {
           "automargin": true,
           "gridcolor": "white",
           "linecolor": "white",
           "ticks": "",
           "title": {
            "standoff": 15
           },
           "zerolinecolor": "white",
           "zerolinewidth": 2
          },
          "yaxis": {
           "automargin": true,
           "gridcolor": "white",
           "linecolor": "white",
           "ticks": "",
           "title": {
            "standoff": 15
           },
           "zerolinecolor": "white",
           "zerolinewidth": 2
          }
         }
        },
        "width": 2000,
        "xaxis": {
         "anchor": "y",
         "domain": [
          0,
          1
         ],
         "range": [
          -3,
          15
         ],
         "title": {
          "text": "ERCC_attomoles_in_sample"
         },
         "type": "log"
        },
        "yaxis": {
         "anchor": "x",
         "domain": [
          0,
          1
         ],
         "title": {
          "text": "RPK"
         },
         "type": "log"
        }
       }
      }
     },
     "metadata": {},
     "output_type": "display_data"
    },
    {
     "name": "stderr",
     "output_type": "stream",
     "text": [
      "C:\\Users\\adiro\\AppData\\Local\\Temp\\ipykernel_32200\\2061613557.py:205: SettingWithCopyWarning:\n",
      "\n",
      "\n",
      "A value is trying to be set on a copy of a slice from a DataFrame.\n",
      "Try using .loc[row_indexer,col_indexer] = value instead\n",
      "\n",
      "See the caveats in the documentation: https://pandas.pydata.org/pandas-docs/stable/user_guide/indexing.html#returning-a-view-versus-a-copy\n",
      "\n"
     ]
    },
    {
     "data": {
      "application/vnd.plotly.v1+json": {
       "config": {
        "plotlyServerURL": "https://plot.ly"
       },
       "data": [
        {
         "hovertemplate": "<b>%{hovertext}</b><br><br>in_fit=in fit<br>ERCC_attomoles_in_sample=%{x}<br>RPK=%{y}<extra></extra>",
         "hovertext": [
          "ERCC-00002",
          "ERCC-00003",
          "ERCC-00004",
          "ERCC-00009",
          "ERCC-00012",
          "ERCC-00013",
          "ERCC-00014",
          "ERCC-00016",
          "ERCC-00017",
          "ERCC-00019",
          "ERCC-00022",
          "ERCC-00024",
          "ERCC-00025",
          "ERCC-00028",
          "ERCC-00031",
          "ERCC-00033",
          "ERCC-00034",
          "ERCC-00035",
          "ERCC-00039",
          "ERCC-00040",
          "ERCC-00041",
          "ERCC-00042",
          "ERCC-00043",
          "ERCC-00044",
          "ERCC-00046",
          "ERCC-00048",
          "ERCC-00051",
          "ERCC-00053",
          "ERCC-00057",
          "ERCC-00058",
          "ERCC-00059",
          "ERCC-00060",
          "ERCC-00061",
          "ERCC-00062",
          "ERCC-00067",
          "ERCC-00069",
          "ERCC-00071",
          "ERCC-00073",
          "ERCC-00074",
          "ERCC-00075",
          "ERCC-00076",
          "ERCC-00077",
          "ERCC-00078",
          "ERCC-00079",
          "ERCC-00081",
          "ERCC-00083",
          "ERCC-00084",
          "ERCC-00085",
          "ERCC-00086",
          "ERCC-00092",
          "ERCC-00095",
          "ERCC-00096",
          "ERCC-00097",
          "ERCC-00098",
          "ERCC-00099",
          "ERCC-00104",
          "ERCC-00108",
          "ERCC-00109",
          "ERCC-00111",
          "ERCC-00112",
          "ERCC-00113",
          "ERCC-00116",
          "ERCC-00117",
          "ERCC-00120",
          "ERCC-00123",
          "ERCC-00126",
          "ERCC-00130",
          "ERCC-00131",
          "ERCC-00134",
          "ERCC-00136",
          "ERCC-00137",
          "ERCC-00138",
          "ERCC-00142",
          "ERCC-00143",
          "ERCC-00144",
          "ERCC-00145",
          "ERCC-00147",
          "ERCC-00148",
          "ERCC-00150",
          "ERCC-00154",
          "ERCC-00156",
          "ERCC-00157",
          "ERCC-00158",
          "ERCC-00160",
          "ERCC-00162",
          "ERCC-00163",
          "ERCC-00164",
          "ERCC-00165",
          "ERCC-00168",
          "ERCC-00170",
          "ERCC-00171"
         ],
         "legendgroup": "in fit",
         "marker": {
          "color": "#636efa",
          "symbol": "circle"
         },
         "mode": "markers",
         "name": "in fit",
         "orientation": "h",
         "showlegend": true,
         "type": "scatter",
         "x": [
          487.5,
          30.46875,
          243.75,
          30.46875,
          0.0037193299,
          0.02975463855,
          0.11901855485000001,
          0.0074386598,
          0.0037193299,
          0.9521484375,
          7.6171875,
          0.0074386598,
          1.904296875,
          0.11901855485000001,
          0.05950927742500001,
          0.05950927742500001,
          0.238037109375,
          3.80859375,
          0.11901855485000001,
          0.02975463855,
          0.0074386598,
          15.234375,
          15.234375,
          3.80859375,
          121.875,
          0.0004649164,
          1.904296875,
          0.9521484375,
          0.0004649164,
          0.05950927742500001,
          0.47607421875,
          7.6171875,
          0.00185966495,
          1.904296875,
          0.11901855485000001,
          0.05950927742500001,
          1.904296875,
          0.02975463855,
          487.5,
          0.0004649164,
          7.6171875,
          0.11901855485000001,
          0.9521484375,
          1.904296875,
          0.0074386598,
          0.000929832475,
          0.9521484375,
          0.238037109375,
          0.0037193299,
          7.6171875,
          3.80859375,
          487.5,
          0.014877319275,
          0.00185966495,
          0.47607421875,
          0.0074386598,
          30.46875,
          0.02975463855,
          15.234375,
          3.80859375,
          121.875,
          15.234375,
          0.00185966495,
          0.02975463855,
          0.0074386598,
          0.47607421875,
          975,
          3.80859375,
          0.05950927742500001,
          60.9375,
          0.02975463855,
          0.0037193299,
          0.0074386598,
          0.11901855485000001,
          0.9521484375,
          30.46875,
          0.02975463855,
          0.47607421875,
          0.11901855485000001,
          0.238037109375,
          0.014877319275,
          0.238037109375,
          0.014877319275,
          0.238037109375,
          1.904296875,
          0.47607421875,
          0.014877319275,
          1.904296875,
          0.014877319275,
          0.47607421875,
          121.875
         ],
         "xaxis": "x",
         "y": [
          82252.59189443922,
          7943.3040078201375,
          52768.64244741874,
          4044.715447154472,
          3.018108651911469,
          3.7128712871287126,
          22.994379151762903,
          0,
          0.8802816901408451,
          189.44099378881987,
          1054.5938748335552,
          0,
          443.83149448345034,
          9.734513274336283,
          7.029876977152901,
          6.429277942631059,
          92.24730127576056,
          570.7964601769912,
          14.864864864864865,
          6.720430107526882,
          2.67379679144385,
          3380.254154447703,
          1648.0938416422289,
          747.4048442906575,
          29862.06896551724,
          0,
          69.34306569343065,
          146.62756598240472,
          0,
          6.161971830985916,
          76.19047619047619,
          1539.1969407265774,
          0.8802816901408451,
          377.3216031280548,
          13.975155279503106,
          18.46965699208443,
          257.0093457943925,
          8.291873963515755,
          100431.03448275862,
          0,
          621.4953271028037,
          0,
          236.65659617321248,
          335.40372670807454,
          0,
          0.9784735812133072,
          178.06841046277665,
          35.54502369668246,
          0.9803921568627451,
          1588.0782918149464,
          1337.8119001919385,
          133927.73261065944,
          0,
          1.7497812773403325,
          72.59259259259258,
          0.9891196834817014,
          4691.780821917808,
          1.8656716417910446,
          1939.6378269617705,
          976.2323943661972,
          28100,
          3379.708689100954,
          0,
          0,
          1.9569471624266144,
          35.77817531305903,
          126113.31444759207,
          1045.3955901426718,
          0,
          6469.506292352372,
          0,
          0.9765625,
          2.028397565922921,
          43.36734693877551,
          167.28624535315984,
          2527.831094049904,
          0,
          36.43724696356276,
          9.421265141318978,
          11.1731843575419,
          0,
          79.48969578017665,
          2.9211295034079847,
          100.9421265141319,
          336.52007648183553,
          103.13075506445672,
          4.892367906066536,
          411.69724770642205,
          3.90625,
          49.8533724340176,
          21821.78217821782
         ],
         "yaxis": "y"
        },
        {
         "hovertemplate": "<b>%{hovertext}</b><br><br>in_fit=not in fit<br>ERCC_attomoles_in_sample=%{x}<br>RPK=%{y}<extra></extra>",
         "hovertext": [
          "ERCC-00054"
         ],
         "legendgroup": "not in fit",
         "marker": {
          "color": "#EF553B",
          "symbol": "circle"
         },
         "mode": "markers",
         "name": "not in fit",
         "orientation": "h",
         "showlegend": true,
         "type": "scatter",
         "x": [
          0.47607421875
         ],
         "xaxis": "x",
         "y": [
          0
         ],
         "yaxis": "y"
        },
        {
         "mode": "lines",
         "name": "Disrupted_biorep4",
         "type": "scatter",
         "x": [
          0.01,
          975
         ],
         "y": [
          2.306515969951745,
          125764.02740324344
         ]
        }
       ],
       "layout": {
        "annotations": [
         {
          "align": "left",
          "bordercolor": "black",
          "borderwidth": 1,
          "showarrow": false,
          "text": "fit of log(y) Vs log(x), paremeters: log(y) = m*log(x)+c",
          "x": 0.4,
          "xanchor": "left",
          "xref": "paper",
          "y": 1,
          "yref": "paper"
         },
         {
          "align": "left",
          "bordercolor": "black",
          "borderwidth": 1,
          "showarrow": false,
          "text": "fit in the range ERCC attomoles in sample [0.01,975.00]",
          "x": 0.4,
          "xanchor": "left",
          "xref": "paper",
          "y": 0.9,
          "yref": "paper"
         },
         {
          "align": "left",
          "bordercolor": "black",
          "borderwidth": 1,
          "showarrow": false,
          "text": "the slop in log scale: m = 0.95",
          "x": 0.4,
          "xanchor": "left",
          "xref": "paper",
          "y": 0.8,
          "yref": "paper"
         },
         {
          "align": "left",
          "bordercolor": "black",
          "borderwidth": 1,
          "showarrow": false,
          "text": "the intercept in log scale: c = 5.21",
          "x": 0.4,
          "xanchor": "left",
          "xref": "paper",
          "y": 0.7,
          "yref": "paper"
         },
         {
          "align": "left",
          "bordercolor": "black",
          "borderwidth": 1,
          "showarrow": false,
          "text": "",
          "x": 0.4,
          "xanchor": "left",
          "xref": "paper",
          "y": 0.6,
          "yref": "paper"
         },
         {
          "align": "left",
          "bordercolor": "black",
          "borderwidth": 1,
          "showarrow": false,
          "text": "log(y) = m*log(x)+c --> y = e^c * x^m",
          "x": 0.4,
          "xanchor": "left",
          "xref": "paper",
          "y": 0.5,
          "yref": "paper"
         },
         {
          "align": "left",
          "bordercolor": "black",
          "borderwidth": 1,
          "showarrow": false,
          "text": "the slope in linear scale: e^c = 1.83E+02",
          "x": 0.4,
          "xanchor": "left",
          "xref": "paper",
          "y": 0.3999999999999999,
          "yref": "paper"
         },
         {
          "align": "left",
          "bordercolor": "black",
          "borderwidth": 1,
          "showarrow": false,
          "text": "R^2 = 0.97",
          "x": 0.4,
          "xanchor": "left",
          "xref": "paper",
          "y": 0.29999999999999993,
          "yref": "paper"
         },
         {
          "align": "left",
          "bordercolor": "black",
          "borderwidth": 1,
          "showarrow": false,
          "text": "",
          "x": 0.4,
          "xanchor": "left",
          "xref": "paper",
          "y": 0.19999999999999996,
          "yref": "paper"
         },
         {
          "align": "left",
          "bordercolor": "black",
          "borderwidth": 1,
          "showarrow": false,
          "text": "ERCCs with no reads detected",
          "x": 0.4,
          "xanchor": "left",
          "xref": "paper",
          "y": 0.09999999999999998,
          "yref": "paper"
         },
         {
          "align": "left",
          "bordercolor": "black",
          "borderwidth": 1,
          "showarrow": false,
          "text": " not fitted and not shown",
          "x": 0.4,
          "xanchor": "left",
          "xref": "paper",
          "y": 0,
          "yref": "paper"
         }
        ],
        "font": {
         "size": 24
        },
        "height": 600,
        "legend": {
         "title": {
          "text": "in_fit"
         },
         "tracegroupgap": 0
        },
        "margin": {
         "t": 60
        },
        "template": {
         "data": {
          "bar": [
           {
            "error_x": {
             "color": "#2a3f5f"
            },
            "error_y": {
             "color": "#2a3f5f"
            },
            "marker": {
             "line": {
              "color": "#E5ECF6",
              "width": 0.5
             },
             "pattern": {
              "fillmode": "overlay",
              "size": 10,
              "solidity": 0.2
             }
            },
            "type": "bar"
           }
          ],
          "barpolar": [
           {
            "marker": {
             "line": {
              "color": "#E5ECF6",
              "width": 0.5
             },
             "pattern": {
              "fillmode": "overlay",
              "size": 10,
              "solidity": 0.2
             }
            },
            "type": "barpolar"
           }
          ],
          "carpet": [
           {
            "aaxis": {
             "endlinecolor": "#2a3f5f",
             "gridcolor": "white",
             "linecolor": "white",
             "minorgridcolor": "white",
             "startlinecolor": "#2a3f5f"
            },
            "baxis": {
             "endlinecolor": "#2a3f5f",
             "gridcolor": "white",
             "linecolor": "white",
             "minorgridcolor": "white",
             "startlinecolor": "#2a3f5f"
            },
            "type": "carpet"
           }
          ],
          "choropleth": [
           {
            "colorbar": {
             "outlinewidth": 0,
             "ticks": ""
            },
            "type": "choropleth"
           }
          ],
          "contour": [
           {
            "colorbar": {
             "outlinewidth": 0,
             "ticks": ""
            },
            "colorscale": [
             [
              0,
              "#0d0887"
             ],
             [
              0.1111111111111111,
              "#46039f"
             ],
             [
              0.2222222222222222,
              "#7201a8"
             ],
             [
              0.3333333333333333,
              "#9c179e"
             ],
             [
              0.4444444444444444,
              "#bd3786"
             ],
             [
              0.5555555555555556,
              "#d8576b"
             ],
             [
              0.6666666666666666,
              "#ed7953"
             ],
             [
              0.7777777777777778,
              "#fb9f3a"
             ],
             [
              0.8888888888888888,
              "#fdca26"
             ],
             [
              1,
              "#f0f921"
             ]
            ],
            "type": "contour"
           }
          ],
          "contourcarpet": [
           {
            "colorbar": {
             "outlinewidth": 0,
             "ticks": ""
            },
            "type": "contourcarpet"
           }
          ],
          "heatmap": [
           {
            "colorbar": {
             "outlinewidth": 0,
             "ticks": ""
            },
            "colorscale": [
             [
              0,
              "#0d0887"
             ],
             [
              0.1111111111111111,
              "#46039f"
             ],
             [
              0.2222222222222222,
              "#7201a8"
             ],
             [
              0.3333333333333333,
              "#9c179e"
             ],
             [
              0.4444444444444444,
              "#bd3786"
             ],
             [
              0.5555555555555556,
              "#d8576b"
             ],
             [
              0.6666666666666666,
              "#ed7953"
             ],
             [
              0.7777777777777778,
              "#fb9f3a"
             ],
             [
              0.8888888888888888,
              "#fdca26"
             ],
             [
              1,
              "#f0f921"
             ]
            ],
            "type": "heatmap"
           }
          ],
          "heatmapgl": [
           {
            "colorbar": {
             "outlinewidth": 0,
             "ticks": ""
            },
            "colorscale": [
             [
              0,
              "#0d0887"
             ],
             [
              0.1111111111111111,
              "#46039f"
             ],
             [
              0.2222222222222222,
              "#7201a8"
             ],
             [
              0.3333333333333333,
              "#9c179e"
             ],
             [
              0.4444444444444444,
              "#bd3786"
             ],
             [
              0.5555555555555556,
              "#d8576b"
             ],
             [
              0.6666666666666666,
              "#ed7953"
             ],
             [
              0.7777777777777778,
              "#fb9f3a"
             ],
             [
              0.8888888888888888,
              "#fdca26"
             ],
             [
              1,
              "#f0f921"
             ]
            ],
            "type": "heatmapgl"
           }
          ],
          "histogram": [
           {
            "marker": {
             "pattern": {
              "fillmode": "overlay",
              "size": 10,
              "solidity": 0.2
             }
            },
            "type": "histogram"
           }
          ],
          "histogram2d": [
           {
            "colorbar": {
             "outlinewidth": 0,
             "ticks": ""
            },
            "colorscale": [
             [
              0,
              "#0d0887"
             ],
             [
              0.1111111111111111,
              "#46039f"
             ],
             [
              0.2222222222222222,
              "#7201a8"
             ],
             [
              0.3333333333333333,
              "#9c179e"
             ],
             [
              0.4444444444444444,
              "#bd3786"
             ],
             [
              0.5555555555555556,
              "#d8576b"
             ],
             [
              0.6666666666666666,
              "#ed7953"
             ],
             [
              0.7777777777777778,
              "#fb9f3a"
             ],
             [
              0.8888888888888888,
              "#fdca26"
             ],
             [
              1,
              "#f0f921"
             ]
            ],
            "type": "histogram2d"
           }
          ],
          "histogram2dcontour": [
           {
            "colorbar": {
             "outlinewidth": 0,
             "ticks": ""
            },
            "colorscale": [
             [
              0,
              "#0d0887"
             ],
             [
              0.1111111111111111,
              "#46039f"
             ],
             [
              0.2222222222222222,
              "#7201a8"
             ],
             [
              0.3333333333333333,
              "#9c179e"
             ],
             [
              0.4444444444444444,
              "#bd3786"
             ],
             [
              0.5555555555555556,
              "#d8576b"
             ],
             [
              0.6666666666666666,
              "#ed7953"
             ],
             [
              0.7777777777777778,
              "#fb9f3a"
             ],
             [
              0.8888888888888888,
              "#fdca26"
             ],
             [
              1,
              "#f0f921"
             ]
            ],
            "type": "histogram2dcontour"
           }
          ],
          "mesh3d": [
           {
            "colorbar": {
             "outlinewidth": 0,
             "ticks": ""
            },
            "type": "mesh3d"
           }
          ],
          "parcoords": [
           {
            "line": {
             "colorbar": {
              "outlinewidth": 0,
              "ticks": ""
             }
            },
            "type": "parcoords"
           }
          ],
          "pie": [
           {
            "automargin": true,
            "type": "pie"
           }
          ],
          "scatter": [
           {
            "marker": {
             "colorbar": {
              "outlinewidth": 0,
              "ticks": ""
             }
            },
            "type": "scatter"
           }
          ],
          "scatter3d": [
           {
            "line": {
             "colorbar": {
              "outlinewidth": 0,
              "ticks": ""
             }
            },
            "marker": {
             "colorbar": {
              "outlinewidth": 0,
              "ticks": ""
             }
            },
            "type": "scatter3d"
           }
          ],
          "scattercarpet": [
           {
            "marker": {
             "colorbar": {
              "outlinewidth": 0,
              "ticks": ""
             }
            },
            "type": "scattercarpet"
           }
          ],
          "scattergeo": [
           {
            "marker": {
             "colorbar": {
              "outlinewidth": 0,
              "ticks": ""
             }
            },
            "type": "scattergeo"
           }
          ],
          "scattergl": [
           {
            "marker": {
             "colorbar": {
              "outlinewidth": 0,
              "ticks": ""
             }
            },
            "type": "scattergl"
           }
          ],
          "scattermapbox": [
           {
            "marker": {
             "colorbar": {
              "outlinewidth": 0,
              "ticks": ""
             }
            },
            "type": "scattermapbox"
           }
          ],
          "scatterpolar": [
           {
            "marker": {
             "colorbar": {
              "outlinewidth": 0,
              "ticks": ""
             }
            },
            "type": "scatterpolar"
           }
          ],
          "scatterpolargl": [
           {
            "marker": {
             "colorbar": {
              "outlinewidth": 0,
              "ticks": ""
             }
            },
            "type": "scatterpolargl"
           }
          ],
          "scatterternary": [
           {
            "marker": {
             "colorbar": {
              "outlinewidth": 0,
              "ticks": ""
             }
            },
            "type": "scatterternary"
           }
          ],
          "surface": [
           {
            "colorbar": {
             "outlinewidth": 0,
             "ticks": ""
            },
            "colorscale": [
             [
              0,
              "#0d0887"
             ],
             [
              0.1111111111111111,
              "#46039f"
             ],
             [
              0.2222222222222222,
              "#7201a8"
             ],
             [
              0.3333333333333333,
              "#9c179e"
             ],
             [
              0.4444444444444444,
              "#bd3786"
             ],
             [
              0.5555555555555556,
              "#d8576b"
             ],
             [
              0.6666666666666666,
              "#ed7953"
             ],
             [
              0.7777777777777778,
              "#fb9f3a"
             ],
             [
              0.8888888888888888,
              "#fdca26"
             ],
             [
              1,
              "#f0f921"
             ]
            ],
            "type": "surface"
           }
          ],
          "table": [
           {
            "cells": {
             "fill": {
              "color": "#EBF0F8"
             },
             "line": {
              "color": "white"
             }
            },
            "header": {
             "fill": {
              "color": "#C8D4E3"
             },
             "line": {
              "color": "white"
             }
            },
            "type": "table"
           }
          ]
         },
         "layout": {
          "annotationdefaults": {
           "arrowcolor": "#2a3f5f",
           "arrowhead": 0,
           "arrowwidth": 1
          },
          "autotypenumbers": "strict",
          "coloraxis": {
           "colorbar": {
            "outlinewidth": 0,
            "ticks": ""
           }
          },
          "colorscale": {
           "diverging": [
            [
             0,
             "#8e0152"
            ],
            [
             0.1,
             "#c51b7d"
            ],
            [
             0.2,
             "#de77ae"
            ],
            [
             0.3,
             "#f1b6da"
            ],
            [
             0.4,
             "#fde0ef"
            ],
            [
             0.5,
             "#f7f7f7"
            ],
            [
             0.6,
             "#e6f5d0"
            ],
            [
             0.7,
             "#b8e186"
            ],
            [
             0.8,
             "#7fbc41"
            ],
            [
             0.9,
             "#4d9221"
            ],
            [
             1,
             "#276419"
            ]
           ],
           "sequential": [
            [
             0,
             "#0d0887"
            ],
            [
             0.1111111111111111,
             "#46039f"
            ],
            [
             0.2222222222222222,
             "#7201a8"
            ],
            [
             0.3333333333333333,
             "#9c179e"
            ],
            [
             0.4444444444444444,
             "#bd3786"
            ],
            [
             0.5555555555555556,
             "#d8576b"
            ],
            [
             0.6666666666666666,
             "#ed7953"
            ],
            [
             0.7777777777777778,
             "#fb9f3a"
            ],
            [
             0.8888888888888888,
             "#fdca26"
            ],
            [
             1,
             "#f0f921"
            ]
           ],
           "sequentialminus": [
            [
             0,
             "#0d0887"
            ],
            [
             0.1111111111111111,
             "#46039f"
            ],
            [
             0.2222222222222222,
             "#7201a8"
            ],
            [
             0.3333333333333333,
             "#9c179e"
            ],
            [
             0.4444444444444444,
             "#bd3786"
            ],
            [
             0.5555555555555556,
             "#d8576b"
            ],
            [
             0.6666666666666666,
             "#ed7953"
            ],
            [
             0.7777777777777778,
             "#fb9f3a"
            ],
            [
             0.8888888888888888,
             "#fdca26"
            ],
            [
             1,
             "#f0f921"
            ]
           ]
          },
          "colorway": [
           "#636efa",
           "#EF553B",
           "#00cc96",
           "#ab63fa",
           "#FFA15A",
           "#19d3f3",
           "#FF6692",
           "#B6E880",
           "#FF97FF",
           "#FECB52"
          ],
          "font": {
           "color": "#2a3f5f"
          },
          "geo": {
           "bgcolor": "white",
           "lakecolor": "white",
           "landcolor": "#E5ECF6",
           "showlakes": true,
           "showland": true,
           "subunitcolor": "white"
          },
          "hoverlabel": {
           "align": "left"
          },
          "hovermode": "closest",
          "mapbox": {
           "style": "light"
          },
          "paper_bgcolor": "white",
          "plot_bgcolor": "#E5ECF6",
          "polar": {
           "angularaxis": {
            "gridcolor": "white",
            "linecolor": "white",
            "ticks": ""
           },
           "bgcolor": "#E5ECF6",
           "radialaxis": {
            "gridcolor": "white",
            "linecolor": "white",
            "ticks": ""
           }
          },
          "scene": {
           "xaxis": {
            "backgroundcolor": "#E5ECF6",
            "gridcolor": "white",
            "gridwidth": 2,
            "linecolor": "white",
            "showbackground": true,
            "ticks": "",
            "zerolinecolor": "white"
           },
           "yaxis": {
            "backgroundcolor": "#E5ECF6",
            "gridcolor": "white",
            "gridwidth": 2,
            "linecolor": "white",
            "showbackground": true,
            "ticks": "",
            "zerolinecolor": "white"
           },
           "zaxis": {
            "backgroundcolor": "#E5ECF6",
            "gridcolor": "white",
            "gridwidth": 2,
            "linecolor": "white",
            "showbackground": true,
            "ticks": "",
            "zerolinecolor": "white"
           }
          },
          "shapedefaults": {
           "line": {
            "color": "#2a3f5f"
           }
          },
          "ternary": {
           "aaxis": {
            "gridcolor": "white",
            "linecolor": "white",
            "ticks": ""
           },
           "baxis": {
            "gridcolor": "white",
            "linecolor": "white",
            "ticks": ""
           },
           "bgcolor": "#E5ECF6",
           "caxis": {
            "gridcolor": "white",
            "linecolor": "white",
            "ticks": ""
           }
          },
          "title": {
           "x": 0.05
          },
          "xaxis": {
           "automargin": true,
           "gridcolor": "white",
           "linecolor": "white",
           "ticks": "",
           "title": {
            "standoff": 15
           },
           "zerolinecolor": "white",
           "zerolinewidth": 2
          },
          "yaxis": {
           "automargin": true,
           "gridcolor": "white",
           "linecolor": "white",
           "ticks": "",
           "title": {
            "standoff": 15
           },
           "zerolinecolor": "white",
           "zerolinewidth": 2
          }
         }
        },
        "width": 2000,
        "xaxis": {
         "anchor": "y",
         "domain": [
          0,
          1
         ],
         "range": [
          -3,
          15
         ],
         "title": {
          "text": "ERCC_attomoles_in_sample"
         },
         "type": "log"
        },
        "yaxis": {
         "anchor": "x",
         "domain": [
          0,
          1
         ],
         "title": {
          "text": "RPK"
         },
         "type": "log"
        }
       }
      }
     },
     "metadata": {},
     "output_type": "display_data"
    },
    {
     "name": "stderr",
     "output_type": "stream",
     "text": [
      "C:\\Users\\adiro\\AppData\\Local\\Temp\\ipykernel_32200\\2061613557.py:205: SettingWithCopyWarning:\n",
      "\n",
      "\n",
      "A value is trying to be set on a copy of a slice from a DataFrame.\n",
      "Try using .loc[row_indexer,col_indexer] = value instead\n",
      "\n",
      "See the caveats in the documentation: https://pandas.pydata.org/pandas-docs/stable/user_guide/indexing.html#returning-a-view-versus-a-copy\n",
      "\n"
     ]
    },
    {
     "data": {
      "application/vnd.plotly.v1+json": {
       "config": {
        "plotlyServerURL": "https://plot.ly"
       },
       "data": [
        {
         "hovertemplate": "<b>%{hovertext}</b><br><br>in_fit=in fit<br>ERCC_attomoles_in_sample=%{x}<br>RPK=%{y}<extra></extra>",
         "hovertext": [
          "ERCC-00002",
          "ERCC-00003",
          "ERCC-00004",
          "ERCC-00009",
          "ERCC-00012",
          "ERCC-00013",
          "ERCC-00014",
          "ERCC-00016",
          "ERCC-00017",
          "ERCC-00019",
          "ERCC-00022",
          "ERCC-00024",
          "ERCC-00025",
          "ERCC-00028",
          "ERCC-00031",
          "ERCC-00033",
          "ERCC-00034",
          "ERCC-00035",
          "ERCC-00039",
          "ERCC-00040",
          "ERCC-00041",
          "ERCC-00042",
          "ERCC-00043",
          "ERCC-00044",
          "ERCC-00046",
          "ERCC-00048",
          "ERCC-00051",
          "ERCC-00053",
          "ERCC-00057",
          "ERCC-00058",
          "ERCC-00059",
          "ERCC-00060",
          "ERCC-00061",
          "ERCC-00062",
          "ERCC-00067",
          "ERCC-00069",
          "ERCC-00071",
          "ERCC-00073",
          "ERCC-00074",
          "ERCC-00075",
          "ERCC-00076",
          "ERCC-00077",
          "ERCC-00078",
          "ERCC-00079",
          "ERCC-00081",
          "ERCC-00083",
          "ERCC-00084",
          "ERCC-00085",
          "ERCC-00086",
          "ERCC-00092",
          "ERCC-00095",
          "ERCC-00096",
          "ERCC-00097",
          "ERCC-00098",
          "ERCC-00099",
          "ERCC-00104",
          "ERCC-00108",
          "ERCC-00109",
          "ERCC-00111",
          "ERCC-00112",
          "ERCC-00113",
          "ERCC-00116",
          "ERCC-00117",
          "ERCC-00120",
          "ERCC-00123",
          "ERCC-00126",
          "ERCC-00130",
          "ERCC-00131",
          "ERCC-00134",
          "ERCC-00136",
          "ERCC-00137",
          "ERCC-00138",
          "ERCC-00142",
          "ERCC-00143",
          "ERCC-00144",
          "ERCC-00145",
          "ERCC-00147",
          "ERCC-00148",
          "ERCC-00150",
          "ERCC-00154",
          "ERCC-00156",
          "ERCC-00157",
          "ERCC-00158",
          "ERCC-00160",
          "ERCC-00162",
          "ERCC-00163",
          "ERCC-00164",
          "ERCC-00165",
          "ERCC-00168",
          "ERCC-00170",
          "ERCC-00171"
         ],
         "legendgroup": "in fit",
         "marker": {
          "color": "#636efa",
          "symbol": "circle"
         },
         "mode": "markers",
         "name": "in fit",
         "orientation": "h",
         "showlegend": true,
         "type": "scatter",
         "x": [
          487.5,
          30.46875,
          243.75,
          30.46875,
          0.0037193299,
          0.02975463855,
          0.11901855485000001,
          0.0074386598,
          0.0037193299,
          0.9521484375,
          7.6171875,
          0.0074386598,
          1.904296875,
          0.11901855485000001,
          0.05950927742500001,
          0.05950927742500001,
          0.238037109375,
          3.80859375,
          0.11901855485000001,
          0.02975463855,
          0.0074386598,
          15.234375,
          15.234375,
          3.80859375,
          121.875,
          0.0004649164,
          1.904296875,
          0.9521484375,
          0.0004649164,
          0.05950927742500001,
          0.47607421875,
          7.6171875,
          0.00185966495,
          1.904296875,
          0.11901855485000001,
          0.05950927742500001,
          1.904296875,
          0.02975463855,
          487.5,
          0.0004649164,
          7.6171875,
          0.11901855485000001,
          0.9521484375,
          1.904296875,
          0.0074386598,
          0.000929832475,
          0.9521484375,
          0.238037109375,
          0.0037193299,
          7.6171875,
          3.80859375,
          487.5,
          0.014877319275,
          0.00185966495,
          0.47607421875,
          0.0074386598,
          30.46875,
          0.02975463855,
          15.234375,
          3.80859375,
          121.875,
          15.234375,
          0.00185966495,
          0.02975463855,
          0.0074386598,
          0.47607421875,
          975,
          3.80859375,
          0.05950927742500001,
          60.9375,
          0.02975463855,
          0.0037193299,
          0.0074386598,
          0.11901855485000001,
          0.9521484375,
          30.46875,
          0.02975463855,
          0.47607421875,
          0.11901855485000001,
          0.238037109375,
          0.014877319275,
          0.238037109375,
          0.014877319275,
          0.238037109375,
          1.904296875,
          0.47607421875,
          0.014877319275,
          1.904296875,
          0.014877319275,
          0.47607421875,
          121.875
         ],
         "xaxis": "x",
         "y": [
          238347.7851083883,
          23994.134897360706,
          158435.9464627151,
          13004.065040650406,
          4.0241448692152915,
          8.663366336633663,
          45.477772100153295,
          4.739336492890995,
          3.5211267605633805,
          551.2422360248447,
          2989.3475366178427,
          5.597014925373134,
          1161.985957873621,
          44.247787610619476,
          22.847100175746927,
          9.891196834817015,
          308.1452404317959,
          1492.920353982301,
          52.7027027027027,
          9.408602150537634,
          2.67379679144385,
          9930.596285434996,
          5724.34017595308,
          1771.6262975778548,
          77775.8620689655,
          1.0080645161290323,
          259.1240875912409,
          495.6011730205279,
          0,
          36.09154929577465,
          274.2857142857143,
          4200.76481835564,
          0.8802816901408451,
          1059.6285434995114,
          43.47826086956522,
          46.61389621811785,
          894.0809968847352,
          23.217247097844112,
          322360.153256705,
          0,
          1654.2056074766356,
          18.315018315018314,
          621.3494461228601,
          945.6521739130435,
          3.745318352059925,
          4.892367906066536,
          453.72233400402416,
          127.96208530805687,
          1.9607843137254901,
          4629.893238434163,
          3917.4664107485605,
          361483.288166215,
          7.648183556405353,
          1.7497812773403325,
          168.88888888888889,
          0,
          15176.125244618395,
          7.462686567164178,
          5650.905432595573,
          2552.816901408451,
          75242.85714285714,
          10006.52938221999,
          0.8802816901408451,
          7.462686567164178,
          3.9138943248532287,
          110.01788908765651,
          321942.39848914073,
          2739.2996108949415,
          14.5985401459854,
          19625.36302032914,
          5.58659217877095,
          0.9765625,
          2.028397565922921,
          75.25510204081633,
          408.92193308550185,
          7418.426103646832,
          1.9550342130987295,
          64.77732793522267,
          36.33916554508748,
          18.621973929236496,
          2.0242914979757085,
          226.6928361138371,
          5.842259006815969,
          316.28532974428,
          1181.644359464627,
          267.03499079189686,
          8.806262230919765,
          1239.6788990825687,
          12.6953125,
          189.63831867057675,
          53217.82178217822
         ],
         "yaxis": "y"
        },
        {
         "hovertemplate": "<b>%{hovertext}</b><br><br>in_fit=not in fit<br>ERCC_attomoles_in_sample=%{x}<br>RPK=%{y}<extra></extra>",
         "hovertext": [
          "ERCC-00054"
         ],
         "legendgroup": "not in fit",
         "marker": {
          "color": "#EF553B",
          "symbol": "circle"
         },
         "mode": "markers",
         "name": "not in fit",
         "orientation": "h",
         "showlegend": true,
         "type": "scatter",
         "x": [
          0.47607421875
         ],
         "xaxis": "x",
         "y": [
          7.2992700729927
         ],
         "yaxis": "y"
        },
        {
         "mode": "lines",
         "name": "Disrupted_biorep1a",
         "type": "scatter",
         "x": [
          0.01,
          975
         ],
         "y": [
          4.800219947849496,
          423417.74013768294
         ]
        }
       ],
       "layout": {
        "annotations": [
         {
          "align": "left",
          "bordercolor": "black",
          "borderwidth": 1,
          "showarrow": false,
          "text": "fit of log(y) Vs log(x), paremeters: log(y) = m*log(x)+c",
          "x": 0.4,
          "xanchor": "left",
          "xref": "paper",
          "y": 1,
          "yref": "paper"
         },
         {
          "align": "left",
          "bordercolor": "black",
          "borderwidth": 1,
          "showarrow": false,
          "text": "fit in the range ERCC attomoles in sample [0.01,975.00]",
          "x": 0.4,
          "xanchor": "left",
          "xref": "paper",
          "y": 0.9,
          "yref": "paper"
         },
         {
          "align": "left",
          "bordercolor": "black",
          "borderwidth": 1,
          "showarrow": false,
          "text": "the slop in log scale: m = 0.99",
          "x": 0.4,
          "xanchor": "left",
          "xref": "paper",
          "y": 0.8,
          "yref": "paper"
         },
         {
          "align": "left",
          "bordercolor": "black",
          "borderwidth": 1,
          "showarrow": false,
          "text": "the intercept in log scale: c = 6.13",
          "x": 0.4,
          "xanchor": "left",
          "xref": "paper",
          "y": 0.7,
          "yref": "paper"
         },
         {
          "align": "left",
          "bordercolor": "black",
          "borderwidth": 1,
          "showarrow": false,
          "text": "",
          "x": 0.4,
          "xanchor": "left",
          "xref": "paper",
          "y": 0.6,
          "yref": "paper"
         },
         {
          "align": "left",
          "bordercolor": "black",
          "borderwidth": 1,
          "showarrow": false,
          "text": "log(y) = m*log(x)+c --> y = e^c * x^m",
          "x": 0.4,
          "xanchor": "left",
          "xref": "paper",
          "y": 0.5,
          "yref": "paper"
         },
         {
          "align": "left",
          "bordercolor": "black",
          "borderwidth": 1,
          "showarrow": false,
          "text": "the slope in linear scale: e^c = 4.61E+02",
          "x": 0.4,
          "xanchor": "left",
          "xref": "paper",
          "y": 0.3999999999999999,
          "yref": "paper"
         },
         {
          "align": "left",
          "bordercolor": "black",
          "borderwidth": 1,
          "showarrow": false,
          "text": "R^2 = 0.97",
          "x": 0.4,
          "xanchor": "left",
          "xref": "paper",
          "y": 0.29999999999999993,
          "yref": "paper"
         },
         {
          "align": "left",
          "bordercolor": "black",
          "borderwidth": 1,
          "showarrow": false,
          "text": "",
          "x": 0.4,
          "xanchor": "left",
          "xref": "paper",
          "y": 0.19999999999999996,
          "yref": "paper"
         },
         {
          "align": "left",
          "bordercolor": "black",
          "borderwidth": 1,
          "showarrow": false,
          "text": "ERCCs with no reads detected",
          "x": 0.4,
          "xanchor": "left",
          "xref": "paper",
          "y": 0.09999999999999998,
          "yref": "paper"
         },
         {
          "align": "left",
          "bordercolor": "black",
          "borderwidth": 1,
          "showarrow": false,
          "text": " not fitted and not shown",
          "x": 0.4,
          "xanchor": "left",
          "xref": "paper",
          "y": 0,
          "yref": "paper"
         }
        ],
        "font": {
         "size": 24
        },
        "height": 600,
        "legend": {
         "title": {
          "text": "in_fit"
         },
         "tracegroupgap": 0
        },
        "margin": {
         "t": 60
        },
        "template": {
         "data": {
          "bar": [
           {
            "error_x": {
             "color": "#2a3f5f"
            },
            "error_y": {
             "color": "#2a3f5f"
            },
            "marker": {
             "line": {
              "color": "#E5ECF6",
              "width": 0.5
             },
             "pattern": {
              "fillmode": "overlay",
              "size": 10,
              "solidity": 0.2
             }
            },
            "type": "bar"
           }
          ],
          "barpolar": [
           {
            "marker": {
             "line": {
              "color": "#E5ECF6",
              "width": 0.5
             },
             "pattern": {
              "fillmode": "overlay",
              "size": 10,
              "solidity": 0.2
             }
            },
            "type": "barpolar"
           }
          ],
          "carpet": [
           {
            "aaxis": {
             "endlinecolor": "#2a3f5f",
             "gridcolor": "white",
             "linecolor": "white",
             "minorgridcolor": "white",
             "startlinecolor": "#2a3f5f"
            },
            "baxis": {
             "endlinecolor": "#2a3f5f",
             "gridcolor": "white",
             "linecolor": "white",
             "minorgridcolor": "white",
             "startlinecolor": "#2a3f5f"
            },
            "type": "carpet"
           }
          ],
          "choropleth": [
           {
            "colorbar": {
             "outlinewidth": 0,
             "ticks": ""
            },
            "type": "choropleth"
           }
          ],
          "contour": [
           {
            "colorbar": {
             "outlinewidth": 0,
             "ticks": ""
            },
            "colorscale": [
             [
              0,
              "#0d0887"
             ],
             [
              0.1111111111111111,
              "#46039f"
             ],
             [
              0.2222222222222222,
              "#7201a8"
             ],
             [
              0.3333333333333333,
              "#9c179e"
             ],
             [
              0.4444444444444444,
              "#bd3786"
             ],
             [
              0.5555555555555556,
              "#d8576b"
             ],
             [
              0.6666666666666666,
              "#ed7953"
             ],
             [
              0.7777777777777778,
              "#fb9f3a"
             ],
             [
              0.8888888888888888,
              "#fdca26"
             ],
             [
              1,
              "#f0f921"
             ]
            ],
            "type": "contour"
           }
          ],
          "contourcarpet": [
           {
            "colorbar": {
             "outlinewidth": 0,
             "ticks": ""
            },
            "type": "contourcarpet"
           }
          ],
          "heatmap": [
           {
            "colorbar": {
             "outlinewidth": 0,
             "ticks": ""
            },
            "colorscale": [
             [
              0,
              "#0d0887"
             ],
             [
              0.1111111111111111,
              "#46039f"
             ],
             [
              0.2222222222222222,
              "#7201a8"
             ],
             [
              0.3333333333333333,
              "#9c179e"
             ],
             [
              0.4444444444444444,
              "#bd3786"
             ],
             [
              0.5555555555555556,
              "#d8576b"
             ],
             [
              0.6666666666666666,
              "#ed7953"
             ],
             [
              0.7777777777777778,
              "#fb9f3a"
             ],
             [
              0.8888888888888888,
              "#fdca26"
             ],
             [
              1,
              "#f0f921"
             ]
            ],
            "type": "heatmap"
           }
          ],
          "heatmapgl": [
           {
            "colorbar": {
             "outlinewidth": 0,
             "ticks": ""
            },
            "colorscale": [
             [
              0,
              "#0d0887"
             ],
             [
              0.1111111111111111,
              "#46039f"
             ],
             [
              0.2222222222222222,
              "#7201a8"
             ],
             [
              0.3333333333333333,
              "#9c179e"
             ],
             [
              0.4444444444444444,
              "#bd3786"
             ],
             [
              0.5555555555555556,
              "#d8576b"
             ],
             [
              0.6666666666666666,
              "#ed7953"
             ],
             [
              0.7777777777777778,
              "#fb9f3a"
             ],
             [
              0.8888888888888888,
              "#fdca26"
             ],
             [
              1,
              "#f0f921"
             ]
            ],
            "type": "heatmapgl"
           }
          ],
          "histogram": [
           {
            "marker": {
             "pattern": {
              "fillmode": "overlay",
              "size": 10,
              "solidity": 0.2
             }
            },
            "type": "histogram"
           }
          ],
          "histogram2d": [
           {
            "colorbar": {
             "outlinewidth": 0,
             "ticks": ""
            },
            "colorscale": [
             [
              0,
              "#0d0887"
             ],
             [
              0.1111111111111111,
              "#46039f"
             ],
             [
              0.2222222222222222,
              "#7201a8"
             ],
             [
              0.3333333333333333,
              "#9c179e"
             ],
             [
              0.4444444444444444,
              "#bd3786"
             ],
             [
              0.5555555555555556,
              "#d8576b"
             ],
             [
              0.6666666666666666,
              "#ed7953"
             ],
             [
              0.7777777777777778,
              "#fb9f3a"
             ],
             [
              0.8888888888888888,
              "#fdca26"
             ],
             [
              1,
              "#f0f921"
             ]
            ],
            "type": "histogram2d"
           }
          ],
          "histogram2dcontour": [
           {
            "colorbar": {
             "outlinewidth": 0,
             "ticks": ""
            },
            "colorscale": [
             [
              0,
              "#0d0887"
             ],
             [
              0.1111111111111111,
              "#46039f"
             ],
             [
              0.2222222222222222,
              "#7201a8"
             ],
             [
              0.3333333333333333,
              "#9c179e"
             ],
             [
              0.4444444444444444,
              "#bd3786"
             ],
             [
              0.5555555555555556,
              "#d8576b"
             ],
             [
              0.6666666666666666,
              "#ed7953"
             ],
             [
              0.7777777777777778,
              "#fb9f3a"
             ],
             [
              0.8888888888888888,
              "#fdca26"
             ],
             [
              1,
              "#f0f921"
             ]
            ],
            "type": "histogram2dcontour"
           }
          ],
          "mesh3d": [
           {
            "colorbar": {
             "outlinewidth": 0,
             "ticks": ""
            },
            "type": "mesh3d"
           }
          ],
          "parcoords": [
           {
            "line": {
             "colorbar": {
              "outlinewidth": 0,
              "ticks": ""
             }
            },
            "type": "parcoords"
           }
          ],
          "pie": [
           {
            "automargin": true,
            "type": "pie"
           }
          ],
          "scatter": [
           {
            "marker": {
             "colorbar": {
              "outlinewidth": 0,
              "ticks": ""
             }
            },
            "type": "scatter"
           }
          ],
          "scatter3d": [
           {
            "line": {
             "colorbar": {
              "outlinewidth": 0,
              "ticks": ""
             }
            },
            "marker": {
             "colorbar": {
              "outlinewidth": 0,
              "ticks": ""
             }
            },
            "type": "scatter3d"
           }
          ],
          "scattercarpet": [
           {
            "marker": {
             "colorbar": {
              "outlinewidth": 0,
              "ticks": ""
             }
            },
            "type": "scattercarpet"
           }
          ],
          "scattergeo": [
           {
            "marker": {
             "colorbar": {
              "outlinewidth": 0,
              "ticks": ""
             }
            },
            "type": "scattergeo"
           }
          ],
          "scattergl": [
           {
            "marker": {
             "colorbar": {
              "outlinewidth": 0,
              "ticks": ""
             }
            },
            "type": "scattergl"
           }
          ],
          "scattermapbox": [
           {
            "marker": {
             "colorbar": {
              "outlinewidth": 0,
              "ticks": ""
             }
            },
            "type": "scattermapbox"
           }
          ],
          "scatterpolar": [
           {
            "marker": {
             "colorbar": {
              "outlinewidth": 0,
              "ticks": ""
             }
            },
            "type": "scatterpolar"
           }
          ],
          "scatterpolargl": [
           {
            "marker": {
             "colorbar": {
              "outlinewidth": 0,
              "ticks": ""
             }
            },
            "type": "scatterpolargl"
           }
          ],
          "scatterternary": [
           {
            "marker": {
             "colorbar": {
              "outlinewidth": 0,
              "ticks": ""
             }
            },
            "type": "scatterternary"
           }
          ],
          "surface": [
           {
            "colorbar": {
             "outlinewidth": 0,
             "ticks": ""
            },
            "colorscale": [
             [
              0,
              "#0d0887"
             ],
             [
              0.1111111111111111,
              "#46039f"
             ],
             [
              0.2222222222222222,
              "#7201a8"
             ],
             [
              0.3333333333333333,
              "#9c179e"
             ],
             [
              0.4444444444444444,
              "#bd3786"
             ],
             [
              0.5555555555555556,
              "#d8576b"
             ],
             [
              0.6666666666666666,
              "#ed7953"
             ],
             [
              0.7777777777777778,
              "#fb9f3a"
             ],
             [
              0.8888888888888888,
              "#fdca26"
             ],
             [
              1,
              "#f0f921"
             ]
            ],
            "type": "surface"
           }
          ],
          "table": [
           {
            "cells": {
             "fill": {
              "color": "#EBF0F8"
             },
             "line": {
              "color": "white"
             }
            },
            "header": {
             "fill": {
              "color": "#C8D4E3"
             },
             "line": {
              "color": "white"
             }
            },
            "type": "table"
           }
          ]
         },
         "layout": {
          "annotationdefaults": {
           "arrowcolor": "#2a3f5f",
           "arrowhead": 0,
           "arrowwidth": 1
          },
          "autotypenumbers": "strict",
          "coloraxis": {
           "colorbar": {
            "outlinewidth": 0,
            "ticks": ""
           }
          },
          "colorscale": {
           "diverging": [
            [
             0,
             "#8e0152"
            ],
            [
             0.1,
             "#c51b7d"
            ],
            [
             0.2,
             "#de77ae"
            ],
            [
             0.3,
             "#f1b6da"
            ],
            [
             0.4,
             "#fde0ef"
            ],
            [
             0.5,
             "#f7f7f7"
            ],
            [
             0.6,
             "#e6f5d0"
            ],
            [
             0.7,
             "#b8e186"
            ],
            [
             0.8,
             "#7fbc41"
            ],
            [
             0.9,
             "#4d9221"
            ],
            [
             1,
             "#276419"
            ]
           ],
           "sequential": [
            [
             0,
             "#0d0887"
            ],
            [
             0.1111111111111111,
             "#46039f"
            ],
            [
             0.2222222222222222,
             "#7201a8"
            ],
            [
             0.3333333333333333,
             "#9c179e"
            ],
            [
             0.4444444444444444,
             "#bd3786"
            ],
            [
             0.5555555555555556,
             "#d8576b"
            ],
            [
             0.6666666666666666,
             "#ed7953"
            ],
            [
             0.7777777777777778,
             "#fb9f3a"
            ],
            [
             0.8888888888888888,
             "#fdca26"
            ],
            [
             1,
             "#f0f921"
            ]
           ],
           "sequentialminus": [
            [
             0,
             "#0d0887"
            ],
            [
             0.1111111111111111,
             "#46039f"
            ],
            [
             0.2222222222222222,
             "#7201a8"
            ],
            [
             0.3333333333333333,
             "#9c179e"
            ],
            [
             0.4444444444444444,
             "#bd3786"
            ],
            [
             0.5555555555555556,
             "#d8576b"
            ],
            [
             0.6666666666666666,
             "#ed7953"
            ],
            [
             0.7777777777777778,
             "#fb9f3a"
            ],
            [
             0.8888888888888888,
             "#fdca26"
            ],
            [
             1,
             "#f0f921"
            ]
           ]
          },
          "colorway": [
           "#636efa",
           "#EF553B",
           "#00cc96",
           "#ab63fa",
           "#FFA15A",
           "#19d3f3",
           "#FF6692",
           "#B6E880",
           "#FF97FF",
           "#FECB52"
          ],
          "font": {
           "color": "#2a3f5f"
          },
          "geo": {
           "bgcolor": "white",
           "lakecolor": "white",
           "landcolor": "#E5ECF6",
           "showlakes": true,
           "showland": true,
           "subunitcolor": "white"
          },
          "hoverlabel": {
           "align": "left"
          },
          "hovermode": "closest",
          "mapbox": {
           "style": "light"
          },
          "paper_bgcolor": "white",
          "plot_bgcolor": "#E5ECF6",
          "polar": {
           "angularaxis": {
            "gridcolor": "white",
            "linecolor": "white",
            "ticks": ""
           },
           "bgcolor": "#E5ECF6",
           "radialaxis": {
            "gridcolor": "white",
            "linecolor": "white",
            "ticks": ""
           }
          },
          "scene": {
           "xaxis": {
            "backgroundcolor": "#E5ECF6",
            "gridcolor": "white",
            "gridwidth": 2,
            "linecolor": "white",
            "showbackground": true,
            "ticks": "",
            "zerolinecolor": "white"
           },
           "yaxis": {
            "backgroundcolor": "#E5ECF6",
            "gridcolor": "white",
            "gridwidth": 2,
            "linecolor": "white",
            "showbackground": true,
            "ticks": "",
            "zerolinecolor": "white"
           },
           "zaxis": {
            "backgroundcolor": "#E5ECF6",
            "gridcolor": "white",
            "gridwidth": 2,
            "linecolor": "white",
            "showbackground": true,
            "ticks": "",
            "zerolinecolor": "white"
           }
          },
          "shapedefaults": {
           "line": {
            "color": "#2a3f5f"
           }
          },
          "ternary": {
           "aaxis": {
            "gridcolor": "white",
            "linecolor": "white",
            "ticks": ""
           },
           "baxis": {
            "gridcolor": "white",
            "linecolor": "white",
            "ticks": ""
           },
           "bgcolor": "#E5ECF6",
           "caxis": {
            "gridcolor": "white",
            "linecolor": "white",
            "ticks": ""
           }
          },
          "title": {
           "x": 0.05
          },
          "xaxis": {
           "automargin": true,
           "gridcolor": "white",
           "linecolor": "white",
           "ticks": "",
           "title": {
            "standoff": 15
           },
           "zerolinecolor": "white",
           "zerolinewidth": 2
          },
          "yaxis": {
           "automargin": true,
           "gridcolor": "white",
           "linecolor": "white",
           "ticks": "",
           "title": {
            "standoff": 15
           },
           "zerolinecolor": "white",
           "zerolinewidth": 2
          }
         }
        },
        "width": 2000,
        "xaxis": {
         "anchor": "y",
         "domain": [
          0,
          1
         ],
         "range": [
          -3,
          15
         ],
         "title": {
          "text": "ERCC_attomoles_in_sample"
         },
         "type": "log"
        },
        "yaxis": {
         "anchor": "x",
         "domain": [
          0,
          1
         ],
         "title": {
          "text": "RPK"
         },
         "type": "log"
        }
       }
      }
     },
     "metadata": {},
     "output_type": "display_data"
    },
    {
     "name": "stderr",
     "output_type": "stream",
     "text": [
      "C:\\Users\\adiro\\AppData\\Local\\Temp\\ipykernel_32200\\2061613557.py:205: SettingWithCopyWarning:\n",
      "\n",
      "\n",
      "A value is trying to be set on a copy of a slice from a DataFrame.\n",
      "Try using .loc[row_indexer,col_indexer] = value instead\n",
      "\n",
      "See the caveats in the documentation: https://pandas.pydata.org/pandas-docs/stable/user_guide/indexing.html#returning-a-view-versus-a-copy\n",
      "\n"
     ]
    },
    {
     "data": {
      "application/vnd.plotly.v1+json": {
       "config": {
        "plotlyServerURL": "https://plot.ly"
       },
       "data": [
        {
         "hovertemplate": "<b>%{hovertext}</b><br><br>in_fit=in fit<br>ERCC_attomoles_in_sample=%{x}<br>RPK=%{y}<extra></extra>",
         "hovertext": [
          "ERCC-00002",
          "ERCC-00003",
          "ERCC-00004",
          "ERCC-00009",
          "ERCC-00012",
          "ERCC-00013",
          "ERCC-00014",
          "ERCC-00016",
          "ERCC-00017",
          "ERCC-00019",
          "ERCC-00022",
          "ERCC-00024",
          "ERCC-00025",
          "ERCC-00028",
          "ERCC-00031",
          "ERCC-00033",
          "ERCC-00034",
          "ERCC-00035",
          "ERCC-00039",
          "ERCC-00040",
          "ERCC-00041",
          "ERCC-00042",
          "ERCC-00043",
          "ERCC-00044",
          "ERCC-00046",
          "ERCC-00048",
          "ERCC-00051",
          "ERCC-00053",
          "ERCC-00057",
          "ERCC-00058",
          "ERCC-00059",
          "ERCC-00060",
          "ERCC-00061",
          "ERCC-00062",
          "ERCC-00067",
          "ERCC-00069",
          "ERCC-00071",
          "ERCC-00073",
          "ERCC-00074",
          "ERCC-00075",
          "ERCC-00076",
          "ERCC-00077",
          "ERCC-00078",
          "ERCC-00079",
          "ERCC-00081",
          "ERCC-00083",
          "ERCC-00084",
          "ERCC-00085",
          "ERCC-00086",
          "ERCC-00092",
          "ERCC-00095",
          "ERCC-00096",
          "ERCC-00097",
          "ERCC-00098",
          "ERCC-00099",
          "ERCC-00104",
          "ERCC-00108",
          "ERCC-00109",
          "ERCC-00111",
          "ERCC-00112",
          "ERCC-00113",
          "ERCC-00116",
          "ERCC-00117",
          "ERCC-00120",
          "ERCC-00123",
          "ERCC-00126",
          "ERCC-00130",
          "ERCC-00131",
          "ERCC-00134",
          "ERCC-00136",
          "ERCC-00137",
          "ERCC-00138",
          "ERCC-00142",
          "ERCC-00143",
          "ERCC-00144",
          "ERCC-00145",
          "ERCC-00147",
          "ERCC-00148",
          "ERCC-00150",
          "ERCC-00154",
          "ERCC-00156",
          "ERCC-00157",
          "ERCC-00158",
          "ERCC-00160",
          "ERCC-00162",
          "ERCC-00163",
          "ERCC-00164",
          "ERCC-00165",
          "ERCC-00168",
          "ERCC-00170",
          "ERCC-00171"
         ],
         "legendgroup": "in fit",
         "marker": {
          "color": "#636efa",
          "symbol": "circle"
         },
         "mode": "markers",
         "name": "in fit",
         "orientation": "h",
         "showlegend": true,
         "type": "scatter",
         "x": [
          487.5,
          30.46875,
          243.75,
          30.46875,
          0.0037193299,
          0.02975463855,
          0.11901855485000001,
          0.0074386598,
          0.0037193299,
          0.9521484375,
          7.6171875,
          0.0074386598,
          1.904296875,
          0.11901855485000001,
          0.05950927742500001,
          0.05950927742500001,
          0.238037109375,
          3.80859375,
          0.11901855485000001,
          0.02975463855,
          0.0074386598,
          15.234375,
          15.234375,
          3.80859375,
          121.875,
          0.0004649164,
          1.904296875,
          0.9521484375,
          0.0004649164,
          0.05950927742500001,
          0.47607421875,
          7.6171875,
          0.00185966495,
          1.904296875,
          0.11901855485000001,
          0.05950927742500001,
          1.904296875,
          0.02975463855,
          487.5,
          0.0004649164,
          7.6171875,
          0.11901855485000001,
          0.9521484375,
          1.904296875,
          0.0074386598,
          0.000929832475,
          0.9521484375,
          0.238037109375,
          0.0037193299,
          7.6171875,
          3.80859375,
          487.5,
          0.014877319275,
          0.00185966495,
          0.47607421875,
          0.0074386598,
          30.46875,
          0.02975463855,
          15.234375,
          3.80859375,
          121.875,
          15.234375,
          0.00185966495,
          0.02975463855,
          0.0074386598,
          0.47607421875,
          975,
          3.80859375,
          0.05950927742500001,
          60.9375,
          0.02975463855,
          0.0037193299,
          0.0074386598,
          0.11901855485000001,
          0.9521484375,
          30.46875,
          0.02975463855,
          0.47607421875,
          0.11901855485000001,
          0.238037109375,
          0.014877319275,
          0.238037109375,
          0.014877319275,
          0.238037109375,
          1.904296875,
          0.47607421875,
          0.014877319275,
          1.904296875,
          0.014877319275,
          0.47607421875,
          121.875
         ],
         "xaxis": "x",
         "y": [
          744986.8049010368,
          56569.892473118285,
          306003.8240917782,
          33842.47967479675,
          3.018108651911469,
          55.69306930693069,
          175.77925396014308,
          11.848341232227488,
          7.042253521126761,
          1757.7639751552795,
          7443.4087882822905,
          3.731343283582089,
          3010.0300902708123,
          155.75221238938053,
          53.602811950790866,
          75.1730959446093,
          746.8105986261041,
          4524.778761061947,
          114.86486486486487,
          51.075268817204304,
          10.6951871657754,
          21867.057673509287,
          19559.139784946237,
          5038.062283737025,
          230189.6551724138,
          2.0161290322580645,
          872.2627737226277,
          1169.1104594330402,
          0.9794319294809012,
          79.22535211267606,
          554.2857142857142,
          15556.405353728489,
          4.401408450704226,
          2845.552297165201,
          86.95652173913044,
          126.64907651715039,
          1847.3520249221183,
          36.48424543946932,
          665980.8429118773,
          2.932551319648094,
          5545.171339563863,
          117.21611721611721,
          1590.1309164149043,
          2810.55900621118,
          11.235955056179774,
          6.8493150684931505,
          1504.0241448692152,
          305.6872037914692,
          2.941176470588235,
          14274.911032028469,
          7412.667946257197,
          918543.8121047877,
          21.03250478011472,
          12.248468941382328,
          563.7037037037037,
          6.923837784371909,
          41606.65362035225,
          5.597014925373134,
          15274.647887323943,
          6880.281690140846,
          190371.42857142858,
          31362.631843294825,
          0.8802816901408451,
          26.119402985074625,
          17.61252446183953,
          329.15921288014306,
          1171681.775259679,
          8102.464332036317,
          29.1970802919708,
          68097.77347531462,
          20.484171322160147,
          1.953125,
          2.028397565922921,
          232.14285714285714,
          931.2267657992564,
          22279.27063339731,
          14.66275659824047,
          336.0323886639676,
          157.46971736204577,
          225.32588454376162,
          18.21862348178138,
          676.1530912659471,
          15.579357351509252,
          970.3903095558546,
          2495.2198852772467,
          941.0681399631675,
          16.634050880626223,
          3150.229357798165,
          32.2265625,
          1345.0635386119259,
          145540.59405940594
         ],
         "yaxis": "y"
        },
        {
         "hovertemplate": "<b>%{hovertext}</b><br><br>in_fit=not in fit<br>ERCC_attomoles_in_sample=%{x}<br>RPK=%{y}<extra></extra>",
         "hovertext": [
          "ERCC-00054"
         ],
         "legendgroup": "not in fit",
         "marker": {
          "color": "#EF553B",
          "symbol": "circle"
         },
         "mode": "markers",
         "name": "not in fit",
         "orientation": "h",
         "showlegend": true,
         "type": "scatter",
         "x": [
          0.47607421875
         ],
         "xaxis": "x",
         "y": [
          18.24817518248175
         ],
         "yaxis": "y"
        },
        {
         "mode": "lines",
         "name": "CASP_biorep1a",
         "type": "scatter",
         "x": [
          0.01,
          975
         ],
         "y": [
          13.668725497302214,
          1224378.163975365
         ]
        }
       ],
       "layout": {
        "annotations": [
         {
          "align": "left",
          "bordercolor": "black",
          "borderwidth": 1,
          "showarrow": false,
          "text": "fit of log(y) Vs log(x), paremeters: log(y) = m*log(x)+c",
          "x": 0.4,
          "xanchor": "left",
          "xref": "paper",
          "y": 1,
          "yref": "paper"
         },
         {
          "align": "left",
          "bordercolor": "black",
          "borderwidth": 1,
          "showarrow": false,
          "text": "fit in the range ERCC attomoles in sample [0.01,975.00]",
          "x": 0.4,
          "xanchor": "left",
          "xref": "paper",
          "y": 0.9,
          "yref": "paper"
         },
         {
          "align": "left",
          "bordercolor": "black",
          "borderwidth": 1,
          "showarrow": false,
          "text": "the slop in log scale: m = 0.99",
          "x": 0.4,
          "xanchor": "left",
          "xref": "paper",
          "y": 0.8,
          "yref": "paper"
         },
         {
          "align": "left",
          "bordercolor": "black",
          "borderwidth": 1,
          "showarrow": false,
          "text": "the intercept in log scale: c = 7.19",
          "x": 0.4,
          "xanchor": "left",
          "xref": "paper",
          "y": 0.7,
          "yref": "paper"
         },
         {
          "align": "left",
          "bordercolor": "black",
          "borderwidth": 1,
          "showarrow": false,
          "text": "",
          "x": 0.4,
          "xanchor": "left",
          "xref": "paper",
          "y": 0.6,
          "yref": "paper"
         },
         {
          "align": "left",
          "bordercolor": "black",
          "borderwidth": 1,
          "showarrow": false,
          "text": "log(y) = m*log(x)+c --> y = e^c * x^m",
          "x": 0.4,
          "xanchor": "left",
          "xref": "paper",
          "y": 0.5,
          "yref": "paper"
         },
         {
          "align": "left",
          "bordercolor": "black",
          "borderwidth": 1,
          "showarrow": false,
          "text": "the slope in linear scale: e^c = 1.32E+03",
          "x": 0.4,
          "xanchor": "left",
          "xref": "paper",
          "y": 0.3999999999999999,
          "yref": "paper"
         },
         {
          "align": "left",
          "bordercolor": "black",
          "borderwidth": 1,
          "showarrow": false,
          "text": "R^2 = 0.97",
          "x": 0.4,
          "xanchor": "left",
          "xref": "paper",
          "y": 0.29999999999999993,
          "yref": "paper"
         },
         {
          "align": "left",
          "bordercolor": "black",
          "borderwidth": 1,
          "showarrow": false,
          "text": "",
          "x": 0.4,
          "xanchor": "left",
          "xref": "paper",
          "y": 0.19999999999999996,
          "yref": "paper"
         },
         {
          "align": "left",
          "bordercolor": "black",
          "borderwidth": 1,
          "showarrow": false,
          "text": "ERCCs with no reads detected",
          "x": 0.4,
          "xanchor": "left",
          "xref": "paper",
          "y": 0.09999999999999998,
          "yref": "paper"
         },
         {
          "align": "left",
          "bordercolor": "black",
          "borderwidth": 1,
          "showarrow": false,
          "text": " not fitted and not shown",
          "x": 0.4,
          "xanchor": "left",
          "xref": "paper",
          "y": 0,
          "yref": "paper"
         }
        ],
        "font": {
         "size": 24
        },
        "height": 600,
        "legend": {
         "title": {
          "text": "in_fit"
         },
         "tracegroupgap": 0
        },
        "margin": {
         "t": 60
        },
        "template": {
         "data": {
          "bar": [
           {
            "error_x": {
             "color": "#2a3f5f"
            },
            "error_y": {
             "color": "#2a3f5f"
            },
            "marker": {
             "line": {
              "color": "#E5ECF6",
              "width": 0.5
             },
             "pattern": {
              "fillmode": "overlay",
              "size": 10,
              "solidity": 0.2
             }
            },
            "type": "bar"
           }
          ],
          "barpolar": [
           {
            "marker": {
             "line": {
              "color": "#E5ECF6",
              "width": 0.5
             },
             "pattern": {
              "fillmode": "overlay",
              "size": 10,
              "solidity": 0.2
             }
            },
            "type": "barpolar"
           }
          ],
          "carpet": [
           {
            "aaxis": {
             "endlinecolor": "#2a3f5f",
             "gridcolor": "white",
             "linecolor": "white",
             "minorgridcolor": "white",
             "startlinecolor": "#2a3f5f"
            },
            "baxis": {
             "endlinecolor": "#2a3f5f",
             "gridcolor": "white",
             "linecolor": "white",
             "minorgridcolor": "white",
             "startlinecolor": "#2a3f5f"
            },
            "type": "carpet"
           }
          ],
          "choropleth": [
           {
            "colorbar": {
             "outlinewidth": 0,
             "ticks": ""
            },
            "type": "choropleth"
           }
          ],
          "contour": [
           {
            "colorbar": {
             "outlinewidth": 0,
             "ticks": ""
            },
            "colorscale": [
             [
              0,
              "#0d0887"
             ],
             [
              0.1111111111111111,
              "#46039f"
             ],
             [
              0.2222222222222222,
              "#7201a8"
             ],
             [
              0.3333333333333333,
              "#9c179e"
             ],
             [
              0.4444444444444444,
              "#bd3786"
             ],
             [
              0.5555555555555556,
              "#d8576b"
             ],
             [
              0.6666666666666666,
              "#ed7953"
             ],
             [
              0.7777777777777778,
              "#fb9f3a"
             ],
             [
              0.8888888888888888,
              "#fdca26"
             ],
             [
              1,
              "#f0f921"
             ]
            ],
            "type": "contour"
           }
          ],
          "contourcarpet": [
           {
            "colorbar": {
             "outlinewidth": 0,
             "ticks": ""
            },
            "type": "contourcarpet"
           }
          ],
          "heatmap": [
           {
            "colorbar": {
             "outlinewidth": 0,
             "ticks": ""
            },
            "colorscale": [
             [
              0,
              "#0d0887"
             ],
             [
              0.1111111111111111,
              "#46039f"
             ],
             [
              0.2222222222222222,
              "#7201a8"
             ],
             [
              0.3333333333333333,
              "#9c179e"
             ],
             [
              0.4444444444444444,
              "#bd3786"
             ],
             [
              0.5555555555555556,
              "#d8576b"
             ],
             [
              0.6666666666666666,
              "#ed7953"
             ],
             [
              0.7777777777777778,
              "#fb9f3a"
             ],
             [
              0.8888888888888888,
              "#fdca26"
             ],
             [
              1,
              "#f0f921"
             ]
            ],
            "type": "heatmap"
           }
          ],
          "heatmapgl": [
           {
            "colorbar": {
             "outlinewidth": 0,
             "ticks": ""
            },
            "colorscale": [
             [
              0,
              "#0d0887"
             ],
             [
              0.1111111111111111,
              "#46039f"
             ],
             [
              0.2222222222222222,
              "#7201a8"
             ],
             [
              0.3333333333333333,
              "#9c179e"
             ],
             [
              0.4444444444444444,
              "#bd3786"
             ],
             [
              0.5555555555555556,
              "#d8576b"
             ],
             [
              0.6666666666666666,
              "#ed7953"
             ],
             [
              0.7777777777777778,
              "#fb9f3a"
             ],
             [
              0.8888888888888888,
              "#fdca26"
             ],
             [
              1,
              "#f0f921"
             ]
            ],
            "type": "heatmapgl"
           }
          ],
          "histogram": [
           {
            "marker": {
             "pattern": {
              "fillmode": "overlay",
              "size": 10,
              "solidity": 0.2
             }
            },
            "type": "histogram"
           }
          ],
          "histogram2d": [
           {
            "colorbar": {
             "outlinewidth": 0,
             "ticks": ""
            },
            "colorscale": [
             [
              0,
              "#0d0887"
             ],
             [
              0.1111111111111111,
              "#46039f"
             ],
             [
              0.2222222222222222,
              "#7201a8"
             ],
             [
              0.3333333333333333,
              "#9c179e"
             ],
             [
              0.4444444444444444,
              "#bd3786"
             ],
             [
              0.5555555555555556,
              "#d8576b"
             ],
             [
              0.6666666666666666,
              "#ed7953"
             ],
             [
              0.7777777777777778,
              "#fb9f3a"
             ],
             [
              0.8888888888888888,
              "#fdca26"
             ],
             [
              1,
              "#f0f921"
             ]
            ],
            "type": "histogram2d"
           }
          ],
          "histogram2dcontour": [
           {
            "colorbar": {
             "outlinewidth": 0,
             "ticks": ""
            },
            "colorscale": [
             [
              0,
              "#0d0887"
             ],
             [
              0.1111111111111111,
              "#46039f"
             ],
             [
              0.2222222222222222,
              "#7201a8"
             ],
             [
              0.3333333333333333,
              "#9c179e"
             ],
             [
              0.4444444444444444,
              "#bd3786"
             ],
             [
              0.5555555555555556,
              "#d8576b"
             ],
             [
              0.6666666666666666,
              "#ed7953"
             ],
             [
              0.7777777777777778,
              "#fb9f3a"
             ],
             [
              0.8888888888888888,
              "#fdca26"
             ],
             [
              1,
              "#f0f921"
             ]
            ],
            "type": "histogram2dcontour"
           }
          ],
          "mesh3d": [
           {
            "colorbar": {
             "outlinewidth": 0,
             "ticks": ""
            },
            "type": "mesh3d"
           }
          ],
          "parcoords": [
           {
            "line": {
             "colorbar": {
              "outlinewidth": 0,
              "ticks": ""
             }
            },
            "type": "parcoords"
           }
          ],
          "pie": [
           {
            "automargin": true,
            "type": "pie"
           }
          ],
          "scatter": [
           {
            "marker": {
             "colorbar": {
              "outlinewidth": 0,
              "ticks": ""
             }
            },
            "type": "scatter"
           }
          ],
          "scatter3d": [
           {
            "line": {
             "colorbar": {
              "outlinewidth": 0,
              "ticks": ""
             }
            },
            "marker": {
             "colorbar": {
              "outlinewidth": 0,
              "ticks": ""
             }
            },
            "type": "scatter3d"
           }
          ],
          "scattercarpet": [
           {
            "marker": {
             "colorbar": {
              "outlinewidth": 0,
              "ticks": ""
             }
            },
            "type": "scattercarpet"
           }
          ],
          "scattergeo": [
           {
            "marker": {
             "colorbar": {
              "outlinewidth": 0,
              "ticks": ""
             }
            },
            "type": "scattergeo"
           }
          ],
          "scattergl": [
           {
            "marker": {
             "colorbar": {
              "outlinewidth": 0,
              "ticks": ""
             }
            },
            "type": "scattergl"
           }
          ],
          "scattermapbox": [
           {
            "marker": {
             "colorbar": {
              "outlinewidth": 0,
              "ticks": ""
             }
            },
            "type": "scattermapbox"
           }
          ],
          "scatterpolar": [
           {
            "marker": {
             "colorbar": {
              "outlinewidth": 0,
              "ticks": ""
             }
            },
            "type": "scatterpolar"
           }
          ],
          "scatterpolargl": [
           {
            "marker": {
             "colorbar": {
              "outlinewidth": 0,
              "ticks": ""
             }
            },
            "type": "scatterpolargl"
           }
          ],
          "scatterternary": [
           {
            "marker": {
             "colorbar": {
              "outlinewidth": 0,
              "ticks": ""
             }
            },
            "type": "scatterternary"
           }
          ],
          "surface": [
           {
            "colorbar": {
             "outlinewidth": 0,
             "ticks": ""
            },
            "colorscale": [
             [
              0,
              "#0d0887"
             ],
             [
              0.1111111111111111,
              "#46039f"
             ],
             [
              0.2222222222222222,
              "#7201a8"
             ],
             [
              0.3333333333333333,
              "#9c179e"
             ],
             [
              0.4444444444444444,
              "#bd3786"
             ],
             [
              0.5555555555555556,
              "#d8576b"
             ],
             [
              0.6666666666666666,
              "#ed7953"
             ],
             [
              0.7777777777777778,
              "#fb9f3a"
             ],
             [
              0.8888888888888888,
              "#fdca26"
             ],
             [
              1,
              "#f0f921"
             ]
            ],
            "type": "surface"
           }
          ],
          "table": [
           {
            "cells": {
             "fill": {
              "color": "#EBF0F8"
             },
             "line": {
              "color": "white"
             }
            },
            "header": {
             "fill": {
              "color": "#C8D4E3"
             },
             "line": {
              "color": "white"
             }
            },
            "type": "table"
           }
          ]
         },
         "layout": {
          "annotationdefaults": {
           "arrowcolor": "#2a3f5f",
           "arrowhead": 0,
           "arrowwidth": 1
          },
          "autotypenumbers": "strict",
          "coloraxis": {
           "colorbar": {
            "outlinewidth": 0,
            "ticks": ""
           }
          },
          "colorscale": {
           "diverging": [
            [
             0,
             "#8e0152"
            ],
            [
             0.1,
             "#c51b7d"
            ],
            [
             0.2,
             "#de77ae"
            ],
            [
             0.3,
             "#f1b6da"
            ],
            [
             0.4,
             "#fde0ef"
            ],
            [
             0.5,
             "#f7f7f7"
            ],
            [
             0.6,
             "#e6f5d0"
            ],
            [
             0.7,
             "#b8e186"
            ],
            [
             0.8,
             "#7fbc41"
            ],
            [
             0.9,
             "#4d9221"
            ],
            [
             1,
             "#276419"
            ]
           ],
           "sequential": [
            [
             0,
             "#0d0887"
            ],
            [
             0.1111111111111111,
             "#46039f"
            ],
            [
             0.2222222222222222,
             "#7201a8"
            ],
            [
             0.3333333333333333,
             "#9c179e"
            ],
            [
             0.4444444444444444,
             "#bd3786"
            ],
            [
             0.5555555555555556,
             "#d8576b"
            ],
            [
             0.6666666666666666,
             "#ed7953"
            ],
            [
             0.7777777777777778,
             "#fb9f3a"
            ],
            [
             0.8888888888888888,
             "#fdca26"
            ],
            [
             1,
             "#f0f921"
            ]
           ],
           "sequentialminus": [
            [
             0,
             "#0d0887"
            ],
            [
             0.1111111111111111,
             "#46039f"
            ],
            [
             0.2222222222222222,
             "#7201a8"
            ],
            [
             0.3333333333333333,
             "#9c179e"
            ],
            [
             0.4444444444444444,
             "#bd3786"
            ],
            [
             0.5555555555555556,
             "#d8576b"
            ],
            [
             0.6666666666666666,
             "#ed7953"
            ],
            [
             0.7777777777777778,
             "#fb9f3a"
            ],
            [
             0.8888888888888888,
             "#fdca26"
            ],
            [
             1,
             "#f0f921"
            ]
           ]
          },
          "colorway": [
           "#636efa",
           "#EF553B",
           "#00cc96",
           "#ab63fa",
           "#FFA15A",
           "#19d3f3",
           "#FF6692",
           "#B6E880",
           "#FF97FF",
           "#FECB52"
          ],
          "font": {
           "color": "#2a3f5f"
          },
          "geo": {
           "bgcolor": "white",
           "lakecolor": "white",
           "landcolor": "#E5ECF6",
           "showlakes": true,
           "showland": true,
           "subunitcolor": "white"
          },
          "hoverlabel": {
           "align": "left"
          },
          "hovermode": "closest",
          "mapbox": {
           "style": "light"
          },
          "paper_bgcolor": "white",
          "plot_bgcolor": "#E5ECF6",
          "polar": {
           "angularaxis": {
            "gridcolor": "white",
            "linecolor": "white",
            "ticks": ""
           },
           "bgcolor": "#E5ECF6",
           "radialaxis": {
            "gridcolor": "white",
            "linecolor": "white",
            "ticks": ""
           }
          },
          "scene": {
           "xaxis": {
            "backgroundcolor": "#E5ECF6",
            "gridcolor": "white",
            "gridwidth": 2,
            "linecolor": "white",
            "showbackground": true,
            "ticks": "",
            "zerolinecolor": "white"
           },
           "yaxis": {
            "backgroundcolor": "#E5ECF6",
            "gridcolor": "white",
            "gridwidth": 2,
            "linecolor": "white",
            "showbackground": true,
            "ticks": "",
            "zerolinecolor": "white"
           },
           "zaxis": {
            "backgroundcolor": "#E5ECF6",
            "gridcolor": "white",
            "gridwidth": 2,
            "linecolor": "white",
            "showbackground": true,
            "ticks": "",
            "zerolinecolor": "white"
           }
          },
          "shapedefaults": {
           "line": {
            "color": "#2a3f5f"
           }
          },
          "ternary": {
           "aaxis": {
            "gridcolor": "white",
            "linecolor": "white",
            "ticks": ""
           },
           "baxis": {
            "gridcolor": "white",
            "linecolor": "white",
            "ticks": ""
           },
           "bgcolor": "#E5ECF6",
           "caxis": {
            "gridcolor": "white",
            "linecolor": "white",
            "ticks": ""
           }
          },
          "title": {
           "x": 0.05
          },
          "xaxis": {
           "automargin": true,
           "gridcolor": "white",
           "linecolor": "white",
           "ticks": "",
           "title": {
            "standoff": 15
           },
           "zerolinecolor": "white",
           "zerolinewidth": 2
          },
          "yaxis": {
           "automargin": true,
           "gridcolor": "white",
           "linecolor": "white",
           "ticks": "",
           "title": {
            "standoff": 15
           },
           "zerolinecolor": "white",
           "zerolinewidth": 2
          }
         }
        },
        "width": 2000,
        "xaxis": {
         "anchor": "y",
         "domain": [
          0,
          1
         ],
         "range": [
          -3,
          15
         ],
         "title": {
          "text": "ERCC_attomoles_in_sample"
         },
         "type": "log"
        },
        "yaxis": {
         "anchor": "x",
         "domain": [
          0,
          1
         ],
         "title": {
          "text": "RPK"
         },
         "type": "log"
        }
       }
      }
     },
     "metadata": {},
     "output_type": "display_data"
    },
    {
     "name": "stderr",
     "output_type": "stream",
     "text": [
      "C:\\Users\\adiro\\AppData\\Local\\Temp\\ipykernel_32200\\2061613557.py:205: SettingWithCopyWarning:\n",
      "\n",
      "\n",
      "A value is trying to be set on a copy of a slice from a DataFrame.\n",
      "Try using .loc[row_indexer,col_indexer] = value instead\n",
      "\n",
      "See the caveats in the documentation: https://pandas.pydata.org/pandas-docs/stable/user_guide/indexing.html#returning-a-view-versus-a-copy\n",
      "\n"
     ]
    },
    {
     "data": {
      "application/vnd.plotly.v1+json": {
       "config": {
        "plotlyServerURL": "https://plot.ly"
       },
       "data": [
        {
         "hovertemplate": "<b>%{hovertext}</b><br><br>in_fit=in fit<br>ERCC_attomoles_in_sample=%{x}<br>RPK=%{y}<extra></extra>",
         "hovertext": [
          "ERCC-00002",
          "ERCC-00003",
          "ERCC-00004",
          "ERCC-00009",
          "ERCC-00012",
          "ERCC-00013",
          "ERCC-00014",
          "ERCC-00016",
          "ERCC-00017",
          "ERCC-00019",
          "ERCC-00022",
          "ERCC-00024",
          "ERCC-00025",
          "ERCC-00028",
          "ERCC-00031",
          "ERCC-00033",
          "ERCC-00034",
          "ERCC-00035",
          "ERCC-00039",
          "ERCC-00040",
          "ERCC-00041",
          "ERCC-00042",
          "ERCC-00043",
          "ERCC-00044",
          "ERCC-00046",
          "ERCC-00048",
          "ERCC-00051",
          "ERCC-00053",
          "ERCC-00057",
          "ERCC-00058",
          "ERCC-00059",
          "ERCC-00060",
          "ERCC-00061",
          "ERCC-00062",
          "ERCC-00067",
          "ERCC-00069",
          "ERCC-00071",
          "ERCC-00073",
          "ERCC-00074",
          "ERCC-00075",
          "ERCC-00076",
          "ERCC-00077",
          "ERCC-00078",
          "ERCC-00079",
          "ERCC-00081",
          "ERCC-00083",
          "ERCC-00084",
          "ERCC-00085",
          "ERCC-00086",
          "ERCC-00092",
          "ERCC-00095",
          "ERCC-00096",
          "ERCC-00097",
          "ERCC-00098",
          "ERCC-00099",
          "ERCC-00104",
          "ERCC-00108",
          "ERCC-00109",
          "ERCC-00111",
          "ERCC-00112",
          "ERCC-00113",
          "ERCC-00116",
          "ERCC-00117",
          "ERCC-00120",
          "ERCC-00123",
          "ERCC-00126",
          "ERCC-00130",
          "ERCC-00131",
          "ERCC-00134",
          "ERCC-00136",
          "ERCC-00137",
          "ERCC-00138",
          "ERCC-00142",
          "ERCC-00143",
          "ERCC-00144",
          "ERCC-00145",
          "ERCC-00147",
          "ERCC-00148",
          "ERCC-00150",
          "ERCC-00154",
          "ERCC-00156",
          "ERCC-00157",
          "ERCC-00158",
          "ERCC-00160",
          "ERCC-00162",
          "ERCC-00163",
          "ERCC-00164",
          "ERCC-00165",
          "ERCC-00168",
          "ERCC-00170",
          "ERCC-00171"
         ],
         "legendgroup": "in fit",
         "marker": {
          "color": "#636efa",
          "symbol": "circle"
         },
         "mode": "markers",
         "name": "in fit",
         "orientation": "h",
         "showlegend": true,
         "type": "scatter",
         "x": [
          487.5,
          30.46875,
          243.75,
          30.46875,
          0.0037193299,
          0.02975463855,
          0.11901855485000001,
          0.0074386598,
          0.0037193299,
          0.9521484375,
          7.6171875,
          0.0074386598,
          1.904296875,
          0.11901855485000001,
          0.05950927742500001,
          0.05950927742500001,
          0.238037109375,
          3.80859375,
          0.11901855485000001,
          0.02975463855,
          0.0074386598,
          15.234375,
          15.234375,
          3.80859375,
          121.875,
          0.0004649164,
          1.904296875,
          0.9521484375,
          0.0004649164,
          0.05950927742500001,
          0.47607421875,
          7.6171875,
          0.00185966495,
          1.904296875,
          0.11901855485000001,
          0.05950927742500001,
          1.904296875,
          0.02975463855,
          487.5,
          0.0004649164,
          7.6171875,
          0.11901855485000001,
          0.9521484375,
          1.904296875,
          0.0074386598,
          0.000929832475,
          0.9521484375,
          0.238037109375,
          0.0037193299,
          7.6171875,
          3.80859375,
          487.5,
          0.014877319275,
          0.00185966495,
          0.47607421875,
          0.0074386598,
          30.46875,
          0.02975463855,
          15.234375,
          3.80859375,
          121.875,
          15.234375,
          0.00185966495,
          0.02975463855,
          0.0074386598,
          0.47607421875,
          975,
          3.80859375,
          0.05950927742500001,
          60.9375,
          0.02975463855,
          0.0037193299,
          0.0074386598,
          0.11901855485000001,
          0.9521484375,
          30.46875,
          0.02975463855,
          0.47607421875,
          0.11901855485000001,
          0.238037109375,
          0.014877319275,
          0.238037109375,
          0.014877319275,
          0.238037109375,
          1.904296875,
          0.47607421875,
          0.014877319275,
          1.904296875,
          0.014877319275,
          0.47607421875,
          121.875
         ],
         "xaxis": "x",
         "y": [
          461278.03958529694,
          44106.549364613886,
          292831.73996175907,
          20934.959349593497,
          0,
          28.465346534653463,
          122.12570260602963,
          3.5545023696682465,
          6.161971830985916,
          1001.5527950310559,
          5280.9587217043945,
          1.8656716417910446,
          2092.2768304914744,
          116.81415929203541,
          47.45166959578208,
          50.93966369930762,
          507.36015701668305,
          2949.557522123894,
          116.21621621621622,
          22.8494623655914,
          5.3475935828877,
          17521.994134897363,
          12725.31769305963,
          3321.7993079584776,
          168318.00766283524,
          2.0161290322580645,
          737.2262773722628,
          802.5415444770284,
          0,
          60.73943661971831,
          411.4285714285714,
          12036.328871892925,
          1.7605633802816902,
          2052.785923753666,
          66.77018633540372,
          72.11961301671064,
          1433.0218068535826,
          34.82587064676617,
          553793.1034482758,
          4.887585532746823,
          3007.7881619937693,
          62.27106227106226,
          1292.0443101711985,
          1754.6583850931677,
          5.617977528089887,
          2.935420743639922,
          865.1911468812878,
          234.59715639810426,
          0.9803921568627451,
          9676.156583629892,
          6404.990403071017,
          641860.8852755195,
          7.648183556405353,
          7.874015748031496,
          452.59259259259255,
          4.451038575667656,
          25864.970645792564,
          20.52238805970149,
          11617.706237424547,
          4476.232394366198,
          136721.42857142858,
          18069.311903566046,
          1.7605633802816902,
          5.597014925373134,
          19.569471624266143,
          205.72450805008944,
          829267.2332389046,
          5450.06485084306,
          7.2992700729927,
          39150.048402710556,
          26.070763500931097,
          5.859375,
          2.028397565922921,
          131.37755102040816,
          617.1003717472119,
          14856.046065259117,
          11.730205278592376,
          293.52226720647775,
          95.5585464333782,
          152.7001862197393,
          6.0728744939271255,
          407.26202158979396,
          11.684518013631939,
          554.5087483176312,
          1965.583173996176,
          482.50460405156537,
          19.569471624266143,
          2035.5504587155963,
          24.4140625,
          674.4868035190616,
          114530.69306930693
         ],
         "yaxis": "y"
        },
        {
         "hovertemplate": "<b>%{hovertext}</b><br><br>in_fit=not in fit<br>ERCC_attomoles_in_sample=%{x}<br>RPK=%{y}<extra></extra>",
         "hovertext": [
          "ERCC-00054"
         ],
         "legendgroup": "not in fit",
         "marker": {
          "color": "#EF553B",
          "symbol": "circle"
         },
         "mode": "markers",
         "name": "not in fit",
         "orientation": "h",
         "showlegend": true,
         "type": "scatter",
         "x": [
          0.47607421875
         ],
         "xaxis": "x",
         "y": [
          10.94890510948905
         ],
         "yaxis": "y"
        },
        {
         "mode": "lines",
         "name": "CASP_biorep3",
         "type": "scatter",
         "x": [
          0.01,
          975
         ],
         "y": [
          9.596177518932413,
          828119.1438952076
         ]
        }
       ],
       "layout": {
        "annotations": [
         {
          "align": "left",
          "bordercolor": "black",
          "borderwidth": 1,
          "showarrow": false,
          "text": "fit of log(y) Vs log(x), paremeters: log(y) = m*log(x)+c",
          "x": 0.4,
          "xanchor": "left",
          "xref": "paper",
          "y": 1,
          "yref": "paper"
         },
         {
          "align": "left",
          "bordercolor": "black",
          "borderwidth": 1,
          "showarrow": false,
          "text": "fit in the range ERCC attomoles in sample [0.01,975.00]",
          "x": 0.4,
          "xanchor": "left",
          "xref": "paper",
          "y": 0.9,
          "yref": "paper"
         },
         {
          "align": "left",
          "bordercolor": "black",
          "borderwidth": 1,
          "showarrow": false,
          "text": "the slop in log scale: m = 0.99",
          "x": 0.4,
          "xanchor": "left",
          "xref": "paper",
          "y": 0.8,
          "yref": "paper"
         },
         {
          "align": "left",
          "bordercolor": "black",
          "borderwidth": 1,
          "showarrow": false,
          "text": "the intercept in log scale: c = 6.82",
          "x": 0.4,
          "xanchor": "left",
          "xref": "paper",
          "y": 0.7,
          "yref": "paper"
         },
         {
          "align": "left",
          "bordercolor": "black",
          "borderwidth": 1,
          "showarrow": false,
          "text": "",
          "x": 0.4,
          "xanchor": "left",
          "xref": "paper",
          "y": 0.6,
          "yref": "paper"
         },
         {
          "align": "left",
          "bordercolor": "black",
          "borderwidth": 1,
          "showarrow": false,
          "text": "log(y) = m*log(x)+c --> y = e^c * x^m",
          "x": 0.4,
          "xanchor": "left",
          "xref": "paper",
          "y": 0.5,
          "yref": "paper"
         },
         {
          "align": "left",
          "bordercolor": "black",
          "borderwidth": 1,
          "showarrow": false,
          "text": "the slope in linear scale: e^c = 9.14E+02",
          "x": 0.4,
          "xanchor": "left",
          "xref": "paper",
          "y": 0.3999999999999999,
          "yref": "paper"
         },
         {
          "align": "left",
          "bordercolor": "black",
          "borderwidth": 1,
          "showarrow": false,
          "text": "R^2 = 0.97",
          "x": 0.4,
          "xanchor": "left",
          "xref": "paper",
          "y": 0.29999999999999993,
          "yref": "paper"
         },
         {
          "align": "left",
          "bordercolor": "black",
          "borderwidth": 1,
          "showarrow": false,
          "text": "",
          "x": 0.4,
          "xanchor": "left",
          "xref": "paper",
          "y": 0.19999999999999996,
          "yref": "paper"
         },
         {
          "align": "left",
          "bordercolor": "black",
          "borderwidth": 1,
          "showarrow": false,
          "text": "ERCCs with no reads detected",
          "x": 0.4,
          "xanchor": "left",
          "xref": "paper",
          "y": 0.09999999999999998,
          "yref": "paper"
         },
         {
          "align": "left",
          "bordercolor": "black",
          "borderwidth": 1,
          "showarrow": false,
          "text": " not fitted and not shown",
          "x": 0.4,
          "xanchor": "left",
          "xref": "paper",
          "y": 0,
          "yref": "paper"
         }
        ],
        "font": {
         "size": 24
        },
        "height": 600,
        "legend": {
         "title": {
          "text": "in_fit"
         },
         "tracegroupgap": 0
        },
        "margin": {
         "t": 60
        },
        "template": {
         "data": {
          "bar": [
           {
            "error_x": {
             "color": "#2a3f5f"
            },
            "error_y": {
             "color": "#2a3f5f"
            },
            "marker": {
             "line": {
              "color": "#E5ECF6",
              "width": 0.5
             },
             "pattern": {
              "fillmode": "overlay",
              "size": 10,
              "solidity": 0.2
             }
            },
            "type": "bar"
           }
          ],
          "barpolar": [
           {
            "marker": {
             "line": {
              "color": "#E5ECF6",
              "width": 0.5
             },
             "pattern": {
              "fillmode": "overlay",
              "size": 10,
              "solidity": 0.2
             }
            },
            "type": "barpolar"
           }
          ],
          "carpet": [
           {
            "aaxis": {
             "endlinecolor": "#2a3f5f",
             "gridcolor": "white",
             "linecolor": "white",
             "minorgridcolor": "white",
             "startlinecolor": "#2a3f5f"
            },
            "baxis": {
             "endlinecolor": "#2a3f5f",
             "gridcolor": "white",
             "linecolor": "white",
             "minorgridcolor": "white",
             "startlinecolor": "#2a3f5f"
            },
            "type": "carpet"
           }
          ],
          "choropleth": [
           {
            "colorbar": {
             "outlinewidth": 0,
             "ticks": ""
            },
            "type": "choropleth"
           }
          ],
          "contour": [
           {
            "colorbar": {
             "outlinewidth": 0,
             "ticks": ""
            },
            "colorscale": [
             [
              0,
              "#0d0887"
             ],
             [
              0.1111111111111111,
              "#46039f"
             ],
             [
              0.2222222222222222,
              "#7201a8"
             ],
             [
              0.3333333333333333,
              "#9c179e"
             ],
             [
              0.4444444444444444,
              "#bd3786"
             ],
             [
              0.5555555555555556,
              "#d8576b"
             ],
             [
              0.6666666666666666,
              "#ed7953"
             ],
             [
              0.7777777777777778,
              "#fb9f3a"
             ],
             [
              0.8888888888888888,
              "#fdca26"
             ],
             [
              1,
              "#f0f921"
             ]
            ],
            "type": "contour"
           }
          ],
          "contourcarpet": [
           {
            "colorbar": {
             "outlinewidth": 0,
             "ticks": ""
            },
            "type": "contourcarpet"
           }
          ],
          "heatmap": [
           {
            "colorbar": {
             "outlinewidth": 0,
             "ticks": ""
            },
            "colorscale": [
             [
              0,
              "#0d0887"
             ],
             [
              0.1111111111111111,
              "#46039f"
             ],
             [
              0.2222222222222222,
              "#7201a8"
             ],
             [
              0.3333333333333333,
              "#9c179e"
             ],
             [
              0.4444444444444444,
              "#bd3786"
             ],
             [
              0.5555555555555556,
              "#d8576b"
             ],
             [
              0.6666666666666666,
              "#ed7953"
             ],
             [
              0.7777777777777778,
              "#fb9f3a"
             ],
             [
              0.8888888888888888,
              "#fdca26"
             ],
             [
              1,
              "#f0f921"
             ]
            ],
            "type": "heatmap"
           }
          ],
          "heatmapgl": [
           {
            "colorbar": {
             "outlinewidth": 0,
             "ticks": ""
            },
            "colorscale": [
             [
              0,
              "#0d0887"
             ],
             [
              0.1111111111111111,
              "#46039f"
             ],
             [
              0.2222222222222222,
              "#7201a8"
             ],
             [
              0.3333333333333333,
              "#9c179e"
             ],
             [
              0.4444444444444444,
              "#bd3786"
             ],
             [
              0.5555555555555556,
              "#d8576b"
             ],
             [
              0.6666666666666666,
              "#ed7953"
             ],
             [
              0.7777777777777778,
              "#fb9f3a"
             ],
             [
              0.8888888888888888,
              "#fdca26"
             ],
             [
              1,
              "#f0f921"
             ]
            ],
            "type": "heatmapgl"
           }
          ],
          "histogram": [
           {
            "marker": {
             "pattern": {
              "fillmode": "overlay",
              "size": 10,
              "solidity": 0.2
             }
            },
            "type": "histogram"
           }
          ],
          "histogram2d": [
           {
            "colorbar": {
             "outlinewidth": 0,
             "ticks": ""
            },
            "colorscale": [
             [
              0,
              "#0d0887"
             ],
             [
              0.1111111111111111,
              "#46039f"
             ],
             [
              0.2222222222222222,
              "#7201a8"
             ],
             [
              0.3333333333333333,
              "#9c179e"
             ],
             [
              0.4444444444444444,
              "#bd3786"
             ],
             [
              0.5555555555555556,
              "#d8576b"
             ],
             [
              0.6666666666666666,
              "#ed7953"
             ],
             [
              0.7777777777777778,
              "#fb9f3a"
             ],
             [
              0.8888888888888888,
              "#fdca26"
             ],
             [
              1,
              "#f0f921"
             ]
            ],
            "type": "histogram2d"
           }
          ],
          "histogram2dcontour": [
           {
            "colorbar": {
             "outlinewidth": 0,
             "ticks": ""
            },
            "colorscale": [
             [
              0,
              "#0d0887"
             ],
             [
              0.1111111111111111,
              "#46039f"
             ],
             [
              0.2222222222222222,
              "#7201a8"
             ],
             [
              0.3333333333333333,
              "#9c179e"
             ],
             [
              0.4444444444444444,
              "#bd3786"
             ],
             [
              0.5555555555555556,
              "#d8576b"
             ],
             [
              0.6666666666666666,
              "#ed7953"
             ],
             [
              0.7777777777777778,
              "#fb9f3a"
             ],
             [
              0.8888888888888888,
              "#fdca26"
             ],
             [
              1,
              "#f0f921"
             ]
            ],
            "type": "histogram2dcontour"
           }
          ],
          "mesh3d": [
           {
            "colorbar": {
             "outlinewidth": 0,
             "ticks": ""
            },
            "type": "mesh3d"
           }
          ],
          "parcoords": [
           {
            "line": {
             "colorbar": {
              "outlinewidth": 0,
              "ticks": ""
             }
            },
            "type": "parcoords"
           }
          ],
          "pie": [
           {
            "automargin": true,
            "type": "pie"
           }
          ],
          "scatter": [
           {
            "marker": {
             "colorbar": {
              "outlinewidth": 0,
              "ticks": ""
             }
            },
            "type": "scatter"
           }
          ],
          "scatter3d": [
           {
            "line": {
             "colorbar": {
              "outlinewidth": 0,
              "ticks": ""
             }
            },
            "marker": {
             "colorbar": {
              "outlinewidth": 0,
              "ticks": ""
             }
            },
            "type": "scatter3d"
           }
          ],
          "scattercarpet": [
           {
            "marker": {
             "colorbar": {
              "outlinewidth": 0,
              "ticks": ""
             }
            },
            "type": "scattercarpet"
           }
          ],
          "scattergeo": [
           {
            "marker": {
             "colorbar": {
              "outlinewidth": 0,
              "ticks": ""
             }
            },
            "type": "scattergeo"
           }
          ],
          "scattergl": [
           {
            "marker": {
             "colorbar": {
              "outlinewidth": 0,
              "ticks": ""
             }
            },
            "type": "scattergl"
           }
          ],
          "scattermapbox": [
           {
            "marker": {
             "colorbar": {
              "outlinewidth": 0,
              "ticks": ""
             }
            },
            "type": "scattermapbox"
           }
          ],
          "scatterpolar": [
           {
            "marker": {
             "colorbar": {
              "outlinewidth": 0,
              "ticks": ""
             }
            },
            "type": "scatterpolar"
           }
          ],
          "scatterpolargl": [
           {
            "marker": {
             "colorbar": {
              "outlinewidth": 0,
              "ticks": ""
             }
            },
            "type": "scatterpolargl"
           }
          ],
          "scatterternary": [
           {
            "marker": {
             "colorbar": {
              "outlinewidth": 0,
              "ticks": ""
             }
            },
            "type": "scatterternary"
           }
          ],
          "surface": [
           {
            "colorbar": {
             "outlinewidth": 0,
             "ticks": ""
            },
            "colorscale": [
             [
              0,
              "#0d0887"
             ],
             [
              0.1111111111111111,
              "#46039f"
             ],
             [
              0.2222222222222222,
              "#7201a8"
             ],
             [
              0.3333333333333333,
              "#9c179e"
             ],
             [
              0.4444444444444444,
              "#bd3786"
             ],
             [
              0.5555555555555556,
              "#d8576b"
             ],
             [
              0.6666666666666666,
              "#ed7953"
             ],
             [
              0.7777777777777778,
              "#fb9f3a"
             ],
             [
              0.8888888888888888,
              "#fdca26"
             ],
             [
              1,
              "#f0f921"
             ]
            ],
            "type": "surface"
           }
          ],
          "table": [
           {
            "cells": {
             "fill": {
              "color": "#EBF0F8"
             },
             "line": {
              "color": "white"
             }
            },
            "header": {
             "fill": {
              "color": "#C8D4E3"
             },
             "line": {
              "color": "white"
             }
            },
            "type": "table"
           }
          ]
         },
         "layout": {
          "annotationdefaults": {
           "arrowcolor": "#2a3f5f",
           "arrowhead": 0,
           "arrowwidth": 1
          },
          "autotypenumbers": "strict",
          "coloraxis": {
           "colorbar": {
            "outlinewidth": 0,
            "ticks": ""
           }
          },
          "colorscale": {
           "diverging": [
            [
             0,
             "#8e0152"
            ],
            [
             0.1,
             "#c51b7d"
            ],
            [
             0.2,
             "#de77ae"
            ],
            [
             0.3,
             "#f1b6da"
            ],
            [
             0.4,
             "#fde0ef"
            ],
            [
             0.5,
             "#f7f7f7"
            ],
            [
             0.6,
             "#e6f5d0"
            ],
            [
             0.7,
             "#b8e186"
            ],
            [
             0.8,
             "#7fbc41"
            ],
            [
             0.9,
             "#4d9221"
            ],
            [
             1,
             "#276419"
            ]
           ],
           "sequential": [
            [
             0,
             "#0d0887"
            ],
            [
             0.1111111111111111,
             "#46039f"
            ],
            [
             0.2222222222222222,
             "#7201a8"
            ],
            [
             0.3333333333333333,
             "#9c179e"
            ],
            [
             0.4444444444444444,
             "#bd3786"
            ],
            [
             0.5555555555555556,
             "#d8576b"
            ],
            [
             0.6666666666666666,
             "#ed7953"
            ],
            [
             0.7777777777777778,
             "#fb9f3a"
            ],
            [
             0.8888888888888888,
             "#fdca26"
            ],
            [
             1,
             "#f0f921"
            ]
           ],
           "sequentialminus": [
            [
             0,
             "#0d0887"
            ],
            [
             0.1111111111111111,
             "#46039f"
            ],
            [
             0.2222222222222222,
             "#7201a8"
            ],
            [
             0.3333333333333333,
             "#9c179e"
            ],
            [
             0.4444444444444444,
             "#bd3786"
            ],
            [
             0.5555555555555556,
             "#d8576b"
            ],
            [
             0.6666666666666666,
             "#ed7953"
            ],
            [
             0.7777777777777778,
             "#fb9f3a"
            ],
            [
             0.8888888888888888,
             "#fdca26"
            ],
            [
             1,
             "#f0f921"
            ]
           ]
          },
          "colorway": [
           "#636efa",
           "#EF553B",
           "#00cc96",
           "#ab63fa",
           "#FFA15A",
           "#19d3f3",
           "#FF6692",
           "#B6E880",
           "#FF97FF",
           "#FECB52"
          ],
          "font": {
           "color": "#2a3f5f"
          },
          "geo": {
           "bgcolor": "white",
           "lakecolor": "white",
           "landcolor": "#E5ECF6",
           "showlakes": true,
           "showland": true,
           "subunitcolor": "white"
          },
          "hoverlabel": {
           "align": "left"
          },
          "hovermode": "closest",
          "mapbox": {
           "style": "light"
          },
          "paper_bgcolor": "white",
          "plot_bgcolor": "#E5ECF6",
          "polar": {
           "angularaxis": {
            "gridcolor": "white",
            "linecolor": "white",
            "ticks": ""
           },
           "bgcolor": "#E5ECF6",
           "radialaxis": {
            "gridcolor": "white",
            "linecolor": "white",
            "ticks": ""
           }
          },
          "scene": {
           "xaxis": {
            "backgroundcolor": "#E5ECF6",
            "gridcolor": "white",
            "gridwidth": 2,
            "linecolor": "white",
            "showbackground": true,
            "ticks": "",
            "zerolinecolor": "white"
           },
           "yaxis": {
            "backgroundcolor": "#E5ECF6",
            "gridcolor": "white",
            "gridwidth": 2,
            "linecolor": "white",
            "showbackground": true,
            "ticks": "",
            "zerolinecolor": "white"
           },
           "zaxis": {
            "backgroundcolor": "#E5ECF6",
            "gridcolor": "white",
            "gridwidth": 2,
            "linecolor": "white",
            "showbackground": true,
            "ticks": "",
            "zerolinecolor": "white"
           }
          },
          "shapedefaults": {
           "line": {
            "color": "#2a3f5f"
           }
          },
          "ternary": {
           "aaxis": {
            "gridcolor": "white",
            "linecolor": "white",
            "ticks": ""
           },
           "baxis": {
            "gridcolor": "white",
            "linecolor": "white",
            "ticks": ""
           },
           "bgcolor": "#E5ECF6",
           "caxis": {
            "gridcolor": "white",
            "linecolor": "white",
            "ticks": ""
           }
          },
          "title": {
           "x": 0.05
          },
          "xaxis": {
           "automargin": true,
           "gridcolor": "white",
           "linecolor": "white",
           "ticks": "",
           "title": {
            "standoff": 15
           },
           "zerolinecolor": "white",
           "zerolinewidth": 2
          },
          "yaxis": {
           "automargin": true,
           "gridcolor": "white",
           "linecolor": "white",
           "ticks": "",
           "title": {
            "standoff": 15
           },
           "zerolinecolor": "white",
           "zerolinewidth": 2
          }
         }
        },
        "width": 2000,
        "xaxis": {
         "anchor": "y",
         "domain": [
          0,
          1
         ],
         "range": [
          -3,
          15
         ],
         "title": {
          "text": "ERCC_attomoles_in_sample"
         },
         "type": "log"
        },
        "yaxis": {
         "anchor": "x",
         "domain": [
          0,
          1
         ],
         "title": {
          "text": "RPK"
         },
         "type": "log"
        }
       }
      }
     },
     "metadata": {},
     "output_type": "display_data"
    },
    {
     "name": "stderr",
     "output_type": "stream",
     "text": [
      "C:\\Users\\adiro\\AppData\\Local\\Temp\\ipykernel_32200\\2061613557.py:205: SettingWithCopyWarning:\n",
      "\n",
      "\n",
      "A value is trying to be set on a copy of a slice from a DataFrame.\n",
      "Try using .loc[row_indexer,col_indexer] = value instead\n",
      "\n",
      "See the caveats in the documentation: https://pandas.pydata.org/pandas-docs/stable/user_guide/indexing.html#returning-a-view-versus-a-copy\n",
      "\n"
     ]
    },
    {
     "data": {
      "application/vnd.plotly.v1+json": {
       "config": {
        "plotlyServerURL": "https://plot.ly"
       },
       "data": [
        {
         "hovertemplate": "<b>%{hovertext}</b><br><br>in_fit=in fit<br>ERCC_attomoles_in_sample=%{x}<br>RPK=%{y}<extra></extra>",
         "hovertext": [
          "ERCC-00002",
          "ERCC-00003",
          "ERCC-00004",
          "ERCC-00009",
          "ERCC-00012",
          "ERCC-00013",
          "ERCC-00014",
          "ERCC-00016",
          "ERCC-00017",
          "ERCC-00019",
          "ERCC-00022",
          "ERCC-00024",
          "ERCC-00025",
          "ERCC-00028",
          "ERCC-00031",
          "ERCC-00033",
          "ERCC-00034",
          "ERCC-00035",
          "ERCC-00039",
          "ERCC-00040",
          "ERCC-00041",
          "ERCC-00042",
          "ERCC-00043",
          "ERCC-00044",
          "ERCC-00046",
          "ERCC-00048",
          "ERCC-00051",
          "ERCC-00053",
          "ERCC-00057",
          "ERCC-00058",
          "ERCC-00059",
          "ERCC-00060",
          "ERCC-00061",
          "ERCC-00062",
          "ERCC-00067",
          "ERCC-00069",
          "ERCC-00071",
          "ERCC-00073",
          "ERCC-00074",
          "ERCC-00075",
          "ERCC-00076",
          "ERCC-00077",
          "ERCC-00078",
          "ERCC-00079",
          "ERCC-00081",
          "ERCC-00083",
          "ERCC-00084",
          "ERCC-00085",
          "ERCC-00086",
          "ERCC-00092",
          "ERCC-00095",
          "ERCC-00096",
          "ERCC-00097",
          "ERCC-00098",
          "ERCC-00099",
          "ERCC-00104",
          "ERCC-00108",
          "ERCC-00109",
          "ERCC-00111",
          "ERCC-00112",
          "ERCC-00113",
          "ERCC-00116",
          "ERCC-00117",
          "ERCC-00120",
          "ERCC-00123",
          "ERCC-00126",
          "ERCC-00130",
          "ERCC-00131",
          "ERCC-00134",
          "ERCC-00136",
          "ERCC-00137",
          "ERCC-00138",
          "ERCC-00142",
          "ERCC-00143",
          "ERCC-00144",
          "ERCC-00145",
          "ERCC-00147",
          "ERCC-00148",
          "ERCC-00150",
          "ERCC-00154",
          "ERCC-00156",
          "ERCC-00157",
          "ERCC-00158",
          "ERCC-00160",
          "ERCC-00162",
          "ERCC-00163",
          "ERCC-00164",
          "ERCC-00165",
          "ERCC-00168",
          "ERCC-00170",
          "ERCC-00171"
         ],
         "legendgroup": "in fit",
         "marker": {
          "color": "#636efa",
          "symbol": "circle"
         },
         "mode": "markers",
         "name": "in fit",
         "orientation": "h",
         "showlegend": true,
         "type": "scatter",
         "x": [
          487.5,
          30.46875,
          243.75,
          30.46875,
          0.0037193299,
          0.02975463855,
          0.11901855485000001,
          0.0074386598,
          0.0037193299,
          0.9521484375,
          7.6171875,
          0.0074386598,
          1.904296875,
          0.11901855485000001,
          0.05950927742500001,
          0.05950927742500001,
          0.238037109375,
          3.80859375,
          0.11901855485000001,
          0.02975463855,
          0.0074386598,
          15.234375,
          15.234375,
          3.80859375,
          121.875,
          0.0004649164,
          1.904296875,
          0.9521484375,
          0.0004649164,
          0.05950927742500001,
          0.47607421875,
          7.6171875,
          0.00185966495,
          1.904296875,
          0.11901855485000001,
          0.05950927742500001,
          1.904296875,
          0.02975463855,
          487.5,
          0.0004649164,
          7.6171875,
          0.11901855485000001,
          0.9521484375,
          1.904296875,
          0.0074386598,
          0.000929832475,
          0.9521484375,
          0.238037109375,
          0.0037193299,
          7.6171875,
          3.80859375,
          487.5,
          0.014877319275,
          0.00185966495,
          0.47607421875,
          0.0074386598,
          30.46875,
          0.02975463855,
          15.234375,
          3.80859375,
          121.875,
          15.234375,
          0.00185966495,
          0.02975463855,
          0.0074386598,
          0.47607421875,
          975,
          3.80859375,
          0.05950927742500001,
          60.9375,
          0.02975463855,
          0.0037193299,
          0.0074386598,
          0.11901855485000001,
          0.9521484375,
          30.46875,
          0.02975463855,
          0.47607421875,
          0.11901855485000001,
          0.238037109375,
          0.014877319275,
          0.238037109375,
          0.014877319275,
          0.238037109375,
          1.904296875,
          0.47607421875,
          0.014877319275,
          1.904296875,
          0.014877319275,
          0.47607421875,
          121.875
         ],
         "xaxis": "x",
         "y": [
          222259.18944392086,
          20686.217008797656,
          139160.6118546845,
          12357.723577235773,
          0,
          6.188118811881187,
          46.49974450689831,
          3.5545023696682465,
          1.7605633802816902,
          529.5031055900621,
          2681.757656458056,
          0,
          1079.7392176529588,
          49.55752212389381,
          19.332161687170476,
          10.385756676557865,
          249.2639842983317,
          1272.566371681416,
          47.2972972972973,
          8.064516129032258,
          5.3475935828877,
          9593.352883675465,
          4865.1026392961885,
          1698.096885813149,
          64959.77011494253,
          1.0080645161290323,
          237.22627737226276,
          398.8269794721408,
          0,
          21.126760563380284,
          249.52380952380952,
          3458.891013384321,
          0.8802816901408451,
          927.6637341153471,
          34.161490683229815,
          46.61389621811785,
          738.3177570093458,
          19.900497512437813,
          271168.58237547893,
          1.9550342130987295,
          1647.9750778816199,
          10.989010989010989,
          530.7150050352467,
          793.4782608695652,
          0,
          0,
          463.78269617706235,
          114.92890995260665,
          0,
          4267.793594306049,
          3539.3474088291746,
          341048.7804878049,
          9.560229445506693,
          3.499562554680665,
          172.59259259259258,
          2.4727992087042536,
          14832.681017612524,
          14.925373134328357,
          4994.969818913481,
          2376.760563380282,
          69814.28571428571,
          9518.834756403816,
          0.8802816901408451,
          9.328358208955223,
          9.784735812133071,
          111.80679785330948,
          291622.2851746931,
          2660.1815823605707,
          10.94890510948905,
          17463.69796708616,
          9.310986964618248,
          5.859375,
          0,
          72.70408163265306,
          315.98513011152414,
          6940.4990403071015,
          1.9550342130987295,
          72.87449392712551,
          33.64737550471063,
          18.621973929236496,
          0,
          188.4200196270854,
          5.842259006815969,
          309.5558546433378,
          1151.0516252390057,
          278.08471454880294,
          8.806262230919765,
          1230.5045871559632,
          19.53125,
          131.96480938416423,
          47542.574257425746
         ],
         "yaxis": "y"
        },
        {
         "hovertemplate": "<b>%{hovertext}</b><br><br>in_fit=not in fit<br>ERCC_attomoles_in_sample=%{x}<br>RPK=%{y}<extra></extra>",
         "hovertext": [
          "ERCC-00054"
         ],
         "legendgroup": "not in fit",
         "marker": {
          "color": "#EF553B",
          "symbol": "circle"
         },
         "mode": "markers",
         "name": "not in fit",
         "orientation": "h",
         "showlegend": true,
         "type": "scatter",
         "x": [
          0.47607421875
         ],
         "xaxis": "x",
         "y": [
          3.64963503649635
         ],
         "yaxis": "y"
        },
        {
         "mode": "lines",
         "name": "Disrupted_biorep1c",
         "type": "scatter",
         "x": [
          0.01,
          975
         ],
         "y": [
          5.210315597143964,
          337923.8032878034
         ]
        }
       ],
       "layout": {
        "annotations": [
         {
          "align": "left",
          "bordercolor": "black",
          "borderwidth": 1,
          "showarrow": false,
          "text": "fit of log(y) Vs log(x), paremeters: log(y) = m*log(x)+c",
          "x": 0.4,
          "xanchor": "left",
          "xref": "paper",
          "y": 1,
          "yref": "paper"
         },
         {
          "align": "left",
          "bordercolor": "black",
          "borderwidth": 1,
          "showarrow": false,
          "text": "fit in the range ERCC attomoles in sample [0.01,975.00]",
          "x": 0.4,
          "xanchor": "left",
          "xref": "paper",
          "y": 0.9,
          "yref": "paper"
         },
         {
          "align": "left",
          "bordercolor": "black",
          "borderwidth": 1,
          "showarrow": false,
          "text": "the slop in log scale: m = 0.96",
          "x": 0.4,
          "xanchor": "left",
          "xref": "paper",
          "y": 0.8,
          "yref": "paper"
         },
         {
          "align": "left",
          "bordercolor": "black",
          "borderwidth": 1,
          "showarrow": false,
          "text": "the intercept in log scale: c = 6.09",
          "x": 0.4,
          "xanchor": "left",
          "xref": "paper",
          "y": 0.7,
          "yref": "paper"
         },
         {
          "align": "left",
          "bordercolor": "black",
          "borderwidth": 1,
          "showarrow": false,
          "text": "",
          "x": 0.4,
          "xanchor": "left",
          "xref": "paper",
          "y": 0.6,
          "yref": "paper"
         },
         {
          "align": "left",
          "bordercolor": "black",
          "borderwidth": 1,
          "showarrow": false,
          "text": "log(y) = m*log(x)+c --> y = e^c * x^m",
          "x": 0.4,
          "xanchor": "left",
          "xref": "paper",
          "y": 0.5,
          "yref": "paper"
         },
         {
          "align": "left",
          "bordercolor": "black",
          "borderwidth": 1,
          "showarrow": false,
          "text": "the slope in linear scale: e^c = 4.42E+02",
          "x": 0.4,
          "xanchor": "left",
          "xref": "paper",
          "y": 0.3999999999999999,
          "yref": "paper"
         },
         {
          "align": "left",
          "bordercolor": "black",
          "borderwidth": 1,
          "showarrow": false,
          "text": "R^2 = 0.96",
          "x": 0.4,
          "xanchor": "left",
          "xref": "paper",
          "y": 0.29999999999999993,
          "yref": "paper"
         },
         {
          "align": "left",
          "bordercolor": "black",
          "borderwidth": 1,
          "showarrow": false,
          "text": "",
          "x": 0.4,
          "xanchor": "left",
          "xref": "paper",
          "y": 0.19999999999999996,
          "yref": "paper"
         },
         {
          "align": "left",
          "bordercolor": "black",
          "borderwidth": 1,
          "showarrow": false,
          "text": "ERCCs with no reads detected",
          "x": 0.4,
          "xanchor": "left",
          "xref": "paper",
          "y": 0.09999999999999998,
          "yref": "paper"
         },
         {
          "align": "left",
          "bordercolor": "black",
          "borderwidth": 1,
          "showarrow": false,
          "text": " not fitted and not shown",
          "x": 0.4,
          "xanchor": "left",
          "xref": "paper",
          "y": 0,
          "yref": "paper"
         }
        ],
        "font": {
         "size": 24
        },
        "height": 600,
        "legend": {
         "title": {
          "text": "in_fit"
         },
         "tracegroupgap": 0
        },
        "margin": {
         "t": 60
        },
        "template": {
         "data": {
          "bar": [
           {
            "error_x": {
             "color": "#2a3f5f"
            },
            "error_y": {
             "color": "#2a3f5f"
            },
            "marker": {
             "line": {
              "color": "#E5ECF6",
              "width": 0.5
             },
             "pattern": {
              "fillmode": "overlay",
              "size": 10,
              "solidity": 0.2
             }
            },
            "type": "bar"
           }
          ],
          "barpolar": [
           {
            "marker": {
             "line": {
              "color": "#E5ECF6",
              "width": 0.5
             },
             "pattern": {
              "fillmode": "overlay",
              "size": 10,
              "solidity": 0.2
             }
            },
            "type": "barpolar"
           }
          ],
          "carpet": [
           {
            "aaxis": {
             "endlinecolor": "#2a3f5f",
             "gridcolor": "white",
             "linecolor": "white",
             "minorgridcolor": "white",
             "startlinecolor": "#2a3f5f"
            },
            "baxis": {
             "endlinecolor": "#2a3f5f",
             "gridcolor": "white",
             "linecolor": "white",
             "minorgridcolor": "white",
             "startlinecolor": "#2a3f5f"
            },
            "type": "carpet"
           }
          ],
          "choropleth": [
           {
            "colorbar": {
             "outlinewidth": 0,
             "ticks": ""
            },
            "type": "choropleth"
           }
          ],
          "contour": [
           {
            "colorbar": {
             "outlinewidth": 0,
             "ticks": ""
            },
            "colorscale": [
             [
              0,
              "#0d0887"
             ],
             [
              0.1111111111111111,
              "#46039f"
             ],
             [
              0.2222222222222222,
              "#7201a8"
             ],
             [
              0.3333333333333333,
              "#9c179e"
             ],
             [
              0.4444444444444444,
              "#bd3786"
             ],
             [
              0.5555555555555556,
              "#d8576b"
             ],
             [
              0.6666666666666666,
              "#ed7953"
             ],
             [
              0.7777777777777778,
              "#fb9f3a"
             ],
             [
              0.8888888888888888,
              "#fdca26"
             ],
             [
              1,
              "#f0f921"
             ]
            ],
            "type": "contour"
           }
          ],
          "contourcarpet": [
           {
            "colorbar": {
             "outlinewidth": 0,
             "ticks": ""
            },
            "type": "contourcarpet"
           }
          ],
          "heatmap": [
           {
            "colorbar": {
             "outlinewidth": 0,
             "ticks": ""
            },
            "colorscale": [
             [
              0,
              "#0d0887"
             ],
             [
              0.1111111111111111,
              "#46039f"
             ],
             [
              0.2222222222222222,
              "#7201a8"
             ],
             [
              0.3333333333333333,
              "#9c179e"
             ],
             [
              0.4444444444444444,
              "#bd3786"
             ],
             [
              0.5555555555555556,
              "#d8576b"
             ],
             [
              0.6666666666666666,
              "#ed7953"
             ],
             [
              0.7777777777777778,
              "#fb9f3a"
             ],
             [
              0.8888888888888888,
              "#fdca26"
             ],
             [
              1,
              "#f0f921"
             ]
            ],
            "type": "heatmap"
           }
          ],
          "heatmapgl": [
           {
            "colorbar": {
             "outlinewidth": 0,
             "ticks": ""
            },
            "colorscale": [
             [
              0,
              "#0d0887"
             ],
             [
              0.1111111111111111,
              "#46039f"
             ],
             [
              0.2222222222222222,
              "#7201a8"
             ],
             [
              0.3333333333333333,
              "#9c179e"
             ],
             [
              0.4444444444444444,
              "#bd3786"
             ],
             [
              0.5555555555555556,
              "#d8576b"
             ],
             [
              0.6666666666666666,
              "#ed7953"
             ],
             [
              0.7777777777777778,
              "#fb9f3a"
             ],
             [
              0.8888888888888888,
              "#fdca26"
             ],
             [
              1,
              "#f0f921"
             ]
            ],
            "type": "heatmapgl"
           }
          ],
          "histogram": [
           {
            "marker": {
             "pattern": {
              "fillmode": "overlay",
              "size": 10,
              "solidity": 0.2
             }
            },
            "type": "histogram"
           }
          ],
          "histogram2d": [
           {
            "colorbar": {
             "outlinewidth": 0,
             "ticks": ""
            },
            "colorscale": [
             [
              0,
              "#0d0887"
             ],
             [
              0.1111111111111111,
              "#46039f"
             ],
             [
              0.2222222222222222,
              "#7201a8"
             ],
             [
              0.3333333333333333,
              "#9c179e"
             ],
             [
              0.4444444444444444,
              "#bd3786"
             ],
             [
              0.5555555555555556,
              "#d8576b"
             ],
             [
              0.6666666666666666,
              "#ed7953"
             ],
             [
              0.7777777777777778,
              "#fb9f3a"
             ],
             [
              0.8888888888888888,
              "#fdca26"
             ],
             [
              1,
              "#f0f921"
             ]
            ],
            "type": "histogram2d"
           }
          ],
          "histogram2dcontour": [
           {
            "colorbar": {
             "outlinewidth": 0,
             "ticks": ""
            },
            "colorscale": [
             [
              0,
              "#0d0887"
             ],
             [
              0.1111111111111111,
              "#46039f"
             ],
             [
              0.2222222222222222,
              "#7201a8"
             ],
             [
              0.3333333333333333,
              "#9c179e"
             ],
             [
              0.4444444444444444,
              "#bd3786"
             ],
             [
              0.5555555555555556,
              "#d8576b"
             ],
             [
              0.6666666666666666,
              "#ed7953"
             ],
             [
              0.7777777777777778,
              "#fb9f3a"
             ],
             [
              0.8888888888888888,
              "#fdca26"
             ],
             [
              1,
              "#f0f921"
             ]
            ],
            "type": "histogram2dcontour"
           }
          ],
          "mesh3d": [
           {
            "colorbar": {
             "outlinewidth": 0,
             "ticks": ""
            },
            "type": "mesh3d"
           }
          ],
          "parcoords": [
           {
            "line": {
             "colorbar": {
              "outlinewidth": 0,
              "ticks": ""
             }
            },
            "type": "parcoords"
           }
          ],
          "pie": [
           {
            "automargin": true,
            "type": "pie"
           }
          ],
          "scatter": [
           {
            "marker": {
             "colorbar": {
              "outlinewidth": 0,
              "ticks": ""
             }
            },
            "type": "scatter"
           }
          ],
          "scatter3d": [
           {
            "line": {
             "colorbar": {
              "outlinewidth": 0,
              "ticks": ""
             }
            },
            "marker": {
             "colorbar": {
              "outlinewidth": 0,
              "ticks": ""
             }
            },
            "type": "scatter3d"
           }
          ],
          "scattercarpet": [
           {
            "marker": {
             "colorbar": {
              "outlinewidth": 0,
              "ticks": ""
             }
            },
            "type": "scattercarpet"
           }
          ],
          "scattergeo": [
           {
            "marker": {
             "colorbar": {
              "outlinewidth": 0,
              "ticks": ""
             }
            },
            "type": "scattergeo"
           }
          ],
          "scattergl": [
           {
            "marker": {
             "colorbar": {
              "outlinewidth": 0,
              "ticks": ""
             }
            },
            "type": "scattergl"
           }
          ],
          "scattermapbox": [
           {
            "marker": {
             "colorbar": {
              "outlinewidth": 0,
              "ticks": ""
             }
            },
            "type": "scattermapbox"
           }
          ],
          "scatterpolar": [
           {
            "marker": {
             "colorbar": {
              "outlinewidth": 0,
              "ticks": ""
             }
            },
            "type": "scatterpolar"
           }
          ],
          "scatterpolargl": [
           {
            "marker": {
             "colorbar": {
              "outlinewidth": 0,
              "ticks": ""
             }
            },
            "type": "scatterpolargl"
           }
          ],
          "scatterternary": [
           {
            "marker": {
             "colorbar": {
              "outlinewidth": 0,
              "ticks": ""
             }
            },
            "type": "scatterternary"
           }
          ],
          "surface": [
           {
            "colorbar": {
             "outlinewidth": 0,
             "ticks": ""
            },
            "colorscale": [
             [
              0,
              "#0d0887"
             ],
             [
              0.1111111111111111,
              "#46039f"
             ],
             [
              0.2222222222222222,
              "#7201a8"
             ],
             [
              0.3333333333333333,
              "#9c179e"
             ],
             [
              0.4444444444444444,
              "#bd3786"
             ],
             [
              0.5555555555555556,
              "#d8576b"
             ],
             [
              0.6666666666666666,
              "#ed7953"
             ],
             [
              0.7777777777777778,
              "#fb9f3a"
             ],
             [
              0.8888888888888888,
              "#fdca26"
             ],
             [
              1,
              "#f0f921"
             ]
            ],
            "type": "surface"
           }
          ],
          "table": [
           {
            "cells": {
             "fill": {
              "color": "#EBF0F8"
             },
             "line": {
              "color": "white"
             }
            },
            "header": {
             "fill": {
              "color": "#C8D4E3"
             },
             "line": {
              "color": "white"
             }
            },
            "type": "table"
           }
          ]
         },
         "layout": {
          "annotationdefaults": {
           "arrowcolor": "#2a3f5f",
           "arrowhead": 0,
           "arrowwidth": 1
          },
          "autotypenumbers": "strict",
          "coloraxis": {
           "colorbar": {
            "outlinewidth": 0,
            "ticks": ""
           }
          },
          "colorscale": {
           "diverging": [
            [
             0,
             "#8e0152"
            ],
            [
             0.1,
             "#c51b7d"
            ],
            [
             0.2,
             "#de77ae"
            ],
            [
             0.3,
             "#f1b6da"
            ],
            [
             0.4,
             "#fde0ef"
            ],
            [
             0.5,
             "#f7f7f7"
            ],
            [
             0.6,
             "#e6f5d0"
            ],
            [
             0.7,
             "#b8e186"
            ],
            [
             0.8,
             "#7fbc41"
            ],
            [
             0.9,
             "#4d9221"
            ],
            [
             1,
             "#276419"
            ]
           ],
           "sequential": [
            [
             0,
             "#0d0887"
            ],
            [
             0.1111111111111111,
             "#46039f"
            ],
            [
             0.2222222222222222,
             "#7201a8"
            ],
            [
             0.3333333333333333,
             "#9c179e"
            ],
            [
             0.4444444444444444,
             "#bd3786"
            ],
            [
             0.5555555555555556,
             "#d8576b"
            ],
            [
             0.6666666666666666,
             "#ed7953"
            ],
            [
             0.7777777777777778,
             "#fb9f3a"
            ],
            [
             0.8888888888888888,
             "#fdca26"
            ],
            [
             1,
             "#f0f921"
            ]
           ],
           "sequentialminus": [
            [
             0,
             "#0d0887"
            ],
            [
             0.1111111111111111,
             "#46039f"
            ],
            [
             0.2222222222222222,
             "#7201a8"
            ],
            [
             0.3333333333333333,
             "#9c179e"
            ],
            [
             0.4444444444444444,
             "#bd3786"
            ],
            [
             0.5555555555555556,
             "#d8576b"
            ],
            [
             0.6666666666666666,
             "#ed7953"
            ],
            [
             0.7777777777777778,
             "#fb9f3a"
            ],
            [
             0.8888888888888888,
             "#fdca26"
            ],
            [
             1,
             "#f0f921"
            ]
           ]
          },
          "colorway": [
           "#636efa",
           "#EF553B",
           "#00cc96",
           "#ab63fa",
           "#FFA15A",
           "#19d3f3",
           "#FF6692",
           "#B6E880",
           "#FF97FF",
           "#FECB52"
          ],
          "font": {
           "color": "#2a3f5f"
          },
          "geo": {
           "bgcolor": "white",
           "lakecolor": "white",
           "landcolor": "#E5ECF6",
           "showlakes": true,
           "showland": true,
           "subunitcolor": "white"
          },
          "hoverlabel": {
           "align": "left"
          },
          "hovermode": "closest",
          "mapbox": {
           "style": "light"
          },
          "paper_bgcolor": "white",
          "plot_bgcolor": "#E5ECF6",
          "polar": {
           "angularaxis": {
            "gridcolor": "white",
            "linecolor": "white",
            "ticks": ""
           },
           "bgcolor": "#E5ECF6",
           "radialaxis": {
            "gridcolor": "white",
            "linecolor": "white",
            "ticks": ""
           }
          },
          "scene": {
           "xaxis": {
            "backgroundcolor": "#E5ECF6",
            "gridcolor": "white",
            "gridwidth": 2,
            "linecolor": "white",
            "showbackground": true,
            "ticks": "",
            "zerolinecolor": "white"
           },
           "yaxis": {
            "backgroundcolor": "#E5ECF6",
            "gridcolor": "white",
            "gridwidth": 2,
            "linecolor": "white",
            "showbackground": true,
            "ticks": "",
            "zerolinecolor": "white"
           },
           "zaxis": {
            "backgroundcolor": "#E5ECF6",
            "gridcolor": "white",
            "gridwidth": 2,
            "linecolor": "white",
            "showbackground": true,
            "ticks": "",
            "zerolinecolor": "white"
           }
          },
          "shapedefaults": {
           "line": {
            "color": "#2a3f5f"
           }
          },
          "ternary": {
           "aaxis": {
            "gridcolor": "white",
            "linecolor": "white",
            "ticks": ""
           },
           "baxis": {
            "gridcolor": "white",
            "linecolor": "white",
            "ticks": ""
           },
           "bgcolor": "#E5ECF6",
           "caxis": {
            "gridcolor": "white",
            "linecolor": "white",
            "ticks": ""
           }
          },
          "title": {
           "x": 0.05
          },
          "xaxis": {
           "automargin": true,
           "gridcolor": "white",
           "linecolor": "white",
           "ticks": "",
           "title": {
            "standoff": 15
           },
           "zerolinecolor": "white",
           "zerolinewidth": 2
          },
          "yaxis": {
           "automargin": true,
           "gridcolor": "white",
           "linecolor": "white",
           "ticks": "",
           "title": {
            "standoff": 15
           },
           "zerolinecolor": "white",
           "zerolinewidth": 2
          }
         }
        },
        "width": 2000,
        "xaxis": {
         "anchor": "y",
         "domain": [
          0,
          1
         ],
         "range": [
          -3,
          15
         ],
         "title": {
          "text": "ERCC_attomoles_in_sample"
         },
         "type": "log"
        },
        "yaxis": {
         "anchor": "x",
         "domain": [
          0,
          1
         ],
         "title": {
          "text": "RPK"
         },
         "type": "log"
        }
       }
      }
     },
     "metadata": {},
     "output_type": "display_data"
    },
    {
     "name": "stderr",
     "output_type": "stream",
     "text": [
      "C:\\Users\\adiro\\AppData\\Local\\Temp\\ipykernel_32200\\2061613557.py:205: SettingWithCopyWarning:\n",
      "\n",
      "\n",
      "A value is trying to be set on a copy of a slice from a DataFrame.\n",
      "Try using .loc[row_indexer,col_indexer] = value instead\n",
      "\n",
      "See the caveats in the documentation: https://pandas.pydata.org/pandas-docs/stable/user_guide/indexing.html#returning-a-view-versus-a-copy\n",
      "\n"
     ]
    },
    {
     "data": {
      "application/vnd.plotly.v1+json": {
       "config": {
        "plotlyServerURL": "https://plot.ly"
       },
       "data": [
        {
         "hovertemplate": "<b>%{hovertext}</b><br><br>in_fit=in fit<br>ERCC_attomoles_in_sample=%{x}<br>RPK=%{y}<extra></extra>",
         "hovertext": [
          "ERCC-00002",
          "ERCC-00003",
          "ERCC-00004",
          "ERCC-00009",
          "ERCC-00012",
          "ERCC-00013",
          "ERCC-00014",
          "ERCC-00016",
          "ERCC-00017",
          "ERCC-00019",
          "ERCC-00022",
          "ERCC-00024",
          "ERCC-00025",
          "ERCC-00028",
          "ERCC-00031",
          "ERCC-00033",
          "ERCC-00034",
          "ERCC-00035",
          "ERCC-00039",
          "ERCC-00040",
          "ERCC-00041",
          "ERCC-00042",
          "ERCC-00043",
          "ERCC-00044",
          "ERCC-00046",
          "ERCC-00048",
          "ERCC-00051",
          "ERCC-00053",
          "ERCC-00057",
          "ERCC-00058",
          "ERCC-00059",
          "ERCC-00060",
          "ERCC-00061",
          "ERCC-00062",
          "ERCC-00067",
          "ERCC-00069",
          "ERCC-00071",
          "ERCC-00073",
          "ERCC-00074",
          "ERCC-00075",
          "ERCC-00076",
          "ERCC-00077",
          "ERCC-00078",
          "ERCC-00079",
          "ERCC-00081",
          "ERCC-00083",
          "ERCC-00084",
          "ERCC-00085",
          "ERCC-00086",
          "ERCC-00092",
          "ERCC-00095",
          "ERCC-00096",
          "ERCC-00097",
          "ERCC-00098",
          "ERCC-00099",
          "ERCC-00104",
          "ERCC-00108",
          "ERCC-00109",
          "ERCC-00111",
          "ERCC-00112",
          "ERCC-00113",
          "ERCC-00116",
          "ERCC-00117",
          "ERCC-00120",
          "ERCC-00123",
          "ERCC-00126",
          "ERCC-00130",
          "ERCC-00131",
          "ERCC-00134",
          "ERCC-00136",
          "ERCC-00137",
          "ERCC-00138",
          "ERCC-00142",
          "ERCC-00143",
          "ERCC-00144",
          "ERCC-00145",
          "ERCC-00147",
          "ERCC-00148",
          "ERCC-00150",
          "ERCC-00154",
          "ERCC-00156",
          "ERCC-00157",
          "ERCC-00158",
          "ERCC-00160",
          "ERCC-00162",
          "ERCC-00163",
          "ERCC-00164",
          "ERCC-00165",
          "ERCC-00168",
          "ERCC-00170",
          "ERCC-00171"
         ],
         "legendgroup": "in fit",
         "marker": {
          "color": "#636efa",
          "symbol": "circle"
         },
         "mode": "markers",
         "name": "in fit",
         "orientation": "h",
         "showlegend": true,
         "type": "scatter",
         "x": [
          487.5,
          30.46875,
          243.75,
          30.46875,
          0.0037193299,
          0.02975463855,
          0.11901855485000001,
          0.0074386598,
          0.0037193299,
          0.9521484375,
          7.6171875,
          0.0074386598,
          1.904296875,
          0.11901855485000001,
          0.05950927742500001,
          0.05950927742500001,
          0.238037109375,
          3.80859375,
          0.11901855485000001,
          0.02975463855,
          0.0074386598,
          15.234375,
          15.234375,
          3.80859375,
          121.875,
          0.0004649164,
          1.904296875,
          0.9521484375,
          0.0004649164,
          0.05950927742500001,
          0.47607421875,
          7.6171875,
          0.00185966495,
          1.904296875,
          0.11901855485000001,
          0.05950927742500001,
          1.904296875,
          0.02975463855,
          487.5,
          0.0004649164,
          7.6171875,
          0.11901855485000001,
          0.9521484375,
          1.904296875,
          0.0074386598,
          0.000929832475,
          0.9521484375,
          0.238037109375,
          0.0037193299,
          7.6171875,
          3.80859375,
          487.5,
          0.014877319275,
          0.00185966495,
          0.47607421875,
          0.0074386598,
          30.46875,
          0.02975463855,
          15.234375,
          3.80859375,
          121.875,
          15.234375,
          0.00185966495,
          0.02975463855,
          0.0074386598,
          0.47607421875,
          975,
          3.80859375,
          0.05950927742500001,
          60.9375,
          0.02975463855,
          0.0037193299,
          0.0074386598,
          0.11901855485000001,
          0.9521484375,
          30.46875,
          0.02975463855,
          0.47607421875,
          0.11901855485000001,
          0.238037109375,
          0.014877319275,
          0.238037109375,
          0.014877319275,
          0.238037109375,
          1.904296875,
          0.47607421875,
          0.014877319275,
          1.904296875,
          0.014877319275,
          0.47607421875,
          121.875
         ],
         "xaxis": "x",
         "y": [
          680697.4552309143,
          69360.70381231671,
          441451.2428298279,
          30591.463414634145,
          3.018108651911469,
          59.4059405940594,
          149.2079713847726,
          5.924170616113744,
          5.281690140845071,
          1363.3540372670807,
          7466.045272969374,
          7.462686567164178,
          2995.4864593781344,
          154.86725663716817,
          63.26889279437611,
          77.64589515331356,
          777.2325809617273,
          4085.840707964602,
          152.7027027027027,
          36.29032258064516,
          14.2602495543672,
          28104.594330400785,
          20698.924731182797,
          4748.269896193772,
          223277.77777777778,
          3.024193548387097,
          989.0510948905109,
          1343.108504398827,
          1.9588638589618024,
          90.66901408450705,
          598.0952380952381,
          17022.944550669214,
          2.6408450704225355,
          3159.3352883675466,
          99.37888198757764,
          129.28759894459102,
          2177.570093457944,
          39.800995024875625,
          878883.1417624521,
          3.910068426197459,
          4362.928348909657,
          95.23809523809523,
          1764.3504531722056,
          2392.8571428571427,
          1.8726591760299625,
          5.870841487279844,
          1373.2394366197184,
          315.1658767772512,
          3.9215686274509802,
          14354.982206405693,
          9539.347408829175,
          979378.5004516712,
          22.94455066921606,
          10.498687664041995,
          712.5925925925925,
          9.396636993076163,
          40764.18786692759,
          18.656716417910445,
          17611.670020120724,
          6764.964788732395,
          202619.04761904763,
          26611.75288799598,
          0.8802816901408451,
          18.656716417910445,
          23.483365949119374,
          366.7262969588551,
          1192030.2171860246,
          7658.884565499351,
          40.14598540145985,
          60824.78218780252,
          18.621973929236496,
          7.8125,
          0,
          182.39795918367346,
          934.9442379182155,
          21611.324376199616,
          18.57282502443793,
          265.18218623481783,
          145.35666218034993,
          193.66852886405957,
          8.097165991902834,
          590.775269872424,
          16.55306718597858,
          728.1292059219381,
          3263.8623326959846,
          683.2412523020257,
          38.160469667318985,
          2920.8715596330276,
          56.640625,
          1141.7399804496579,
          147017.82178217822
         ],
         "yaxis": "y"
        },
        {
         "hovertemplate": "<b>%{hovertext}</b><br><br>in_fit=not in fit<br>ERCC_attomoles_in_sample=%{x}<br>RPK=%{y}<extra></extra>",
         "hovertext": [
          "ERCC-00054"
         ],
         "legendgroup": "not in fit",
         "marker": {
          "color": "#EF553B",
          "symbol": "circle"
         },
         "mode": "markers",
         "name": "not in fit",
         "orientation": "h",
         "showlegend": true,
         "type": "scatter",
         "x": [
          0.47607421875
         ],
         "xaxis": "x",
         "y": [
          29.1970802919708
         ],
         "yaxis": "y"
        },
        {
         "mode": "lines",
         "name": "CASP_biorep1c",
         "type": "scatter",
         "x": [
          0.01,
          975
         ],
         "y": [
          15.039168980968432,
          1179678.4281098964
         ]
        }
       ],
       "layout": {
        "annotations": [
         {
          "align": "left",
          "bordercolor": "black",
          "borderwidth": 1,
          "showarrow": false,
          "text": "fit of log(y) Vs log(x), paremeters: log(y) = m*log(x)+c",
          "x": 0.4,
          "xanchor": "left",
          "xref": "paper",
          "y": 1,
          "yref": "paper"
         },
         {
          "align": "left",
          "bordercolor": "black",
          "borderwidth": 1,
          "showarrow": false,
          "text": "fit in the range ERCC attomoles in sample [0.01,975.00]",
          "x": 0.4,
          "xanchor": "left",
          "xref": "paper",
          "y": 0.9,
          "yref": "paper"
         },
         {
          "align": "left",
          "bordercolor": "black",
          "borderwidth": 1,
          "showarrow": false,
          "text": "the slop in log scale: m = 0.98",
          "x": 0.4,
          "xanchor": "left",
          "xref": "paper",
          "y": 0.8,
          "yref": "paper"
         },
         {
          "align": "left",
          "bordercolor": "black",
          "borderwidth": 1,
          "showarrow": false,
          "text": "the intercept in log scale: c = 7.23",
          "x": 0.4,
          "xanchor": "left",
          "xref": "paper",
          "y": 0.7,
          "yref": "paper"
         },
         {
          "align": "left",
          "bordercolor": "black",
          "borderwidth": 1,
          "showarrow": false,
          "text": "",
          "x": 0.4,
          "xanchor": "left",
          "xref": "paper",
          "y": 0.6,
          "yref": "paper"
         },
         {
          "align": "left",
          "bordercolor": "black",
          "borderwidth": 1,
          "showarrow": false,
          "text": "log(y) = m*log(x)+c --> y = e^c * x^m",
          "x": 0.4,
          "xanchor": "left",
          "xref": "paper",
          "y": 0.5,
          "yref": "paper"
         },
         {
          "align": "left",
          "bordercolor": "black",
          "borderwidth": 1,
          "showarrow": false,
          "text": "the slope in linear scale: e^c = 1.38E+03",
          "x": 0.4,
          "xanchor": "left",
          "xref": "paper",
          "y": 0.3999999999999999,
          "yref": "paper"
         },
         {
          "align": "left",
          "bordercolor": "black",
          "borderwidth": 1,
          "showarrow": false,
          "text": "R^2 = 0.97",
          "x": 0.4,
          "xanchor": "left",
          "xref": "paper",
          "y": 0.29999999999999993,
          "yref": "paper"
         },
         {
          "align": "left",
          "bordercolor": "black",
          "borderwidth": 1,
          "showarrow": false,
          "text": "",
          "x": 0.4,
          "xanchor": "left",
          "xref": "paper",
          "y": 0.19999999999999996,
          "yref": "paper"
         },
         {
          "align": "left",
          "bordercolor": "black",
          "borderwidth": 1,
          "showarrow": false,
          "text": "ERCCs with no reads detected",
          "x": 0.4,
          "xanchor": "left",
          "xref": "paper",
          "y": 0.09999999999999998,
          "yref": "paper"
         },
         {
          "align": "left",
          "bordercolor": "black",
          "borderwidth": 1,
          "showarrow": false,
          "text": " not fitted and not shown",
          "x": 0.4,
          "xanchor": "left",
          "xref": "paper",
          "y": 0,
          "yref": "paper"
         }
        ],
        "font": {
         "size": 24
        },
        "height": 600,
        "legend": {
         "title": {
          "text": "in_fit"
         },
         "tracegroupgap": 0
        },
        "margin": {
         "t": 60
        },
        "template": {
         "data": {
          "bar": [
           {
            "error_x": {
             "color": "#2a3f5f"
            },
            "error_y": {
             "color": "#2a3f5f"
            },
            "marker": {
             "line": {
              "color": "#E5ECF6",
              "width": 0.5
             },
             "pattern": {
              "fillmode": "overlay",
              "size": 10,
              "solidity": 0.2
             }
            },
            "type": "bar"
           }
          ],
          "barpolar": [
           {
            "marker": {
             "line": {
              "color": "#E5ECF6",
              "width": 0.5
             },
             "pattern": {
              "fillmode": "overlay",
              "size": 10,
              "solidity": 0.2
             }
            },
            "type": "barpolar"
           }
          ],
          "carpet": [
           {
            "aaxis": {
             "endlinecolor": "#2a3f5f",
             "gridcolor": "white",
             "linecolor": "white",
             "minorgridcolor": "white",
             "startlinecolor": "#2a3f5f"
            },
            "baxis": {
             "endlinecolor": "#2a3f5f",
             "gridcolor": "white",
             "linecolor": "white",
             "minorgridcolor": "white",
             "startlinecolor": "#2a3f5f"
            },
            "type": "carpet"
           }
          ],
          "choropleth": [
           {
            "colorbar": {
             "outlinewidth": 0,
             "ticks": ""
            },
            "type": "choropleth"
           }
          ],
          "contour": [
           {
            "colorbar": {
             "outlinewidth": 0,
             "ticks": ""
            },
            "colorscale": [
             [
              0,
              "#0d0887"
             ],
             [
              0.1111111111111111,
              "#46039f"
             ],
             [
              0.2222222222222222,
              "#7201a8"
             ],
             [
              0.3333333333333333,
              "#9c179e"
             ],
             [
              0.4444444444444444,
              "#bd3786"
             ],
             [
              0.5555555555555556,
              "#d8576b"
             ],
             [
              0.6666666666666666,
              "#ed7953"
             ],
             [
              0.7777777777777778,
              "#fb9f3a"
             ],
             [
              0.8888888888888888,
              "#fdca26"
             ],
             [
              1,
              "#f0f921"
             ]
            ],
            "type": "contour"
           }
          ],
          "contourcarpet": [
           {
            "colorbar": {
             "outlinewidth": 0,
             "ticks": ""
            },
            "type": "contourcarpet"
           }
          ],
          "heatmap": [
           {
            "colorbar": {
             "outlinewidth": 0,
             "ticks": ""
            },
            "colorscale": [
             [
              0,
              "#0d0887"
             ],
             [
              0.1111111111111111,
              "#46039f"
             ],
             [
              0.2222222222222222,
              "#7201a8"
             ],
             [
              0.3333333333333333,
              "#9c179e"
             ],
             [
              0.4444444444444444,
              "#bd3786"
             ],
             [
              0.5555555555555556,
              "#d8576b"
             ],
             [
              0.6666666666666666,
              "#ed7953"
             ],
             [
              0.7777777777777778,
              "#fb9f3a"
             ],
             [
              0.8888888888888888,
              "#fdca26"
             ],
             [
              1,
              "#f0f921"
             ]
            ],
            "type": "heatmap"
           }
          ],
          "heatmapgl": [
           {
            "colorbar": {
             "outlinewidth": 0,
             "ticks": ""
            },
            "colorscale": [
             [
              0,
              "#0d0887"
             ],
             [
              0.1111111111111111,
              "#46039f"
             ],
             [
              0.2222222222222222,
              "#7201a8"
             ],
             [
              0.3333333333333333,
              "#9c179e"
             ],
             [
              0.4444444444444444,
              "#bd3786"
             ],
             [
              0.5555555555555556,
              "#d8576b"
             ],
             [
              0.6666666666666666,
              "#ed7953"
             ],
             [
              0.7777777777777778,
              "#fb9f3a"
             ],
             [
              0.8888888888888888,
              "#fdca26"
             ],
             [
              1,
              "#f0f921"
             ]
            ],
            "type": "heatmapgl"
           }
          ],
          "histogram": [
           {
            "marker": {
             "pattern": {
              "fillmode": "overlay",
              "size": 10,
              "solidity": 0.2
             }
            },
            "type": "histogram"
           }
          ],
          "histogram2d": [
           {
            "colorbar": {
             "outlinewidth": 0,
             "ticks": ""
            },
            "colorscale": [
             [
              0,
              "#0d0887"
             ],
             [
              0.1111111111111111,
              "#46039f"
             ],
             [
              0.2222222222222222,
              "#7201a8"
             ],
             [
              0.3333333333333333,
              "#9c179e"
             ],
             [
              0.4444444444444444,
              "#bd3786"
             ],
             [
              0.5555555555555556,
              "#d8576b"
             ],
             [
              0.6666666666666666,
              "#ed7953"
             ],
             [
              0.7777777777777778,
              "#fb9f3a"
             ],
             [
              0.8888888888888888,
              "#fdca26"
             ],
             [
              1,
              "#f0f921"
             ]
            ],
            "type": "histogram2d"
           }
          ],
          "histogram2dcontour": [
           {
            "colorbar": {
             "outlinewidth": 0,
             "ticks": ""
            },
            "colorscale": [
             [
              0,
              "#0d0887"
             ],
             [
              0.1111111111111111,
              "#46039f"
             ],
             [
              0.2222222222222222,
              "#7201a8"
             ],
             [
              0.3333333333333333,
              "#9c179e"
             ],
             [
              0.4444444444444444,
              "#bd3786"
             ],
             [
              0.5555555555555556,
              "#d8576b"
             ],
             [
              0.6666666666666666,
              "#ed7953"
             ],
             [
              0.7777777777777778,
              "#fb9f3a"
             ],
             [
              0.8888888888888888,
              "#fdca26"
             ],
             [
              1,
              "#f0f921"
             ]
            ],
            "type": "histogram2dcontour"
           }
          ],
          "mesh3d": [
           {
            "colorbar": {
             "outlinewidth": 0,
             "ticks": ""
            },
            "type": "mesh3d"
           }
          ],
          "parcoords": [
           {
            "line": {
             "colorbar": {
              "outlinewidth": 0,
              "ticks": ""
             }
            },
            "type": "parcoords"
           }
          ],
          "pie": [
           {
            "automargin": true,
            "type": "pie"
           }
          ],
          "scatter": [
           {
            "marker": {
             "colorbar": {
              "outlinewidth": 0,
              "ticks": ""
             }
            },
            "type": "scatter"
           }
          ],
          "scatter3d": [
           {
            "line": {
             "colorbar": {
              "outlinewidth": 0,
              "ticks": ""
             }
            },
            "marker": {
             "colorbar": {
              "outlinewidth": 0,
              "ticks": ""
             }
            },
            "type": "scatter3d"
           }
          ],
          "scattercarpet": [
           {
            "marker": {
             "colorbar": {
              "outlinewidth": 0,
              "ticks": ""
             }
            },
            "type": "scattercarpet"
           }
          ],
          "scattergeo": [
           {
            "marker": {
             "colorbar": {
              "outlinewidth": 0,
              "ticks": ""
             }
            },
            "type": "scattergeo"
           }
          ],
          "scattergl": [
           {
            "marker": {
             "colorbar": {
              "outlinewidth": 0,
              "ticks": ""
             }
            },
            "type": "scattergl"
           }
          ],
          "scattermapbox": [
           {
            "marker": {
             "colorbar": {
              "outlinewidth": 0,
              "ticks": ""
             }
            },
            "type": "scattermapbox"
           }
          ],
          "scatterpolar": [
           {
            "marker": {
             "colorbar": {
              "outlinewidth": 0,
              "ticks": ""
             }
            },
            "type": "scatterpolar"
           }
          ],
          "scatterpolargl": [
           {
            "marker": {
             "colorbar": {
              "outlinewidth": 0,
              "ticks": ""
             }
            },
            "type": "scatterpolargl"
           }
          ],
          "scatterternary": [
           {
            "marker": {
             "colorbar": {
              "outlinewidth": 0,
              "ticks": ""
             }
            },
            "type": "scatterternary"
           }
          ],
          "surface": [
           {
            "colorbar": {
             "outlinewidth": 0,
             "ticks": ""
            },
            "colorscale": [
             [
              0,
              "#0d0887"
             ],
             [
              0.1111111111111111,
              "#46039f"
             ],
             [
              0.2222222222222222,
              "#7201a8"
             ],
             [
              0.3333333333333333,
              "#9c179e"
             ],
             [
              0.4444444444444444,
              "#bd3786"
             ],
             [
              0.5555555555555556,
              "#d8576b"
             ],
             [
              0.6666666666666666,
              "#ed7953"
             ],
             [
              0.7777777777777778,
              "#fb9f3a"
             ],
             [
              0.8888888888888888,
              "#fdca26"
             ],
             [
              1,
              "#f0f921"
             ]
            ],
            "type": "surface"
           }
          ],
          "table": [
           {
            "cells": {
             "fill": {
              "color": "#EBF0F8"
             },
             "line": {
              "color": "white"
             }
            },
            "header": {
             "fill": {
              "color": "#C8D4E3"
             },
             "line": {
              "color": "white"
             }
            },
            "type": "table"
           }
          ]
         },
         "layout": {
          "annotationdefaults": {
           "arrowcolor": "#2a3f5f",
           "arrowhead": 0,
           "arrowwidth": 1
          },
          "autotypenumbers": "strict",
          "coloraxis": {
           "colorbar": {
            "outlinewidth": 0,
            "ticks": ""
           }
          },
          "colorscale": {
           "diverging": [
            [
             0,
             "#8e0152"
            ],
            [
             0.1,
             "#c51b7d"
            ],
            [
             0.2,
             "#de77ae"
            ],
            [
             0.3,
             "#f1b6da"
            ],
            [
             0.4,
             "#fde0ef"
            ],
            [
             0.5,
             "#f7f7f7"
            ],
            [
             0.6,
             "#e6f5d0"
            ],
            [
             0.7,
             "#b8e186"
            ],
            [
             0.8,
             "#7fbc41"
            ],
            [
             0.9,
             "#4d9221"
            ],
            [
             1,
             "#276419"
            ]
           ],
           "sequential": [
            [
             0,
             "#0d0887"
            ],
            [
             0.1111111111111111,
             "#46039f"
            ],
            [
             0.2222222222222222,
             "#7201a8"
            ],
            [
             0.3333333333333333,
             "#9c179e"
            ],
            [
             0.4444444444444444,
             "#bd3786"
            ],
            [
             0.5555555555555556,
             "#d8576b"
            ],
            [
             0.6666666666666666,
             "#ed7953"
            ],
            [
             0.7777777777777778,
             "#fb9f3a"
            ],
            [
             0.8888888888888888,
             "#fdca26"
            ],
            [
             1,
             "#f0f921"
            ]
           ],
           "sequentialminus": [
            [
             0,
             "#0d0887"
            ],
            [
             0.1111111111111111,
             "#46039f"
            ],
            [
             0.2222222222222222,
             "#7201a8"
            ],
            [
             0.3333333333333333,
             "#9c179e"
            ],
            [
             0.4444444444444444,
             "#bd3786"
            ],
            [
             0.5555555555555556,
             "#d8576b"
            ],
            [
             0.6666666666666666,
             "#ed7953"
            ],
            [
             0.7777777777777778,
             "#fb9f3a"
            ],
            [
             0.8888888888888888,
             "#fdca26"
            ],
            [
             1,
             "#f0f921"
            ]
           ]
          },
          "colorway": [
           "#636efa",
           "#EF553B",
           "#00cc96",
           "#ab63fa",
           "#FFA15A",
           "#19d3f3",
           "#FF6692",
           "#B6E880",
           "#FF97FF",
           "#FECB52"
          ],
          "font": {
           "color": "#2a3f5f"
          },
          "geo": {
           "bgcolor": "white",
           "lakecolor": "white",
           "landcolor": "#E5ECF6",
           "showlakes": true,
           "showland": true,
           "subunitcolor": "white"
          },
          "hoverlabel": {
           "align": "left"
          },
          "hovermode": "closest",
          "mapbox": {
           "style": "light"
          },
          "paper_bgcolor": "white",
          "plot_bgcolor": "#E5ECF6",
          "polar": {
           "angularaxis": {
            "gridcolor": "white",
            "linecolor": "white",
            "ticks": ""
           },
           "bgcolor": "#E5ECF6",
           "radialaxis": {
            "gridcolor": "white",
            "linecolor": "white",
            "ticks": ""
           }
          },
          "scene": {
           "xaxis": {
            "backgroundcolor": "#E5ECF6",
            "gridcolor": "white",
            "gridwidth": 2,
            "linecolor": "white",
            "showbackground": true,
            "ticks": "",
            "zerolinecolor": "white"
           },
           "yaxis": {
            "backgroundcolor": "#E5ECF6",
            "gridcolor": "white",
            "gridwidth": 2,
            "linecolor": "white",
            "showbackground": true,
            "ticks": "",
            "zerolinecolor": "white"
           },
           "zaxis": {
            "backgroundcolor": "#E5ECF6",
            "gridcolor": "white",
            "gridwidth": 2,
            "linecolor": "white",
            "showbackground": true,
            "ticks": "",
            "zerolinecolor": "white"
           }
          },
          "shapedefaults": {
           "line": {
            "color": "#2a3f5f"
           }
          },
          "ternary": {
           "aaxis": {
            "gridcolor": "white",
            "linecolor": "white",
            "ticks": ""
           },
           "baxis": {
            "gridcolor": "white",
            "linecolor": "white",
            "ticks": ""
           },
           "bgcolor": "#E5ECF6",
           "caxis": {
            "gridcolor": "white",
            "linecolor": "white",
            "ticks": ""
           }
          },
          "title": {
           "x": 0.05
          },
          "xaxis": {
           "automargin": true,
           "gridcolor": "white",
           "linecolor": "white",
           "ticks": "",
           "title": {
            "standoff": 15
           },
           "zerolinecolor": "white",
           "zerolinewidth": 2
          },
          "yaxis": {
           "automargin": true,
           "gridcolor": "white",
           "linecolor": "white",
           "ticks": "",
           "title": {
            "standoff": 15
           },
           "zerolinecolor": "white",
           "zerolinewidth": 2
          }
         }
        },
        "width": 2000,
        "xaxis": {
         "anchor": "y",
         "domain": [
          0,
          1
         ],
         "range": [
          -3,
          15
         ],
         "title": {
          "text": "ERCC_attomoles_in_sample"
         },
         "type": "log"
        },
        "yaxis": {
         "anchor": "x",
         "domain": [
          0,
          1
         ],
         "title": {
          "text": "RPK"
         },
         "type": "log"
        }
       }
      }
     },
     "metadata": {},
     "output_type": "display_data"
    },
    {
     "name": "stderr",
     "output_type": "stream",
     "text": [
      "C:\\Users\\adiro\\AppData\\Local\\Temp\\ipykernel_32200\\2061613557.py:205: SettingWithCopyWarning:\n",
      "\n",
      "\n",
      "A value is trying to be set on a copy of a slice from a DataFrame.\n",
      "Try using .loc[row_indexer,col_indexer] = value instead\n",
      "\n",
      "See the caveats in the documentation: https://pandas.pydata.org/pandas-docs/stable/user_guide/indexing.html#returning-a-view-versus-a-copy\n",
      "\n"
     ]
    },
    {
     "data": {
      "application/vnd.plotly.v1+json": {
       "config": {
        "plotlyServerURL": "https://plot.ly"
       },
       "data": [
        {
         "hovertemplate": "<b>%{hovertext}</b><br><br>in_fit=in fit<br>ERCC_attomoles_in_sample=%{x}<br>RPK=%{y}<extra></extra>",
         "hovertext": [
          "ERCC-00002",
          "ERCC-00003",
          "ERCC-00004",
          "ERCC-00009",
          "ERCC-00012",
          "ERCC-00013",
          "ERCC-00014",
          "ERCC-00016",
          "ERCC-00017",
          "ERCC-00019",
          "ERCC-00022",
          "ERCC-00024",
          "ERCC-00025",
          "ERCC-00028",
          "ERCC-00031",
          "ERCC-00033",
          "ERCC-00034",
          "ERCC-00035",
          "ERCC-00039",
          "ERCC-00040",
          "ERCC-00041",
          "ERCC-00042",
          "ERCC-00043",
          "ERCC-00044",
          "ERCC-00046",
          "ERCC-00048",
          "ERCC-00051",
          "ERCC-00053",
          "ERCC-00057",
          "ERCC-00058",
          "ERCC-00059",
          "ERCC-00060",
          "ERCC-00061",
          "ERCC-00062",
          "ERCC-00067",
          "ERCC-00069",
          "ERCC-00071",
          "ERCC-00073",
          "ERCC-00074",
          "ERCC-00075",
          "ERCC-00076",
          "ERCC-00077",
          "ERCC-00078",
          "ERCC-00079",
          "ERCC-00081",
          "ERCC-00083",
          "ERCC-00084",
          "ERCC-00085",
          "ERCC-00086",
          "ERCC-00092",
          "ERCC-00095",
          "ERCC-00096",
          "ERCC-00097",
          "ERCC-00098",
          "ERCC-00099",
          "ERCC-00104",
          "ERCC-00108",
          "ERCC-00109",
          "ERCC-00111",
          "ERCC-00112",
          "ERCC-00113",
          "ERCC-00116",
          "ERCC-00117",
          "ERCC-00120",
          "ERCC-00123",
          "ERCC-00126",
          "ERCC-00130",
          "ERCC-00131",
          "ERCC-00134",
          "ERCC-00136",
          "ERCC-00137",
          "ERCC-00138",
          "ERCC-00142",
          "ERCC-00143",
          "ERCC-00144",
          "ERCC-00145",
          "ERCC-00147",
          "ERCC-00148",
          "ERCC-00150",
          "ERCC-00154",
          "ERCC-00156",
          "ERCC-00157",
          "ERCC-00158",
          "ERCC-00160",
          "ERCC-00162",
          "ERCC-00163",
          "ERCC-00164",
          "ERCC-00165",
          "ERCC-00168",
          "ERCC-00170",
          "ERCC-00171"
         ],
         "legendgroup": "in fit",
         "marker": {
          "color": "#636efa",
          "symbol": "circle"
         },
         "mode": "markers",
         "name": "in fit",
         "orientation": "h",
         "showlegend": true,
         "type": "scatter",
         "x": [
          487.5,
          30.46875,
          243.75,
          30.46875,
          0.0037193299,
          0.02975463855,
          0.11901855485000001,
          0.0074386598,
          0.0037193299,
          0.9521484375,
          7.6171875,
          0.0074386598,
          1.904296875,
          0.11901855485000001,
          0.05950927742500001,
          0.05950927742500001,
          0.238037109375,
          3.80859375,
          0.11901855485000001,
          0.02975463855,
          0.0074386598,
          15.234375,
          15.234375,
          3.80859375,
          121.875,
          0.0004649164,
          1.904296875,
          0.9521484375,
          0.0004649164,
          0.05950927742500001,
          0.47607421875,
          7.6171875,
          0.00185966495,
          1.904296875,
          0.11901855485000001,
          0.05950927742500001,
          1.904296875,
          0.02975463855,
          487.5,
          0.0004649164,
          7.6171875,
          0.11901855485000001,
          0.9521484375,
          1.904296875,
          0.0074386598,
          0.000929832475,
          0.9521484375,
          0.238037109375,
          0.0037193299,
          7.6171875,
          3.80859375,
          487.5,
          0.014877319275,
          0.00185966495,
          0.47607421875,
          0.0074386598,
          30.46875,
          0.02975463855,
          15.234375,
          3.80859375,
          121.875,
          15.234375,
          0.00185966495,
          0.02975463855,
          0.0074386598,
          0.47607421875,
          975,
          3.80859375,
          0.05950927742500001,
          60.9375,
          0.02975463855,
          0.0037193299,
          0.0074386598,
          0.11901855485000001,
          0.9521484375,
          30.46875,
          0.02975463855,
          0.47607421875,
          0.11901855485000001,
          0.238037109375,
          0.014877319275,
          0.238037109375,
          0.014877319275,
          0.238037109375,
          1.904296875,
          0.47607421875,
          0.014877319275,
          1.904296875,
          0.014877319275,
          0.47607421875,
          121.875
         ],
         "xaxis": "x",
         "y": [
          157827.52120640906,
          15616.81329423265,
          110187.38049713193,
          8765.243902439024,
          1.0060362173038229,
          8.663366336633663,
          31.681144609095554,
          3.5545023696682465,
          1.7605633802816902,
          392.85714285714283,
          1961.3848202396805,
          0,
          770.8124373119358,
          33.6283185840708,
          16.695957820738137,
          7.912957467853611,
          186.45731108930326,
          943.3628318584072,
          31.08108108108108,
          8.064516129032258,
          6.23885918003565,
          7076.246334310851,
          3725.3176930596287,
          1184.2560553633218,
          46620.68965517241,
          0,
          259.1240875912409,
          327.4682306940372,
          0,
          17.605633802816904,
          171.42857142857142,
          2435.946462715105,
          0.8802816901408451,
          657.8690127077224,
          23.29192546583851,
          33.42128408091469,
          571.6510903426791,
          9.950248756218906,
          222220.30651340995,
          1.9550342130987295,
          1182.2429906542056,
          10.989010989010989,
          402.8197381671702,
          537.2670807453416,
          0,
          3.9138943248532287,
          278.67203219315894,
          72.27488151658768,
          0,
          3017.7935943060497,
          2596.928982725528,
          244514.00180668474,
          11.47227533460803,
          3.499562554680665,
          111.1111111111111,
          1.483679525222552,
          10459.882583170254,
          7.462686567164178,
          3642.8571428571427,
          1730.6338028169016,
          50764.28571428572,
          6751.3812154696125,
          0.8802816901408451,
          0,
          0,
          92.128801431127,
          207274.78753541078,
          1857.3281452658885,
          0,
          12920.619554695064,
          5.58659217877095,
          0,
          0,
          59.94897959183673,
          241.635687732342,
          4871.401151631478,
          0.9775171065493647,
          38.46153846153846,
          24.226110363391655,
          5.58659217877095,
          0,
          125.61334641805693,
          3.894839337877313,
          227.4562584118439,
          843.2122370936902,
          189.6869244935543,
          5.870841487279844,
          822.2477064220184,
          9.765625,
          115.34701857282504,
          33518.81188118812
         ],
         "yaxis": "y"
        },
        {
         "hovertemplate": "<b>%{hovertext}</b><br><br>in_fit=not in fit<br>ERCC_attomoles_in_sample=%{x}<br>RPK=%{y}<extra></extra>",
         "hovertext": [
          "ERCC-00054"
         ],
         "legendgroup": "not in fit",
         "marker": {
          "color": "#EF553B",
          "symbol": "circle"
         },
         "mode": "markers",
         "name": "not in fit",
         "orientation": "h",
         "showlegend": true,
         "type": "scatter",
         "x": [
          0.47607421875
         ],
         "xaxis": "x",
         "y": [
          0
         ],
         "yaxis": "y"
        },
        {
         "mode": "lines",
         "name": "Disrupted_biorep3",
         "type": "scatter",
         "x": [
          0.01,
          975
         ],
         "y": [
          3.987845639342732,
          234788.93475132564
         ]
        }
       ],
       "layout": {
        "annotations": [
         {
          "align": "left",
          "bordercolor": "black",
          "borderwidth": 1,
          "showarrow": false,
          "text": "fit of log(y) Vs log(x), paremeters: log(y) = m*log(x)+c",
          "x": 0.4,
          "xanchor": "left",
          "xref": "paper",
          "y": 1,
          "yref": "paper"
         },
         {
          "align": "left",
          "bordercolor": "black",
          "borderwidth": 1,
          "showarrow": false,
          "text": "fit in the range ERCC attomoles in sample [0.01,975.00]",
          "x": 0.4,
          "xanchor": "left",
          "xref": "paper",
          "y": 0.9,
          "yref": "paper"
         },
         {
          "align": "left",
          "bordercolor": "black",
          "borderwidth": 1,
          "showarrow": false,
          "text": "the slop in log scale: m = 0.96",
          "x": 0.4,
          "xanchor": "left",
          "xref": "paper",
          "y": 0.8,
          "yref": "paper"
         },
         {
          "align": "left",
          "bordercolor": "black",
          "borderwidth": 1,
          "showarrow": false,
          "text": "the intercept in log scale: c = 5.79",
          "x": 0.4,
          "xanchor": "left",
          "xref": "paper",
          "y": 0.7,
          "yref": "paper"
         },
         {
          "align": "left",
          "bordercolor": "black",
          "borderwidth": 1,
          "showarrow": false,
          "text": "",
          "x": 0.4,
          "xanchor": "left",
          "xref": "paper",
          "y": 0.6,
          "yref": "paper"
         },
         {
          "align": "left",
          "bordercolor": "black",
          "borderwidth": 1,
          "showarrow": false,
          "text": "log(y) = m*log(x)+c --> y = e^c * x^m",
          "x": 0.4,
          "xanchor": "left",
          "xref": "paper",
          "y": 0.5,
          "yref": "paper"
         },
         {
          "align": "left",
          "bordercolor": "black",
          "borderwidth": 1,
          "showarrow": false,
          "text": "the slope in linear scale: e^c = 3.26E+02",
          "x": 0.4,
          "xanchor": "left",
          "xref": "paper",
          "y": 0.3999999999999999,
          "yref": "paper"
         },
         {
          "align": "left",
          "bordercolor": "black",
          "borderwidth": 1,
          "showarrow": false,
          "text": "R^2 = 0.95",
          "x": 0.4,
          "xanchor": "left",
          "xref": "paper",
          "y": 0.29999999999999993,
          "yref": "paper"
         },
         {
          "align": "left",
          "bordercolor": "black",
          "borderwidth": 1,
          "showarrow": false,
          "text": "",
          "x": 0.4,
          "xanchor": "left",
          "xref": "paper",
          "y": 0.19999999999999996,
          "yref": "paper"
         },
         {
          "align": "left",
          "bordercolor": "black",
          "borderwidth": 1,
          "showarrow": false,
          "text": "ERCCs with no reads detected",
          "x": 0.4,
          "xanchor": "left",
          "xref": "paper",
          "y": 0.09999999999999998,
          "yref": "paper"
         },
         {
          "align": "left",
          "bordercolor": "black",
          "borderwidth": 1,
          "showarrow": false,
          "text": " not fitted and not shown",
          "x": 0.4,
          "xanchor": "left",
          "xref": "paper",
          "y": 0,
          "yref": "paper"
         }
        ],
        "font": {
         "size": 24
        },
        "height": 600,
        "legend": {
         "title": {
          "text": "in_fit"
         },
         "tracegroupgap": 0
        },
        "margin": {
         "t": 60
        },
        "template": {
         "data": {
          "bar": [
           {
            "error_x": {
             "color": "#2a3f5f"
            },
            "error_y": {
             "color": "#2a3f5f"
            },
            "marker": {
             "line": {
              "color": "#E5ECF6",
              "width": 0.5
             },
             "pattern": {
              "fillmode": "overlay",
              "size": 10,
              "solidity": 0.2
             }
            },
            "type": "bar"
           }
          ],
          "barpolar": [
           {
            "marker": {
             "line": {
              "color": "#E5ECF6",
              "width": 0.5
             },
             "pattern": {
              "fillmode": "overlay",
              "size": 10,
              "solidity": 0.2
             }
            },
            "type": "barpolar"
           }
          ],
          "carpet": [
           {
            "aaxis": {
             "endlinecolor": "#2a3f5f",
             "gridcolor": "white",
             "linecolor": "white",
             "minorgridcolor": "white",
             "startlinecolor": "#2a3f5f"
            },
            "baxis": {
             "endlinecolor": "#2a3f5f",
             "gridcolor": "white",
             "linecolor": "white",
             "minorgridcolor": "white",
             "startlinecolor": "#2a3f5f"
            },
            "type": "carpet"
           }
          ],
          "choropleth": [
           {
            "colorbar": {
             "outlinewidth": 0,
             "ticks": ""
            },
            "type": "choropleth"
           }
          ],
          "contour": [
           {
            "colorbar": {
             "outlinewidth": 0,
             "ticks": ""
            },
            "colorscale": [
             [
              0,
              "#0d0887"
             ],
             [
              0.1111111111111111,
              "#46039f"
             ],
             [
              0.2222222222222222,
              "#7201a8"
             ],
             [
              0.3333333333333333,
              "#9c179e"
             ],
             [
              0.4444444444444444,
              "#bd3786"
             ],
             [
              0.5555555555555556,
              "#d8576b"
             ],
             [
              0.6666666666666666,
              "#ed7953"
             ],
             [
              0.7777777777777778,
              "#fb9f3a"
             ],
             [
              0.8888888888888888,
              "#fdca26"
             ],
             [
              1,
              "#f0f921"
             ]
            ],
            "type": "contour"
           }
          ],
          "contourcarpet": [
           {
            "colorbar": {
             "outlinewidth": 0,
             "ticks": ""
            },
            "type": "contourcarpet"
           }
          ],
          "heatmap": [
           {
            "colorbar": {
             "outlinewidth": 0,
             "ticks": ""
            },
            "colorscale": [
             [
              0,
              "#0d0887"
             ],
             [
              0.1111111111111111,
              "#46039f"
             ],
             [
              0.2222222222222222,
              "#7201a8"
             ],
             [
              0.3333333333333333,
              "#9c179e"
             ],
             [
              0.4444444444444444,
              "#bd3786"
             ],
             [
              0.5555555555555556,
              "#d8576b"
             ],
             [
              0.6666666666666666,
              "#ed7953"
             ],
             [
              0.7777777777777778,
              "#fb9f3a"
             ],
             [
              0.8888888888888888,
              "#fdca26"
             ],
             [
              1,
              "#f0f921"
             ]
            ],
            "type": "heatmap"
           }
          ],
          "heatmapgl": [
           {
            "colorbar": {
             "outlinewidth": 0,
             "ticks": ""
            },
            "colorscale": [
             [
              0,
              "#0d0887"
             ],
             [
              0.1111111111111111,
              "#46039f"
             ],
             [
              0.2222222222222222,
              "#7201a8"
             ],
             [
              0.3333333333333333,
              "#9c179e"
             ],
             [
              0.4444444444444444,
              "#bd3786"
             ],
             [
              0.5555555555555556,
              "#d8576b"
             ],
             [
              0.6666666666666666,
              "#ed7953"
             ],
             [
              0.7777777777777778,
              "#fb9f3a"
             ],
             [
              0.8888888888888888,
              "#fdca26"
             ],
             [
              1,
              "#f0f921"
             ]
            ],
            "type": "heatmapgl"
           }
          ],
          "histogram": [
           {
            "marker": {
             "pattern": {
              "fillmode": "overlay",
              "size": 10,
              "solidity": 0.2
             }
            },
            "type": "histogram"
           }
          ],
          "histogram2d": [
           {
            "colorbar": {
             "outlinewidth": 0,
             "ticks": ""
            },
            "colorscale": [
             [
              0,
              "#0d0887"
             ],
             [
              0.1111111111111111,
              "#46039f"
             ],
             [
              0.2222222222222222,
              "#7201a8"
             ],
             [
              0.3333333333333333,
              "#9c179e"
             ],
             [
              0.4444444444444444,
              "#bd3786"
             ],
             [
              0.5555555555555556,
              "#d8576b"
             ],
             [
              0.6666666666666666,
              "#ed7953"
             ],
             [
              0.7777777777777778,
              "#fb9f3a"
             ],
             [
              0.8888888888888888,
              "#fdca26"
             ],
             [
              1,
              "#f0f921"
             ]
            ],
            "type": "histogram2d"
           }
          ],
          "histogram2dcontour": [
           {
            "colorbar": {
             "outlinewidth": 0,
             "ticks": ""
            },
            "colorscale": [
             [
              0,
              "#0d0887"
             ],
             [
              0.1111111111111111,
              "#46039f"
             ],
             [
              0.2222222222222222,
              "#7201a8"
             ],
             [
              0.3333333333333333,
              "#9c179e"
             ],
             [
              0.4444444444444444,
              "#bd3786"
             ],
             [
              0.5555555555555556,
              "#d8576b"
             ],
             [
              0.6666666666666666,
              "#ed7953"
             ],
             [
              0.7777777777777778,
              "#fb9f3a"
             ],
             [
              0.8888888888888888,
              "#fdca26"
             ],
             [
              1,
              "#f0f921"
             ]
            ],
            "type": "histogram2dcontour"
           }
          ],
          "mesh3d": [
           {
            "colorbar": {
             "outlinewidth": 0,
             "ticks": ""
            },
            "type": "mesh3d"
           }
          ],
          "parcoords": [
           {
            "line": {
             "colorbar": {
              "outlinewidth": 0,
              "ticks": ""
             }
            },
            "type": "parcoords"
           }
          ],
          "pie": [
           {
            "automargin": true,
            "type": "pie"
           }
          ],
          "scatter": [
           {
            "marker": {
             "colorbar": {
              "outlinewidth": 0,
              "ticks": ""
             }
            },
            "type": "scatter"
           }
          ],
          "scatter3d": [
           {
            "line": {
             "colorbar": {
              "outlinewidth": 0,
              "ticks": ""
             }
            },
            "marker": {
             "colorbar": {
              "outlinewidth": 0,
              "ticks": ""
             }
            },
            "type": "scatter3d"
           }
          ],
          "scattercarpet": [
           {
            "marker": {
             "colorbar": {
              "outlinewidth": 0,
              "ticks": ""
             }
            },
            "type": "scattercarpet"
           }
          ],
          "scattergeo": [
           {
            "marker": {
             "colorbar": {
              "outlinewidth": 0,
              "ticks": ""
             }
            },
            "type": "scattergeo"
           }
          ],
          "scattergl": [
           {
            "marker": {
             "colorbar": {
              "outlinewidth": 0,
              "ticks": ""
             }
            },
            "type": "scattergl"
           }
          ],
          "scattermapbox": [
           {
            "marker": {
             "colorbar": {
              "outlinewidth": 0,
              "ticks": ""
             }
            },
            "type": "scattermapbox"
           }
          ],
          "scatterpolar": [
           {
            "marker": {
             "colorbar": {
              "outlinewidth": 0,
              "ticks": ""
             }
            },
            "type": "scatterpolar"
           }
          ],
          "scatterpolargl": [
           {
            "marker": {
             "colorbar": {
              "outlinewidth": 0,
              "ticks": ""
             }
            },
            "type": "scatterpolargl"
           }
          ],
          "scatterternary": [
           {
            "marker": {
             "colorbar": {
              "outlinewidth": 0,
              "ticks": ""
             }
            },
            "type": "scatterternary"
           }
          ],
          "surface": [
           {
            "colorbar": {
             "outlinewidth": 0,
             "ticks": ""
            },
            "colorscale": [
             [
              0,
              "#0d0887"
             ],
             [
              0.1111111111111111,
              "#46039f"
             ],
             [
              0.2222222222222222,
              "#7201a8"
             ],
             [
              0.3333333333333333,
              "#9c179e"
             ],
             [
              0.4444444444444444,
              "#bd3786"
             ],
             [
              0.5555555555555556,
              "#d8576b"
             ],
             [
              0.6666666666666666,
              "#ed7953"
             ],
             [
              0.7777777777777778,
              "#fb9f3a"
             ],
             [
              0.8888888888888888,
              "#fdca26"
             ],
             [
              1,
              "#f0f921"
             ]
            ],
            "type": "surface"
           }
          ],
          "table": [
           {
            "cells": {
             "fill": {
              "color": "#EBF0F8"
             },
             "line": {
              "color": "white"
             }
            },
            "header": {
             "fill": {
              "color": "#C8D4E3"
             },
             "line": {
              "color": "white"
             }
            },
            "type": "table"
           }
          ]
         },
         "layout": {
          "annotationdefaults": {
           "arrowcolor": "#2a3f5f",
           "arrowhead": 0,
           "arrowwidth": 1
          },
          "autotypenumbers": "strict",
          "coloraxis": {
           "colorbar": {
            "outlinewidth": 0,
            "ticks": ""
           }
          },
          "colorscale": {
           "diverging": [
            [
             0,
             "#8e0152"
            ],
            [
             0.1,
             "#c51b7d"
            ],
            [
             0.2,
             "#de77ae"
            ],
            [
             0.3,
             "#f1b6da"
            ],
            [
             0.4,
             "#fde0ef"
            ],
            [
             0.5,
             "#f7f7f7"
            ],
            [
             0.6,
             "#e6f5d0"
            ],
            [
             0.7,
             "#b8e186"
            ],
            [
             0.8,
             "#7fbc41"
            ],
            [
             0.9,
             "#4d9221"
            ],
            [
             1,
             "#276419"
            ]
           ],
           "sequential": [
            [
             0,
             "#0d0887"
            ],
            [
             0.1111111111111111,
             "#46039f"
            ],
            [
             0.2222222222222222,
             "#7201a8"
            ],
            [
             0.3333333333333333,
             "#9c179e"
            ],
            [
             0.4444444444444444,
             "#bd3786"
            ],
            [
             0.5555555555555556,
             "#d8576b"
            ],
            [
             0.6666666666666666,
             "#ed7953"
            ],
            [
             0.7777777777777778,
             "#fb9f3a"
            ],
            [
             0.8888888888888888,
             "#fdca26"
            ],
            [
             1,
             "#f0f921"
            ]
           ],
           "sequentialminus": [
            [
             0,
             "#0d0887"
            ],
            [
             0.1111111111111111,
             "#46039f"
            ],
            [
             0.2222222222222222,
             "#7201a8"
            ],
            [
             0.3333333333333333,
             "#9c179e"
            ],
            [
             0.4444444444444444,
             "#bd3786"
            ],
            [
             0.5555555555555556,
             "#d8576b"
            ],
            [
             0.6666666666666666,
             "#ed7953"
            ],
            [
             0.7777777777777778,
             "#fb9f3a"
            ],
            [
             0.8888888888888888,
             "#fdca26"
            ],
            [
             1,
             "#f0f921"
            ]
           ]
          },
          "colorway": [
           "#636efa",
           "#EF553B",
           "#00cc96",
           "#ab63fa",
           "#FFA15A",
           "#19d3f3",
           "#FF6692",
           "#B6E880",
           "#FF97FF",
           "#FECB52"
          ],
          "font": {
           "color": "#2a3f5f"
          },
          "geo": {
           "bgcolor": "white",
           "lakecolor": "white",
           "landcolor": "#E5ECF6",
           "showlakes": true,
           "showland": true,
           "subunitcolor": "white"
          },
          "hoverlabel": {
           "align": "left"
          },
          "hovermode": "closest",
          "mapbox": {
           "style": "light"
          },
          "paper_bgcolor": "white",
          "plot_bgcolor": "#E5ECF6",
          "polar": {
           "angularaxis": {
            "gridcolor": "white",
            "linecolor": "white",
            "ticks": ""
           },
           "bgcolor": "#E5ECF6",
           "radialaxis": {
            "gridcolor": "white",
            "linecolor": "white",
            "ticks": ""
           }
          },
          "scene": {
           "xaxis": {
            "backgroundcolor": "#E5ECF6",
            "gridcolor": "white",
            "gridwidth": 2,
            "linecolor": "white",
            "showbackground": true,
            "ticks": "",
            "zerolinecolor": "white"
           },
           "yaxis": {
            "backgroundcolor": "#E5ECF6",
            "gridcolor": "white",
            "gridwidth": 2,
            "linecolor": "white",
            "showbackground": true,
            "ticks": "",
            "zerolinecolor": "white"
           },
           "zaxis": {
            "backgroundcolor": "#E5ECF6",
            "gridcolor": "white",
            "gridwidth": 2,
            "linecolor": "white",
            "showbackground": true,
            "ticks": "",
            "zerolinecolor": "white"
           }
          },
          "shapedefaults": {
           "line": {
            "color": "#2a3f5f"
           }
          },
          "ternary": {
           "aaxis": {
            "gridcolor": "white",
            "linecolor": "white",
            "ticks": ""
           },
           "baxis": {
            "gridcolor": "white",
            "linecolor": "white",
            "ticks": ""
           },
           "bgcolor": "#E5ECF6",
           "caxis": {
            "gridcolor": "white",
            "linecolor": "white",
            "ticks": ""
           }
          },
          "title": {
           "x": 0.05
          },
          "xaxis": {
           "automargin": true,
           "gridcolor": "white",
           "linecolor": "white",
           "ticks": "",
           "title": {
            "standoff": 15
           },
           "zerolinecolor": "white",
           "zerolinewidth": 2
          },
          "yaxis": {
           "automargin": true,
           "gridcolor": "white",
           "linecolor": "white",
           "ticks": "",
           "title": {
            "standoff": 15
           },
           "zerolinecolor": "white",
           "zerolinewidth": 2
          }
         }
        },
        "width": 2000,
        "xaxis": {
         "anchor": "y",
         "domain": [
          0,
          1
         ],
         "range": [
          -3,
          15
         ],
         "title": {
          "text": "ERCC_attomoles_in_sample"
         },
         "type": "log"
        },
        "yaxis": {
         "anchor": "x",
         "domain": [
          0,
          1
         ],
         "title": {
          "text": "RPK"
         },
         "type": "log"
        }
       }
      }
     },
     "metadata": {},
     "output_type": "display_data"
    },
    {
     "name": "stderr",
     "output_type": "stream",
     "text": [
      "C:\\Users\\adiro\\AppData\\Local\\Temp\\ipykernel_32200\\2061613557.py:205: SettingWithCopyWarning:\n",
      "\n",
      "\n",
      "A value is trying to be set on a copy of a slice from a DataFrame.\n",
      "Try using .loc[row_indexer,col_indexer] = value instead\n",
      "\n",
      "See the caveats in the documentation: https://pandas.pydata.org/pandas-docs/stable/user_guide/indexing.html#returning-a-view-versus-a-copy\n",
      "\n"
     ]
    },
    {
     "data": {
      "application/vnd.plotly.v1+json": {
       "config": {
        "plotlyServerURL": "https://plot.ly"
       },
       "data": [
        {
         "hovertemplate": "<b>%{hovertext}</b><br><br>in_fit=in fit<br>ERCC_attomoles_in_sample=%{x}<br>RPK=%{y}<extra></extra>",
         "hovertext": [
          "ERCC-00002",
          "ERCC-00003",
          "ERCC-00004",
          "ERCC-00009",
          "ERCC-00012",
          "ERCC-00013",
          "ERCC-00014",
          "ERCC-00016",
          "ERCC-00017",
          "ERCC-00019",
          "ERCC-00022",
          "ERCC-00024",
          "ERCC-00025",
          "ERCC-00028",
          "ERCC-00031",
          "ERCC-00033",
          "ERCC-00034",
          "ERCC-00035",
          "ERCC-00039",
          "ERCC-00040",
          "ERCC-00041",
          "ERCC-00042",
          "ERCC-00043",
          "ERCC-00044",
          "ERCC-00046",
          "ERCC-00048",
          "ERCC-00051",
          "ERCC-00053",
          "ERCC-00057",
          "ERCC-00058",
          "ERCC-00059",
          "ERCC-00060",
          "ERCC-00061",
          "ERCC-00062",
          "ERCC-00067",
          "ERCC-00069",
          "ERCC-00071",
          "ERCC-00073",
          "ERCC-00074",
          "ERCC-00075",
          "ERCC-00076",
          "ERCC-00077",
          "ERCC-00078",
          "ERCC-00079",
          "ERCC-00081",
          "ERCC-00083",
          "ERCC-00084",
          "ERCC-00085",
          "ERCC-00086",
          "ERCC-00092",
          "ERCC-00095",
          "ERCC-00096",
          "ERCC-00097",
          "ERCC-00098",
          "ERCC-00099",
          "ERCC-00104",
          "ERCC-00108",
          "ERCC-00109",
          "ERCC-00111",
          "ERCC-00112",
          "ERCC-00113",
          "ERCC-00116",
          "ERCC-00117",
          "ERCC-00120",
          "ERCC-00123",
          "ERCC-00126",
          "ERCC-00130",
          "ERCC-00131",
          "ERCC-00134",
          "ERCC-00136",
          "ERCC-00137",
          "ERCC-00138",
          "ERCC-00142",
          "ERCC-00143",
          "ERCC-00144",
          "ERCC-00145",
          "ERCC-00147",
          "ERCC-00148",
          "ERCC-00150",
          "ERCC-00154",
          "ERCC-00156",
          "ERCC-00157",
          "ERCC-00158",
          "ERCC-00160",
          "ERCC-00162",
          "ERCC-00163",
          "ERCC-00164",
          "ERCC-00165",
          "ERCC-00168",
          "ERCC-00170",
          "ERCC-00171"
         ],
         "legendgroup": "in fit",
         "marker": {
          "color": "#636efa",
          "symbol": "circle"
         },
         "mode": "markers",
         "name": "in fit",
         "orientation": "h",
         "showlegend": true,
         "type": "scatter",
         "x": [
          487.5,
          30.46875,
          243.75,
          30.46875,
          0.0037193299,
          0.02975463855,
          0.11901855485000001,
          0.0074386598,
          0.0037193299,
          0.9521484375,
          7.6171875,
          0.0074386598,
          1.904296875,
          0.11901855485000001,
          0.05950927742500001,
          0.05950927742500001,
          0.238037109375,
          3.80859375,
          0.11901855485000001,
          0.02975463855,
          0.0074386598,
          15.234375,
          15.234375,
          3.80859375,
          121.875,
          0.0004649164,
          1.904296875,
          0.9521484375,
          0.0004649164,
          0.05950927742500001,
          0.47607421875,
          7.6171875,
          0.00185966495,
          1.904296875,
          0.11901855485000001,
          0.05950927742500001,
          1.904296875,
          0.02975463855,
          487.5,
          0.0004649164,
          7.6171875,
          0.11901855485000001,
          0.9521484375,
          1.904296875,
          0.0074386598,
          0.000929832475,
          0.9521484375,
          0.238037109375,
          0.0037193299,
          7.6171875,
          3.80859375,
          487.5,
          0.014877319275,
          0.00185966495,
          0.47607421875,
          0.0074386598,
          30.46875,
          0.02975463855,
          15.234375,
          3.80859375,
          121.875,
          15.234375,
          0.00185966495,
          0.02975463855,
          0.0074386598,
          0.47607421875,
          975,
          3.80859375,
          0.05950927742500001,
          60.9375,
          0.02975463855,
          0.0037193299,
          0.0074386598,
          0.11901855485000001,
          0.9521484375,
          30.46875,
          0.02975463855,
          0.47607421875,
          0.11901855485000001,
          0.238037109375,
          0.014877319275,
          0.238037109375,
          0.014877319275,
          0.238037109375,
          1.904296875,
          0.47607421875,
          0.014877319275,
          1.904296875,
          0.014877319275,
          0.47607421875,
          121.875
         ],
         "xaxis": "x",
         "y": [
          294780.3958529689,
          24870.967741935485,
          158332.69598470363,
          13303.861788617887,
          2.0120724346076457,
          17.326732673267326,
          64.38426162493613,
          3.5545023696682465,
          3.5211267605633805,
          663.0434782608695,
          3252.9960053262316,
          3.731343283582089,
          1203.6108324974925,
          72.56637168141593,
          14.938488576449913,
          27.20079129574679,
          361.13837095191366,
          1873.4513274336284,
          50,
          12.096774193548388,
          4.45632798573975,
          9700.879765395895,
          8588.465298142719,
          2108.1314878892736,
          101791.1877394636,
          0,
          416.05839416058393,
          485.82600195503426,
          0,
          51.93661971830986,
          253.33333333333331,
          7632.887189292543,
          0.8802816901408451,
          1193.5483870967744,
          32.608695652173914,
          44.854881266490764,
          823.9875389408099,
          16.58374792703151,
          338331.41762452107,
          2.932551319648094,
          2185.3582554517134,
          58.608058608058606,
          648.539778449144,
          1222.0496894409937,
          5.617977528089887,
          2.935420743639922,
          588.5311871227365,
          135.07109004739337,
          7.8431372549019605,
          5962.633451957295,
          3577.735124760077,
          394508.5817524842,
          7.648183556405353,
          3.499562554680665,
          223.7037037037037,
          0.9891196834817014,
          16555.772994129158,
          3.731343283582089,
          7006.036217303823,
          2824.823943661972,
          85967.85714285714,
          11746.358613761928,
          0.8802816901408451,
          7.462686567164178,
          7.8277886497064575,
          131.48479427549194,
          525868.7440982059,
          3481.1932555123217,
          18.24817518248175,
          28682.478218780256,
          14.897579143389198,
          1.953125,
          0,
          72.70408163265306,
          446.09665427509293,
          9074.856046065259,
          9.775171065493646,
          165.9919028340081,
          63.25706594885599,
          96.83426443202978,
          4.048582995951417,
          259.07752698724244,
          7.789678675754626,
          414.535666218035,
          1137.6673040152964,
          364.6408839779005,
          10.76320939334638,
          1334.8623853211009,
          16.6015625,
          589.4428152492669,
          71574.25742574257
         ],
         "yaxis": "y"
        },
        {
         "hovertemplate": "<b>%{hovertext}</b><br><br>in_fit=not in fit<br>ERCC_attomoles_in_sample=%{x}<br>RPK=%{y}<extra></extra>",
         "hovertext": [
          "ERCC-00054"
         ],
         "legendgroup": "not in fit",
         "marker": {
          "color": "#EF553B",
          "symbol": "circle"
         },
         "mode": "markers",
         "name": "not in fit",
         "orientation": "h",
         "showlegend": true,
         "type": "scatter",
         "x": [
          0.47607421875
         ],
         "xaxis": "x",
         "y": [
          43.7956204379562
         ],
         "yaxis": "y"
        },
        {
         "mode": "lines",
         "name": "CASP_biorep1b",
         "type": "scatter",
         "x": [
          0.01,
          975
         ],
         "y": [
          6.320518919460131,
          505402.70022789517
         ]
        }
       ],
       "layout": {
        "annotations": [
         {
          "align": "left",
          "bordercolor": "black",
          "borderwidth": 1,
          "showarrow": false,
          "text": "fit of log(y) Vs log(x), paremeters: log(y) = m*log(x)+c",
          "x": 0.4,
          "xanchor": "left",
          "xref": "paper",
          "y": 1,
          "yref": "paper"
         },
         {
          "align": "left",
          "bordercolor": "black",
          "borderwidth": 1,
          "showarrow": false,
          "text": "fit in the range ERCC attomoles in sample [0.01,975.00]",
          "x": 0.4,
          "xanchor": "left",
          "xref": "paper",
          "y": 0.9,
          "yref": "paper"
         },
         {
          "align": "left",
          "bordercolor": "black",
          "borderwidth": 1,
          "showarrow": false,
          "text": "the slop in log scale: m = 0.98",
          "x": 0.4,
          "xanchor": "left",
          "xref": "paper",
          "y": 0.8,
          "yref": "paper"
         },
         {
          "align": "left",
          "bordercolor": "black",
          "borderwidth": 1,
          "showarrow": false,
          "text": "the intercept in log scale: c = 6.37",
          "x": 0.4,
          "xanchor": "left",
          "xref": "paper",
          "y": 0.7,
          "yref": "paper"
         },
         {
          "align": "left",
          "bordercolor": "black",
          "borderwidth": 1,
          "showarrow": false,
          "text": "",
          "x": 0.4,
          "xanchor": "left",
          "xref": "paper",
          "y": 0.6,
          "yref": "paper"
         },
         {
          "align": "left",
          "bordercolor": "black",
          "borderwidth": 1,
          "showarrow": false,
          "text": "log(y) = m*log(x)+c --> y = e^c * x^m",
          "x": 0.4,
          "xanchor": "left",
          "xref": "paper",
          "y": 0.5,
          "yref": "paper"
         },
         {
          "align": "left",
          "bordercolor": "black",
          "borderwidth": 1,
          "showarrow": false,
          "text": "the slope in linear scale: e^c = 5.84E+02",
          "x": 0.4,
          "xanchor": "left",
          "xref": "paper",
          "y": 0.3999999999999999,
          "yref": "paper"
         },
         {
          "align": "left",
          "bordercolor": "black",
          "borderwidth": 1,
          "showarrow": false,
          "text": "R^2 = 0.97",
          "x": 0.4,
          "xanchor": "left",
          "xref": "paper",
          "y": 0.29999999999999993,
          "yref": "paper"
         },
         {
          "align": "left",
          "bordercolor": "black",
          "borderwidth": 1,
          "showarrow": false,
          "text": "",
          "x": 0.4,
          "xanchor": "left",
          "xref": "paper",
          "y": 0.19999999999999996,
          "yref": "paper"
         },
         {
          "align": "left",
          "bordercolor": "black",
          "borderwidth": 1,
          "showarrow": false,
          "text": "ERCCs with no reads detected",
          "x": 0.4,
          "xanchor": "left",
          "xref": "paper",
          "y": 0.09999999999999998,
          "yref": "paper"
         },
         {
          "align": "left",
          "bordercolor": "black",
          "borderwidth": 1,
          "showarrow": false,
          "text": " not fitted and not shown",
          "x": 0.4,
          "xanchor": "left",
          "xref": "paper",
          "y": 0,
          "yref": "paper"
         }
        ],
        "font": {
         "size": 24
        },
        "height": 600,
        "legend": {
         "title": {
          "text": "in_fit"
         },
         "tracegroupgap": 0
        },
        "margin": {
         "t": 60
        },
        "template": {
         "data": {
          "bar": [
           {
            "error_x": {
             "color": "#2a3f5f"
            },
            "error_y": {
             "color": "#2a3f5f"
            },
            "marker": {
             "line": {
              "color": "#E5ECF6",
              "width": 0.5
             },
             "pattern": {
              "fillmode": "overlay",
              "size": 10,
              "solidity": 0.2
             }
            },
            "type": "bar"
           }
          ],
          "barpolar": [
           {
            "marker": {
             "line": {
              "color": "#E5ECF6",
              "width": 0.5
             },
             "pattern": {
              "fillmode": "overlay",
              "size": 10,
              "solidity": 0.2
             }
            },
            "type": "barpolar"
           }
          ],
          "carpet": [
           {
            "aaxis": {
             "endlinecolor": "#2a3f5f",
             "gridcolor": "white",
             "linecolor": "white",
             "minorgridcolor": "white",
             "startlinecolor": "#2a3f5f"
            },
            "baxis": {
             "endlinecolor": "#2a3f5f",
             "gridcolor": "white",
             "linecolor": "white",
             "minorgridcolor": "white",
             "startlinecolor": "#2a3f5f"
            },
            "type": "carpet"
           }
          ],
          "choropleth": [
           {
            "colorbar": {
             "outlinewidth": 0,
             "ticks": ""
            },
            "type": "choropleth"
           }
          ],
          "contour": [
           {
            "colorbar": {
             "outlinewidth": 0,
             "ticks": ""
            },
            "colorscale": [
             [
              0,
              "#0d0887"
             ],
             [
              0.1111111111111111,
              "#46039f"
             ],
             [
              0.2222222222222222,
              "#7201a8"
             ],
             [
              0.3333333333333333,
              "#9c179e"
             ],
             [
              0.4444444444444444,
              "#bd3786"
             ],
             [
              0.5555555555555556,
              "#d8576b"
             ],
             [
              0.6666666666666666,
              "#ed7953"
             ],
             [
              0.7777777777777778,
              "#fb9f3a"
             ],
             [
              0.8888888888888888,
              "#fdca26"
             ],
             [
              1,
              "#f0f921"
             ]
            ],
            "type": "contour"
           }
          ],
          "contourcarpet": [
           {
            "colorbar": {
             "outlinewidth": 0,
             "ticks": ""
            },
            "type": "contourcarpet"
           }
          ],
          "heatmap": [
           {
            "colorbar": {
             "outlinewidth": 0,
             "ticks": ""
            },
            "colorscale": [
             [
              0,
              "#0d0887"
             ],
             [
              0.1111111111111111,
              "#46039f"
             ],
             [
              0.2222222222222222,
              "#7201a8"
             ],
             [
              0.3333333333333333,
              "#9c179e"
             ],
             [
              0.4444444444444444,
              "#bd3786"
             ],
             [
              0.5555555555555556,
              "#d8576b"
             ],
             [
              0.6666666666666666,
              "#ed7953"
             ],
             [
              0.7777777777777778,
              "#fb9f3a"
             ],
             [
              0.8888888888888888,
              "#fdca26"
             ],
             [
              1,
              "#f0f921"
             ]
            ],
            "type": "heatmap"
           }
          ],
          "heatmapgl": [
           {
            "colorbar": {
             "outlinewidth": 0,
             "ticks": ""
            },
            "colorscale": [
             [
              0,
              "#0d0887"
             ],
             [
              0.1111111111111111,
              "#46039f"
             ],
             [
              0.2222222222222222,
              "#7201a8"
             ],
             [
              0.3333333333333333,
              "#9c179e"
             ],
             [
              0.4444444444444444,
              "#bd3786"
             ],
             [
              0.5555555555555556,
              "#d8576b"
             ],
             [
              0.6666666666666666,
              "#ed7953"
             ],
             [
              0.7777777777777778,
              "#fb9f3a"
             ],
             [
              0.8888888888888888,
              "#fdca26"
             ],
             [
              1,
              "#f0f921"
             ]
            ],
            "type": "heatmapgl"
           }
          ],
          "histogram": [
           {
            "marker": {
             "pattern": {
              "fillmode": "overlay",
              "size": 10,
              "solidity": 0.2
             }
            },
            "type": "histogram"
           }
          ],
          "histogram2d": [
           {
            "colorbar": {
             "outlinewidth": 0,
             "ticks": ""
            },
            "colorscale": [
             [
              0,
              "#0d0887"
             ],
             [
              0.1111111111111111,
              "#46039f"
             ],
             [
              0.2222222222222222,
              "#7201a8"
             ],
             [
              0.3333333333333333,
              "#9c179e"
             ],
             [
              0.4444444444444444,
              "#bd3786"
             ],
             [
              0.5555555555555556,
              "#d8576b"
             ],
             [
              0.6666666666666666,
              "#ed7953"
             ],
             [
              0.7777777777777778,
              "#fb9f3a"
             ],
             [
              0.8888888888888888,
              "#fdca26"
             ],
             [
              1,
              "#f0f921"
             ]
            ],
            "type": "histogram2d"
           }
          ],
          "histogram2dcontour": [
           {
            "colorbar": {
             "outlinewidth": 0,
             "ticks": ""
            },
            "colorscale": [
             [
              0,
              "#0d0887"
             ],
             [
              0.1111111111111111,
              "#46039f"
             ],
             [
              0.2222222222222222,
              "#7201a8"
             ],
             [
              0.3333333333333333,
              "#9c179e"
             ],
             [
              0.4444444444444444,
              "#bd3786"
             ],
             [
              0.5555555555555556,
              "#d8576b"
             ],
             [
              0.6666666666666666,
              "#ed7953"
             ],
             [
              0.7777777777777778,
              "#fb9f3a"
             ],
             [
              0.8888888888888888,
              "#fdca26"
             ],
             [
              1,
              "#f0f921"
             ]
            ],
            "type": "histogram2dcontour"
           }
          ],
          "mesh3d": [
           {
            "colorbar": {
             "outlinewidth": 0,
             "ticks": ""
            },
            "type": "mesh3d"
           }
          ],
          "parcoords": [
           {
            "line": {
             "colorbar": {
              "outlinewidth": 0,
              "ticks": ""
             }
            },
            "type": "parcoords"
           }
          ],
          "pie": [
           {
            "automargin": true,
            "type": "pie"
           }
          ],
          "scatter": [
           {
            "marker": {
             "colorbar": {
              "outlinewidth": 0,
              "ticks": ""
             }
            },
            "type": "scatter"
           }
          ],
          "scatter3d": [
           {
            "line": {
             "colorbar": {
              "outlinewidth": 0,
              "ticks": ""
             }
            },
            "marker": {
             "colorbar": {
              "outlinewidth": 0,
              "ticks": ""
             }
            },
            "type": "scatter3d"
           }
          ],
          "scattercarpet": [
           {
            "marker": {
             "colorbar": {
              "outlinewidth": 0,
              "ticks": ""
             }
            },
            "type": "scattercarpet"
           }
          ],
          "scattergeo": [
           {
            "marker": {
             "colorbar": {
              "outlinewidth": 0,
              "ticks": ""
             }
            },
            "type": "scattergeo"
           }
          ],
          "scattergl": [
           {
            "marker": {
             "colorbar": {
              "outlinewidth": 0,
              "ticks": ""
             }
            },
            "type": "scattergl"
           }
          ],
          "scattermapbox": [
           {
            "marker": {
             "colorbar": {
              "outlinewidth": 0,
              "ticks": ""
             }
            },
            "type": "scattermapbox"
           }
          ],
          "scatterpolar": [
           {
            "marker": {
             "colorbar": {
              "outlinewidth": 0,
              "ticks": ""
             }
            },
            "type": "scatterpolar"
           }
          ],
          "scatterpolargl": [
           {
            "marker": {
             "colorbar": {
              "outlinewidth": 0,
              "ticks": ""
             }
            },
            "type": "scatterpolargl"
           }
          ],
          "scatterternary": [
           {
            "marker": {
             "colorbar": {
              "outlinewidth": 0,
              "ticks": ""
             }
            },
            "type": "scatterternary"
           }
          ],
          "surface": [
           {
            "colorbar": {
             "outlinewidth": 0,
             "ticks": ""
            },
            "colorscale": [
             [
              0,
              "#0d0887"
             ],
             [
              0.1111111111111111,
              "#46039f"
             ],
             [
              0.2222222222222222,
              "#7201a8"
             ],
             [
              0.3333333333333333,
              "#9c179e"
             ],
             [
              0.4444444444444444,
              "#bd3786"
             ],
             [
              0.5555555555555556,
              "#d8576b"
             ],
             [
              0.6666666666666666,
              "#ed7953"
             ],
             [
              0.7777777777777778,
              "#fb9f3a"
             ],
             [
              0.8888888888888888,
              "#fdca26"
             ],
             [
              1,
              "#f0f921"
             ]
            ],
            "type": "surface"
           }
          ],
          "table": [
           {
            "cells": {
             "fill": {
              "color": "#EBF0F8"
             },
             "line": {
              "color": "white"
             }
            },
            "header": {
             "fill": {
              "color": "#C8D4E3"
             },
             "line": {
              "color": "white"
             }
            },
            "type": "table"
           }
          ]
         },
         "layout": {
          "annotationdefaults": {
           "arrowcolor": "#2a3f5f",
           "arrowhead": 0,
           "arrowwidth": 1
          },
          "autotypenumbers": "strict",
          "coloraxis": {
           "colorbar": {
            "outlinewidth": 0,
            "ticks": ""
           }
          },
          "colorscale": {
           "diverging": [
            [
             0,
             "#8e0152"
            ],
            [
             0.1,
             "#c51b7d"
            ],
            [
             0.2,
             "#de77ae"
            ],
            [
             0.3,
             "#f1b6da"
            ],
            [
             0.4,
             "#fde0ef"
            ],
            [
             0.5,
             "#f7f7f7"
            ],
            [
             0.6,
             "#e6f5d0"
            ],
            [
             0.7,
             "#b8e186"
            ],
            [
             0.8,
             "#7fbc41"
            ],
            [
             0.9,
             "#4d9221"
            ],
            [
             1,
             "#276419"
            ]
           ],
           "sequential": [
            [
             0,
             "#0d0887"
            ],
            [
             0.1111111111111111,
             "#46039f"
            ],
            [
             0.2222222222222222,
             "#7201a8"
            ],
            [
             0.3333333333333333,
             "#9c179e"
            ],
            [
             0.4444444444444444,
             "#bd3786"
            ],
            [
             0.5555555555555556,
             "#d8576b"
            ],
            [
             0.6666666666666666,
             "#ed7953"
            ],
            [
             0.7777777777777778,
             "#fb9f3a"
            ],
            [
             0.8888888888888888,
             "#fdca26"
            ],
            [
             1,
             "#f0f921"
            ]
           ],
           "sequentialminus": [
            [
             0,
             "#0d0887"
            ],
            [
             0.1111111111111111,
             "#46039f"
            ],
            [
             0.2222222222222222,
             "#7201a8"
            ],
            [
             0.3333333333333333,
             "#9c179e"
            ],
            [
             0.4444444444444444,
             "#bd3786"
            ],
            [
             0.5555555555555556,
             "#d8576b"
            ],
            [
             0.6666666666666666,
             "#ed7953"
            ],
            [
             0.7777777777777778,
             "#fb9f3a"
            ],
            [
             0.8888888888888888,
             "#fdca26"
            ],
            [
             1,
             "#f0f921"
            ]
           ]
          },
          "colorway": [
           "#636efa",
           "#EF553B",
           "#00cc96",
           "#ab63fa",
           "#FFA15A",
           "#19d3f3",
           "#FF6692",
           "#B6E880",
           "#FF97FF",
           "#FECB52"
          ],
          "font": {
           "color": "#2a3f5f"
          },
          "geo": {
           "bgcolor": "white",
           "lakecolor": "white",
           "landcolor": "#E5ECF6",
           "showlakes": true,
           "showland": true,
           "subunitcolor": "white"
          },
          "hoverlabel": {
           "align": "left"
          },
          "hovermode": "closest",
          "mapbox": {
           "style": "light"
          },
          "paper_bgcolor": "white",
          "plot_bgcolor": "#E5ECF6",
          "polar": {
           "angularaxis": {
            "gridcolor": "white",
            "linecolor": "white",
            "ticks": ""
           },
           "bgcolor": "#E5ECF6",
           "radialaxis": {
            "gridcolor": "white",
            "linecolor": "white",
            "ticks": ""
           }
          },
          "scene": {
           "xaxis": {
            "backgroundcolor": "#E5ECF6",
            "gridcolor": "white",
            "gridwidth": 2,
            "linecolor": "white",
            "showbackground": true,
            "ticks": "",
            "zerolinecolor": "white"
           },
           "yaxis": {
            "backgroundcolor": "#E5ECF6",
            "gridcolor": "white",
            "gridwidth": 2,
            "linecolor": "white",
            "showbackground": true,
            "ticks": "",
            "zerolinecolor": "white"
           },
           "zaxis": {
            "backgroundcolor": "#E5ECF6",
            "gridcolor": "white",
            "gridwidth": 2,
            "linecolor": "white",
            "showbackground": true,
            "ticks": "",
            "zerolinecolor": "white"
           }
          },
          "shapedefaults": {
           "line": {
            "color": "#2a3f5f"
           }
          },
          "ternary": {
           "aaxis": {
            "gridcolor": "white",
            "linecolor": "white",
            "ticks": ""
           },
           "baxis": {
            "gridcolor": "white",
            "linecolor": "white",
            "ticks": ""
           },
           "bgcolor": "#E5ECF6",
           "caxis": {
            "gridcolor": "white",
            "linecolor": "white",
            "ticks": ""
           }
          },
          "title": {
           "x": 0.05
          },
          "xaxis": {
           "automargin": true,
           "gridcolor": "white",
           "linecolor": "white",
           "ticks": "",
           "title": {
            "standoff": 15
           },
           "zerolinecolor": "white",
           "zerolinewidth": 2
          },
          "yaxis": {
           "automargin": true,
           "gridcolor": "white",
           "linecolor": "white",
           "ticks": "",
           "title": {
            "standoff": 15
           },
           "zerolinecolor": "white",
           "zerolinewidth": 2
          }
         }
        },
        "width": 2000,
        "xaxis": {
         "anchor": "y",
         "domain": [
          0,
          1
         ],
         "range": [
          -3,
          15
         ],
         "title": {
          "text": "ERCC_attomoles_in_sample"
         },
         "type": "log"
        },
        "yaxis": {
         "anchor": "x",
         "domain": [
          0,
          1
         ],
         "title": {
          "text": "RPK"
         },
         "type": "log"
        }
       }
      }
     },
     "metadata": {},
     "output_type": "display_data"
    },
    {
     "name": "stderr",
     "output_type": "stream",
     "text": [
      "C:\\Users\\adiro\\AppData\\Local\\Temp\\ipykernel_32200\\2061613557.py:205: SettingWithCopyWarning:\n",
      "\n",
      "\n",
      "A value is trying to be set on a copy of a slice from a DataFrame.\n",
      "Try using .loc[row_indexer,col_indexer] = value instead\n",
      "\n",
      "See the caveats in the documentation: https://pandas.pydata.org/pandas-docs/stable/user_guide/indexing.html#returning-a-view-versus-a-copy\n",
      "\n"
     ]
    },
    {
     "data": {
      "application/vnd.plotly.v1+json": {
       "config": {
        "plotlyServerURL": "https://plot.ly"
       },
       "data": [
        {
         "hovertemplate": "<b>%{hovertext}</b><br><br>in_fit=in fit<br>ERCC_attomoles_in_sample=%{x}<br>RPK=%{y}<extra></extra>",
         "hovertext": [
          "ERCC-00002",
          "ERCC-00003",
          "ERCC-00004",
          "ERCC-00009",
          "ERCC-00012",
          "ERCC-00013",
          "ERCC-00014",
          "ERCC-00016",
          "ERCC-00017",
          "ERCC-00019",
          "ERCC-00022",
          "ERCC-00024",
          "ERCC-00025",
          "ERCC-00028",
          "ERCC-00031",
          "ERCC-00033",
          "ERCC-00034",
          "ERCC-00035",
          "ERCC-00039",
          "ERCC-00040",
          "ERCC-00041",
          "ERCC-00042",
          "ERCC-00043",
          "ERCC-00044",
          "ERCC-00046",
          "ERCC-00048",
          "ERCC-00051",
          "ERCC-00053",
          "ERCC-00057",
          "ERCC-00058",
          "ERCC-00059",
          "ERCC-00060",
          "ERCC-00061",
          "ERCC-00062",
          "ERCC-00067",
          "ERCC-00069",
          "ERCC-00071",
          "ERCC-00073",
          "ERCC-00074",
          "ERCC-00075",
          "ERCC-00076",
          "ERCC-00077",
          "ERCC-00078",
          "ERCC-00079",
          "ERCC-00081",
          "ERCC-00083",
          "ERCC-00084",
          "ERCC-00085",
          "ERCC-00086",
          "ERCC-00092",
          "ERCC-00095",
          "ERCC-00096",
          "ERCC-00097",
          "ERCC-00098",
          "ERCC-00099",
          "ERCC-00104",
          "ERCC-00108",
          "ERCC-00109",
          "ERCC-00111",
          "ERCC-00112",
          "ERCC-00113",
          "ERCC-00116",
          "ERCC-00117",
          "ERCC-00120",
          "ERCC-00123",
          "ERCC-00126",
          "ERCC-00130",
          "ERCC-00131",
          "ERCC-00134",
          "ERCC-00136",
          "ERCC-00137",
          "ERCC-00138",
          "ERCC-00142",
          "ERCC-00143",
          "ERCC-00144",
          "ERCC-00145",
          "ERCC-00147",
          "ERCC-00148",
          "ERCC-00150",
          "ERCC-00154",
          "ERCC-00156",
          "ERCC-00157",
          "ERCC-00158",
          "ERCC-00160",
          "ERCC-00162",
          "ERCC-00163",
          "ERCC-00164",
          "ERCC-00165",
          "ERCC-00168",
          "ERCC-00170",
          "ERCC-00171"
         ],
         "legendgroup": "in fit",
         "marker": {
          "color": "#636efa",
          "symbol": "circle"
         },
         "mode": "markers",
         "name": "in fit",
         "orientation": "h",
         "showlegend": true,
         "type": "scatter",
         "x": [
          487.5,
          30.46875,
          243.75,
          30.46875,
          0.0037193299,
          0.02975463855,
          0.11901855485000001,
          0.0074386598,
          0.0037193299,
          0.9521484375,
          7.6171875,
          0.0074386598,
          1.904296875,
          0.11901855485000001,
          0.05950927742500001,
          0.05950927742500001,
          0.238037109375,
          3.80859375,
          0.11901855485000001,
          0.02975463855,
          0.0074386598,
          15.234375,
          15.234375,
          3.80859375,
          121.875,
          0.0004649164,
          1.904296875,
          0.9521484375,
          0.0004649164,
          0.05950927742500001,
          0.47607421875,
          7.6171875,
          0.00185966495,
          1.904296875,
          0.11901855485000001,
          0.05950927742500001,
          1.904296875,
          0.02975463855,
          487.5,
          0.0004649164,
          7.6171875,
          0.11901855485000001,
          0.9521484375,
          1.904296875,
          0.0074386598,
          0.000929832475,
          0.9521484375,
          0.238037109375,
          0.0037193299,
          7.6171875,
          3.80859375,
          487.5,
          0.014877319275,
          0.00185966495,
          0.47607421875,
          0.0074386598,
          30.46875,
          0.02975463855,
          15.234375,
          3.80859375,
          121.875,
          15.234375,
          0.00185966495,
          0.02975463855,
          0.0074386598,
          0.47607421875,
          975,
          3.80859375,
          0.05950927742500001,
          60.9375,
          0.02975463855,
          0.0037193299,
          0.0074386598,
          0.11901855485000001,
          0.9521484375,
          30.46875,
          0.02975463855,
          0.47607421875,
          0.11901855485000001,
          0.238037109375,
          0.014877319275,
          0.238037109375,
          0.014877319275,
          0.238037109375,
          1.904296875,
          0.47607421875,
          0.014877319275,
          1.904296875,
          0.014877319275,
          0.47607421875,
          121.875
         ],
         "xaxis": "x",
         "y": [
          492327.99245994346,
          41929.61876832845,
          302040.15296367113,
          24627.032520325203,
          0,
          21.03960396039604,
          111.90597853857946,
          7.109004739336493,
          7.042253521126761,
          1164.5962732919254,
          6025.299600532623,
          3.731343283582089,
          2209.1273821464392,
          89.38053097345134,
          41.30052724077329,
          24.233432245301685,
          568.2041216879294,
          3086.7256637168143,
          137.83783783783784,
          17.473118279569892,
          8.02139037433155,
          18108.504398826983,
          9653.958944281525,
          3899.653979238755,
          154078.54406130267,
          0,
          631.3868613138685,
          839.6871945259043,
          0,
          76.58450704225353,
          579.047619047619,
          7499.043977055449,
          0,
          1887.5855327468232,
          88.50931677018633,
          93.2277924362357,
          1679.1277258566977,
          34.82587064676617,
          585457.8544061303,
          3.910068426197459,
          3528.03738317757,
          25.64102564102564,
          1260.8257804632426,
          2009.3167701863354,
          1.8726591760299625,
          0.9784735812133072,
          1009.0543259557344,
          215.6398104265403,
          4.901960784313726,
          9131.672597864768,
          6786.9481765834935,
          724008.1300813009,
          26.76864244741874,
          8.748906386701663,
          364.4444444444444,
          2.4727992087042536,
          28543.052837573385,
          14.925373134328357,
          11423.541247484909,
          5077.4647887323945,
          156446.42857142858,
          19252.134605725765,
          2.6408450704225355,
          14.925373134328357,
          10.76320939334638,
          233.45259391771017,
          690530.6893295562,
          6006.485084306096,
          14.5985401459854,
          42865.440464666026,
          11.1731843575419,
          2.9296875,
          2.028397565922921,
          163.26530612244898,
          789.9628252788103,
          15234.165067178503,
          2.932551319648094,
          165.9919028340081,
          96.90444145356662,
          61.452513966480446,
          4.048582995951417,
          444.55348380765463,
          14.605647517039923,
          621.8034993270525,
          1921.606118546845,
          545.1197053406997,
          16.634050880626223,
          2493.119266055046,
          36.1328125,
          301.07526881720435,
          109332.67326732673
         ],
         "yaxis": "y"
        },
        {
         "hovertemplate": "<b>%{hovertext}</b><br><br>in_fit=not in fit<br>ERCC_attomoles_in_sample=%{x}<br>RPK=%{y}<extra></extra>",
         "hovertext": [
          "ERCC-00054"
         ],
         "legendgroup": "not in fit",
         "marker": {
          "color": "#EF553B",
          "symbol": "circle"
         },
         "mode": "markers",
         "name": "not in fit",
         "orientation": "h",
         "showlegend": true,
         "type": "scatter",
         "x": [
          0.47607421875
         ],
         "xaxis": "x",
         "y": [
          3.64963503649635
         ],
         "yaxis": "y"
        },
        {
         "mode": "lines",
         "name": "Disrupted_biorep1b",
         "type": "scatter",
         "x": [
          0.01,
          975
         ],
         "y": [
          8.704756026212491,
          904752.9296678997
         ]
        }
       ],
       "layout": {
        "annotations": [
         {
          "align": "left",
          "bordercolor": "black",
          "borderwidth": 1,
          "showarrow": false,
          "text": "fit of log(y) Vs log(x), paremeters: log(y) = m*log(x)+c",
          "x": 0.4,
          "xanchor": "left",
          "xref": "paper",
          "y": 1,
          "yref": "paper"
         },
         {
          "align": "left",
          "bordercolor": "black",
          "borderwidth": 1,
          "showarrow": false,
          "text": "fit in the range ERCC attomoles in sample [0.01,975.00]",
          "x": 0.4,
          "xanchor": "left",
          "xref": "paper",
          "y": 0.9,
          "yref": "paper"
         },
         {
          "align": "left",
          "bordercolor": "black",
          "borderwidth": 1,
          "showarrow": false,
          "text": "the slop in log scale: m = 1.01",
          "x": 0.4,
          "xanchor": "left",
          "xref": "paper",
          "y": 0.8,
          "yref": "paper"
         },
         {
          "align": "left",
          "bordercolor": "black",
          "borderwidth": 1,
          "showarrow": false,
          "text": "the intercept in log scale: c = 6.79",
          "x": 0.4,
          "xanchor": "left",
          "xref": "paper",
          "y": 0.7,
          "yref": "paper"
         },
         {
          "align": "left",
          "bordercolor": "black",
          "borderwidth": 1,
          "showarrow": false,
          "text": "",
          "x": 0.4,
          "xanchor": "left",
          "xref": "paper",
          "y": 0.6,
          "yref": "paper"
         },
         {
          "align": "left",
          "bordercolor": "black",
          "borderwidth": 1,
          "showarrow": false,
          "text": "log(y) = m*log(x)+c --> y = e^c * x^m",
          "x": 0.4,
          "xanchor": "left",
          "xref": "paper",
          "y": 0.5,
          "yref": "paper"
         },
         {
          "align": "left",
          "bordercolor": "black",
          "borderwidth": 1,
          "showarrow": false,
          "text": "the slope in linear scale: e^c = 8.93E+02",
          "x": 0.4,
          "xanchor": "left",
          "xref": "paper",
          "y": 0.3999999999999999,
          "yref": "paper"
         },
         {
          "align": "left",
          "bordercolor": "black",
          "borderwidth": 1,
          "showarrow": false,
          "text": "R^2 = 0.96",
          "x": 0.4,
          "xanchor": "left",
          "xref": "paper",
          "y": 0.29999999999999993,
          "yref": "paper"
         },
         {
          "align": "left",
          "bordercolor": "black",
          "borderwidth": 1,
          "showarrow": false,
          "text": "",
          "x": 0.4,
          "xanchor": "left",
          "xref": "paper",
          "y": 0.19999999999999996,
          "yref": "paper"
         },
         {
          "align": "left",
          "bordercolor": "black",
          "borderwidth": 1,
          "showarrow": false,
          "text": "ERCCs with no reads detected",
          "x": 0.4,
          "xanchor": "left",
          "xref": "paper",
          "y": 0.09999999999999998,
          "yref": "paper"
         },
         {
          "align": "left",
          "bordercolor": "black",
          "borderwidth": 1,
          "showarrow": false,
          "text": " not fitted and not shown",
          "x": 0.4,
          "xanchor": "left",
          "xref": "paper",
          "y": 0,
          "yref": "paper"
         }
        ],
        "font": {
         "size": 24
        },
        "height": 600,
        "legend": {
         "title": {
          "text": "in_fit"
         },
         "tracegroupgap": 0
        },
        "margin": {
         "t": 60
        },
        "template": {
         "data": {
          "bar": [
           {
            "error_x": {
             "color": "#2a3f5f"
            },
            "error_y": {
             "color": "#2a3f5f"
            },
            "marker": {
             "line": {
              "color": "#E5ECF6",
              "width": 0.5
             },
             "pattern": {
              "fillmode": "overlay",
              "size": 10,
              "solidity": 0.2
             }
            },
            "type": "bar"
           }
          ],
          "barpolar": [
           {
            "marker": {
             "line": {
              "color": "#E5ECF6",
              "width": 0.5
             },
             "pattern": {
              "fillmode": "overlay",
              "size": 10,
              "solidity": 0.2
             }
            },
            "type": "barpolar"
           }
          ],
          "carpet": [
           {
            "aaxis": {
             "endlinecolor": "#2a3f5f",
             "gridcolor": "white",
             "linecolor": "white",
             "minorgridcolor": "white",
             "startlinecolor": "#2a3f5f"
            },
            "baxis": {
             "endlinecolor": "#2a3f5f",
             "gridcolor": "white",
             "linecolor": "white",
             "minorgridcolor": "white",
             "startlinecolor": "#2a3f5f"
            },
            "type": "carpet"
           }
          ],
          "choropleth": [
           {
            "colorbar": {
             "outlinewidth": 0,
             "ticks": ""
            },
            "type": "choropleth"
           }
          ],
          "contour": [
           {
            "colorbar": {
             "outlinewidth": 0,
             "ticks": ""
            },
            "colorscale": [
             [
              0,
              "#0d0887"
             ],
             [
              0.1111111111111111,
              "#46039f"
             ],
             [
              0.2222222222222222,
              "#7201a8"
             ],
             [
              0.3333333333333333,
              "#9c179e"
             ],
             [
              0.4444444444444444,
              "#bd3786"
             ],
             [
              0.5555555555555556,
              "#d8576b"
             ],
             [
              0.6666666666666666,
              "#ed7953"
             ],
             [
              0.7777777777777778,
              "#fb9f3a"
             ],
             [
              0.8888888888888888,
              "#fdca26"
             ],
             [
              1,
              "#f0f921"
             ]
            ],
            "type": "contour"
           }
          ],
          "contourcarpet": [
           {
            "colorbar": {
             "outlinewidth": 0,
             "ticks": ""
            },
            "type": "contourcarpet"
           }
          ],
          "heatmap": [
           {
            "colorbar": {
             "outlinewidth": 0,
             "ticks": ""
            },
            "colorscale": [
             [
              0,
              "#0d0887"
             ],
             [
              0.1111111111111111,
              "#46039f"
             ],
             [
              0.2222222222222222,
              "#7201a8"
             ],
             [
              0.3333333333333333,
              "#9c179e"
             ],
             [
              0.4444444444444444,
              "#bd3786"
             ],
             [
              0.5555555555555556,
              "#d8576b"
             ],
             [
              0.6666666666666666,
              "#ed7953"
             ],
             [
              0.7777777777777778,
              "#fb9f3a"
             ],
             [
              0.8888888888888888,
              "#fdca26"
             ],
             [
              1,
              "#f0f921"
             ]
            ],
            "type": "heatmap"
           }
          ],
          "heatmapgl": [
           {
            "colorbar": {
             "outlinewidth": 0,
             "ticks": ""
            },
            "colorscale": [
             [
              0,
              "#0d0887"
             ],
             [
              0.1111111111111111,
              "#46039f"
             ],
             [
              0.2222222222222222,
              "#7201a8"
             ],
             [
              0.3333333333333333,
              "#9c179e"
             ],
             [
              0.4444444444444444,
              "#bd3786"
             ],
             [
              0.5555555555555556,
              "#d8576b"
             ],
             [
              0.6666666666666666,
              "#ed7953"
             ],
             [
              0.7777777777777778,
              "#fb9f3a"
             ],
             [
              0.8888888888888888,
              "#fdca26"
             ],
             [
              1,
              "#f0f921"
             ]
            ],
            "type": "heatmapgl"
           }
          ],
          "histogram": [
           {
            "marker": {
             "pattern": {
              "fillmode": "overlay",
              "size": 10,
              "solidity": 0.2
             }
            },
            "type": "histogram"
           }
          ],
          "histogram2d": [
           {
            "colorbar": {
             "outlinewidth": 0,
             "ticks": ""
            },
            "colorscale": [
             [
              0,
              "#0d0887"
             ],
             [
              0.1111111111111111,
              "#46039f"
             ],
             [
              0.2222222222222222,
              "#7201a8"
             ],
             [
              0.3333333333333333,
              "#9c179e"
             ],
             [
              0.4444444444444444,
              "#bd3786"
             ],
             [
              0.5555555555555556,
              "#d8576b"
             ],
             [
              0.6666666666666666,
              "#ed7953"
             ],
             [
              0.7777777777777778,
              "#fb9f3a"
             ],
             [
              0.8888888888888888,
              "#fdca26"
             ],
             [
              1,
              "#f0f921"
             ]
            ],
            "type": "histogram2d"
           }
          ],
          "histogram2dcontour": [
           {
            "colorbar": {
             "outlinewidth": 0,
             "ticks": ""
            },
            "colorscale": [
             [
              0,
              "#0d0887"
             ],
             [
              0.1111111111111111,
              "#46039f"
             ],
             [
              0.2222222222222222,
              "#7201a8"
             ],
             [
              0.3333333333333333,
              "#9c179e"
             ],
             [
              0.4444444444444444,
              "#bd3786"
             ],
             [
              0.5555555555555556,
              "#d8576b"
             ],
             [
              0.6666666666666666,
              "#ed7953"
             ],
             [
              0.7777777777777778,
              "#fb9f3a"
             ],
             [
              0.8888888888888888,
              "#fdca26"
             ],
             [
              1,
              "#f0f921"
             ]
            ],
            "type": "histogram2dcontour"
           }
          ],
          "mesh3d": [
           {
            "colorbar": {
             "outlinewidth": 0,
             "ticks": ""
            },
            "type": "mesh3d"
           }
          ],
          "parcoords": [
           {
            "line": {
             "colorbar": {
              "outlinewidth": 0,
              "ticks": ""
             }
            },
            "type": "parcoords"
           }
          ],
          "pie": [
           {
            "automargin": true,
            "type": "pie"
           }
          ],
          "scatter": [
           {
            "marker": {
             "colorbar": {
              "outlinewidth": 0,
              "ticks": ""
             }
            },
            "type": "scatter"
           }
          ],
          "scatter3d": [
           {
            "line": {
             "colorbar": {
              "outlinewidth": 0,
              "ticks": ""
             }
            },
            "marker": {
             "colorbar": {
              "outlinewidth": 0,
              "ticks": ""
             }
            },
            "type": "scatter3d"
           }
          ],
          "scattercarpet": [
           {
            "marker": {
             "colorbar": {
              "outlinewidth": 0,
              "ticks": ""
             }
            },
            "type": "scattercarpet"
           }
          ],
          "scattergeo": [
           {
            "marker": {
             "colorbar": {
              "outlinewidth": 0,
              "ticks": ""
             }
            },
            "type": "scattergeo"
           }
          ],
          "scattergl": [
           {
            "marker": {
             "colorbar": {
              "outlinewidth": 0,
              "ticks": ""
             }
            },
            "type": "scattergl"
           }
          ],
          "scattermapbox": [
           {
            "marker": {
             "colorbar": {
              "outlinewidth": 0,
              "ticks": ""
             }
            },
            "type": "scattermapbox"
           }
          ],
          "scatterpolar": [
           {
            "marker": {
             "colorbar": {
              "outlinewidth": 0,
              "ticks": ""
             }
            },
            "type": "scatterpolar"
           }
          ],
          "scatterpolargl": [
           {
            "marker": {
             "colorbar": {
              "outlinewidth": 0,
              "ticks": ""
             }
            },
            "type": "scatterpolargl"
           }
          ],
          "scatterternary": [
           {
            "marker": {
             "colorbar": {
              "outlinewidth": 0,
              "ticks": ""
             }
            },
            "type": "scatterternary"
           }
          ],
          "surface": [
           {
            "colorbar": {
             "outlinewidth": 0,
             "ticks": ""
            },
            "colorscale": [
             [
              0,
              "#0d0887"
             ],
             [
              0.1111111111111111,
              "#46039f"
             ],
             [
              0.2222222222222222,
              "#7201a8"
             ],
             [
              0.3333333333333333,
              "#9c179e"
             ],
             [
              0.4444444444444444,
              "#bd3786"
             ],
             [
              0.5555555555555556,
              "#d8576b"
             ],
             [
              0.6666666666666666,
              "#ed7953"
             ],
             [
              0.7777777777777778,
              "#fb9f3a"
             ],
             [
              0.8888888888888888,
              "#fdca26"
             ],
             [
              1,
              "#f0f921"
             ]
            ],
            "type": "surface"
           }
          ],
          "table": [
           {
            "cells": {
             "fill": {
              "color": "#EBF0F8"
             },
             "line": {
              "color": "white"
             }
            },
            "header": {
             "fill": {
              "color": "#C8D4E3"
             },
             "line": {
              "color": "white"
             }
            },
            "type": "table"
           }
          ]
         },
         "layout": {
          "annotationdefaults": {
           "arrowcolor": "#2a3f5f",
           "arrowhead": 0,
           "arrowwidth": 1
          },
          "autotypenumbers": "strict",
          "coloraxis": {
           "colorbar": {
            "outlinewidth": 0,
            "ticks": ""
           }
          },
          "colorscale": {
           "diverging": [
            [
             0,
             "#8e0152"
            ],
            [
             0.1,
             "#c51b7d"
            ],
            [
             0.2,
             "#de77ae"
            ],
            [
             0.3,
             "#f1b6da"
            ],
            [
             0.4,
             "#fde0ef"
            ],
            [
             0.5,
             "#f7f7f7"
            ],
            [
             0.6,
             "#e6f5d0"
            ],
            [
             0.7,
             "#b8e186"
            ],
            [
             0.8,
             "#7fbc41"
            ],
            [
             0.9,
             "#4d9221"
            ],
            [
             1,
             "#276419"
            ]
           ],
           "sequential": [
            [
             0,
             "#0d0887"
            ],
            [
             0.1111111111111111,
             "#46039f"
            ],
            [
             0.2222222222222222,
             "#7201a8"
            ],
            [
             0.3333333333333333,
             "#9c179e"
            ],
            [
             0.4444444444444444,
             "#bd3786"
            ],
            [
             0.5555555555555556,
             "#d8576b"
            ],
            [
             0.6666666666666666,
             "#ed7953"
            ],
            [
             0.7777777777777778,
             "#fb9f3a"
            ],
            [
             0.8888888888888888,
             "#fdca26"
            ],
            [
             1,
             "#f0f921"
            ]
           ],
           "sequentialminus": [
            [
             0,
             "#0d0887"
            ],
            [
             0.1111111111111111,
             "#46039f"
            ],
            [
             0.2222222222222222,
             "#7201a8"
            ],
            [
             0.3333333333333333,
             "#9c179e"
            ],
            [
             0.4444444444444444,
             "#bd3786"
            ],
            [
             0.5555555555555556,
             "#d8576b"
            ],
            [
             0.6666666666666666,
             "#ed7953"
            ],
            [
             0.7777777777777778,
             "#fb9f3a"
            ],
            [
             0.8888888888888888,
             "#fdca26"
            ],
            [
             1,
             "#f0f921"
            ]
           ]
          },
          "colorway": [
           "#636efa",
           "#EF553B",
           "#00cc96",
           "#ab63fa",
           "#FFA15A",
           "#19d3f3",
           "#FF6692",
           "#B6E880",
           "#FF97FF",
           "#FECB52"
          ],
          "font": {
           "color": "#2a3f5f"
          },
          "geo": {
           "bgcolor": "white",
           "lakecolor": "white",
           "landcolor": "#E5ECF6",
           "showlakes": true,
           "showland": true,
           "subunitcolor": "white"
          },
          "hoverlabel": {
           "align": "left"
          },
          "hovermode": "closest",
          "mapbox": {
           "style": "light"
          },
          "paper_bgcolor": "white",
          "plot_bgcolor": "#E5ECF6",
          "polar": {
           "angularaxis": {
            "gridcolor": "white",
            "linecolor": "white",
            "ticks": ""
           },
           "bgcolor": "#E5ECF6",
           "radialaxis": {
            "gridcolor": "white",
            "linecolor": "white",
            "ticks": ""
           }
          },
          "scene": {
           "xaxis": {
            "backgroundcolor": "#E5ECF6",
            "gridcolor": "white",
            "gridwidth": 2,
            "linecolor": "white",
            "showbackground": true,
            "ticks": "",
            "zerolinecolor": "white"
           },
           "yaxis": {
            "backgroundcolor": "#E5ECF6",
            "gridcolor": "white",
            "gridwidth": 2,
            "linecolor": "white",
            "showbackground": true,
            "ticks": "",
            "zerolinecolor": "white"
           },
           "zaxis": {
            "backgroundcolor": "#E5ECF6",
            "gridcolor": "white",
            "gridwidth": 2,
            "linecolor": "white",
            "showbackground": true,
            "ticks": "",
            "zerolinecolor": "white"
           }
          },
          "shapedefaults": {
           "line": {
            "color": "#2a3f5f"
           }
          },
          "ternary": {
           "aaxis": {
            "gridcolor": "white",
            "linecolor": "white",
            "ticks": ""
           },
           "baxis": {
            "gridcolor": "white",
            "linecolor": "white",
            "ticks": ""
           },
           "bgcolor": "#E5ECF6",
           "caxis": {
            "gridcolor": "white",
            "linecolor": "white",
            "ticks": ""
           }
          },
          "title": {
           "x": 0.05
          },
          "xaxis": {
           "automargin": true,
           "gridcolor": "white",
           "linecolor": "white",
           "ticks": "",
           "title": {
            "standoff": 15
           },
           "zerolinecolor": "white",
           "zerolinewidth": 2
          },
          "yaxis": {
           "automargin": true,
           "gridcolor": "white",
           "linecolor": "white",
           "ticks": "",
           "title": {
            "standoff": 15
           },
           "zerolinecolor": "white",
           "zerolinewidth": 2
          }
         }
        },
        "width": 2000,
        "xaxis": {
         "anchor": "y",
         "domain": [
          0,
          1
         ],
         "range": [
          -3,
          15
         ],
         "title": {
          "text": "ERCC_attomoles_in_sample"
         },
         "type": "log"
        },
        "yaxis": {
         "anchor": "x",
         "domain": [
          0,
          1
         ],
         "title": {
          "text": "RPK"
         },
         "type": "log"
        }
       }
      }
     },
     "metadata": {},
     "output_type": "display_data"
    }
   ],
   "source": [
    "# plot the fit for each sample:\n",
    "# make a folder for the plots:\n",
    "import os\n",
    "if not os.path.exists('ERCC_normalizion_plots/'+Experiment_name):\n",
    "    os.makedirs('ERCC_normalizion_plots/'+Experiment_name)\n",
    "for file in parameter_map.keys():\n",
    "    fig = plot_ERCC_linear_fit(RPK_ERCC,file,parameter_map,x_DL_map,ignore_ERCCs)\n",
    "    # If you don't want to show the plots, comment out the next line:\n",
    "    fig.show()\n",
    "    # Save the plots (comment out if you don't want to save the plots. The html version is interactive):\n",
    "    fig.write_html('ERCC_normalizion_plots/'+Experiment_name+'/'+file+'.html')\n",
    "    #fig.write_image('ERCC_normalizion_plots/downsampled/'+file+'.png')\n"
   ]
  },
  {
   "cell_type": "code",
   "execution_count": 10,
   "metadata": {},
   "outputs": [
    {
     "data": {
      "text/plain": [
       "'\\n# get a list of transcripts with RPK < LLD in each sample:\\nlower_than_LLD = RPK[RPK[\\'RPK\\']<2]\\nlower_than_LLD = lower_than_LLD.groupby([\\'file\\',\\'ID\\']).count().reset_index()[[\\'file\\',\\'ID\\']]\\nlower_than_LLD[\\'file_ID\\'] = lower_than_LLD[\\'file\\'] + \\'_\\' + lower_than_LLD[\\'ID\\']\\n#lower_than_LLD.to_csv(\\'lower_then_LLD.csv\\')\\n\\n# remove transcripts with RPK < LLD in each sample:\\n# dop rows whith ID and file in \"lower_than_LLD\"\\nRPK[\\'file_ID\\'] = RPK[\\'file\\'] + \\'_\\' + RPK[\\'ID\\']\\nRPK = RPK[~RPK[\\'file_ID\\'].isin(lower_than_LLD[\\'file_ID\\'])]\\nRPK = RPK.drop(columns=[\\'file_ID\\'])\\n'"
      ]
     },
     "execution_count": 10,
     "metadata": {},
     "output_type": "execute_result"
    }
   ],
   "source": [
    "# Set the lower limit of dtection to RPK = 2\n",
    "# This limit is ~ 2 read per transcript. This is where the ERCC attomoles in sample is ~ 0.01 attomoles. The ERCCs show a linear relation to the RPK above this limit.\n",
    "# Higher limits can be used, and this dose not change the main results regarding the biological noise.\n",
    "\n",
    "\"\"\"\n",
    "# get a list of transcripts with RPK < LLD in each sample:\n",
    "lower_than_LLD = RPK[RPK['RPK']<2]\n",
    "lower_than_LLD = lower_than_LLD.groupby(['file','ID']).count().reset_index()[['file','ID']]\n",
    "lower_than_LLD['file_ID'] = lower_than_LLD['file'] + '_' + lower_than_LLD['ID']\n",
    "#lower_than_LLD.to_csv('lower_then_LLD.csv')\n",
    "\n",
    "# remove transcripts with RPK < LLD in each sample:\n",
    "# dop rows whith ID and file in \"lower_than_LLD\"\n",
    "RPK['file_ID'] = RPK['file'] + '_' + RPK['ID']\n",
    "RPK = RPK[~RPK['file_ID'].isin(lower_than_LLD['file_ID'])]\n",
    "RPK = RPK.drop(columns=['file_ID'])\n",
    "\"\"\"\n"
   ]
  },
  {
   "cell_type": "code",
   "execution_count": 11,
   "metadata": {},
   "outputs": [],
   "source": [
    "# save the raw data and RPK data (after removing transcripts with RPK < LLD):\n",
    "\n",
    "# create save directory:\n",
    "if not os.path.exists('Normalized_data_'+Experiment_name):\n",
    "    os.makedirs('Normalized_data_'+Experiment_name)\n",
    "\n",
    "\"\"\"\n",
    "# remove transcripts with RPK < LLD in each sample:\n",
    "raw_reads['file_ID'] = raw_reads['file'] + '_' + raw_reads['ID']\n",
    "raw_reads = raw_reads[~raw_reads['file_ID'].isin(lower_than_LLD['file_ID'])]\n",
    "raw_reads = raw_reads.drop(columns=['file_ID'])\n",
    "\"\"\"\n",
    "\n",
    "# Convert to wide format and save to file, for easier reading:\n",
    "raw_reads_wide = raw_reads.pivot(index='ID', columns='file', values='data')\n",
    "raw_reads_wide.to_csv('Normalized_data_'+Experiment_name+'/raw_counts_'+Experiment_name+'.csv')\n",
    "raw_reads_ERCC_wide = raw_reads_ERCC.pivot(index='ID', columns='file', values='data')\n",
    "raw_reads_ERCC_wide.to_csv('Normalized_data_'+Experiment_name+'/raw_counts_ERCC_'+Experiment_name+'.csv')\n",
    "\n",
    "\n",
    "# add the biotype information to the RPK data:\n",
    "k12_biotypes = pd.read_csv('normalizion_help_functions_and_info_tables/k12_biotype_map.csv')\n",
    "k12_biotypes_map = dict(zip(k12_biotypes['gene'],k12_biotypes['biotype']))\n",
    "k12_biotypes_map['KanR'] = 'protein_coding'\n",
    "k12_biotypes_map['TetR'] = 'protein_coding'\n",
    "k12_biotypes_map['mCherry'] = 'protein_coding'\n",
    "RPK['biotype'] = RPK['ID'].map(k12_biotypes_map)\n",
    "\n",
    "RPK_wide = RPK.pivot(index='ID', columns='file', values='RPK')\n",
    "RPK_wide.to_csv('Normalized_data_'+Experiment_name+'/RPK_'+Experiment_name+'.csv')\n"
   ]
  },
  {
   "cell_type": "code",
   "execution_count": 12,
   "metadata": {},
   "outputs": [],
   "source": [
    "# Normalize the data:\n",
    "\n",
    "# add the normalization parameters to the RPK data:\n",
    "for param in ['m','c']:\n",
    "    RPK[param] = RPK['file'].map({file:parameter_map[file][param] for file in parameter_map.keys()})\n",
    "# calculate the normalized data:\n",
    "RPK['ERCC normalized data attomoles per sample'] = np.exp(-RPK['c']/RPK['m']) * RPK['RPK']**(1/RPK['m'])\n",
    "# Change the units from attomoles to molecules in sample:\n",
    "#RPK['ERCC normalized data moles per sample'] = np.array(RPK['ERCC normalized data attomoles per sample'])*10**-18 # there is a bug in panadas for large numbers, must go through numpy\n",
    "RPK['ERCC normalized data molecules per sample'] = np.array(RPK['ERCC normalized data attomoles per sample'])*10**-18*6.022*10**23\n",
    "\n",
    "# save the ERCC normalized data to file (In molecules per sample):\n",
    "# MPS_wide = RPK.pivot(index='ID', columns='file', values='ERCC normalized data molecules per sample')\n",
    "# MPS_wide.to_csv('MPS_'+Experiment_name+'.csv')"
   ]
  },
  {
   "cell_type": "code",
   "execution_count": 13,
   "metadata": {},
   "outputs": [],
   "source": [
    "# Estimated molecules per cell:\n",
    "\n",
    "cells_per_sample = pd.read_csv(sample_data_loc)[['file','Number of cells in sample']]\n",
    "cells_per_sample = dict(zip(cells_per_sample['file'],cells_per_sample['Number of cells in sample']))\n",
    "RPK['cells_per_sample'] = RPK['file'].map(cells_per_sample)\n",
    "RPK['ERCC normalized data molecules per cell'] = RPK['ERCC normalized data molecules per sample']/RPK['cells_per_sample']\n",
    "MPC_wide = RPK.pivot(index='ID', columns='file', values='ERCC normalized data molecules per cell')\n",
    "\n",
    "# add gene product information from the gff file (can be commented out if not needed):\n",
    "MPC_wide['source: product'] = MPC_wide.index.map(product_map) # add gene product information (can be commented out if not needed)\n",
    "\n",
    "# save the ERCC normalized data (molecules per cell) to file:\n",
    "MPC_wide.to_csv('Normalized_data_'+Experiment_name+'\\ERCC_normalized_data_molecules_per_cell_'+Experiment_name+'.csv')"
   ]
  },
  {
   "cell_type": "code",
   "execution_count": 14,
   "metadata": {},
   "outputs": [
    {
     "data": {
      "text/html": [
       "<div>\n",
       "<style scoped>\n",
       "    .dataframe tbody tr th:only-of-type {\n",
       "        vertical-align: middle;\n",
       "    }\n",
       "\n",
       "    .dataframe tbody tr th {\n",
       "        vertical-align: top;\n",
       "    }\n",
       "\n",
       "    .dataframe thead th {\n",
       "        text-align: right;\n",
       "    }\n",
       "</style>\n",
       "<table border=\"1\" class=\"dataframe\">\n",
       "  <thead>\n",
       "    <tr style=\"text-align: right;\">\n",
       "      <th></th>\n",
       "      <th>ID</th>\n",
       "      <th>CASP_biorep1a</th>\n",
       "      <th>CASP_biorep1b</th>\n",
       "      <th>CASP_biorep1c</th>\n",
       "      <th>CASP_biorep2</th>\n",
       "      <th>CASP_biorep3</th>\n",
       "      <th>CASP_biorep4</th>\n",
       "      <th>Disrupted_biorep1a</th>\n",
       "      <th>Disrupted_biorep1b</th>\n",
       "      <th>Disrupted_biorep1c</th>\n",
       "      <th>Disrupted_biorep2</th>\n",
       "      <th>Disrupted_biorep3</th>\n",
       "      <th>Disrupted_biorep4</th>\n",
       "      <th>source: product</th>\n",
       "    </tr>\n",
       "  </thead>\n",
       "  <tbody>\n",
       "    <tr>\n",
       "      <th>0</th>\n",
       "      <td>CDN75_RS05665</td>\n",
       "      <td>0.004137</td>\n",
       "      <td>0.020120</td>\n",
       "      <td>0.004436</td>\n",
       "      <td>0.021790</td>\n",
       "      <td>0.033236</td>\n",
       "      <td>0.017340</td>\n",
       "      <td>0.473856</td>\n",
       "      <td>0.299095</td>\n",
       "      <td>0.414786</td>\n",
       "      <td>1.344872</td>\n",
       "      <td>0.459744</td>\n",
       "      <td>0.100328</td>\n",
       "      <td>Protein Homology: PTS galactitol transporter s...</td>\n",
       "    </tr>\n",
       "    <tr>\n",
       "      <th>1</th>\n",
       "      <td>CDN75_RS10700</td>\n",
       "      <td>0.000042</td>\n",
       "      <td>0.000167</td>\n",
       "      <td>0.000053</td>\n",
       "      <td>0.000294</td>\n",
       "      <td>0.000248</td>\n",
       "      <td>0.000159</td>\n",
       "      <td>0.117020</td>\n",
       "      <td>0.069055</td>\n",
       "      <td>0.090894</td>\n",
       "      <td>0.229346</td>\n",
       "      <td>0.099941</td>\n",
       "      <td>0.010302</td>\n",
       "      <td>Protein Homology: fimbria/pilus outer membrane...</td>\n",
       "    </tr>\n",
       "    <tr>\n",
       "      <th>2</th>\n",
       "      <td>CDN75_RS13515</td>\n",
       "      <td>0.000036</td>\n",
       "      <td>0.000180</td>\n",
       "      <td>0.000073</td>\n",
       "      <td>0.000147</td>\n",
       "      <td>0.000301</td>\n",
       "      <td>0.000205</td>\n",
       "      <td>0.251960</td>\n",
       "      <td>0.134363</td>\n",
       "      <td>0.206564</td>\n",
       "      <td>0.446093</td>\n",
       "      <td>0.244650</td>\n",
       "      <td>0.017306</td>\n",
       "      <td>Protein Homology: IS3-like element IS150 famil...</td>\n",
       "    </tr>\n",
       "    <tr>\n",
       "      <th>3</th>\n",
       "      <td>CDN75_RS17410</td>\n",
       "      <td>0.000422</td>\n",
       "      <td>0.001518</td>\n",
       "      <td>0.000383</td>\n",
       "      <td>0.001829</td>\n",
       "      <td>0.002283</td>\n",
       "      <td>0.001526</td>\n",
       "      <td>0.395608</td>\n",
       "      <td>0.238574</td>\n",
       "      <td>0.352153</td>\n",
       "      <td>1.151709</td>\n",
       "      <td>0.377003</td>\n",
       "      <td>0.062795</td>\n",
       "      <td>Protein Homology: tyrosine-type recombinase/in...</td>\n",
       "    </tr>\n",
       "    <tr>\n",
       "      <th>4</th>\n",
       "      <td>HQ24_RS00100</td>\n",
       "      <td>0.000078</td>\n",
       "      <td>0.000102</td>\n",
       "      <td>0.000075</td>\n",
       "      <td>0.000292</td>\n",
       "      <td>0.000267</td>\n",
       "      <td>0.000161</td>\n",
       "      <td>0.169024</td>\n",
       "      <td>0.095294</td>\n",
       "      <td>0.148993</td>\n",
       "      <td>0.384503</td>\n",
       "      <td>0.167676</td>\n",
       "      <td>0.009906</td>\n",
       "      <td>Protein Homology: IS1-like element IS1A family...</td>\n",
       "    </tr>\n",
       "    <tr>\n",
       "      <th>...</th>\n",
       "      <td>...</td>\n",
       "      <td>...</td>\n",
       "      <td>...</td>\n",
       "      <td>...</td>\n",
       "      <td>...</td>\n",
       "      <td>...</td>\n",
       "      <td>...</td>\n",
       "      <td>...</td>\n",
       "      <td>...</td>\n",
       "      <td>...</td>\n",
       "      <td>...</td>\n",
       "      <td>...</td>\n",
       "      <td>...</td>\n",
       "      <td>...</td>\n",
       "    </tr>\n",
       "    <tr>\n",
       "      <th>4317</th>\n",
       "      <td>zraR</td>\n",
       "      <td>0.000216</td>\n",
       "      <td>0.000788</td>\n",
       "      <td>0.000153</td>\n",
       "      <td>0.000569</td>\n",
       "      <td>0.001078</td>\n",
       "      <td>0.000692</td>\n",
       "      <td>0.300584</td>\n",
       "      <td>0.180751</td>\n",
       "      <td>0.260738</td>\n",
       "      <td>0.407184</td>\n",
       "      <td>0.263340</td>\n",
       "      <td>0.024570</td>\n",
       "      <td>Protein Homology: sigma-54-dependent response ...</td>\n",
       "    </tr>\n",
       "    <tr>\n",
       "      <th>4318</th>\n",
       "      <td>zraS</td>\n",
       "      <td>0.000070</td>\n",
       "      <td>0.000244</td>\n",
       "      <td>0.000037</td>\n",
       "      <td>0.000169</td>\n",
       "      <td>0.000247</td>\n",
       "      <td>0.000221</td>\n",
       "      <td>0.197519</td>\n",
       "      <td>0.110685</td>\n",
       "      <td>0.167672</td>\n",
       "      <td>0.227798</td>\n",
       "      <td>0.173997</td>\n",
       "      <td>0.009025</td>\n",
       "      <td>Protein Homology: two-component system sensor ...</td>\n",
       "    </tr>\n",
       "    <tr>\n",
       "      <th>4319</th>\n",
       "      <td>zupT</td>\n",
       "      <td>0.004298</td>\n",
       "      <td>0.017547</td>\n",
       "      <td>0.003752</td>\n",
       "      <td>0.017655</td>\n",
       "      <td>0.028416</td>\n",
       "      <td>0.018569</td>\n",
       "      <td>0.618500</td>\n",
       "      <td>0.379020</td>\n",
       "      <td>0.575162</td>\n",
       "      <td>2.558121</td>\n",
       "      <td>0.607345</td>\n",
       "      <td>0.141373</td>\n",
       "      <td>Protein Homology: zinc transporter ZupT</td>\n",
       "    </tr>\n",
       "    <tr>\n",
       "      <th>4320</th>\n",
       "      <td>zur</td>\n",
       "      <td>0.000441</td>\n",
       "      <td>0.001236</td>\n",
       "      <td>0.000419</td>\n",
       "      <td>0.001370</td>\n",
       "      <td>0.002292</td>\n",
       "      <td>0.001433</td>\n",
       "      <td>0.085805</td>\n",
       "      <td>0.056804</td>\n",
       "      <td>0.091826</td>\n",
       "      <td>0.435873</td>\n",
       "      <td>0.096870</td>\n",
       "      <td>0.016019</td>\n",
       "      <td>Protein Homology: zinc uptake transcriptional ...</td>\n",
       "    </tr>\n",
       "    <tr>\n",
       "      <th>4321</th>\n",
       "      <td>zwf</td>\n",
       "      <td>0.001788</td>\n",
       "      <td>0.008908</td>\n",
       "      <td>0.001649</td>\n",
       "      <td>0.007403</td>\n",
       "      <td>0.010324</td>\n",
       "      <td>0.006767</td>\n",
       "      <td>0.408892</td>\n",
       "      <td>0.257129</td>\n",
       "      <td>0.356475</td>\n",
       "      <td>1.876983</td>\n",
       "      <td>0.432605</td>\n",
       "      <td>0.084408</td>\n",
       "      <td>Protein Homology: glucose-6-phosphate dehydrog...</td>\n",
       "    </tr>\n",
       "  </tbody>\n",
       "</table>\n",
       "<p>4322 rows × 14 columns</p>\n",
       "</div>"
      ],
      "text/plain": [
       "                 ID  CASP_biorep1a  CASP_biorep1b  CASP_biorep1c  \\\n",
       "0     CDN75_RS05665       0.004137       0.020120       0.004436   \n",
       "1     CDN75_RS10700       0.000042       0.000167       0.000053   \n",
       "2     CDN75_RS13515       0.000036       0.000180       0.000073   \n",
       "3     CDN75_RS17410       0.000422       0.001518       0.000383   \n",
       "4      HQ24_RS00100       0.000078       0.000102       0.000075   \n",
       "...             ...            ...            ...            ...   \n",
       "4317           zraR       0.000216       0.000788       0.000153   \n",
       "4318           zraS       0.000070       0.000244       0.000037   \n",
       "4319           zupT       0.004298       0.017547       0.003752   \n",
       "4320            zur       0.000441       0.001236       0.000419   \n",
       "4321            zwf       0.001788       0.008908       0.001649   \n",
       "\n",
       "      CASP_biorep2  CASP_biorep3  CASP_biorep4  Disrupted_biorep1a  \\\n",
       "0         0.021790      0.033236      0.017340            0.473856   \n",
       "1         0.000294      0.000248      0.000159            0.117020   \n",
       "2         0.000147      0.000301      0.000205            0.251960   \n",
       "3         0.001829      0.002283      0.001526            0.395608   \n",
       "4         0.000292      0.000267      0.000161            0.169024   \n",
       "...            ...           ...           ...                 ...   \n",
       "4317      0.000569      0.001078      0.000692            0.300584   \n",
       "4318      0.000169      0.000247      0.000221            0.197519   \n",
       "4319      0.017655      0.028416      0.018569            0.618500   \n",
       "4320      0.001370      0.002292      0.001433            0.085805   \n",
       "4321      0.007403      0.010324      0.006767            0.408892   \n",
       "\n",
       "      Disrupted_biorep1b  Disrupted_biorep1c  Disrupted_biorep2  \\\n",
       "0               0.299095            0.414786           1.344872   \n",
       "1               0.069055            0.090894           0.229346   \n",
       "2               0.134363            0.206564           0.446093   \n",
       "3               0.238574            0.352153           1.151709   \n",
       "4               0.095294            0.148993           0.384503   \n",
       "...                  ...                 ...                ...   \n",
       "4317            0.180751            0.260738           0.407184   \n",
       "4318            0.110685            0.167672           0.227798   \n",
       "4319            0.379020            0.575162           2.558121   \n",
       "4320            0.056804            0.091826           0.435873   \n",
       "4321            0.257129            0.356475           1.876983   \n",
       "\n",
       "      Disrupted_biorep3  Disrupted_biorep4  \\\n",
       "0              0.459744           0.100328   \n",
       "1              0.099941           0.010302   \n",
       "2              0.244650           0.017306   \n",
       "3              0.377003           0.062795   \n",
       "4              0.167676           0.009906   \n",
       "...                 ...                ...   \n",
       "4317           0.263340           0.024570   \n",
       "4318           0.173997           0.009025   \n",
       "4319           0.607345           0.141373   \n",
       "4320           0.096870           0.016019   \n",
       "4321           0.432605           0.084408   \n",
       "\n",
       "                                        source: product  \n",
       "0     Protein Homology: PTS galactitol transporter s...  \n",
       "1     Protein Homology: fimbria/pilus outer membrane...  \n",
       "2     Protein Homology: IS3-like element IS150 famil...  \n",
       "3     Protein Homology: tyrosine-type recombinase/in...  \n",
       "4     Protein Homology: IS1-like element IS1A family...  \n",
       "...                                                 ...  \n",
       "4317  Protein Homology: sigma-54-dependent response ...  \n",
       "4318  Protein Homology: two-component system sensor ...  \n",
       "4319            Protein Homology: zinc transporter ZupT  \n",
       "4320  Protein Homology: zinc uptake transcriptional ...  \n",
       "4321  Protein Homology: glucose-6-phosphate dehydrog...  \n",
       "\n",
       "[4322 rows x 14 columns]"
      ]
     },
     "execution_count": 14,
     "metadata": {},
     "output_type": "execute_result"
    }
   ],
   "source": [
    "MPC_wide = pd.read_csv('Normalized_data_'+Experiment_name+'\\ERCC_normalized_data_molecules_per_cell_'+Experiment_name+'.csv')\n",
    "MPC_wide"
   ]
  },
  {
   "cell_type": "code",
   "execution_count": 15,
   "metadata": {},
   "outputs": [
    {
     "data": {
      "application/vnd.plotly.v1+json": {
       "config": {
        "plotlyServerURL": "https://plot.ly"
       },
       "data": [
        {
         "alignmentgroup": "True",
         "bingroup": "x",
         "hovertemplate": "biotype=protein_coding<br>CASP_biorep1a log10=%{x}<br>count=%{y}<extra></extra>",
         "legendgroup": "protein_coding",
         "marker": {
          "color": "#636efa",
          "opacity": 0.5,
          "pattern": {
           "shape": ""
          }
         },
         "name": "protein_coding",
         "nbinsx": 50,
         "offsetgroup": "protein_coding",
         "orientation": "v",
         "showlegend": true,
         "type": "histogram",
         "x": [
          -0.7252328586259318,
          -4.152680030962671,
          -4.278177250808262,
          -3.4471044370040467,
          -3.2426749956829184,
          -3.347453049857526,
          -3.085258221436096,
          -3.7864773077753844,
          -3.5419030524069863,
          -3.7801305310784663,
          -4.68378569261654,
          -2.6488217077188256,
          -3.349288200658702,
          -3.447590844220687,
          -2.674674482229154,
          -2.651343462517191,
          -2.618362697179005,
          -2.7183652426296487,
          -2.583561843581808,
          -3.399309837295572,
          -2.058446656630129,
          -2.33641218043977,
          -2.3683237866330646,
          -3.377731096665789,
          -1.2074322592092896,
          -3.4397030865295464,
          -3.0941262872454502,
          -3.132800528732343,
          -3.337634939718276,
          -4.064451063379794,
          -5.334408927416249,
          -4.249606542292644,
          -4.296464466233513,
          -2.245016070257891,
          -2.402161934260379,
          -3.030271523815779,
          -2.7360495903022723,
          -2.766899364790359,
          -3.435739557868794,
          -4.109362477760455,
          -3.6201026758304575,
          -1.765025997809604,
          -2.4438879994912512,
          -4.238041377850008,
          -3.9397060438318814,
          -3.8866992569322782,
          -3.317185672650704,
          -4.237048135093603,
          -3.733444866299228,
          -3.6383956409156197,
          -4.643087044236314,
          -4.871510396229256,
          -3.903594145389946,
          -5.1478453916485005,
          -3.1460023934929344,
          -4.284139052692039,
          -3.7889457106346422,
          -2.0429908126874246,
          -1.473792744207634,
          -2.576495275283251,
          -2.2176800382106046,
          -2.914963005454405,
          -4.139106792790001,
          -3.7008398266748,
          -2.5053054688980376,
          -1.8261411182852219,
          -3.153589468180497,
          -1.7657382506333703,
          -1.9487969633589224,
          -3.3335843428418737,
          -3.2299017589229306,
          -3.7971752306132327,
          -3.963396129482304,
          -3.8604800795032364,
          -5.29157355745154,
          -3.509200857665618,
          -1.6367205996396144,
          -4.756393299749392,
          -4.1492500409785285,
          -4.673211875766311,
          -3.976684190818746,
          -4.655297787813484,
          -4.150329013772692,
          -3.9988786615816174,
          -3.3485909523099195,
          -3.5705630878083565,
          -3.3504809044767034,
          -3.161009486258609,
          -4.184420141315693,
          -2.448847682955869,
          -3.1032308482259303,
          -4.621079301847734,
          -3.2490623097977482,
          -3.3686156993303675,
          -4.73640365709334,
          -3.406366816838222,
          -3.7558458295913084,
          -2.492400739616221,
          -3.387844548546942,
          -4.228467182986366,
          -3.7347742762407536,
          -4.325402167334677,
          -2.551191216757812,
          -2.7832496225683796,
          -3.9380023417534584,
          -3.739068020697223,
          -3.6512821298696454,
          -3.614427090969957,
          -3.7725075241010715,
          -3.923042824853513,
          -2.145789869312743,
          -3.5047381095066,
          -3.4304492921234195,
          -2.7708897558359245,
          -4.126673347604317,
          -3.3707652808000472,
          -3.0648959412098145,
          -3.149431342152992,
          -2.9229392856769256,
          -3.385554198378461,
          -1.3754404400191798,
          -2.898750876391704,
          -3.4511184398951102,
          -3.377449096497199,
          -3.922386375748629,
          -3.9749981646620856,
          -4.488472472231529,
          -3.6459860734785634,
          -2.9644151258598064,
          -4.185204467632032,
          -3.3760474608302684,
          -3.5442177844579756,
          -4.244931650114537,
          -4.220841717661084,
          -3.2774392638840557,
          -2.561530593088407,
          -3.312988516713909,
          -2.3564446129288745,
          -2.380949936803988,
          -3.6986190440601834,
          -3.4048809773265076,
          -4.043376809144983,
          -4.258394966108327,
          -3.3847115706100395,
          -3.64180050826506,
          -3.7530273238170677,
          -3.7140955472780433,
          -2.968046045007672,
          -3.6506519954645746,
          -3.838875649886264,
          -2.6429844401654567,
          -2.893309316241401,
          -2.8499124107548126,
          -3.9184700937199515,
          -2.9097801411942883,
          -3.7000450521669133,
          -3.1616163470869965,
          -3.005897247387871,
          -3.9911661877067757,
          -3.3521540355645914,
          -4.20934104186862,
          -2.5602499926605247,
          -2.844757643243504,
          -2.4262248035700367,
          -3.0926427553199196,
          -2.9384868577342167,
          -2.8697267594802085,
          -3.8170962699029585,
          -3.2934847821041857,
          -3.6645241943487012,
          -5.362929308948386,
          -3.442059871242557,
          -2.4015288392585723,
          -3.1538032243510377,
          -3.689928457034528,
          -2.4197381435172267,
          -1.5035257489434617,
          -3.4294643357136976,
          -3.1589628191143384,
          -3.2539440703042484,
          -1.7844993246649934,
          -2.010393967604776,
          -1.5972828037575881,
          -1.8869537842760415,
          -2.006380373852381,
          -4.601753367018522,
          -4.222268166748073,
          -3.57339313161012,
          -4.386246796159005,
          -4.608753888306261,
          -3.523439416315514,
          -3.2616448998395198,
          -3.157727225956844,
          -2.8586460786311894,
          -2.957821539879295,
          -2.8618127263239956,
          -3.0946839970039584,
          -3.2676831304593676,
          -3.493293158198894,
          -3.5159867464758014,
          -3.516735033380115,
          -3.838010123894406,
          -3.721193414933055,
          -3.415536742455223,
          -2.9693707327459182,
          -4.130428935009547,
          -3.0196241417693397,
          -2.2561644758674415,
          -2.7796491327642108,
          -2.95685840526186,
          -2.0497042578686333,
          -3.9527529825633496,
          -2.8962904593624925,
          -2.7720456489231853,
          -2.9970535060429238,
          -3.562685434920589,
          -4.536821925200722,
          -4.79080659548117,
          -3.299584258949061,
          -3.05765432534981,
          -3.696818729299106,
          -3.543272453356708,
          -4.307268058253581,
          -4.035632832714387,
          -3.955126961508943,
          -4.59973247083301,
          -3.103810081068931,
          -3.703489971490476,
          -2.9984184704814116,
          -2.7960361329738066,
          -2.9278231222718443,
          -1.973640853785917,
          -1.9562736078902128,
          -3.148668450054133,
          -5.545957105518029,
          -4.873952392780572,
          -4.092767191900171,
          -3.751134677417236,
          -2.412786281993835,
          -3.504462873671229,
          -3.2817773380494906,
          -4.4436788914884975,
          -2.9865268578496043,
          -3.8753570421107337,
          -3.9433693913260996,
          -4.216694546835284,
          -3.442374409894739,
          -3.653267143661882,
          -1.928963036789219,
          -3.8832405571318254,
          -3.881079944117178,
          -2.881582020696396,
          -0.8664865329764202,
          -1.8696063083788244,
          -1.3034047203973005,
          -0.3532766468404737,
          -0.5786991656161353,
          -3.736026131876575,
          -3.8430999371800736,
          -3.902578302708873,
          -3.935307263794484,
          -3.773730877294258,
          -3.3112877886058403,
          -3.0178202481658474,
          -4.389206378444989,
          -4.82079309431898,
          -4.486836869405996,
          -3.4226415321449775,
          -3.8866992569322782,
          -4.143438741508164,
          -4.455666579620461,
          -4.684203375938282,
          -4.4335800641585585,
          -3.031859631716553,
          -3.1842519072994317,
          -4.493869423551108,
          -3.6233989040090173,
          -4.4011095081834455,
          -4.9518241606276465,
          -4.035173007925561,
          -2.525813752719345,
          -2.7035834923406696,
          -4.513843245442512,
          -4.233854520576151,
          -3.595884242269926,
          -2.884796572401966,
          -3.418276130389355,
          -4.483877287120013,
          -4.353365733095613,
          -4.587407057291537,
          -4.244931650114537,
          -4.59973247083301,
          -3.88448884113484,
          -3.380599831071221,
          -3.926075927096432,
          -2.23095342457402,
          -3.687268733060932,
          -4.667176976689766,
          -2.882900345739045,
          -3.312295156178505,
          -3.726193735030745,
          -1.7798740586843904,
          -3.7694600090903663,
          -2.467024041790596,
          -2.476267498924118,
          -3.2958134034984337,
          -2.533821600824967,
          -3.1839300806969777,
          -3.3754302165525183,
          -3.342982842757753,
          -3.774399362139817,
          -4.242438633418997,
          -4.117542234352871,
          -3.390584454040934,
          -4.074314681779693,
          -4.070936107104639,
          -3.3685271229060763,
          -3.805652803086473,
          -3.773730877294258,
          -3.4125389341193584,
          -3.0064361924511935,
          -3.7058401467724695,
          -3.7660238944585975,
          -5.457148295324544,
          -4.349794094924245,
          -2.8713977204053935,
          -4.197820015962849,
          -1.7788068087841755,
          -2.4070960525440843,
          -2.089631657364945,
          -2.501023528879846,
          -1.3918127867548586,
          -3.1128995759435525,
          -2.960134288723877,
          -2.165390202594568,
          -3.8525843696757027,
          -3.7998843615371607,
          -3.5192593063100186,
          -4.364854968667016,
          -4.611720158964975,
          -2.8857431323734883,
          -3.9375425169648666,
          -2.9659805058706095,
          -2.775394416126688,
          -3.2712694066556347,
          -4.0479582462558605,
          -3.6675746675861545,
          -3.7010055865731144,
          -3.65306259796093,
          -3.7997383501069777,
          -4.890675061891034,
          -3.046526588761894,
          -3.404650641313657,
          -3.0408592172371827,
          -3.050180511839759,
          -2.7701335521857704,
          -4.05862007130526,
          -2.6997334829297075,
          -4.519050093864658,
          -5.1050149822366935,
          -3.172625829994388,
          -1.618628737547314,
          -2.7477843202761387,
          -2.814940967437215,
          -2.882696324636582,
          -3.5015893957727986,
          -3.565013035632103,
          -4.160580293605429,
          -3.8226401298799666,
          -2.396244941379973,
          -1.0849587533833631,
          -3.5394610558555843,
          -2.581799725551398,
          -3.3467956143525086,
          -4.320120132401888,
          -4.005184149765979,
          -3.7717192726183,
          -4.074314681779693,
          -4.887538681103313,
          -3.782473685382844,
          -1.5560177240475181,
          -1.5983815780628534,
          -2.505093541915782,
          -0.7857903191629624,
          -0.19179910932971972,
          -3.4389642348263005,
          -3.5861786600813432,
          -3.4361108122366932,
          -0.2805917458591799,
          -3.5772759446350775,
          -1.9449669448333515,
          -3.816643143981555,
          -3.2426749956829184,
          -2.6922114080336597,
          -4.363074799776006,
          -4.309525831582316,
          -4.802703312982533,
          -4.789120569324211,
          -3.6461396173462735,
          -4.38154219979431,
          -3.583861673662277,
          -1.8925370759728866,
          -3.7176290510543897,
          -3.8661968531884736,
          -2.1630866082131104,
          -3.5334661684158406,
          -3.4254046223104324,
          -2.1366961858703126,
          -2.0543721588897164,
          -2.0276609184877183,
          -3.965149958770254,
          -3.905330843289275,
          -2.339518804042782,
          -2.2839042918681702,
          -3.935868550909751,
          -4.46014829098477,
          -4.127092230591121,
          -4.639217577797048,
          -2.933122886698956,
          -3.0835572089921848,
          -3.2050122102012892,
          -3.0648959412098145,
          -2.719840870491479,
          -4.022870424156372,
          -3.097066162124483,
          -4.267145722733913,
          -4.31867853885289,
          -2.7175544194041805,
          -3.286363289985065,
          -3.619179955109595,
          -4.1736726192561395,
          -4.823230556034279,
          -3.1559304133850556,
          -4.268587316282911,
          -3.7058401467724695,
          -4.316265277101439,
          -1.6681702823456253,
          -3.810150511702822,
          -4.6057673699095565,
          -3.256507581564733,
          -3.6566828563409133,
          -2.8501420689094465,
          -2.3711708988917644,
          -3.6606097135350772,
          -4.340735319021539,
          -2.1891365813805708,
          -3.617531106381404,
          -1.787474748951355,
          -2.203298680951423,
          -3.839974757847733,
          -2.8151449885396986,
          -2.691394059728587,
          -3.313324814383281,
          -2.637049071567752,
          -2.977234765652008,
          -3.1255306092624604,
          -3.894317686670138,
          -3.64031040653764,
          -3.009868910598423,
          -3.8554661966203976,
          -3.388267223415707,
          -2.3732683905200433,
          -1.910027095007552,
          -4.993277461426852,
          -2.548511127236282,
          -4.547221948728862,
          -4.558812646318848,
          -3.838238059948701,
          -4.219923515338152,
          -2.521626272561663,
          -3.4903258424726347,
          -3.0567839417496736,
          -3.4387225092697644,
          -4.370371766796319,
          -3.934407703988954,
          -4.177297205793198,
          -4.187926790675583,
          -3.105359919319174,
          -2.3748724466189324,
          -2.6454981293666817,
          -3.1294901226775584,
          -2.645862125432853,
          -1.2587068786924078,
          -2.8126192634939358,
          -3.2007088269544597,
          -3.6052699588868533,
          -2.1579658379231135,
          -1.8801311206531488,
          -1.9327584900574553,
          -1.8470247165978113,
          -3.647128929800055,
          -2.61744921816866,
          -2.9584653915690193,
          -4.272445084976908,
          -3.4171924176234225,
          -3.1122687378556315,
          -3.9177265596123285,
          -3.3983284304714783,
          -2.845011314053035,
          -4.553055678439459,
          -2.786804317205431,
          -2.875095210223341,
          -3.727611963975387,
          -3.665491874588031,
          -3.5200587531790366,
          -3.0930087304531617,
          -4.212788063327059,
          -3.9503969343997016,
          -3.7838976442340595,
          -3.7381046310174173,
          -3.624736157570265,
          -3.910021674886463,
          -3.4047987283843693,
          -2.944646853068441,
          -3.924940976404876,
          -3.9833640647884363,
          -2.8225090272243927,
          -3.814207943374106,
          -3.112025679024457,
          -3.573311170278729,
          -2.739395219137121,
          -2.3287000899901957,
          -1.6983246422199607,
          -3.7392551003796535,
          -4.819569252272619,
          -4.248562569262392,
          -2.064574773217468,
          -3.9101735663121335,
          -0.9894376836336165,
          -3.449918101017944,
          -3.9956204193373077,
          -2.642475570324845,
          -4.158943021509638,
          -4.074668808263045,
          -3.437339564387947,
          -4.050097728496115,
          -3.3168185529290244,
          -4.050561452171,
          -3.481631219422421,
          -3.6124255025334313,
          -2.90938809524845,
          -2.737975863457035,
          -2.0086895383471446,
          -3.1661529683941683,
          -2.522282206646289,
          -3.3351276363161095,
          -3.8467591649071506,
          -2.0530546902413507,
          -2.6479111491252576,
          -3.9799084002979606,
          -4.484273056704933,
          -3.3870687802727346,
          -4.975622831617132,
          -4.070936107104639,
          -4.479233327335873,
          -4.488472472231529,
          -1.0290303995308676,
          -2.636438147689629,
          -3.1536266969141926,
          -3.1670564332748663,
          -3.985533862167929,
          -3.7171125556027302,
          -2.975416289906836,
          -3.5475485919790204,
          -2.9184295789646444,
          -1.941196507758312,
          -2.8368384542654943,
          -3.0807803609946625,
          -2.3320002040382763,
          -4.525397692711727,
          -3.9398958724180817,
          -3.6617703932726395,
          -3.6094796806400877,
          -3.744413415803332,
          -3.5974758164014253,
          -4.134115479768857,
          -3.329332541710502,
          -2.809255363468226,
          -3.6959103133461264,
          -3.3910577080040807,
          -3.8548367465743407,
          -3.0993041375733266,
          -2.4343450399908035,
          -3.02674234243058,
          -4.431353477947024,
          -5.0943549738463,
          -4.462579946885987,
          -4.526396832781228,
          -4.071860126975638,
          -4.522386509137786,
          -4.0570339953200865,
          -4.894822232716835,
          -5.322924718334432,
          -2.5823704446184848,
          -3.3294820967440417,
          -1.2593333823739843,
          -4.141278128493652,
          -3.056631714020942,
          -3.993196461634316,
          -4.297981012799722,
          -3.9681883268578164,
          -4.11238418190488,
          -4.155205019834504,
          -3.3790511607050604,
          -3.7415997517894586,
          -3.005103149973157,
          -3.4594942917042584,
          -4.371652948520865,
          -2.9394069910834135,
          -3.8084425463081684,
          -1.4855610331210471,
          -3.6693353268889894,
          -3.474458546550216,
          -3.4950247828059733,
          -4.581111650171393,
          -3.567126910704587,
          -3.1830138985739023,
          -3.8769451500114287,
          -4.0361577556883255,
          -3.9808710480925815,
          -4.54476808225001,
          -2.788820082988972,
          -2.6361389864839184,
          -3.657600370974384,
          -3.5624692886627027,
          -4.303696420082213,
          -3.8032045852798237,
          -3.79756327786388,
          -4.022950111479477,
          -2.154368150163854,
          -1.518861319152925,
          -4.296464466233513,
          -3.596531119654228,
          -4.213767959025112,
          -2.919984379885072,
          -4.130428935009547,
          -4.033549766262867,
          -4.005184149765979,
          -4.4357953764675635,
          -3.630970825827933,
          -4.711709271521004,
          -3.4945626916738273,
          -3.8753570421107337,
          -3.9506850629886556,
          -4.949098150274539,
          -4.812153426495894,
          -4.508885421896396,
          -4.312376155971291,
          -4.871510396229256,
          -4.754264228656118,
          -4.519232737677077,
          -2.570045031077002,
          -2.5831414108907382,
          -3.617143093544557,
          -2.3943500165952116,
          -2.5030773021896042,
          -2.0897671624234704,
          -2.2376530731585134,
          -2.531865281928601,
          -2.3327955012931345,
          -2.293029893946333,
          -2.522782164863144,
          -2.482086279130972,
          -2.92663375432342,
          -2.9818777681124824,
          -2.9828929417003254,
          -2.3859873660895285,
          -2.3841684036219744,
          -1.4788553046223643,
          -1.4863189358767148,
          -2.7637747298241284,
          -2.527482859164523,
          -2.619248071554697,
          -4.333882405186466,
          -2.1781080566173885,
          -3.2329157082442257,
          -2.830803555188949,
          -3.2092600420758455,
          -1.8828021291911696,
          -1.7605203658080424,
          -2.9040256375537163,
          -5.255092165227143,
          -2.5793583778666207,
          -3.0701858189986,
          -3.552155758940566,
          -2.3611811945708525,
          -4.512609046468118,
          -3.929784456638876,
          -2.2682537285550906,
          -2.437884961244738,
          -4.5682423916297585,
          -3.22517173181359,
          -3.0818637900668255,
          -2.7046310666880555,
          -4.123033833884787,
          -4.441648617560891,
          -4.789120569324211,
          -4.467060334365979,
          -4.6740672489542945,
          -2.718647488922979,
          -3.266505409031363,
          -3.4385532218827293,
          -3.1476687773123904,
          -3.1670564332748663,
          -3.7644585144477802,
          -3.3504809044767034,
          -4.574724336056627,
          -4.007804057272795,
          -4.4832168745473835,
          -3.201688375426099,
          -3.945552766645558,
          -3.6882489031628483,
          -2.67258446561368,
          -2.6249198269990535,
          -4.237710547402264,
          -3.282499642538146,
          -4.065082866011311,
          -3.9286727972504423,
          -2.4466288658466593,
          -2.161314040639786,
          -2.824047184454557,
          -3.469082766679742,
          -4.745642801988995,
          -4.942670620777944,
          -4.236550666880491,
          -4.193154612249728,
          -4.970444981289264,
          -3.7202639971724136,
          -4.039294136476047,
          -5.0701539713910755,
          -3.1835159554921346,
          -4.128948722387114,
          -4.452274909563824,
          -4.774083926370707,
          -4.725600065073271,
          -3.751077555771219,
          -2.3608877517387308,
          -3.462944112381416,
          -2.6664763375285507,
          -2.8663537897174516,
          -4.237048135093603,
          -4.74672981682465,
          -4.844577387049003,
          -4.556662650610143,
          -4.632879252046632,
          -5.007862920242216,
          -4.539918210382999,
          -3.5287947248677685,
          -3.1002223398962823,
          -3.191756778206494,
          -3.088935802936925,
          -3.5934358685259533,
          -4.850326789706743,
          -3.0772023050834303,
          -3.4801040861221972,
          -3.373197136441332,
          -2.6486755987689667,
          -4.234788401926008,
          -3.9808710480925815,
          -5.188439556864936,
          -4.802703312982533,
          -5.322924718334432,
          -4.935207356722272,
          -4.969140887190264,
          -4.581111650171393,
          -4.830462509882979,
          -4.697362961794019,
          -4.09726123394147,
          -3.6578443203791395,
          -4.26103861914424,
          -3.5495238695837816,
          -1.7810066598280423,
          -2.122055617918058,
          -4.237269050648054,
          -2.519549246129223,
          -3.9242301342558896,
          -3.0999942374739398,
          -3.431246819224173,
          -3.0107931744674676,
          -3.211079268174192,
          -3.846202951933494,
          -2.4024298603228234,
          -2.9445410151796594,
          -4.51682617064706,
          -2.639607832421852,
          -2.8910700391842905,
          -2.8725039744619782,
          -2.5007400408591964,
          -2.6909898162360792,
          -4.6934564782857935,
          -3.7503724416036723,
          -4.227893193732122,
          -4.157437286137517,
          -3.3804290902900065,
          -3.0740333049527715,
          -3.004217393581721,
          -1.7886800444249809,
          -3.41722312567823,
          -1.9072542252281428,
          -2.4382794970288906,
          -2.2640593037790633,
          -4.22032546598314,
          -5.034153142950886,
          -4.448856741816367,
          -4.519962551434782,
          -3.9494076219458583,
          -4.781165382053745,
          -5.367156619575912,
          -3.855137848953055,
          -3.001322363376847,
          -2.6887893593951726,
          -2.673035844622269,
          -2.700091668169774,
          -2.7093989339579836,
          -1.512688280202024,
          -3.5132715018182132,
          -2.9178289760270077,
          -3.093367503122986,
          -3.4990647306815887,
          -3.316042599964985,
          -2.6737369402236513,
          -3.8232389105247666,
          -2.7386212524638878,
          -3.084051865061033,
          -2.2598581542358582,
          -3.993196461634316,
          -4.169121244131427,
          -4.1350785350513375,
          -3.5046037350441357,
          -4.383267057652221,
          -3.845470013797174,
          -3.191027268664764,
          -2.620099234914017,
          -2.276243423662017,
          -2.7042785254436175,
          -3.3616523176586752,
          -1.9176126450198803,
          -1.820186197076218,
          -2.5253685167076623,
          -2.237480634212377,
          -3.027200128186318,
          -2.319773023615729,
          -3.2880940825155074,
          -3.301767796804468,
          -3.160011947839459,
          -3.903594145389946,
          -3.2794136788564368,
          -3.3335395284152933,
          -3.1412627588286886,
          -2.177969005846703,
          -3.303193532033153,
          -3.0673006703214805,
          -2.6326580610225743,
          -3.0071342260267793,
          -3.879474193159086,
          -3.367648041980644,
          -1.7906520510399446,
          -1.6711498012000776,
          -2.850028568341945,
          -2.9740095928534935,
          -3.3875124940797616,
          -3.4230349883282303,
          -3.1287541708702373,
          -1.8338951799733467,
          -2.525842066183734,
          -3.0085359003537966,
          -0.9043784258977847,
          -1.249660264174337,
          -2.1971840615331697,
          -3.5844144510526235,
          -3.1965773208408805,
          -2.500406943586688,
          -2.7525264797501823,
          -2.5534879319860893,
          -2.428330666974941,
          -4.009108151371794,
          -4.448856741816367,
          -5.0783706118641385,
          -5.142605529663481,
          -4.81027966240587,
          -5.024286632561891,
          -3.3269215036723243,
          -3.0941262872454502,
          -3.4179254103334764,
          -3.522423986219258,
          -4.046077578500441,
          -4.550148536539035,
          -4.075275216185895,
          -1.6875843036048226,
          -3.4033527369317564,
          -2.9710259408366753,
          -2.6799278261722965,
          -3.0231955219367586,
          -3.1873793205173544,
          -3.086621416338441,
          -3.1214619479607153,
          -3.7579678280356754,
          -3.148317761233072,
          -2.7759114347266207,
          -3.1503870582837306,
          -2.6269286352945573,
          -2.811590515018166,
          -1.8220649563304367,
          -2.946364615832452,
          -2.4975498507925606,
          -2.9836090758993814,
          -2.2853411511112713,
          -2.554715773137117,
          -3.636537789944387,
          -3.103193258703493,
          -3.7365174550572893,
          -3.415544847964714,
          -2.786217527464115,
          -2.4946758296029046,
          -4.493665687460677,
          -2.908499340878435,
          -3.114823165632281,
          -3.154711891855847,
          -3.1999008991930538,
          -2.665767261829674,
          -3.5022329070614795,
          -3.040037874432252,
          -5.003054924096521,
          -4.764807467650774,
          -4.339268349512139,
          -2.260896549974021,
          -3.2256179564787777,
          -2.9423722565597044,
          -3.543617539062645,
          -3.025812817356687,
          -2.5690179360828767,
          -3.8245760766061445,
          -3.4886278467688014,
          -3.8410934576295683,
          -4.2324499503609,
          -4.453125295149894,
          -1.560072440316157,
          -4.4220379271878745,
          -4.210267017338689,
          -4.672354827017635,
          -2.937417466033506,
          -4.177740267346297,
          -4.394094957194521,
          -4.080994555749089,
          -3.873363766470495,
          -3.115565319000829,
          -3.087116072407294,
          -3.8274021229446396,
          -4.509632686375736,
          -3.556537301102122,
          -3.2283817480196997,
          -3.0156762727702398,
          -4.616424755329669,
          -3.3935507246996526,
          -2.4424835962584237,
          -3.4179254103334764,
          -3.721193414933055,
          -3.548793324671415,
          -2.6929705007358655,
          -2.898803293666269,
          -3.4317626245806867,
          -3.8070743688590714,
          -3.5817053201287488,
          -1.3983722345475944,
          -2.766738366759855,
          -2.239597114155108,
          -2.1808465274634483,
          -3.2942078118018894,
          -2.289737584615051,
          -3.4034903444958395,
          -3.520862074774956,
          -2.6420995735129797,
          -2.8758060523720617,
          -2.34758397704693,
          -2.2215980853214887,
          -2.198797682697119,
          -2.397575099128603,
          -2.236751798976364,
          -2.522111912551914,
          -2.9810942657966373,
          -3.4391145089979442,
          -3.536183712843748,
          -3.969615810167563,
          -4.320120132401888,
          -4.201861829891668,
          -4.587407057291537,
          -3.5188234537955143,
          -5.0496357831359715,
          -4.378255281817253,
          -4.769870917861297,
          -4.909035374509054,
          -4.672354827017635,
          -4.9599017422946075,
          -4.856001619537998,
          -4.228208981004074,
          -3.8606049969192098,
          -3.2721414883601128,
          -2.2428982796090065,
          -2.9605445308976654,
          -3.2893628053442456,
          -3.7533650883348235,
          -3.3202949193724876,
          -4.079999053052723,
          -3.733099544066433,
          -4.28027568766678,
          -4.159006174403267,
          -3.9718496306196225,
          -3.4493749311825024,
          -3.313685681212223,
          -3.117428993799115,
          -4.328267914349191,
          -4.166526858957317,
          -3.7712285617169385,
          -3.902952144913472,
          -4.502608079692802,
          -3.4140145619810993,
          -4.320120132401888,
          -1.714582300190561,
          -4.638741405162023,
          -4.20731390351043,
          -3.562256640665252,
          -3.5006056946513078,
          -3.689928457034528,
          -3.23357314374924,
          -3.167194868095292,
          -3.3420542703713534,
          -3.395340188324101,
          -2.3996039519748225,
          -3.0261485872978398,
          -3.0958372157380536,
          -3.3258041093107837,
          -2.559632441537247,
          -2.9468076773855487,
          -3.291749809571317,
          -3.6943257126035456,
          -3.4891255035955506,
          -2.5916213478203747,
          -2.5481280309926557,
          -2.78565213811059,
          -4.171752812550179,
          -3.2868146491650694,
          -3.0744381711966904,
          -2.5776614831701328,
          -4.166526858957317,
          -2.3306197193667226,
          -2.33409250047979,
          -1.7739128881291515,
          -2.2152139413594965,
          -3.140757438372541,
          -3.134237256910815,
          -3.4455334362271546,
          -4.158271458451779,
          -2.5392035286258574,
          -3.373467797288907,
          -3.7311375531271977,
          -3.534408768233862,
          -3.6850398782851532,
          -3.62511805453639,
          -3.6414234955348217,
          -3.7879814716849634,
          -3.5586257215173407,
          -3.668264465262138,
          -2.8093685049489383,
          -2.9607538220981646,
          -4.002446769118396,
          -3.7161352863861747,
          -3.4920008036236676,
          -2.878076760799493,
          -4.277843645571896,
          -2.820990428674736,
          -4.045089231081643,
          -0.8859697959982731,
          -4.64692258880514,
          -4.3101381805224355,
          -5.0006309663935165,
          -4.88332155692437,
          -1.2553214243424289,
          -3.9681883268578164,
          -3.5074699181285394,
          -4.087573976671024,
          -3.138449956190412,
          -4.403711239812156,
          -2.9539878638694996,
          -2.460914230763469,
          -3.3675515968692493,
          -3.5848285762575127,
          -3.4303206655617626,
          -3.1400415641309323,
          -3.714936591810947,
          -3.4377502967167857,
          -3.3351276363161095,
          -4.162811555434474,
          -4.385916714478848,
          -3.9549401853070862,
          -5.112607767081509,
          -2.960443631906989,
          -2.690024658778764,
          -2.8979045013529166,
          -2.3976411653040888,
          -2.3589397795955156,
          -1.1284586508838061,
          -2.9439979024844676,
          -1.8377968257023471,
          -4.316096901788106,
          -2.2154992516052108,
          -2.812895506739766,
          -2.4114328289652924,
          -3.52648213472992,
          -2.6219062061213103,
          -2.7740394344110175,
          -2.8986385325096458,
          -2.735340191446318,
          -2.9092941153863565,
          -3.2492809074771523,
          -3.856168629631015,
          -3.9517997724991725,
          -3.5596539787386923,
          -3.4892912634937163,
          -3.6689652501095207,
          -4.055401105505751,
          -3.4998118128790034,
          -4.752124746415864,
          -5.230643165665893,
          -4.754975070804839,
          -5.024286632561891,
          -4.19339883399556,
          -3.616592818982756,
          -2.425323622517561,
          -4.20686214998935,
          -5.274363578196441,
          -5.2468626452484415,
          -4.463203051543352,
          -4.0208044875276885,
          -4.221529107034677,
          -4.668909744286467,
          -4.403711239812156,
          -5.576329429316025,
          -4.198496249862995,
          -4.102341386763813,
          -4.2033679354969715,
          -3.75271841637321,
          -3.1487323049708715,
          -3.8342395986018776,
          -3.8580725381050316,
          -5.109775891523314,
          -2.8072758803346507,
          -3.6029449281933226,
          -3.7984415795328004,
          -3.8209739016027817,
          -2.786109806705808,
          -3.1546782711353103,
          -4.039294136476046,
          -2.5804787965232103,
          -3.2076719341750595,
          -2.6045208454485516,
          -4.186508561731031,
          -4.322671295585159,
          -3.865007783720452,
          -4.546487232777374,
          -4.14756401482157,
          -4.237048135093603,
          -3.8036755186766813,
          -0.3764381568788164,
          -1.7866104459916765,
          -3.0436661561581415,
          -3.7402946852102312,
          -3.005472112164009,
          -3.6640319498793166,
          -3.6934884705430906,
          -3.6245048473634385,
          -4.295704217134675,
          -2.6336208601297706,
          -4.6875305649480845,
          -3.3574814257644783,
          -3.4875199118989904,
          -3.2019799532090616,
          -3.0899947811319395,
          -2.89416636499007,
          -2.5419594009894313,
          -1.5953499636787214,
          -3.975063132105356,
          -3.524738790252578,
          -4.30049696709501,
          -3.4195787197729266,
          -3.7236690699394193,
          -3.6570164615773497,
          -3.7785134636754445,
          -3.389383070096309,
          -3.158432340124442,
          -3.5913967850211574,
          -3.664452132543997,
          -3.36138691076779,
          -3.6245048473634385,
          -4.5832202000176805,
          -4.157437286137517,
          -3.394269744165108,
          -1.7605544633996366,
          -2.212696239275334,
          -2.257387478358812,
          -2.190773845915429,
          -3.126237146753603,
          -3.6562562124783575,
          -2.818193943361232,
          -4.033790626850451,
          -3.3944319399951137,
          -4.097717224859552,
          -2.13274192720152,
          -3.511150019563625,
          -2.001188343775476,
          -3.415485229739898,
          -3.423570949905608,
          -2.100479582132827,
          -4.243409828593131,
          -3.6498144520381683,
          -2.4697188701287875,
          -1.3547156163523126,
          -3.608070117220975,
          -3.7221353383242946,
          -2.6153336447045237,
          -3.931120406520685,
          -4.3108107759604986,
          -4.295824344325188,
          -4.019148843030659,
          -3.1882625310367945,
          -2.7886772504191697,
          -2.8642916182032505,
          -3.0704086094199163,
          -2.362868033272555,
          -3.1281622817607055,
          -3.448542240619114,
          -3.839974757847733,
          -3.1710088839673993,
          -3.3772509877112427,
          -3.2995370280701652,
          -2.995378239492191,
          -1.6101135344036805,
          -4.13105174400624,
          -4.102814640726987,
          -3.2127856312276464,
          -4.351226250855358,
          -2.1782336639957776,
          -4.585318636876198,
          -2.3745978261236154,
          -4.213767959025112,
          -2.716030288389867,
          -3.3196970057210886,
          -4.321556991644992,
          -2.9276606950934583,
          -2.848315363683214,
          -2.6824939522750313,
          -2.229166076252509,
          -2.689099285912563,
          -3.845398282795153,
          -2.283931350419537,
          -1.562434320673026,
          -2.9968390864129373,
          -2.6862797147377764,
          -3.876611290211815,
          -3.6432302011149464,
          -3.782436211763339,
          -2.850148612634094,
          -3.3540164651001825,
          -3.5953258206928136,
          -3.5167149039492447,
          -2.641764728176127,
          -1.7577790993567728,
          -4.231040856562269,
          -3.7734440708297208,
          -3.325595162384886,
          -3.9727066793682937,
          -3.780578733651079,
          -3.0102648419271127,
          -4.233386831331942,
          -2.8590120537644412,
          -3.811726038239,
          -4.000612287410741,
          -4.067531239755299,
          -4.327257700909634,
          -4.706979244411654,
          -4.102814640726987,
          -4.222900654384488,
          -3.2070614281713317,
          -2.8885120864214726,
          -3.3909041641364914,
          -3.4226415321449775,
          -2.2151699772744853,
          -2.9027867246327417,
          -3.272517690658746,
          -4.342562141075544,
          -4.154084601177922,
          -2.973700190973635,
          -2.8732497045269105,
          -4.092767191900171,
          -2.9742617996222958,
          -3.445175602522499,
          -2.5498303346457303,
          -0.6313757763843949,
          -2.392479814272408,
          -2.5968873098862066,
          -2.357879116660801,
          -2.3689256233997873,
          -2.3854723298366514,
          -2.3822165488359204,
          -2.319290506433632,
          -2.98609480074475,
          -3.87307827005173,
          -1.255025700609443,
          -2.4127140106898373,
          -4.006092817270775,
          -3.387325887158473,
          -2.974506718949266,
          -3.1894592312079233,
          -3.1980048041505973,
          -4.819569252272619,
          -2.6601498031938826,
          -2.7616279366102976,
          -2.961019068087664,
          -3.764263235155806,
          -3.763835757597394,
          -3.5711333984426292,
          -3.793883091331158,
          -3.901600869749596,
          -3.6429296011400676,
          -3.5622108674532025,
          -3.8412900531155296,
          -3.158601398567944,
          -2.168294634465823,
          -3.4952082178920794,
          -4.550148536539035,
          -4.216694546835284,
          -2.678052053754485,
          -4.119064055874276,
          -3.1795931670735156,
          -4.840215204889492,
          -2.906919976840667,
          -3.190639221414227,
          -3.2309598567694464,
          -3.36367945601687,
          -3.17080420793321,
          -2.774689301959082,
          -2.7726085216692384,
          -4.642536354111636,
          -4.676623380351162,
          -3.909029286667117,
          -3.2261649745699823,
          -5.3182452807199985,
          -3.388087935744744,
          -3.4025721421728528,
          -3.2606355040315274,
          -4.0504209817404435,
          -2.987609074756223,
          -4.141896536011865,
          -3.6843690017217394,
          -3.7260333232062126,
          -3.4521560764668417,
          -1.7322342518959346,
          -1.7376883012411772,
          -1.7354058732241482,
          -2.8851986831277996,
          -2.6998388805886187,
          -3.7292426898521898,
          -4.125098954950822,
          -2.6413313612765963,
          -4.299492320852677,
          -2.681914834723516,
          -2.796915576981057,
          -3.3351276363161095,
          -2.7285916271170603,
          -1.3480801965625722,
          -2.9729441141912853,
          -4.171549044831074,
          -5.290321701815536,
          -3.490537325557286,
          -2.565253742952044,
          -2.2446736876994042,
          -3.1689752296416085,
          -3.458546856812418,
          -3.466640770128501,
          -3.622303863401645,
          -3.7743282952598096,
          -3.8944597166165233,
          -4.630242427256246,
          -4.478952413524428,
          -3.714119319901299,
          -4.231040856562269,
          -4.080994555749089,
          -4.349794094924245,
          -2.7780991448103145,
          -5.341157491745516,
          -3.3215030570989477,
          -5.284008125502628,
          -3.3351276363161095,
          -3.57813034666822,
          -2.8379291241013425,
          -3.6572011874598735,
          -3.1628565138509837,
          -3.193202340907907,
          -3.6423408727539175,
          -4.092767191900171,
          -3.147055398204076,
          -4.1004432352126585,
          -3.5929371528144873,
          -4.178625046710097,
          -3.772927344935783,
          -2.80407906619519,
          -2.790286730316075,
          -3.533874877690102,
          -3.780558426707984,
          -3.983138012989622,
          -3.5844144510526235,
          -3.915753799033039,
          -4.368350870610808,
          -3.637106911717938,
          -3.7388857711173915,
          -3.5165605475368213,
          -2.213538140091001,
          -2.616871513585906,
          -3.8980546715011215,
          -3.8260911908889237,
          -3.478498494425704,
          -4.28828622351784,
          -3.5372003226448085,
          -3.5705814491507306,
          -2.733878981449071,
          -3.306241869839726,
          -2.685237053713746,
          -2.4882636498550785,
          -3.8985938252921972,
          -2.6611471212602993,
          -3.031859631716553,
          -4.88675106028522,
          -4.541309382449506,
          -4.297981012799722,
          -4.571495367553759,
          -4.199110102291008,
          -2.605883059209222,
          -3.5557472687252383,
          -2.093667581353712,
          -2.7087826649837368,
          -3.1627853545035935,
          -2.996218573975488,
          -3.046861898457437,
          -4.063607238149484,
          -3.2364441406439415,
          -2.560550359640586,
          -2.390990466587501,
          -2.5155361198617245,
          -2.838887355517235,
          -2.883927366683971,
          -2.8122680300235143,
          -3.3697899963797124,
          -4.304492640950357,
          -2.60587331405657,
          -3.5823699461815046,
          -3.763458224355997,
          -4.254764046960471,
          -3.421318959450555,
          -4.456510404850771,
          -3.406813111529669,
          -4.086640095321167,
          -4.703569069343223,
          -3.9823685620920233,
          -3.6402148670139445,
          -3.8122533335680413,
          -3.7764205106387934,
          -3.4677786725808004,
          -4.018940548217729,
          -0.8827550211177515,
          -5.0219777974082405,
          -2.7951022516239656,
          -1.038897434172912,
          -2.609740592700665,
          -2.5207210333673222,
          -2.677659392075625,
          -2.9538718868651572,
          -2.8711944339590456,
          -3.2516340923461615,
          -3.192195691381154,
          -2.241919368428082,
          -3.366769606944643,
          -3.6499608053582158,
          -3.739760350103305,
          -3.678435628418609,
          -3.6066086338108017,
          -3.2945872440053203,
          -3.4240940174972647,
          -3.0890089979594832,
          -2.5316182232583753,
          -3.1820403276303093,
          -3.3480602994294726,
          -2.2089044748146986,
          -3.4553007044482924,
          -2.748558129402772,
          -3.0358626170623966,
          -1.7026606157318014,
          -1.5979492520910097,
          -3.6911421145293266,
          -2.575695001914905,
          -4.2548107884002135,
          -3.4512664017653867,
          -4.219463690549326,
          -3.511350325247461,
          -3.1086225066574413,
          -3.7837119146195977,
          -3.4408857277973977,
          -3.7734440708297208,
          -3.656006127735211,
          -4.258004842813378,
          -1.600752614289602,
          -4.3702730587877126,
          -2.6570287149883676,
          -2.561584181580883,
          -2.4128221078482066,
          -2.8816433199254003,
          -2.471421297359594,
          -2.7881956156676497,
          -2.542834447773708,
          -2.8446999339185823,
          -3.689928457034528,
          -2.029252067521533,
          -2.320667225264226,
          -2.694258471187015,
          -3.533032271274073,
          -2.798632717724363,
          -3.659801322323295,
          -3.962638274681743,
          -3.9347733732507746,
          -3.7257309922627546,
          -3.537461153886416,
          -3.7203050425542252,
          -3.653606555651782,
          -3.6908114507678307,
          -3.748765670623034,
          -3.7191498649951074,
          -3.4046166470440453,
          -4.000086733898544,
          -3.671883703929886,
          -3.322152355226564,
          -4.351838599795478,
          -3.387612625272867,
          -3.560523873068564,
          -4.023382446738268,
          -4.417238600780999,
          -4.006870175922938,
          -3.763018502463399,
          -2.93422914075554,
          -3.842320732617395,
          -2.6557918127080127,
          -3.826437927068336,
          -3.6413419365363424,
          -3.5334661684158406,
          -2.778937133833605,
          -3.169327945496494,
          -2.69975613316378,
          -2.609342399566552,
          -2.392958189587613,
          -3.092901244088268,
          -2.2738443840273583,
          -2.777255428061819,
          -3.116259469941736,
          -1.6605189997330838,
          -3.8850750388394757,
          -2.149026372277674,
          -2.4985499043623483,
          -2.430092315461076,
          -3.3992700642628444,
          -3.403018366838073,
          -1.7954332158504454,
          -2.8140014879753092,
          -2.940133727620761,
          -4.817463239800573,
          -4.314325037796292,
          -4.087573976671024,
          -4.178625046710097,
          -4.808397839090664,
          -4.59973247083301,
          -4.389908099920665,
          -3.739444299624103,
          -3.533295760138535,
          -3.856390216491471,
          -3.4660533591031997,
          -3.4267508487458005,
          -2.98942326063619,
          -3.947098786792348,
          -3.1618413989135203,
          -3.5688011393501453,
          -3.4863042310771135,
          -3.6161641993012776,
          -3.1800810154051993,
          -3.191399470513005,
          -4.119064055874276,
          -3.4649982159021895,
          -3.352988207878862,
          -4.642536354111636,
          -3.4875199118989904,
          -3.326793608216462,
          -3.471538469551037,
          -3.831367917115124,
          -3.5488750909626883,
          -3.6119777637347146,
          -3.1156620519762863,
          -2.206637310440009,
          -2.179676058403926,
          -4.608328488908338,
          -3.359107513871121,
          -2.9630872849429157,
          -4.862437958611782,
          -5.245475882609509,
          -4.584270676503816,
          -5.15302324197637,
          -4.873139907410044,
          -4.167343896069253,
          -3.6546623191080063,
          -4.294249153924508,
          -4.3467093119013445,
          -4.168973407250041,
          -4.076998881893742,
          -3.363257909355223,
          -2.2872776566616886,
          -1.9721764844018788,
          -2.832263427235068,
          -2.157570819290555,
          -2.53238201148778,
          -4.172905707146903,
          -4.524797111634175,
          -3.5571841279683807,
          -4.057914957137664,
          -4.140410886889,
          -3.3497945933614375,
          -4.174055571793757,
          -3.5551578837090396,
          -2.381841709005423,
          -3.417721484323615,
          -3.6494727704540266,
          -3.2236063518027853,
          -2.8954487984816484,
          -2.9806818040522027,
          -3.0436853042027994,
          -4.644917688104919,
          -3.509264672223825,
          -4.644460744725217,
          -4.8030852625888905,
          -4.851467659313531,
          -5.044535537664716,
          -2.787895930796039,
          -4.3680561429160685,
          -3.239239111476853,
          -2.8959335888318445,
          -3.164803227835853,
          -3.3478103575510008,
          -4.574724336056627,
          -4.022571467365585,
          -4.177487144257781,
          -3.4512803955683977,
          -2.5080598125744964,
          -2.5311977299571082,
          -2.9791151747061164,
          -3.1692300162820146,
          -3.0240812358038993,
          -2.983170498678703,
          -3.1410492956619014,
          -3.1699835805057863,
          -3.029501010121568,
          -3.2745439349180727,
          -3.0962271423637517,
          -3.533617586741074,
          -3.347916282559715,
          -3.245646568027893,
          -2.11097196212694,
          -4.51682617064706,
          -2.580370243428423,
          -3.1535800551310547,
          -2.108446630790478,
          -3.3661706701690677,
          -1.5521586385766846,
          -2.504618231443947,
          -2.6938493160016708,
          -4.746367778536474,
          -4.405609391363311,
          -4.085649102267155,
          -2.2157163308685566,
          -3.144180532498027,
          -3.4495074738210323,
          -0.9334636659720967,
          -3.220866113745511,
          -3.4148975557143153,
          -3.8916064572581943,
          -2.2375906662052403,
          -3.084819931145218,
          -2.9444555252429847,
          -2.8047520237166133,
          -2.8548947846051256,
          -3.3303459138978346,
          -3.8009633343312075,
          -1.224405809188377,
          -1.6487922085141533,
          -1.1731548408766461,
          -2.4009911994527684,
          -1.238903215395535,
          -2.2702844299082274,
          -2.2837638575076946,
          -4.796933692060174,
          -2.9831958307718036,
          -4.935207356722272,
          -4.725600065073271,
          -4.4555459001971895,
          -4.661937114704746,
          -3.4681991658820315,
          -5.166538548136734,
          -4.8937891194946745,
          -3.4690502793401223,
          -4.292803162471853,
          -2.7299740081921597,
          -2.4758858590199835,
          -4.8792772850343065,
          -2.815872859687922,
          -4.140796539841511,
          -3.661691353755431,
          -3.685273910516529,
          -2.122055617918058,
          -3.2581181251047027,
          -3.105510245122508,
          -2.2763900467352065,
          -2.9251137434202,
          -3.455009867086579,
          -3.8682810402317105,
          -3.513901747164282,
          -3.5664549768189597,
          -3.575877141229228,
          -3.3981400255827117,
          -3.340008424340194,
          -2.9505572300289806,
          -4.514884855221187,
          -3.0112503314426258,
          -3.078189969816552,
          -3.679720664844885,
          -4.490976905207681,
          -3.1642639078953825,
          -2.6193715197126006,
          -3.153100187381938,
          -4.335598759403829,
          -3.129920967858942,
          -3.3086029549734883,
          -4.734063060969381,
          -3.9356782820453766,
          -4.038451935549398,
          -2.823422223265192,
          -3.333415214379433,
          -4.00122463635086,
          -3.0742532487786134,
          -3.4209324547908415,
          -2.737835419815571,
          -2.927114784877269,
          -3.293987785020189,
          -5.206268480032006,
          -2.5677034875731475,
          -3.233427132319145,
          -2.769123279189001,
          -3.985652770510924,
          -2.616242293887737,
          -2.8357284287845372,
          -2.9366005462698976,
          -2.4793372299144343,
          -5.221202463784612,
          -2.0566604050176363,
          -2.402634694602933,
          -1.8132868714348032,
          -1.567056916517284,
          -4.910531181936241,
          -4.512038239803599,
          -4.535393182029764,
          -5.274363578196441,
          -4.432344471001036,
          -4.403711239812156,
          -2.285270130374764,
          -1.792926751320869,
          -2.5897401944611778,
          -2.70220812025688,
          -3.00488887735695,
          -2.839283483426883,
          -3.852277443499402,
          -3.1247343883943324,
          -3.3816023238883517,
          -2.7285916271170603,
          -3.9134265422361367,
          -3.9847005976729717,
          -3.8913181387985016,
          -2.280826619382474,
          -4.685870133178,
          -5.149578159245202,
          -4.318196950200748,
          -4.622235242404661,
          -3.86032834610632,
          -3.3504809044767034,
          -3.524804053266683,
          -3.9804078153904463,
          -3.124760095568257,
          -4.6875305649480845,
          -1.548327642373318,
          -2.8099269265260967,
          -3.5772856050107276,
          -3.663403775692108,
          -3.672212545167809,
          -4.910531181936241,
          -3.8552811582389412,
          -3.800519373617095,
          -2.4827477989459292,
          -4.39849221276351,
          -4.093734094495448,
          -3.837444726555678,
          -3.269704026644872,
          -3.1182089720367205,
          -2.9164032258719765,
          -3.6793852180400166,
          -3.023363767755503,
          -3.105722686615557,
          -3.7311375531271977,
          -3.5125280466754205,
          -3.954105903294572,
          -3.067062061556728,
          -3.725608419563771,
          -2.5503726510442215,
          -2.852465945717029,
          -2.497598313713106,
          -2.390303077213911,
          -3.0248516349131287,
          -3.2826038271430997,
          -4.015699233205665,
          -4.419283105652233,
          -4.162418629277579,
          -3.76051836282428,
          -3.6227681494641595,
          -2.9246641354009677,
          -3.8673288673937596,
          -3.8972201248033396,
          -3.5125280466754205,
          -2.6410018278149177,
          -2.5536701086370885,
          -3.1453651520402626,
          -4.637548701344007,
          -4.716388709135438,
          -3.993196461634316,
          -4.912021892905758,
          -2.7511387970089425,
          -4.6057673699095565,
          -4.848036086849508,
          -2.935605722634619,
          -2.5450473590837017,
          -3.5941637396741317,
          -3.1503114001801213,
          -2.734399543104542,
          -2.5287492080841605,
          -4.8747633721532555,
          -2.881582020696396,
          -3.1630050130704976,
          -4.3314850115371595,
          -2.955507880065808,
          -2.926345625734612,
          -3.0342658151209942,
          -2.6578350445329906,
          -4.365798924257116,
          -3.189839215255516,
          -3.9050123743344307,
          -3.861540742437966,
          -3.602350777657768,
          -3.26705797536055,
          -3.8275086540496996,
          -4.375399531153527,
          -3.1091365344192425,
          -3.7512018698071756,
          -3.292057816093183,
          -2.4396913484929277,
          -2.663385096709156,
          -2.919594892060423,
          -3.9291819457616475,
          -4.1833721809433095,
          -2.601417602385972,
          -2.98457464747209,
          -2.5436936949214184,
          -3.104870293448162,
          -2.5789695472283123,
          -2.639130734815137,
          -4.499708163550156,
          -4.5936131648407414,
          -4.179948869947887,
          -3.3606980681063345,
          -2.295606018866323,
          -3.0996782489653514,
          -3.3351276363161095,
          -3.479706789162943,
          -3.5496211834734037,
          -3.427254617651537,
          -4.400529238540968,
          -1.9749872528367831,
          -0.7568655110490955,
          -1.234309988703498,
          -1.0899017174447536,
          -1.292539171296263,
          -0.9631121284133138,
          -3.8700213266373225,
          -0.9455824318864335,
          -2.376379708900812,
          -3.639871268777391,
          -3.7161352863861747,
          -3.696818729299106,
          -3.6630330875004478,
          -4.281352271001062,
          -4.763416295584268,
          -3.8253423917221734,
          -2.9307560595161886,
          -3.822579493299337,
          -3.957861490699985,
          -2.9674278173936135,
          -1.9268678677723063,
          -2.129754172781385,
          -1.7469702679337973,
          -2.702695119961757,
          -3.757372962891385,
          -3.145439237952892,
          -4.321078562678461,
          -4.5163012476731215,
          -3.8260911908889237,
          -3.9365061408475532,
          -4.233524438895994,
          -4.391067102575358,
          -4.502608079692802,
          -3.861209561401544,
          -4.126808032304872,
          -4.86160378629752,
          -3.0795171058801496,
          -4.633100111842487,
          -3.45781743137068,
          -2.936640765348482,
          -3.953082456637779,
          -3.9143095359693088,
          -2.471421297359594,
          -4.108817141473606,
          -3.3294820967440417,
          -2.366019318838579,
          -3.5799725525320376,
          -2.9704500249363583,
          -3.1793555129132622,
          -1.8615692416902145,
          -4.105486786696798,
          -4.090178289397934,
          -4.595662457797075,
          -4.433135652493842,
          -1.9049748975370344,
          -3.1517418624870706,
          -4.228208981004074,
          -2.8642916182032505,
          -2.499129159923169,
          -2.20276027373899,
          -3.796413658190688,
          -4.001224636350861,
          -3.959524217078064,
          -3.6203880274270537,
          -4.693701658032359,
          -3.205504454670562,
          -4.826861475182135,
          -2.2544829039414616,
          -3.6070773752808423,
          -3.68194215257436,
          -3.802332735281134,
          -3.8555983189968734,
          -3.2712354361407145,
          -3.478750362126825,
          -3.962265755930868,
          -0.7358819232827694,
          -3.3832870876415946,
          -2.9624457755897984,
          -3.4609952305563194,
          -4.258394966108327,
          -3.3411625353926198,
          -3.3137390549080674,
          -4.055401105505751,
          -4.208143331713894,
          -3.0451189266078815,
          -3.75952295860002,
          -2.8814198999918865,
          -2.5907363447448337,
          -3.0930087304531617,
          -2.1158495103688515,
          -3.6829279357469034,
          -4.963885289506118,
          -3.5100905849600497,
          -4.216694546835284,
          -3.5165055581260813,
          -4.033790626850451,
          -4.258394966108327,
          -4.2403502130036586,
          -5.186059551469598,
          -3.0766685773608837,
          -3.998031021833538,
          -4.4573526057774195,
          -2.2850771998207735,
          -3.4397215089488324,
          -3.3249352861415384,
          -3.8256284481208858,
          -3.670934482195848,
          -3.9201064162055212,
          -3.5011631675400126,
          -1.7860547764756722,
          -4.280817476876666,
          -3.8001070480142887,
          -3.4076302707196646,
          -4.2464481966807455,
          -4.294027004518214,
          -4.165582224017579,
          -3.3396931377038177,
          -2.168460526832411,
          -2.786243749228303,
          -4.573292180125513,
          -2.9905532000849826,
          -4.055806407291377,
          -3.5773604656912346,
          -3.5322963194666457,
          -1.9797517183538078,
          -1.4183451086761332,
          -3.5799725525320376,
          -4.290020708430828,
          -2.461988552427492,
          -3.245624745875381,
          -3.3789164760044765,
          -2.9903790181483525,
          -3.3902031701419655,
          -3.108143291662873,
          -3.7875589479956084,
          -3.890677391923651,
          -4.667176976689766,
          -4.237269050648054,
          -4.282573672681246,
          -3.565013035632103,
          -2.9127835794580488,
          -4.398929517393914,
          -3.4631773959093426,
          -2.3129437603120655,
          -2.4728534532907007,
          -4.045046898998372,
          -4.007047274992871,
          -4.008482671284859,
          -3.808197332208286,
          -4.169121244131427,
          -4.210399139715141,
          -3.493907226013782,
          -2.924130313425627,
          -1.6283701116307212,
          -3.359576635877389,
          -2.9552458900901337,
          -3.233612956592992,
          -3.5441700173039163,
          -3.649760520050827,
          -4.763416295584268,
          -4.270024175526015,
          -3.233405381766269,
          -3.0767125738661565,
          -3.550465424424106,
          -3.432758127277146,
          -2.7030525174620386,
          -4.7871452917195105,
          -2.8327905637401445,
          -4.380266886493239,
          -3.736026131876575,
          -2.8177866039348256,
          -4.27378979430189,
          -3.2493504383864913,
          -1.69019400872519,
          -4.229627209948625,
          -4.542465323006431,
          -3.930586515976669,
          -3.4695271114791972,
          -3.189473010382646,
          -3.0451739529034154,
          -2.637602548233962,
          -2.9577509053938082,
          -2.9390283469695144,
          -3.1033181404643684,
          -3.779095952099562,
          -2.950309350772009,
          -3.929784456638876,
          -3.820330011499247,
          -0.7684114877548803,
          -3.3032292292752152,
          -2.6261087029099777,
          -3.9342649208446105,
          -2.142271555319082,
          -3.6527419506426804,
          -2.8229386261473515,
          -3.237854453048538,
          -3.6273185113773025,
          -4.5638671227059815,
          -3.235585168912617,
          -2.803016942899564,
          -2.3376859402269363,
          -4.119064055874276,
          -2.6505271035962785,
          -4.59973247083301,
          -1.9722599270857397,
          -2.067737794010405,
          -2.2159730180254034,
          -3.642284762045742,
          -3.622222509134606,
          -3.187913211061098,
          -3.9134265422361367,
          -2.4915286849213523,
          -3.301337126251299,
          -3.1508369536923144,
          -3.2977807180995997,
          -2.36311897864582,
          -2.4144001446914816,
          -2.7525715046721047,
          -1.8335294541072522,
          -2.880729010035397,
          -1.614721906720354,
          -2.885082511091983,
          -2.6424003039826145,
          -2.116062055063968,
          -2.443250732480026,
          -2.421918755168223,
          -2.7140061683016965,
          -2.755824084153983,
          -1.6245573108986096,
          -2.5831839074423018,
          -2.917979725608267,
          -3.167953610444279,
          -2.5177762631507,
          -3.0962445219838357,
          -2.468042722684532,
          -2.25537059616113,
          -2.8365986497945554,
          -2.844842938739679,
          -1.43517235484564,
          -2.198069949911059,
          -2.497349565485188,
          -2.376904864002216,
          -1.8171334591882957,
          -1.748945713812495,
          -5.213799186535739,
          -3.664184370450829,
          -4.17645011308658,
          -4.440192632036553,
          -2.1207317946802706,
          -2.691446146862878,
          -2.5845404100284033,
          -1.9188296910016158,
          -1.6408178818037813,
          -2.233329364520177,
          -2.5730875851020216,
          -1.553198744575405,
          -2.3910353338639965,
          -3.0546921118541794,
          -1.544489143766651,
          -2.345403066778949,
          -3.0135505483294676,
          -2.2688475194837174,
          -2.377277065850523,
          -3.103746036093879,
          -2.6664272245188614,
          -2.6018898605625385,
          -3.104949677145402,
          -2.1525422029972345,
          -1.9274952338179514,
          -2.023690411005562,
          -2.296250715433717,
          -2.3641745237809455,
          -3.0371630087262145,
          -2.360830380777138,
          -3.3587833024844986,
          -3.120180766236194,
          -2.9109923575739822,
          -2.123577439439461,
          -2.381663409390827,
          -1.6517385542063723,
          -4.181268699746012,
          -4.9957423876439835,
          -2.3590600168278835,
          -1.3162446239060082,
          -2.5868980731767723,
          -3.1725599429004787,
          -2.469555523759037,
          -2.976356620332214,
          -3.8591506246781484,
          -3.2607928581948005,
          -2.5718997934707417,
          -2.8149224679024987,
          -3.659234019524214,
          -3.5866186030508707,
          -3.5308371300625105,
          -4.2751176352187885,
          -3.4723601096916985,
          -2.802823203622982,
          -3.5019848076806657,
          -2.8597200852982607,
          -3.2718699877331625,
          -3.3199518983856167,
          -2.4124753608923637,
          -1.91504491101959,
          -3.423736709803852,
          -3.8428250822367884,
          -3.18899218385527,
          -4.249465610339002,
          -3.982005998784298,
          -5.013209503023505,
          -4.333970945760743,
          -4.630997428731426,
          -4.581111650171393,
          -3.124996080636294,
          -3.01404185180586,
          -4.235994002816406,
          -4.702197521993412,
          -5.109775891523314,
          -4.85487252666287,
          -4.869874793403723,
          -5.040116073357553,
          -4.659293461668832,
          -3.769895948459863,
          -3.029810338760229,
          -3.127350640437327,
          -3.2105602607037502,
          -3.3106786367548144,
          -3.6793852180400166,
          -4.364854968667016,
          -4.0042735911724,
          -2.8128555885565976,
          -2.673749922274645,
          -2.8781694517517873,
          -2.783441542114119,
          -3.046748437788702,
          -2.9237079493431777,
          -3.6203880274270537,
          -4.346332110994091,
          -4.870420674006408,
          -3.4458520694657357,
          -1.8167156761569865,
          -4.111180540853342,
          -5.123449605812236,
          -4.834922520433257,
          -1.618973241546566,
          -4.035472948464007,
          -3.4226996786326382,
          -2.836747239793004,
          -3.012172238099784,
          -2.2827637437806385,
          -2.88035572851261,
          -3.5378254530301203,
          -2.2237900568600515,
          -3.3600787090452857,
          -1.8166891764600388,
          -3.3959927212509227,
          -1.7242443238897487,
          -2.713984031478291,
          -2.5074649474301096,
          -3.224887533527373,
          -1.8276217398210708,
          -3.6309164289387357,
          -3.801105641454359,
          -2.9116865635844267,
          -2.9994356711634786,
          -3.1496409896320148,
          -3.6007778943115545,
          -2.7689682231523096,
          -2.367408396345805,
          -3.5969989517806837,
          -4.862715662998316,
          -4.337058631449949,
          -4.504122876057514,
          -4.677472116303633,
          -1.5685239741323291,
          -4.007542771361001,
          -5.2047466585106,
          -3.191399470513005,
          -3.036589658825912,
          -2.7861593423125797,
          -3.1870254395431954,
          -2.7368005592197924,
          -3.6607494303639827,
          -2.9394069910834135,
          -3.9745756409725885,
          -2.7489452153753673,
          -3.5318861322372537,
          -2.7801244432360304,
          -4.957225750794856,
          -1.495557498956662,
          -2.112043207390794,
          -3.712486197291173,
          -3.533874877690102,
          -2.116806775662998,
          -1.203401932770713,
          -1.828046225642062,
          -2.7532473468552183,
          -1.7835541095067917,
          -3.3839513215111925,
          -3.031859631716553,
          -2.926685449632313,
          -1.831384864859639,
          -2.9105259977007836,
          -1.9587082570915466,
          -3.026887723141757,
          -3.4863484968851095,
          -2.7858066431831996,
          -2.5790683667084267,
          -2.00813421878054,
          -2.5925117590837936,
          -4.176785422782105,
          -3.5899926067887193,
          -3.5422816965207584,
          -4.910829730734108,
          -3.2970581361908624,
          -3.3509244151546382,
          -3.4612309015808336,
          -2.867247867600946,
          -1.5870452391721446,
          -3.2720746291056493,
          -3.0412690964403595,
          -3.282029440186297,
          -2.949294027110969,
          -2.9520897123183376,
          -3.5441700173039163,
          -3.6433394590119605,
          -2.194441003432459,
          -3.686562877006034,
          -4.433333224520815,
          -2.3338992391057505,
          -2.5029900607184885,
          -2.091764218225584,
          -4.771697739915302,
          -3.5868628247966816,
          -4.864930975307321,
          -5.026583347790159,
          -4.145198613921921,
          -2.8257539283637274,
          -3.9134265422361367,
          -2.9128376986527234,
          -2.962331296237625,
          -2.828112070244915,
          -2.0463058485154995,
          -2.1370860923603643,
          -2.2223297619149793,
          -2.32235991765253,
          -2.855509697843457,
          -2.5465575260324176,
          -4.390841981270522,
          -1.9979610066563254,
          -2.6580981664387595,
          -4.036856674760748,
          -3.5382721332591065,
          -3.199748292548243,
          -3.7516536233280857,
          -3.1397507695447007,
          -3.427580276949199,
          -3.3948826077564065,
          -2.5599245056422544,
          -3.773958024437734,
          -4.0058791828689255,
          -3.5959132317180713,
          -2.8716943128331773,
          -3.2084710008406785,
          -2.920086245066513,
          -2.944061537601493,
          -2.9837316829469342,
          -3.643493056782986,
          -3.852496150450151,
          -2.2352404909234087,
          -4.7730628681563125,
          -4.6740672489542945,
          -4.483481159210386,
          -4.07792420457836,
          -3.36369015667717,
          -1.9035013508131893,
          -2.7227449043036804,
          -2.8659233683878154,
          -4.4587526813602985,
          -4.356025457069334,
          -4.273431609061831,
          -4.649099325863642,
          -4.261840048839494,
          -4.154084601177923,
          -3.933093819379088,
          -2.303795137358553,
          -3.1885204606329514,
          -3.3499147755476435,
          -3.8292593672686537,
          -3.8508165965785666,
          -2.7180483881223974,
          -4.324701569512765,
          -4.021433564913268,
          -4.034664217649091,
          -4.559003246734102,
          -3.3975246234653693,
          -4.389206378444989,
          -3.7615201337172484,
          -3.8832405571318254,
          -3.9168447099832577,
          -3.7337172967230736,
          -3.916152552589004,
          -3.4832977006397234,
          -3.908090826762611,
          -4.56000253893774,
          -4.998193504678217,
          -5.113547667005368,
          -3.9617063824311023,
          -3.906073037269255,
          -3.3597910795287294,
          -2.9305865950914605,
          -3.024778176033534,
          -2.117111799821655,
          -2.0383905558337068,
          -3.7119361994232074,
          -3.210271656968811,
          -3.729009572052733,
          -0.6578042133522165,
          -2.2383463976067666,
          -3.237497145355036,
          -3.7239279441238433,
          -4.014080059946604,
          -3.8116091940011283,
          -3.8336566228377,
          -2.9239822263548914,
          -2.398261846486132,
          -2.7862562236961175,
          -3.290167863926329,
          -3.5094790918537577,
          -2.0654959659445176,
          -2.88725729330244,
          -3.0855449323353024,
          -4.677472116303633,
          -3.7454937740150758,
          -4.49443938040552,
          -4.488659009538255,
          -4.039294136476046,
          -3.142749417568945,
          -4.148439061605845,
          -4.254112485788237,
          -3.8744014030421208,
          -4.263189789397807,
          -4.033925685732924,
          -2.3182254894181087,
          -2.3129294572588526,
          -3.165833690598982,
          -2.6687215417814283,
          -3.982257810731877,
          -4.786749163809883,
          -2.7650730193414574,
          -3.8944597166165233,
          -3.489926095303401,
          -3.763018502463399,
          -2.560503989734724,
          -3.821231192551995,
          -2.9151264662497622,
          -2.2150169759728424,
          -2.749118870168797,
          -2.43921441606982,
          -4.058742815939617,
          -2.757892832857524,
          -4.462926225690209,
          -3.336757147496898,
          -3.594502118071732,
          -4.14271972204265,
          -4.859091684202239,
          -3.610158537636324,
          -4.30049696709501,
          -3.065793162184583,
          -3.092363415813643,
          -3.056133050541484,
          -3.9236019600686483,
          -3.6164539447564437,
          -1.8904787384039263,
          -3.456489287060749,
          -1.1468768278929016,
          -4.327729424131929,
          -2.900302448244351,
          -2.9085886222268544,
          -2.917506471645087,
          -2.884205263492074,
          -5.343384077957051,
          -3.573677145411929,
          -2.7436801308240515,
          -3.1287895248556743,
          -4.9266561416008825,
          -4.7478141376926475,
          -5.239884455120401,
          -4.830462509882979,
          -3.454457941970708,
          -3.6491992329357954,
          -3.0139990601537736,
          -3.5125280466754205,
          -3.4644000979057386,
          -3.496900555223856,
          -4.34140924647882,
          -3.0437173560138535,
          -3.74491015784429,
          -3.483209303175749,
          -2.410263974424506,
          -3.054030812002546,
          -4.9518241606276465,
          -2.7392448933337903,
          -3.8214312031823656,
          -2.6536806730637457,
          -2.87791969535368,
          -3.0249693594520237,
          -2.2003769680058363,
          -3.817615277373205,
          -3.058245173847841,
          -3.473913346172726,
          -3.117736654704494,
          -2.7152650157787477,
          -2.419117514968358,
          -5.268473123903741,
          -5.213799186535739,
          -3.8696377025476187,
          -2.2988349873691964,
          -3.9891264485984212,
          -2.423604471990189,
          -2.506671016055266,
          -3.6153627837439153,
          -2.333108340565603,
          -3.2436682384393194,
          -3.5830866101357115,
          -3.1624572530661985,
          -3.8270440549596128,
          -4.744334809247131,
          -4.5403161396930996,
          -3.1627853545035935,
          -3.323688468489492,
          -3.8794359831903416,
          -3.38099497514531,
          -2.8718265310343805,
          -4.26216674159038,
          -3.9681883268578164,
          -4.15127093716404,
          -4.3405688654352454,
          -4.497520542761125,
          -3.680478343521242,
          -4.033174830483778,
          -3.492174458416973,
          -3.4627225255211176,
          -3.1066576425400085,
          -3.236736896256205,
          -2.5770877239131047,
          -3.943762082373782,
          -4.168566598065646,
          -3.492292151288285,
          -2.947613058646179,
          -2.145292401099626,
          -1.3169894466084426,
          -4.195785020450964,
          -1.9807820069190714,
          -1.9047873490645564,
          -1.5890618745977603,
          -3.3351276363161095,
          -3.0249403006902758,
          -2.6035362166004585,
          -3.3549019266053812,
          -3.3633242862416632,
          -3.0219828410553338,
          -3.3077735267700072,
          -3.510723824546224,
          -3.334199696951688,
          -2.401085368718096,
          -2.582533821486061,
          -2.346402439071802,
          -2.8501906680237887,
          -3.8440331545543085,
          -3.9170574613838864,
          -4.46014829098477,
          -3.3897525023806074,
          -3.484290943396078,
          -4.375474136532904,
          -3.9293382319735946,
          -3.5023526288426288,
          -3.7585968049378593,
          -3.712046254321655,
          -3.328567944532946,
          -3.497251369017516,
          -3.4304184251971774,
          -5.193943066490531,
          -4.653957746195359,
          -4.749974750707159,
          -4.652344259746151,
          -5.142605529663481,
          -5.112607767081509,
          -5.378575430698469,
          -4.506206152983032,
          -4.711709271521004,
          -4.059481964836078,
          -4.217735030669995,
          -3.3195926347171714,
          -1.1675508998643336,
          -5.327554637161388,
          -4.914988163564471,
          -5.001238215965384,
          -4.960790114673517,
          -3.331991255528394,
          -3.7885301431699268,
          -2.414095994813507,
          -3.3465585019149864,
          -4.630997428731426,
          -4.2631046267218595,
          -4.486640185542807,
          -4.321165588684973,
          -3.2995370280701652,
          -3.998945864292065,
          -4.2524623566182695,
          -3.9416636455152814,
          -3.9945701621230296,
          -4.06801927465955,
          -3.142861992700451,
          -4.59973247083301,
          -3.18777646367875,
          -3.1933483523380666,
          -3.3113863742859206,
          -2.483605002965796,
          -2.731306361243162,
          -3.7949576726663508,
          -4.14492832464424,
          -4.452274909563824,
          -3.341841679776394,
          -4.18762327124177,
          -4.36564173968697,
          -3.158290681599791,
          -3.6143057084621706,
          -5.395656578523207,
          -4.034896880907058,
          -2.930647757214477,
          -2.368296828973695,
          -2.757770653787668,
          -2.446464123301486,
          -3.476348498717036,
          -2.777645551356762,
          -4.300733019567041,
          -1.524423337120017,
          -3.7610965874631663,
          -3.5996152986416345,
          -2.8872827299610444,
          -2.8561649671681346,
          -3.1508369536923144,
          -3.8314635192669675,
          -4.267145722733913,
          -4.2403502130036586,
          -5.0356515116971625,
          -4.102551785058945,
          -3.090282720100075,
          -4.8827915468701,
          -2.172318409208266,
          -4.573112830565184,
          -2.2501053775112645,
          -3.7923935081950746,
          -3.0525338672932505,
          -2.908870490268424,
          -2.094279631751183,
          -3.563207158628192,
          -3.2982264232570304,
          -2.958083275172414,
          -3.193113440522335,
          -3.962431358978514,
          -2.789035611686068,
          -3.560444947615752,
          -2.775257145317581,
          -3.7927631941031406,
          -4.42346996292609,
          -3.763018502463399,
          -2.8568724831087704,
          -2.808895437059016,
          -3.909646620269421,
          -3.935997215297169,
          -3.1951451649097913,
          -3.4520165378764696,
          -4.81027966240587,
          -5.201687042921128,
          -4.06064096749077,
          -2.9312513337098047,
          -3.951623954435363,
          -4.055401105505751,
          -4.001947218259602,
          -4.59973247083301,
          -4.719172535576676,
          -3.909646620269421,
          -2.641589753870135,
          -4.219923515338152,
          -4.353365733095613,
          -2.870370911095118,
          -0.9242572596200928,
          -1.8694667252714667,
          -3.842320732617395,
          -3.289029961474089,
          -2.8788692381372036,
          -4.1358294497781225,
          -3.392695351511573,
          -3.200845874174418,
          -2.882012159921239,
          -2.6177606758302994,
          -2.6654790699784643,
          -3.6990915824431645,
          -3.5922979660736747,
          -3.112073962779521,
          -1.8695848311559193,
          -2.3451092914546074,
          -4.398929517393914,
          -1.6821616467622942,
          -2.6797185349718027,
          -3.458174971327741,
          -3.736026131876575,
          -2.8423657772009774,
          -3.2767045479325834,
          -4.385916714478848,
          -2.8418496095296018,
          -4.094394430396245,
          -4.053640446203032,
          -1.642917006078352,
          -3.2287955747895962,
          -4.53076614345485,
          -2.4579676098524166,
          -3.845982036379283,
          -3.717405311215159,
          -4.312075555996365,
          -3.8428250822367884,
          -4.259865633867143,
          -3.7777265511497777,
          -4.075994235651408,
          -3.1203429620661725,
          -4.604051590274228,
          -3.5221443292929298,
          -2.670168538733548,
          -4.881197653499703,
          -4.1004432352126585,
          -2.3550472411026084,
          -3.0728492088408887,
          -3.3566848656259047,
          -2.784761371912244,
          -2.111337862457065,
          -4.095944241881022,
          -4.018940548217729,
          -4.092982243881053,
          -3.537598502261862,
          -3.556632445877053,
          -2.3025745250597676,
          -4.768954638476575,
          -1.7451752767374595,
          -4.409112829979366,
          -4.815877051067615,
          -2.3367612954635533,
          -2.2433242632602806,
          -2.3917688181033347,
          -4.174629372854749,
          -3.9751517085297086,
          -4.431353477947024,
          -3.6951063073625052,
          -2.769007102011911,
          -3.5640608627944013,
          -4.238041377850008,
          -2.542352062668286,
          -3.1819059325297774,
          -4.174320496564974,
          -4.828665697311225,
          -5.182865936952147,
          -1.844049135051868,
          -3.9697939185544944,
          -2.3485449333882,
          -3.744281532382136,
          -4.465686633877077,
          -3.501337583825579,
          -5.292821841454629,
          -4.5765588177642815,
          -4.2555031958569325,
          -1.3989426031669927,
          -3.5313087515874204,
          -3.5953258206928136,
          -2.899155597662945,
          -1.827252168592611,
          -3.7983625400156686,
          -3.722352417587674,
          -4.042020146829154,
          -2.645652875735372,
          -3.432758127277146,
          -2.4352677607116404,
          -2.556249345304592,
          -3.601113053316126,
          -3.2321344165253687,
          -3.530182676485117,
          -3.4962462331981525,
          -3.82885741662363,
          -4.504590680699839,
          -4.316265277101439,
          -5.224129051594785,
          -4.021433564913268,
          -2.7941939271098715,
          -3.779930703147934,
          -3.536183712843748,
          -3.7907879164984783,
          -3.9449328257038263,
          -2.917428627459103,
          -3.4541049582918624,
          -3.2906841156043445,
          -4.253059250634853,
          -2.395816494409537,
          -2.2006118798215715,
          -4.09147465552056,
          -3.8022493578160836,
          -2.7840855152291883,
          -2.873717631956714,
          -3.294779364131756,
          -3.9926173440827406,
          -4.736848068758055,
          -3.8209739016027817,
          -3.5745034407403486,
          -4.043647637532644,
          -3.9880098425147463,
          -3.0299696795497155,
          -4.148794050060447,
          -3.2389340045981565,
          -4.53076614345485,
          -2.9255074583397747,
          -4.396518914897526,
          -4.276573620743128,
          -4.027626158439636,
          -2.472914552209419,
          -1.7231503979978475,
          -4.889632097758781,
          -4.31139844998612,
          -0.9138681355320807,
          -4.0132010085923735,
          -3.9521032919331156,
          -2.8894797666609846,
          -1.5988709116583781,
          -2.336244346677934,
          -4.303164800033458,
          -3.260126409861363,
          -3.377301309552297,
          -2.342893979145601,
          -2.8338929851014822,
          -2.431655473204943,
          -2.467697672787866,
          -2.967901385311764,
          -4.725600065073271,
          -4.541309382449506,
          -4.320120132401888,
          -3.07669643177736,
          -1.8430948406591665,
          -2.6388092971915658,
          -2.6295743735171264,
          -2.420515626371864,
          -4.82079309431898,
          -1.646482667832041,
          -3.5019848076806657,
          -2.7681098810371463,
          -2.2195026225076213,
          -3.895923278366476,
          -4.214867724781279,
          -2.694258471187015,
          -2.6433181980932416,
          -3.724949002338367,
          -3.104949677145402,
          -0.43557899330060484,
          -3.842320732617395,
          -3.0546921118541794,
          -4.202803753283017,
          -3.746008083756084,
          -2.2652776839002984,
          -2.6692873234380934,
          -2.9581725565208203,
          -3.1090174642739217,
          -2.348602657940867,
          -4.477897377454247,
          -3.1835159554921346,
          -3.8175288188716094,
          -2.4605612470845544,
          -2.4780469788168396,
          -3.4554917209308065,
          -3.5764862930801717,
          -2.6941834307535375,
          -2.9873273368853215,
          -3.2655331347506014,
          -3.5953258206928136,
          -3.483827710693902,
          -3.650932981439276,
          -2.761015587670168,
          -4.713274651531797,
          -5.3826549310815865,
          -4.511123397345252,
          -4.714834450853347,
          -4.588655341294626,
          -4.863270543537237,
          -4.589900073987076,
          -5.325245802007737,
          -4.966520979683449,
          -3.6182127934385107,
          -3.969615810167563,
          -3.79335404260135,
          -3.1466500964184267,
          -3.4070140406933977,
          -3.4358721848807163,
          -3.4420345859970136,
          -3.517831423685019,
          -3.9718496306196225,
          -4.022002886068806,
          -3.5586257215173407,
          -2.7237030483675264,
          -2.8172826261263184,
          -4.471155745668912,
          -3.158273788484275,
          -1.862461330457585,
          -3.123143985283571,
          -2.3048606514189576,
          -2.6515059078328793,
          -1.5641040717687376,
          -3.7201144421389913,
          -3.560807886870355,
          -2.0239672271284417,
          -2.699788569268625,
          -2.870542967901091,
          -3.231267784464407,
          -2.6611471212602993,
          -3.5125280466754205,
          -5.018102455452845,
          -4.796933692060174,
          -3.6413419365363424,
          -4.09306492804388,
          -2.7285916271170603,
          -1.8535204090253183,
          -4.082098019754673,
          -3.6800960601887835,
          -1.922937436931968,
          -2.4906656579839748,
          -4.550472507858017,
          -4.313156750730172,
          -3.9664691763306683,
          -3.77200721158644,
          -4.75069259048475,
          -4.970444981289264,
          -4.512609046468118,
          -3.976684190818746,
          -3.4644000979057386,
          -3.29506486055058,
          -4.244931650114537,
          -2.7392634548698274,
          -4.171496200668162,
          -3.358160493487734,
          -4.4573526057774195,
          -4.665437319342952,
          -5.29157355745154,
          -4.752124746415864,
          -3.317967662575215,
          -4.574724336056627,
          -2.0245991270572925,
          -3.6383956409156197,
          -1.9941965625869043,
          -3.533874877690102,
          -3.909646620269421,
          -2.657738064981154,
          -3.862886968873386,
          -2.4789649884828275,
          -3.632892131290113,
          -3.6868795022129963,
          -4.223926500683985,
          -2.519549246129223,
          -3.5856180921042156,
          -2.4572659060536135,
          -2.5838352040926833,
          -2.7697199602482407,
          -4.475482339604175,
          -4.157437286137517,
          -4.399530098471467,
          -4.370115079639473,
          -4.487818964647304,
          -4.762719047235436,
          -5.207785026598215,
          -5.171501057816875,
          -2.916535276470973,
          -4.113517611824791,
          -2.5219234339764993,
          -3.732364828115075,
          -4.34799728235249,
          -4.412085146073104,
          -5.332136074272266,
          -3.756653943425946,
          -4.369086822418137,
          -3.9780842664017437,
          -4.900970201504902,
          -4.142143654485701,
          -3.0716618994384532,
          -4.191364585456456,
          -3.4208171805848746,
          -3.773730877294258,
          -4.239428140488941,
          -4.408441266921506,
          -4.985798249449901,
          -5.107877739972159,
          -4.451301012119309,
          -2.8478466534793365,
          -4.493665687460677,
          -3.576280351327036,
          -2.4899724431669608,
          -3.7435053438536894,
          -3.336665505197438,
          -1.181418856822959,
          -1.6506855675971104,
          -3.544952007228424,
          -3.063124589614987,
          -1.8431760266792976,
          -4.342562141075544,
          -5.0184915379562955,
          -4.015495465486561,
          -2.016380550551523,
          -4.34474430642849,
          -2.9961583281515876,
          -2.6032215010899087,
          -2.2114908448929413,
          -1.8589121817889414,
          -2.478568860573198,
          -4.705072822021525,
          -1.6535544088526057,
          -2.079734157736912,
          -3.125668934665559,
          -2.792112131368011,
          -3.7337172967230736,
          -4.398929517393914,
          -3.707789028597472,
          -2.0299286365826434,
          -3.9630104765299077,
          -3.5799725525320376,
          -3.1446658606080358,
          -4.476557335836121,
          -2.8642916182032505,
          -4.049385729565519,
          -2.9726446458385287,
          -4.390841981270522,
          -4.154084601177923,
          -2.595281173626915,
          -3.1238687616717917,
          -2.988912452909016,
          -3.3575696449897037,
          -2.0309070713839152,
          -2.8237502287555514,
          -3.9834753608197304,
          -3.7528201304843205,
          -2.738403976619583,
          -4.6057673699095565,
          -4.917934459185115,
          -3.8508165965785666,
          -2.161925098674302,
          -2.0965616160775293,
          -2.427935709358421,
          -4.698334156968152,
          -2.7813691759284813,
          -4.3769090553819225,
          -3.810150511702822,
          -4.785161055909092,
          -1.482550491615781,
          -3.8591506246781484,
          -2.32594652945142,
          -3.952056610338288,
          -4.032812192049178,
          -3.9904873307104403,
          -3.957770614544849,
          -4.095661512794417,
          -3.932875221699635,
          -4.454715326868243,
          -5.098261457354524,
          -2.396069529664001,
          -4.649822504947787,
          -4.465686633877077,
          -4.7009938809418745,
          -4.508597672299509,
          -4.845733327605929,
          -3.459105278389497,
          -3.034655316923913,
          -3.725397514162644,
          -3.6572011874598735,
          -3.6990915824431645,
          -4.212183957954873,
          -3.297581176595481,
          -3.374335038893596,
          -4.3461930602234,
          -3.9004756486074954,
          -4.322416847630156,
          -3.185745671967534,
          -4.303164800033458,
          -3.9416636455152814,
          -3.6848952664025703,
          -4.458552944654572,
          -4.800788547360622,
          -4.28828622351784,
          -1.4943992976401723,
          -3.562111980969375,
          -2.679624937100818,
          -3.063538871670675,
          -4.715612270162731,
          -3.8884184074596115,
          -3.9155300234331714,
          -3.7178278349044356,
          -4.440192632036553,
          -4.5832202000176805,
          -4.052553431367378,
          -4.332503692431094,
          -3.852496150450151,
          -3.2351033290332087,
          -4.093250910298028,
          -4.903000475432508,
          -5.257801296150983,
          -4.489776566330528,
          -5.124671738579772,
          -4.8937891194946745,
          -3.8081334518084633,
          -3.5586257215173407,
          -3.7513282546462494,
          -2.4046085941343494,
          -1.4873049938490686,
          -4.090826952595024,
          -4.973041566039801,
          -3.309314490739814,
          -2.978218265751288,
          -3.072340756434711,
          -2.452481753002648,
          -2.1165842263203376,
          -4.638105701096252,
          -3.6625743474884844,
          -2.532437349646558,
          -4.697362961794019,
          -4.653957746195359,
          -4.5389882987762,
          -2.0451736512249985,
          -2.7066422852249765,
          -2.856755936585606,
          -4.287873270918712,
          -4.3461930602234,
          -4.450284225126024,
          -4.789120569324211,
          -3.9506850629886556,
          -4.3461930602234,
          -4.063834582008222,
          -4.752124746415864,
          -3.7722056798349053,
          -3.8076178085592947,
          -2.1022548070501297,
          -2.8083615465152785,
          -2.6466007727656273,
          -3.0984290907890437,
          -4.0571547080388255,
          -3.116807401442659,
          -3.224128767681373,
          -3.5254607097887445,
          -3.619179955109595,
          -3.4552001359508213,
          -3.5555978668982893,
          -3.245741434300189,
          -3.346299049498006,
          -3.441013527782675,
          -4.175965322736376,
          -4.834034148054347,
          -3.9777346673050427,
          -3.7316288763077,
          -4.238041377850008,
          -2.9127232971109565,
          -3.3516399071314367,
          -2.290993032381184,
          -4.279109994491534,
          -2.642786808642289,
          -3.3351276363161095,
          -3.042557554554534,
          -3.352782266125776,
          -3.4220676731914303,
          -3.224613310236433,
          -2.942237721516155,
          -4.89841903832163,
          -4.2476576604676435,
          -3.4865289188449573,
          -3.0369471686482434,
          -2.6941231616927253,
          -3.993196461634316,
          -3.358502388673066,
          -4.1410232358291195,
          -3.5754850952834154,
          -4.011400054183628,
          -4.41312070453594,
          -3.943762082373782,
          -4.6875305649480845,
          -3.200238624602534,
          -5.1844656580992,
          -4.914988163564471,
          -4.3314850115371595,
          -3.947869753064561,
          -4.9518241606276465,
          -2.695624496728447,
          -4.489776566330529,
          -1.1986677749047105,
          -3.352988207878862,
          -3.6943257126035456,
          -3.8726973181370945,
          -3.0706038015919535,
          -4.1705968719932525,
          -2.9207658247617507,
          -3.3167475437190355,
          -3.532078987036039,
          -4.066847075039975,
          -3.8715725790952678,
          -3.9039147927084037,
          -4.228386511234262,
          -4.730134025297737,
          -4.768954638476575,
          -4.682530244850403,
          -5.028868069672768,
          -4.724078243551865,
          -4.858251101337925,
          -4.636618789737208,
          -4.194703825717157,
          -4.86160378629752,
          -4.271456331457129,
          -3.422925730431157,
          -1.9370459158287752,
          -3.5799725525320376,
          -2.0184723379016285,
          -4.431353477947024,
          -4.06064096749077,
          -4.9599017422946075,
          -5.106925567134338,
          -3.8218309503514507,
          -3.9052482995204265,
          -2.2624253101887764,
          -4.641432890106053,
          -4.232125177430266,
          -2.962798857873648,
          -3.9277728519630934,
          -4.173533280641492,
          -4.185239764574191,
          -4.680850690978688,
          -3.6689652501095207,
          -4.223584819099813,
          -3.82885741662363,
          -2.7519500628077784,
          -3.3616523176586752,
          -2.149466871491663,
          -4.358669110105248,
          -2.480888939498038,
          -4.793044570930026,
          -2.8718136930993077,
          -4.164477566000984,
          -4.557667296852476,
          -3.525758699411143,
          -3.6501261893128047,
          -4.025967525137734,
          -3.442374409894739,
          -2.333967044572083,
          -2.3809196524405145,
          -4.214257085119985,
          -5.023133737965166,
          -4.5163012476731215,
          -4.806507886923816,
          -2.7816409898022494,
          -3.8742191396585435,
          -2.341987358282898,
          -2.591837725430387,
          -3.46377669730686,
          -3.196346954508747,
          -5.010247249011152,
          -3.481919537881813,
          -1.8368652641446828,
          -4.027626158439636,
          -3.6255263823739674,
          -3.4637212409095004,
          -1.9947292641820928,
          -4.789120569324211,
          -2.7207785043811024,
          -3.615221987846822,
          -4.819569252272619,
          -4.860489076786782,
          -3.6597424719304565,
          -4.503239882324319,
          -2.110247677229685,
          -4.403711239812156,
          -2.1211599712464384,
          -3.19479514629411,
          -3.38959686108328,
          -3.993196461634316,
          -4.001224636350861,
          -2.40735015629635,
          -2.245214081234482,
          -2.367374985559143,
          -4.13105174400624,
          -3.838010123894406,
          -2.4188608278115087,
          -2.9621885396482592,
          -4.3606918749023,
          -2.997526475786514,
          -4.617593042395789,
          -4.116250391860394,
          -4.192053924257154,
          -3.521778354159738,
          -3.8809194734582424,
          -2.6997334829297075,
          -2.3210132575871563,
          -3.1711905419506436,
          -2.6410383697438577,
          -4.365394621213134,
          -2.8462370660359646,
          -3.4082490757998474,
          -4.651265286951987,
          -3.8409348485121093,
          -3.871510008734581,
          -3.5817053201287488,
          -3.071748357940158,
          -3.585493423846853,
          -3.969473271236207,
          -3.089427346912075,
          -3.2158394629977805,
          -2.9520897123183376,
          -2.64364385739096,
          -4.438313502821711,
          -3.0642835922696983,
          -3.7147944234112233,
          -4.299492320852677,
          -4.031940631509383,
          -4.655565304328267,
          -4.632503534336729,
          -3.8194269704226835,
          -3.4284333153288498,
          -3.8150358021759905,
          -4.677472116303633,
          -5.042331385666558,
          -1.4666404671265723,
          -4.851467659313531,
          -4.9255032470041575,
          -3.848489339781231,
          -3.3449600331620615,
          -4.039294136476046,
          -2.7657106092792363,
          -3.684055573603743,
          -3.6449097549867813,
          -2.697240466234173,
          -2.9622651301511147,
          -2.742727234578325,
          -3.835000781333598,
          -5.342272201256255,
          -4.777132881192248,
          -3.292980536814028,
          -4.091636431542479,
          -4.138172911440144,
          -3.3406173350152213,
          -3.1654712023874536,
          -4.139106792790001,
          -2.28247656761907,
          -3.6555953011046607,
          -2.366423149202567,
          -3.701477964612868,
          -4.4141538177581,
          -3.836925803026299,
          -2.4845522157244058,
          -3.576986034135408,
          -3.5401702848102365,
          -3.848832360768165,
          -2.0440584543432996,
          -1.4876703025490559,
          -4.182584560125217,
          -4.938021020736154,
          -4.943594640648944,
          -4.771013575199978,
          -4.657965620751932,
          -3.2929443883242366,
          -3.446431841566091,
          -3.9009087685039256,
          -4.1705968719932525,
          -3.2171152485175214,
          -3.104362266120112,
          -4.629107476564579,
          -2.974592483889972,
          -2.8935159875944514,
          -2.2727186989371733,
          -3.069929131841746,
          -3.9877613203571993,
          -1.2273538149098842,
          -2.7818368651727017,
          -3.8200646046083433,
          -2.3264667166083313,
          -4.180326370615219,
          -4.805559840515397,
          -3.364502642047652,
          -3.4074281658982595,
          -3.4463609818611958,
          -3.215766083836775,
          -3.076862128899647,
          -4.116679727105341,
          -4.677472116303633,
          -2.8923851535579055,
          -3.556872118984333,
          -3.9170574613838864,
          -3.4179254103334764,
          -4.136924627437055,
          -4.438439029503478,
          -5.506487529809963,
          -4.036367548665875,
          -4.518135729380776,
          -2.7875781711435303,
          -3.947098786792348,
          -3.233915761813998,
          -4.771697739915302,
          -3.107148659390163,
          -3.5799725525320376,
          -3.781686064564794,
          -4.166980956814682,
          -5.33891951629666,
          -3.1410045568463834,
          -4.973041566039801,
          -2.7559457366631226,
          -3.101454133282044,
          -4.117237233820271,
          -4.672354827017635,
          -4.367367671890773,
          -4.848036086849508,
          -2.725795941909716,
          -3.8410934576295683,
          -3.251814999210947,
          -2.710316537999538,
          -3.2240927590194683,
          -4.213951445396556,
          -4.388503529705414,
          -2.141124261798195,
          -3.9663461209939177,
          -3.5680933636557715,
          -4.251197006529197,
          -3.3240505067777493,
          -4.503239882324319,
          -4.3419182509721415,
          -4.922317032519626,
          -4.24282310026825,
          -4.910531181936241,
          -4.518501704514032,
          -3.642807677425613,
          -3.0589315592171764,
          -2.7080330619300432,
          -3.8673288673937596,
          -4.33272974422961,
          -2.7957121616548215,
          -4.19534771582056,
          -2.412130967371435,
          -2.297273862924349,
          -3.523439416315514,
          -2.2018255373162834,
          -3.458107277851176,
          -4.495982673879733,
          -4.5481996547140335,
          -2.8624144086278016,
          -3.2560986540065575,
          -4.630997428731426,
          -5.0006309663935165,
          -2.9607538220981646,
          -2.790462513061034,
          -5.074281579799476,
          -4.091766852518882,
          -0.9256048139642643,
          -4.031940631509383,
          -2.4823997937378874,
          -2.564884384738136,
          -3.451783874618523,
          -3.457298572809232,
          -3.3068905330368272,
          -3.483103633993695,
          -5.267153294105616,
          -2.0710294877228734,
          -3.9808710480925815,
          -2.7285916271170603,
          -2.406502516548574,
          -2.3048606514189576,
          -1.7271099114129664,
          -3.5720890375112058,
          -3.961967512397541,
          -3.003159295735197,
          -4.906028330051672,
          -3.384048365594209,
          -3.757372962891385,
          -4.284139052692039,
          -4.561662970707824,
          -4.632503534336729,
          -2.80625806531798,
          -4.871510396229256,
          -4.507011657806372,
          -4.785161055909092,
          -3.9068962233001185,
          -4.164477566000984,
          -1.3674143994855952,
          -3.628019109199192,
          -2.1114840721756583,
          -4.385916714478848,
          -2.1080162343673154,
          -3.1361699966469874,
          -3.9881632710022688,
          -3.0477713214543263,
          -4.109304768435529,
          -2.4345907245529785,
          -4.617593042395789,
          -3.4334255923132155,
          -3.343907661647372,
          -3.3401470785153777,
          -4.291224604248493,
          -4.221529107034677,
          -2.854016159804226,
          -3.962736253239239,
          -5.189230023649591,
          -4.080994555749089,
          -3.7516536233280857,
          -3.676768871178928,
          -4.500580158350597,
          -4.370799244354797,
          -3.35853017939598,
          -2.8244326544535356,
          -3.4726046317156825,
          -4.574724336056627,
          -3.6305121258946236,
          -3.730522622250954,
          -2.823327797183837,
          -4.855719619369488,
          -3.394114180342584,
          -4.246637395925335,
          -3.378787849442847,
          -3.5367449999588665,
          -4.296464466233513,
          -3.448385618728633,
          -3.9324522895772205,
          -2.1892694234023184,
          -3.8663746178415206,
          -3.469173473272029,
          -2.1144100608436927,
          -4.9463550488358115,
          -4.949098150274539,
          -4.119064055874276,
          -4.073702332839574,
          -3.8009633343312075,
          -4.0071505496885695,
          -4.178625046710097,
          -3.9192216368413964,
          -3.903594145389946,
          -3.80658469533716,
          -3.3165068156544657,
          -3.4244766829460267,
          -4.3222085528172265,
          -4.477093845095618,
          -3.9324522895772205,
          -4.554983096738428,
          -3.0585313549850532,
          -2.7285916271170603,
          -4.629107476564579,
          -3.6383956409156197,
          -2.675423208172543,
          -1.3796310706589074,
          -2.5308376284994973,
          -2.6559072592752813,
          -2.5864288413248175,
          -1.490815415077717,
          -3.695963356111136,
          -4.505129834491166,
          -3.80658469533716,
          -3.157727225956844,
          -3.590267692146035,
          -4.175965322736376,
          -4.070936107104639,
          -4.384262560348587,
          -3.063124589614987,
          -2.9117871320818867,
          -4.57041372733341,
          -4.215233699914534,
          -4.39484222167386,
          -3.9823685620920233,
          -3.246048360476427,
          -2.9387013082751268,
          -3.1534999153292915,
          -3.2036145025037457,
          -2.43921441606982,
          -2.7099708064554497,
          -4.379980080028497,
          -4.823230556034279,
          -3.727186977787135,
          -4.614078780559995,
          -3.470462872694838,
          -3.135285217283201,
          -3.0337096270576613,
          -2.185408597854703,
          -4.066630800568792,
          -4.393013316974173,
          -3.9134265422361367,
          -3.8307300350274143,
          -3.5428635868131066,
          -4.4573526057774195,
          -3.9347733732507746,
          -2.777255428061819,
          -2.200303715794882,
          -1.7976154074293993,
          -3.993196461634316,
          -3.7196024195570896,
          -4.098199521340096,
          -4.496666838595057,
          -4.30049696709501,
          -3.6506063844927716,
          -3.5885098623555804,
          -3.0176684445745368,
          -4.5836406933189515,
          -4.3687435322896615,
          -3.472560394998984,
          -1.8332433175319989,
          -4.111541980978231,
          -2.9878257495987732,
          -4.046526090324747,
          -3.187913211061098,
          -4.284139052692039,
          -3.474458546550216,
          -4.162418629277579,
          -3.432758127277146,
          -3.142672584967731,
          -3.3997218177838304,
          -1.9068389770478207,
          -2.884645206461592,
          -2.7489452153753673,
          -4.6900094568273545,
          -1.9124020544434823,
          -0.740917049158342,
          -2.3434142208790747,
          -4.06064096749077,
          -0.8521197654727403,
          -2.648066706243656,
          -2.3127915187390315,
          -2.6289917858860394,
          -2.745902496960923,
          -3.689928457034528,
          -1.4370537834198298,
          -4.079400662378691,
          -4.481893051309594,
          -3.815796051274928,
          -3.314218109931772,
          -4.582377999091031,
          -5.003054924096521,
          -4.706979244411654,
          -3.111629551114787,
          -3.0257403257243087,
          -3.556632445877053,
          -3.3728323817338284,
          -3.957016913675893,
          -2.740005924363457,
          -2.2064069744271624,
          -1.5914778515835535,
          -1.7391537608616516,
          -2.046703850222467,
          -3.339661596540543,
          -3.5896687553702535,
          -3.981528483597801,
          -3.631505368651031,
          -3.760720517448908,
          -4.105673460440164,
          -3.8453543128192114,
          -2.8797202451334685,
          -3.726193735030745,
          -4.264974387030261,
          -3.0603007560982713,
          -3.2848827906482656,
          -2.221236694954328,
          -3.122258168828906,
          -3.8238242259918747,
          -3.51414550968679,
          -3.521124064750689,
          -2.9382451905916245,
          -3.19560274547751,
          -4.463617962192081,
          -4.394094957194521,
          -4.896881169440238,
          -2.203818812956586,
          -3.38876900228132,
          -3.407544050747678,
          -4.667176976689766,
          -3.344537101039899,
          -4.119064055874276,
          -4.186508561731031,
          -3.371032960983583,
          -3.2855437020221507,
          -3.4418735246124004,
          -4.023989696310136,
          -3.5552471468423676,
          -3.321801024977745,
          -3.3139285922462642,
          -3.2579238430206154,
          -5.144359132196556,
          -4.513843245442512,
          -3.9458505027889417,
          -4.337849098234603,
          -3.031859631716553,
          -2.5680081695118537,
          -2.220353573915144,
          -2.2352404909234087,
          -2.28510971855031,
          -3.7393788168362865,
          -2.394517476790267,
          -2.2464672266339827,
          -4.12584749789867,
          -4.434493610418594,
          -4.259598607159864,
          -3.815796051274928,
          -3.2817773380494906,
          -2.499352760915409,
          -3.188296835150795,
          -1.3463170034928957,
          -2.7801244432360304,
          -2.52443473501441,
          -2.7547984564686963,
          -2.286652460957847,
          -2.89917841206766,
          -3.08570128298921,
          -4.154084601177922,
          -4.640326636049446,
          -2.8603321047881525,
          -3.352988207878862,
          -2.7253863142734893,
          -4.01685212780239,
          -2.4373113106495214,
          -2.429451230925955,
          -3.465639190340555,
          -3.408959456287594,
          -2.63027266513076,
          -3.6397957164984405,
          -2.6092765797318163,
          -1.3863946351626435,
          -2.8320172126836534,
          -2.27188377258732,
          -2.5917287828644775,
          -2.7646826971688694,
          -2.6361389864839184,
          -4.363908972090268,
          -1.2380647496958093,
          -4.168566598065646,
          -1.6534853907120999,
          -2.4643643178168726,
          -3.1834468964995777,
          -2.881130944625783,
          -4.1682757883199475,
          -3.5660817589797786,
          -2.251037269761957,
          -2.622679691825009,
          -3.3810263917428416,
          -2.423327315268815,
          -2.958295819867529,
          -2.982677832787574,
          -3.4115703667045665,
          -2.979555849325314,
          -4.290345160241244,
          -3.664920322258267,
          -4.152210837087898,
          -2.366688607151802,
          -3.355966014924629,
          -2.7476766634681593
         ],
         "xaxis": "x",
         "yaxis": "y"
        },
        {
         "alignmentgroup": "True",
         "bingroup": "x",
         "hovertemplate": "biotype=pseudogene<br>CASP_biorep1a log10=%{x}<br>count=%{y}<extra></extra>",
         "legendgroup": "pseudogene",
         "marker": {
          "color": "#EF553B",
          "opacity": 0.5,
          "pattern": {
           "shape": ""
          }
         },
         "name": "pseudogene",
         "nbinsx": 50,
         "offsetgroup": "pseudogene",
         "orientation": "v",
         "showlegend": true,
         "type": "histogram",
         "x": [
          -3.689928457034528,
          -2.3450098581191656,
          -2.3859113389968094,
          -4.042646821435642
         ],
         "xaxis": "x",
         "yaxis": "y"
        },
        {
         "alignmentgroup": "True",
         "bingroup": "x",
         "hovertemplate": "biotype=tRNA<br>CASP_biorep1a log10=%{x}<br>count=%{y}<extra></extra>",
         "legendgroup": "tRNA",
         "marker": {
          "color": "#00cc96",
          "opacity": 0.5,
          "pattern": {
           "shape": ""
          }
         },
         "name": "tRNA",
         "nbinsx": 50,
         "offsetgroup": "tRNA",
         "orientation": "v",
         "showlegend": true,
         "type": "histogram",
         "x": [
          -4.281002671904318
         ],
         "xaxis": "x",
         "yaxis": "y"
        },
        {
         "alignmentgroup": "True",
         "bingroup": "x",
         "hovertemplate": "biotype=ncRNA<br>CASP_biorep1a log10=%{x}<br>count=%{y}<extra></extra>",
         "legendgroup": "ncRNA",
         "marker": {
          "color": "#ab63fa",
          "opacity": 0.5,
          "pattern": {
           "shape": ""
          }
         },
         "name": "ncRNA",
         "nbinsx": 50,
         "offsetgroup": "ncRNA",
         "orientation": "v",
         "showlegend": true,
         "type": "histogram",
         "x": [
          -2.416394266748232,
          0.2426265201279569,
          -3.289029961474089,
          1.2200178261767523,
          -0.08863415608608555
         ],
         "xaxis": "x",
         "yaxis": "y"
        },
        {
         "alignmentgroup": "True",
         "bingroup": "x",
         "hovertemplate": "biotype=rRNA<br>CASP_biorep1a log10=%{x}<br>count=%{y}<extra></extra>",
         "legendgroup": "rRNA",
         "marker": {
          "color": "#FFA15A",
          "opacity": 0.5,
          "pattern": {
           "shape": ""
          }
         },
         "name": "rRNA",
         "nbinsx": 50,
         "offsetgroup": "rRNA",
         "orientation": "v",
         "showlegend": true,
         "type": "histogram",
         "x": [
          -1.5466287007801656,
          -1.5441385124946667,
          -1.5462648812764535,
          -1.554000199024161,
          -1.565437771563376,
          -1.5427741926353657
         ],
         "xaxis": "x",
         "yaxis": "y"
        }
       ],
       "layout": {
        "barmode": "overlay",
        "legend": {
         "title": {
          "text": "biotype"
         },
         "tracegroupgap": 0
        },
        "margin": {
         "t": 60
        },
        "template": {
         "data": {
          "bar": [
           {
            "error_x": {
             "color": "#2a3f5f"
            },
            "error_y": {
             "color": "#2a3f5f"
            },
            "marker": {
             "line": {
              "color": "#E5ECF6",
              "width": 0.5
             },
             "pattern": {
              "fillmode": "overlay",
              "size": 10,
              "solidity": 0.2
             }
            },
            "type": "bar"
           }
          ],
          "barpolar": [
           {
            "marker": {
             "line": {
              "color": "#E5ECF6",
              "width": 0.5
             },
             "pattern": {
              "fillmode": "overlay",
              "size": 10,
              "solidity": 0.2
             }
            },
            "type": "barpolar"
           }
          ],
          "carpet": [
           {
            "aaxis": {
             "endlinecolor": "#2a3f5f",
             "gridcolor": "white",
             "linecolor": "white",
             "minorgridcolor": "white",
             "startlinecolor": "#2a3f5f"
            },
            "baxis": {
             "endlinecolor": "#2a3f5f",
             "gridcolor": "white",
             "linecolor": "white",
             "minorgridcolor": "white",
             "startlinecolor": "#2a3f5f"
            },
            "type": "carpet"
           }
          ],
          "choropleth": [
           {
            "colorbar": {
             "outlinewidth": 0,
             "ticks": ""
            },
            "type": "choropleth"
           }
          ],
          "contour": [
           {
            "colorbar": {
             "outlinewidth": 0,
             "ticks": ""
            },
            "colorscale": [
             [
              0,
              "#0d0887"
             ],
             [
              0.1111111111111111,
              "#46039f"
             ],
             [
              0.2222222222222222,
              "#7201a8"
             ],
             [
              0.3333333333333333,
              "#9c179e"
             ],
             [
              0.4444444444444444,
              "#bd3786"
             ],
             [
              0.5555555555555556,
              "#d8576b"
             ],
             [
              0.6666666666666666,
              "#ed7953"
             ],
             [
              0.7777777777777778,
              "#fb9f3a"
             ],
             [
              0.8888888888888888,
              "#fdca26"
             ],
             [
              1,
              "#f0f921"
             ]
            ],
            "type": "contour"
           }
          ],
          "contourcarpet": [
           {
            "colorbar": {
             "outlinewidth": 0,
             "ticks": ""
            },
            "type": "contourcarpet"
           }
          ],
          "heatmap": [
           {
            "colorbar": {
             "outlinewidth": 0,
             "ticks": ""
            },
            "colorscale": [
             [
              0,
              "#0d0887"
             ],
             [
              0.1111111111111111,
              "#46039f"
             ],
             [
              0.2222222222222222,
              "#7201a8"
             ],
             [
              0.3333333333333333,
              "#9c179e"
             ],
             [
              0.4444444444444444,
              "#bd3786"
             ],
             [
              0.5555555555555556,
              "#d8576b"
             ],
             [
              0.6666666666666666,
              "#ed7953"
             ],
             [
              0.7777777777777778,
              "#fb9f3a"
             ],
             [
              0.8888888888888888,
              "#fdca26"
             ],
             [
              1,
              "#f0f921"
             ]
            ],
            "type": "heatmap"
           }
          ],
          "heatmapgl": [
           {
            "colorbar": {
             "outlinewidth": 0,
             "ticks": ""
            },
            "colorscale": [
             [
              0,
              "#0d0887"
             ],
             [
              0.1111111111111111,
              "#46039f"
             ],
             [
              0.2222222222222222,
              "#7201a8"
             ],
             [
              0.3333333333333333,
              "#9c179e"
             ],
             [
              0.4444444444444444,
              "#bd3786"
             ],
             [
              0.5555555555555556,
              "#d8576b"
             ],
             [
              0.6666666666666666,
              "#ed7953"
             ],
             [
              0.7777777777777778,
              "#fb9f3a"
             ],
             [
              0.8888888888888888,
              "#fdca26"
             ],
             [
              1,
              "#f0f921"
             ]
            ],
            "type": "heatmapgl"
           }
          ],
          "histogram": [
           {
            "marker": {
             "pattern": {
              "fillmode": "overlay",
              "size": 10,
              "solidity": 0.2
             }
            },
            "type": "histogram"
           }
          ],
          "histogram2d": [
           {
            "colorbar": {
             "outlinewidth": 0,
             "ticks": ""
            },
            "colorscale": [
             [
              0,
              "#0d0887"
             ],
             [
              0.1111111111111111,
              "#46039f"
             ],
             [
              0.2222222222222222,
              "#7201a8"
             ],
             [
              0.3333333333333333,
              "#9c179e"
             ],
             [
              0.4444444444444444,
              "#bd3786"
             ],
             [
              0.5555555555555556,
              "#d8576b"
             ],
             [
              0.6666666666666666,
              "#ed7953"
             ],
             [
              0.7777777777777778,
              "#fb9f3a"
             ],
             [
              0.8888888888888888,
              "#fdca26"
             ],
             [
              1,
              "#f0f921"
             ]
            ],
            "type": "histogram2d"
           }
          ],
          "histogram2dcontour": [
           {
            "colorbar": {
             "outlinewidth": 0,
             "ticks": ""
            },
            "colorscale": [
             [
              0,
              "#0d0887"
             ],
             [
              0.1111111111111111,
              "#46039f"
             ],
             [
              0.2222222222222222,
              "#7201a8"
             ],
             [
              0.3333333333333333,
              "#9c179e"
             ],
             [
              0.4444444444444444,
              "#bd3786"
             ],
             [
              0.5555555555555556,
              "#d8576b"
             ],
             [
              0.6666666666666666,
              "#ed7953"
             ],
             [
              0.7777777777777778,
              "#fb9f3a"
             ],
             [
              0.8888888888888888,
              "#fdca26"
             ],
             [
              1,
              "#f0f921"
             ]
            ],
            "type": "histogram2dcontour"
           }
          ],
          "mesh3d": [
           {
            "colorbar": {
             "outlinewidth": 0,
             "ticks": ""
            },
            "type": "mesh3d"
           }
          ],
          "parcoords": [
           {
            "line": {
             "colorbar": {
              "outlinewidth": 0,
              "ticks": ""
             }
            },
            "type": "parcoords"
           }
          ],
          "pie": [
           {
            "automargin": true,
            "type": "pie"
           }
          ],
          "scatter": [
           {
            "marker": {
             "colorbar": {
              "outlinewidth": 0,
              "ticks": ""
             }
            },
            "type": "scatter"
           }
          ],
          "scatter3d": [
           {
            "line": {
             "colorbar": {
              "outlinewidth": 0,
              "ticks": ""
             }
            },
            "marker": {
             "colorbar": {
              "outlinewidth": 0,
              "ticks": ""
             }
            },
            "type": "scatter3d"
           }
          ],
          "scattercarpet": [
           {
            "marker": {
             "colorbar": {
              "outlinewidth": 0,
              "ticks": ""
             }
            },
            "type": "scattercarpet"
           }
          ],
          "scattergeo": [
           {
            "marker": {
             "colorbar": {
              "outlinewidth": 0,
              "ticks": ""
             }
            },
            "type": "scattergeo"
           }
          ],
          "scattergl": [
           {
            "marker": {
             "colorbar": {
              "outlinewidth": 0,
              "ticks": ""
             }
            },
            "type": "scattergl"
           }
          ],
          "scattermapbox": [
           {
            "marker": {
             "colorbar": {
              "outlinewidth": 0,
              "ticks": ""
             }
            },
            "type": "scattermapbox"
           }
          ],
          "scatterpolar": [
           {
            "marker": {
             "colorbar": {
              "outlinewidth": 0,
              "ticks": ""
             }
            },
            "type": "scatterpolar"
           }
          ],
          "scatterpolargl": [
           {
            "marker": {
             "colorbar": {
              "outlinewidth": 0,
              "ticks": ""
             }
            },
            "type": "scatterpolargl"
           }
          ],
          "scatterternary": [
           {
            "marker": {
             "colorbar": {
              "outlinewidth": 0,
              "ticks": ""
             }
            },
            "type": "scatterternary"
           }
          ],
          "surface": [
           {
            "colorbar": {
             "outlinewidth": 0,
             "ticks": ""
            },
            "colorscale": [
             [
              0,
              "#0d0887"
             ],
             [
              0.1111111111111111,
              "#46039f"
             ],
             [
              0.2222222222222222,
              "#7201a8"
             ],
             [
              0.3333333333333333,
              "#9c179e"
             ],
             [
              0.4444444444444444,
              "#bd3786"
             ],
             [
              0.5555555555555556,
              "#d8576b"
             ],
             [
              0.6666666666666666,
              "#ed7953"
             ],
             [
              0.7777777777777778,
              "#fb9f3a"
             ],
             [
              0.8888888888888888,
              "#fdca26"
             ],
             [
              1,
              "#f0f921"
             ]
            ],
            "type": "surface"
           }
          ],
          "table": [
           {
            "cells": {
             "fill": {
              "color": "#EBF0F8"
             },
             "line": {
              "color": "white"
             }
            },
            "header": {
             "fill": {
              "color": "#C8D4E3"
             },
             "line": {
              "color": "white"
             }
            },
            "type": "table"
           }
          ]
         },
         "layout": {
          "annotationdefaults": {
           "arrowcolor": "#2a3f5f",
           "arrowhead": 0,
           "arrowwidth": 1
          },
          "autotypenumbers": "strict",
          "coloraxis": {
           "colorbar": {
            "outlinewidth": 0,
            "ticks": ""
           }
          },
          "colorscale": {
           "diverging": [
            [
             0,
             "#8e0152"
            ],
            [
             0.1,
             "#c51b7d"
            ],
            [
             0.2,
             "#de77ae"
            ],
            [
             0.3,
             "#f1b6da"
            ],
            [
             0.4,
             "#fde0ef"
            ],
            [
             0.5,
             "#f7f7f7"
            ],
            [
             0.6,
             "#e6f5d0"
            ],
            [
             0.7,
             "#b8e186"
            ],
            [
             0.8,
             "#7fbc41"
            ],
            [
             0.9,
             "#4d9221"
            ],
            [
             1,
             "#276419"
            ]
           ],
           "sequential": [
            [
             0,
             "#0d0887"
            ],
            [
             0.1111111111111111,
             "#46039f"
            ],
            [
             0.2222222222222222,
             "#7201a8"
            ],
            [
             0.3333333333333333,
             "#9c179e"
            ],
            [
             0.4444444444444444,
             "#bd3786"
            ],
            [
             0.5555555555555556,
             "#d8576b"
            ],
            [
             0.6666666666666666,
             "#ed7953"
            ],
            [
             0.7777777777777778,
             "#fb9f3a"
            ],
            [
             0.8888888888888888,
             "#fdca26"
            ],
            [
             1,
             "#f0f921"
            ]
           ],
           "sequentialminus": [
            [
             0,
             "#0d0887"
            ],
            [
             0.1111111111111111,
             "#46039f"
            ],
            [
             0.2222222222222222,
             "#7201a8"
            ],
            [
             0.3333333333333333,
             "#9c179e"
            ],
            [
             0.4444444444444444,
             "#bd3786"
            ],
            [
             0.5555555555555556,
             "#d8576b"
            ],
            [
             0.6666666666666666,
             "#ed7953"
            ],
            [
             0.7777777777777778,
             "#fb9f3a"
            ],
            [
             0.8888888888888888,
             "#fdca26"
            ],
            [
             1,
             "#f0f921"
            ]
           ]
          },
          "colorway": [
           "#636efa",
           "#EF553B",
           "#00cc96",
           "#ab63fa",
           "#FFA15A",
           "#19d3f3",
           "#FF6692",
           "#B6E880",
           "#FF97FF",
           "#FECB52"
          ],
          "font": {
           "color": "#2a3f5f"
          },
          "geo": {
           "bgcolor": "white",
           "lakecolor": "white",
           "landcolor": "#E5ECF6",
           "showlakes": true,
           "showland": true,
           "subunitcolor": "white"
          },
          "hoverlabel": {
           "align": "left"
          },
          "hovermode": "closest",
          "mapbox": {
           "style": "light"
          },
          "paper_bgcolor": "white",
          "plot_bgcolor": "#E5ECF6",
          "polar": {
           "angularaxis": {
            "gridcolor": "white",
            "linecolor": "white",
            "ticks": ""
           },
           "bgcolor": "#E5ECF6",
           "radialaxis": {
            "gridcolor": "white",
            "linecolor": "white",
            "ticks": ""
           }
          },
          "scene": {
           "xaxis": {
            "backgroundcolor": "#E5ECF6",
            "gridcolor": "white",
            "gridwidth": 2,
            "linecolor": "white",
            "showbackground": true,
            "ticks": "",
            "zerolinecolor": "white"
           },
           "yaxis": {
            "backgroundcolor": "#E5ECF6",
            "gridcolor": "white",
            "gridwidth": 2,
            "linecolor": "white",
            "showbackground": true,
            "ticks": "",
            "zerolinecolor": "white"
           },
           "zaxis": {
            "backgroundcolor": "#E5ECF6",
            "gridcolor": "white",
            "gridwidth": 2,
            "linecolor": "white",
            "showbackground": true,
            "ticks": "",
            "zerolinecolor": "white"
           }
          },
          "shapedefaults": {
           "line": {
            "color": "#2a3f5f"
           }
          },
          "ternary": {
           "aaxis": {
            "gridcolor": "white",
            "linecolor": "white",
            "ticks": ""
           },
           "baxis": {
            "gridcolor": "white",
            "linecolor": "white",
            "ticks": ""
           },
           "bgcolor": "#E5ECF6",
           "caxis": {
            "gridcolor": "white",
            "linecolor": "white",
            "ticks": ""
           }
          },
          "title": {
           "x": 0.05
          },
          "xaxis": {
           "automargin": true,
           "gridcolor": "white",
           "linecolor": "white",
           "ticks": "",
           "title": {
            "standoff": 15
           },
           "zerolinecolor": "white",
           "zerolinewidth": 2
          },
          "yaxis": {
           "automargin": true,
           "gridcolor": "white",
           "linecolor": "white",
           "ticks": "",
           "title": {
            "standoff": 15
           },
           "zerolinecolor": "white",
           "zerolinewidth": 2
          }
         }
        },
        "xaxis": {
         "anchor": "y",
         "domain": [
          0,
          1
         ],
         "title": {
          "text": "CASP_biorep1a log10"
         }
        },
        "yaxis": {
         "anchor": "x",
         "domain": [
          0,
          1
         ],
         "title": {
          "text": "count"
         }
        }
       }
      }
     },
     "metadata": {},
     "output_type": "display_data"
    }
   ],
   "source": [
    "MPC_wide.set_index('ID',inplace=True)\n",
    "sample = 'CASP_biorep1a'\n",
    "a = MPC_wide[[sample]].copy()\n",
    "a = a[a[sample]>0]\n",
    "# remove nan values:\n",
    "a = a.dropna()\n",
    "a\n",
    "\n",
    "# remove inf values:\n",
    "a = a[a[sample]!=np.inf]\n",
    "# remove -inf values:\n",
    "a = a[a[sample]!=-np.inf]\n",
    "a[sample+' log10'] = a[sample].apply(lambda x: np.log10(x))\n",
    "a\n",
    "\n",
    "k12_biotypes = pd.read_csv('normalizion_help_functions_and_info_tables/k12_biotype_map.csv')\n",
    "k12_biotypes_map = dict(zip(k12_biotypes['gene'],k12_biotypes['biotype']))\n",
    "k12_biotypes_map['KanR'] = 'protein_coding'\n",
    "k12_biotypes_map['TetR'] = 'protein_coding'\n",
    "k12_biotypes_map['mCherry'] = 'protein_coding'\n",
    "a['biotype'] = a.index.map(k12_biotypes_map)\n",
    "a\n",
    "\n",
    "a = a[~a['biotype'].isna()]\n",
    "px.histogram(a,x=sample+' log10',color='biotype',nbins=50,barmode='overlay')\n"
   ]
  },
  {
   "cell_type": "code",
   "execution_count": 17,
   "metadata": {},
   "outputs": [
    {
     "data": {
      "application/vnd.plotly.v1+json": {
       "config": {
        "plotlyServerURL": "https://plot.ly"
       },
       "data": [
        {
         "alignmentgroup": "True",
         "error_y": {
          "array": [
           28.222661536536567
          ]
         },
         "hovertemplate": "state=%{x}<br>mean molecules per cell=%{y}<extra></extra>",
         "legendgroup": "CASP",
         "marker": {
          "color": "#636efa",
          "pattern": {
           "shape": ""
          }
         },
         "name": "CASP",
         "offsetgroup": "CASP",
         "orientation": "v",
         "showlegend": true,
         "textposition": "auto",
         "type": "bar",
         "x": [
          "CASP"
         ],
         "xaxis": "x",
         "y": [
          48.08714786323757
         ],
         "yaxis": "y"
        },
        {
         "alignmentgroup": "True",
         "error_y": {
          "array": [
           4586.682852183159
          ]
         },
         "hovertemplate": "state=%{x}<br>mean molecules per cell=%{y}<extra></extra>",
         "legendgroup": "Disrupted",
         "marker": {
          "color": "#EF553B",
          "pattern": {
           "shape": ""
          }
         },
         "name": "Disrupted",
         "offsetgroup": "Disrupted",
         "orientation": "v",
         "showlegend": true,
         "textposition": "auto",
         "type": "bar",
         "x": [
          "Disrupted"
         ],
         "xaxis": "x",
         "y": [
          4782.624759257527
         ],
         "yaxis": "y"
        }
       ],
       "layout": {
        "barmode": "group",
        "legend": {
         "title": {
          "text": "state"
         },
         "tracegroupgap": 0
        },
        "margin": {
         "t": 60
        },
        "template": {
         "data": {
          "bar": [
           {
            "error_x": {
             "color": "#2a3f5f"
            },
            "error_y": {
             "color": "#2a3f5f"
            },
            "marker": {
             "line": {
              "color": "#E5ECF6",
              "width": 0.5
             },
             "pattern": {
              "fillmode": "overlay",
              "size": 10,
              "solidity": 0.2
             }
            },
            "type": "bar"
           }
          ],
          "barpolar": [
           {
            "marker": {
             "line": {
              "color": "#E5ECF6",
              "width": 0.5
             },
             "pattern": {
              "fillmode": "overlay",
              "size": 10,
              "solidity": 0.2
             }
            },
            "type": "barpolar"
           }
          ],
          "carpet": [
           {
            "aaxis": {
             "endlinecolor": "#2a3f5f",
             "gridcolor": "white",
             "linecolor": "white",
             "minorgridcolor": "white",
             "startlinecolor": "#2a3f5f"
            },
            "baxis": {
             "endlinecolor": "#2a3f5f",
             "gridcolor": "white",
             "linecolor": "white",
             "minorgridcolor": "white",
             "startlinecolor": "#2a3f5f"
            },
            "type": "carpet"
           }
          ],
          "choropleth": [
           {
            "colorbar": {
             "outlinewidth": 0,
             "ticks": ""
            },
            "type": "choropleth"
           }
          ],
          "contour": [
           {
            "colorbar": {
             "outlinewidth": 0,
             "ticks": ""
            },
            "colorscale": [
             [
              0,
              "#0d0887"
             ],
             [
              0.1111111111111111,
              "#46039f"
             ],
             [
              0.2222222222222222,
              "#7201a8"
             ],
             [
              0.3333333333333333,
              "#9c179e"
             ],
             [
              0.4444444444444444,
              "#bd3786"
             ],
             [
              0.5555555555555556,
              "#d8576b"
             ],
             [
              0.6666666666666666,
              "#ed7953"
             ],
             [
              0.7777777777777778,
              "#fb9f3a"
             ],
             [
              0.8888888888888888,
              "#fdca26"
             ],
             [
              1,
              "#f0f921"
             ]
            ],
            "type": "contour"
           }
          ],
          "contourcarpet": [
           {
            "colorbar": {
             "outlinewidth": 0,
             "ticks": ""
            },
            "type": "contourcarpet"
           }
          ],
          "heatmap": [
           {
            "colorbar": {
             "outlinewidth": 0,
             "ticks": ""
            },
            "colorscale": [
             [
              0,
              "#0d0887"
             ],
             [
              0.1111111111111111,
              "#46039f"
             ],
             [
              0.2222222222222222,
              "#7201a8"
             ],
             [
              0.3333333333333333,
              "#9c179e"
             ],
             [
              0.4444444444444444,
              "#bd3786"
             ],
             [
              0.5555555555555556,
              "#d8576b"
             ],
             [
              0.6666666666666666,
              "#ed7953"
             ],
             [
              0.7777777777777778,
              "#fb9f3a"
             ],
             [
              0.8888888888888888,
              "#fdca26"
             ],
             [
              1,
              "#f0f921"
             ]
            ],
            "type": "heatmap"
           }
          ],
          "heatmapgl": [
           {
            "colorbar": {
             "outlinewidth": 0,
             "ticks": ""
            },
            "colorscale": [
             [
              0,
              "#0d0887"
             ],
             [
              0.1111111111111111,
              "#46039f"
             ],
             [
              0.2222222222222222,
              "#7201a8"
             ],
             [
              0.3333333333333333,
              "#9c179e"
             ],
             [
              0.4444444444444444,
              "#bd3786"
             ],
             [
              0.5555555555555556,
              "#d8576b"
             ],
             [
              0.6666666666666666,
              "#ed7953"
             ],
             [
              0.7777777777777778,
              "#fb9f3a"
             ],
             [
              0.8888888888888888,
              "#fdca26"
             ],
             [
              1,
              "#f0f921"
             ]
            ],
            "type": "heatmapgl"
           }
          ],
          "histogram": [
           {
            "marker": {
             "pattern": {
              "fillmode": "overlay",
              "size": 10,
              "solidity": 0.2
             }
            },
            "type": "histogram"
           }
          ],
          "histogram2d": [
           {
            "colorbar": {
             "outlinewidth": 0,
             "ticks": ""
            },
            "colorscale": [
             [
              0,
              "#0d0887"
             ],
             [
              0.1111111111111111,
              "#46039f"
             ],
             [
              0.2222222222222222,
              "#7201a8"
             ],
             [
              0.3333333333333333,
              "#9c179e"
             ],
             [
              0.4444444444444444,
              "#bd3786"
             ],
             [
              0.5555555555555556,
              "#d8576b"
             ],
             [
              0.6666666666666666,
              "#ed7953"
             ],
             [
              0.7777777777777778,
              "#fb9f3a"
             ],
             [
              0.8888888888888888,
              "#fdca26"
             ],
             [
              1,
              "#f0f921"
             ]
            ],
            "type": "histogram2d"
           }
          ],
          "histogram2dcontour": [
           {
            "colorbar": {
             "outlinewidth": 0,
             "ticks": ""
            },
            "colorscale": [
             [
              0,
              "#0d0887"
             ],
             [
              0.1111111111111111,
              "#46039f"
             ],
             [
              0.2222222222222222,
              "#7201a8"
             ],
             [
              0.3333333333333333,
              "#9c179e"
             ],
             [
              0.4444444444444444,
              "#bd3786"
             ],
             [
              0.5555555555555556,
              "#d8576b"
             ],
             [
              0.6666666666666666,
              "#ed7953"
             ],
             [
              0.7777777777777778,
              "#fb9f3a"
             ],
             [
              0.8888888888888888,
              "#fdca26"
             ],
             [
              1,
              "#f0f921"
             ]
            ],
            "type": "histogram2dcontour"
           }
          ],
          "mesh3d": [
           {
            "colorbar": {
             "outlinewidth": 0,
             "ticks": ""
            },
            "type": "mesh3d"
           }
          ],
          "parcoords": [
           {
            "line": {
             "colorbar": {
              "outlinewidth": 0,
              "ticks": ""
             }
            },
            "type": "parcoords"
           }
          ],
          "pie": [
           {
            "automargin": true,
            "type": "pie"
           }
          ],
          "scatter": [
           {
            "marker": {
             "colorbar": {
              "outlinewidth": 0,
              "ticks": ""
             }
            },
            "type": "scatter"
           }
          ],
          "scatter3d": [
           {
            "line": {
             "colorbar": {
              "outlinewidth": 0,
              "ticks": ""
             }
            },
            "marker": {
             "colorbar": {
              "outlinewidth": 0,
              "ticks": ""
             }
            },
            "type": "scatter3d"
           }
          ],
          "scattercarpet": [
           {
            "marker": {
             "colorbar": {
              "outlinewidth": 0,
              "ticks": ""
             }
            },
            "type": "scattercarpet"
           }
          ],
          "scattergeo": [
           {
            "marker": {
             "colorbar": {
              "outlinewidth": 0,
              "ticks": ""
             }
            },
            "type": "scattergeo"
           }
          ],
          "scattergl": [
           {
            "marker": {
             "colorbar": {
              "outlinewidth": 0,
              "ticks": ""
             }
            },
            "type": "scattergl"
           }
          ],
          "scattermapbox": [
           {
            "marker": {
             "colorbar": {
              "outlinewidth": 0,
              "ticks": ""
             }
            },
            "type": "scattermapbox"
           }
          ],
          "scatterpolar": [
           {
            "marker": {
             "colorbar": {
              "outlinewidth": 0,
              "ticks": ""
             }
            },
            "type": "scatterpolar"
           }
          ],
          "scatterpolargl": [
           {
            "marker": {
             "colorbar": {
              "outlinewidth": 0,
              "ticks": ""
             }
            },
            "type": "scatterpolargl"
           }
          ],
          "scatterternary": [
           {
            "marker": {
             "colorbar": {
              "outlinewidth": 0,
              "ticks": ""
             }
            },
            "type": "scatterternary"
           }
          ],
          "surface": [
           {
            "colorbar": {
             "outlinewidth": 0,
             "ticks": ""
            },
            "colorscale": [
             [
              0,
              "#0d0887"
             ],
             [
              0.1111111111111111,
              "#46039f"
             ],
             [
              0.2222222222222222,
              "#7201a8"
             ],
             [
              0.3333333333333333,
              "#9c179e"
             ],
             [
              0.4444444444444444,
              "#bd3786"
             ],
             [
              0.5555555555555556,
              "#d8576b"
             ],
             [
              0.6666666666666666,
              "#ed7953"
             ],
             [
              0.7777777777777778,
              "#fb9f3a"
             ],
             [
              0.8888888888888888,
              "#fdca26"
             ],
             [
              1,
              "#f0f921"
             ]
            ],
            "type": "surface"
           }
          ],
          "table": [
           {
            "cells": {
             "fill": {
              "color": "#EBF0F8"
             },
             "line": {
              "color": "white"
             }
            },
            "header": {
             "fill": {
              "color": "#C8D4E3"
             },
             "line": {
              "color": "white"
             }
            },
            "type": "table"
           }
          ]
         },
         "layout": {
          "annotationdefaults": {
           "arrowcolor": "#2a3f5f",
           "arrowhead": 0,
           "arrowwidth": 1
          },
          "autotypenumbers": "strict",
          "coloraxis": {
           "colorbar": {
            "outlinewidth": 0,
            "ticks": ""
           }
          },
          "colorscale": {
           "diverging": [
            [
             0,
             "#8e0152"
            ],
            [
             0.1,
             "#c51b7d"
            ],
            [
             0.2,
             "#de77ae"
            ],
            [
             0.3,
             "#f1b6da"
            ],
            [
             0.4,
             "#fde0ef"
            ],
            [
             0.5,
             "#f7f7f7"
            ],
            [
             0.6,
             "#e6f5d0"
            ],
            [
             0.7,
             "#b8e186"
            ],
            [
             0.8,
             "#7fbc41"
            ],
            [
             0.9,
             "#4d9221"
            ],
            [
             1,
             "#276419"
            ]
           ],
           "sequential": [
            [
             0,
             "#0d0887"
            ],
            [
             0.1111111111111111,
             "#46039f"
            ],
            [
             0.2222222222222222,
             "#7201a8"
            ],
            [
             0.3333333333333333,
             "#9c179e"
            ],
            [
             0.4444444444444444,
             "#bd3786"
            ],
            [
             0.5555555555555556,
             "#d8576b"
            ],
            [
             0.6666666666666666,
             "#ed7953"
            ],
            [
             0.7777777777777778,
             "#fb9f3a"
            ],
            [
             0.8888888888888888,
             "#fdca26"
            ],
            [
             1,
             "#f0f921"
            ]
           ],
           "sequentialminus": [
            [
             0,
             "#0d0887"
            ],
            [
             0.1111111111111111,
             "#46039f"
            ],
            [
             0.2222222222222222,
             "#7201a8"
            ],
            [
             0.3333333333333333,
             "#9c179e"
            ],
            [
             0.4444444444444444,
             "#bd3786"
            ],
            [
             0.5555555555555556,
             "#d8576b"
            ],
            [
             0.6666666666666666,
             "#ed7953"
            ],
            [
             0.7777777777777778,
             "#fb9f3a"
            ],
            [
             0.8888888888888888,
             "#fdca26"
            ],
            [
             1,
             "#f0f921"
            ]
           ]
          },
          "colorway": [
           "#636efa",
           "#EF553B",
           "#00cc96",
           "#ab63fa",
           "#FFA15A",
           "#19d3f3",
           "#FF6692",
           "#B6E880",
           "#FF97FF",
           "#FECB52"
          ],
          "font": {
           "color": "#2a3f5f"
          },
          "geo": {
           "bgcolor": "white",
           "lakecolor": "white",
           "landcolor": "#E5ECF6",
           "showlakes": true,
           "showland": true,
           "subunitcolor": "white"
          },
          "hoverlabel": {
           "align": "left"
          },
          "hovermode": "closest",
          "mapbox": {
           "style": "light"
          },
          "paper_bgcolor": "white",
          "plot_bgcolor": "#E5ECF6",
          "polar": {
           "angularaxis": {
            "gridcolor": "white",
            "linecolor": "white",
            "ticks": ""
           },
           "bgcolor": "#E5ECF6",
           "radialaxis": {
            "gridcolor": "white",
            "linecolor": "white",
            "ticks": ""
           }
          },
          "scene": {
           "xaxis": {
            "backgroundcolor": "#E5ECF6",
            "gridcolor": "white",
            "gridwidth": 2,
            "linecolor": "white",
            "showbackground": true,
            "ticks": "",
            "zerolinecolor": "white"
           },
           "yaxis": {
            "backgroundcolor": "#E5ECF6",
            "gridcolor": "white",
            "gridwidth": 2,
            "linecolor": "white",
            "showbackground": true,
            "ticks": "",
            "zerolinecolor": "white"
           },
           "zaxis": {
            "backgroundcolor": "#E5ECF6",
            "gridcolor": "white",
            "gridwidth": 2,
            "linecolor": "white",
            "showbackground": true,
            "ticks": "",
            "zerolinecolor": "white"
           }
          },
          "shapedefaults": {
           "line": {
            "color": "#2a3f5f"
           }
          },
          "ternary": {
           "aaxis": {
            "gridcolor": "white",
            "linecolor": "white",
            "ticks": ""
           },
           "baxis": {
            "gridcolor": "white",
            "linecolor": "white",
            "ticks": ""
           },
           "bgcolor": "#E5ECF6",
           "caxis": {
            "gridcolor": "white",
            "linecolor": "white",
            "ticks": ""
           }
          },
          "title": {
           "x": 0.05
          },
          "xaxis": {
           "automargin": true,
           "gridcolor": "white",
           "linecolor": "white",
           "ticks": "",
           "title": {
            "standoff": 15
           },
           "zerolinecolor": "white",
           "zerolinewidth": 2
          },
          "yaxis": {
           "automargin": true,
           "gridcolor": "white",
           "linecolor": "white",
           "ticks": "",
           "title": {
            "standoff": 15
           },
           "zerolinecolor": "white",
           "zerolinewidth": 2
          }
         }
        },
        "width": 600,
        "xaxis": {
         "anchor": "y",
         "categoryarray": [
          "CASP",
          "Disrupted"
         ],
         "categoryorder": "array",
         "domain": [
          0,
          1
         ],
         "title": {
          "text": "state"
         }
        },
        "yaxis": {
         "anchor": "x",
         "domain": [
          0,
          1
         ],
         "title": {
          "text": "mean molecules per cell"
         },
         "type": "log"
        }
       }
      }
     },
     "metadata": {},
     "output_type": "display_data"
    }
   ],
   "source": [
    "# since there are a lot rRNA, tRNA and ncRNA in the data, we will remove them from the data when calculating the mean molecules per cell:\n",
    "\n",
    "total_MPC = RPK[RPK['biotype']=='protein_coding'].groupby('file')['ERCC normalized data molecules per cell'].sum().reset_index()\n",
    "total_MPC['replicate'] = total_MPC['file'].apply(lambda x: x.split('_')[-1])\n",
    "total_MPC['state'] = total_MPC['file'].apply(lambda x: x.split('_')[0])\n",
    "total_MPC_stats = total_MPC.groupby(['state'])['ERCC normalized data molecules per cell'].mean().reset_index()\n",
    "total_MPC_stats = total_MPC_stats.rename(columns={'ERCC normalized data molecules per cell':'mean molecules per cell'})\n",
    "total_MPC_stats['std molecules per cell'] = total_MPC.groupby(['state'])['ERCC normalized data molecules per cell'].std().reset_index()['ERCC normalized data molecules per cell']\n",
    "# bar plot of the mean molecules per cell:\n",
    "fig = px.bar(total_MPC_stats,x='state',y='mean molecules per cell',error_y='std molecules per cell',color='state',barmode='group',log_y=True,width=600)\n",
    "fig.show()"
   ]
  },
  {
   "cell_type": "code",
   "execution_count": 75,
   "metadata": {},
   "outputs": [
    {
     "data": {
      "text/html": [
       "<div>\n",
       "<style scoped>\n",
       "    .dataframe tbody tr th:only-of-type {\n",
       "        vertical-align: middle;\n",
       "    }\n",
       "\n",
       "    .dataframe tbody tr th {\n",
       "        vertical-align: top;\n",
       "    }\n",
       "\n",
       "    .dataframe thead th {\n",
       "        text-align: right;\n",
       "    }\n",
       "</style>\n",
       "<table border=\"1\" class=\"dataframe\">\n",
       "  <thead>\n",
       "    <tr style=\"text-align: right;\">\n",
       "      <th></th>\n",
       "      <th>state</th>\n",
       "      <th>mean molecules per cell</th>\n",
       "      <th>std molecules per cell</th>\n",
       "    </tr>\n",
       "  </thead>\n",
       "  <tbody>\n",
       "    <tr>\n",
       "      <th>0</th>\n",
       "      <td>CASP</td>\n",
       "      <td>16.856400</td>\n",
       "      <td>20.345888</td>\n",
       "    </tr>\n",
       "    <tr>\n",
       "      <th>1</th>\n",
       "      <td>Disrupted</td>\n",
       "      <td>570.121301</td>\n",
       "      <td>248.273372</td>\n",
       "    </tr>\n",
       "    <tr>\n",
       "      <th>2</th>\n",
       "      <td>EXP</td>\n",
       "      <td>2987.021438</td>\n",
       "      <td>2052.571476</td>\n",
       "    </tr>\n",
       "  </tbody>\n",
       "</table>\n",
       "</div>"
      ],
      "text/plain": [
       "       state  mean molecules per cell  std molecules per cell\n",
       "0       CASP                16.856400               20.345888\n",
       "1  Disrupted               570.121301              248.273372\n",
       "2        EXP              2987.021438             2052.571476"
      ]
     },
     "execution_count": 75,
     "metadata": {},
     "output_type": "execute_result"
    }
   ],
   "source": [
    "total_MPC_stats"
   ]
  },
  {
   "cell_type": "code",
   "execution_count": 55,
   "metadata": {},
   "outputs": [],
   "source": [
    "RPK.groupby('file')['ERCC normalized data molecules per cell'].sum()"
   ]
  },
  {
   "cell_type": "markdown",
   "metadata": {},
   "source": [
    "# Calculate the downsampling normalization"
   ]
  },
  {
   "cell_type": "markdown",
   "metadata": {},
   "source": [
    "This normalizes the data by subsampaling the raw reads.\n",
    "1. Find the sample with the lowest number of mapped reads\n",
    "2. For each sample, subsample the reads to the number of reads in the sample with the lowest number of reads"
   ]
  },
  {
   "cell_type": "code",
   "execution_count": 18,
   "metadata": {},
   "outputs": [
    {
     "name": "stdout",
     "output_type": "stream",
     "text": [
      "The smalest number of reads in a sample is: 0.355808M reads\n"
     ]
    }
   ],
   "source": [
    "# Calculate the total number of raw reads in each sample:\n",
    "min_totl_reads = raw_reads.groupby('file')['data'].sum().min()\n",
    "print('The smalest number of reads in a sample is: ' + str(min_totl_reads/10**6) + 'M reads')\n",
    "\n"
   ]
  },
  {
   "cell_type": "code",
   "execution_count": 19,
   "metadata": {},
   "outputs": [
    {
     "name": "stdout",
     "output_type": "stream",
     "text": [
      "Time it took to resample: CASP_biorep1a is: 0.4377278049786886 minutes\n",
      "Time it took to resample: CASP_biorep1b is: 1.010517172018687 minutes\n",
      "Time it took to resample: CASP_biorep1c is: 0.49286088546117146 minutes\n",
      "Time it took to resample: CASP_biorep2 is: 0.81421826283137 minutes\n",
      "Time it took to resample: CASP_biorep3 is: 1.0314512411753336 minutes\n",
      "Time it took to resample: CASP_biorep4 is: 0.9517118453979492 minutes\n",
      "Time it took to resample: Disrupted_biorep1a is: 1.1312514623006185 minutes\n",
      "Time it took to resample: Disrupted_biorep1b is: 0.9783519705136617 minutes\n",
      "Time it took to resample: Disrupted_biorep1c is: 1.1729070663452148 minutes\n",
      "Time it took to resample: Disrupted_biorep2 is: 1.228201448917389 minutes\n",
      "Time it took to resample: Disrupted_biorep3 is: 1.0167391220728557 minutes\n",
      "Time it took to resample: Disrupted_biorep4 is: 0.08475191990534464 minutes\n"
     ]
    }
   ],
   "source": [
    "# resample the data to the smallest sample size:\n",
    "\n",
    "samples = raw_reads['file'].unique()\n",
    "import time\n",
    "import random\n",
    "\n",
    "\n",
    "# resample the data to the min_totl_reads for each sample\n",
    "resampled_data = pd.DataFrame(columns=raw_reads.columns)\n",
    "for sample in samples:\n",
    "    \n",
    "    #count the minutes it takes to resample\n",
    "    start = time.time()\n",
    "    \n",
    "    this_sample = raw_reads[raw_reads['file']==sample].copy()\n",
    "    \n",
    "    this_sample_resampled = resample(this_sample,'ID','data',min_totl_reads)\n",
    "    stop=time.time()\n",
    "    # convert to minutes\n",
    "    print('Time it took to resample: ' + sample+ ' is: '+ str((stop-start)/60) + ' minutes')\n",
    "\n",
    "\n",
    "    this_sample_resampled['file'] = sample\n",
    "    resampled_data = pd.concat([resampled_data,this_sample_resampled])\n",
    "\n",
    "    # This run could be long, so uncomment the next line if you want to save the data to file after each sample:\n",
    "    # resampled_data.to_csv('Normalized_data_'+Experiment_name+'/downsampled_data_raw_reads_'+Experiment_name+'.csv')\n",
    "\n",
    "resampled_data_wide = resampled_data.pivot(index='ID', columns='file', values='data')\n",
    "resampled_data_wide.to_csv('Normalized_data_'+Experiment_name+'/downsampled_data_raw_reads_'+Experiment_name+'.csv')"
   ]
  },
  {
   "cell_type": "code",
   "execution_count": 20,
   "metadata": {},
   "outputs": [
    {
     "data": {
      "text/plain": [
       "file\n",
       "CASP_biorep1a         355808\n",
       "CASP_biorep1b         355808\n",
       "CASP_biorep1c         355808\n",
       "CASP_biorep2          355808\n",
       "CASP_biorep3          355808\n",
       "CASP_biorep4          355808\n",
       "Disrupted_biorep1a    355808\n",
       "Disrupted_biorep1b    355808\n",
       "Disrupted_biorep1c    355808\n",
       "Disrupted_biorep2     355808\n",
       "Disrupted_biorep3     355808\n",
       "Disrupted_biorep4     355808\n",
       "Name: data, dtype: object"
      ]
     },
     "execution_count": 20,
     "metadata": {},
     "output_type": "execute_result"
    }
   ],
   "source": [
    "resampled_data.groupby('file')['data'].sum()"
   ]
  },
  {
   "cell_type": "code",
   "execution_count": 21,
   "metadata": {},
   "outputs": [
    {
     "name": "stdout",
     "output_type": "stream",
     "text": [
      "Time it took to resample: CASP_biorep1a is: 0.020451549688975015 minutes\n",
      "Time it took to resample: CASP_biorep1b is: 0.011573199431101482 minutes\n",
      "Time it took to resample: CASP_biorep1c is: 0.020639340082804363 minutes\n",
      "Time it took to resample: CASP_biorep2 is: 0.01584238608678182 minutes\n",
      "Time it took to resample: CASP_biorep3 is: 0.015537516276041666 minutes\n",
      "Time it took to resample: CASP_biorep4 is: 0.014946345488230388 minutes\n",
      "Time it took to resample: Disrupted_biorep1a is: 0.01056591272354126 minutes\n",
      "Time it took to resample: Disrupted_biorep1b is: 0.01582869291305542 minutes\n",
      "Time it took to resample: Disrupted_biorep1c is: 0.010354034105936686 minutes\n",
      "Time it took to resample: Disrupted_biorep2 is: 0.009707117080688476 minutes\n",
      "Time it took to resample: Disrupted_biorep3 is: 0.00834198792775472 minutes\n",
      "Time it took to resample: Disrupted_biorep4 is: 0.007475856939951579 minutes\n"
     ]
    }
   ],
   "source": [
    "# resample the ERCC data to the smallest sample size:\n",
    "\n",
    "samples = raw_reads_ERCC['file'].unique()\n",
    "import time\n",
    "import random\n",
    "\n",
    "min_totl_reads = raw_reads_ERCC.groupby('file')['data'].sum().min()\n",
    "\n",
    "# resample the data to the min_totl_reads for each sample\n",
    "resampled_data_ERCC = pd.DataFrame(columns=raw_reads_ERCC.columns)\n",
    "for sample in samples:\n",
    "    \n",
    "    #count the minutes it takes to resample\n",
    "    start = time.time()\n",
    "    \n",
    "    this_sample = raw_reads_ERCC[raw_reads_ERCC['file']==sample].copy()\n",
    "    \n",
    "    this_sample_resampled = resample(this_sample,'ID','data',min_totl_reads)\n",
    "    stop=time.time()\n",
    "    # convert to minutes\n",
    "    print('Time it took to resample: ' + sample+ ' is: '+ str((stop-start)/60) + ' minutes')\n",
    "\n",
    "\n",
    "    this_sample_resampled['file'] = sample\n",
    "    resampled_data_ERCC = pd.concat([resampled_data_ERCC,this_sample_resampled])\n",
    "\n",
    "    # This run could be long, so uncomment the next line if you want to save the data to file after each sample:\n",
    "    # resampled_data.to_csv('Normalized_data_'+Experiment_name+'/downsampled_data_raw_reads_'+Experiment_name+'.csv')\n",
    "\n",
    "resampled_data_ERCC_wide = resampled_data_ERCC.pivot(index='ID', columns='file', values='data')\n",
    "resampled_data_ERCC_wide.to_csv('Normalized_data_'+Experiment_name+'/downsampled_ERCC_data_raw_reads_'+Experiment_name+'.csv')"
   ]
  },
  {
   "cell_type": "markdown",
   "metadata": {},
   "source": [
    "# Calculate the RPK after downsampling normalization"
   ]
  },
  {
   "cell_type": "code",
   "execution_count": 22,
   "metadata": {},
   "outputs": [],
   "source": [
    "# get transcript lengths from the gff file (uncomment if needed, the length are already saved in the file transcript_lengths.csv):\n",
    "\"\"\"\n",
    "import gffpandas.gffpandas as gffpd\n",
    "import pandas as pd\n",
    "\n",
    "gff_file_loc = '..\\Genome_files\\gffFile_combined.gff'\n",
    "transcript_lengths = get_length_from_gff(gff_file_loc)\n",
    "transcript_lengths.to_csv('normalizion_help_functions_and_info_tables/transcript_lengths.csv')\n",
    "\"\"\"\n",
    "\n",
    "# Get the transcript lengths:\n",
    "transcript_lengths = pd.read_csv('normalizion_help_functions_and_info_tables/transcript_lengths.csv')\n",
    "transcript_lengths_map = dict(zip(transcript_lengths['ID'],transcript_lengths['length']))\n",
    "\n",
    "# Calculate the RPK after resampling:\n",
    "resample_RPK = resampled_data.copy()\n",
    "resample_RPK['length'] = resample_RPK['ID'].map(transcript_lengths_map)\n",
    "resample_RPK['RPK'] = resample_RPK['data']/(resample_RPK['length']/1000)\n",
    "\n",
    "# save the RPK after downsampling data to file:\n",
    "resample_RPK_wide = resample_RPK.pivot(index='ID', columns='file', values='RPK')\n",
    "resample_RPK_wide.to_csv('Normalized_data_'+Experiment_name+'/RPK_after_downsample_'+Experiment_name+'.csv')\n"
   ]
  },
  {
   "cell_type": "code",
   "execution_count": 23,
   "metadata": {},
   "outputs": [],
   "source": [
    "# Calculate the RPK after resampling for the ERCC:\n",
    "resample_RPK_ERCC = resampled_data_ERCC.copy()\n",
    "resample_RPK_ERCC['length'] = resample_RPK_ERCC['ID'].map(transcript_lengths_map)\n",
    "resample_RPK_ERCC['RPK'] = resample_RPK_ERCC['data']/(resample_RPK_ERCC['length']/1000)\n",
    "\n",
    "# save the RPK after downsampling data to file for the ERCC:\n",
    "resample_RPK_ERCC_wide = resample_RPK_ERCC.pivot(index='ID', columns='file', values='RPK')\n",
    "resample_RPK_ERCC_wide.to_csv('Normalized_data_'+Experiment_name+'/RPK_after_downsample_ERCC'+Experiment_name+'.csv')\n"
   ]
  },
  {
   "cell_type": "code",
   "execution_count": null,
   "metadata": {},
   "outputs": [],
   "source": []
  },
  {
   "cell_type": "markdown",
   "metadata": {},
   "source": [
    "# Get the mapping statistics"
   ]
  },
  {
   "cell_type": "code",
   "execution_count": null,
   "metadata": {},
   "outputs": [],
   "source": [
    "from glob import glob\n"
   ]
  },
  {
   "cell_type": "code",
   "execution_count": 20,
   "metadata": {},
   "outputs": [
    {
     "data": {
      "text/html": [
       "<div>\n",
       "<style scoped>\n",
       "    .dataframe tbody tr th:only-of-type {\n",
       "        vertical-align: middle;\n",
       "    }\n",
       "\n",
       "    .dataframe tbody tr th {\n",
       "        vertical-align: top;\n",
       "    }\n",
       "\n",
       "    .dataframe thead th {\n",
       "        text-align: right;\n",
       "    }\n",
       "</style>\n",
       "<table border=\"1\" class=\"dataframe\">\n",
       "  <thead>\n",
       "    <tr style=\"text-align: right;\">\n",
       "      <th></th>\n",
       "      <th>file</th>\n",
       "      <th>sample</th>\n",
       "      <th>mapped_percent</th>\n",
       "      <th>total_reads</th>\n",
       "      <th>total_reads[M]</th>\n",
       "      <th>ERCC_raw_reads</th>\n",
       "    </tr>\n",
       "  </thead>\n",
       "  <tbody>\n",
       "    <tr>\n",
       "      <th>0</th>\n",
       "      <td>EXP_biorep1a</td>\n",
       "      <td>EXP_biorep1a</td>\n",
       "      <td>93.51</td>\n",
       "      <td>15156272.0</td>\n",
       "      <td>15.156272</td>\n",
       "      <td>5758917</td>\n",
       "    </tr>\n",
       "    <tr>\n",
       "      <th>1</th>\n",
       "      <td>EXP_biorep1b</td>\n",
       "      <td>EXP_biorep1b</td>\n",
       "      <td>95.34</td>\n",
       "      <td>16363445.0</td>\n",
       "      <td>16.363445</td>\n",
       "      <td>5673464</td>\n",
       "    </tr>\n",
       "    <tr>\n",
       "      <th>2</th>\n",
       "      <td>EXP_biorep1c</td>\n",
       "      <td>EXP_biorep1c</td>\n",
       "      <td>95.29</td>\n",
       "      <td>13657354.0</td>\n",
       "      <td>13.657354</td>\n",
       "      <td>8038146</td>\n",
       "    </tr>\n",
       "    <tr>\n",
       "      <th>3</th>\n",
       "      <td>EXP_biorep2</td>\n",
       "      <td>EXP_biorep2</td>\n",
       "      <td>93.12</td>\n",
       "      <td>17136552.0</td>\n",
       "      <td>17.136552</td>\n",
       "      <td>5642581</td>\n",
       "    </tr>\n",
       "    <tr>\n",
       "      <th>4</th>\n",
       "      <td>EXP_biorep3</td>\n",
       "      <td>EXP_biorep3</td>\n",
       "      <td>96.37</td>\n",
       "      <td>14950780.0</td>\n",
       "      <td>14.950780</td>\n",
       "      <td>6656597</td>\n",
       "    </tr>\n",
       "  </tbody>\n",
       "</table>\n",
       "</div>"
      ],
      "text/plain": [
       "           file        sample mapped_percent  total_reads  total_reads[M]  \\\n",
       "0  EXP_biorep1a  EXP_biorep1a          93.51   15156272.0       15.156272   \n",
       "1  EXP_biorep1b  EXP_biorep1b          95.34   16363445.0       16.363445   \n",
       "2  EXP_biorep1c  EXP_biorep1c          95.29   13657354.0       13.657354   \n",
       "3   EXP_biorep2   EXP_biorep2          93.12   17136552.0       17.136552   \n",
       "4   EXP_biorep3   EXP_biorep3          96.37   14950780.0       14.950780   \n",
       "\n",
       "  ERCC_raw_reads  \n",
       "0        5758917  \n",
       "1        5673464  \n",
       "2        8038146  \n",
       "3        5642581  \n",
       "4        6656597  "
      ]
     },
     "execution_count": 20,
     "metadata": {},
     "output_type": "execute_result"
    }
   ],
   "source": [
    "def get_mapped_percent(metadata):\n",
    "    mapped_percent = metadata.iloc[6].values[0]\n",
    "    return float(mapped_percent.split('%')[0].split('(')[1])\n",
    "\n",
    "def get_total_reads(metadata):\n",
    "    total_reads = metadata.iloc[0].values[0]\n",
    "    return int(total_reads.split(' ')[0])\n",
    "\n",
    "\n",
    "# get all the mapped percents and total reads\n",
    "mapped_metadata = pd.DataFrame(columns=['file','sample','mapped_percent'])\n",
    "name_map = dict(zip(raw_reads['file'],raw_reads['file']))\n",
    "for sample in name_map.keys():\n",
    "    #print(sample)\n",
    "    if sample in ['transcript','gene_biotype','on_plasmid']:\n",
    "        continue\n",
    "\n",
    "    aligned_folder = counts_file_path.split('\\\\')[:-2] + ['aligned'] + ['log']\n",
    "    # concatenate the list of strings to a single string with a separator '\\\\':\n",
    "    aligned_folder = '\\\\'.join(aligned_folder)\n",
    "    log_file_locs = aligned_folder + '\\\\' + sample + '_samtools_flagstat.txt'\n",
    "    metadata = pd.read_csv(log_file_locs,header=None)\n",
    "    mapped_metadata = pd.concat([mapped_metadata,pd.DataFrame({'file':sample,'sample':sample,'mapped_percent':get_mapped_percent(metadata),'total_reads':get_total_reads(metadata),'total_reads[M]':get_total_reads(metadata)/10**6},index=[0])])\n",
    "\n",
    "# add the total reads to the mapped to ERCC data and percent of ERCC data\n",
    "ERCC_sum_raw_reads = raw_reads_ERCC.groupby('file')['data'].sum().reset_index()\n",
    "ERCC_sum_raw_reads.rename(columns={'data':'ERCC_raw_reads','file':'sample'}, inplace=True)\n",
    "mapped_metadata = pd.merge(mapped_metadata, ERCC_sum_raw_reads, on='sample')\n",
    "\n",
    "\"\"\"\n",
    "mapped_metadata['ERCC_mapped_percent'] = mapped_metadata['ERCC_raw_reads']/mapped_metadata['total_reads']*100\n",
    "# total reads without ERCC\n",
    "#mapped_metadata['total_reads_minus_total_reads_ERCC_mapped'] = mapped_metadata['total_reads']*mapped_metadata['mapped_percent'] - mapped_metadata['ERCC_raw_reads']\n",
    "\"\"\"\n",
    "mapped_metadata"
   ]
  },
  {
   "cell_type": "code",
   "execution_count": null,
   "metadata": {},
   "outputs": [],
   "source": []
  }
 ],
 "metadata": {
  "kernelspec": {
   "display_name": "base",
   "language": "python",
   "name": "python3"
  },
  "language_info": {
   "codemirror_mode": {
    "name": "ipython",
    "version": 3
   },
   "file_extension": ".py",
   "mimetype": "text/x-python",
   "name": "python",
   "nbconvert_exporter": "python",
   "pygments_lexer": "ipython3",
   "version": "3.9.12"
  }
 },
 "nbformat": 4,
 "nbformat_minor": 2
}
