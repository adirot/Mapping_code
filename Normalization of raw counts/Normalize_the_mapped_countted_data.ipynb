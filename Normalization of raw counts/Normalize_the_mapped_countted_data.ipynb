{
 "cells": [
  {
   "cell_type": "code",
   "execution_count": 1,
   "metadata": {},
   "outputs": [],
   "source": [
    "import pandas as pd\n",
    "import numpy as np\n",
    "from glob import glob\n",
    "import os\n",
    "\n",
    "# needed only for plotting\n",
    "import plotly.express as px\n",
    "import plotly.graph_objects as go"
   ]
  },
  {
   "cell_type": "code",
   "execution_count": 2,
   "metadata": {},
   "outputs": [
    {
     "data": {
      "text/plain": [
       "'\\nThis code is used to normalize the mapped and counted reads in all the ways presented in the paper (except for the DEseq2 normalization, which is done in R,see code in this folder). \\n\\n1. Normalize by ERCC spike-ins \\n2. Calculate the RPK\\n3. Remove transcript below the detection limit\\n4. Normalize by downsampling to the lowest number of mapped reads\\n5. Normalize by downsampling to the lowest number of mapped reads and then calculating the RPK\\n'"
      ]
     },
     "execution_count": 2,
     "metadata": {},
     "output_type": "execute_result"
    }
   ],
   "source": [
    "\"\"\"\n",
    "This code is used to normalize the mapped and counted reads in all the ways presented in the paper (except for the DEseq2 normalization, which is done in R,see code in this folder). \n",
    "\n",
    "1. Normalize by ERCC spike-ins \n",
    "2. Calculate the RPK\n",
    "3. Remove transcript below the detection limit\n",
    "4. Normalize by downsampling to the lowest number of mapped reads\n",
    "5. Normalize by downsampling to the lowest number of mapped reads and then calculating the RPK\n",
    "\"\"\""
   ]
  },
  {
   "cell_type": "markdown",
   "metadata": {},
   "source": [
    "# Helper functions\n"
   ]
  },
  {
   "cell_type": "code",
   "execution_count": 3,
   "metadata": {},
   "outputs": [],
   "source": [
    "# for htseq file reading:\n",
    "\n",
    "def load_count_files(file_name_map,columns = ['ID','data']):\n",
    "    # load all count files, and make a long-format pandas array with all data.\n",
    "    # input is a list of dict with file location as keys and the sample names as values. All files are need to be in the htseq output format (tsv).\n",
    "    # output is a pandas array of all data in one long table, where each row is a transcript from one sample.\n",
    "    # 'file' column is added to indicate which file the data is from. \n",
    "    # columns is a list of column names for the output table (default: ['ID','data'])\n",
    "    \n",
    "    \n",
    "    raw_reads = pd.DataFrame(columns=columns)\n",
    "    for file in file_name_map.keys():\n",
    "             \n",
    "        this_pd = load_count_file(file,columns = columns)\n",
    "        this_pd['file'] = file_name_map[file]\n",
    "        raw_reads = pd.concat([raw_reads,this_pd])\n",
    "    \n",
    "    # remove statistics lines from htseq output\n",
    "    stat_lines = ['__no_feature', '__ambiguous', '__too_low_aQual', '__not_aligned',\n",
    "       '__alignment_not_unique']\n",
    "    raw_reads = raw_reads[~raw_reads.isin(stat_lines).any(axis=1)]\n",
    "\n",
    "    return raw_reads\n",
    "\n",
    "def load_count_file(count_file, columns = ['ID','data']):\n",
    "    # load the countsfile from location count_file \n",
    "    # input is a count file created by htseq (tsv) \n",
    "    # output is a pandas array of counts data with columns as specified in columns (default: ['ID','data'])\n",
    "    raw_reads = pd.read_csv(count_file,sep='\\t',header = None,names = columns)\n",
    "    \n",
    "    return raw_reads\n",
    "\n",
    "# for ERCC normalization:\n",
    "\n",
    "def get_ERCC_concentration(ERCC_info,mix):\n",
    "    # mix = 1,2,none. get concentration data in attomoles/ul from the correct mix.\n",
    "    col_name = 'concentration_in_Mix_' + str(int(mix)) + '_attomoles/ul'\n",
    "    concentration_map = dict(zip(ERCC_info['ERCC_ID'],ERCC_info[col_name]))\n",
    "    return concentration_map\n",
    "\n",
    "def calculate_ERCC_attomoles_in_sample(RPK_ERCC,sample_data_loc,ERCC_info_loc):\n",
    "    # This function calculates the ERCC attomoles in each sample according to the following formula: \n",
    "    # ERCC attomoles in sample = ERCC concentration * ul ERCC added to sample / ERCC dilution\n",
    "    # The results are added to the RPK_ERCC dataFrame in the column 'ERCC_attomoles_in_sample'.\n",
    "\n",
    "    # RPK_ERCC: a pandas array with the ERCC RPK data. This should be in long format, with the following columns:\n",
    "        # file: sample name\n",
    "        # ID: transcript name\n",
    "        # RPK: RPK data\n",
    "    # sample_data_loc should contain a csv file with the following columns:\n",
    "        # file: sample name\n",
    "        # mix: ERCC mix in sample (1 or 2)\n",
    "        # ul_ERCC_added_to_sample: ul ERCC added to sample (from ERCC dilution from original stock)\n",
    "        # ERCC_dilution: the ERCC dilution from the original stock.\n",
    "            # for example if ERCC was diluted 1:40 and 1.3ul were added from this dilution to the sample \n",
    "            # we set: ul_ERCC_added_to_sample = 1.3, ERCC_dilution = 40.\n",
    "        # may contain additional columns, this will not change the output.\n",
    "\n",
    "    samples = list(set(RPK_ERCC['file']))\n",
    "    # load samples metadata: how much ERCC was added to each sample, from which dilution, etc.\n",
    "    sample_data_pd = pd.read_csv(sample_data_loc)\n",
    "\n",
    "    # Load the ERCC metadata:\n",
    "    ERCC_info = pd.read_csv(ERCC_info_loc)\n",
    "\n",
    "    # define the ERCC mix in each sample:\n",
    "    mix_map = dict(zip(sample_data_pd['file'],sample_data_pd['mix']))\n",
    "\n",
    "    # define the amount of ERCC added to each sample (ul):\n",
    "    ul_ERCC_added_to_sample_map = dict(zip(sample_data_pd['file'],sample_data_pd['ul_ERCC_added_to_sample']))\n",
    "\n",
    "    # define the ERCC dilution from the original stock: (1:40 would be 40)\n",
    "    ERCC_dilution_map = dict(zip(sample_data_pd['file'],sample_data_pd['ERCC_dilution']))\n",
    "\n",
    "    # load ERCC concentration data for each sample (from the right mix):\n",
    "    concentration_map = {sample: get_ERCC_concentration(ERCC_info,mix) for sample,mix in mix_map.items()}\n",
    "\n",
    "    def add_concentration_data_to_pd(RPK_ERCC,concentration_map):\n",
    "        # add ERCC concentration data to the RPK_ERCC dataFrame.\n",
    "        # concentration_map is a dict with sample names as keys and ERCC concentration data as values.\n",
    "        RPK_ERCC['file_ID'] = RPK_ERCC['file'] + '_' + RPK_ERCC['ID']\n",
    "        new_concentration_map = {}\n",
    "        for sample,concentration in concentration_map.items():\n",
    "            new_concentration_map.update({sample + '_' + ERCC: concentration[ERCC] for ERCC in concentration.keys()})\n",
    "        RPK_ERCC['ERCC_concentration'] = RPK_ERCC['file_ID'].map(new_concentration_map)\n",
    "        RPK_ERCC = RPK_ERCC.drop(columns=['file_ID'])\n",
    "        return RPK_ERCC\n",
    "\n",
    "    # add all the metadata to the ERCC dataFrame:\n",
    "    RPK_ERCC['ul_ERCC_added_to_sample'] = RPK_ERCC['file'].map(ul_ERCC_added_to_sample_map)\n",
    "    RPK_ERCC['ERCC_dilution'] = RPK_ERCC['file'].map(ERCC_dilution_map)\n",
    "    RPK_ERCC = add_concentration_data_to_pd(RPK_ERCC,concentration_map)\n",
    "\n",
    "    # calculate the ERCC attomoles in each sample:\n",
    "    RPK_ERCC['ERCC_attomoles_in_sample'] = RPK_ERCC['ERCC_concentration'] * RPK_ERCC['ul_ERCC_added_to_sample'] / RPK_ERCC['ERCC_dilution']\n",
    "    return RPK_ERCC\n",
    "\n",
    "def find_ERCC_normalization_parameters(ERCC_RPK,x_DL_map,ignore_ERCCs=[]):\n",
    "    # find the normalization parameters for each sample (file) using the ERCC spike-ins.\n",
    "    # This function linear fits: log(RPK) = m*log(ERCC_attomoles_in_sample) + c\n",
    "    # Where RPK is measured in the sample, and ERCC_attomoles_in_sample is the ERCC attomoles in the sample as calculated by the mix known properties (see the function calculate_ERCC_attomoles_in_sample).\n",
    "    # ERCC_RPK: a pandas array with the ERCC RPK data. This should be in long format, with the following columns:\n",
    "        # file: sample name\n",
    "        # ID: transcript name\n",
    "        # data: RPK data\n",
    "        # ERCC_attomoles_in_sample: ERCC attomoles in sample (calculated by the function calculate_ERCC_attomoles_in_sample)\n",
    "    # x_DL_map: a dict with sample names as keys and the chosen lower limit of the ERCC_attomoles_in_sample data obove wich to do the fit as values.\n",
    "    \n",
    "    # ignore_ERCCs: list of transcript names to ignore, for example: ['ERCC-00002','ERCC-00003']. \n",
    "\n",
    "    # output: parameter_map: a dict with sample names as keys and the fit parameters as values. \n",
    "    # if the fit fails, the parameters are set to 0 and the r2 to the error message.\n",
    "\n",
    "    def log_transform_and_fit(x_data,y_data):\n",
    "        \n",
    "        # log transforms x_data and y_data, and does a linear fit \n",
    "        # input: x_data,y_data numpy arrays. \n",
    "        # output: m,c are the fit parameters: log(y_data) = m*log(x_data)+c\n",
    "        #        r2 is r-squared of the fit\n",
    "\n",
    "        x_fit = x_data\n",
    "        y_fit = y_data\n",
    "        x_fit = x_fit[y_fit > 0] # remove transcript if no reads were detected\n",
    "        y_fit = y_fit[y_fit > 0]\n",
    "\n",
    "\n",
    "        XYlog = np.vstack([np.log(x_fit.astype('double')),np.ones(len(x_fit))]).T\n",
    "        y_data_log = np.log(y_fit.astype('double'))\n",
    "        model, resid = np.linalg.lstsq(XYlog, y_data_log, rcond=None)[:2]\n",
    "        m, c = model\n",
    "        r2 = 1 - resid / (y_data_log.size * y_data_log.var())\n",
    "        r2 = r2[0]\n",
    "        \n",
    "        return m, c, r2\n",
    "\n",
    "\n",
    "    # remove ERCCs to ignore:\n",
    "    ERCC_pd_for_fit = ERCC_RPK[~ERCC_RPK['ID'].isin(ignore_ERCCs)].copy()\n",
    "    \n",
    "    # find normalization parameters for each sample (file)\n",
    "    parameter_map = {} \n",
    "    samples = list(set(ERCC_pd_for_fit['file']))       \n",
    "    for sample in samples:\n",
    "        this_data = ERCC_pd_for_fit[ERCC_pd_for_fit['file']==sample]\n",
    "        x_data = this_data['ERCC_attomoles_in_sample']\n",
    "        y_data = this_data['RPK']\n",
    "        \n",
    "        # only use data above the chosen lower limit:\n",
    "        y_data = y_data[this_data['RPK']>x_DL_map[sample]]\n",
    "        x_data = x_data[this_data['RPK']>x_DL_map[sample]]\n",
    "        \n",
    "        try:\n",
    "            m, c, r2 = log_transform_and_fit(x_data,y_data)\n",
    "            parameter_map[sample] = {'m':m, 'c':c, 'r2': r2}        \n",
    "        except Exception as e:\n",
    "            # if the fit fails, set the parameters to 0 and the r2 to the error message.\n",
    "            parameter_map[sample] = {'m':0, 'c':0, 'r2': str(e)}\n",
    "\n",
    "    return parameter_map \n",
    "\n",
    "def plot_ERCC_linear_fit(RPK_ERCC,file,parameter_map,x_DL_map,ignore_ERCCs=[]):\n",
    "    \n",
    "    # plot the ERCC RPK Vs ERCC attomoles in sample, and add the fit.\n",
    "    # RPK_ERCC: a pandas array with the ERCC RPK data. This should be in long format, with the following columns:\n",
    "        # file: sample name\n",
    "        # ID: transcript name\n",
    "        # data: RPK data\n",
    "        # ERCC_attomoles_in_sample: ERCC attomoles in sample (calculated by the function calculate_ERCC_attomoles_in_sample)\n",
    "    # file: the sample name to plot\n",
    "    # parameter_map: a dict with sample names as keys and the fit parameters as values. This is the output of the function find_ERCC_normalization_parameters.\n",
    "    # x_DL_map: a dict with sample names as keys and the chosen lower limit of the ERCC_attomoles_in_sample data obove wich the fit was done as values.\n",
    "    # ignore_ERCCs: list of transcript that were ignored, for example: ['ERCC-00002','ERCC-00003'].\n",
    "\n",
    "    # output: a plotly figure with the ERCC RPK Vs ERCC attomoles in sample, and the fit, in log-log scale. the fit parameters are added to the figure. the ignored ERCCs are marked in red.\n",
    "\n",
    "    def plot_ERCC_RPK_Vs_ERCC_attomoles_in_sample(RPK_ERCC):\n",
    "        fig = px.scatter(RPK_ERCC,x='ERCC_attomoles_in_sample',\n",
    "                        y='RPK',log_x=True,log_y=True,\n",
    "                        color = 'in_fit',\n",
    "                     hover_name='ID',width=2000,height=600)\n",
    "        #plot(fig)\n",
    "        fig.update_layout(font_size=24)\n",
    "        return fig\n",
    "    \n",
    "    def my_fig_annotation_box(fig,text,alignto='left',\n",
    "                          x=0,xanchor='left'):\n",
    "        # text is a list of strings with text lines\n",
    "        i = 0\n",
    "        for line in text:\n",
    "            fig.add_annotation(\n",
    "                    text=line,\n",
    "                    align=alignto,\n",
    "                    showarrow=False,\n",
    "                    xref='paper',\n",
    "                    yref='paper',\n",
    "                    xanchor = xanchor,\n",
    "                    x=x,\n",
    "                    y=1-0.1*i,\n",
    "                    bordercolor='black',\n",
    "                    borderwidth=1)\n",
    "            i+=1\n",
    "        return fig \n",
    "\n",
    "    ERCC_pd = RPK_ERCC[RPK_ERCC['file'] == file]\n",
    "    ERCC_pd['in_fit'] = ERCC_pd['ID'].apply(lambda x: 'in fit' if x not in ignore_ERCCs else 'not in fit')\n",
    "    \n",
    "    \n",
    "    fig = plot_ERCC_RPK_Vs_ERCC_attomoles_in_sample(ERCC_pd)\n",
    "    \n",
    "    max_x = max(ERCC_pd['ERCC_attomoles_in_sample'])\n",
    "    \n",
    "    # add fit line:\n",
    "    m = parameter_map[file]['m']\n",
    "    c = parameter_map[file]['c']\n",
    "    r2 = parameter_map[file]['r2']\n",
    "    x=np.array([x_DL_map[file],max_x])\n",
    "    fig.add_trace(go.Scatter(x=x,y=np.exp(c)*x**m,mode='lines',name=file))\n",
    "    \n",
    "    if not isinstance(r2, str):\n",
    "        r2 = format(r2, '.2f')\n",
    "    \n",
    "    # add fit info\n",
    "    fit_text = ['fit of log(y) Vs log(x), paremeters: log(y) = m*log(x)+c',\n",
    "                'fit in the range ERCC attomoles in sample [' + format(x_DL_map[file],'.2f') + ',' + format(max_x, '.2f') + ']',\n",
    "                'the slop in log scale: m = ' + format(m, '.2f'),\n",
    "                'the intercept in log scale: c = ' + format(c, '.2f'),'',\n",
    "                'log(y) = m*log(x)+c --> y = e^c * x^m',\n",
    "                'the slope in linear scale: e^c = ' + format(np.exp(c), '.2E'),\n",
    "                'R^2 = ' + r2,'',\n",
    "                'ERCCs with no reads detected', ' not fitted and not shown']\n",
    "    fig = my_fig_annotation_box(fig,fit_text,x=0.4,xanchor='left')\n",
    "    fig.update_xaxes(range=[-3, 15])\n",
    "    \n",
    "    return fig\n",
    "\n",
    "def get_length_from_gff(gff_file_loc):\n",
    "    # Load the gff file:\n",
    "    gff_file = gffpd.read_gff3(gff_file_loc)\n",
    "    gff_file.df = gff_file.df[gff_file.df['type']=='gene']\n",
    "    gff_file.df['name'] = gff_file.df['attributes'].apply(lambda x: x.split('Name=')[1].split(';')[0])\n",
    "\n",
    "    # get the transcript lengths (if a gene has multiple annotated transcripts, the sum of the lengths of all transcripts is taken. This happens in our gff only of RelA, since it has an insertion):\n",
    "    length_map = {gene:0 for gene in gff_file.df['name']}\n",
    "    for row in gff_file.df.iterrows():\n",
    "        this_row = row[1]\n",
    "        this_gene = this_row['name']\n",
    "        this_length = this_row['end'] - this_row['start']+1\n",
    "        length_map[this_gene] += this_length\n",
    "    transcript_lengths = pd.DataFrame.from_dict(length_map,orient='index')\n",
    "    transcript_lengths['ID'] = transcript_lengths.index\n",
    "    transcript_lengths.columns = ['length','ID']\n",
    "    return transcript_lengths\n",
    "\n",
    "def get_product_info_from_gff(gff_file_loc):\n",
    "    # Load the gff file:\n",
    "    gff_file = gffpd.read_gff3(gff_file_loc)\n",
    "    gff_file_CDS = gff_file.df[gff_file.df['type']=='CDS']\n",
    "    gff_file_CDS['product'] = gff_file_CDS['attributes'].apply(lambda x: x.split('product=')[1].split(';')[0])\n",
    "    gff_file_CDS['Parent'] = gff_file_CDS['attributes'].apply(lambda x: x.split('Parent=')[1].split(';')[0] )\n",
    "    gff_file_CDS['Source: Product'] = gff_file_CDS['source'] + ': ' + gff_file_CDS['product']\n",
    "    ID_product_map = dict(zip(gff_file_CDS['Parent'],gff_file_CDS['Source: Product']))\n",
    "    gff_file_gene = gff_file.df[gff_file.df['type']=='gene']\n",
    "    gff_file_gene = gff_file_gene[gff_file_gene['attributes'].str.contains('ID=')]\n",
    "    gff_file_gene['ID'] = gff_file_gene['attributes'].apply(lambda x: x.split('ID=')[1].split(';')[0])\n",
    "    gff_file_gene['Name'] = gff_file_gene['attributes'].apply(lambda x: x.split('Name=')[1].split(';')[0])\n",
    "    ID_name_map = dict(zip(gff_file_gene['ID'],gff_file_gene['Name']))\n",
    "    gene_product_map = {}\n",
    "    for id in ID_product_map.keys():\n",
    "        #print(id)\n",
    "        \n",
    "        if id in ID_name_map.keys():\n",
    "            gene_product_map[ID_name_map[id]] = ID_product_map[id]\n",
    "        \n",
    "    \n",
    "    return gene_product_map\n",
    "\n",
    "# Help functions for the resampling normalization:\n",
    "def create_resample_data(data,read_name_col,data_col):\n",
    "    # data is a dataframe with a column of read names and a column of data\n",
    "    # read_name_col is the name of the column with the read names\n",
    "    # data_col is the name of the column with the data\n",
    "    data_for_sampling = []\n",
    "    read_names = data[read_name_col]\n",
    "    for ele in read_names:\n",
    "        data_ele = list(data[data[read_name_col]==ele][data_col])[0]\n",
    "        # make a list of ele repeated as the number of times the read repeats\n",
    "        l2append = [ele]*data_ele\n",
    "        data_for_sampling = data_for_sampling + l2append\n",
    "    return data_for_sampling\n",
    "\n",
    "# a function to subsample the data of one sample to the min_reads\n",
    "def resample(data,read_name_col,data_col,samples):\n",
    "    # data is a dataframe with a column of read names and a column of data\n",
    "    # read_name_col is the name of the column with the read names\n",
    "    # data_col is the name of the column with the data\n",
    "    # samples is the number of samples to take\n",
    "\n",
    "    # create a list of all the reads in the data, each read repeated as the number of times it was counted\n",
    "    data_for_sampling = create_resample_data(data,read_name_col,data_col)\n",
    "\n",
    "    # resample the data\n",
    "    resampled_data = pd.DataFrame(columns=[read_name_col,data_col])\n",
    "    resampled_data[read_name_col] = data[read_name_col].copy()\n",
    "    #resampled_data[data_col] = 0\n",
    "    transcripts = list(set(resampled_data[read_name_col]))\n",
    "    count_dict = {t:0 for t in transcripts}\n",
    "    for s in range(samples):\n",
    "        chosen = random.choice(data_for_sampling)\n",
    "        count_dict[chosen] = count_dict[chosen]+1\n",
    "        #resampled_data.loc[resampled_data[read_name_col]==chosen,data_col] = resampled_data[resampled_data[read_name_col]==chosen][data_col] \n",
    "    resampled_data[data_col] = resampled_data[read_name_col].map(count_dict)\n",
    "    return resampled_data"
   ]
  },
  {
   "cell_type": "markdown",
   "metadata": {},
   "source": [
    "# Load the raw counts"
   ]
  },
  {
   "cell_type": "code",
   "execution_count": 4,
   "metadata": {},
   "outputs": [
    {
     "data": {
      "text/plain": [
       "array(['CASP_biorep1a', 'CASP_biorep1b', 'CASP_biorep1c', 'CASP_biorep2',\n",
       "       'CASP_biorep3', 'CASP_biorep4', 'Disrupted_biorep1a',\n",
       "       'Disrupted_biorep1b', 'Disrupted_biorep1c', 'Disrupted_biorep2',\n",
       "       'Disrupted_biorep3', 'Disrupted_biorep4'], dtype=object)"
      ]
     },
     "execution_count": 4,
     "metadata": {},
     "output_type": "execute_result"
    }
   ],
   "source": [
    "# set the experiment name:\n",
    "Experiment_name = 'Experiment1'\n",
    "#Experiment_name = 'Experiment2'\n",
    "#Experiment_name = 'Exponential'\n",
    "# This code will go to the folder: ..\\map_count_outputs\\\"Experiment_name\"\\counts\\ and load all count files.\n",
    "\n",
    "# get the names of all count files:\n",
    "counts_file_path = '..\\\\map_count_outputs\\\\'+Experiment_name+'\\\\counts\\\\'\n",
    "count_files = glob(counts_file_path+'*.tsv')\n",
    "file_sample_map = {file:os.path.basename(file).split('.')[0] for file in count_files if ('reverse' not in file) and ('intergenic' not in file) and ('pseudogene' not in file) and ('notstranded' not in file)} # No need for reverse mapping\n",
    "\n",
    "\n",
    "# load the count files:\n",
    "raw_reads = load_count_files(file_sample_map,['ID','data'])\n",
    "# separate the ERCC spike-ins from the rest of the data:\n",
    "raw_reads_ERCC = raw_reads[raw_reads['ID'].str.contains('ERCC')]\n",
    "raw_reads = raw_reads[~raw_reads['ID'].str.contains('ERCC')]\n",
    "\n",
    "\n",
    "\n",
    "raw_reads['file'].unique()"
   ]
  },
  {
   "cell_type": "code",
   "execution_count": 13,
   "metadata": {},
   "outputs": [
    {
     "name": "stderr",
     "output_type": "stream",
     "text": [
      "C:\\Users\\adiro\\AppData\\Local\\Temp\\ipykernel_40068\\2061613557.py:258: SettingWithCopyWarning:\n",
      "\n",
      "\n",
      "A value is trying to be set on a copy of a slice from a DataFrame.\n",
      "Try using .loc[row_indexer,col_indexer] = value instead\n",
      "\n",
      "See the caveats in the documentation: https://pandas.pydata.org/pandas-docs/stable/user_guide/indexing.html#returning-a-view-versus-a-copy\n",
      "\n",
      "C:\\Users\\adiro\\AppData\\Local\\Temp\\ipykernel_40068\\2061613557.py:259: SettingWithCopyWarning:\n",
      "\n",
      "\n",
      "A value is trying to be set on a copy of a slice from a DataFrame.\n",
      "Try using .loc[row_indexer,col_indexer] = value instead\n",
      "\n",
      "See the caveats in the documentation: https://pandas.pydata.org/pandas-docs/stable/user_guide/indexing.html#returning-a-view-versus-a-copy\n",
      "\n",
      "C:\\Users\\adiro\\AppData\\Local\\Temp\\ipykernel_40068\\2061613557.py:260: SettingWithCopyWarning:\n",
      "\n",
      "\n",
      "A value is trying to be set on a copy of a slice from a DataFrame.\n",
      "Try using .loc[row_indexer,col_indexer] = value instead\n",
      "\n",
      "See the caveats in the documentation: https://pandas.pydata.org/pandas-docs/stable/user_guide/indexing.html#returning-a-view-versus-a-copy\n",
      "\n"
     ]
    }
   ],
   "source": [
    "\n",
    "# add gene product information from the gff file (can be commented out if not needed):\n",
    "import gffpandas.gffpandas as gffpd\n",
    "import pandas as pd\n",
    "gff_file_loc = '..\\Genome_files\\gffFile_combined.gff'\n",
    "product_map = get_product_info_from_gff(gff_file_loc)\n",
    "raw_reads['source: product'] = raw_reads['ID'].map(product_map)\n",
    "\n",
    "\n"
   ]
  },
  {
   "cell_type": "markdown",
   "metadata": {},
   "source": [
    "# Calculate the ERCC normalization"
   ]
  },
  {
   "cell_type": "markdown",
   "metadata": {},
   "source": [
    "To clculate the ERCC normalization:\n",
    "1. Calculate the RPK (reads per kilobase) for each gene and each ERCC spike-in according to the formula:\n",
    "$$RPK=\\frac{reads\\ aligned\\ to\\ transcript}{transcript\\ length / 1000}$$\n",
    "2. Find the attomols of ERCC added to each sample according to the formula:\n",
    "$$attomoles\\ per\\ sample\\ ERCC=\\frac{\\mu l\\ ERCC\\ added \\cdot attomole\\ per\\ \\mu l\\ in\\ ERCC\\ mix}{dilution\\ of\\ ERCC\\ Mix}$$\n",
    "(For example, in our setup we added 1.3 ul of ERCC mix1 to each sample from a 1:40 dilution of mix1. In that case $\\mu l\\ ERCC\\ added=1.3$ and $dilution\\ of\\ ERCC\\ Mix=40$. The attomole per $\\mu l$ in ERCC mix1for each transcript is taken from the ERCC datasheet)\n",
    "\n",
    "3. Linear Fit log(RPK) Vs log(ERCC attomoles in sample), to get the parameters of normalization for each sample, with the parameters:\n",
    "$$\\log (RPK\\ ERCC) =m\\cdot\\log (attomoles\\ per\\ sample\\ ERCC) +c$$\n",
    "The fit is for data in range attomole per sample >0.01. Two ERCCs that were always problematic (never on the linear trend) were removed from the fit.\n",
    "    We also Plot RPK as a function of attomoles in sample for each sample for ERCC transcripts. ERCCs removed from the fit are marked in red.\n",
    "\n",
    "4. Use m,c for each sample to find the attomoles per sample of all transcripts:\n",
    "$$attomoles\\ per\\ sample\\ =e^{-\\frac{c}{m}}\\cdot (RPK)^{\\frac{1}{m}}$$\n",
    "\n",
    "5. To estimate the number of transcripts per cell, we normalize each sample by the number of cells in that sample (calculated using CFU counts). To find an estimate the number of cells in each sample, we plated the cells before sample collection, and found the CFU per ml. By knowing the volume of the sample, we then calculate the number of cells in the sample. The number of cells in each sample is given in the CSV file in the folder \"Experiment metadata\" under the column \"Number of cells in sample\":\n",
    "\n",
    "$$attomoles\\ per\\ cell\\ =\\frac{attomoles\\ per\\ sample\\ }{cells\\ in\\ sample}$$\n",
    "\n",
    "6. The ERCC normalization requaieres another fix. Since the total RNA amount per cell change sligtly between samples, this creates a larger CV then the true CV. To minimize this effect, we assume that all samples of the same condition have the same total RNA amount per cell. This is similar to the sequencing depth cortrection done by DESeq2. To do this, we calculate the mean of total molecules per cell in each condition. We then normalize each sample by it's total, and then multiply by the mean totals in all conditions."
   ]
  },
  {
   "cell_type": "code",
   "execution_count": 14,
   "metadata": {},
   "outputs": [],
   "source": [
    "# get transcript lengths from the gff file (uncomment if needed, the length are already saved in the file transcript_lengths.csv):\n",
    "\"\"\"\n",
    "import gffpandas.gffpandas as gffpd\n",
    "import pandas as pd\n",
    "\n",
    "gff_file_loc = '..\\Genome_files\\gffFile_combined.gff'\n",
    "transcript_lengths = get_length_from_gff(gff_file_loc)\n",
    "transcript_lengths.to_csv('normalizion_help_functions_and_info_tables/transcript_lengths.csv')\n",
    "\"\"\"\n",
    "\n",
    "\n",
    "# Get the transcript lengths:\n",
    "transcript_lengths = pd.read_csv('normalizion_help_functions_and_info_tables/transcript_lengths.csv')\n",
    "transcript_lengths_map = dict(zip(transcript_lengths['ID'],transcript_lengths['length']))\n",
    "\n",
    "# Calculate the RPK:\n",
    "RPK = raw_reads.copy()\n",
    "RPK['length'] = RPK['ID'].map(transcript_lengths_map)\n",
    "RPK['RPK'] = RPK['data']/(RPK['length']/1000)\n",
    "RPK = RPK.drop(columns=['data'])\n",
    "\n",
    "# Calculate the RPK for the ERCC spike-ins:\n",
    "RPK_ERCC = raw_reads_ERCC.copy()\n",
    "RPK_ERCC['length'] = RPK_ERCC['ID'].map(transcript_lengths_map)\n",
    "RPK_ERCC['RPK'] = RPK_ERCC['data']/(RPK_ERCC['length']/1000)\n",
    "RPK_ERCC = RPK_ERCC.drop(columns=['data'])\n",
    "\n",
    "\n"
   ]
  },
  {
   "cell_type": "code",
   "execution_count": 15,
   "metadata": {},
   "outputs": [
    {
     "data": {
      "text/plain": [
       "{'Disrupted_biorep1a': {'m': 0.9912814866885004,\n",
       "  'c': 6.133681687752506,\n",
       "  'r2': 0.9671374429389816},\n",
       " 'Disrupted_biorep2': {'m': 0.9770832006868032,\n",
       "  'c': 5.844344425251942,\n",
       "  'r2': 0.9702719711572231},\n",
       " 'Disrupted_biorep3': {'m': 0.9560903734214022,\n",
       "  'c': 5.786210027857781,\n",
       "  'r2': 0.9532805971140725},\n",
       " 'CASP_biorep3': {'m': 0.9893746210619769,\n",
       "  'c': 6.817603351757707,\n",
       "  'r2': 0.9678673015541115},\n",
       " 'CASP_biorep1a': {'m': 0.9926203592150387,\n",
       "  'c': 7.186296097096157,\n",
       "  'r2': 0.9728729693023916},\n",
       " 'CASP_biorep1c': {'m': 0.9810653979662296,\n",
       "  'c': 7.2286311842887905,\n",
       "  'r2': 0.9731861715697676},\n",
       " 'CASP_biorep1b': {'m': 0.9827380810235988,\n",
       "  'c': 6.36947742366267,\n",
       "  'r2': 0.9729653214098541},\n",
       " 'CASP_biorep4': {'m': 0.9994356852708378,\n",
       "  'c': 6.739996111223491,\n",
       "  'r2': 0.9680413717596051},\n",
       " 'Disrupted_biorep1c': {'m': 0.9645119868848481,\n",
       "  'c': 6.092382275228463,\n",
       "  'r2': 0.963027935622581},\n",
       " 'Disrupted_biorep4': {'m': 1.0077200531333208,\n",
       "  'c': 7.073439583670285,\n",
       "  'r2': 0.9646362010511675},\n",
       " 'CASP_biorep2': {'m': 0.9846284629786842,\n",
       "  'c': 6.83732021982415,\n",
       "  'r2': 0.9719791901673394},\n",
       " 'Disrupted_biorep1b': {'m': 1.005565995851349,\n",
       "  'c': 6.794672090108757,\n",
       "  'r2': 0.9648309590064221}}"
      ]
     },
     "execution_count": 15,
     "metadata": {},
     "output_type": "execute_result"
    }
   ],
   "source": [
    "# calculate the ERCC attomoles in each sample:\n",
    "sample_data_loc = '..//Experiment metadata//'+Experiment_name+'.csv'\n",
    "ERCC_info_loc = 'normalizion_help_functions_and_info_tables/ERCC_info.csv'\n",
    "\n",
    "RPK_ERCC = calculate_ERCC_attomoles_in_sample(RPK_ERCC,sample_data_loc,ERCC_info_loc)\n",
    "\n",
    "# Calculate the ERCC normalization parameters for each sample:\n",
    "\n",
    "# set the limit of ERCC attomoles in sample above which the fit will be done: \n",
    "samples = list(set(RPK_ERCC['file']))\n",
    "x_DL_map = {sample:0.01 for sample in samples}\n",
    "\n",
    "# set the ERCCs to ignore in the fit (this on transcript has a bias - it's never on the linear trend ):\n",
    "ignore_ERCCs = ['ERCC-00054']\n",
    "\n",
    "parameter_map = find_ERCC_normalization_parameters(RPK_ERCC,x_DL_map,ignore_ERCCs)\n",
    "parameter_map"
   ]
  },
  {
   "cell_type": "code",
   "execution_count": 16,
   "metadata": {},
   "outputs": [
    {
     "data": {
      "text/html": [
       "<div>\n",
       "<style scoped>\n",
       "    .dataframe tbody tr th:only-of-type {\n",
       "        vertical-align: middle;\n",
       "    }\n",
       "\n",
       "    .dataframe tbody tr th {\n",
       "        vertical-align: top;\n",
       "    }\n",
       "\n",
       "    .dataframe thead th {\n",
       "        text-align: right;\n",
       "    }\n",
       "</style>\n",
       "<table border=\"1\" class=\"dataframe\">\n",
       "  <thead>\n",
       "    <tr style=\"text-align: right;\">\n",
       "      <th></th>\n",
       "      <th>file</th>\n",
       "      <th>m</th>\n",
       "      <th>c</th>\n",
       "    </tr>\n",
       "  </thead>\n",
       "  <tbody>\n",
       "    <tr>\n",
       "      <th>0</th>\n",
       "      <td>Disrupted_biorep1a</td>\n",
       "      <td>0.991281</td>\n",
       "      <td>6.133682</td>\n",
       "    </tr>\n",
       "    <tr>\n",
       "      <th>1</th>\n",
       "      <td>Disrupted_biorep2</td>\n",
       "      <td>0.977083</td>\n",
       "      <td>5.844344</td>\n",
       "    </tr>\n",
       "    <tr>\n",
       "      <th>2</th>\n",
       "      <td>Disrupted_biorep3</td>\n",
       "      <td>0.956090</td>\n",
       "      <td>5.786210</td>\n",
       "    </tr>\n",
       "    <tr>\n",
       "      <th>3</th>\n",
       "      <td>CASP_biorep3</td>\n",
       "      <td>0.989375</td>\n",
       "      <td>6.817603</td>\n",
       "    </tr>\n",
       "    <tr>\n",
       "      <th>4</th>\n",
       "      <td>CASP_biorep1a</td>\n",
       "      <td>0.992620</td>\n",
       "      <td>7.186296</td>\n",
       "    </tr>\n",
       "    <tr>\n",
       "      <th>5</th>\n",
       "      <td>CASP_biorep1c</td>\n",
       "      <td>0.981065</td>\n",
       "      <td>7.228631</td>\n",
       "    </tr>\n",
       "    <tr>\n",
       "      <th>6</th>\n",
       "      <td>CASP_biorep1b</td>\n",
       "      <td>0.982738</td>\n",
       "      <td>6.369477</td>\n",
       "    </tr>\n",
       "    <tr>\n",
       "      <th>7</th>\n",
       "      <td>CASP_biorep4</td>\n",
       "      <td>0.999436</td>\n",
       "      <td>6.739996</td>\n",
       "    </tr>\n",
       "    <tr>\n",
       "      <th>8</th>\n",
       "      <td>Disrupted_biorep1c</td>\n",
       "      <td>0.964512</td>\n",
       "      <td>6.092382</td>\n",
       "    </tr>\n",
       "    <tr>\n",
       "      <th>9</th>\n",
       "      <td>Disrupted_biorep4</td>\n",
       "      <td>1.007720</td>\n",
       "      <td>7.073440</td>\n",
       "    </tr>\n",
       "    <tr>\n",
       "      <th>10</th>\n",
       "      <td>CASP_biorep2</td>\n",
       "      <td>0.984628</td>\n",
       "      <td>6.837320</td>\n",
       "    </tr>\n",
       "    <tr>\n",
       "      <th>11</th>\n",
       "      <td>Disrupted_biorep1b</td>\n",
       "      <td>1.005566</td>\n",
       "      <td>6.794672</td>\n",
       "    </tr>\n",
       "  </tbody>\n",
       "</table>\n",
       "</div>"
      ],
      "text/plain": [
       "                  file         m         c\n",
       "0   Disrupted_biorep1a  0.991281  6.133682\n",
       "1    Disrupted_biorep2  0.977083  5.844344\n",
       "2    Disrupted_biorep3  0.956090  5.786210\n",
       "3         CASP_biorep3  0.989375  6.817603\n",
       "4        CASP_biorep1a  0.992620  7.186296\n",
       "5        CASP_biorep1c  0.981065  7.228631\n",
       "6        CASP_biorep1b  0.982738  6.369477\n",
       "7         CASP_biorep4  0.999436  6.739996\n",
       "8   Disrupted_biorep1c  0.964512  6.092382\n",
       "9    Disrupted_biorep4  1.007720  7.073440\n",
       "10        CASP_biorep2  0.984628  6.837320\n",
       "11  Disrupted_biorep1b  1.005566  6.794672"
      ]
     },
     "execution_count": 16,
     "metadata": {},
     "output_type": "execute_result"
    }
   ],
   "source": [
    "parameter_map_pd = pd.DataFrame()\n",
    "parameter_map_pd['file'] = list(parameter_map.keys())\n",
    "parameter_map_pd['m'] = [parameter_map[file]['m'] for file in parameter_map_pd['file']]\n",
    "parameter_map_pd['c'] = [parameter_map[file]['c'] for file in parameter_map_pd['file']]\n",
    "parameter_map_pd.to_csv('exp.csv')\n",
    "parameter_map_pd"
   ]
  },
  {
   "cell_type": "code",
   "execution_count": 17,
   "metadata": {},
   "outputs": [
    {
     "name": "stderr",
     "output_type": "stream",
     "text": [
      "C:\\Users\\adiro\\AppData\\Local\\Temp\\ipykernel_40068\\2061613557.py:205: SettingWithCopyWarning:\n",
      "\n",
      "\n",
      "A value is trying to be set on a copy of a slice from a DataFrame.\n",
      "Try using .loc[row_indexer,col_indexer] = value instead\n",
      "\n",
      "See the caveats in the documentation: https://pandas.pydata.org/pandas-docs/stable/user_guide/indexing.html#returning-a-view-versus-a-copy\n",
      "\n"
     ]
    },
    {
     "data": {
      "application/vnd.plotly.v1+json": {
       "config": {
        "plotlyServerURL": "https://plot.ly"
       },
       "data": [
        {
         "hovertemplate": "<b>%{hovertext}</b><br><br>in_fit=in fit<br>ERCC_attomoles_in_sample=%{x}<br>RPK=%{y}<extra></extra>",
         "hovertext": [
          "ERCC-00002",
          "ERCC-00003",
          "ERCC-00004",
          "ERCC-00009",
          "ERCC-00012",
          "ERCC-00013",
          "ERCC-00014",
          "ERCC-00016",
          "ERCC-00017",
          "ERCC-00019",
          "ERCC-00022",
          "ERCC-00024",
          "ERCC-00025",
          "ERCC-00028",
          "ERCC-00031",
          "ERCC-00033",
          "ERCC-00034",
          "ERCC-00035",
          "ERCC-00039",
          "ERCC-00040",
          "ERCC-00041",
          "ERCC-00042",
          "ERCC-00043",
          "ERCC-00044",
          "ERCC-00046",
          "ERCC-00048",
          "ERCC-00051",
          "ERCC-00053",
          "ERCC-00057",
          "ERCC-00058",
          "ERCC-00059",
          "ERCC-00060",
          "ERCC-00061",
          "ERCC-00062",
          "ERCC-00067",
          "ERCC-00069",
          "ERCC-00071",
          "ERCC-00073",
          "ERCC-00074",
          "ERCC-00075",
          "ERCC-00076",
          "ERCC-00077",
          "ERCC-00078",
          "ERCC-00079",
          "ERCC-00081",
          "ERCC-00083",
          "ERCC-00084",
          "ERCC-00085",
          "ERCC-00086",
          "ERCC-00092",
          "ERCC-00095",
          "ERCC-00096",
          "ERCC-00097",
          "ERCC-00098",
          "ERCC-00099",
          "ERCC-00104",
          "ERCC-00108",
          "ERCC-00109",
          "ERCC-00111",
          "ERCC-00112",
          "ERCC-00113",
          "ERCC-00116",
          "ERCC-00117",
          "ERCC-00120",
          "ERCC-00123",
          "ERCC-00126",
          "ERCC-00130",
          "ERCC-00131",
          "ERCC-00134",
          "ERCC-00136",
          "ERCC-00137",
          "ERCC-00138",
          "ERCC-00142",
          "ERCC-00143",
          "ERCC-00144",
          "ERCC-00145",
          "ERCC-00147",
          "ERCC-00148",
          "ERCC-00150",
          "ERCC-00154",
          "ERCC-00156",
          "ERCC-00157",
          "ERCC-00158",
          "ERCC-00160",
          "ERCC-00162",
          "ERCC-00163",
          "ERCC-00164",
          "ERCC-00165",
          "ERCC-00168",
          "ERCC-00170",
          "ERCC-00171"
         ],
         "legendgroup": "in fit",
         "marker": {
          "color": "#636efa",
          "symbol": "circle"
         },
         "mode": "markers",
         "name": "in fit",
         "orientation": "h",
         "showlegend": true,
         "type": "scatter",
         "x": [
          487.5,
          30.46875,
          243.75,
          30.46875,
          0.0037193299,
          0.02975463855,
          0.11901855485000001,
          0.0074386598,
          0.0037193299,
          0.9521484375,
          7.6171875,
          0.0074386598,
          1.904296875,
          0.11901855485000001,
          0.05950927742500001,
          0.05950927742500001,
          0.238037109375,
          3.80859375,
          0.11901855485000001,
          0.02975463855,
          0.0074386598,
          15.234375,
          15.234375,
          3.80859375,
          121.875,
          0.0004649164,
          1.904296875,
          0.9521484375,
          0.0004649164,
          0.05950927742500001,
          0.47607421875,
          7.6171875,
          0.00185966495,
          1.904296875,
          0.11901855485000001,
          0.05950927742500001,
          1.904296875,
          0.02975463855,
          487.5,
          0.0004649164,
          7.6171875,
          0.11901855485000001,
          0.9521484375,
          1.904296875,
          0.0074386598,
          0.000929832475,
          0.9521484375,
          0.238037109375,
          0.0037193299,
          7.6171875,
          3.80859375,
          487.5,
          0.014877319275,
          0.00185966495,
          0.47607421875,
          0.0074386598,
          30.46875,
          0.02975463855,
          15.234375,
          3.80859375,
          121.875,
          15.234375,
          0.00185966495,
          0.02975463855,
          0.0074386598,
          0.47607421875,
          975,
          3.80859375,
          0.05950927742500001,
          60.9375,
          0.02975463855,
          0.0037193299,
          0.0074386598,
          0.11901855485000001,
          0.9521484375,
          30.46875,
          0.02975463855,
          0.47607421875,
          0.11901855485000001,
          0.238037109375,
          0.014877319275,
          0.238037109375,
          0.014877319275,
          0.238037109375,
          1.904296875,
          0.47607421875,
          0.014877319275,
          1.904296875,
          0.014877319275,
          0.47607421875,
          121.875
         ],
         "xaxis": "x",
         "y": [
          238347.7851083883,
          23994.134897360706,
          158435.9464627151,
          13004.065040650406,
          4.0241448692152915,
          8.663366336633663,
          45.477772100153295,
          4.739336492890995,
          3.5211267605633805,
          551.2422360248447,
          2989.3475366178427,
          5.597014925373134,
          1161.985957873621,
          44.247787610619476,
          22.847100175746927,
          9.891196834817015,
          308.1452404317959,
          1492.920353982301,
          52.7027027027027,
          9.408602150537634,
          2.67379679144385,
          9930.596285434996,
          5724.34017595308,
          1771.6262975778548,
          77775.8620689655,
          1.0080645161290323,
          259.1240875912409,
          495.6011730205279,
          0,
          36.09154929577465,
          274.2857142857143,
          4200.76481835564,
          0.8802816901408451,
          1059.6285434995114,
          43.47826086956522,
          46.61389621811785,
          894.0809968847352,
          23.217247097844112,
          322360.153256705,
          0,
          1654.2056074766356,
          18.315018315018314,
          621.3494461228601,
          945.6521739130435,
          3.745318352059925,
          4.892367906066536,
          453.72233400402416,
          127.96208530805687,
          1.9607843137254901,
          4629.893238434163,
          3917.4664107485605,
          361483.288166215,
          7.648183556405353,
          1.7497812773403325,
          168.88888888888889,
          0,
          15176.125244618395,
          7.462686567164178,
          5650.905432595573,
          2552.816901408451,
          75242.85714285714,
          10006.52938221999,
          0.8802816901408451,
          7.462686567164178,
          3.9138943248532287,
          110.01788908765651,
          321942.39848914073,
          2739.2996108949415,
          14.5985401459854,
          19625.36302032914,
          5.58659217877095,
          0.9765625,
          2.028397565922921,
          75.25510204081633,
          408.92193308550185,
          7418.426103646832,
          1.9550342130987295,
          64.77732793522267,
          36.33916554508748,
          18.621973929236496,
          2.0242914979757085,
          226.6928361138371,
          5.842259006815969,
          316.28532974428,
          1181.644359464627,
          267.03499079189686,
          8.806262230919765,
          1239.6788990825687,
          12.6953125,
          189.63831867057675,
          53217.82178217822
         ],
         "yaxis": "y"
        },
        {
         "hovertemplate": "<b>%{hovertext}</b><br><br>in_fit=not in fit<br>ERCC_attomoles_in_sample=%{x}<br>RPK=%{y}<extra></extra>",
         "hovertext": [
          "ERCC-00054"
         ],
         "legendgroup": "not in fit",
         "marker": {
          "color": "#EF553B",
          "symbol": "circle"
         },
         "mode": "markers",
         "name": "not in fit",
         "orientation": "h",
         "showlegend": true,
         "type": "scatter",
         "x": [
          0.47607421875
         ],
         "xaxis": "x",
         "y": [
          7.2992700729927
         ],
         "yaxis": "y"
        },
        {
         "mode": "lines",
         "name": "Disrupted_biorep1a",
         "type": "scatter",
         "x": [
          0.01,
          975
         ],
         "y": [
          4.800219947849496,
          423417.74013768294
         ]
        }
       ],
       "layout": {
        "annotations": [
         {
          "align": "left",
          "bordercolor": "black",
          "borderwidth": 1,
          "showarrow": false,
          "text": "fit of log(y) Vs log(x), paremeters: log(y) = m*log(x)+c",
          "x": 0.4,
          "xanchor": "left",
          "xref": "paper",
          "y": 1,
          "yref": "paper"
         },
         {
          "align": "left",
          "bordercolor": "black",
          "borderwidth": 1,
          "showarrow": false,
          "text": "fit in the range ERCC attomoles in sample [0.01,975.00]",
          "x": 0.4,
          "xanchor": "left",
          "xref": "paper",
          "y": 0.9,
          "yref": "paper"
         },
         {
          "align": "left",
          "bordercolor": "black",
          "borderwidth": 1,
          "showarrow": false,
          "text": "the slop in log scale: m = 0.99",
          "x": 0.4,
          "xanchor": "left",
          "xref": "paper",
          "y": 0.8,
          "yref": "paper"
         },
         {
          "align": "left",
          "bordercolor": "black",
          "borderwidth": 1,
          "showarrow": false,
          "text": "the intercept in log scale: c = 6.13",
          "x": 0.4,
          "xanchor": "left",
          "xref": "paper",
          "y": 0.7,
          "yref": "paper"
         },
         {
          "align": "left",
          "bordercolor": "black",
          "borderwidth": 1,
          "showarrow": false,
          "text": "",
          "x": 0.4,
          "xanchor": "left",
          "xref": "paper",
          "y": 0.6,
          "yref": "paper"
         },
         {
          "align": "left",
          "bordercolor": "black",
          "borderwidth": 1,
          "showarrow": false,
          "text": "log(y) = m*log(x)+c --> y = e^c * x^m",
          "x": 0.4,
          "xanchor": "left",
          "xref": "paper",
          "y": 0.5,
          "yref": "paper"
         },
         {
          "align": "left",
          "bordercolor": "black",
          "borderwidth": 1,
          "showarrow": false,
          "text": "the slope in linear scale: e^c = 4.61E+02",
          "x": 0.4,
          "xanchor": "left",
          "xref": "paper",
          "y": 0.3999999999999999,
          "yref": "paper"
         },
         {
          "align": "left",
          "bordercolor": "black",
          "borderwidth": 1,
          "showarrow": false,
          "text": "R^2 = 0.97",
          "x": 0.4,
          "xanchor": "left",
          "xref": "paper",
          "y": 0.29999999999999993,
          "yref": "paper"
         },
         {
          "align": "left",
          "bordercolor": "black",
          "borderwidth": 1,
          "showarrow": false,
          "text": "",
          "x": 0.4,
          "xanchor": "left",
          "xref": "paper",
          "y": 0.19999999999999996,
          "yref": "paper"
         },
         {
          "align": "left",
          "bordercolor": "black",
          "borderwidth": 1,
          "showarrow": false,
          "text": "ERCCs with no reads detected",
          "x": 0.4,
          "xanchor": "left",
          "xref": "paper",
          "y": 0.09999999999999998,
          "yref": "paper"
         },
         {
          "align": "left",
          "bordercolor": "black",
          "borderwidth": 1,
          "showarrow": false,
          "text": " not fitted and not shown",
          "x": 0.4,
          "xanchor": "left",
          "xref": "paper",
          "y": 0,
          "yref": "paper"
         }
        ],
        "font": {
         "size": 24
        },
        "height": 600,
        "legend": {
         "title": {
          "text": "in_fit"
         },
         "tracegroupgap": 0
        },
        "margin": {
         "t": 60
        },
        "template": {
         "data": {
          "bar": [
           {
            "error_x": {
             "color": "#2a3f5f"
            },
            "error_y": {
             "color": "#2a3f5f"
            },
            "marker": {
             "line": {
              "color": "#E5ECF6",
              "width": 0.5
             },
             "pattern": {
              "fillmode": "overlay",
              "size": 10,
              "solidity": 0.2
             }
            },
            "type": "bar"
           }
          ],
          "barpolar": [
           {
            "marker": {
             "line": {
              "color": "#E5ECF6",
              "width": 0.5
             },
             "pattern": {
              "fillmode": "overlay",
              "size": 10,
              "solidity": 0.2
             }
            },
            "type": "barpolar"
           }
          ],
          "carpet": [
           {
            "aaxis": {
             "endlinecolor": "#2a3f5f",
             "gridcolor": "white",
             "linecolor": "white",
             "minorgridcolor": "white",
             "startlinecolor": "#2a3f5f"
            },
            "baxis": {
             "endlinecolor": "#2a3f5f",
             "gridcolor": "white",
             "linecolor": "white",
             "minorgridcolor": "white",
             "startlinecolor": "#2a3f5f"
            },
            "type": "carpet"
           }
          ],
          "choropleth": [
           {
            "colorbar": {
             "outlinewidth": 0,
             "ticks": ""
            },
            "type": "choropleth"
           }
          ],
          "contour": [
           {
            "colorbar": {
             "outlinewidth": 0,
             "ticks": ""
            },
            "colorscale": [
             [
              0,
              "#0d0887"
             ],
             [
              0.1111111111111111,
              "#46039f"
             ],
             [
              0.2222222222222222,
              "#7201a8"
             ],
             [
              0.3333333333333333,
              "#9c179e"
             ],
             [
              0.4444444444444444,
              "#bd3786"
             ],
             [
              0.5555555555555556,
              "#d8576b"
             ],
             [
              0.6666666666666666,
              "#ed7953"
             ],
             [
              0.7777777777777778,
              "#fb9f3a"
             ],
             [
              0.8888888888888888,
              "#fdca26"
             ],
             [
              1,
              "#f0f921"
             ]
            ],
            "type": "contour"
           }
          ],
          "contourcarpet": [
           {
            "colorbar": {
             "outlinewidth": 0,
             "ticks": ""
            },
            "type": "contourcarpet"
           }
          ],
          "heatmap": [
           {
            "colorbar": {
             "outlinewidth": 0,
             "ticks": ""
            },
            "colorscale": [
             [
              0,
              "#0d0887"
             ],
             [
              0.1111111111111111,
              "#46039f"
             ],
             [
              0.2222222222222222,
              "#7201a8"
             ],
             [
              0.3333333333333333,
              "#9c179e"
             ],
             [
              0.4444444444444444,
              "#bd3786"
             ],
             [
              0.5555555555555556,
              "#d8576b"
             ],
             [
              0.6666666666666666,
              "#ed7953"
             ],
             [
              0.7777777777777778,
              "#fb9f3a"
             ],
             [
              0.8888888888888888,
              "#fdca26"
             ],
             [
              1,
              "#f0f921"
             ]
            ],
            "type": "heatmap"
           }
          ],
          "heatmapgl": [
           {
            "colorbar": {
             "outlinewidth": 0,
             "ticks": ""
            },
            "colorscale": [
             [
              0,
              "#0d0887"
             ],
             [
              0.1111111111111111,
              "#46039f"
             ],
             [
              0.2222222222222222,
              "#7201a8"
             ],
             [
              0.3333333333333333,
              "#9c179e"
             ],
             [
              0.4444444444444444,
              "#bd3786"
             ],
             [
              0.5555555555555556,
              "#d8576b"
             ],
             [
              0.6666666666666666,
              "#ed7953"
             ],
             [
              0.7777777777777778,
              "#fb9f3a"
             ],
             [
              0.8888888888888888,
              "#fdca26"
             ],
             [
              1,
              "#f0f921"
             ]
            ],
            "type": "heatmapgl"
           }
          ],
          "histogram": [
           {
            "marker": {
             "pattern": {
              "fillmode": "overlay",
              "size": 10,
              "solidity": 0.2
             }
            },
            "type": "histogram"
           }
          ],
          "histogram2d": [
           {
            "colorbar": {
             "outlinewidth": 0,
             "ticks": ""
            },
            "colorscale": [
             [
              0,
              "#0d0887"
             ],
             [
              0.1111111111111111,
              "#46039f"
             ],
             [
              0.2222222222222222,
              "#7201a8"
             ],
             [
              0.3333333333333333,
              "#9c179e"
             ],
             [
              0.4444444444444444,
              "#bd3786"
             ],
             [
              0.5555555555555556,
              "#d8576b"
             ],
             [
              0.6666666666666666,
              "#ed7953"
             ],
             [
              0.7777777777777778,
              "#fb9f3a"
             ],
             [
              0.8888888888888888,
              "#fdca26"
             ],
             [
              1,
              "#f0f921"
             ]
            ],
            "type": "histogram2d"
           }
          ],
          "histogram2dcontour": [
           {
            "colorbar": {
             "outlinewidth": 0,
             "ticks": ""
            },
            "colorscale": [
             [
              0,
              "#0d0887"
             ],
             [
              0.1111111111111111,
              "#46039f"
             ],
             [
              0.2222222222222222,
              "#7201a8"
             ],
             [
              0.3333333333333333,
              "#9c179e"
             ],
             [
              0.4444444444444444,
              "#bd3786"
             ],
             [
              0.5555555555555556,
              "#d8576b"
             ],
             [
              0.6666666666666666,
              "#ed7953"
             ],
             [
              0.7777777777777778,
              "#fb9f3a"
             ],
             [
              0.8888888888888888,
              "#fdca26"
             ],
             [
              1,
              "#f0f921"
             ]
            ],
            "type": "histogram2dcontour"
           }
          ],
          "mesh3d": [
           {
            "colorbar": {
             "outlinewidth": 0,
             "ticks": ""
            },
            "type": "mesh3d"
           }
          ],
          "parcoords": [
           {
            "line": {
             "colorbar": {
              "outlinewidth": 0,
              "ticks": ""
             }
            },
            "type": "parcoords"
           }
          ],
          "pie": [
           {
            "automargin": true,
            "type": "pie"
           }
          ],
          "scatter": [
           {
            "marker": {
             "colorbar": {
              "outlinewidth": 0,
              "ticks": ""
             }
            },
            "type": "scatter"
           }
          ],
          "scatter3d": [
           {
            "line": {
             "colorbar": {
              "outlinewidth": 0,
              "ticks": ""
             }
            },
            "marker": {
             "colorbar": {
              "outlinewidth": 0,
              "ticks": ""
             }
            },
            "type": "scatter3d"
           }
          ],
          "scattercarpet": [
           {
            "marker": {
             "colorbar": {
              "outlinewidth": 0,
              "ticks": ""
             }
            },
            "type": "scattercarpet"
           }
          ],
          "scattergeo": [
           {
            "marker": {
             "colorbar": {
              "outlinewidth": 0,
              "ticks": ""
             }
            },
            "type": "scattergeo"
           }
          ],
          "scattergl": [
           {
            "marker": {
             "colorbar": {
              "outlinewidth": 0,
              "ticks": ""
             }
            },
            "type": "scattergl"
           }
          ],
          "scattermapbox": [
           {
            "marker": {
             "colorbar": {
              "outlinewidth": 0,
              "ticks": ""
             }
            },
            "type": "scattermapbox"
           }
          ],
          "scatterpolar": [
           {
            "marker": {
             "colorbar": {
              "outlinewidth": 0,
              "ticks": ""
             }
            },
            "type": "scatterpolar"
           }
          ],
          "scatterpolargl": [
           {
            "marker": {
             "colorbar": {
              "outlinewidth": 0,
              "ticks": ""
             }
            },
            "type": "scatterpolargl"
           }
          ],
          "scatterternary": [
           {
            "marker": {
             "colorbar": {
              "outlinewidth": 0,
              "ticks": ""
             }
            },
            "type": "scatterternary"
           }
          ],
          "surface": [
           {
            "colorbar": {
             "outlinewidth": 0,
             "ticks": ""
            },
            "colorscale": [
             [
              0,
              "#0d0887"
             ],
             [
              0.1111111111111111,
              "#46039f"
             ],
             [
              0.2222222222222222,
              "#7201a8"
             ],
             [
              0.3333333333333333,
              "#9c179e"
             ],
             [
              0.4444444444444444,
              "#bd3786"
             ],
             [
              0.5555555555555556,
              "#d8576b"
             ],
             [
              0.6666666666666666,
              "#ed7953"
             ],
             [
              0.7777777777777778,
              "#fb9f3a"
             ],
             [
              0.8888888888888888,
              "#fdca26"
             ],
             [
              1,
              "#f0f921"
             ]
            ],
            "type": "surface"
           }
          ],
          "table": [
           {
            "cells": {
             "fill": {
              "color": "#EBF0F8"
             },
             "line": {
              "color": "white"
             }
            },
            "header": {
             "fill": {
              "color": "#C8D4E3"
             },
             "line": {
              "color": "white"
             }
            },
            "type": "table"
           }
          ]
         },
         "layout": {
          "annotationdefaults": {
           "arrowcolor": "#2a3f5f",
           "arrowhead": 0,
           "arrowwidth": 1
          },
          "autotypenumbers": "strict",
          "coloraxis": {
           "colorbar": {
            "outlinewidth": 0,
            "ticks": ""
           }
          },
          "colorscale": {
           "diverging": [
            [
             0,
             "#8e0152"
            ],
            [
             0.1,
             "#c51b7d"
            ],
            [
             0.2,
             "#de77ae"
            ],
            [
             0.3,
             "#f1b6da"
            ],
            [
             0.4,
             "#fde0ef"
            ],
            [
             0.5,
             "#f7f7f7"
            ],
            [
             0.6,
             "#e6f5d0"
            ],
            [
             0.7,
             "#b8e186"
            ],
            [
             0.8,
             "#7fbc41"
            ],
            [
             0.9,
             "#4d9221"
            ],
            [
             1,
             "#276419"
            ]
           ],
           "sequential": [
            [
             0,
             "#0d0887"
            ],
            [
             0.1111111111111111,
             "#46039f"
            ],
            [
             0.2222222222222222,
             "#7201a8"
            ],
            [
             0.3333333333333333,
             "#9c179e"
            ],
            [
             0.4444444444444444,
             "#bd3786"
            ],
            [
             0.5555555555555556,
             "#d8576b"
            ],
            [
             0.6666666666666666,
             "#ed7953"
            ],
            [
             0.7777777777777778,
             "#fb9f3a"
            ],
            [
             0.8888888888888888,
             "#fdca26"
            ],
            [
             1,
             "#f0f921"
            ]
           ],
           "sequentialminus": [
            [
             0,
             "#0d0887"
            ],
            [
             0.1111111111111111,
             "#46039f"
            ],
            [
             0.2222222222222222,
             "#7201a8"
            ],
            [
             0.3333333333333333,
             "#9c179e"
            ],
            [
             0.4444444444444444,
             "#bd3786"
            ],
            [
             0.5555555555555556,
             "#d8576b"
            ],
            [
             0.6666666666666666,
             "#ed7953"
            ],
            [
             0.7777777777777778,
             "#fb9f3a"
            ],
            [
             0.8888888888888888,
             "#fdca26"
            ],
            [
             1,
             "#f0f921"
            ]
           ]
          },
          "colorway": [
           "#636efa",
           "#EF553B",
           "#00cc96",
           "#ab63fa",
           "#FFA15A",
           "#19d3f3",
           "#FF6692",
           "#B6E880",
           "#FF97FF",
           "#FECB52"
          ],
          "font": {
           "color": "#2a3f5f"
          },
          "geo": {
           "bgcolor": "white",
           "lakecolor": "white",
           "landcolor": "#E5ECF6",
           "showlakes": true,
           "showland": true,
           "subunitcolor": "white"
          },
          "hoverlabel": {
           "align": "left"
          },
          "hovermode": "closest",
          "mapbox": {
           "style": "light"
          },
          "paper_bgcolor": "white",
          "plot_bgcolor": "#E5ECF6",
          "polar": {
           "angularaxis": {
            "gridcolor": "white",
            "linecolor": "white",
            "ticks": ""
           },
           "bgcolor": "#E5ECF6",
           "radialaxis": {
            "gridcolor": "white",
            "linecolor": "white",
            "ticks": ""
           }
          },
          "scene": {
           "xaxis": {
            "backgroundcolor": "#E5ECF6",
            "gridcolor": "white",
            "gridwidth": 2,
            "linecolor": "white",
            "showbackground": true,
            "ticks": "",
            "zerolinecolor": "white"
           },
           "yaxis": {
            "backgroundcolor": "#E5ECF6",
            "gridcolor": "white",
            "gridwidth": 2,
            "linecolor": "white",
            "showbackground": true,
            "ticks": "",
            "zerolinecolor": "white"
           },
           "zaxis": {
            "backgroundcolor": "#E5ECF6",
            "gridcolor": "white",
            "gridwidth": 2,
            "linecolor": "white",
            "showbackground": true,
            "ticks": "",
            "zerolinecolor": "white"
           }
          },
          "shapedefaults": {
           "line": {
            "color": "#2a3f5f"
           }
          },
          "ternary": {
           "aaxis": {
            "gridcolor": "white",
            "linecolor": "white",
            "ticks": ""
           },
           "baxis": {
            "gridcolor": "white",
            "linecolor": "white",
            "ticks": ""
           },
           "bgcolor": "#E5ECF6",
           "caxis": {
            "gridcolor": "white",
            "linecolor": "white",
            "ticks": ""
           }
          },
          "title": {
           "x": 0.05
          },
          "xaxis": {
           "automargin": true,
           "gridcolor": "white",
           "linecolor": "white",
           "ticks": "",
           "title": {
            "standoff": 15
           },
           "zerolinecolor": "white",
           "zerolinewidth": 2
          },
          "yaxis": {
           "automargin": true,
           "gridcolor": "white",
           "linecolor": "white",
           "ticks": "",
           "title": {
            "standoff": 15
           },
           "zerolinecolor": "white",
           "zerolinewidth": 2
          }
         }
        },
        "width": 2000,
        "xaxis": {
         "anchor": "y",
         "domain": [
          0,
          1
         ],
         "range": [
          -3,
          15
         ],
         "title": {
          "text": "ERCC_attomoles_in_sample"
         },
         "type": "log"
        },
        "yaxis": {
         "anchor": "x",
         "domain": [
          0,
          1
         ],
         "title": {
          "text": "RPK"
         },
         "type": "log"
        }
       }
      }
     },
     "metadata": {},
     "output_type": "display_data"
    },
    {
     "name": "stderr",
     "output_type": "stream",
     "text": [
      "C:\\Users\\adiro\\AppData\\Local\\Temp\\ipykernel_40068\\2061613557.py:205: SettingWithCopyWarning:\n",
      "\n",
      "\n",
      "A value is trying to be set on a copy of a slice from a DataFrame.\n",
      "Try using .loc[row_indexer,col_indexer] = value instead\n",
      "\n",
      "See the caveats in the documentation: https://pandas.pydata.org/pandas-docs/stable/user_guide/indexing.html#returning-a-view-versus-a-copy\n",
      "\n"
     ]
    },
    {
     "data": {
      "application/vnd.plotly.v1+json": {
       "config": {
        "plotlyServerURL": "https://plot.ly"
       },
       "data": [
        {
         "hovertemplate": "<b>%{hovertext}</b><br><br>in_fit=in fit<br>ERCC_attomoles_in_sample=%{x}<br>RPK=%{y}<extra></extra>",
         "hovertext": [
          "ERCC-00002",
          "ERCC-00003",
          "ERCC-00004",
          "ERCC-00009",
          "ERCC-00012",
          "ERCC-00013",
          "ERCC-00014",
          "ERCC-00016",
          "ERCC-00017",
          "ERCC-00019",
          "ERCC-00022",
          "ERCC-00024",
          "ERCC-00025",
          "ERCC-00028",
          "ERCC-00031",
          "ERCC-00033",
          "ERCC-00034",
          "ERCC-00035",
          "ERCC-00039",
          "ERCC-00040",
          "ERCC-00041",
          "ERCC-00042",
          "ERCC-00043",
          "ERCC-00044",
          "ERCC-00046",
          "ERCC-00048",
          "ERCC-00051",
          "ERCC-00053",
          "ERCC-00057",
          "ERCC-00058",
          "ERCC-00059",
          "ERCC-00060",
          "ERCC-00061",
          "ERCC-00062",
          "ERCC-00067",
          "ERCC-00069",
          "ERCC-00071",
          "ERCC-00073",
          "ERCC-00074",
          "ERCC-00075",
          "ERCC-00076",
          "ERCC-00077",
          "ERCC-00078",
          "ERCC-00079",
          "ERCC-00081",
          "ERCC-00083",
          "ERCC-00084",
          "ERCC-00085",
          "ERCC-00086",
          "ERCC-00092",
          "ERCC-00095",
          "ERCC-00096",
          "ERCC-00097",
          "ERCC-00098",
          "ERCC-00099",
          "ERCC-00104",
          "ERCC-00108",
          "ERCC-00109",
          "ERCC-00111",
          "ERCC-00112",
          "ERCC-00113",
          "ERCC-00116",
          "ERCC-00117",
          "ERCC-00120",
          "ERCC-00123",
          "ERCC-00126",
          "ERCC-00130",
          "ERCC-00131",
          "ERCC-00134",
          "ERCC-00136",
          "ERCC-00137",
          "ERCC-00138",
          "ERCC-00142",
          "ERCC-00143",
          "ERCC-00144",
          "ERCC-00145",
          "ERCC-00147",
          "ERCC-00148",
          "ERCC-00150",
          "ERCC-00154",
          "ERCC-00156",
          "ERCC-00157",
          "ERCC-00158",
          "ERCC-00160",
          "ERCC-00162",
          "ERCC-00163",
          "ERCC-00164",
          "ERCC-00165",
          "ERCC-00168",
          "ERCC-00170",
          "ERCC-00171"
         ],
         "legendgroup": "in fit",
         "marker": {
          "color": "#636efa",
          "symbol": "circle"
         },
         "mode": "markers",
         "name": "in fit",
         "orientation": "h",
         "showlegend": true,
         "type": "scatter",
         "x": [
          487.5,
          30.46875,
          243.75,
          30.46875,
          0.0037193299,
          0.02975463855,
          0.11901855485000001,
          0.0074386598,
          0.0037193299,
          0.9521484375,
          7.6171875,
          0.0074386598,
          1.904296875,
          0.11901855485000001,
          0.05950927742500001,
          0.05950927742500001,
          0.238037109375,
          3.80859375,
          0.11901855485000001,
          0.02975463855,
          0.0074386598,
          15.234375,
          15.234375,
          3.80859375,
          121.875,
          0.0004649164,
          1.904296875,
          0.9521484375,
          0.0004649164,
          0.05950927742500001,
          0.47607421875,
          7.6171875,
          0.00185966495,
          1.904296875,
          0.11901855485000001,
          0.05950927742500001,
          1.904296875,
          0.02975463855,
          487.5,
          0.0004649164,
          7.6171875,
          0.11901855485000001,
          0.9521484375,
          1.904296875,
          0.0074386598,
          0.000929832475,
          0.9521484375,
          0.238037109375,
          0.0037193299,
          7.6171875,
          3.80859375,
          487.5,
          0.014877319275,
          0.00185966495,
          0.47607421875,
          0.0074386598,
          30.46875,
          0.02975463855,
          15.234375,
          3.80859375,
          121.875,
          15.234375,
          0.00185966495,
          0.02975463855,
          0.0074386598,
          0.47607421875,
          975,
          3.80859375,
          0.05950927742500001,
          60.9375,
          0.02975463855,
          0.0037193299,
          0.0074386598,
          0.11901855485000001,
          0.9521484375,
          30.46875,
          0.02975463855,
          0.47607421875,
          0.11901855485000001,
          0.238037109375,
          0.014877319275,
          0.238037109375,
          0.014877319275,
          0.238037109375,
          1.904296875,
          0.47607421875,
          0.014877319275,
          1.904296875,
          0.014877319275,
          0.47607421875,
          121.875
         ],
         "xaxis": "x",
         "y": [
          170179.07634307258,
          17167.155425219942,
          114929.25430210325,
          7942.073170731707,
          2.0120724346076457,
          8.663366336633663,
          38.323965252938166,
          0,
          0,
          405.27950310559004,
          1954.7270306258322,
          0,
          769.8094282848546,
          38.05309734513275,
          13.181019332161688,
          18.793273986152325,
          199.21491658488716,
          1097.345132743363,
          36.486486486486484,
          16.129032258064516,
          0.89126559714795,
          7211.1436950146635,
          4425.219941348974,
          1224.0484429065746,
          55532.56704980843,
          1.0080645161290323,
          233.5766423357664,
          338.2209188660802,
          0,
          26.408450704225356,
          139.04761904761904,
          4053.5372848948373,
          0,
          742.9130009775172,
          15.527950310559007,
          40.45734388742304,
          610.5919003115265,
          16.58374792703151,
          226477.01149425286,
          0.9775171065493647,
          1183.8006230529595,
          21.978021978021978,
          420.9466263846929,
          655.27950310559,
          3.745318352059925,
          0.9784735812133072,
          332.9979879275654,
          75.82938388625593,
          0.9803921568627451,
          3546.263345195729,
          2539.3474088291746,
          248675.70009033423,
          9.560229445506693,
          1.7497812773403325,
          135.55555555555554,
          1.483679525222552,
          10276.908023483365,
          5.597014925373134,
          4498.9939637826965,
          1654.929577464789,
          52825,
          6882.471120040181,
          0.8802816901408451,
          9.328358208955223,
          6.8493150684931505,
          84.07871198568873,
          290068.93295561854,
          1976.6536964980544,
          7.2992700729927,
          14303.969022265248,
          3.7243947858472994,
          0,
          0,
          29.33673469387755,
          223.04832713754647,
          5405.95009596929,
          1.9550342130987295,
          78.94736842105263,
          18.842530282637956,
          31.657355679702047,
          4.048582995951417,
          140.333660451423,
          4.868549172346641,
          209.95962314939436,
          864.244741873805,
          174.9539594843462,
          2.935420743639922,
          821.1009174311927,
          9.765625,
          242.42424242424244,
          40144.55445544554
         ],
         "yaxis": "y"
        },
        {
         "hovertemplate": "<b>%{hovertext}</b><br><br>in_fit=not in fit<br>ERCC_attomoles_in_sample=%{x}<br>RPK=%{y}<extra></extra>",
         "hovertext": [
          "ERCC-00054"
         ],
         "legendgroup": "not in fit",
         "marker": {
          "color": "#EF553B",
          "symbol": "circle"
         },
         "mode": "markers",
         "name": "not in fit",
         "orientation": "h",
         "showlegend": true,
         "type": "scatter",
         "x": [
          0.47607421875
         ],
         "xaxis": "x",
         "y": [
          0
         ],
         "yaxis": "y"
        },
        {
         "mode": "lines",
         "name": "Disrupted_biorep2",
         "type": "scatter",
         "x": [
          0.01,
          975
         ],
         "y": [
          3.8370736287246174,
          287523.09255987697
         ]
        }
       ],
       "layout": {
        "annotations": [
         {
          "align": "left",
          "bordercolor": "black",
          "borderwidth": 1,
          "showarrow": false,
          "text": "fit of log(y) Vs log(x), paremeters: log(y) = m*log(x)+c",
          "x": 0.4,
          "xanchor": "left",
          "xref": "paper",
          "y": 1,
          "yref": "paper"
         },
         {
          "align": "left",
          "bordercolor": "black",
          "borderwidth": 1,
          "showarrow": false,
          "text": "fit in the range ERCC attomoles in sample [0.01,975.00]",
          "x": 0.4,
          "xanchor": "left",
          "xref": "paper",
          "y": 0.9,
          "yref": "paper"
         },
         {
          "align": "left",
          "bordercolor": "black",
          "borderwidth": 1,
          "showarrow": false,
          "text": "the slop in log scale: m = 0.98",
          "x": 0.4,
          "xanchor": "left",
          "xref": "paper",
          "y": 0.8,
          "yref": "paper"
         },
         {
          "align": "left",
          "bordercolor": "black",
          "borderwidth": 1,
          "showarrow": false,
          "text": "the intercept in log scale: c = 5.84",
          "x": 0.4,
          "xanchor": "left",
          "xref": "paper",
          "y": 0.7,
          "yref": "paper"
         },
         {
          "align": "left",
          "bordercolor": "black",
          "borderwidth": 1,
          "showarrow": false,
          "text": "",
          "x": 0.4,
          "xanchor": "left",
          "xref": "paper",
          "y": 0.6,
          "yref": "paper"
         },
         {
          "align": "left",
          "bordercolor": "black",
          "borderwidth": 1,
          "showarrow": false,
          "text": "log(y) = m*log(x)+c --> y = e^c * x^m",
          "x": 0.4,
          "xanchor": "left",
          "xref": "paper",
          "y": 0.5,
          "yref": "paper"
         },
         {
          "align": "left",
          "bordercolor": "black",
          "borderwidth": 1,
          "showarrow": false,
          "text": "the slope in linear scale: e^c = 3.45E+02",
          "x": 0.4,
          "xanchor": "left",
          "xref": "paper",
          "y": 0.3999999999999999,
          "yref": "paper"
         },
         {
          "align": "left",
          "bordercolor": "black",
          "borderwidth": 1,
          "showarrow": false,
          "text": "R^2 = 0.97",
          "x": 0.4,
          "xanchor": "left",
          "xref": "paper",
          "y": 0.29999999999999993,
          "yref": "paper"
         },
         {
          "align": "left",
          "bordercolor": "black",
          "borderwidth": 1,
          "showarrow": false,
          "text": "",
          "x": 0.4,
          "xanchor": "left",
          "xref": "paper",
          "y": 0.19999999999999996,
          "yref": "paper"
         },
         {
          "align": "left",
          "bordercolor": "black",
          "borderwidth": 1,
          "showarrow": false,
          "text": "ERCCs with no reads detected",
          "x": 0.4,
          "xanchor": "left",
          "xref": "paper",
          "y": 0.09999999999999998,
          "yref": "paper"
         },
         {
          "align": "left",
          "bordercolor": "black",
          "borderwidth": 1,
          "showarrow": false,
          "text": " not fitted and not shown",
          "x": 0.4,
          "xanchor": "left",
          "xref": "paper",
          "y": 0,
          "yref": "paper"
         }
        ],
        "font": {
         "size": 24
        },
        "height": 600,
        "legend": {
         "title": {
          "text": "in_fit"
         },
         "tracegroupgap": 0
        },
        "margin": {
         "t": 60
        },
        "template": {
         "data": {
          "bar": [
           {
            "error_x": {
             "color": "#2a3f5f"
            },
            "error_y": {
             "color": "#2a3f5f"
            },
            "marker": {
             "line": {
              "color": "#E5ECF6",
              "width": 0.5
             },
             "pattern": {
              "fillmode": "overlay",
              "size": 10,
              "solidity": 0.2
             }
            },
            "type": "bar"
           }
          ],
          "barpolar": [
           {
            "marker": {
             "line": {
              "color": "#E5ECF6",
              "width": 0.5
             },
             "pattern": {
              "fillmode": "overlay",
              "size": 10,
              "solidity": 0.2
             }
            },
            "type": "barpolar"
           }
          ],
          "carpet": [
           {
            "aaxis": {
             "endlinecolor": "#2a3f5f",
             "gridcolor": "white",
             "linecolor": "white",
             "minorgridcolor": "white",
             "startlinecolor": "#2a3f5f"
            },
            "baxis": {
             "endlinecolor": "#2a3f5f",
             "gridcolor": "white",
             "linecolor": "white",
             "minorgridcolor": "white",
             "startlinecolor": "#2a3f5f"
            },
            "type": "carpet"
           }
          ],
          "choropleth": [
           {
            "colorbar": {
             "outlinewidth": 0,
             "ticks": ""
            },
            "type": "choropleth"
           }
          ],
          "contour": [
           {
            "colorbar": {
             "outlinewidth": 0,
             "ticks": ""
            },
            "colorscale": [
             [
              0,
              "#0d0887"
             ],
             [
              0.1111111111111111,
              "#46039f"
             ],
             [
              0.2222222222222222,
              "#7201a8"
             ],
             [
              0.3333333333333333,
              "#9c179e"
             ],
             [
              0.4444444444444444,
              "#bd3786"
             ],
             [
              0.5555555555555556,
              "#d8576b"
             ],
             [
              0.6666666666666666,
              "#ed7953"
             ],
             [
              0.7777777777777778,
              "#fb9f3a"
             ],
             [
              0.8888888888888888,
              "#fdca26"
             ],
             [
              1,
              "#f0f921"
             ]
            ],
            "type": "contour"
           }
          ],
          "contourcarpet": [
           {
            "colorbar": {
             "outlinewidth": 0,
             "ticks": ""
            },
            "type": "contourcarpet"
           }
          ],
          "heatmap": [
           {
            "colorbar": {
             "outlinewidth": 0,
             "ticks": ""
            },
            "colorscale": [
             [
              0,
              "#0d0887"
             ],
             [
              0.1111111111111111,
              "#46039f"
             ],
             [
              0.2222222222222222,
              "#7201a8"
             ],
             [
              0.3333333333333333,
              "#9c179e"
             ],
             [
              0.4444444444444444,
              "#bd3786"
             ],
             [
              0.5555555555555556,
              "#d8576b"
             ],
             [
              0.6666666666666666,
              "#ed7953"
             ],
             [
              0.7777777777777778,
              "#fb9f3a"
             ],
             [
              0.8888888888888888,
              "#fdca26"
             ],
             [
              1,
              "#f0f921"
             ]
            ],
            "type": "heatmap"
           }
          ],
          "heatmapgl": [
           {
            "colorbar": {
             "outlinewidth": 0,
             "ticks": ""
            },
            "colorscale": [
             [
              0,
              "#0d0887"
             ],
             [
              0.1111111111111111,
              "#46039f"
             ],
             [
              0.2222222222222222,
              "#7201a8"
             ],
             [
              0.3333333333333333,
              "#9c179e"
             ],
             [
              0.4444444444444444,
              "#bd3786"
             ],
             [
              0.5555555555555556,
              "#d8576b"
             ],
             [
              0.6666666666666666,
              "#ed7953"
             ],
             [
              0.7777777777777778,
              "#fb9f3a"
             ],
             [
              0.8888888888888888,
              "#fdca26"
             ],
             [
              1,
              "#f0f921"
             ]
            ],
            "type": "heatmapgl"
           }
          ],
          "histogram": [
           {
            "marker": {
             "pattern": {
              "fillmode": "overlay",
              "size": 10,
              "solidity": 0.2
             }
            },
            "type": "histogram"
           }
          ],
          "histogram2d": [
           {
            "colorbar": {
             "outlinewidth": 0,
             "ticks": ""
            },
            "colorscale": [
             [
              0,
              "#0d0887"
             ],
             [
              0.1111111111111111,
              "#46039f"
             ],
             [
              0.2222222222222222,
              "#7201a8"
             ],
             [
              0.3333333333333333,
              "#9c179e"
             ],
             [
              0.4444444444444444,
              "#bd3786"
             ],
             [
              0.5555555555555556,
              "#d8576b"
             ],
             [
              0.6666666666666666,
              "#ed7953"
             ],
             [
              0.7777777777777778,
              "#fb9f3a"
             ],
             [
              0.8888888888888888,
              "#fdca26"
             ],
             [
              1,
              "#f0f921"
             ]
            ],
            "type": "histogram2d"
           }
          ],
          "histogram2dcontour": [
           {
            "colorbar": {
             "outlinewidth": 0,
             "ticks": ""
            },
            "colorscale": [
             [
              0,
              "#0d0887"
             ],
             [
              0.1111111111111111,
              "#46039f"
             ],
             [
              0.2222222222222222,
              "#7201a8"
             ],
             [
              0.3333333333333333,
              "#9c179e"
             ],
             [
              0.4444444444444444,
              "#bd3786"
             ],
             [
              0.5555555555555556,
              "#d8576b"
             ],
             [
              0.6666666666666666,
              "#ed7953"
             ],
             [
              0.7777777777777778,
              "#fb9f3a"
             ],
             [
              0.8888888888888888,
              "#fdca26"
             ],
             [
              1,
              "#f0f921"
             ]
            ],
            "type": "histogram2dcontour"
           }
          ],
          "mesh3d": [
           {
            "colorbar": {
             "outlinewidth": 0,
             "ticks": ""
            },
            "type": "mesh3d"
           }
          ],
          "parcoords": [
           {
            "line": {
             "colorbar": {
              "outlinewidth": 0,
              "ticks": ""
             }
            },
            "type": "parcoords"
           }
          ],
          "pie": [
           {
            "automargin": true,
            "type": "pie"
           }
          ],
          "scatter": [
           {
            "marker": {
             "colorbar": {
              "outlinewidth": 0,
              "ticks": ""
             }
            },
            "type": "scatter"
           }
          ],
          "scatter3d": [
           {
            "line": {
             "colorbar": {
              "outlinewidth": 0,
              "ticks": ""
             }
            },
            "marker": {
             "colorbar": {
              "outlinewidth": 0,
              "ticks": ""
             }
            },
            "type": "scatter3d"
           }
          ],
          "scattercarpet": [
           {
            "marker": {
             "colorbar": {
              "outlinewidth": 0,
              "ticks": ""
             }
            },
            "type": "scattercarpet"
           }
          ],
          "scattergeo": [
           {
            "marker": {
             "colorbar": {
              "outlinewidth": 0,
              "ticks": ""
             }
            },
            "type": "scattergeo"
           }
          ],
          "scattergl": [
           {
            "marker": {
             "colorbar": {
              "outlinewidth": 0,
              "ticks": ""
             }
            },
            "type": "scattergl"
           }
          ],
          "scattermapbox": [
           {
            "marker": {
             "colorbar": {
              "outlinewidth": 0,
              "ticks": ""
             }
            },
            "type": "scattermapbox"
           }
          ],
          "scatterpolar": [
           {
            "marker": {
             "colorbar": {
              "outlinewidth": 0,
              "ticks": ""
             }
            },
            "type": "scatterpolar"
           }
          ],
          "scatterpolargl": [
           {
            "marker": {
             "colorbar": {
              "outlinewidth": 0,
              "ticks": ""
             }
            },
            "type": "scatterpolargl"
           }
          ],
          "scatterternary": [
           {
            "marker": {
             "colorbar": {
              "outlinewidth": 0,
              "ticks": ""
             }
            },
            "type": "scatterternary"
           }
          ],
          "surface": [
           {
            "colorbar": {
             "outlinewidth": 0,
             "ticks": ""
            },
            "colorscale": [
             [
              0,
              "#0d0887"
             ],
             [
              0.1111111111111111,
              "#46039f"
             ],
             [
              0.2222222222222222,
              "#7201a8"
             ],
             [
              0.3333333333333333,
              "#9c179e"
             ],
             [
              0.4444444444444444,
              "#bd3786"
             ],
             [
              0.5555555555555556,
              "#d8576b"
             ],
             [
              0.6666666666666666,
              "#ed7953"
             ],
             [
              0.7777777777777778,
              "#fb9f3a"
             ],
             [
              0.8888888888888888,
              "#fdca26"
             ],
             [
              1,
              "#f0f921"
             ]
            ],
            "type": "surface"
           }
          ],
          "table": [
           {
            "cells": {
             "fill": {
              "color": "#EBF0F8"
             },
             "line": {
              "color": "white"
             }
            },
            "header": {
             "fill": {
              "color": "#C8D4E3"
             },
             "line": {
              "color": "white"
             }
            },
            "type": "table"
           }
          ]
         },
         "layout": {
          "annotationdefaults": {
           "arrowcolor": "#2a3f5f",
           "arrowhead": 0,
           "arrowwidth": 1
          },
          "autotypenumbers": "strict",
          "coloraxis": {
           "colorbar": {
            "outlinewidth": 0,
            "ticks": ""
           }
          },
          "colorscale": {
           "diverging": [
            [
             0,
             "#8e0152"
            ],
            [
             0.1,
             "#c51b7d"
            ],
            [
             0.2,
             "#de77ae"
            ],
            [
             0.3,
             "#f1b6da"
            ],
            [
             0.4,
             "#fde0ef"
            ],
            [
             0.5,
             "#f7f7f7"
            ],
            [
             0.6,
             "#e6f5d0"
            ],
            [
             0.7,
             "#b8e186"
            ],
            [
             0.8,
             "#7fbc41"
            ],
            [
             0.9,
             "#4d9221"
            ],
            [
             1,
             "#276419"
            ]
           ],
           "sequential": [
            [
             0,
             "#0d0887"
            ],
            [
             0.1111111111111111,
             "#46039f"
            ],
            [
             0.2222222222222222,
             "#7201a8"
            ],
            [
             0.3333333333333333,
             "#9c179e"
            ],
            [
             0.4444444444444444,
             "#bd3786"
            ],
            [
             0.5555555555555556,
             "#d8576b"
            ],
            [
             0.6666666666666666,
             "#ed7953"
            ],
            [
             0.7777777777777778,
             "#fb9f3a"
            ],
            [
             0.8888888888888888,
             "#fdca26"
            ],
            [
             1,
             "#f0f921"
            ]
           ],
           "sequentialminus": [
            [
             0,
             "#0d0887"
            ],
            [
             0.1111111111111111,
             "#46039f"
            ],
            [
             0.2222222222222222,
             "#7201a8"
            ],
            [
             0.3333333333333333,
             "#9c179e"
            ],
            [
             0.4444444444444444,
             "#bd3786"
            ],
            [
             0.5555555555555556,
             "#d8576b"
            ],
            [
             0.6666666666666666,
             "#ed7953"
            ],
            [
             0.7777777777777778,
             "#fb9f3a"
            ],
            [
             0.8888888888888888,
             "#fdca26"
            ],
            [
             1,
             "#f0f921"
            ]
           ]
          },
          "colorway": [
           "#636efa",
           "#EF553B",
           "#00cc96",
           "#ab63fa",
           "#FFA15A",
           "#19d3f3",
           "#FF6692",
           "#B6E880",
           "#FF97FF",
           "#FECB52"
          ],
          "font": {
           "color": "#2a3f5f"
          },
          "geo": {
           "bgcolor": "white",
           "lakecolor": "white",
           "landcolor": "#E5ECF6",
           "showlakes": true,
           "showland": true,
           "subunitcolor": "white"
          },
          "hoverlabel": {
           "align": "left"
          },
          "hovermode": "closest",
          "mapbox": {
           "style": "light"
          },
          "paper_bgcolor": "white",
          "plot_bgcolor": "#E5ECF6",
          "polar": {
           "angularaxis": {
            "gridcolor": "white",
            "linecolor": "white",
            "ticks": ""
           },
           "bgcolor": "#E5ECF6",
           "radialaxis": {
            "gridcolor": "white",
            "linecolor": "white",
            "ticks": ""
           }
          },
          "scene": {
           "xaxis": {
            "backgroundcolor": "#E5ECF6",
            "gridcolor": "white",
            "gridwidth": 2,
            "linecolor": "white",
            "showbackground": true,
            "ticks": "",
            "zerolinecolor": "white"
           },
           "yaxis": {
            "backgroundcolor": "#E5ECF6",
            "gridcolor": "white",
            "gridwidth": 2,
            "linecolor": "white",
            "showbackground": true,
            "ticks": "",
            "zerolinecolor": "white"
           },
           "zaxis": {
            "backgroundcolor": "#E5ECF6",
            "gridcolor": "white",
            "gridwidth": 2,
            "linecolor": "white",
            "showbackground": true,
            "ticks": "",
            "zerolinecolor": "white"
           }
          },
          "shapedefaults": {
           "line": {
            "color": "#2a3f5f"
           }
          },
          "ternary": {
           "aaxis": {
            "gridcolor": "white",
            "linecolor": "white",
            "ticks": ""
           },
           "baxis": {
            "gridcolor": "white",
            "linecolor": "white",
            "ticks": ""
           },
           "bgcolor": "#E5ECF6",
           "caxis": {
            "gridcolor": "white",
            "linecolor": "white",
            "ticks": ""
           }
          },
          "title": {
           "x": 0.05
          },
          "xaxis": {
           "automargin": true,
           "gridcolor": "white",
           "linecolor": "white",
           "ticks": "",
           "title": {
            "standoff": 15
           },
           "zerolinecolor": "white",
           "zerolinewidth": 2
          },
          "yaxis": {
           "automargin": true,
           "gridcolor": "white",
           "linecolor": "white",
           "ticks": "",
           "title": {
            "standoff": 15
           },
           "zerolinecolor": "white",
           "zerolinewidth": 2
          }
         }
        },
        "width": 2000,
        "xaxis": {
         "anchor": "y",
         "domain": [
          0,
          1
         ],
         "range": [
          -3,
          15
         ],
         "title": {
          "text": "ERCC_attomoles_in_sample"
         },
         "type": "log"
        },
        "yaxis": {
         "anchor": "x",
         "domain": [
          0,
          1
         ],
         "title": {
          "text": "RPK"
         },
         "type": "log"
        }
       }
      }
     },
     "metadata": {},
     "output_type": "display_data"
    },
    {
     "name": "stderr",
     "output_type": "stream",
     "text": [
      "C:\\Users\\adiro\\AppData\\Local\\Temp\\ipykernel_40068\\2061613557.py:205: SettingWithCopyWarning:\n",
      "\n",
      "\n",
      "A value is trying to be set on a copy of a slice from a DataFrame.\n",
      "Try using .loc[row_indexer,col_indexer] = value instead\n",
      "\n",
      "See the caveats in the documentation: https://pandas.pydata.org/pandas-docs/stable/user_guide/indexing.html#returning-a-view-versus-a-copy\n",
      "\n"
     ]
    },
    {
     "data": {
      "application/vnd.plotly.v1+json": {
       "config": {
        "plotlyServerURL": "https://plot.ly"
       },
       "data": [
        {
         "hovertemplate": "<b>%{hovertext}</b><br><br>in_fit=in fit<br>ERCC_attomoles_in_sample=%{x}<br>RPK=%{y}<extra></extra>",
         "hovertext": [
          "ERCC-00002",
          "ERCC-00003",
          "ERCC-00004",
          "ERCC-00009",
          "ERCC-00012",
          "ERCC-00013",
          "ERCC-00014",
          "ERCC-00016",
          "ERCC-00017",
          "ERCC-00019",
          "ERCC-00022",
          "ERCC-00024",
          "ERCC-00025",
          "ERCC-00028",
          "ERCC-00031",
          "ERCC-00033",
          "ERCC-00034",
          "ERCC-00035",
          "ERCC-00039",
          "ERCC-00040",
          "ERCC-00041",
          "ERCC-00042",
          "ERCC-00043",
          "ERCC-00044",
          "ERCC-00046",
          "ERCC-00048",
          "ERCC-00051",
          "ERCC-00053",
          "ERCC-00057",
          "ERCC-00058",
          "ERCC-00059",
          "ERCC-00060",
          "ERCC-00061",
          "ERCC-00062",
          "ERCC-00067",
          "ERCC-00069",
          "ERCC-00071",
          "ERCC-00073",
          "ERCC-00074",
          "ERCC-00075",
          "ERCC-00076",
          "ERCC-00077",
          "ERCC-00078",
          "ERCC-00079",
          "ERCC-00081",
          "ERCC-00083",
          "ERCC-00084",
          "ERCC-00085",
          "ERCC-00086",
          "ERCC-00092",
          "ERCC-00095",
          "ERCC-00096",
          "ERCC-00097",
          "ERCC-00098",
          "ERCC-00099",
          "ERCC-00104",
          "ERCC-00108",
          "ERCC-00109",
          "ERCC-00111",
          "ERCC-00112",
          "ERCC-00113",
          "ERCC-00116",
          "ERCC-00117",
          "ERCC-00120",
          "ERCC-00123",
          "ERCC-00126",
          "ERCC-00130",
          "ERCC-00131",
          "ERCC-00134",
          "ERCC-00136",
          "ERCC-00137",
          "ERCC-00138",
          "ERCC-00142",
          "ERCC-00143",
          "ERCC-00144",
          "ERCC-00145",
          "ERCC-00147",
          "ERCC-00148",
          "ERCC-00150",
          "ERCC-00154",
          "ERCC-00156",
          "ERCC-00157",
          "ERCC-00158",
          "ERCC-00160",
          "ERCC-00162",
          "ERCC-00163",
          "ERCC-00164",
          "ERCC-00165",
          "ERCC-00168",
          "ERCC-00170",
          "ERCC-00171"
         ],
         "legendgroup": "in fit",
         "marker": {
          "color": "#636efa",
          "symbol": "circle"
         },
         "mode": "markers",
         "name": "in fit",
         "orientation": "h",
         "showlegend": true,
         "type": "scatter",
         "x": [
          487.5,
          30.46875,
          243.75,
          30.46875,
          0.0037193299,
          0.02975463855,
          0.11901855485000001,
          0.0074386598,
          0.0037193299,
          0.9521484375,
          7.6171875,
          0.0074386598,
          1.904296875,
          0.11901855485000001,
          0.05950927742500001,
          0.05950927742500001,
          0.238037109375,
          3.80859375,
          0.11901855485000001,
          0.02975463855,
          0.0074386598,
          15.234375,
          15.234375,
          3.80859375,
          121.875,
          0.0004649164,
          1.904296875,
          0.9521484375,
          0.0004649164,
          0.05950927742500001,
          0.47607421875,
          7.6171875,
          0.00185966495,
          1.904296875,
          0.11901855485000001,
          0.05950927742500001,
          1.904296875,
          0.02975463855,
          487.5,
          0.0004649164,
          7.6171875,
          0.11901855485000001,
          0.9521484375,
          1.904296875,
          0.0074386598,
          0.000929832475,
          0.9521484375,
          0.238037109375,
          0.0037193299,
          7.6171875,
          3.80859375,
          487.5,
          0.014877319275,
          0.00185966495,
          0.47607421875,
          0.0074386598,
          30.46875,
          0.02975463855,
          15.234375,
          3.80859375,
          121.875,
          15.234375,
          0.00185966495,
          0.02975463855,
          0.0074386598,
          0.47607421875,
          975,
          3.80859375,
          0.05950927742500001,
          60.9375,
          0.02975463855,
          0.0037193299,
          0.0074386598,
          0.11901855485000001,
          0.9521484375,
          30.46875,
          0.02975463855,
          0.47607421875,
          0.11901855485000001,
          0.238037109375,
          0.014877319275,
          0.238037109375,
          0.014877319275,
          0.238037109375,
          1.904296875,
          0.47607421875,
          0.014877319275,
          1.904296875,
          0.014877319275,
          0.47607421875,
          121.875
         ],
         "xaxis": "x",
         "y": [
          157827.52120640906,
          15616.81329423265,
          110187.38049713193,
          8765.243902439024,
          1.0060362173038229,
          8.663366336633663,
          31.681144609095554,
          3.5545023696682465,
          1.7605633802816902,
          392.85714285714283,
          1961.3848202396805,
          0,
          770.8124373119358,
          33.6283185840708,
          16.695957820738137,
          7.912957467853611,
          186.45731108930326,
          943.3628318584072,
          31.08108108108108,
          8.064516129032258,
          6.23885918003565,
          7076.246334310851,
          3725.3176930596287,
          1184.2560553633218,
          46620.68965517241,
          0,
          259.1240875912409,
          327.4682306940372,
          0,
          17.605633802816904,
          171.42857142857142,
          2435.946462715105,
          0.8802816901408451,
          657.8690127077224,
          23.29192546583851,
          33.42128408091469,
          571.6510903426791,
          9.950248756218906,
          222220.30651340995,
          1.9550342130987295,
          1182.2429906542056,
          10.989010989010989,
          402.8197381671702,
          537.2670807453416,
          0,
          3.9138943248532287,
          278.67203219315894,
          72.27488151658768,
          0,
          3017.7935943060497,
          2596.928982725528,
          244514.00180668474,
          11.47227533460803,
          3.499562554680665,
          111.1111111111111,
          1.483679525222552,
          10459.882583170254,
          7.462686567164178,
          3642.8571428571427,
          1730.6338028169016,
          50764.28571428572,
          6751.3812154696125,
          0.8802816901408451,
          0,
          0,
          92.128801431127,
          207274.78753541078,
          1857.3281452658885,
          0,
          12920.619554695064,
          5.58659217877095,
          0,
          0,
          59.94897959183673,
          241.635687732342,
          4871.401151631478,
          0.9775171065493647,
          38.46153846153846,
          24.226110363391655,
          5.58659217877095,
          0,
          125.61334641805693,
          3.894839337877313,
          227.4562584118439,
          843.2122370936902,
          189.6869244935543,
          5.870841487279844,
          822.2477064220184,
          9.765625,
          115.34701857282504,
          33518.81188118812
         ],
         "yaxis": "y"
        },
        {
         "hovertemplate": "<b>%{hovertext}</b><br><br>in_fit=not in fit<br>ERCC_attomoles_in_sample=%{x}<br>RPK=%{y}<extra></extra>",
         "hovertext": [
          "ERCC-00054"
         ],
         "legendgroup": "not in fit",
         "marker": {
          "color": "#EF553B",
          "symbol": "circle"
         },
         "mode": "markers",
         "name": "not in fit",
         "orientation": "h",
         "showlegend": true,
         "type": "scatter",
         "x": [
          0.47607421875
         ],
         "xaxis": "x",
         "y": [
          0
         ],
         "yaxis": "y"
        },
        {
         "mode": "lines",
         "name": "Disrupted_biorep3",
         "type": "scatter",
         "x": [
          0.01,
          975
         ],
         "y": [
          3.987845639342732,
          234788.93475132564
         ]
        }
       ],
       "layout": {
        "annotations": [
         {
          "align": "left",
          "bordercolor": "black",
          "borderwidth": 1,
          "showarrow": false,
          "text": "fit of log(y) Vs log(x), paremeters: log(y) = m*log(x)+c",
          "x": 0.4,
          "xanchor": "left",
          "xref": "paper",
          "y": 1,
          "yref": "paper"
         },
         {
          "align": "left",
          "bordercolor": "black",
          "borderwidth": 1,
          "showarrow": false,
          "text": "fit in the range ERCC attomoles in sample [0.01,975.00]",
          "x": 0.4,
          "xanchor": "left",
          "xref": "paper",
          "y": 0.9,
          "yref": "paper"
         },
         {
          "align": "left",
          "bordercolor": "black",
          "borderwidth": 1,
          "showarrow": false,
          "text": "the slop in log scale: m = 0.96",
          "x": 0.4,
          "xanchor": "left",
          "xref": "paper",
          "y": 0.8,
          "yref": "paper"
         },
         {
          "align": "left",
          "bordercolor": "black",
          "borderwidth": 1,
          "showarrow": false,
          "text": "the intercept in log scale: c = 5.79",
          "x": 0.4,
          "xanchor": "left",
          "xref": "paper",
          "y": 0.7,
          "yref": "paper"
         },
         {
          "align": "left",
          "bordercolor": "black",
          "borderwidth": 1,
          "showarrow": false,
          "text": "",
          "x": 0.4,
          "xanchor": "left",
          "xref": "paper",
          "y": 0.6,
          "yref": "paper"
         },
         {
          "align": "left",
          "bordercolor": "black",
          "borderwidth": 1,
          "showarrow": false,
          "text": "log(y) = m*log(x)+c --> y = e^c * x^m",
          "x": 0.4,
          "xanchor": "left",
          "xref": "paper",
          "y": 0.5,
          "yref": "paper"
         },
         {
          "align": "left",
          "bordercolor": "black",
          "borderwidth": 1,
          "showarrow": false,
          "text": "the slope in linear scale: e^c = 3.26E+02",
          "x": 0.4,
          "xanchor": "left",
          "xref": "paper",
          "y": 0.3999999999999999,
          "yref": "paper"
         },
         {
          "align": "left",
          "bordercolor": "black",
          "borderwidth": 1,
          "showarrow": false,
          "text": "R^2 = 0.95",
          "x": 0.4,
          "xanchor": "left",
          "xref": "paper",
          "y": 0.29999999999999993,
          "yref": "paper"
         },
         {
          "align": "left",
          "bordercolor": "black",
          "borderwidth": 1,
          "showarrow": false,
          "text": "",
          "x": 0.4,
          "xanchor": "left",
          "xref": "paper",
          "y": 0.19999999999999996,
          "yref": "paper"
         },
         {
          "align": "left",
          "bordercolor": "black",
          "borderwidth": 1,
          "showarrow": false,
          "text": "ERCCs with no reads detected",
          "x": 0.4,
          "xanchor": "left",
          "xref": "paper",
          "y": 0.09999999999999998,
          "yref": "paper"
         },
         {
          "align": "left",
          "bordercolor": "black",
          "borderwidth": 1,
          "showarrow": false,
          "text": " not fitted and not shown",
          "x": 0.4,
          "xanchor": "left",
          "xref": "paper",
          "y": 0,
          "yref": "paper"
         }
        ],
        "font": {
         "size": 24
        },
        "height": 600,
        "legend": {
         "title": {
          "text": "in_fit"
         },
         "tracegroupgap": 0
        },
        "margin": {
         "t": 60
        },
        "template": {
         "data": {
          "bar": [
           {
            "error_x": {
             "color": "#2a3f5f"
            },
            "error_y": {
             "color": "#2a3f5f"
            },
            "marker": {
             "line": {
              "color": "#E5ECF6",
              "width": 0.5
             },
             "pattern": {
              "fillmode": "overlay",
              "size": 10,
              "solidity": 0.2
             }
            },
            "type": "bar"
           }
          ],
          "barpolar": [
           {
            "marker": {
             "line": {
              "color": "#E5ECF6",
              "width": 0.5
             },
             "pattern": {
              "fillmode": "overlay",
              "size": 10,
              "solidity": 0.2
             }
            },
            "type": "barpolar"
           }
          ],
          "carpet": [
           {
            "aaxis": {
             "endlinecolor": "#2a3f5f",
             "gridcolor": "white",
             "linecolor": "white",
             "minorgridcolor": "white",
             "startlinecolor": "#2a3f5f"
            },
            "baxis": {
             "endlinecolor": "#2a3f5f",
             "gridcolor": "white",
             "linecolor": "white",
             "minorgridcolor": "white",
             "startlinecolor": "#2a3f5f"
            },
            "type": "carpet"
           }
          ],
          "choropleth": [
           {
            "colorbar": {
             "outlinewidth": 0,
             "ticks": ""
            },
            "type": "choropleth"
           }
          ],
          "contour": [
           {
            "colorbar": {
             "outlinewidth": 0,
             "ticks": ""
            },
            "colorscale": [
             [
              0,
              "#0d0887"
             ],
             [
              0.1111111111111111,
              "#46039f"
             ],
             [
              0.2222222222222222,
              "#7201a8"
             ],
             [
              0.3333333333333333,
              "#9c179e"
             ],
             [
              0.4444444444444444,
              "#bd3786"
             ],
             [
              0.5555555555555556,
              "#d8576b"
             ],
             [
              0.6666666666666666,
              "#ed7953"
             ],
             [
              0.7777777777777778,
              "#fb9f3a"
             ],
             [
              0.8888888888888888,
              "#fdca26"
             ],
             [
              1,
              "#f0f921"
             ]
            ],
            "type": "contour"
           }
          ],
          "contourcarpet": [
           {
            "colorbar": {
             "outlinewidth": 0,
             "ticks": ""
            },
            "type": "contourcarpet"
           }
          ],
          "heatmap": [
           {
            "colorbar": {
             "outlinewidth": 0,
             "ticks": ""
            },
            "colorscale": [
             [
              0,
              "#0d0887"
             ],
             [
              0.1111111111111111,
              "#46039f"
             ],
             [
              0.2222222222222222,
              "#7201a8"
             ],
             [
              0.3333333333333333,
              "#9c179e"
             ],
             [
              0.4444444444444444,
              "#bd3786"
             ],
             [
              0.5555555555555556,
              "#d8576b"
             ],
             [
              0.6666666666666666,
              "#ed7953"
             ],
             [
              0.7777777777777778,
              "#fb9f3a"
             ],
             [
              0.8888888888888888,
              "#fdca26"
             ],
             [
              1,
              "#f0f921"
             ]
            ],
            "type": "heatmap"
           }
          ],
          "heatmapgl": [
           {
            "colorbar": {
             "outlinewidth": 0,
             "ticks": ""
            },
            "colorscale": [
             [
              0,
              "#0d0887"
             ],
             [
              0.1111111111111111,
              "#46039f"
             ],
             [
              0.2222222222222222,
              "#7201a8"
             ],
             [
              0.3333333333333333,
              "#9c179e"
             ],
             [
              0.4444444444444444,
              "#bd3786"
             ],
             [
              0.5555555555555556,
              "#d8576b"
             ],
             [
              0.6666666666666666,
              "#ed7953"
             ],
             [
              0.7777777777777778,
              "#fb9f3a"
             ],
             [
              0.8888888888888888,
              "#fdca26"
             ],
             [
              1,
              "#f0f921"
             ]
            ],
            "type": "heatmapgl"
           }
          ],
          "histogram": [
           {
            "marker": {
             "pattern": {
              "fillmode": "overlay",
              "size": 10,
              "solidity": 0.2
             }
            },
            "type": "histogram"
           }
          ],
          "histogram2d": [
           {
            "colorbar": {
             "outlinewidth": 0,
             "ticks": ""
            },
            "colorscale": [
             [
              0,
              "#0d0887"
             ],
             [
              0.1111111111111111,
              "#46039f"
             ],
             [
              0.2222222222222222,
              "#7201a8"
             ],
             [
              0.3333333333333333,
              "#9c179e"
             ],
             [
              0.4444444444444444,
              "#bd3786"
             ],
             [
              0.5555555555555556,
              "#d8576b"
             ],
             [
              0.6666666666666666,
              "#ed7953"
             ],
             [
              0.7777777777777778,
              "#fb9f3a"
             ],
             [
              0.8888888888888888,
              "#fdca26"
             ],
             [
              1,
              "#f0f921"
             ]
            ],
            "type": "histogram2d"
           }
          ],
          "histogram2dcontour": [
           {
            "colorbar": {
             "outlinewidth": 0,
             "ticks": ""
            },
            "colorscale": [
             [
              0,
              "#0d0887"
             ],
             [
              0.1111111111111111,
              "#46039f"
             ],
             [
              0.2222222222222222,
              "#7201a8"
             ],
             [
              0.3333333333333333,
              "#9c179e"
             ],
             [
              0.4444444444444444,
              "#bd3786"
             ],
             [
              0.5555555555555556,
              "#d8576b"
             ],
             [
              0.6666666666666666,
              "#ed7953"
             ],
             [
              0.7777777777777778,
              "#fb9f3a"
             ],
             [
              0.8888888888888888,
              "#fdca26"
             ],
             [
              1,
              "#f0f921"
             ]
            ],
            "type": "histogram2dcontour"
           }
          ],
          "mesh3d": [
           {
            "colorbar": {
             "outlinewidth": 0,
             "ticks": ""
            },
            "type": "mesh3d"
           }
          ],
          "parcoords": [
           {
            "line": {
             "colorbar": {
              "outlinewidth": 0,
              "ticks": ""
             }
            },
            "type": "parcoords"
           }
          ],
          "pie": [
           {
            "automargin": true,
            "type": "pie"
           }
          ],
          "scatter": [
           {
            "marker": {
             "colorbar": {
              "outlinewidth": 0,
              "ticks": ""
             }
            },
            "type": "scatter"
           }
          ],
          "scatter3d": [
           {
            "line": {
             "colorbar": {
              "outlinewidth": 0,
              "ticks": ""
             }
            },
            "marker": {
             "colorbar": {
              "outlinewidth": 0,
              "ticks": ""
             }
            },
            "type": "scatter3d"
           }
          ],
          "scattercarpet": [
           {
            "marker": {
             "colorbar": {
              "outlinewidth": 0,
              "ticks": ""
             }
            },
            "type": "scattercarpet"
           }
          ],
          "scattergeo": [
           {
            "marker": {
             "colorbar": {
              "outlinewidth": 0,
              "ticks": ""
             }
            },
            "type": "scattergeo"
           }
          ],
          "scattergl": [
           {
            "marker": {
             "colorbar": {
              "outlinewidth": 0,
              "ticks": ""
             }
            },
            "type": "scattergl"
           }
          ],
          "scattermapbox": [
           {
            "marker": {
             "colorbar": {
              "outlinewidth": 0,
              "ticks": ""
             }
            },
            "type": "scattermapbox"
           }
          ],
          "scatterpolar": [
           {
            "marker": {
             "colorbar": {
              "outlinewidth": 0,
              "ticks": ""
             }
            },
            "type": "scatterpolar"
           }
          ],
          "scatterpolargl": [
           {
            "marker": {
             "colorbar": {
              "outlinewidth": 0,
              "ticks": ""
             }
            },
            "type": "scatterpolargl"
           }
          ],
          "scatterternary": [
           {
            "marker": {
             "colorbar": {
              "outlinewidth": 0,
              "ticks": ""
             }
            },
            "type": "scatterternary"
           }
          ],
          "surface": [
           {
            "colorbar": {
             "outlinewidth": 0,
             "ticks": ""
            },
            "colorscale": [
             [
              0,
              "#0d0887"
             ],
             [
              0.1111111111111111,
              "#46039f"
             ],
             [
              0.2222222222222222,
              "#7201a8"
             ],
             [
              0.3333333333333333,
              "#9c179e"
             ],
             [
              0.4444444444444444,
              "#bd3786"
             ],
             [
              0.5555555555555556,
              "#d8576b"
             ],
             [
              0.6666666666666666,
              "#ed7953"
             ],
             [
              0.7777777777777778,
              "#fb9f3a"
             ],
             [
              0.8888888888888888,
              "#fdca26"
             ],
             [
              1,
              "#f0f921"
             ]
            ],
            "type": "surface"
           }
          ],
          "table": [
           {
            "cells": {
             "fill": {
              "color": "#EBF0F8"
             },
             "line": {
              "color": "white"
             }
            },
            "header": {
             "fill": {
              "color": "#C8D4E3"
             },
             "line": {
              "color": "white"
             }
            },
            "type": "table"
           }
          ]
         },
         "layout": {
          "annotationdefaults": {
           "arrowcolor": "#2a3f5f",
           "arrowhead": 0,
           "arrowwidth": 1
          },
          "autotypenumbers": "strict",
          "coloraxis": {
           "colorbar": {
            "outlinewidth": 0,
            "ticks": ""
           }
          },
          "colorscale": {
           "diverging": [
            [
             0,
             "#8e0152"
            ],
            [
             0.1,
             "#c51b7d"
            ],
            [
             0.2,
             "#de77ae"
            ],
            [
             0.3,
             "#f1b6da"
            ],
            [
             0.4,
             "#fde0ef"
            ],
            [
             0.5,
             "#f7f7f7"
            ],
            [
             0.6,
             "#e6f5d0"
            ],
            [
             0.7,
             "#b8e186"
            ],
            [
             0.8,
             "#7fbc41"
            ],
            [
             0.9,
             "#4d9221"
            ],
            [
             1,
             "#276419"
            ]
           ],
           "sequential": [
            [
             0,
             "#0d0887"
            ],
            [
             0.1111111111111111,
             "#46039f"
            ],
            [
             0.2222222222222222,
             "#7201a8"
            ],
            [
             0.3333333333333333,
             "#9c179e"
            ],
            [
             0.4444444444444444,
             "#bd3786"
            ],
            [
             0.5555555555555556,
             "#d8576b"
            ],
            [
             0.6666666666666666,
             "#ed7953"
            ],
            [
             0.7777777777777778,
             "#fb9f3a"
            ],
            [
             0.8888888888888888,
             "#fdca26"
            ],
            [
             1,
             "#f0f921"
            ]
           ],
           "sequentialminus": [
            [
             0,
             "#0d0887"
            ],
            [
             0.1111111111111111,
             "#46039f"
            ],
            [
             0.2222222222222222,
             "#7201a8"
            ],
            [
             0.3333333333333333,
             "#9c179e"
            ],
            [
             0.4444444444444444,
             "#bd3786"
            ],
            [
             0.5555555555555556,
             "#d8576b"
            ],
            [
             0.6666666666666666,
             "#ed7953"
            ],
            [
             0.7777777777777778,
             "#fb9f3a"
            ],
            [
             0.8888888888888888,
             "#fdca26"
            ],
            [
             1,
             "#f0f921"
            ]
           ]
          },
          "colorway": [
           "#636efa",
           "#EF553B",
           "#00cc96",
           "#ab63fa",
           "#FFA15A",
           "#19d3f3",
           "#FF6692",
           "#B6E880",
           "#FF97FF",
           "#FECB52"
          ],
          "font": {
           "color": "#2a3f5f"
          },
          "geo": {
           "bgcolor": "white",
           "lakecolor": "white",
           "landcolor": "#E5ECF6",
           "showlakes": true,
           "showland": true,
           "subunitcolor": "white"
          },
          "hoverlabel": {
           "align": "left"
          },
          "hovermode": "closest",
          "mapbox": {
           "style": "light"
          },
          "paper_bgcolor": "white",
          "plot_bgcolor": "#E5ECF6",
          "polar": {
           "angularaxis": {
            "gridcolor": "white",
            "linecolor": "white",
            "ticks": ""
           },
           "bgcolor": "#E5ECF6",
           "radialaxis": {
            "gridcolor": "white",
            "linecolor": "white",
            "ticks": ""
           }
          },
          "scene": {
           "xaxis": {
            "backgroundcolor": "#E5ECF6",
            "gridcolor": "white",
            "gridwidth": 2,
            "linecolor": "white",
            "showbackground": true,
            "ticks": "",
            "zerolinecolor": "white"
           },
           "yaxis": {
            "backgroundcolor": "#E5ECF6",
            "gridcolor": "white",
            "gridwidth": 2,
            "linecolor": "white",
            "showbackground": true,
            "ticks": "",
            "zerolinecolor": "white"
           },
           "zaxis": {
            "backgroundcolor": "#E5ECF6",
            "gridcolor": "white",
            "gridwidth": 2,
            "linecolor": "white",
            "showbackground": true,
            "ticks": "",
            "zerolinecolor": "white"
           }
          },
          "shapedefaults": {
           "line": {
            "color": "#2a3f5f"
           }
          },
          "ternary": {
           "aaxis": {
            "gridcolor": "white",
            "linecolor": "white",
            "ticks": ""
           },
           "baxis": {
            "gridcolor": "white",
            "linecolor": "white",
            "ticks": ""
           },
           "bgcolor": "#E5ECF6",
           "caxis": {
            "gridcolor": "white",
            "linecolor": "white",
            "ticks": ""
           }
          },
          "title": {
           "x": 0.05
          },
          "xaxis": {
           "automargin": true,
           "gridcolor": "white",
           "linecolor": "white",
           "ticks": "",
           "title": {
            "standoff": 15
           },
           "zerolinecolor": "white",
           "zerolinewidth": 2
          },
          "yaxis": {
           "automargin": true,
           "gridcolor": "white",
           "linecolor": "white",
           "ticks": "",
           "title": {
            "standoff": 15
           },
           "zerolinecolor": "white",
           "zerolinewidth": 2
          }
         }
        },
        "width": 2000,
        "xaxis": {
         "anchor": "y",
         "domain": [
          0,
          1
         ],
         "range": [
          -3,
          15
         ],
         "title": {
          "text": "ERCC_attomoles_in_sample"
         },
         "type": "log"
        },
        "yaxis": {
         "anchor": "x",
         "domain": [
          0,
          1
         ],
         "title": {
          "text": "RPK"
         },
         "type": "log"
        }
       }
      }
     },
     "metadata": {},
     "output_type": "display_data"
    },
    {
     "name": "stderr",
     "output_type": "stream",
     "text": [
      "C:\\Users\\adiro\\AppData\\Local\\Temp\\ipykernel_40068\\2061613557.py:205: SettingWithCopyWarning:\n",
      "\n",
      "\n",
      "A value is trying to be set on a copy of a slice from a DataFrame.\n",
      "Try using .loc[row_indexer,col_indexer] = value instead\n",
      "\n",
      "See the caveats in the documentation: https://pandas.pydata.org/pandas-docs/stable/user_guide/indexing.html#returning-a-view-versus-a-copy\n",
      "\n"
     ]
    },
    {
     "data": {
      "application/vnd.plotly.v1+json": {
       "config": {
        "plotlyServerURL": "https://plot.ly"
       },
       "data": [
        {
         "hovertemplate": "<b>%{hovertext}</b><br><br>in_fit=in fit<br>ERCC_attomoles_in_sample=%{x}<br>RPK=%{y}<extra></extra>",
         "hovertext": [
          "ERCC-00002",
          "ERCC-00003",
          "ERCC-00004",
          "ERCC-00009",
          "ERCC-00012",
          "ERCC-00013",
          "ERCC-00014",
          "ERCC-00016",
          "ERCC-00017",
          "ERCC-00019",
          "ERCC-00022",
          "ERCC-00024",
          "ERCC-00025",
          "ERCC-00028",
          "ERCC-00031",
          "ERCC-00033",
          "ERCC-00034",
          "ERCC-00035",
          "ERCC-00039",
          "ERCC-00040",
          "ERCC-00041",
          "ERCC-00042",
          "ERCC-00043",
          "ERCC-00044",
          "ERCC-00046",
          "ERCC-00048",
          "ERCC-00051",
          "ERCC-00053",
          "ERCC-00057",
          "ERCC-00058",
          "ERCC-00059",
          "ERCC-00060",
          "ERCC-00061",
          "ERCC-00062",
          "ERCC-00067",
          "ERCC-00069",
          "ERCC-00071",
          "ERCC-00073",
          "ERCC-00074",
          "ERCC-00075",
          "ERCC-00076",
          "ERCC-00077",
          "ERCC-00078",
          "ERCC-00079",
          "ERCC-00081",
          "ERCC-00083",
          "ERCC-00084",
          "ERCC-00085",
          "ERCC-00086",
          "ERCC-00092",
          "ERCC-00095",
          "ERCC-00096",
          "ERCC-00097",
          "ERCC-00098",
          "ERCC-00099",
          "ERCC-00104",
          "ERCC-00108",
          "ERCC-00109",
          "ERCC-00111",
          "ERCC-00112",
          "ERCC-00113",
          "ERCC-00116",
          "ERCC-00117",
          "ERCC-00120",
          "ERCC-00123",
          "ERCC-00126",
          "ERCC-00130",
          "ERCC-00131",
          "ERCC-00134",
          "ERCC-00136",
          "ERCC-00137",
          "ERCC-00138",
          "ERCC-00142",
          "ERCC-00143",
          "ERCC-00144",
          "ERCC-00145",
          "ERCC-00147",
          "ERCC-00148",
          "ERCC-00150",
          "ERCC-00154",
          "ERCC-00156",
          "ERCC-00157",
          "ERCC-00158",
          "ERCC-00160",
          "ERCC-00162",
          "ERCC-00163",
          "ERCC-00164",
          "ERCC-00165",
          "ERCC-00168",
          "ERCC-00170",
          "ERCC-00171"
         ],
         "legendgroup": "in fit",
         "marker": {
          "color": "#636efa",
          "symbol": "circle"
         },
         "mode": "markers",
         "name": "in fit",
         "orientation": "h",
         "showlegend": true,
         "type": "scatter",
         "x": [
          487.5,
          30.46875,
          243.75,
          30.46875,
          0.0037193299,
          0.02975463855,
          0.11901855485000001,
          0.0074386598,
          0.0037193299,
          0.9521484375,
          7.6171875,
          0.0074386598,
          1.904296875,
          0.11901855485000001,
          0.05950927742500001,
          0.05950927742500001,
          0.238037109375,
          3.80859375,
          0.11901855485000001,
          0.02975463855,
          0.0074386598,
          15.234375,
          15.234375,
          3.80859375,
          121.875,
          0.0004649164,
          1.904296875,
          0.9521484375,
          0.0004649164,
          0.05950927742500001,
          0.47607421875,
          7.6171875,
          0.00185966495,
          1.904296875,
          0.11901855485000001,
          0.05950927742500001,
          1.904296875,
          0.02975463855,
          487.5,
          0.0004649164,
          7.6171875,
          0.11901855485000001,
          0.9521484375,
          1.904296875,
          0.0074386598,
          0.000929832475,
          0.9521484375,
          0.238037109375,
          0.0037193299,
          7.6171875,
          3.80859375,
          487.5,
          0.014877319275,
          0.00185966495,
          0.47607421875,
          0.0074386598,
          30.46875,
          0.02975463855,
          15.234375,
          3.80859375,
          121.875,
          15.234375,
          0.00185966495,
          0.02975463855,
          0.0074386598,
          0.47607421875,
          975,
          3.80859375,
          0.05950927742500001,
          60.9375,
          0.02975463855,
          0.0037193299,
          0.0074386598,
          0.11901855485000001,
          0.9521484375,
          30.46875,
          0.02975463855,
          0.47607421875,
          0.11901855485000001,
          0.238037109375,
          0.014877319275,
          0.238037109375,
          0.014877319275,
          0.238037109375,
          1.904296875,
          0.47607421875,
          0.014877319275,
          1.904296875,
          0.014877319275,
          0.47607421875,
          121.875
         ],
         "xaxis": "x",
         "y": [
          461278.03958529694,
          44106.549364613886,
          292831.73996175907,
          20934.959349593497,
          0,
          28.465346534653463,
          122.12570260602963,
          3.5545023696682465,
          6.161971830985916,
          1001.5527950310559,
          5280.9587217043945,
          1.8656716417910446,
          2092.2768304914744,
          116.81415929203541,
          47.45166959578208,
          50.93966369930762,
          507.36015701668305,
          2949.557522123894,
          116.21621621621622,
          22.8494623655914,
          5.3475935828877,
          17521.994134897363,
          12725.31769305963,
          3321.7993079584776,
          168318.00766283524,
          2.0161290322580645,
          737.2262773722628,
          802.5415444770284,
          0,
          60.73943661971831,
          411.4285714285714,
          12036.328871892925,
          1.7605633802816902,
          2052.785923753666,
          66.77018633540372,
          72.11961301671064,
          1433.0218068535826,
          34.82587064676617,
          553793.1034482758,
          4.887585532746823,
          3007.7881619937693,
          62.27106227106226,
          1292.0443101711985,
          1754.6583850931677,
          5.617977528089887,
          2.935420743639922,
          865.1911468812878,
          234.59715639810426,
          0.9803921568627451,
          9676.156583629892,
          6404.990403071017,
          641860.8852755195,
          7.648183556405353,
          7.874015748031496,
          452.59259259259255,
          4.451038575667656,
          25864.970645792564,
          20.52238805970149,
          11617.706237424547,
          4476.232394366198,
          136721.42857142858,
          18069.311903566046,
          1.7605633802816902,
          5.597014925373134,
          19.569471624266143,
          205.72450805008944,
          829267.2332389046,
          5450.06485084306,
          7.2992700729927,
          39150.048402710556,
          26.070763500931097,
          5.859375,
          2.028397565922921,
          131.37755102040816,
          617.1003717472119,
          14856.046065259117,
          11.730205278592376,
          293.52226720647775,
          95.5585464333782,
          152.7001862197393,
          6.0728744939271255,
          407.26202158979396,
          11.684518013631939,
          554.5087483176312,
          1965.583173996176,
          482.50460405156537,
          19.569471624266143,
          2035.5504587155963,
          24.4140625,
          674.4868035190616,
          114530.69306930693
         ],
         "yaxis": "y"
        },
        {
         "hovertemplate": "<b>%{hovertext}</b><br><br>in_fit=not in fit<br>ERCC_attomoles_in_sample=%{x}<br>RPK=%{y}<extra></extra>",
         "hovertext": [
          "ERCC-00054"
         ],
         "legendgroup": "not in fit",
         "marker": {
          "color": "#EF553B",
          "symbol": "circle"
         },
         "mode": "markers",
         "name": "not in fit",
         "orientation": "h",
         "showlegend": true,
         "type": "scatter",
         "x": [
          0.47607421875
         ],
         "xaxis": "x",
         "y": [
          10.94890510948905
         ],
         "yaxis": "y"
        },
        {
         "mode": "lines",
         "name": "CASP_biorep3",
         "type": "scatter",
         "x": [
          0.01,
          975
         ],
         "y": [
          9.596177518932413,
          828119.1438952076
         ]
        }
       ],
       "layout": {
        "annotations": [
         {
          "align": "left",
          "bordercolor": "black",
          "borderwidth": 1,
          "showarrow": false,
          "text": "fit of log(y) Vs log(x), paremeters: log(y) = m*log(x)+c",
          "x": 0.4,
          "xanchor": "left",
          "xref": "paper",
          "y": 1,
          "yref": "paper"
         },
         {
          "align": "left",
          "bordercolor": "black",
          "borderwidth": 1,
          "showarrow": false,
          "text": "fit in the range ERCC attomoles in sample [0.01,975.00]",
          "x": 0.4,
          "xanchor": "left",
          "xref": "paper",
          "y": 0.9,
          "yref": "paper"
         },
         {
          "align": "left",
          "bordercolor": "black",
          "borderwidth": 1,
          "showarrow": false,
          "text": "the slop in log scale: m = 0.99",
          "x": 0.4,
          "xanchor": "left",
          "xref": "paper",
          "y": 0.8,
          "yref": "paper"
         },
         {
          "align": "left",
          "bordercolor": "black",
          "borderwidth": 1,
          "showarrow": false,
          "text": "the intercept in log scale: c = 6.82",
          "x": 0.4,
          "xanchor": "left",
          "xref": "paper",
          "y": 0.7,
          "yref": "paper"
         },
         {
          "align": "left",
          "bordercolor": "black",
          "borderwidth": 1,
          "showarrow": false,
          "text": "",
          "x": 0.4,
          "xanchor": "left",
          "xref": "paper",
          "y": 0.6,
          "yref": "paper"
         },
         {
          "align": "left",
          "bordercolor": "black",
          "borderwidth": 1,
          "showarrow": false,
          "text": "log(y) = m*log(x)+c --> y = e^c * x^m",
          "x": 0.4,
          "xanchor": "left",
          "xref": "paper",
          "y": 0.5,
          "yref": "paper"
         },
         {
          "align": "left",
          "bordercolor": "black",
          "borderwidth": 1,
          "showarrow": false,
          "text": "the slope in linear scale: e^c = 9.14E+02",
          "x": 0.4,
          "xanchor": "left",
          "xref": "paper",
          "y": 0.3999999999999999,
          "yref": "paper"
         },
         {
          "align": "left",
          "bordercolor": "black",
          "borderwidth": 1,
          "showarrow": false,
          "text": "R^2 = 0.97",
          "x": 0.4,
          "xanchor": "left",
          "xref": "paper",
          "y": 0.29999999999999993,
          "yref": "paper"
         },
         {
          "align": "left",
          "bordercolor": "black",
          "borderwidth": 1,
          "showarrow": false,
          "text": "",
          "x": 0.4,
          "xanchor": "left",
          "xref": "paper",
          "y": 0.19999999999999996,
          "yref": "paper"
         },
         {
          "align": "left",
          "bordercolor": "black",
          "borderwidth": 1,
          "showarrow": false,
          "text": "ERCCs with no reads detected",
          "x": 0.4,
          "xanchor": "left",
          "xref": "paper",
          "y": 0.09999999999999998,
          "yref": "paper"
         },
         {
          "align": "left",
          "bordercolor": "black",
          "borderwidth": 1,
          "showarrow": false,
          "text": " not fitted and not shown",
          "x": 0.4,
          "xanchor": "left",
          "xref": "paper",
          "y": 0,
          "yref": "paper"
         }
        ],
        "font": {
         "size": 24
        },
        "height": 600,
        "legend": {
         "title": {
          "text": "in_fit"
         },
         "tracegroupgap": 0
        },
        "margin": {
         "t": 60
        },
        "template": {
         "data": {
          "bar": [
           {
            "error_x": {
             "color": "#2a3f5f"
            },
            "error_y": {
             "color": "#2a3f5f"
            },
            "marker": {
             "line": {
              "color": "#E5ECF6",
              "width": 0.5
             },
             "pattern": {
              "fillmode": "overlay",
              "size": 10,
              "solidity": 0.2
             }
            },
            "type": "bar"
           }
          ],
          "barpolar": [
           {
            "marker": {
             "line": {
              "color": "#E5ECF6",
              "width": 0.5
             },
             "pattern": {
              "fillmode": "overlay",
              "size": 10,
              "solidity": 0.2
             }
            },
            "type": "barpolar"
           }
          ],
          "carpet": [
           {
            "aaxis": {
             "endlinecolor": "#2a3f5f",
             "gridcolor": "white",
             "linecolor": "white",
             "minorgridcolor": "white",
             "startlinecolor": "#2a3f5f"
            },
            "baxis": {
             "endlinecolor": "#2a3f5f",
             "gridcolor": "white",
             "linecolor": "white",
             "minorgridcolor": "white",
             "startlinecolor": "#2a3f5f"
            },
            "type": "carpet"
           }
          ],
          "choropleth": [
           {
            "colorbar": {
             "outlinewidth": 0,
             "ticks": ""
            },
            "type": "choropleth"
           }
          ],
          "contour": [
           {
            "colorbar": {
             "outlinewidth": 0,
             "ticks": ""
            },
            "colorscale": [
             [
              0,
              "#0d0887"
             ],
             [
              0.1111111111111111,
              "#46039f"
             ],
             [
              0.2222222222222222,
              "#7201a8"
             ],
             [
              0.3333333333333333,
              "#9c179e"
             ],
             [
              0.4444444444444444,
              "#bd3786"
             ],
             [
              0.5555555555555556,
              "#d8576b"
             ],
             [
              0.6666666666666666,
              "#ed7953"
             ],
             [
              0.7777777777777778,
              "#fb9f3a"
             ],
             [
              0.8888888888888888,
              "#fdca26"
             ],
             [
              1,
              "#f0f921"
             ]
            ],
            "type": "contour"
           }
          ],
          "contourcarpet": [
           {
            "colorbar": {
             "outlinewidth": 0,
             "ticks": ""
            },
            "type": "contourcarpet"
           }
          ],
          "heatmap": [
           {
            "colorbar": {
             "outlinewidth": 0,
             "ticks": ""
            },
            "colorscale": [
             [
              0,
              "#0d0887"
             ],
             [
              0.1111111111111111,
              "#46039f"
             ],
             [
              0.2222222222222222,
              "#7201a8"
             ],
             [
              0.3333333333333333,
              "#9c179e"
             ],
             [
              0.4444444444444444,
              "#bd3786"
             ],
             [
              0.5555555555555556,
              "#d8576b"
             ],
             [
              0.6666666666666666,
              "#ed7953"
             ],
             [
              0.7777777777777778,
              "#fb9f3a"
             ],
             [
              0.8888888888888888,
              "#fdca26"
             ],
             [
              1,
              "#f0f921"
             ]
            ],
            "type": "heatmap"
           }
          ],
          "heatmapgl": [
           {
            "colorbar": {
             "outlinewidth": 0,
             "ticks": ""
            },
            "colorscale": [
             [
              0,
              "#0d0887"
             ],
             [
              0.1111111111111111,
              "#46039f"
             ],
             [
              0.2222222222222222,
              "#7201a8"
             ],
             [
              0.3333333333333333,
              "#9c179e"
             ],
             [
              0.4444444444444444,
              "#bd3786"
             ],
             [
              0.5555555555555556,
              "#d8576b"
             ],
             [
              0.6666666666666666,
              "#ed7953"
             ],
             [
              0.7777777777777778,
              "#fb9f3a"
             ],
             [
              0.8888888888888888,
              "#fdca26"
             ],
             [
              1,
              "#f0f921"
             ]
            ],
            "type": "heatmapgl"
           }
          ],
          "histogram": [
           {
            "marker": {
             "pattern": {
              "fillmode": "overlay",
              "size": 10,
              "solidity": 0.2
             }
            },
            "type": "histogram"
           }
          ],
          "histogram2d": [
           {
            "colorbar": {
             "outlinewidth": 0,
             "ticks": ""
            },
            "colorscale": [
             [
              0,
              "#0d0887"
             ],
             [
              0.1111111111111111,
              "#46039f"
             ],
             [
              0.2222222222222222,
              "#7201a8"
             ],
             [
              0.3333333333333333,
              "#9c179e"
             ],
             [
              0.4444444444444444,
              "#bd3786"
             ],
             [
              0.5555555555555556,
              "#d8576b"
             ],
             [
              0.6666666666666666,
              "#ed7953"
             ],
             [
              0.7777777777777778,
              "#fb9f3a"
             ],
             [
              0.8888888888888888,
              "#fdca26"
             ],
             [
              1,
              "#f0f921"
             ]
            ],
            "type": "histogram2d"
           }
          ],
          "histogram2dcontour": [
           {
            "colorbar": {
             "outlinewidth": 0,
             "ticks": ""
            },
            "colorscale": [
             [
              0,
              "#0d0887"
             ],
             [
              0.1111111111111111,
              "#46039f"
             ],
             [
              0.2222222222222222,
              "#7201a8"
             ],
             [
              0.3333333333333333,
              "#9c179e"
             ],
             [
              0.4444444444444444,
              "#bd3786"
             ],
             [
              0.5555555555555556,
              "#d8576b"
             ],
             [
              0.6666666666666666,
              "#ed7953"
             ],
             [
              0.7777777777777778,
              "#fb9f3a"
             ],
             [
              0.8888888888888888,
              "#fdca26"
             ],
             [
              1,
              "#f0f921"
             ]
            ],
            "type": "histogram2dcontour"
           }
          ],
          "mesh3d": [
           {
            "colorbar": {
             "outlinewidth": 0,
             "ticks": ""
            },
            "type": "mesh3d"
           }
          ],
          "parcoords": [
           {
            "line": {
             "colorbar": {
              "outlinewidth": 0,
              "ticks": ""
             }
            },
            "type": "parcoords"
           }
          ],
          "pie": [
           {
            "automargin": true,
            "type": "pie"
           }
          ],
          "scatter": [
           {
            "marker": {
             "colorbar": {
              "outlinewidth": 0,
              "ticks": ""
             }
            },
            "type": "scatter"
           }
          ],
          "scatter3d": [
           {
            "line": {
             "colorbar": {
              "outlinewidth": 0,
              "ticks": ""
             }
            },
            "marker": {
             "colorbar": {
              "outlinewidth": 0,
              "ticks": ""
             }
            },
            "type": "scatter3d"
           }
          ],
          "scattercarpet": [
           {
            "marker": {
             "colorbar": {
              "outlinewidth": 0,
              "ticks": ""
             }
            },
            "type": "scattercarpet"
           }
          ],
          "scattergeo": [
           {
            "marker": {
             "colorbar": {
              "outlinewidth": 0,
              "ticks": ""
             }
            },
            "type": "scattergeo"
           }
          ],
          "scattergl": [
           {
            "marker": {
             "colorbar": {
              "outlinewidth": 0,
              "ticks": ""
             }
            },
            "type": "scattergl"
           }
          ],
          "scattermapbox": [
           {
            "marker": {
             "colorbar": {
              "outlinewidth": 0,
              "ticks": ""
             }
            },
            "type": "scattermapbox"
           }
          ],
          "scatterpolar": [
           {
            "marker": {
             "colorbar": {
              "outlinewidth": 0,
              "ticks": ""
             }
            },
            "type": "scatterpolar"
           }
          ],
          "scatterpolargl": [
           {
            "marker": {
             "colorbar": {
              "outlinewidth": 0,
              "ticks": ""
             }
            },
            "type": "scatterpolargl"
           }
          ],
          "scatterternary": [
           {
            "marker": {
             "colorbar": {
              "outlinewidth": 0,
              "ticks": ""
             }
            },
            "type": "scatterternary"
           }
          ],
          "surface": [
           {
            "colorbar": {
             "outlinewidth": 0,
             "ticks": ""
            },
            "colorscale": [
             [
              0,
              "#0d0887"
             ],
             [
              0.1111111111111111,
              "#46039f"
             ],
             [
              0.2222222222222222,
              "#7201a8"
             ],
             [
              0.3333333333333333,
              "#9c179e"
             ],
             [
              0.4444444444444444,
              "#bd3786"
             ],
             [
              0.5555555555555556,
              "#d8576b"
             ],
             [
              0.6666666666666666,
              "#ed7953"
             ],
             [
              0.7777777777777778,
              "#fb9f3a"
             ],
             [
              0.8888888888888888,
              "#fdca26"
             ],
             [
              1,
              "#f0f921"
             ]
            ],
            "type": "surface"
           }
          ],
          "table": [
           {
            "cells": {
             "fill": {
              "color": "#EBF0F8"
             },
             "line": {
              "color": "white"
             }
            },
            "header": {
             "fill": {
              "color": "#C8D4E3"
             },
             "line": {
              "color": "white"
             }
            },
            "type": "table"
           }
          ]
         },
         "layout": {
          "annotationdefaults": {
           "arrowcolor": "#2a3f5f",
           "arrowhead": 0,
           "arrowwidth": 1
          },
          "autotypenumbers": "strict",
          "coloraxis": {
           "colorbar": {
            "outlinewidth": 0,
            "ticks": ""
           }
          },
          "colorscale": {
           "diverging": [
            [
             0,
             "#8e0152"
            ],
            [
             0.1,
             "#c51b7d"
            ],
            [
             0.2,
             "#de77ae"
            ],
            [
             0.3,
             "#f1b6da"
            ],
            [
             0.4,
             "#fde0ef"
            ],
            [
             0.5,
             "#f7f7f7"
            ],
            [
             0.6,
             "#e6f5d0"
            ],
            [
             0.7,
             "#b8e186"
            ],
            [
             0.8,
             "#7fbc41"
            ],
            [
             0.9,
             "#4d9221"
            ],
            [
             1,
             "#276419"
            ]
           ],
           "sequential": [
            [
             0,
             "#0d0887"
            ],
            [
             0.1111111111111111,
             "#46039f"
            ],
            [
             0.2222222222222222,
             "#7201a8"
            ],
            [
             0.3333333333333333,
             "#9c179e"
            ],
            [
             0.4444444444444444,
             "#bd3786"
            ],
            [
             0.5555555555555556,
             "#d8576b"
            ],
            [
             0.6666666666666666,
             "#ed7953"
            ],
            [
             0.7777777777777778,
             "#fb9f3a"
            ],
            [
             0.8888888888888888,
             "#fdca26"
            ],
            [
             1,
             "#f0f921"
            ]
           ],
           "sequentialminus": [
            [
             0,
             "#0d0887"
            ],
            [
             0.1111111111111111,
             "#46039f"
            ],
            [
             0.2222222222222222,
             "#7201a8"
            ],
            [
             0.3333333333333333,
             "#9c179e"
            ],
            [
             0.4444444444444444,
             "#bd3786"
            ],
            [
             0.5555555555555556,
             "#d8576b"
            ],
            [
             0.6666666666666666,
             "#ed7953"
            ],
            [
             0.7777777777777778,
             "#fb9f3a"
            ],
            [
             0.8888888888888888,
             "#fdca26"
            ],
            [
             1,
             "#f0f921"
            ]
           ]
          },
          "colorway": [
           "#636efa",
           "#EF553B",
           "#00cc96",
           "#ab63fa",
           "#FFA15A",
           "#19d3f3",
           "#FF6692",
           "#B6E880",
           "#FF97FF",
           "#FECB52"
          ],
          "font": {
           "color": "#2a3f5f"
          },
          "geo": {
           "bgcolor": "white",
           "lakecolor": "white",
           "landcolor": "#E5ECF6",
           "showlakes": true,
           "showland": true,
           "subunitcolor": "white"
          },
          "hoverlabel": {
           "align": "left"
          },
          "hovermode": "closest",
          "mapbox": {
           "style": "light"
          },
          "paper_bgcolor": "white",
          "plot_bgcolor": "#E5ECF6",
          "polar": {
           "angularaxis": {
            "gridcolor": "white",
            "linecolor": "white",
            "ticks": ""
           },
           "bgcolor": "#E5ECF6",
           "radialaxis": {
            "gridcolor": "white",
            "linecolor": "white",
            "ticks": ""
           }
          },
          "scene": {
           "xaxis": {
            "backgroundcolor": "#E5ECF6",
            "gridcolor": "white",
            "gridwidth": 2,
            "linecolor": "white",
            "showbackground": true,
            "ticks": "",
            "zerolinecolor": "white"
           },
           "yaxis": {
            "backgroundcolor": "#E5ECF6",
            "gridcolor": "white",
            "gridwidth": 2,
            "linecolor": "white",
            "showbackground": true,
            "ticks": "",
            "zerolinecolor": "white"
           },
           "zaxis": {
            "backgroundcolor": "#E5ECF6",
            "gridcolor": "white",
            "gridwidth": 2,
            "linecolor": "white",
            "showbackground": true,
            "ticks": "",
            "zerolinecolor": "white"
           }
          },
          "shapedefaults": {
           "line": {
            "color": "#2a3f5f"
           }
          },
          "ternary": {
           "aaxis": {
            "gridcolor": "white",
            "linecolor": "white",
            "ticks": ""
           },
           "baxis": {
            "gridcolor": "white",
            "linecolor": "white",
            "ticks": ""
           },
           "bgcolor": "#E5ECF6",
           "caxis": {
            "gridcolor": "white",
            "linecolor": "white",
            "ticks": ""
           }
          },
          "title": {
           "x": 0.05
          },
          "xaxis": {
           "automargin": true,
           "gridcolor": "white",
           "linecolor": "white",
           "ticks": "",
           "title": {
            "standoff": 15
           },
           "zerolinecolor": "white",
           "zerolinewidth": 2
          },
          "yaxis": {
           "automargin": true,
           "gridcolor": "white",
           "linecolor": "white",
           "ticks": "",
           "title": {
            "standoff": 15
           },
           "zerolinecolor": "white",
           "zerolinewidth": 2
          }
         }
        },
        "width": 2000,
        "xaxis": {
         "anchor": "y",
         "domain": [
          0,
          1
         ],
         "range": [
          -3,
          15
         ],
         "title": {
          "text": "ERCC_attomoles_in_sample"
         },
         "type": "log"
        },
        "yaxis": {
         "anchor": "x",
         "domain": [
          0,
          1
         ],
         "title": {
          "text": "RPK"
         },
         "type": "log"
        }
       }
      }
     },
     "metadata": {},
     "output_type": "display_data"
    },
    {
     "name": "stderr",
     "output_type": "stream",
     "text": [
      "C:\\Users\\adiro\\AppData\\Local\\Temp\\ipykernel_40068\\2061613557.py:205: SettingWithCopyWarning:\n",
      "\n",
      "\n",
      "A value is trying to be set on a copy of a slice from a DataFrame.\n",
      "Try using .loc[row_indexer,col_indexer] = value instead\n",
      "\n",
      "See the caveats in the documentation: https://pandas.pydata.org/pandas-docs/stable/user_guide/indexing.html#returning-a-view-versus-a-copy\n",
      "\n"
     ]
    },
    {
     "data": {
      "application/vnd.plotly.v1+json": {
       "config": {
        "plotlyServerURL": "https://plot.ly"
       },
       "data": [
        {
         "hovertemplate": "<b>%{hovertext}</b><br><br>in_fit=in fit<br>ERCC_attomoles_in_sample=%{x}<br>RPK=%{y}<extra></extra>",
         "hovertext": [
          "ERCC-00002",
          "ERCC-00003",
          "ERCC-00004",
          "ERCC-00009",
          "ERCC-00012",
          "ERCC-00013",
          "ERCC-00014",
          "ERCC-00016",
          "ERCC-00017",
          "ERCC-00019",
          "ERCC-00022",
          "ERCC-00024",
          "ERCC-00025",
          "ERCC-00028",
          "ERCC-00031",
          "ERCC-00033",
          "ERCC-00034",
          "ERCC-00035",
          "ERCC-00039",
          "ERCC-00040",
          "ERCC-00041",
          "ERCC-00042",
          "ERCC-00043",
          "ERCC-00044",
          "ERCC-00046",
          "ERCC-00048",
          "ERCC-00051",
          "ERCC-00053",
          "ERCC-00057",
          "ERCC-00058",
          "ERCC-00059",
          "ERCC-00060",
          "ERCC-00061",
          "ERCC-00062",
          "ERCC-00067",
          "ERCC-00069",
          "ERCC-00071",
          "ERCC-00073",
          "ERCC-00074",
          "ERCC-00075",
          "ERCC-00076",
          "ERCC-00077",
          "ERCC-00078",
          "ERCC-00079",
          "ERCC-00081",
          "ERCC-00083",
          "ERCC-00084",
          "ERCC-00085",
          "ERCC-00086",
          "ERCC-00092",
          "ERCC-00095",
          "ERCC-00096",
          "ERCC-00097",
          "ERCC-00098",
          "ERCC-00099",
          "ERCC-00104",
          "ERCC-00108",
          "ERCC-00109",
          "ERCC-00111",
          "ERCC-00112",
          "ERCC-00113",
          "ERCC-00116",
          "ERCC-00117",
          "ERCC-00120",
          "ERCC-00123",
          "ERCC-00126",
          "ERCC-00130",
          "ERCC-00131",
          "ERCC-00134",
          "ERCC-00136",
          "ERCC-00137",
          "ERCC-00138",
          "ERCC-00142",
          "ERCC-00143",
          "ERCC-00144",
          "ERCC-00145",
          "ERCC-00147",
          "ERCC-00148",
          "ERCC-00150",
          "ERCC-00154",
          "ERCC-00156",
          "ERCC-00157",
          "ERCC-00158",
          "ERCC-00160",
          "ERCC-00162",
          "ERCC-00163",
          "ERCC-00164",
          "ERCC-00165",
          "ERCC-00168",
          "ERCC-00170",
          "ERCC-00171"
         ],
         "legendgroup": "in fit",
         "marker": {
          "color": "#636efa",
          "symbol": "circle"
         },
         "mode": "markers",
         "name": "in fit",
         "orientation": "h",
         "showlegend": true,
         "type": "scatter",
         "x": [
          487.5,
          30.46875,
          243.75,
          30.46875,
          0.0037193299,
          0.02975463855,
          0.11901855485000001,
          0.0074386598,
          0.0037193299,
          0.9521484375,
          7.6171875,
          0.0074386598,
          1.904296875,
          0.11901855485000001,
          0.05950927742500001,
          0.05950927742500001,
          0.238037109375,
          3.80859375,
          0.11901855485000001,
          0.02975463855,
          0.0074386598,
          15.234375,
          15.234375,
          3.80859375,
          121.875,
          0.0004649164,
          1.904296875,
          0.9521484375,
          0.0004649164,
          0.05950927742500001,
          0.47607421875,
          7.6171875,
          0.00185966495,
          1.904296875,
          0.11901855485000001,
          0.05950927742500001,
          1.904296875,
          0.02975463855,
          487.5,
          0.0004649164,
          7.6171875,
          0.11901855485000001,
          0.9521484375,
          1.904296875,
          0.0074386598,
          0.000929832475,
          0.9521484375,
          0.238037109375,
          0.0037193299,
          7.6171875,
          3.80859375,
          487.5,
          0.014877319275,
          0.00185966495,
          0.47607421875,
          0.0074386598,
          30.46875,
          0.02975463855,
          15.234375,
          3.80859375,
          121.875,
          15.234375,
          0.00185966495,
          0.02975463855,
          0.0074386598,
          0.47607421875,
          975,
          3.80859375,
          0.05950927742500001,
          60.9375,
          0.02975463855,
          0.0037193299,
          0.0074386598,
          0.11901855485000001,
          0.9521484375,
          30.46875,
          0.02975463855,
          0.47607421875,
          0.11901855485000001,
          0.238037109375,
          0.014877319275,
          0.238037109375,
          0.014877319275,
          0.238037109375,
          1.904296875,
          0.47607421875,
          0.014877319275,
          1.904296875,
          0.014877319275,
          0.47607421875,
          121.875
         ],
         "xaxis": "x",
         "y": [
          744986.8049010368,
          56569.892473118285,
          306003.8240917782,
          33842.47967479675,
          3.018108651911469,
          55.69306930693069,
          175.77925396014308,
          11.848341232227488,
          7.042253521126761,
          1757.7639751552795,
          7443.4087882822905,
          3.731343283582089,
          3010.0300902708123,
          155.75221238938053,
          53.602811950790866,
          75.1730959446093,
          746.8105986261041,
          4524.778761061947,
          114.86486486486487,
          51.075268817204304,
          10.6951871657754,
          21867.057673509287,
          19559.139784946237,
          5038.062283737025,
          230189.6551724138,
          2.0161290322580645,
          872.2627737226277,
          1169.1104594330402,
          0.9794319294809012,
          79.22535211267606,
          554.2857142857142,
          15556.405353728489,
          4.401408450704226,
          2845.552297165201,
          86.95652173913044,
          126.64907651715039,
          1847.3520249221183,
          36.48424543946932,
          665980.8429118773,
          2.932551319648094,
          5545.171339563863,
          117.21611721611721,
          1590.1309164149043,
          2810.55900621118,
          11.235955056179774,
          6.8493150684931505,
          1504.0241448692152,
          305.6872037914692,
          2.941176470588235,
          14274.911032028469,
          7412.667946257197,
          918543.8121047877,
          21.03250478011472,
          12.248468941382328,
          563.7037037037037,
          6.923837784371909,
          41606.65362035225,
          5.597014925373134,
          15274.647887323943,
          6880.281690140846,
          190371.42857142858,
          31362.631843294825,
          0.8802816901408451,
          26.119402985074625,
          17.61252446183953,
          329.15921288014306,
          1171681.775259679,
          8102.464332036317,
          29.1970802919708,
          68097.77347531462,
          20.484171322160147,
          1.953125,
          2.028397565922921,
          232.14285714285714,
          931.2267657992564,
          22279.27063339731,
          14.66275659824047,
          336.0323886639676,
          157.46971736204577,
          225.32588454376162,
          18.21862348178138,
          676.1530912659471,
          15.579357351509252,
          970.3903095558546,
          2495.2198852772467,
          941.0681399631675,
          16.634050880626223,
          3150.229357798165,
          32.2265625,
          1345.0635386119259,
          145540.59405940594
         ],
         "yaxis": "y"
        },
        {
         "hovertemplate": "<b>%{hovertext}</b><br><br>in_fit=not in fit<br>ERCC_attomoles_in_sample=%{x}<br>RPK=%{y}<extra></extra>",
         "hovertext": [
          "ERCC-00054"
         ],
         "legendgroup": "not in fit",
         "marker": {
          "color": "#EF553B",
          "symbol": "circle"
         },
         "mode": "markers",
         "name": "not in fit",
         "orientation": "h",
         "showlegend": true,
         "type": "scatter",
         "x": [
          0.47607421875
         ],
         "xaxis": "x",
         "y": [
          18.24817518248175
         ],
         "yaxis": "y"
        },
        {
         "mode": "lines",
         "name": "CASP_biorep1a",
         "type": "scatter",
         "x": [
          0.01,
          975
         ],
         "y": [
          13.668725497302214,
          1224378.163975365
         ]
        }
       ],
       "layout": {
        "annotations": [
         {
          "align": "left",
          "bordercolor": "black",
          "borderwidth": 1,
          "showarrow": false,
          "text": "fit of log(y) Vs log(x), paremeters: log(y) = m*log(x)+c",
          "x": 0.4,
          "xanchor": "left",
          "xref": "paper",
          "y": 1,
          "yref": "paper"
         },
         {
          "align": "left",
          "bordercolor": "black",
          "borderwidth": 1,
          "showarrow": false,
          "text": "fit in the range ERCC attomoles in sample [0.01,975.00]",
          "x": 0.4,
          "xanchor": "left",
          "xref": "paper",
          "y": 0.9,
          "yref": "paper"
         },
         {
          "align": "left",
          "bordercolor": "black",
          "borderwidth": 1,
          "showarrow": false,
          "text": "the slop in log scale: m = 0.99",
          "x": 0.4,
          "xanchor": "left",
          "xref": "paper",
          "y": 0.8,
          "yref": "paper"
         },
         {
          "align": "left",
          "bordercolor": "black",
          "borderwidth": 1,
          "showarrow": false,
          "text": "the intercept in log scale: c = 7.19",
          "x": 0.4,
          "xanchor": "left",
          "xref": "paper",
          "y": 0.7,
          "yref": "paper"
         },
         {
          "align": "left",
          "bordercolor": "black",
          "borderwidth": 1,
          "showarrow": false,
          "text": "",
          "x": 0.4,
          "xanchor": "left",
          "xref": "paper",
          "y": 0.6,
          "yref": "paper"
         },
         {
          "align": "left",
          "bordercolor": "black",
          "borderwidth": 1,
          "showarrow": false,
          "text": "log(y) = m*log(x)+c --> y = e^c * x^m",
          "x": 0.4,
          "xanchor": "left",
          "xref": "paper",
          "y": 0.5,
          "yref": "paper"
         },
         {
          "align": "left",
          "bordercolor": "black",
          "borderwidth": 1,
          "showarrow": false,
          "text": "the slope in linear scale: e^c = 1.32E+03",
          "x": 0.4,
          "xanchor": "left",
          "xref": "paper",
          "y": 0.3999999999999999,
          "yref": "paper"
         },
         {
          "align": "left",
          "bordercolor": "black",
          "borderwidth": 1,
          "showarrow": false,
          "text": "R^2 = 0.97",
          "x": 0.4,
          "xanchor": "left",
          "xref": "paper",
          "y": 0.29999999999999993,
          "yref": "paper"
         },
         {
          "align": "left",
          "bordercolor": "black",
          "borderwidth": 1,
          "showarrow": false,
          "text": "",
          "x": 0.4,
          "xanchor": "left",
          "xref": "paper",
          "y": 0.19999999999999996,
          "yref": "paper"
         },
         {
          "align": "left",
          "bordercolor": "black",
          "borderwidth": 1,
          "showarrow": false,
          "text": "ERCCs with no reads detected",
          "x": 0.4,
          "xanchor": "left",
          "xref": "paper",
          "y": 0.09999999999999998,
          "yref": "paper"
         },
         {
          "align": "left",
          "bordercolor": "black",
          "borderwidth": 1,
          "showarrow": false,
          "text": " not fitted and not shown",
          "x": 0.4,
          "xanchor": "left",
          "xref": "paper",
          "y": 0,
          "yref": "paper"
         }
        ],
        "font": {
         "size": 24
        },
        "height": 600,
        "legend": {
         "title": {
          "text": "in_fit"
         },
         "tracegroupgap": 0
        },
        "margin": {
         "t": 60
        },
        "template": {
         "data": {
          "bar": [
           {
            "error_x": {
             "color": "#2a3f5f"
            },
            "error_y": {
             "color": "#2a3f5f"
            },
            "marker": {
             "line": {
              "color": "#E5ECF6",
              "width": 0.5
             },
             "pattern": {
              "fillmode": "overlay",
              "size": 10,
              "solidity": 0.2
             }
            },
            "type": "bar"
           }
          ],
          "barpolar": [
           {
            "marker": {
             "line": {
              "color": "#E5ECF6",
              "width": 0.5
             },
             "pattern": {
              "fillmode": "overlay",
              "size": 10,
              "solidity": 0.2
             }
            },
            "type": "barpolar"
           }
          ],
          "carpet": [
           {
            "aaxis": {
             "endlinecolor": "#2a3f5f",
             "gridcolor": "white",
             "linecolor": "white",
             "minorgridcolor": "white",
             "startlinecolor": "#2a3f5f"
            },
            "baxis": {
             "endlinecolor": "#2a3f5f",
             "gridcolor": "white",
             "linecolor": "white",
             "minorgridcolor": "white",
             "startlinecolor": "#2a3f5f"
            },
            "type": "carpet"
           }
          ],
          "choropleth": [
           {
            "colorbar": {
             "outlinewidth": 0,
             "ticks": ""
            },
            "type": "choropleth"
           }
          ],
          "contour": [
           {
            "colorbar": {
             "outlinewidth": 0,
             "ticks": ""
            },
            "colorscale": [
             [
              0,
              "#0d0887"
             ],
             [
              0.1111111111111111,
              "#46039f"
             ],
             [
              0.2222222222222222,
              "#7201a8"
             ],
             [
              0.3333333333333333,
              "#9c179e"
             ],
             [
              0.4444444444444444,
              "#bd3786"
             ],
             [
              0.5555555555555556,
              "#d8576b"
             ],
             [
              0.6666666666666666,
              "#ed7953"
             ],
             [
              0.7777777777777778,
              "#fb9f3a"
             ],
             [
              0.8888888888888888,
              "#fdca26"
             ],
             [
              1,
              "#f0f921"
             ]
            ],
            "type": "contour"
           }
          ],
          "contourcarpet": [
           {
            "colorbar": {
             "outlinewidth": 0,
             "ticks": ""
            },
            "type": "contourcarpet"
           }
          ],
          "heatmap": [
           {
            "colorbar": {
             "outlinewidth": 0,
             "ticks": ""
            },
            "colorscale": [
             [
              0,
              "#0d0887"
             ],
             [
              0.1111111111111111,
              "#46039f"
             ],
             [
              0.2222222222222222,
              "#7201a8"
             ],
             [
              0.3333333333333333,
              "#9c179e"
             ],
             [
              0.4444444444444444,
              "#bd3786"
             ],
             [
              0.5555555555555556,
              "#d8576b"
             ],
             [
              0.6666666666666666,
              "#ed7953"
             ],
             [
              0.7777777777777778,
              "#fb9f3a"
             ],
             [
              0.8888888888888888,
              "#fdca26"
             ],
             [
              1,
              "#f0f921"
             ]
            ],
            "type": "heatmap"
           }
          ],
          "heatmapgl": [
           {
            "colorbar": {
             "outlinewidth": 0,
             "ticks": ""
            },
            "colorscale": [
             [
              0,
              "#0d0887"
             ],
             [
              0.1111111111111111,
              "#46039f"
             ],
             [
              0.2222222222222222,
              "#7201a8"
             ],
             [
              0.3333333333333333,
              "#9c179e"
             ],
             [
              0.4444444444444444,
              "#bd3786"
             ],
             [
              0.5555555555555556,
              "#d8576b"
             ],
             [
              0.6666666666666666,
              "#ed7953"
             ],
             [
              0.7777777777777778,
              "#fb9f3a"
             ],
             [
              0.8888888888888888,
              "#fdca26"
             ],
             [
              1,
              "#f0f921"
             ]
            ],
            "type": "heatmapgl"
           }
          ],
          "histogram": [
           {
            "marker": {
             "pattern": {
              "fillmode": "overlay",
              "size": 10,
              "solidity": 0.2
             }
            },
            "type": "histogram"
           }
          ],
          "histogram2d": [
           {
            "colorbar": {
             "outlinewidth": 0,
             "ticks": ""
            },
            "colorscale": [
             [
              0,
              "#0d0887"
             ],
             [
              0.1111111111111111,
              "#46039f"
             ],
             [
              0.2222222222222222,
              "#7201a8"
             ],
             [
              0.3333333333333333,
              "#9c179e"
             ],
             [
              0.4444444444444444,
              "#bd3786"
             ],
             [
              0.5555555555555556,
              "#d8576b"
             ],
             [
              0.6666666666666666,
              "#ed7953"
             ],
             [
              0.7777777777777778,
              "#fb9f3a"
             ],
             [
              0.8888888888888888,
              "#fdca26"
             ],
             [
              1,
              "#f0f921"
             ]
            ],
            "type": "histogram2d"
           }
          ],
          "histogram2dcontour": [
           {
            "colorbar": {
             "outlinewidth": 0,
             "ticks": ""
            },
            "colorscale": [
             [
              0,
              "#0d0887"
             ],
             [
              0.1111111111111111,
              "#46039f"
             ],
             [
              0.2222222222222222,
              "#7201a8"
             ],
             [
              0.3333333333333333,
              "#9c179e"
             ],
             [
              0.4444444444444444,
              "#bd3786"
             ],
             [
              0.5555555555555556,
              "#d8576b"
             ],
             [
              0.6666666666666666,
              "#ed7953"
             ],
             [
              0.7777777777777778,
              "#fb9f3a"
             ],
             [
              0.8888888888888888,
              "#fdca26"
             ],
             [
              1,
              "#f0f921"
             ]
            ],
            "type": "histogram2dcontour"
           }
          ],
          "mesh3d": [
           {
            "colorbar": {
             "outlinewidth": 0,
             "ticks": ""
            },
            "type": "mesh3d"
           }
          ],
          "parcoords": [
           {
            "line": {
             "colorbar": {
              "outlinewidth": 0,
              "ticks": ""
             }
            },
            "type": "parcoords"
           }
          ],
          "pie": [
           {
            "automargin": true,
            "type": "pie"
           }
          ],
          "scatter": [
           {
            "marker": {
             "colorbar": {
              "outlinewidth": 0,
              "ticks": ""
             }
            },
            "type": "scatter"
           }
          ],
          "scatter3d": [
           {
            "line": {
             "colorbar": {
              "outlinewidth": 0,
              "ticks": ""
             }
            },
            "marker": {
             "colorbar": {
              "outlinewidth": 0,
              "ticks": ""
             }
            },
            "type": "scatter3d"
           }
          ],
          "scattercarpet": [
           {
            "marker": {
             "colorbar": {
              "outlinewidth": 0,
              "ticks": ""
             }
            },
            "type": "scattercarpet"
           }
          ],
          "scattergeo": [
           {
            "marker": {
             "colorbar": {
              "outlinewidth": 0,
              "ticks": ""
             }
            },
            "type": "scattergeo"
           }
          ],
          "scattergl": [
           {
            "marker": {
             "colorbar": {
              "outlinewidth": 0,
              "ticks": ""
             }
            },
            "type": "scattergl"
           }
          ],
          "scattermapbox": [
           {
            "marker": {
             "colorbar": {
              "outlinewidth": 0,
              "ticks": ""
             }
            },
            "type": "scattermapbox"
           }
          ],
          "scatterpolar": [
           {
            "marker": {
             "colorbar": {
              "outlinewidth": 0,
              "ticks": ""
             }
            },
            "type": "scatterpolar"
           }
          ],
          "scatterpolargl": [
           {
            "marker": {
             "colorbar": {
              "outlinewidth": 0,
              "ticks": ""
             }
            },
            "type": "scatterpolargl"
           }
          ],
          "scatterternary": [
           {
            "marker": {
             "colorbar": {
              "outlinewidth": 0,
              "ticks": ""
             }
            },
            "type": "scatterternary"
           }
          ],
          "surface": [
           {
            "colorbar": {
             "outlinewidth": 0,
             "ticks": ""
            },
            "colorscale": [
             [
              0,
              "#0d0887"
             ],
             [
              0.1111111111111111,
              "#46039f"
             ],
             [
              0.2222222222222222,
              "#7201a8"
             ],
             [
              0.3333333333333333,
              "#9c179e"
             ],
             [
              0.4444444444444444,
              "#bd3786"
             ],
             [
              0.5555555555555556,
              "#d8576b"
             ],
             [
              0.6666666666666666,
              "#ed7953"
             ],
             [
              0.7777777777777778,
              "#fb9f3a"
             ],
             [
              0.8888888888888888,
              "#fdca26"
             ],
             [
              1,
              "#f0f921"
             ]
            ],
            "type": "surface"
           }
          ],
          "table": [
           {
            "cells": {
             "fill": {
              "color": "#EBF0F8"
             },
             "line": {
              "color": "white"
             }
            },
            "header": {
             "fill": {
              "color": "#C8D4E3"
             },
             "line": {
              "color": "white"
             }
            },
            "type": "table"
           }
          ]
         },
         "layout": {
          "annotationdefaults": {
           "arrowcolor": "#2a3f5f",
           "arrowhead": 0,
           "arrowwidth": 1
          },
          "autotypenumbers": "strict",
          "coloraxis": {
           "colorbar": {
            "outlinewidth": 0,
            "ticks": ""
           }
          },
          "colorscale": {
           "diverging": [
            [
             0,
             "#8e0152"
            ],
            [
             0.1,
             "#c51b7d"
            ],
            [
             0.2,
             "#de77ae"
            ],
            [
             0.3,
             "#f1b6da"
            ],
            [
             0.4,
             "#fde0ef"
            ],
            [
             0.5,
             "#f7f7f7"
            ],
            [
             0.6,
             "#e6f5d0"
            ],
            [
             0.7,
             "#b8e186"
            ],
            [
             0.8,
             "#7fbc41"
            ],
            [
             0.9,
             "#4d9221"
            ],
            [
             1,
             "#276419"
            ]
           ],
           "sequential": [
            [
             0,
             "#0d0887"
            ],
            [
             0.1111111111111111,
             "#46039f"
            ],
            [
             0.2222222222222222,
             "#7201a8"
            ],
            [
             0.3333333333333333,
             "#9c179e"
            ],
            [
             0.4444444444444444,
             "#bd3786"
            ],
            [
             0.5555555555555556,
             "#d8576b"
            ],
            [
             0.6666666666666666,
             "#ed7953"
            ],
            [
             0.7777777777777778,
             "#fb9f3a"
            ],
            [
             0.8888888888888888,
             "#fdca26"
            ],
            [
             1,
             "#f0f921"
            ]
           ],
           "sequentialminus": [
            [
             0,
             "#0d0887"
            ],
            [
             0.1111111111111111,
             "#46039f"
            ],
            [
             0.2222222222222222,
             "#7201a8"
            ],
            [
             0.3333333333333333,
             "#9c179e"
            ],
            [
             0.4444444444444444,
             "#bd3786"
            ],
            [
             0.5555555555555556,
             "#d8576b"
            ],
            [
             0.6666666666666666,
             "#ed7953"
            ],
            [
             0.7777777777777778,
             "#fb9f3a"
            ],
            [
             0.8888888888888888,
             "#fdca26"
            ],
            [
             1,
             "#f0f921"
            ]
           ]
          },
          "colorway": [
           "#636efa",
           "#EF553B",
           "#00cc96",
           "#ab63fa",
           "#FFA15A",
           "#19d3f3",
           "#FF6692",
           "#B6E880",
           "#FF97FF",
           "#FECB52"
          ],
          "font": {
           "color": "#2a3f5f"
          },
          "geo": {
           "bgcolor": "white",
           "lakecolor": "white",
           "landcolor": "#E5ECF6",
           "showlakes": true,
           "showland": true,
           "subunitcolor": "white"
          },
          "hoverlabel": {
           "align": "left"
          },
          "hovermode": "closest",
          "mapbox": {
           "style": "light"
          },
          "paper_bgcolor": "white",
          "plot_bgcolor": "#E5ECF6",
          "polar": {
           "angularaxis": {
            "gridcolor": "white",
            "linecolor": "white",
            "ticks": ""
           },
           "bgcolor": "#E5ECF6",
           "radialaxis": {
            "gridcolor": "white",
            "linecolor": "white",
            "ticks": ""
           }
          },
          "scene": {
           "xaxis": {
            "backgroundcolor": "#E5ECF6",
            "gridcolor": "white",
            "gridwidth": 2,
            "linecolor": "white",
            "showbackground": true,
            "ticks": "",
            "zerolinecolor": "white"
           },
           "yaxis": {
            "backgroundcolor": "#E5ECF6",
            "gridcolor": "white",
            "gridwidth": 2,
            "linecolor": "white",
            "showbackground": true,
            "ticks": "",
            "zerolinecolor": "white"
           },
           "zaxis": {
            "backgroundcolor": "#E5ECF6",
            "gridcolor": "white",
            "gridwidth": 2,
            "linecolor": "white",
            "showbackground": true,
            "ticks": "",
            "zerolinecolor": "white"
           }
          },
          "shapedefaults": {
           "line": {
            "color": "#2a3f5f"
           }
          },
          "ternary": {
           "aaxis": {
            "gridcolor": "white",
            "linecolor": "white",
            "ticks": ""
           },
           "baxis": {
            "gridcolor": "white",
            "linecolor": "white",
            "ticks": ""
           },
           "bgcolor": "#E5ECF6",
           "caxis": {
            "gridcolor": "white",
            "linecolor": "white",
            "ticks": ""
           }
          },
          "title": {
           "x": 0.05
          },
          "xaxis": {
           "automargin": true,
           "gridcolor": "white",
           "linecolor": "white",
           "ticks": "",
           "title": {
            "standoff": 15
           },
           "zerolinecolor": "white",
           "zerolinewidth": 2
          },
          "yaxis": {
           "automargin": true,
           "gridcolor": "white",
           "linecolor": "white",
           "ticks": "",
           "title": {
            "standoff": 15
           },
           "zerolinecolor": "white",
           "zerolinewidth": 2
          }
         }
        },
        "width": 2000,
        "xaxis": {
         "anchor": "y",
         "domain": [
          0,
          1
         ],
         "range": [
          -3,
          15
         ],
         "title": {
          "text": "ERCC_attomoles_in_sample"
         },
         "type": "log"
        },
        "yaxis": {
         "anchor": "x",
         "domain": [
          0,
          1
         ],
         "title": {
          "text": "RPK"
         },
         "type": "log"
        }
       }
      }
     },
     "metadata": {},
     "output_type": "display_data"
    },
    {
     "name": "stderr",
     "output_type": "stream",
     "text": [
      "C:\\Users\\adiro\\AppData\\Local\\Temp\\ipykernel_40068\\2061613557.py:205: SettingWithCopyWarning:\n",
      "\n",
      "\n",
      "A value is trying to be set on a copy of a slice from a DataFrame.\n",
      "Try using .loc[row_indexer,col_indexer] = value instead\n",
      "\n",
      "See the caveats in the documentation: https://pandas.pydata.org/pandas-docs/stable/user_guide/indexing.html#returning-a-view-versus-a-copy\n",
      "\n"
     ]
    },
    {
     "data": {
      "application/vnd.plotly.v1+json": {
       "config": {
        "plotlyServerURL": "https://plot.ly"
       },
       "data": [
        {
         "hovertemplate": "<b>%{hovertext}</b><br><br>in_fit=in fit<br>ERCC_attomoles_in_sample=%{x}<br>RPK=%{y}<extra></extra>",
         "hovertext": [
          "ERCC-00002",
          "ERCC-00003",
          "ERCC-00004",
          "ERCC-00009",
          "ERCC-00012",
          "ERCC-00013",
          "ERCC-00014",
          "ERCC-00016",
          "ERCC-00017",
          "ERCC-00019",
          "ERCC-00022",
          "ERCC-00024",
          "ERCC-00025",
          "ERCC-00028",
          "ERCC-00031",
          "ERCC-00033",
          "ERCC-00034",
          "ERCC-00035",
          "ERCC-00039",
          "ERCC-00040",
          "ERCC-00041",
          "ERCC-00042",
          "ERCC-00043",
          "ERCC-00044",
          "ERCC-00046",
          "ERCC-00048",
          "ERCC-00051",
          "ERCC-00053",
          "ERCC-00057",
          "ERCC-00058",
          "ERCC-00059",
          "ERCC-00060",
          "ERCC-00061",
          "ERCC-00062",
          "ERCC-00067",
          "ERCC-00069",
          "ERCC-00071",
          "ERCC-00073",
          "ERCC-00074",
          "ERCC-00075",
          "ERCC-00076",
          "ERCC-00077",
          "ERCC-00078",
          "ERCC-00079",
          "ERCC-00081",
          "ERCC-00083",
          "ERCC-00084",
          "ERCC-00085",
          "ERCC-00086",
          "ERCC-00092",
          "ERCC-00095",
          "ERCC-00096",
          "ERCC-00097",
          "ERCC-00098",
          "ERCC-00099",
          "ERCC-00104",
          "ERCC-00108",
          "ERCC-00109",
          "ERCC-00111",
          "ERCC-00112",
          "ERCC-00113",
          "ERCC-00116",
          "ERCC-00117",
          "ERCC-00120",
          "ERCC-00123",
          "ERCC-00126",
          "ERCC-00130",
          "ERCC-00131",
          "ERCC-00134",
          "ERCC-00136",
          "ERCC-00137",
          "ERCC-00138",
          "ERCC-00142",
          "ERCC-00143",
          "ERCC-00144",
          "ERCC-00145",
          "ERCC-00147",
          "ERCC-00148",
          "ERCC-00150",
          "ERCC-00154",
          "ERCC-00156",
          "ERCC-00157",
          "ERCC-00158",
          "ERCC-00160",
          "ERCC-00162",
          "ERCC-00163",
          "ERCC-00164",
          "ERCC-00165",
          "ERCC-00168",
          "ERCC-00170",
          "ERCC-00171"
         ],
         "legendgroup": "in fit",
         "marker": {
          "color": "#636efa",
          "symbol": "circle"
         },
         "mode": "markers",
         "name": "in fit",
         "orientation": "h",
         "showlegend": true,
         "type": "scatter",
         "x": [
          487.5,
          30.46875,
          243.75,
          30.46875,
          0.0037193299,
          0.02975463855,
          0.11901855485000001,
          0.0074386598,
          0.0037193299,
          0.9521484375,
          7.6171875,
          0.0074386598,
          1.904296875,
          0.11901855485000001,
          0.05950927742500001,
          0.05950927742500001,
          0.238037109375,
          3.80859375,
          0.11901855485000001,
          0.02975463855,
          0.0074386598,
          15.234375,
          15.234375,
          3.80859375,
          121.875,
          0.0004649164,
          1.904296875,
          0.9521484375,
          0.0004649164,
          0.05950927742500001,
          0.47607421875,
          7.6171875,
          0.00185966495,
          1.904296875,
          0.11901855485000001,
          0.05950927742500001,
          1.904296875,
          0.02975463855,
          487.5,
          0.0004649164,
          7.6171875,
          0.11901855485000001,
          0.9521484375,
          1.904296875,
          0.0074386598,
          0.000929832475,
          0.9521484375,
          0.238037109375,
          0.0037193299,
          7.6171875,
          3.80859375,
          487.5,
          0.014877319275,
          0.00185966495,
          0.47607421875,
          0.0074386598,
          30.46875,
          0.02975463855,
          15.234375,
          3.80859375,
          121.875,
          15.234375,
          0.00185966495,
          0.02975463855,
          0.0074386598,
          0.47607421875,
          975,
          3.80859375,
          0.05950927742500001,
          60.9375,
          0.02975463855,
          0.0037193299,
          0.0074386598,
          0.11901855485000001,
          0.9521484375,
          30.46875,
          0.02975463855,
          0.47607421875,
          0.11901855485000001,
          0.238037109375,
          0.014877319275,
          0.238037109375,
          0.014877319275,
          0.238037109375,
          1.904296875,
          0.47607421875,
          0.014877319275,
          1.904296875,
          0.014877319275,
          0.47607421875,
          121.875
         ],
         "xaxis": "x",
         "y": [
          680697.4552309143,
          69360.70381231671,
          441451.2428298279,
          30591.463414634145,
          3.018108651911469,
          59.4059405940594,
          149.2079713847726,
          5.924170616113744,
          5.281690140845071,
          1363.3540372670807,
          7466.045272969374,
          7.462686567164178,
          2995.4864593781344,
          154.86725663716817,
          63.26889279437611,
          77.64589515331356,
          777.2325809617273,
          4085.840707964602,
          152.7027027027027,
          36.29032258064516,
          14.2602495543672,
          28104.594330400785,
          20698.924731182797,
          4748.269896193772,
          223277.77777777778,
          3.024193548387097,
          989.0510948905109,
          1343.108504398827,
          1.9588638589618024,
          90.66901408450705,
          598.0952380952381,
          17022.944550669214,
          2.6408450704225355,
          3159.3352883675466,
          99.37888198757764,
          129.28759894459102,
          2177.570093457944,
          39.800995024875625,
          878883.1417624521,
          3.910068426197459,
          4362.928348909657,
          95.23809523809523,
          1764.3504531722056,
          2392.8571428571427,
          1.8726591760299625,
          5.870841487279844,
          1373.2394366197184,
          315.1658767772512,
          3.9215686274509802,
          14354.982206405693,
          9539.347408829175,
          979378.5004516712,
          22.94455066921606,
          10.498687664041995,
          712.5925925925925,
          9.396636993076163,
          40764.18786692759,
          18.656716417910445,
          17611.670020120724,
          6764.964788732395,
          202619.04761904763,
          26611.75288799598,
          0.8802816901408451,
          18.656716417910445,
          23.483365949119374,
          366.7262969588551,
          1192030.2171860246,
          7658.884565499351,
          40.14598540145985,
          60824.78218780252,
          18.621973929236496,
          7.8125,
          0,
          182.39795918367346,
          934.9442379182155,
          21611.324376199616,
          18.57282502443793,
          265.18218623481783,
          145.35666218034993,
          193.66852886405957,
          8.097165991902834,
          590.775269872424,
          16.55306718597858,
          728.1292059219381,
          3263.8623326959846,
          683.2412523020257,
          38.160469667318985,
          2920.8715596330276,
          56.640625,
          1141.7399804496579,
          147017.82178217822
         ],
         "yaxis": "y"
        },
        {
         "hovertemplate": "<b>%{hovertext}</b><br><br>in_fit=not in fit<br>ERCC_attomoles_in_sample=%{x}<br>RPK=%{y}<extra></extra>",
         "hovertext": [
          "ERCC-00054"
         ],
         "legendgroup": "not in fit",
         "marker": {
          "color": "#EF553B",
          "symbol": "circle"
         },
         "mode": "markers",
         "name": "not in fit",
         "orientation": "h",
         "showlegend": true,
         "type": "scatter",
         "x": [
          0.47607421875
         ],
         "xaxis": "x",
         "y": [
          29.1970802919708
         ],
         "yaxis": "y"
        },
        {
         "mode": "lines",
         "name": "CASP_biorep1c",
         "type": "scatter",
         "x": [
          0.01,
          975
         ],
         "y": [
          15.039168980968432,
          1179678.4281098964
         ]
        }
       ],
       "layout": {
        "annotations": [
         {
          "align": "left",
          "bordercolor": "black",
          "borderwidth": 1,
          "showarrow": false,
          "text": "fit of log(y) Vs log(x), paremeters: log(y) = m*log(x)+c",
          "x": 0.4,
          "xanchor": "left",
          "xref": "paper",
          "y": 1,
          "yref": "paper"
         },
         {
          "align": "left",
          "bordercolor": "black",
          "borderwidth": 1,
          "showarrow": false,
          "text": "fit in the range ERCC attomoles in sample [0.01,975.00]",
          "x": 0.4,
          "xanchor": "left",
          "xref": "paper",
          "y": 0.9,
          "yref": "paper"
         },
         {
          "align": "left",
          "bordercolor": "black",
          "borderwidth": 1,
          "showarrow": false,
          "text": "the slop in log scale: m = 0.98",
          "x": 0.4,
          "xanchor": "left",
          "xref": "paper",
          "y": 0.8,
          "yref": "paper"
         },
         {
          "align": "left",
          "bordercolor": "black",
          "borderwidth": 1,
          "showarrow": false,
          "text": "the intercept in log scale: c = 7.23",
          "x": 0.4,
          "xanchor": "left",
          "xref": "paper",
          "y": 0.7,
          "yref": "paper"
         },
         {
          "align": "left",
          "bordercolor": "black",
          "borderwidth": 1,
          "showarrow": false,
          "text": "",
          "x": 0.4,
          "xanchor": "left",
          "xref": "paper",
          "y": 0.6,
          "yref": "paper"
         },
         {
          "align": "left",
          "bordercolor": "black",
          "borderwidth": 1,
          "showarrow": false,
          "text": "log(y) = m*log(x)+c --> y = e^c * x^m",
          "x": 0.4,
          "xanchor": "left",
          "xref": "paper",
          "y": 0.5,
          "yref": "paper"
         },
         {
          "align": "left",
          "bordercolor": "black",
          "borderwidth": 1,
          "showarrow": false,
          "text": "the slope in linear scale: e^c = 1.38E+03",
          "x": 0.4,
          "xanchor": "left",
          "xref": "paper",
          "y": 0.3999999999999999,
          "yref": "paper"
         },
         {
          "align": "left",
          "bordercolor": "black",
          "borderwidth": 1,
          "showarrow": false,
          "text": "R^2 = 0.97",
          "x": 0.4,
          "xanchor": "left",
          "xref": "paper",
          "y": 0.29999999999999993,
          "yref": "paper"
         },
         {
          "align": "left",
          "bordercolor": "black",
          "borderwidth": 1,
          "showarrow": false,
          "text": "",
          "x": 0.4,
          "xanchor": "left",
          "xref": "paper",
          "y": 0.19999999999999996,
          "yref": "paper"
         },
         {
          "align": "left",
          "bordercolor": "black",
          "borderwidth": 1,
          "showarrow": false,
          "text": "ERCCs with no reads detected",
          "x": 0.4,
          "xanchor": "left",
          "xref": "paper",
          "y": 0.09999999999999998,
          "yref": "paper"
         },
         {
          "align": "left",
          "bordercolor": "black",
          "borderwidth": 1,
          "showarrow": false,
          "text": " not fitted and not shown",
          "x": 0.4,
          "xanchor": "left",
          "xref": "paper",
          "y": 0,
          "yref": "paper"
         }
        ],
        "font": {
         "size": 24
        },
        "height": 600,
        "legend": {
         "title": {
          "text": "in_fit"
         },
         "tracegroupgap": 0
        },
        "margin": {
         "t": 60
        },
        "template": {
         "data": {
          "bar": [
           {
            "error_x": {
             "color": "#2a3f5f"
            },
            "error_y": {
             "color": "#2a3f5f"
            },
            "marker": {
             "line": {
              "color": "#E5ECF6",
              "width": 0.5
             },
             "pattern": {
              "fillmode": "overlay",
              "size": 10,
              "solidity": 0.2
             }
            },
            "type": "bar"
           }
          ],
          "barpolar": [
           {
            "marker": {
             "line": {
              "color": "#E5ECF6",
              "width": 0.5
             },
             "pattern": {
              "fillmode": "overlay",
              "size": 10,
              "solidity": 0.2
             }
            },
            "type": "barpolar"
           }
          ],
          "carpet": [
           {
            "aaxis": {
             "endlinecolor": "#2a3f5f",
             "gridcolor": "white",
             "linecolor": "white",
             "minorgridcolor": "white",
             "startlinecolor": "#2a3f5f"
            },
            "baxis": {
             "endlinecolor": "#2a3f5f",
             "gridcolor": "white",
             "linecolor": "white",
             "minorgridcolor": "white",
             "startlinecolor": "#2a3f5f"
            },
            "type": "carpet"
           }
          ],
          "choropleth": [
           {
            "colorbar": {
             "outlinewidth": 0,
             "ticks": ""
            },
            "type": "choropleth"
           }
          ],
          "contour": [
           {
            "colorbar": {
             "outlinewidth": 0,
             "ticks": ""
            },
            "colorscale": [
             [
              0,
              "#0d0887"
             ],
             [
              0.1111111111111111,
              "#46039f"
             ],
             [
              0.2222222222222222,
              "#7201a8"
             ],
             [
              0.3333333333333333,
              "#9c179e"
             ],
             [
              0.4444444444444444,
              "#bd3786"
             ],
             [
              0.5555555555555556,
              "#d8576b"
             ],
             [
              0.6666666666666666,
              "#ed7953"
             ],
             [
              0.7777777777777778,
              "#fb9f3a"
             ],
             [
              0.8888888888888888,
              "#fdca26"
             ],
             [
              1,
              "#f0f921"
             ]
            ],
            "type": "contour"
           }
          ],
          "contourcarpet": [
           {
            "colorbar": {
             "outlinewidth": 0,
             "ticks": ""
            },
            "type": "contourcarpet"
           }
          ],
          "heatmap": [
           {
            "colorbar": {
             "outlinewidth": 0,
             "ticks": ""
            },
            "colorscale": [
             [
              0,
              "#0d0887"
             ],
             [
              0.1111111111111111,
              "#46039f"
             ],
             [
              0.2222222222222222,
              "#7201a8"
             ],
             [
              0.3333333333333333,
              "#9c179e"
             ],
             [
              0.4444444444444444,
              "#bd3786"
             ],
             [
              0.5555555555555556,
              "#d8576b"
             ],
             [
              0.6666666666666666,
              "#ed7953"
             ],
             [
              0.7777777777777778,
              "#fb9f3a"
             ],
             [
              0.8888888888888888,
              "#fdca26"
             ],
             [
              1,
              "#f0f921"
             ]
            ],
            "type": "heatmap"
           }
          ],
          "heatmapgl": [
           {
            "colorbar": {
             "outlinewidth": 0,
             "ticks": ""
            },
            "colorscale": [
             [
              0,
              "#0d0887"
             ],
             [
              0.1111111111111111,
              "#46039f"
             ],
             [
              0.2222222222222222,
              "#7201a8"
             ],
             [
              0.3333333333333333,
              "#9c179e"
             ],
             [
              0.4444444444444444,
              "#bd3786"
             ],
             [
              0.5555555555555556,
              "#d8576b"
             ],
             [
              0.6666666666666666,
              "#ed7953"
             ],
             [
              0.7777777777777778,
              "#fb9f3a"
             ],
             [
              0.8888888888888888,
              "#fdca26"
             ],
             [
              1,
              "#f0f921"
             ]
            ],
            "type": "heatmapgl"
           }
          ],
          "histogram": [
           {
            "marker": {
             "pattern": {
              "fillmode": "overlay",
              "size": 10,
              "solidity": 0.2
             }
            },
            "type": "histogram"
           }
          ],
          "histogram2d": [
           {
            "colorbar": {
             "outlinewidth": 0,
             "ticks": ""
            },
            "colorscale": [
             [
              0,
              "#0d0887"
             ],
             [
              0.1111111111111111,
              "#46039f"
             ],
             [
              0.2222222222222222,
              "#7201a8"
             ],
             [
              0.3333333333333333,
              "#9c179e"
             ],
             [
              0.4444444444444444,
              "#bd3786"
             ],
             [
              0.5555555555555556,
              "#d8576b"
             ],
             [
              0.6666666666666666,
              "#ed7953"
             ],
             [
              0.7777777777777778,
              "#fb9f3a"
             ],
             [
              0.8888888888888888,
              "#fdca26"
             ],
             [
              1,
              "#f0f921"
             ]
            ],
            "type": "histogram2d"
           }
          ],
          "histogram2dcontour": [
           {
            "colorbar": {
             "outlinewidth": 0,
             "ticks": ""
            },
            "colorscale": [
             [
              0,
              "#0d0887"
             ],
             [
              0.1111111111111111,
              "#46039f"
             ],
             [
              0.2222222222222222,
              "#7201a8"
             ],
             [
              0.3333333333333333,
              "#9c179e"
             ],
             [
              0.4444444444444444,
              "#bd3786"
             ],
             [
              0.5555555555555556,
              "#d8576b"
             ],
             [
              0.6666666666666666,
              "#ed7953"
             ],
             [
              0.7777777777777778,
              "#fb9f3a"
             ],
             [
              0.8888888888888888,
              "#fdca26"
             ],
             [
              1,
              "#f0f921"
             ]
            ],
            "type": "histogram2dcontour"
           }
          ],
          "mesh3d": [
           {
            "colorbar": {
             "outlinewidth": 0,
             "ticks": ""
            },
            "type": "mesh3d"
           }
          ],
          "parcoords": [
           {
            "line": {
             "colorbar": {
              "outlinewidth": 0,
              "ticks": ""
             }
            },
            "type": "parcoords"
           }
          ],
          "pie": [
           {
            "automargin": true,
            "type": "pie"
           }
          ],
          "scatter": [
           {
            "marker": {
             "colorbar": {
              "outlinewidth": 0,
              "ticks": ""
             }
            },
            "type": "scatter"
           }
          ],
          "scatter3d": [
           {
            "line": {
             "colorbar": {
              "outlinewidth": 0,
              "ticks": ""
             }
            },
            "marker": {
             "colorbar": {
              "outlinewidth": 0,
              "ticks": ""
             }
            },
            "type": "scatter3d"
           }
          ],
          "scattercarpet": [
           {
            "marker": {
             "colorbar": {
              "outlinewidth": 0,
              "ticks": ""
             }
            },
            "type": "scattercarpet"
           }
          ],
          "scattergeo": [
           {
            "marker": {
             "colorbar": {
              "outlinewidth": 0,
              "ticks": ""
             }
            },
            "type": "scattergeo"
           }
          ],
          "scattergl": [
           {
            "marker": {
             "colorbar": {
              "outlinewidth": 0,
              "ticks": ""
             }
            },
            "type": "scattergl"
           }
          ],
          "scattermapbox": [
           {
            "marker": {
             "colorbar": {
              "outlinewidth": 0,
              "ticks": ""
             }
            },
            "type": "scattermapbox"
           }
          ],
          "scatterpolar": [
           {
            "marker": {
             "colorbar": {
              "outlinewidth": 0,
              "ticks": ""
             }
            },
            "type": "scatterpolar"
           }
          ],
          "scatterpolargl": [
           {
            "marker": {
             "colorbar": {
              "outlinewidth": 0,
              "ticks": ""
             }
            },
            "type": "scatterpolargl"
           }
          ],
          "scatterternary": [
           {
            "marker": {
             "colorbar": {
              "outlinewidth": 0,
              "ticks": ""
             }
            },
            "type": "scatterternary"
           }
          ],
          "surface": [
           {
            "colorbar": {
             "outlinewidth": 0,
             "ticks": ""
            },
            "colorscale": [
             [
              0,
              "#0d0887"
             ],
             [
              0.1111111111111111,
              "#46039f"
             ],
             [
              0.2222222222222222,
              "#7201a8"
             ],
             [
              0.3333333333333333,
              "#9c179e"
             ],
             [
              0.4444444444444444,
              "#bd3786"
             ],
             [
              0.5555555555555556,
              "#d8576b"
             ],
             [
              0.6666666666666666,
              "#ed7953"
             ],
             [
              0.7777777777777778,
              "#fb9f3a"
             ],
             [
              0.8888888888888888,
              "#fdca26"
             ],
             [
              1,
              "#f0f921"
             ]
            ],
            "type": "surface"
           }
          ],
          "table": [
           {
            "cells": {
             "fill": {
              "color": "#EBF0F8"
             },
             "line": {
              "color": "white"
             }
            },
            "header": {
             "fill": {
              "color": "#C8D4E3"
             },
             "line": {
              "color": "white"
             }
            },
            "type": "table"
           }
          ]
         },
         "layout": {
          "annotationdefaults": {
           "arrowcolor": "#2a3f5f",
           "arrowhead": 0,
           "arrowwidth": 1
          },
          "autotypenumbers": "strict",
          "coloraxis": {
           "colorbar": {
            "outlinewidth": 0,
            "ticks": ""
           }
          },
          "colorscale": {
           "diverging": [
            [
             0,
             "#8e0152"
            ],
            [
             0.1,
             "#c51b7d"
            ],
            [
             0.2,
             "#de77ae"
            ],
            [
             0.3,
             "#f1b6da"
            ],
            [
             0.4,
             "#fde0ef"
            ],
            [
             0.5,
             "#f7f7f7"
            ],
            [
             0.6,
             "#e6f5d0"
            ],
            [
             0.7,
             "#b8e186"
            ],
            [
             0.8,
             "#7fbc41"
            ],
            [
             0.9,
             "#4d9221"
            ],
            [
             1,
             "#276419"
            ]
           ],
           "sequential": [
            [
             0,
             "#0d0887"
            ],
            [
             0.1111111111111111,
             "#46039f"
            ],
            [
             0.2222222222222222,
             "#7201a8"
            ],
            [
             0.3333333333333333,
             "#9c179e"
            ],
            [
             0.4444444444444444,
             "#bd3786"
            ],
            [
             0.5555555555555556,
             "#d8576b"
            ],
            [
             0.6666666666666666,
             "#ed7953"
            ],
            [
             0.7777777777777778,
             "#fb9f3a"
            ],
            [
             0.8888888888888888,
             "#fdca26"
            ],
            [
             1,
             "#f0f921"
            ]
           ],
           "sequentialminus": [
            [
             0,
             "#0d0887"
            ],
            [
             0.1111111111111111,
             "#46039f"
            ],
            [
             0.2222222222222222,
             "#7201a8"
            ],
            [
             0.3333333333333333,
             "#9c179e"
            ],
            [
             0.4444444444444444,
             "#bd3786"
            ],
            [
             0.5555555555555556,
             "#d8576b"
            ],
            [
             0.6666666666666666,
             "#ed7953"
            ],
            [
             0.7777777777777778,
             "#fb9f3a"
            ],
            [
             0.8888888888888888,
             "#fdca26"
            ],
            [
             1,
             "#f0f921"
            ]
           ]
          },
          "colorway": [
           "#636efa",
           "#EF553B",
           "#00cc96",
           "#ab63fa",
           "#FFA15A",
           "#19d3f3",
           "#FF6692",
           "#B6E880",
           "#FF97FF",
           "#FECB52"
          ],
          "font": {
           "color": "#2a3f5f"
          },
          "geo": {
           "bgcolor": "white",
           "lakecolor": "white",
           "landcolor": "#E5ECF6",
           "showlakes": true,
           "showland": true,
           "subunitcolor": "white"
          },
          "hoverlabel": {
           "align": "left"
          },
          "hovermode": "closest",
          "mapbox": {
           "style": "light"
          },
          "paper_bgcolor": "white",
          "plot_bgcolor": "#E5ECF6",
          "polar": {
           "angularaxis": {
            "gridcolor": "white",
            "linecolor": "white",
            "ticks": ""
           },
           "bgcolor": "#E5ECF6",
           "radialaxis": {
            "gridcolor": "white",
            "linecolor": "white",
            "ticks": ""
           }
          },
          "scene": {
           "xaxis": {
            "backgroundcolor": "#E5ECF6",
            "gridcolor": "white",
            "gridwidth": 2,
            "linecolor": "white",
            "showbackground": true,
            "ticks": "",
            "zerolinecolor": "white"
           },
           "yaxis": {
            "backgroundcolor": "#E5ECF6",
            "gridcolor": "white",
            "gridwidth": 2,
            "linecolor": "white",
            "showbackground": true,
            "ticks": "",
            "zerolinecolor": "white"
           },
           "zaxis": {
            "backgroundcolor": "#E5ECF6",
            "gridcolor": "white",
            "gridwidth": 2,
            "linecolor": "white",
            "showbackground": true,
            "ticks": "",
            "zerolinecolor": "white"
           }
          },
          "shapedefaults": {
           "line": {
            "color": "#2a3f5f"
           }
          },
          "ternary": {
           "aaxis": {
            "gridcolor": "white",
            "linecolor": "white",
            "ticks": ""
           },
           "baxis": {
            "gridcolor": "white",
            "linecolor": "white",
            "ticks": ""
           },
           "bgcolor": "#E5ECF6",
           "caxis": {
            "gridcolor": "white",
            "linecolor": "white",
            "ticks": ""
           }
          },
          "title": {
           "x": 0.05
          },
          "xaxis": {
           "automargin": true,
           "gridcolor": "white",
           "linecolor": "white",
           "ticks": "",
           "title": {
            "standoff": 15
           },
           "zerolinecolor": "white",
           "zerolinewidth": 2
          },
          "yaxis": {
           "automargin": true,
           "gridcolor": "white",
           "linecolor": "white",
           "ticks": "",
           "title": {
            "standoff": 15
           },
           "zerolinecolor": "white",
           "zerolinewidth": 2
          }
         }
        },
        "width": 2000,
        "xaxis": {
         "anchor": "y",
         "domain": [
          0,
          1
         ],
         "range": [
          -3,
          15
         ],
         "title": {
          "text": "ERCC_attomoles_in_sample"
         },
         "type": "log"
        },
        "yaxis": {
         "anchor": "x",
         "domain": [
          0,
          1
         ],
         "title": {
          "text": "RPK"
         },
         "type": "log"
        }
       }
      }
     },
     "metadata": {},
     "output_type": "display_data"
    },
    {
     "name": "stderr",
     "output_type": "stream",
     "text": [
      "C:\\Users\\adiro\\AppData\\Local\\Temp\\ipykernel_40068\\2061613557.py:205: SettingWithCopyWarning:\n",
      "\n",
      "\n",
      "A value is trying to be set on a copy of a slice from a DataFrame.\n",
      "Try using .loc[row_indexer,col_indexer] = value instead\n",
      "\n",
      "See the caveats in the documentation: https://pandas.pydata.org/pandas-docs/stable/user_guide/indexing.html#returning-a-view-versus-a-copy\n",
      "\n"
     ]
    },
    {
     "data": {
      "application/vnd.plotly.v1+json": {
       "config": {
        "plotlyServerURL": "https://plot.ly"
       },
       "data": [
        {
         "hovertemplate": "<b>%{hovertext}</b><br><br>in_fit=in fit<br>ERCC_attomoles_in_sample=%{x}<br>RPK=%{y}<extra></extra>",
         "hovertext": [
          "ERCC-00002",
          "ERCC-00003",
          "ERCC-00004",
          "ERCC-00009",
          "ERCC-00012",
          "ERCC-00013",
          "ERCC-00014",
          "ERCC-00016",
          "ERCC-00017",
          "ERCC-00019",
          "ERCC-00022",
          "ERCC-00024",
          "ERCC-00025",
          "ERCC-00028",
          "ERCC-00031",
          "ERCC-00033",
          "ERCC-00034",
          "ERCC-00035",
          "ERCC-00039",
          "ERCC-00040",
          "ERCC-00041",
          "ERCC-00042",
          "ERCC-00043",
          "ERCC-00044",
          "ERCC-00046",
          "ERCC-00048",
          "ERCC-00051",
          "ERCC-00053",
          "ERCC-00057",
          "ERCC-00058",
          "ERCC-00059",
          "ERCC-00060",
          "ERCC-00061",
          "ERCC-00062",
          "ERCC-00067",
          "ERCC-00069",
          "ERCC-00071",
          "ERCC-00073",
          "ERCC-00074",
          "ERCC-00075",
          "ERCC-00076",
          "ERCC-00077",
          "ERCC-00078",
          "ERCC-00079",
          "ERCC-00081",
          "ERCC-00083",
          "ERCC-00084",
          "ERCC-00085",
          "ERCC-00086",
          "ERCC-00092",
          "ERCC-00095",
          "ERCC-00096",
          "ERCC-00097",
          "ERCC-00098",
          "ERCC-00099",
          "ERCC-00104",
          "ERCC-00108",
          "ERCC-00109",
          "ERCC-00111",
          "ERCC-00112",
          "ERCC-00113",
          "ERCC-00116",
          "ERCC-00117",
          "ERCC-00120",
          "ERCC-00123",
          "ERCC-00126",
          "ERCC-00130",
          "ERCC-00131",
          "ERCC-00134",
          "ERCC-00136",
          "ERCC-00137",
          "ERCC-00138",
          "ERCC-00142",
          "ERCC-00143",
          "ERCC-00144",
          "ERCC-00145",
          "ERCC-00147",
          "ERCC-00148",
          "ERCC-00150",
          "ERCC-00154",
          "ERCC-00156",
          "ERCC-00157",
          "ERCC-00158",
          "ERCC-00160",
          "ERCC-00162",
          "ERCC-00163",
          "ERCC-00164",
          "ERCC-00165",
          "ERCC-00168",
          "ERCC-00170",
          "ERCC-00171"
         ],
         "legendgroup": "in fit",
         "marker": {
          "color": "#636efa",
          "symbol": "circle"
         },
         "mode": "markers",
         "name": "in fit",
         "orientation": "h",
         "showlegend": true,
         "type": "scatter",
         "x": [
          487.5,
          30.46875,
          243.75,
          30.46875,
          0.0037193299,
          0.02975463855,
          0.11901855485000001,
          0.0074386598,
          0.0037193299,
          0.9521484375,
          7.6171875,
          0.0074386598,
          1.904296875,
          0.11901855485000001,
          0.05950927742500001,
          0.05950927742500001,
          0.238037109375,
          3.80859375,
          0.11901855485000001,
          0.02975463855,
          0.0074386598,
          15.234375,
          15.234375,
          3.80859375,
          121.875,
          0.0004649164,
          1.904296875,
          0.9521484375,
          0.0004649164,
          0.05950927742500001,
          0.47607421875,
          7.6171875,
          0.00185966495,
          1.904296875,
          0.11901855485000001,
          0.05950927742500001,
          1.904296875,
          0.02975463855,
          487.5,
          0.0004649164,
          7.6171875,
          0.11901855485000001,
          0.9521484375,
          1.904296875,
          0.0074386598,
          0.000929832475,
          0.9521484375,
          0.238037109375,
          0.0037193299,
          7.6171875,
          3.80859375,
          487.5,
          0.014877319275,
          0.00185966495,
          0.47607421875,
          0.0074386598,
          30.46875,
          0.02975463855,
          15.234375,
          3.80859375,
          121.875,
          15.234375,
          0.00185966495,
          0.02975463855,
          0.0074386598,
          0.47607421875,
          975,
          3.80859375,
          0.05950927742500001,
          60.9375,
          0.02975463855,
          0.0037193299,
          0.0074386598,
          0.11901855485000001,
          0.9521484375,
          30.46875,
          0.02975463855,
          0.47607421875,
          0.11901855485000001,
          0.238037109375,
          0.014877319275,
          0.238037109375,
          0.014877319275,
          0.238037109375,
          1.904296875,
          0.47607421875,
          0.014877319275,
          1.904296875,
          0.014877319275,
          0.47607421875,
          121.875
         ],
         "xaxis": "x",
         "y": [
          294780.3958529689,
          24870.967741935485,
          158332.69598470363,
          13303.861788617887,
          2.0120724346076457,
          17.326732673267326,
          64.38426162493613,
          3.5545023696682465,
          3.5211267605633805,
          663.0434782608695,
          3252.9960053262316,
          3.731343283582089,
          1203.6108324974925,
          72.56637168141593,
          14.938488576449913,
          27.20079129574679,
          361.13837095191366,
          1873.4513274336284,
          50,
          12.096774193548388,
          4.45632798573975,
          9700.879765395895,
          8588.465298142719,
          2108.1314878892736,
          101791.1877394636,
          0,
          416.05839416058393,
          485.82600195503426,
          0,
          51.93661971830986,
          253.33333333333331,
          7632.887189292543,
          0.8802816901408451,
          1193.5483870967744,
          32.608695652173914,
          44.854881266490764,
          823.9875389408099,
          16.58374792703151,
          338331.41762452107,
          2.932551319648094,
          2185.3582554517134,
          58.608058608058606,
          648.539778449144,
          1222.0496894409937,
          5.617977528089887,
          2.935420743639922,
          588.5311871227365,
          135.07109004739337,
          7.8431372549019605,
          5962.633451957295,
          3577.735124760077,
          394508.5817524842,
          7.648183556405353,
          3.499562554680665,
          223.7037037037037,
          0.9891196834817014,
          16555.772994129158,
          3.731343283582089,
          7006.036217303823,
          2824.823943661972,
          85967.85714285714,
          11746.358613761928,
          0.8802816901408451,
          7.462686567164178,
          7.8277886497064575,
          131.48479427549194,
          525868.7440982059,
          3481.1932555123217,
          18.24817518248175,
          28682.478218780256,
          14.897579143389198,
          1.953125,
          0,
          72.70408163265306,
          446.09665427509293,
          9074.856046065259,
          9.775171065493646,
          165.9919028340081,
          63.25706594885599,
          96.83426443202978,
          4.048582995951417,
          259.07752698724244,
          7.789678675754626,
          414.535666218035,
          1137.6673040152964,
          364.6408839779005,
          10.76320939334638,
          1334.8623853211009,
          16.6015625,
          589.4428152492669,
          71574.25742574257
         ],
         "yaxis": "y"
        },
        {
         "hovertemplate": "<b>%{hovertext}</b><br><br>in_fit=not in fit<br>ERCC_attomoles_in_sample=%{x}<br>RPK=%{y}<extra></extra>",
         "hovertext": [
          "ERCC-00054"
         ],
         "legendgroup": "not in fit",
         "marker": {
          "color": "#EF553B",
          "symbol": "circle"
         },
         "mode": "markers",
         "name": "not in fit",
         "orientation": "h",
         "showlegend": true,
         "type": "scatter",
         "x": [
          0.47607421875
         ],
         "xaxis": "x",
         "y": [
          43.7956204379562
         ],
         "yaxis": "y"
        },
        {
         "mode": "lines",
         "name": "CASP_biorep1b",
         "type": "scatter",
         "x": [
          0.01,
          975
         ],
         "y": [
          6.320518919460131,
          505402.70022789517
         ]
        }
       ],
       "layout": {
        "annotations": [
         {
          "align": "left",
          "bordercolor": "black",
          "borderwidth": 1,
          "showarrow": false,
          "text": "fit of log(y) Vs log(x), paremeters: log(y) = m*log(x)+c",
          "x": 0.4,
          "xanchor": "left",
          "xref": "paper",
          "y": 1,
          "yref": "paper"
         },
         {
          "align": "left",
          "bordercolor": "black",
          "borderwidth": 1,
          "showarrow": false,
          "text": "fit in the range ERCC attomoles in sample [0.01,975.00]",
          "x": 0.4,
          "xanchor": "left",
          "xref": "paper",
          "y": 0.9,
          "yref": "paper"
         },
         {
          "align": "left",
          "bordercolor": "black",
          "borderwidth": 1,
          "showarrow": false,
          "text": "the slop in log scale: m = 0.98",
          "x": 0.4,
          "xanchor": "left",
          "xref": "paper",
          "y": 0.8,
          "yref": "paper"
         },
         {
          "align": "left",
          "bordercolor": "black",
          "borderwidth": 1,
          "showarrow": false,
          "text": "the intercept in log scale: c = 6.37",
          "x": 0.4,
          "xanchor": "left",
          "xref": "paper",
          "y": 0.7,
          "yref": "paper"
         },
         {
          "align": "left",
          "bordercolor": "black",
          "borderwidth": 1,
          "showarrow": false,
          "text": "",
          "x": 0.4,
          "xanchor": "left",
          "xref": "paper",
          "y": 0.6,
          "yref": "paper"
         },
         {
          "align": "left",
          "bordercolor": "black",
          "borderwidth": 1,
          "showarrow": false,
          "text": "log(y) = m*log(x)+c --> y = e^c * x^m",
          "x": 0.4,
          "xanchor": "left",
          "xref": "paper",
          "y": 0.5,
          "yref": "paper"
         },
         {
          "align": "left",
          "bordercolor": "black",
          "borderwidth": 1,
          "showarrow": false,
          "text": "the slope in linear scale: e^c = 5.84E+02",
          "x": 0.4,
          "xanchor": "left",
          "xref": "paper",
          "y": 0.3999999999999999,
          "yref": "paper"
         },
         {
          "align": "left",
          "bordercolor": "black",
          "borderwidth": 1,
          "showarrow": false,
          "text": "R^2 = 0.97",
          "x": 0.4,
          "xanchor": "left",
          "xref": "paper",
          "y": 0.29999999999999993,
          "yref": "paper"
         },
         {
          "align": "left",
          "bordercolor": "black",
          "borderwidth": 1,
          "showarrow": false,
          "text": "",
          "x": 0.4,
          "xanchor": "left",
          "xref": "paper",
          "y": 0.19999999999999996,
          "yref": "paper"
         },
         {
          "align": "left",
          "bordercolor": "black",
          "borderwidth": 1,
          "showarrow": false,
          "text": "ERCCs with no reads detected",
          "x": 0.4,
          "xanchor": "left",
          "xref": "paper",
          "y": 0.09999999999999998,
          "yref": "paper"
         },
         {
          "align": "left",
          "bordercolor": "black",
          "borderwidth": 1,
          "showarrow": false,
          "text": " not fitted and not shown",
          "x": 0.4,
          "xanchor": "left",
          "xref": "paper",
          "y": 0,
          "yref": "paper"
         }
        ],
        "font": {
         "size": 24
        },
        "height": 600,
        "legend": {
         "title": {
          "text": "in_fit"
         },
         "tracegroupgap": 0
        },
        "margin": {
         "t": 60
        },
        "template": {
         "data": {
          "bar": [
           {
            "error_x": {
             "color": "#2a3f5f"
            },
            "error_y": {
             "color": "#2a3f5f"
            },
            "marker": {
             "line": {
              "color": "#E5ECF6",
              "width": 0.5
             },
             "pattern": {
              "fillmode": "overlay",
              "size": 10,
              "solidity": 0.2
             }
            },
            "type": "bar"
           }
          ],
          "barpolar": [
           {
            "marker": {
             "line": {
              "color": "#E5ECF6",
              "width": 0.5
             },
             "pattern": {
              "fillmode": "overlay",
              "size": 10,
              "solidity": 0.2
             }
            },
            "type": "barpolar"
           }
          ],
          "carpet": [
           {
            "aaxis": {
             "endlinecolor": "#2a3f5f",
             "gridcolor": "white",
             "linecolor": "white",
             "minorgridcolor": "white",
             "startlinecolor": "#2a3f5f"
            },
            "baxis": {
             "endlinecolor": "#2a3f5f",
             "gridcolor": "white",
             "linecolor": "white",
             "minorgridcolor": "white",
             "startlinecolor": "#2a3f5f"
            },
            "type": "carpet"
           }
          ],
          "choropleth": [
           {
            "colorbar": {
             "outlinewidth": 0,
             "ticks": ""
            },
            "type": "choropleth"
           }
          ],
          "contour": [
           {
            "colorbar": {
             "outlinewidth": 0,
             "ticks": ""
            },
            "colorscale": [
             [
              0,
              "#0d0887"
             ],
             [
              0.1111111111111111,
              "#46039f"
             ],
             [
              0.2222222222222222,
              "#7201a8"
             ],
             [
              0.3333333333333333,
              "#9c179e"
             ],
             [
              0.4444444444444444,
              "#bd3786"
             ],
             [
              0.5555555555555556,
              "#d8576b"
             ],
             [
              0.6666666666666666,
              "#ed7953"
             ],
             [
              0.7777777777777778,
              "#fb9f3a"
             ],
             [
              0.8888888888888888,
              "#fdca26"
             ],
             [
              1,
              "#f0f921"
             ]
            ],
            "type": "contour"
           }
          ],
          "contourcarpet": [
           {
            "colorbar": {
             "outlinewidth": 0,
             "ticks": ""
            },
            "type": "contourcarpet"
           }
          ],
          "heatmap": [
           {
            "colorbar": {
             "outlinewidth": 0,
             "ticks": ""
            },
            "colorscale": [
             [
              0,
              "#0d0887"
             ],
             [
              0.1111111111111111,
              "#46039f"
             ],
             [
              0.2222222222222222,
              "#7201a8"
             ],
             [
              0.3333333333333333,
              "#9c179e"
             ],
             [
              0.4444444444444444,
              "#bd3786"
             ],
             [
              0.5555555555555556,
              "#d8576b"
             ],
             [
              0.6666666666666666,
              "#ed7953"
             ],
             [
              0.7777777777777778,
              "#fb9f3a"
             ],
             [
              0.8888888888888888,
              "#fdca26"
             ],
             [
              1,
              "#f0f921"
             ]
            ],
            "type": "heatmap"
           }
          ],
          "heatmapgl": [
           {
            "colorbar": {
             "outlinewidth": 0,
             "ticks": ""
            },
            "colorscale": [
             [
              0,
              "#0d0887"
             ],
             [
              0.1111111111111111,
              "#46039f"
             ],
             [
              0.2222222222222222,
              "#7201a8"
             ],
             [
              0.3333333333333333,
              "#9c179e"
             ],
             [
              0.4444444444444444,
              "#bd3786"
             ],
             [
              0.5555555555555556,
              "#d8576b"
             ],
             [
              0.6666666666666666,
              "#ed7953"
             ],
             [
              0.7777777777777778,
              "#fb9f3a"
             ],
             [
              0.8888888888888888,
              "#fdca26"
             ],
             [
              1,
              "#f0f921"
             ]
            ],
            "type": "heatmapgl"
           }
          ],
          "histogram": [
           {
            "marker": {
             "pattern": {
              "fillmode": "overlay",
              "size": 10,
              "solidity": 0.2
             }
            },
            "type": "histogram"
           }
          ],
          "histogram2d": [
           {
            "colorbar": {
             "outlinewidth": 0,
             "ticks": ""
            },
            "colorscale": [
             [
              0,
              "#0d0887"
             ],
             [
              0.1111111111111111,
              "#46039f"
             ],
             [
              0.2222222222222222,
              "#7201a8"
             ],
             [
              0.3333333333333333,
              "#9c179e"
             ],
             [
              0.4444444444444444,
              "#bd3786"
             ],
             [
              0.5555555555555556,
              "#d8576b"
             ],
             [
              0.6666666666666666,
              "#ed7953"
             ],
             [
              0.7777777777777778,
              "#fb9f3a"
             ],
             [
              0.8888888888888888,
              "#fdca26"
             ],
             [
              1,
              "#f0f921"
             ]
            ],
            "type": "histogram2d"
           }
          ],
          "histogram2dcontour": [
           {
            "colorbar": {
             "outlinewidth": 0,
             "ticks": ""
            },
            "colorscale": [
             [
              0,
              "#0d0887"
             ],
             [
              0.1111111111111111,
              "#46039f"
             ],
             [
              0.2222222222222222,
              "#7201a8"
             ],
             [
              0.3333333333333333,
              "#9c179e"
             ],
             [
              0.4444444444444444,
              "#bd3786"
             ],
             [
              0.5555555555555556,
              "#d8576b"
             ],
             [
              0.6666666666666666,
              "#ed7953"
             ],
             [
              0.7777777777777778,
              "#fb9f3a"
             ],
             [
              0.8888888888888888,
              "#fdca26"
             ],
             [
              1,
              "#f0f921"
             ]
            ],
            "type": "histogram2dcontour"
           }
          ],
          "mesh3d": [
           {
            "colorbar": {
             "outlinewidth": 0,
             "ticks": ""
            },
            "type": "mesh3d"
           }
          ],
          "parcoords": [
           {
            "line": {
             "colorbar": {
              "outlinewidth": 0,
              "ticks": ""
             }
            },
            "type": "parcoords"
           }
          ],
          "pie": [
           {
            "automargin": true,
            "type": "pie"
           }
          ],
          "scatter": [
           {
            "marker": {
             "colorbar": {
              "outlinewidth": 0,
              "ticks": ""
             }
            },
            "type": "scatter"
           }
          ],
          "scatter3d": [
           {
            "line": {
             "colorbar": {
              "outlinewidth": 0,
              "ticks": ""
             }
            },
            "marker": {
             "colorbar": {
              "outlinewidth": 0,
              "ticks": ""
             }
            },
            "type": "scatter3d"
           }
          ],
          "scattercarpet": [
           {
            "marker": {
             "colorbar": {
              "outlinewidth": 0,
              "ticks": ""
             }
            },
            "type": "scattercarpet"
           }
          ],
          "scattergeo": [
           {
            "marker": {
             "colorbar": {
              "outlinewidth": 0,
              "ticks": ""
             }
            },
            "type": "scattergeo"
           }
          ],
          "scattergl": [
           {
            "marker": {
             "colorbar": {
              "outlinewidth": 0,
              "ticks": ""
             }
            },
            "type": "scattergl"
           }
          ],
          "scattermapbox": [
           {
            "marker": {
             "colorbar": {
              "outlinewidth": 0,
              "ticks": ""
             }
            },
            "type": "scattermapbox"
           }
          ],
          "scatterpolar": [
           {
            "marker": {
             "colorbar": {
              "outlinewidth": 0,
              "ticks": ""
             }
            },
            "type": "scatterpolar"
           }
          ],
          "scatterpolargl": [
           {
            "marker": {
             "colorbar": {
              "outlinewidth": 0,
              "ticks": ""
             }
            },
            "type": "scatterpolargl"
           }
          ],
          "scatterternary": [
           {
            "marker": {
             "colorbar": {
              "outlinewidth": 0,
              "ticks": ""
             }
            },
            "type": "scatterternary"
           }
          ],
          "surface": [
           {
            "colorbar": {
             "outlinewidth": 0,
             "ticks": ""
            },
            "colorscale": [
             [
              0,
              "#0d0887"
             ],
             [
              0.1111111111111111,
              "#46039f"
             ],
             [
              0.2222222222222222,
              "#7201a8"
             ],
             [
              0.3333333333333333,
              "#9c179e"
             ],
             [
              0.4444444444444444,
              "#bd3786"
             ],
             [
              0.5555555555555556,
              "#d8576b"
             ],
             [
              0.6666666666666666,
              "#ed7953"
             ],
             [
              0.7777777777777778,
              "#fb9f3a"
             ],
             [
              0.8888888888888888,
              "#fdca26"
             ],
             [
              1,
              "#f0f921"
             ]
            ],
            "type": "surface"
           }
          ],
          "table": [
           {
            "cells": {
             "fill": {
              "color": "#EBF0F8"
             },
             "line": {
              "color": "white"
             }
            },
            "header": {
             "fill": {
              "color": "#C8D4E3"
             },
             "line": {
              "color": "white"
             }
            },
            "type": "table"
           }
          ]
         },
         "layout": {
          "annotationdefaults": {
           "arrowcolor": "#2a3f5f",
           "arrowhead": 0,
           "arrowwidth": 1
          },
          "autotypenumbers": "strict",
          "coloraxis": {
           "colorbar": {
            "outlinewidth": 0,
            "ticks": ""
           }
          },
          "colorscale": {
           "diverging": [
            [
             0,
             "#8e0152"
            ],
            [
             0.1,
             "#c51b7d"
            ],
            [
             0.2,
             "#de77ae"
            ],
            [
             0.3,
             "#f1b6da"
            ],
            [
             0.4,
             "#fde0ef"
            ],
            [
             0.5,
             "#f7f7f7"
            ],
            [
             0.6,
             "#e6f5d0"
            ],
            [
             0.7,
             "#b8e186"
            ],
            [
             0.8,
             "#7fbc41"
            ],
            [
             0.9,
             "#4d9221"
            ],
            [
             1,
             "#276419"
            ]
           ],
           "sequential": [
            [
             0,
             "#0d0887"
            ],
            [
             0.1111111111111111,
             "#46039f"
            ],
            [
             0.2222222222222222,
             "#7201a8"
            ],
            [
             0.3333333333333333,
             "#9c179e"
            ],
            [
             0.4444444444444444,
             "#bd3786"
            ],
            [
             0.5555555555555556,
             "#d8576b"
            ],
            [
             0.6666666666666666,
             "#ed7953"
            ],
            [
             0.7777777777777778,
             "#fb9f3a"
            ],
            [
             0.8888888888888888,
             "#fdca26"
            ],
            [
             1,
             "#f0f921"
            ]
           ],
           "sequentialminus": [
            [
             0,
             "#0d0887"
            ],
            [
             0.1111111111111111,
             "#46039f"
            ],
            [
             0.2222222222222222,
             "#7201a8"
            ],
            [
             0.3333333333333333,
             "#9c179e"
            ],
            [
             0.4444444444444444,
             "#bd3786"
            ],
            [
             0.5555555555555556,
             "#d8576b"
            ],
            [
             0.6666666666666666,
             "#ed7953"
            ],
            [
             0.7777777777777778,
             "#fb9f3a"
            ],
            [
             0.8888888888888888,
             "#fdca26"
            ],
            [
             1,
             "#f0f921"
            ]
           ]
          },
          "colorway": [
           "#636efa",
           "#EF553B",
           "#00cc96",
           "#ab63fa",
           "#FFA15A",
           "#19d3f3",
           "#FF6692",
           "#B6E880",
           "#FF97FF",
           "#FECB52"
          ],
          "font": {
           "color": "#2a3f5f"
          },
          "geo": {
           "bgcolor": "white",
           "lakecolor": "white",
           "landcolor": "#E5ECF6",
           "showlakes": true,
           "showland": true,
           "subunitcolor": "white"
          },
          "hoverlabel": {
           "align": "left"
          },
          "hovermode": "closest",
          "mapbox": {
           "style": "light"
          },
          "paper_bgcolor": "white",
          "plot_bgcolor": "#E5ECF6",
          "polar": {
           "angularaxis": {
            "gridcolor": "white",
            "linecolor": "white",
            "ticks": ""
           },
           "bgcolor": "#E5ECF6",
           "radialaxis": {
            "gridcolor": "white",
            "linecolor": "white",
            "ticks": ""
           }
          },
          "scene": {
           "xaxis": {
            "backgroundcolor": "#E5ECF6",
            "gridcolor": "white",
            "gridwidth": 2,
            "linecolor": "white",
            "showbackground": true,
            "ticks": "",
            "zerolinecolor": "white"
           },
           "yaxis": {
            "backgroundcolor": "#E5ECF6",
            "gridcolor": "white",
            "gridwidth": 2,
            "linecolor": "white",
            "showbackground": true,
            "ticks": "",
            "zerolinecolor": "white"
           },
           "zaxis": {
            "backgroundcolor": "#E5ECF6",
            "gridcolor": "white",
            "gridwidth": 2,
            "linecolor": "white",
            "showbackground": true,
            "ticks": "",
            "zerolinecolor": "white"
           }
          },
          "shapedefaults": {
           "line": {
            "color": "#2a3f5f"
           }
          },
          "ternary": {
           "aaxis": {
            "gridcolor": "white",
            "linecolor": "white",
            "ticks": ""
           },
           "baxis": {
            "gridcolor": "white",
            "linecolor": "white",
            "ticks": ""
           },
           "bgcolor": "#E5ECF6",
           "caxis": {
            "gridcolor": "white",
            "linecolor": "white",
            "ticks": ""
           }
          },
          "title": {
           "x": 0.05
          },
          "xaxis": {
           "automargin": true,
           "gridcolor": "white",
           "linecolor": "white",
           "ticks": "",
           "title": {
            "standoff": 15
           },
           "zerolinecolor": "white",
           "zerolinewidth": 2
          },
          "yaxis": {
           "automargin": true,
           "gridcolor": "white",
           "linecolor": "white",
           "ticks": "",
           "title": {
            "standoff": 15
           },
           "zerolinecolor": "white",
           "zerolinewidth": 2
          }
         }
        },
        "width": 2000,
        "xaxis": {
         "anchor": "y",
         "domain": [
          0,
          1
         ],
         "range": [
          -3,
          15
         ],
         "title": {
          "text": "ERCC_attomoles_in_sample"
         },
         "type": "log"
        },
        "yaxis": {
         "anchor": "x",
         "domain": [
          0,
          1
         ],
         "title": {
          "text": "RPK"
         },
         "type": "log"
        }
       }
      }
     },
     "metadata": {},
     "output_type": "display_data"
    },
    {
     "name": "stderr",
     "output_type": "stream",
     "text": [
      "C:\\Users\\adiro\\AppData\\Local\\Temp\\ipykernel_40068\\2061613557.py:205: SettingWithCopyWarning:\n",
      "\n",
      "\n",
      "A value is trying to be set on a copy of a slice from a DataFrame.\n",
      "Try using .loc[row_indexer,col_indexer] = value instead\n",
      "\n",
      "See the caveats in the documentation: https://pandas.pydata.org/pandas-docs/stable/user_guide/indexing.html#returning-a-view-versus-a-copy\n",
      "\n"
     ]
    },
    {
     "data": {
      "application/vnd.plotly.v1+json": {
       "config": {
        "plotlyServerURL": "https://plot.ly"
       },
       "data": [
        {
         "hovertemplate": "<b>%{hovertext}</b><br><br>in_fit=in fit<br>ERCC_attomoles_in_sample=%{x}<br>RPK=%{y}<extra></extra>",
         "hovertext": [
          "ERCC-00002",
          "ERCC-00003",
          "ERCC-00004",
          "ERCC-00009",
          "ERCC-00012",
          "ERCC-00013",
          "ERCC-00014",
          "ERCC-00016",
          "ERCC-00017",
          "ERCC-00019",
          "ERCC-00022",
          "ERCC-00024",
          "ERCC-00025",
          "ERCC-00028",
          "ERCC-00031",
          "ERCC-00033",
          "ERCC-00034",
          "ERCC-00035",
          "ERCC-00039",
          "ERCC-00040",
          "ERCC-00041",
          "ERCC-00042",
          "ERCC-00043",
          "ERCC-00044",
          "ERCC-00046",
          "ERCC-00048",
          "ERCC-00051",
          "ERCC-00053",
          "ERCC-00057",
          "ERCC-00058",
          "ERCC-00059",
          "ERCC-00060",
          "ERCC-00061",
          "ERCC-00062",
          "ERCC-00067",
          "ERCC-00069",
          "ERCC-00071",
          "ERCC-00073",
          "ERCC-00074",
          "ERCC-00075",
          "ERCC-00076",
          "ERCC-00077",
          "ERCC-00078",
          "ERCC-00079",
          "ERCC-00081",
          "ERCC-00083",
          "ERCC-00084",
          "ERCC-00085",
          "ERCC-00086",
          "ERCC-00092",
          "ERCC-00095",
          "ERCC-00096",
          "ERCC-00097",
          "ERCC-00098",
          "ERCC-00099",
          "ERCC-00104",
          "ERCC-00108",
          "ERCC-00109",
          "ERCC-00111",
          "ERCC-00112",
          "ERCC-00113",
          "ERCC-00116",
          "ERCC-00117",
          "ERCC-00120",
          "ERCC-00123",
          "ERCC-00126",
          "ERCC-00130",
          "ERCC-00131",
          "ERCC-00134",
          "ERCC-00136",
          "ERCC-00137",
          "ERCC-00138",
          "ERCC-00142",
          "ERCC-00143",
          "ERCC-00144",
          "ERCC-00145",
          "ERCC-00147",
          "ERCC-00148",
          "ERCC-00150",
          "ERCC-00154",
          "ERCC-00156",
          "ERCC-00157",
          "ERCC-00158",
          "ERCC-00160",
          "ERCC-00162",
          "ERCC-00163",
          "ERCC-00164",
          "ERCC-00165",
          "ERCC-00168",
          "ERCC-00170",
          "ERCC-00171"
         ],
         "legendgroup": "in fit",
         "marker": {
          "color": "#636efa",
          "symbol": "circle"
         },
         "mode": "markers",
         "name": "in fit",
         "orientation": "h",
         "showlegend": true,
         "type": "scatter",
         "x": [
          487.5,
          30.46875,
          243.75,
          30.46875,
          0.0037193299,
          0.02975463855,
          0.11901855485000001,
          0.0074386598,
          0.0037193299,
          0.9521484375,
          7.6171875,
          0.0074386598,
          1.904296875,
          0.11901855485000001,
          0.05950927742500001,
          0.05950927742500001,
          0.238037109375,
          3.80859375,
          0.11901855485000001,
          0.02975463855,
          0.0074386598,
          15.234375,
          15.234375,
          3.80859375,
          121.875,
          0.0004649164,
          1.904296875,
          0.9521484375,
          0.0004649164,
          0.05950927742500001,
          0.47607421875,
          7.6171875,
          0.00185966495,
          1.904296875,
          0.11901855485000001,
          0.05950927742500001,
          1.904296875,
          0.02975463855,
          487.5,
          0.0004649164,
          7.6171875,
          0.11901855485000001,
          0.9521484375,
          1.904296875,
          0.0074386598,
          0.000929832475,
          0.9521484375,
          0.238037109375,
          0.0037193299,
          7.6171875,
          3.80859375,
          487.5,
          0.014877319275,
          0.00185966495,
          0.47607421875,
          0.0074386598,
          30.46875,
          0.02975463855,
          15.234375,
          3.80859375,
          121.875,
          15.234375,
          0.00185966495,
          0.02975463855,
          0.0074386598,
          0.47607421875,
          975,
          3.80859375,
          0.05950927742500001,
          60.9375,
          0.02975463855,
          0.0037193299,
          0.0074386598,
          0.11901855485000001,
          0.9521484375,
          30.46875,
          0.02975463855,
          0.47607421875,
          0.11901855485000001,
          0.238037109375,
          0.014877319275,
          0.238037109375,
          0.014877319275,
          0.238037109375,
          1.904296875,
          0.47607421875,
          0.014877319275,
          1.904296875,
          0.014877319275,
          0.47607421875,
          121.875
         ],
         "xaxis": "x",
         "y": [
          430616.3996229972,
          41294.23264907136,
          268726.5774378585,
          19100.60975609756,
          2.0120724346076457,
          40.84158415841584,
          104.75217169136432,
          5.924170616113744,
          2.6408450704225355,
          916.1490683229813,
          4812.250332889481,
          1.8656716417910446,
          1882.1464393179538,
          99.11504424778762,
          46.57293497363796,
          40.553907022749755,
          515.2109911678116,
          2781.41592920354,
          91.89189189189189,
          22.8494623655914,
          11.58645276292335,
          16340.17595307918,
          12075.268817204302,
          3113.321799307959,
          153998.08429118773,
          0,
          613.1386861313869,
          819.1593352883676,
          0.9794319294809012,
          58.09859154929578,
          403.8095238095238,
          11338.432122370936,
          0.8802816901408451,
          1982.4046920821115,
          62.11180124223603,
          95.86631486367634,
          1428.3489096573207,
          39.800995024875625,
          508553.63984674326,
          4.887585532746823,
          2900.3115264797507,
          36.63003663003663,
          1145.0151057401813,
          1728.2608695652173,
          3.745318352059925,
          2.935420743639922,
          963.7826961770623,
          213.27014218009478,
          2.941176470588235,
          9037.366548042704,
          5464.491362763915,
          600943.0894308944,
          24.8565965583174,
          5.2493438320209975,
          399.25925925925924,
          0.9891196834817014,
          24341.487279843444,
          13.059701492537313,
          10920.523138832998,
          4118.838028169014,
          127065.4761904762,
          17068.809643395278,
          0.8802816901408451,
          7.462686567164178,
          9.784735812133071,
          202.14669051878352,
          793985.835694051,
          5210.11673151751,
          7.2992700729927,
          37540.17424975799,
          13.035381750465548,
          2.9296875,
          2.028397565922921,
          131.37755102040816,
          648.6988847583642,
          13798.464491362764,
          11.730205278592376,
          147.77327935222672,
          92.86675639300135,
          139.66480446927375,
          8.097165991902834,
          390.5789990186458,
          20.44790652385589,
          559.892328398385,
          1959.8470363288718,
          460.4051565377532,
          13.698630136986301,
          1889.908256880734,
          30.2734375,
          682.3069403714566,
          105477.22772277228
         ],
         "yaxis": "y"
        },
        {
         "hovertemplate": "<b>%{hovertext}</b><br><br>in_fit=not in fit<br>ERCC_attomoles_in_sample=%{x}<br>RPK=%{y}<extra></extra>",
         "hovertext": [
          "ERCC-00054"
         ],
         "legendgroup": "not in fit",
         "marker": {
          "color": "#EF553B",
          "symbol": "circle"
         },
         "mode": "markers",
         "name": "not in fit",
         "orientation": "h",
         "showlegend": true,
         "type": "scatter",
         "x": [
          0.47607421875
         ],
         "xaxis": "x",
         "y": [
          7.2992700729927
         ],
         "yaxis": "y"
        },
        {
         "mode": "lines",
         "name": "CASP_biorep4",
         "type": "scatter",
         "x": [
          0.01,
          975
         ],
         "y": [
          8.47757710816399,
          821222.7945758054
         ]
        }
       ],
       "layout": {
        "annotations": [
         {
          "align": "left",
          "bordercolor": "black",
          "borderwidth": 1,
          "showarrow": false,
          "text": "fit of log(y) Vs log(x), paremeters: log(y) = m*log(x)+c",
          "x": 0.4,
          "xanchor": "left",
          "xref": "paper",
          "y": 1,
          "yref": "paper"
         },
         {
          "align": "left",
          "bordercolor": "black",
          "borderwidth": 1,
          "showarrow": false,
          "text": "fit in the range ERCC attomoles in sample [0.01,975.00]",
          "x": 0.4,
          "xanchor": "left",
          "xref": "paper",
          "y": 0.9,
          "yref": "paper"
         },
         {
          "align": "left",
          "bordercolor": "black",
          "borderwidth": 1,
          "showarrow": false,
          "text": "the slop in log scale: m = 1.00",
          "x": 0.4,
          "xanchor": "left",
          "xref": "paper",
          "y": 0.8,
          "yref": "paper"
         },
         {
          "align": "left",
          "bordercolor": "black",
          "borderwidth": 1,
          "showarrow": false,
          "text": "the intercept in log scale: c = 6.74",
          "x": 0.4,
          "xanchor": "left",
          "xref": "paper",
          "y": 0.7,
          "yref": "paper"
         },
         {
          "align": "left",
          "bordercolor": "black",
          "borderwidth": 1,
          "showarrow": false,
          "text": "",
          "x": 0.4,
          "xanchor": "left",
          "xref": "paper",
          "y": 0.6,
          "yref": "paper"
         },
         {
          "align": "left",
          "bordercolor": "black",
          "borderwidth": 1,
          "showarrow": false,
          "text": "log(y) = m*log(x)+c --> y = e^c * x^m",
          "x": 0.4,
          "xanchor": "left",
          "xref": "paper",
          "y": 0.5,
          "yref": "paper"
         },
         {
          "align": "left",
          "bordercolor": "black",
          "borderwidth": 1,
          "showarrow": false,
          "text": "the slope in linear scale: e^c = 8.46E+02",
          "x": 0.4,
          "xanchor": "left",
          "xref": "paper",
          "y": 0.3999999999999999,
          "yref": "paper"
         },
         {
          "align": "left",
          "bordercolor": "black",
          "borderwidth": 1,
          "showarrow": false,
          "text": "R^2 = 0.97",
          "x": 0.4,
          "xanchor": "left",
          "xref": "paper",
          "y": 0.29999999999999993,
          "yref": "paper"
         },
         {
          "align": "left",
          "bordercolor": "black",
          "borderwidth": 1,
          "showarrow": false,
          "text": "",
          "x": 0.4,
          "xanchor": "left",
          "xref": "paper",
          "y": 0.19999999999999996,
          "yref": "paper"
         },
         {
          "align": "left",
          "bordercolor": "black",
          "borderwidth": 1,
          "showarrow": false,
          "text": "ERCCs with no reads detected",
          "x": 0.4,
          "xanchor": "left",
          "xref": "paper",
          "y": 0.09999999999999998,
          "yref": "paper"
         },
         {
          "align": "left",
          "bordercolor": "black",
          "borderwidth": 1,
          "showarrow": false,
          "text": " not fitted and not shown",
          "x": 0.4,
          "xanchor": "left",
          "xref": "paper",
          "y": 0,
          "yref": "paper"
         }
        ],
        "font": {
         "size": 24
        },
        "height": 600,
        "legend": {
         "title": {
          "text": "in_fit"
         },
         "tracegroupgap": 0
        },
        "margin": {
         "t": 60
        },
        "template": {
         "data": {
          "bar": [
           {
            "error_x": {
             "color": "#2a3f5f"
            },
            "error_y": {
             "color": "#2a3f5f"
            },
            "marker": {
             "line": {
              "color": "#E5ECF6",
              "width": 0.5
             },
             "pattern": {
              "fillmode": "overlay",
              "size": 10,
              "solidity": 0.2
             }
            },
            "type": "bar"
           }
          ],
          "barpolar": [
           {
            "marker": {
             "line": {
              "color": "#E5ECF6",
              "width": 0.5
             },
             "pattern": {
              "fillmode": "overlay",
              "size": 10,
              "solidity": 0.2
             }
            },
            "type": "barpolar"
           }
          ],
          "carpet": [
           {
            "aaxis": {
             "endlinecolor": "#2a3f5f",
             "gridcolor": "white",
             "linecolor": "white",
             "minorgridcolor": "white",
             "startlinecolor": "#2a3f5f"
            },
            "baxis": {
             "endlinecolor": "#2a3f5f",
             "gridcolor": "white",
             "linecolor": "white",
             "minorgridcolor": "white",
             "startlinecolor": "#2a3f5f"
            },
            "type": "carpet"
           }
          ],
          "choropleth": [
           {
            "colorbar": {
             "outlinewidth": 0,
             "ticks": ""
            },
            "type": "choropleth"
           }
          ],
          "contour": [
           {
            "colorbar": {
             "outlinewidth": 0,
             "ticks": ""
            },
            "colorscale": [
             [
              0,
              "#0d0887"
             ],
             [
              0.1111111111111111,
              "#46039f"
             ],
             [
              0.2222222222222222,
              "#7201a8"
             ],
             [
              0.3333333333333333,
              "#9c179e"
             ],
             [
              0.4444444444444444,
              "#bd3786"
             ],
             [
              0.5555555555555556,
              "#d8576b"
             ],
             [
              0.6666666666666666,
              "#ed7953"
             ],
             [
              0.7777777777777778,
              "#fb9f3a"
             ],
             [
              0.8888888888888888,
              "#fdca26"
             ],
             [
              1,
              "#f0f921"
             ]
            ],
            "type": "contour"
           }
          ],
          "contourcarpet": [
           {
            "colorbar": {
             "outlinewidth": 0,
             "ticks": ""
            },
            "type": "contourcarpet"
           }
          ],
          "heatmap": [
           {
            "colorbar": {
             "outlinewidth": 0,
             "ticks": ""
            },
            "colorscale": [
             [
              0,
              "#0d0887"
             ],
             [
              0.1111111111111111,
              "#46039f"
             ],
             [
              0.2222222222222222,
              "#7201a8"
             ],
             [
              0.3333333333333333,
              "#9c179e"
             ],
             [
              0.4444444444444444,
              "#bd3786"
             ],
             [
              0.5555555555555556,
              "#d8576b"
             ],
             [
              0.6666666666666666,
              "#ed7953"
             ],
             [
              0.7777777777777778,
              "#fb9f3a"
             ],
             [
              0.8888888888888888,
              "#fdca26"
             ],
             [
              1,
              "#f0f921"
             ]
            ],
            "type": "heatmap"
           }
          ],
          "heatmapgl": [
           {
            "colorbar": {
             "outlinewidth": 0,
             "ticks": ""
            },
            "colorscale": [
             [
              0,
              "#0d0887"
             ],
             [
              0.1111111111111111,
              "#46039f"
             ],
             [
              0.2222222222222222,
              "#7201a8"
             ],
             [
              0.3333333333333333,
              "#9c179e"
             ],
             [
              0.4444444444444444,
              "#bd3786"
             ],
             [
              0.5555555555555556,
              "#d8576b"
             ],
             [
              0.6666666666666666,
              "#ed7953"
             ],
             [
              0.7777777777777778,
              "#fb9f3a"
             ],
             [
              0.8888888888888888,
              "#fdca26"
             ],
             [
              1,
              "#f0f921"
             ]
            ],
            "type": "heatmapgl"
           }
          ],
          "histogram": [
           {
            "marker": {
             "pattern": {
              "fillmode": "overlay",
              "size": 10,
              "solidity": 0.2
             }
            },
            "type": "histogram"
           }
          ],
          "histogram2d": [
           {
            "colorbar": {
             "outlinewidth": 0,
             "ticks": ""
            },
            "colorscale": [
             [
              0,
              "#0d0887"
             ],
             [
              0.1111111111111111,
              "#46039f"
             ],
             [
              0.2222222222222222,
              "#7201a8"
             ],
             [
              0.3333333333333333,
              "#9c179e"
             ],
             [
              0.4444444444444444,
              "#bd3786"
             ],
             [
              0.5555555555555556,
              "#d8576b"
             ],
             [
              0.6666666666666666,
              "#ed7953"
             ],
             [
              0.7777777777777778,
              "#fb9f3a"
             ],
             [
              0.8888888888888888,
              "#fdca26"
             ],
             [
              1,
              "#f0f921"
             ]
            ],
            "type": "histogram2d"
           }
          ],
          "histogram2dcontour": [
           {
            "colorbar": {
             "outlinewidth": 0,
             "ticks": ""
            },
            "colorscale": [
             [
              0,
              "#0d0887"
             ],
             [
              0.1111111111111111,
              "#46039f"
             ],
             [
              0.2222222222222222,
              "#7201a8"
             ],
             [
              0.3333333333333333,
              "#9c179e"
             ],
             [
              0.4444444444444444,
              "#bd3786"
             ],
             [
              0.5555555555555556,
              "#d8576b"
             ],
             [
              0.6666666666666666,
              "#ed7953"
             ],
             [
              0.7777777777777778,
              "#fb9f3a"
             ],
             [
              0.8888888888888888,
              "#fdca26"
             ],
             [
              1,
              "#f0f921"
             ]
            ],
            "type": "histogram2dcontour"
           }
          ],
          "mesh3d": [
           {
            "colorbar": {
             "outlinewidth": 0,
             "ticks": ""
            },
            "type": "mesh3d"
           }
          ],
          "parcoords": [
           {
            "line": {
             "colorbar": {
              "outlinewidth": 0,
              "ticks": ""
             }
            },
            "type": "parcoords"
           }
          ],
          "pie": [
           {
            "automargin": true,
            "type": "pie"
           }
          ],
          "scatter": [
           {
            "marker": {
             "colorbar": {
              "outlinewidth": 0,
              "ticks": ""
             }
            },
            "type": "scatter"
           }
          ],
          "scatter3d": [
           {
            "line": {
             "colorbar": {
              "outlinewidth": 0,
              "ticks": ""
             }
            },
            "marker": {
             "colorbar": {
              "outlinewidth": 0,
              "ticks": ""
             }
            },
            "type": "scatter3d"
           }
          ],
          "scattercarpet": [
           {
            "marker": {
             "colorbar": {
              "outlinewidth": 0,
              "ticks": ""
             }
            },
            "type": "scattercarpet"
           }
          ],
          "scattergeo": [
           {
            "marker": {
             "colorbar": {
              "outlinewidth": 0,
              "ticks": ""
             }
            },
            "type": "scattergeo"
           }
          ],
          "scattergl": [
           {
            "marker": {
             "colorbar": {
              "outlinewidth": 0,
              "ticks": ""
             }
            },
            "type": "scattergl"
           }
          ],
          "scattermapbox": [
           {
            "marker": {
             "colorbar": {
              "outlinewidth": 0,
              "ticks": ""
             }
            },
            "type": "scattermapbox"
           }
          ],
          "scatterpolar": [
           {
            "marker": {
             "colorbar": {
              "outlinewidth": 0,
              "ticks": ""
             }
            },
            "type": "scatterpolar"
           }
          ],
          "scatterpolargl": [
           {
            "marker": {
             "colorbar": {
              "outlinewidth": 0,
              "ticks": ""
             }
            },
            "type": "scatterpolargl"
           }
          ],
          "scatterternary": [
           {
            "marker": {
             "colorbar": {
              "outlinewidth": 0,
              "ticks": ""
             }
            },
            "type": "scatterternary"
           }
          ],
          "surface": [
           {
            "colorbar": {
             "outlinewidth": 0,
             "ticks": ""
            },
            "colorscale": [
             [
              0,
              "#0d0887"
             ],
             [
              0.1111111111111111,
              "#46039f"
             ],
             [
              0.2222222222222222,
              "#7201a8"
             ],
             [
              0.3333333333333333,
              "#9c179e"
             ],
             [
              0.4444444444444444,
              "#bd3786"
             ],
             [
              0.5555555555555556,
              "#d8576b"
             ],
             [
              0.6666666666666666,
              "#ed7953"
             ],
             [
              0.7777777777777778,
              "#fb9f3a"
             ],
             [
              0.8888888888888888,
              "#fdca26"
             ],
             [
              1,
              "#f0f921"
             ]
            ],
            "type": "surface"
           }
          ],
          "table": [
           {
            "cells": {
             "fill": {
              "color": "#EBF0F8"
             },
             "line": {
              "color": "white"
             }
            },
            "header": {
             "fill": {
              "color": "#C8D4E3"
             },
             "line": {
              "color": "white"
             }
            },
            "type": "table"
           }
          ]
         },
         "layout": {
          "annotationdefaults": {
           "arrowcolor": "#2a3f5f",
           "arrowhead": 0,
           "arrowwidth": 1
          },
          "autotypenumbers": "strict",
          "coloraxis": {
           "colorbar": {
            "outlinewidth": 0,
            "ticks": ""
           }
          },
          "colorscale": {
           "diverging": [
            [
             0,
             "#8e0152"
            ],
            [
             0.1,
             "#c51b7d"
            ],
            [
             0.2,
             "#de77ae"
            ],
            [
             0.3,
             "#f1b6da"
            ],
            [
             0.4,
             "#fde0ef"
            ],
            [
             0.5,
             "#f7f7f7"
            ],
            [
             0.6,
             "#e6f5d0"
            ],
            [
             0.7,
             "#b8e186"
            ],
            [
             0.8,
             "#7fbc41"
            ],
            [
             0.9,
             "#4d9221"
            ],
            [
             1,
             "#276419"
            ]
           ],
           "sequential": [
            [
             0,
             "#0d0887"
            ],
            [
             0.1111111111111111,
             "#46039f"
            ],
            [
             0.2222222222222222,
             "#7201a8"
            ],
            [
             0.3333333333333333,
             "#9c179e"
            ],
            [
             0.4444444444444444,
             "#bd3786"
            ],
            [
             0.5555555555555556,
             "#d8576b"
            ],
            [
             0.6666666666666666,
             "#ed7953"
            ],
            [
             0.7777777777777778,
             "#fb9f3a"
            ],
            [
             0.8888888888888888,
             "#fdca26"
            ],
            [
             1,
             "#f0f921"
            ]
           ],
           "sequentialminus": [
            [
             0,
             "#0d0887"
            ],
            [
             0.1111111111111111,
             "#46039f"
            ],
            [
             0.2222222222222222,
             "#7201a8"
            ],
            [
             0.3333333333333333,
             "#9c179e"
            ],
            [
             0.4444444444444444,
             "#bd3786"
            ],
            [
             0.5555555555555556,
             "#d8576b"
            ],
            [
             0.6666666666666666,
             "#ed7953"
            ],
            [
             0.7777777777777778,
             "#fb9f3a"
            ],
            [
             0.8888888888888888,
             "#fdca26"
            ],
            [
             1,
             "#f0f921"
            ]
           ]
          },
          "colorway": [
           "#636efa",
           "#EF553B",
           "#00cc96",
           "#ab63fa",
           "#FFA15A",
           "#19d3f3",
           "#FF6692",
           "#B6E880",
           "#FF97FF",
           "#FECB52"
          ],
          "font": {
           "color": "#2a3f5f"
          },
          "geo": {
           "bgcolor": "white",
           "lakecolor": "white",
           "landcolor": "#E5ECF6",
           "showlakes": true,
           "showland": true,
           "subunitcolor": "white"
          },
          "hoverlabel": {
           "align": "left"
          },
          "hovermode": "closest",
          "mapbox": {
           "style": "light"
          },
          "paper_bgcolor": "white",
          "plot_bgcolor": "#E5ECF6",
          "polar": {
           "angularaxis": {
            "gridcolor": "white",
            "linecolor": "white",
            "ticks": ""
           },
           "bgcolor": "#E5ECF6",
           "radialaxis": {
            "gridcolor": "white",
            "linecolor": "white",
            "ticks": ""
           }
          },
          "scene": {
           "xaxis": {
            "backgroundcolor": "#E5ECF6",
            "gridcolor": "white",
            "gridwidth": 2,
            "linecolor": "white",
            "showbackground": true,
            "ticks": "",
            "zerolinecolor": "white"
           },
           "yaxis": {
            "backgroundcolor": "#E5ECF6",
            "gridcolor": "white",
            "gridwidth": 2,
            "linecolor": "white",
            "showbackground": true,
            "ticks": "",
            "zerolinecolor": "white"
           },
           "zaxis": {
            "backgroundcolor": "#E5ECF6",
            "gridcolor": "white",
            "gridwidth": 2,
            "linecolor": "white",
            "showbackground": true,
            "ticks": "",
            "zerolinecolor": "white"
           }
          },
          "shapedefaults": {
           "line": {
            "color": "#2a3f5f"
           }
          },
          "ternary": {
           "aaxis": {
            "gridcolor": "white",
            "linecolor": "white",
            "ticks": ""
           },
           "baxis": {
            "gridcolor": "white",
            "linecolor": "white",
            "ticks": ""
           },
           "bgcolor": "#E5ECF6",
           "caxis": {
            "gridcolor": "white",
            "linecolor": "white",
            "ticks": ""
           }
          },
          "title": {
           "x": 0.05
          },
          "xaxis": {
           "automargin": true,
           "gridcolor": "white",
           "linecolor": "white",
           "ticks": "",
           "title": {
            "standoff": 15
           },
           "zerolinecolor": "white",
           "zerolinewidth": 2
          },
          "yaxis": {
           "automargin": true,
           "gridcolor": "white",
           "linecolor": "white",
           "ticks": "",
           "title": {
            "standoff": 15
           },
           "zerolinecolor": "white",
           "zerolinewidth": 2
          }
         }
        },
        "width": 2000,
        "xaxis": {
         "anchor": "y",
         "domain": [
          0,
          1
         ],
         "range": [
          -3,
          15
         ],
         "title": {
          "text": "ERCC_attomoles_in_sample"
         },
         "type": "log"
        },
        "yaxis": {
         "anchor": "x",
         "domain": [
          0,
          1
         ],
         "title": {
          "text": "RPK"
         },
         "type": "log"
        }
       }
      }
     },
     "metadata": {},
     "output_type": "display_data"
    },
    {
     "name": "stderr",
     "output_type": "stream",
     "text": [
      "C:\\Users\\adiro\\AppData\\Local\\Temp\\ipykernel_40068\\2061613557.py:205: SettingWithCopyWarning:\n",
      "\n",
      "\n",
      "A value is trying to be set on a copy of a slice from a DataFrame.\n",
      "Try using .loc[row_indexer,col_indexer] = value instead\n",
      "\n",
      "See the caveats in the documentation: https://pandas.pydata.org/pandas-docs/stable/user_guide/indexing.html#returning-a-view-versus-a-copy\n",
      "\n"
     ]
    },
    {
     "data": {
      "application/vnd.plotly.v1+json": {
       "config": {
        "plotlyServerURL": "https://plot.ly"
       },
       "data": [
        {
         "hovertemplate": "<b>%{hovertext}</b><br><br>in_fit=in fit<br>ERCC_attomoles_in_sample=%{x}<br>RPK=%{y}<extra></extra>",
         "hovertext": [
          "ERCC-00002",
          "ERCC-00003",
          "ERCC-00004",
          "ERCC-00009",
          "ERCC-00012",
          "ERCC-00013",
          "ERCC-00014",
          "ERCC-00016",
          "ERCC-00017",
          "ERCC-00019",
          "ERCC-00022",
          "ERCC-00024",
          "ERCC-00025",
          "ERCC-00028",
          "ERCC-00031",
          "ERCC-00033",
          "ERCC-00034",
          "ERCC-00035",
          "ERCC-00039",
          "ERCC-00040",
          "ERCC-00041",
          "ERCC-00042",
          "ERCC-00043",
          "ERCC-00044",
          "ERCC-00046",
          "ERCC-00048",
          "ERCC-00051",
          "ERCC-00053",
          "ERCC-00057",
          "ERCC-00058",
          "ERCC-00059",
          "ERCC-00060",
          "ERCC-00061",
          "ERCC-00062",
          "ERCC-00067",
          "ERCC-00069",
          "ERCC-00071",
          "ERCC-00073",
          "ERCC-00074",
          "ERCC-00075",
          "ERCC-00076",
          "ERCC-00077",
          "ERCC-00078",
          "ERCC-00079",
          "ERCC-00081",
          "ERCC-00083",
          "ERCC-00084",
          "ERCC-00085",
          "ERCC-00086",
          "ERCC-00092",
          "ERCC-00095",
          "ERCC-00096",
          "ERCC-00097",
          "ERCC-00098",
          "ERCC-00099",
          "ERCC-00104",
          "ERCC-00108",
          "ERCC-00109",
          "ERCC-00111",
          "ERCC-00112",
          "ERCC-00113",
          "ERCC-00116",
          "ERCC-00117",
          "ERCC-00120",
          "ERCC-00123",
          "ERCC-00126",
          "ERCC-00130",
          "ERCC-00131",
          "ERCC-00134",
          "ERCC-00136",
          "ERCC-00137",
          "ERCC-00138",
          "ERCC-00142",
          "ERCC-00143",
          "ERCC-00144",
          "ERCC-00145",
          "ERCC-00147",
          "ERCC-00148",
          "ERCC-00150",
          "ERCC-00154",
          "ERCC-00156",
          "ERCC-00157",
          "ERCC-00158",
          "ERCC-00160",
          "ERCC-00162",
          "ERCC-00163",
          "ERCC-00164",
          "ERCC-00165",
          "ERCC-00168",
          "ERCC-00170",
          "ERCC-00171"
         ],
         "legendgroup": "in fit",
         "marker": {
          "color": "#636efa",
          "symbol": "circle"
         },
         "mode": "markers",
         "name": "in fit",
         "orientation": "h",
         "showlegend": true,
         "type": "scatter",
         "x": [
          487.5,
          30.46875,
          243.75,
          30.46875,
          0.0037193299,
          0.02975463855,
          0.11901855485000001,
          0.0074386598,
          0.0037193299,
          0.9521484375,
          7.6171875,
          0.0074386598,
          1.904296875,
          0.11901855485000001,
          0.05950927742500001,
          0.05950927742500001,
          0.238037109375,
          3.80859375,
          0.11901855485000001,
          0.02975463855,
          0.0074386598,
          15.234375,
          15.234375,
          3.80859375,
          121.875,
          0.0004649164,
          1.904296875,
          0.9521484375,
          0.0004649164,
          0.05950927742500001,
          0.47607421875,
          7.6171875,
          0.00185966495,
          1.904296875,
          0.11901855485000001,
          0.05950927742500001,
          1.904296875,
          0.02975463855,
          487.5,
          0.0004649164,
          7.6171875,
          0.11901855485000001,
          0.9521484375,
          1.904296875,
          0.0074386598,
          0.000929832475,
          0.9521484375,
          0.238037109375,
          0.0037193299,
          7.6171875,
          3.80859375,
          487.5,
          0.014877319275,
          0.00185966495,
          0.47607421875,
          0.0074386598,
          30.46875,
          0.02975463855,
          15.234375,
          3.80859375,
          121.875,
          15.234375,
          0.00185966495,
          0.02975463855,
          0.0074386598,
          0.47607421875,
          975,
          3.80859375,
          0.05950927742500001,
          60.9375,
          0.02975463855,
          0.0037193299,
          0.0074386598,
          0.11901855485000001,
          0.9521484375,
          30.46875,
          0.02975463855,
          0.47607421875,
          0.11901855485000001,
          0.238037109375,
          0.014877319275,
          0.238037109375,
          0.014877319275,
          0.238037109375,
          1.904296875,
          0.47607421875,
          0.014877319275,
          1.904296875,
          0.014877319275,
          0.47607421875,
          121.875
         ],
         "xaxis": "x",
         "y": [
          222259.18944392086,
          20686.217008797656,
          139160.6118546845,
          12357.723577235773,
          0,
          6.188118811881187,
          46.49974450689831,
          3.5545023696682465,
          1.7605633802816902,
          529.5031055900621,
          2681.757656458056,
          0,
          1079.7392176529588,
          49.55752212389381,
          19.332161687170476,
          10.385756676557865,
          249.2639842983317,
          1272.566371681416,
          47.2972972972973,
          8.064516129032258,
          5.3475935828877,
          9593.352883675465,
          4865.1026392961885,
          1698.096885813149,
          64959.77011494253,
          1.0080645161290323,
          237.22627737226276,
          398.8269794721408,
          0,
          21.126760563380284,
          249.52380952380952,
          3458.891013384321,
          0.8802816901408451,
          927.6637341153471,
          34.161490683229815,
          46.61389621811785,
          738.3177570093458,
          19.900497512437813,
          271168.58237547893,
          1.9550342130987295,
          1647.9750778816199,
          10.989010989010989,
          530.7150050352467,
          793.4782608695652,
          0,
          0,
          463.78269617706235,
          114.92890995260665,
          0,
          4267.793594306049,
          3539.3474088291746,
          341048.7804878049,
          9.560229445506693,
          3.499562554680665,
          172.59259259259258,
          2.4727992087042536,
          14832.681017612524,
          14.925373134328357,
          4994.969818913481,
          2376.760563380282,
          69814.28571428571,
          9518.834756403816,
          0.8802816901408451,
          9.328358208955223,
          9.784735812133071,
          111.80679785330948,
          291622.2851746931,
          2660.1815823605707,
          10.94890510948905,
          17463.69796708616,
          9.310986964618248,
          5.859375,
          0,
          72.70408163265306,
          315.98513011152414,
          6940.4990403071015,
          1.9550342130987295,
          72.87449392712551,
          33.64737550471063,
          18.621973929236496,
          0,
          188.4200196270854,
          5.842259006815969,
          309.5558546433378,
          1151.0516252390057,
          278.08471454880294,
          8.806262230919765,
          1230.5045871559632,
          19.53125,
          131.96480938416423,
          47542.574257425746
         ],
         "yaxis": "y"
        },
        {
         "hovertemplate": "<b>%{hovertext}</b><br><br>in_fit=not in fit<br>ERCC_attomoles_in_sample=%{x}<br>RPK=%{y}<extra></extra>",
         "hovertext": [
          "ERCC-00054"
         ],
         "legendgroup": "not in fit",
         "marker": {
          "color": "#EF553B",
          "symbol": "circle"
         },
         "mode": "markers",
         "name": "not in fit",
         "orientation": "h",
         "showlegend": true,
         "type": "scatter",
         "x": [
          0.47607421875
         ],
         "xaxis": "x",
         "y": [
          3.64963503649635
         ],
         "yaxis": "y"
        },
        {
         "mode": "lines",
         "name": "Disrupted_biorep1c",
         "type": "scatter",
         "x": [
          0.01,
          975
         ],
         "y": [
          5.210315597143964,
          337923.8032878034
         ]
        }
       ],
       "layout": {
        "annotations": [
         {
          "align": "left",
          "bordercolor": "black",
          "borderwidth": 1,
          "showarrow": false,
          "text": "fit of log(y) Vs log(x), paremeters: log(y) = m*log(x)+c",
          "x": 0.4,
          "xanchor": "left",
          "xref": "paper",
          "y": 1,
          "yref": "paper"
         },
         {
          "align": "left",
          "bordercolor": "black",
          "borderwidth": 1,
          "showarrow": false,
          "text": "fit in the range ERCC attomoles in sample [0.01,975.00]",
          "x": 0.4,
          "xanchor": "left",
          "xref": "paper",
          "y": 0.9,
          "yref": "paper"
         },
         {
          "align": "left",
          "bordercolor": "black",
          "borderwidth": 1,
          "showarrow": false,
          "text": "the slop in log scale: m = 0.96",
          "x": 0.4,
          "xanchor": "left",
          "xref": "paper",
          "y": 0.8,
          "yref": "paper"
         },
         {
          "align": "left",
          "bordercolor": "black",
          "borderwidth": 1,
          "showarrow": false,
          "text": "the intercept in log scale: c = 6.09",
          "x": 0.4,
          "xanchor": "left",
          "xref": "paper",
          "y": 0.7,
          "yref": "paper"
         },
         {
          "align": "left",
          "bordercolor": "black",
          "borderwidth": 1,
          "showarrow": false,
          "text": "",
          "x": 0.4,
          "xanchor": "left",
          "xref": "paper",
          "y": 0.6,
          "yref": "paper"
         },
         {
          "align": "left",
          "bordercolor": "black",
          "borderwidth": 1,
          "showarrow": false,
          "text": "log(y) = m*log(x)+c --> y = e^c * x^m",
          "x": 0.4,
          "xanchor": "left",
          "xref": "paper",
          "y": 0.5,
          "yref": "paper"
         },
         {
          "align": "left",
          "bordercolor": "black",
          "borderwidth": 1,
          "showarrow": false,
          "text": "the slope in linear scale: e^c = 4.42E+02",
          "x": 0.4,
          "xanchor": "left",
          "xref": "paper",
          "y": 0.3999999999999999,
          "yref": "paper"
         },
         {
          "align": "left",
          "bordercolor": "black",
          "borderwidth": 1,
          "showarrow": false,
          "text": "R^2 = 0.96",
          "x": 0.4,
          "xanchor": "left",
          "xref": "paper",
          "y": 0.29999999999999993,
          "yref": "paper"
         },
         {
          "align": "left",
          "bordercolor": "black",
          "borderwidth": 1,
          "showarrow": false,
          "text": "",
          "x": 0.4,
          "xanchor": "left",
          "xref": "paper",
          "y": 0.19999999999999996,
          "yref": "paper"
         },
         {
          "align": "left",
          "bordercolor": "black",
          "borderwidth": 1,
          "showarrow": false,
          "text": "ERCCs with no reads detected",
          "x": 0.4,
          "xanchor": "left",
          "xref": "paper",
          "y": 0.09999999999999998,
          "yref": "paper"
         },
         {
          "align": "left",
          "bordercolor": "black",
          "borderwidth": 1,
          "showarrow": false,
          "text": " not fitted and not shown",
          "x": 0.4,
          "xanchor": "left",
          "xref": "paper",
          "y": 0,
          "yref": "paper"
         }
        ],
        "font": {
         "size": 24
        },
        "height": 600,
        "legend": {
         "title": {
          "text": "in_fit"
         },
         "tracegroupgap": 0
        },
        "margin": {
         "t": 60
        },
        "template": {
         "data": {
          "bar": [
           {
            "error_x": {
             "color": "#2a3f5f"
            },
            "error_y": {
             "color": "#2a3f5f"
            },
            "marker": {
             "line": {
              "color": "#E5ECF6",
              "width": 0.5
             },
             "pattern": {
              "fillmode": "overlay",
              "size": 10,
              "solidity": 0.2
             }
            },
            "type": "bar"
           }
          ],
          "barpolar": [
           {
            "marker": {
             "line": {
              "color": "#E5ECF6",
              "width": 0.5
             },
             "pattern": {
              "fillmode": "overlay",
              "size": 10,
              "solidity": 0.2
             }
            },
            "type": "barpolar"
           }
          ],
          "carpet": [
           {
            "aaxis": {
             "endlinecolor": "#2a3f5f",
             "gridcolor": "white",
             "linecolor": "white",
             "minorgridcolor": "white",
             "startlinecolor": "#2a3f5f"
            },
            "baxis": {
             "endlinecolor": "#2a3f5f",
             "gridcolor": "white",
             "linecolor": "white",
             "minorgridcolor": "white",
             "startlinecolor": "#2a3f5f"
            },
            "type": "carpet"
           }
          ],
          "choropleth": [
           {
            "colorbar": {
             "outlinewidth": 0,
             "ticks": ""
            },
            "type": "choropleth"
           }
          ],
          "contour": [
           {
            "colorbar": {
             "outlinewidth": 0,
             "ticks": ""
            },
            "colorscale": [
             [
              0,
              "#0d0887"
             ],
             [
              0.1111111111111111,
              "#46039f"
             ],
             [
              0.2222222222222222,
              "#7201a8"
             ],
             [
              0.3333333333333333,
              "#9c179e"
             ],
             [
              0.4444444444444444,
              "#bd3786"
             ],
             [
              0.5555555555555556,
              "#d8576b"
             ],
             [
              0.6666666666666666,
              "#ed7953"
             ],
             [
              0.7777777777777778,
              "#fb9f3a"
             ],
             [
              0.8888888888888888,
              "#fdca26"
             ],
             [
              1,
              "#f0f921"
             ]
            ],
            "type": "contour"
           }
          ],
          "contourcarpet": [
           {
            "colorbar": {
             "outlinewidth": 0,
             "ticks": ""
            },
            "type": "contourcarpet"
           }
          ],
          "heatmap": [
           {
            "colorbar": {
             "outlinewidth": 0,
             "ticks": ""
            },
            "colorscale": [
             [
              0,
              "#0d0887"
             ],
             [
              0.1111111111111111,
              "#46039f"
             ],
             [
              0.2222222222222222,
              "#7201a8"
             ],
             [
              0.3333333333333333,
              "#9c179e"
             ],
             [
              0.4444444444444444,
              "#bd3786"
             ],
             [
              0.5555555555555556,
              "#d8576b"
             ],
             [
              0.6666666666666666,
              "#ed7953"
             ],
             [
              0.7777777777777778,
              "#fb9f3a"
             ],
             [
              0.8888888888888888,
              "#fdca26"
             ],
             [
              1,
              "#f0f921"
             ]
            ],
            "type": "heatmap"
           }
          ],
          "heatmapgl": [
           {
            "colorbar": {
             "outlinewidth": 0,
             "ticks": ""
            },
            "colorscale": [
             [
              0,
              "#0d0887"
             ],
             [
              0.1111111111111111,
              "#46039f"
             ],
             [
              0.2222222222222222,
              "#7201a8"
             ],
             [
              0.3333333333333333,
              "#9c179e"
             ],
             [
              0.4444444444444444,
              "#bd3786"
             ],
             [
              0.5555555555555556,
              "#d8576b"
             ],
             [
              0.6666666666666666,
              "#ed7953"
             ],
             [
              0.7777777777777778,
              "#fb9f3a"
             ],
             [
              0.8888888888888888,
              "#fdca26"
             ],
             [
              1,
              "#f0f921"
             ]
            ],
            "type": "heatmapgl"
           }
          ],
          "histogram": [
           {
            "marker": {
             "pattern": {
              "fillmode": "overlay",
              "size": 10,
              "solidity": 0.2
             }
            },
            "type": "histogram"
           }
          ],
          "histogram2d": [
           {
            "colorbar": {
             "outlinewidth": 0,
             "ticks": ""
            },
            "colorscale": [
             [
              0,
              "#0d0887"
             ],
             [
              0.1111111111111111,
              "#46039f"
             ],
             [
              0.2222222222222222,
              "#7201a8"
             ],
             [
              0.3333333333333333,
              "#9c179e"
             ],
             [
              0.4444444444444444,
              "#bd3786"
             ],
             [
              0.5555555555555556,
              "#d8576b"
             ],
             [
              0.6666666666666666,
              "#ed7953"
             ],
             [
              0.7777777777777778,
              "#fb9f3a"
             ],
             [
              0.8888888888888888,
              "#fdca26"
             ],
             [
              1,
              "#f0f921"
             ]
            ],
            "type": "histogram2d"
           }
          ],
          "histogram2dcontour": [
           {
            "colorbar": {
             "outlinewidth": 0,
             "ticks": ""
            },
            "colorscale": [
             [
              0,
              "#0d0887"
             ],
             [
              0.1111111111111111,
              "#46039f"
             ],
             [
              0.2222222222222222,
              "#7201a8"
             ],
             [
              0.3333333333333333,
              "#9c179e"
             ],
             [
              0.4444444444444444,
              "#bd3786"
             ],
             [
              0.5555555555555556,
              "#d8576b"
             ],
             [
              0.6666666666666666,
              "#ed7953"
             ],
             [
              0.7777777777777778,
              "#fb9f3a"
             ],
             [
              0.8888888888888888,
              "#fdca26"
             ],
             [
              1,
              "#f0f921"
             ]
            ],
            "type": "histogram2dcontour"
           }
          ],
          "mesh3d": [
           {
            "colorbar": {
             "outlinewidth": 0,
             "ticks": ""
            },
            "type": "mesh3d"
           }
          ],
          "parcoords": [
           {
            "line": {
             "colorbar": {
              "outlinewidth": 0,
              "ticks": ""
             }
            },
            "type": "parcoords"
           }
          ],
          "pie": [
           {
            "automargin": true,
            "type": "pie"
           }
          ],
          "scatter": [
           {
            "marker": {
             "colorbar": {
              "outlinewidth": 0,
              "ticks": ""
             }
            },
            "type": "scatter"
           }
          ],
          "scatter3d": [
           {
            "line": {
             "colorbar": {
              "outlinewidth": 0,
              "ticks": ""
             }
            },
            "marker": {
             "colorbar": {
              "outlinewidth": 0,
              "ticks": ""
             }
            },
            "type": "scatter3d"
           }
          ],
          "scattercarpet": [
           {
            "marker": {
             "colorbar": {
              "outlinewidth": 0,
              "ticks": ""
             }
            },
            "type": "scattercarpet"
           }
          ],
          "scattergeo": [
           {
            "marker": {
             "colorbar": {
              "outlinewidth": 0,
              "ticks": ""
             }
            },
            "type": "scattergeo"
           }
          ],
          "scattergl": [
           {
            "marker": {
             "colorbar": {
              "outlinewidth": 0,
              "ticks": ""
             }
            },
            "type": "scattergl"
           }
          ],
          "scattermapbox": [
           {
            "marker": {
             "colorbar": {
              "outlinewidth": 0,
              "ticks": ""
             }
            },
            "type": "scattermapbox"
           }
          ],
          "scatterpolar": [
           {
            "marker": {
             "colorbar": {
              "outlinewidth": 0,
              "ticks": ""
             }
            },
            "type": "scatterpolar"
           }
          ],
          "scatterpolargl": [
           {
            "marker": {
             "colorbar": {
              "outlinewidth": 0,
              "ticks": ""
             }
            },
            "type": "scatterpolargl"
           }
          ],
          "scatterternary": [
           {
            "marker": {
             "colorbar": {
              "outlinewidth": 0,
              "ticks": ""
             }
            },
            "type": "scatterternary"
           }
          ],
          "surface": [
           {
            "colorbar": {
             "outlinewidth": 0,
             "ticks": ""
            },
            "colorscale": [
             [
              0,
              "#0d0887"
             ],
             [
              0.1111111111111111,
              "#46039f"
             ],
             [
              0.2222222222222222,
              "#7201a8"
             ],
             [
              0.3333333333333333,
              "#9c179e"
             ],
             [
              0.4444444444444444,
              "#bd3786"
             ],
             [
              0.5555555555555556,
              "#d8576b"
             ],
             [
              0.6666666666666666,
              "#ed7953"
             ],
             [
              0.7777777777777778,
              "#fb9f3a"
             ],
             [
              0.8888888888888888,
              "#fdca26"
             ],
             [
              1,
              "#f0f921"
             ]
            ],
            "type": "surface"
           }
          ],
          "table": [
           {
            "cells": {
             "fill": {
              "color": "#EBF0F8"
             },
             "line": {
              "color": "white"
             }
            },
            "header": {
             "fill": {
              "color": "#C8D4E3"
             },
             "line": {
              "color": "white"
             }
            },
            "type": "table"
           }
          ]
         },
         "layout": {
          "annotationdefaults": {
           "arrowcolor": "#2a3f5f",
           "arrowhead": 0,
           "arrowwidth": 1
          },
          "autotypenumbers": "strict",
          "coloraxis": {
           "colorbar": {
            "outlinewidth": 0,
            "ticks": ""
           }
          },
          "colorscale": {
           "diverging": [
            [
             0,
             "#8e0152"
            ],
            [
             0.1,
             "#c51b7d"
            ],
            [
             0.2,
             "#de77ae"
            ],
            [
             0.3,
             "#f1b6da"
            ],
            [
             0.4,
             "#fde0ef"
            ],
            [
             0.5,
             "#f7f7f7"
            ],
            [
             0.6,
             "#e6f5d0"
            ],
            [
             0.7,
             "#b8e186"
            ],
            [
             0.8,
             "#7fbc41"
            ],
            [
             0.9,
             "#4d9221"
            ],
            [
             1,
             "#276419"
            ]
           ],
           "sequential": [
            [
             0,
             "#0d0887"
            ],
            [
             0.1111111111111111,
             "#46039f"
            ],
            [
             0.2222222222222222,
             "#7201a8"
            ],
            [
             0.3333333333333333,
             "#9c179e"
            ],
            [
             0.4444444444444444,
             "#bd3786"
            ],
            [
             0.5555555555555556,
             "#d8576b"
            ],
            [
             0.6666666666666666,
             "#ed7953"
            ],
            [
             0.7777777777777778,
             "#fb9f3a"
            ],
            [
             0.8888888888888888,
             "#fdca26"
            ],
            [
             1,
             "#f0f921"
            ]
           ],
           "sequentialminus": [
            [
             0,
             "#0d0887"
            ],
            [
             0.1111111111111111,
             "#46039f"
            ],
            [
             0.2222222222222222,
             "#7201a8"
            ],
            [
             0.3333333333333333,
             "#9c179e"
            ],
            [
             0.4444444444444444,
             "#bd3786"
            ],
            [
             0.5555555555555556,
             "#d8576b"
            ],
            [
             0.6666666666666666,
             "#ed7953"
            ],
            [
             0.7777777777777778,
             "#fb9f3a"
            ],
            [
             0.8888888888888888,
             "#fdca26"
            ],
            [
             1,
             "#f0f921"
            ]
           ]
          },
          "colorway": [
           "#636efa",
           "#EF553B",
           "#00cc96",
           "#ab63fa",
           "#FFA15A",
           "#19d3f3",
           "#FF6692",
           "#B6E880",
           "#FF97FF",
           "#FECB52"
          ],
          "font": {
           "color": "#2a3f5f"
          },
          "geo": {
           "bgcolor": "white",
           "lakecolor": "white",
           "landcolor": "#E5ECF6",
           "showlakes": true,
           "showland": true,
           "subunitcolor": "white"
          },
          "hoverlabel": {
           "align": "left"
          },
          "hovermode": "closest",
          "mapbox": {
           "style": "light"
          },
          "paper_bgcolor": "white",
          "plot_bgcolor": "#E5ECF6",
          "polar": {
           "angularaxis": {
            "gridcolor": "white",
            "linecolor": "white",
            "ticks": ""
           },
           "bgcolor": "#E5ECF6",
           "radialaxis": {
            "gridcolor": "white",
            "linecolor": "white",
            "ticks": ""
           }
          },
          "scene": {
           "xaxis": {
            "backgroundcolor": "#E5ECF6",
            "gridcolor": "white",
            "gridwidth": 2,
            "linecolor": "white",
            "showbackground": true,
            "ticks": "",
            "zerolinecolor": "white"
           },
           "yaxis": {
            "backgroundcolor": "#E5ECF6",
            "gridcolor": "white",
            "gridwidth": 2,
            "linecolor": "white",
            "showbackground": true,
            "ticks": "",
            "zerolinecolor": "white"
           },
           "zaxis": {
            "backgroundcolor": "#E5ECF6",
            "gridcolor": "white",
            "gridwidth": 2,
            "linecolor": "white",
            "showbackground": true,
            "ticks": "",
            "zerolinecolor": "white"
           }
          },
          "shapedefaults": {
           "line": {
            "color": "#2a3f5f"
           }
          },
          "ternary": {
           "aaxis": {
            "gridcolor": "white",
            "linecolor": "white",
            "ticks": ""
           },
           "baxis": {
            "gridcolor": "white",
            "linecolor": "white",
            "ticks": ""
           },
           "bgcolor": "#E5ECF6",
           "caxis": {
            "gridcolor": "white",
            "linecolor": "white",
            "ticks": ""
           }
          },
          "title": {
           "x": 0.05
          },
          "xaxis": {
           "automargin": true,
           "gridcolor": "white",
           "linecolor": "white",
           "ticks": "",
           "title": {
            "standoff": 15
           },
           "zerolinecolor": "white",
           "zerolinewidth": 2
          },
          "yaxis": {
           "automargin": true,
           "gridcolor": "white",
           "linecolor": "white",
           "ticks": "",
           "title": {
            "standoff": 15
           },
           "zerolinecolor": "white",
           "zerolinewidth": 2
          }
         }
        },
        "width": 2000,
        "xaxis": {
         "anchor": "y",
         "domain": [
          0,
          1
         ],
         "range": [
          -3,
          15
         ],
         "title": {
          "text": "ERCC_attomoles_in_sample"
         },
         "type": "log"
        },
        "yaxis": {
         "anchor": "x",
         "domain": [
          0,
          1
         ],
         "title": {
          "text": "RPK"
         },
         "type": "log"
        }
       }
      }
     },
     "metadata": {},
     "output_type": "display_data"
    },
    {
     "name": "stderr",
     "output_type": "stream",
     "text": [
      "C:\\Users\\adiro\\AppData\\Local\\Temp\\ipykernel_40068\\2061613557.py:205: SettingWithCopyWarning:\n",
      "\n",
      "\n",
      "A value is trying to be set on a copy of a slice from a DataFrame.\n",
      "Try using .loc[row_indexer,col_indexer] = value instead\n",
      "\n",
      "See the caveats in the documentation: https://pandas.pydata.org/pandas-docs/stable/user_guide/indexing.html#returning-a-view-versus-a-copy\n",
      "\n"
     ]
    },
    {
     "data": {
      "application/vnd.plotly.v1+json": {
       "config": {
        "plotlyServerURL": "https://plot.ly"
       },
       "data": [
        {
         "hovertemplate": "<b>%{hovertext}</b><br><br>in_fit=in fit<br>ERCC_attomoles_in_sample=%{x}<br>RPK=%{y}<extra></extra>",
         "hovertext": [
          "ERCC-00002",
          "ERCC-00003",
          "ERCC-00004",
          "ERCC-00009",
          "ERCC-00012",
          "ERCC-00013",
          "ERCC-00014",
          "ERCC-00016",
          "ERCC-00017",
          "ERCC-00019",
          "ERCC-00022",
          "ERCC-00024",
          "ERCC-00025",
          "ERCC-00028",
          "ERCC-00031",
          "ERCC-00033",
          "ERCC-00034",
          "ERCC-00035",
          "ERCC-00039",
          "ERCC-00040",
          "ERCC-00041",
          "ERCC-00042",
          "ERCC-00043",
          "ERCC-00044",
          "ERCC-00046",
          "ERCC-00048",
          "ERCC-00051",
          "ERCC-00053",
          "ERCC-00057",
          "ERCC-00058",
          "ERCC-00059",
          "ERCC-00060",
          "ERCC-00061",
          "ERCC-00062",
          "ERCC-00067",
          "ERCC-00069",
          "ERCC-00071",
          "ERCC-00073",
          "ERCC-00074",
          "ERCC-00075",
          "ERCC-00076",
          "ERCC-00077",
          "ERCC-00078",
          "ERCC-00079",
          "ERCC-00081",
          "ERCC-00083",
          "ERCC-00084",
          "ERCC-00085",
          "ERCC-00086",
          "ERCC-00092",
          "ERCC-00095",
          "ERCC-00096",
          "ERCC-00097",
          "ERCC-00098",
          "ERCC-00099",
          "ERCC-00104",
          "ERCC-00108",
          "ERCC-00109",
          "ERCC-00111",
          "ERCC-00112",
          "ERCC-00113",
          "ERCC-00116",
          "ERCC-00117",
          "ERCC-00120",
          "ERCC-00123",
          "ERCC-00126",
          "ERCC-00130",
          "ERCC-00131",
          "ERCC-00134",
          "ERCC-00136",
          "ERCC-00137",
          "ERCC-00138",
          "ERCC-00142",
          "ERCC-00143",
          "ERCC-00144",
          "ERCC-00145",
          "ERCC-00147",
          "ERCC-00148",
          "ERCC-00150",
          "ERCC-00154",
          "ERCC-00156",
          "ERCC-00157",
          "ERCC-00158",
          "ERCC-00160",
          "ERCC-00162",
          "ERCC-00163",
          "ERCC-00164",
          "ERCC-00165",
          "ERCC-00168",
          "ERCC-00170",
          "ERCC-00171"
         ],
         "legendgroup": "in fit",
         "marker": {
          "color": "#636efa",
          "symbol": "circle"
         },
         "mode": "markers",
         "name": "in fit",
         "orientation": "h",
         "showlegend": true,
         "type": "scatter",
         "x": [
          487.5,
          30.46875,
          243.75,
          30.46875,
          0.0037193299,
          0.02975463855,
          0.11901855485000001,
          0.0074386598,
          0.0037193299,
          0.9521484375,
          7.6171875,
          0.0074386598,
          1.904296875,
          0.11901855485000001,
          0.05950927742500001,
          0.05950927742500001,
          0.238037109375,
          3.80859375,
          0.11901855485000001,
          0.02975463855,
          0.0074386598,
          15.234375,
          15.234375,
          3.80859375,
          121.875,
          0.0004649164,
          1.904296875,
          0.9521484375,
          0.0004649164,
          0.05950927742500001,
          0.47607421875,
          7.6171875,
          0.00185966495,
          1.904296875,
          0.11901855485000001,
          0.05950927742500001,
          1.904296875,
          0.02975463855,
          487.5,
          0.0004649164,
          7.6171875,
          0.11901855485000001,
          0.9521484375,
          1.904296875,
          0.0074386598,
          0.000929832475,
          0.9521484375,
          0.238037109375,
          0.0037193299,
          7.6171875,
          3.80859375,
          487.5,
          0.014877319275,
          0.00185966495,
          0.47607421875,
          0.0074386598,
          30.46875,
          0.02975463855,
          15.234375,
          3.80859375,
          121.875,
          15.234375,
          0.00185966495,
          0.02975463855,
          0.0074386598,
          0.47607421875,
          975,
          3.80859375,
          0.05950927742500001,
          60.9375,
          0.02975463855,
          0.0037193299,
          0.0074386598,
          0.11901855485000001,
          0.9521484375,
          30.46875,
          0.02975463855,
          0.47607421875,
          0.11901855485000001,
          0.238037109375,
          0.014877319275,
          0.238037109375,
          0.014877319275,
          0.238037109375,
          1.904296875,
          0.47607421875,
          0.014877319275,
          1.904296875,
          0.014877319275,
          0.47607421875,
          121.875
         ],
         "xaxis": "x",
         "y": [
          621898.2092365694,
          58604.10557184751,
          395321.223709369,
          31077.235772357722,
          6.036217303822938,
          34.65346534653465,
          141.54317833418497,
          5.924170616113744,
          6.161971830985916,
          1608.695652173913,
          8139.813581890812,
          1.8656716417910446,
          3299.899699097292,
          136.28318584070797,
          64.14762741652022,
          34.619188921859546,
          799.8037291462218,
          4363.716814159293,
          171.6216216216216,
          44.354838709677416,
          11.58645276292335,
          24925.70869990225,
          12426.197458455525,
          5257.785467128028,
          222969.34865900382,
          2.0161290322580645,
          722.6277372262773,
          1018.572825024438,
          0,
          83.62676056338029,
          708.5714285714286,
          11933.078393881453,
          1.7605633802816902,
          2468.230694037146,
          85.40372670807453,
          125.76956904133685,
          2151.090342679128,
          43.117744610281925,
          750145.5938697318,
          0.9775171065493647,
          4728.971962616823,
          18.315018315018314,
          1880.1611278952669,
          2523.2919254658386,
          7.49063670411985,
          2.935420743639922,
          1282.6961770623743,
          299.7630331753555,
          2.941176470588235,
          12138.790035587188,
          9598.848368522073,
          1008411.0207768745,
          26.76864244741874,
          11.373578302712161,
          517.037037037037,
          6.429277942631059,
          35588.0626223092,
          18.656716417910445,
          14594.56740442656,
          7069.542253521127,
          211102.38095238095,
          25477.147162230034,
          2.6408450704225355,
          11.194029850746269,
          12.720156555772993,
          316.6368515205724,
          945029.2728989613,
          7866.407263294423,
          0,
          48173.281703775414,
          13.035381750465548,
          3.90625,
          2.028397565922921,
          246.1734693877551,
          1035.3159851301114,
          19674.664107485605,
          1.9550342130987295,
          236.8421052631579,
          123.82234185733513,
          42.83054003724394,
          14.17004048582996,
          571.1481844946026,
          25.316455696202535,
          820.9959623149394,
          2483.7476099426385,
          756.9060773480662,
          24.461839530332682,
          3327.9816513761466,
          36.1328125,
          374.3890518084067,
          165253.46534653465
         ],
         "yaxis": "y"
        },
        {
         "hovertemplate": "<b>%{hovertext}</b><br><br>in_fit=not in fit<br>ERCC_attomoles_in_sample=%{x}<br>RPK=%{y}<extra></extra>",
         "hovertext": [
          "ERCC-00054"
         ],
         "legendgroup": "not in fit",
         "marker": {
          "color": "#EF553B",
          "symbol": "circle"
         },
         "mode": "markers",
         "name": "not in fit",
         "orientation": "h",
         "showlegend": true,
         "type": "scatter",
         "x": [
          0.47607421875
         ],
         "xaxis": "x",
         "y": [
          0
         ],
         "yaxis": "y"
        },
        {
         "mode": "lines",
         "name": "Disrupted_biorep4",
         "type": "scatter",
         "x": [
          0.01,
          975
         ],
         "y": [
          11.389788850712094,
          1213488.5124350241
         ]
        }
       ],
       "layout": {
        "annotations": [
         {
          "align": "left",
          "bordercolor": "black",
          "borderwidth": 1,
          "showarrow": false,
          "text": "fit of log(y) Vs log(x), paremeters: log(y) = m*log(x)+c",
          "x": 0.4,
          "xanchor": "left",
          "xref": "paper",
          "y": 1,
          "yref": "paper"
         },
         {
          "align": "left",
          "bordercolor": "black",
          "borderwidth": 1,
          "showarrow": false,
          "text": "fit in the range ERCC attomoles in sample [0.01,975.00]",
          "x": 0.4,
          "xanchor": "left",
          "xref": "paper",
          "y": 0.9,
          "yref": "paper"
         },
         {
          "align": "left",
          "bordercolor": "black",
          "borderwidth": 1,
          "showarrow": false,
          "text": "the slop in log scale: m = 1.01",
          "x": 0.4,
          "xanchor": "left",
          "xref": "paper",
          "y": 0.8,
          "yref": "paper"
         },
         {
          "align": "left",
          "bordercolor": "black",
          "borderwidth": 1,
          "showarrow": false,
          "text": "the intercept in log scale: c = 7.07",
          "x": 0.4,
          "xanchor": "left",
          "xref": "paper",
          "y": 0.7,
          "yref": "paper"
         },
         {
          "align": "left",
          "bordercolor": "black",
          "borderwidth": 1,
          "showarrow": false,
          "text": "",
          "x": 0.4,
          "xanchor": "left",
          "xref": "paper",
          "y": 0.6,
          "yref": "paper"
         },
         {
          "align": "left",
          "bordercolor": "black",
          "borderwidth": 1,
          "showarrow": false,
          "text": "log(y) = m*log(x)+c --> y = e^c * x^m",
          "x": 0.4,
          "xanchor": "left",
          "xref": "paper",
          "y": 0.5,
          "yref": "paper"
         },
         {
          "align": "left",
          "bordercolor": "black",
          "borderwidth": 1,
          "showarrow": false,
          "text": "the slope in linear scale: e^c = 1.18E+03",
          "x": 0.4,
          "xanchor": "left",
          "xref": "paper",
          "y": 0.3999999999999999,
          "yref": "paper"
         },
         {
          "align": "left",
          "bordercolor": "black",
          "borderwidth": 1,
          "showarrow": false,
          "text": "R^2 = 0.96",
          "x": 0.4,
          "xanchor": "left",
          "xref": "paper",
          "y": 0.29999999999999993,
          "yref": "paper"
         },
         {
          "align": "left",
          "bordercolor": "black",
          "borderwidth": 1,
          "showarrow": false,
          "text": "",
          "x": 0.4,
          "xanchor": "left",
          "xref": "paper",
          "y": 0.19999999999999996,
          "yref": "paper"
         },
         {
          "align": "left",
          "bordercolor": "black",
          "borderwidth": 1,
          "showarrow": false,
          "text": "ERCCs with no reads detected",
          "x": 0.4,
          "xanchor": "left",
          "xref": "paper",
          "y": 0.09999999999999998,
          "yref": "paper"
         },
         {
          "align": "left",
          "bordercolor": "black",
          "borderwidth": 1,
          "showarrow": false,
          "text": " not fitted and not shown",
          "x": 0.4,
          "xanchor": "left",
          "xref": "paper",
          "y": 0,
          "yref": "paper"
         }
        ],
        "font": {
         "size": 24
        },
        "height": 600,
        "legend": {
         "title": {
          "text": "in_fit"
         },
         "tracegroupgap": 0
        },
        "margin": {
         "t": 60
        },
        "template": {
         "data": {
          "bar": [
           {
            "error_x": {
             "color": "#2a3f5f"
            },
            "error_y": {
             "color": "#2a3f5f"
            },
            "marker": {
             "line": {
              "color": "#E5ECF6",
              "width": 0.5
             },
             "pattern": {
              "fillmode": "overlay",
              "size": 10,
              "solidity": 0.2
             }
            },
            "type": "bar"
           }
          ],
          "barpolar": [
           {
            "marker": {
             "line": {
              "color": "#E5ECF6",
              "width": 0.5
             },
             "pattern": {
              "fillmode": "overlay",
              "size": 10,
              "solidity": 0.2
             }
            },
            "type": "barpolar"
           }
          ],
          "carpet": [
           {
            "aaxis": {
             "endlinecolor": "#2a3f5f",
             "gridcolor": "white",
             "linecolor": "white",
             "minorgridcolor": "white",
             "startlinecolor": "#2a3f5f"
            },
            "baxis": {
             "endlinecolor": "#2a3f5f",
             "gridcolor": "white",
             "linecolor": "white",
             "minorgridcolor": "white",
             "startlinecolor": "#2a3f5f"
            },
            "type": "carpet"
           }
          ],
          "choropleth": [
           {
            "colorbar": {
             "outlinewidth": 0,
             "ticks": ""
            },
            "type": "choropleth"
           }
          ],
          "contour": [
           {
            "colorbar": {
             "outlinewidth": 0,
             "ticks": ""
            },
            "colorscale": [
             [
              0,
              "#0d0887"
             ],
             [
              0.1111111111111111,
              "#46039f"
             ],
             [
              0.2222222222222222,
              "#7201a8"
             ],
             [
              0.3333333333333333,
              "#9c179e"
             ],
             [
              0.4444444444444444,
              "#bd3786"
             ],
             [
              0.5555555555555556,
              "#d8576b"
             ],
             [
              0.6666666666666666,
              "#ed7953"
             ],
             [
              0.7777777777777778,
              "#fb9f3a"
             ],
             [
              0.8888888888888888,
              "#fdca26"
             ],
             [
              1,
              "#f0f921"
             ]
            ],
            "type": "contour"
           }
          ],
          "contourcarpet": [
           {
            "colorbar": {
             "outlinewidth": 0,
             "ticks": ""
            },
            "type": "contourcarpet"
           }
          ],
          "heatmap": [
           {
            "colorbar": {
             "outlinewidth": 0,
             "ticks": ""
            },
            "colorscale": [
             [
              0,
              "#0d0887"
             ],
             [
              0.1111111111111111,
              "#46039f"
             ],
             [
              0.2222222222222222,
              "#7201a8"
             ],
             [
              0.3333333333333333,
              "#9c179e"
             ],
             [
              0.4444444444444444,
              "#bd3786"
             ],
             [
              0.5555555555555556,
              "#d8576b"
             ],
             [
              0.6666666666666666,
              "#ed7953"
             ],
             [
              0.7777777777777778,
              "#fb9f3a"
             ],
             [
              0.8888888888888888,
              "#fdca26"
             ],
             [
              1,
              "#f0f921"
             ]
            ],
            "type": "heatmap"
           }
          ],
          "heatmapgl": [
           {
            "colorbar": {
             "outlinewidth": 0,
             "ticks": ""
            },
            "colorscale": [
             [
              0,
              "#0d0887"
             ],
             [
              0.1111111111111111,
              "#46039f"
             ],
             [
              0.2222222222222222,
              "#7201a8"
             ],
             [
              0.3333333333333333,
              "#9c179e"
             ],
             [
              0.4444444444444444,
              "#bd3786"
             ],
             [
              0.5555555555555556,
              "#d8576b"
             ],
             [
              0.6666666666666666,
              "#ed7953"
             ],
             [
              0.7777777777777778,
              "#fb9f3a"
             ],
             [
              0.8888888888888888,
              "#fdca26"
             ],
             [
              1,
              "#f0f921"
             ]
            ],
            "type": "heatmapgl"
           }
          ],
          "histogram": [
           {
            "marker": {
             "pattern": {
              "fillmode": "overlay",
              "size": 10,
              "solidity": 0.2
             }
            },
            "type": "histogram"
           }
          ],
          "histogram2d": [
           {
            "colorbar": {
             "outlinewidth": 0,
             "ticks": ""
            },
            "colorscale": [
             [
              0,
              "#0d0887"
             ],
             [
              0.1111111111111111,
              "#46039f"
             ],
             [
              0.2222222222222222,
              "#7201a8"
             ],
             [
              0.3333333333333333,
              "#9c179e"
             ],
             [
              0.4444444444444444,
              "#bd3786"
             ],
             [
              0.5555555555555556,
              "#d8576b"
             ],
             [
              0.6666666666666666,
              "#ed7953"
             ],
             [
              0.7777777777777778,
              "#fb9f3a"
             ],
             [
              0.8888888888888888,
              "#fdca26"
             ],
             [
              1,
              "#f0f921"
             ]
            ],
            "type": "histogram2d"
           }
          ],
          "histogram2dcontour": [
           {
            "colorbar": {
             "outlinewidth": 0,
             "ticks": ""
            },
            "colorscale": [
             [
              0,
              "#0d0887"
             ],
             [
              0.1111111111111111,
              "#46039f"
             ],
             [
              0.2222222222222222,
              "#7201a8"
             ],
             [
              0.3333333333333333,
              "#9c179e"
             ],
             [
              0.4444444444444444,
              "#bd3786"
             ],
             [
              0.5555555555555556,
              "#d8576b"
             ],
             [
              0.6666666666666666,
              "#ed7953"
             ],
             [
              0.7777777777777778,
              "#fb9f3a"
             ],
             [
              0.8888888888888888,
              "#fdca26"
             ],
             [
              1,
              "#f0f921"
             ]
            ],
            "type": "histogram2dcontour"
           }
          ],
          "mesh3d": [
           {
            "colorbar": {
             "outlinewidth": 0,
             "ticks": ""
            },
            "type": "mesh3d"
           }
          ],
          "parcoords": [
           {
            "line": {
             "colorbar": {
              "outlinewidth": 0,
              "ticks": ""
             }
            },
            "type": "parcoords"
           }
          ],
          "pie": [
           {
            "automargin": true,
            "type": "pie"
           }
          ],
          "scatter": [
           {
            "marker": {
             "colorbar": {
              "outlinewidth": 0,
              "ticks": ""
             }
            },
            "type": "scatter"
           }
          ],
          "scatter3d": [
           {
            "line": {
             "colorbar": {
              "outlinewidth": 0,
              "ticks": ""
             }
            },
            "marker": {
             "colorbar": {
              "outlinewidth": 0,
              "ticks": ""
             }
            },
            "type": "scatter3d"
           }
          ],
          "scattercarpet": [
           {
            "marker": {
             "colorbar": {
              "outlinewidth": 0,
              "ticks": ""
             }
            },
            "type": "scattercarpet"
           }
          ],
          "scattergeo": [
           {
            "marker": {
             "colorbar": {
              "outlinewidth": 0,
              "ticks": ""
             }
            },
            "type": "scattergeo"
           }
          ],
          "scattergl": [
           {
            "marker": {
             "colorbar": {
              "outlinewidth": 0,
              "ticks": ""
             }
            },
            "type": "scattergl"
           }
          ],
          "scattermapbox": [
           {
            "marker": {
             "colorbar": {
              "outlinewidth": 0,
              "ticks": ""
             }
            },
            "type": "scattermapbox"
           }
          ],
          "scatterpolar": [
           {
            "marker": {
             "colorbar": {
              "outlinewidth": 0,
              "ticks": ""
             }
            },
            "type": "scatterpolar"
           }
          ],
          "scatterpolargl": [
           {
            "marker": {
             "colorbar": {
              "outlinewidth": 0,
              "ticks": ""
             }
            },
            "type": "scatterpolargl"
           }
          ],
          "scatterternary": [
           {
            "marker": {
             "colorbar": {
              "outlinewidth": 0,
              "ticks": ""
             }
            },
            "type": "scatterternary"
           }
          ],
          "surface": [
           {
            "colorbar": {
             "outlinewidth": 0,
             "ticks": ""
            },
            "colorscale": [
             [
              0,
              "#0d0887"
             ],
             [
              0.1111111111111111,
              "#46039f"
             ],
             [
              0.2222222222222222,
              "#7201a8"
             ],
             [
              0.3333333333333333,
              "#9c179e"
             ],
             [
              0.4444444444444444,
              "#bd3786"
             ],
             [
              0.5555555555555556,
              "#d8576b"
             ],
             [
              0.6666666666666666,
              "#ed7953"
             ],
             [
              0.7777777777777778,
              "#fb9f3a"
             ],
             [
              0.8888888888888888,
              "#fdca26"
             ],
             [
              1,
              "#f0f921"
             ]
            ],
            "type": "surface"
           }
          ],
          "table": [
           {
            "cells": {
             "fill": {
              "color": "#EBF0F8"
             },
             "line": {
              "color": "white"
             }
            },
            "header": {
             "fill": {
              "color": "#C8D4E3"
             },
             "line": {
              "color": "white"
             }
            },
            "type": "table"
           }
          ]
         },
         "layout": {
          "annotationdefaults": {
           "arrowcolor": "#2a3f5f",
           "arrowhead": 0,
           "arrowwidth": 1
          },
          "autotypenumbers": "strict",
          "coloraxis": {
           "colorbar": {
            "outlinewidth": 0,
            "ticks": ""
           }
          },
          "colorscale": {
           "diverging": [
            [
             0,
             "#8e0152"
            ],
            [
             0.1,
             "#c51b7d"
            ],
            [
             0.2,
             "#de77ae"
            ],
            [
             0.3,
             "#f1b6da"
            ],
            [
             0.4,
             "#fde0ef"
            ],
            [
             0.5,
             "#f7f7f7"
            ],
            [
             0.6,
             "#e6f5d0"
            ],
            [
             0.7,
             "#b8e186"
            ],
            [
             0.8,
             "#7fbc41"
            ],
            [
             0.9,
             "#4d9221"
            ],
            [
             1,
             "#276419"
            ]
           ],
           "sequential": [
            [
             0,
             "#0d0887"
            ],
            [
             0.1111111111111111,
             "#46039f"
            ],
            [
             0.2222222222222222,
             "#7201a8"
            ],
            [
             0.3333333333333333,
             "#9c179e"
            ],
            [
             0.4444444444444444,
             "#bd3786"
            ],
            [
             0.5555555555555556,
             "#d8576b"
            ],
            [
             0.6666666666666666,
             "#ed7953"
            ],
            [
             0.7777777777777778,
             "#fb9f3a"
            ],
            [
             0.8888888888888888,
             "#fdca26"
            ],
            [
             1,
             "#f0f921"
            ]
           ],
           "sequentialminus": [
            [
             0,
             "#0d0887"
            ],
            [
             0.1111111111111111,
             "#46039f"
            ],
            [
             0.2222222222222222,
             "#7201a8"
            ],
            [
             0.3333333333333333,
             "#9c179e"
            ],
            [
             0.4444444444444444,
             "#bd3786"
            ],
            [
             0.5555555555555556,
             "#d8576b"
            ],
            [
             0.6666666666666666,
             "#ed7953"
            ],
            [
             0.7777777777777778,
             "#fb9f3a"
            ],
            [
             0.8888888888888888,
             "#fdca26"
            ],
            [
             1,
             "#f0f921"
            ]
           ]
          },
          "colorway": [
           "#636efa",
           "#EF553B",
           "#00cc96",
           "#ab63fa",
           "#FFA15A",
           "#19d3f3",
           "#FF6692",
           "#B6E880",
           "#FF97FF",
           "#FECB52"
          ],
          "font": {
           "color": "#2a3f5f"
          },
          "geo": {
           "bgcolor": "white",
           "lakecolor": "white",
           "landcolor": "#E5ECF6",
           "showlakes": true,
           "showland": true,
           "subunitcolor": "white"
          },
          "hoverlabel": {
           "align": "left"
          },
          "hovermode": "closest",
          "mapbox": {
           "style": "light"
          },
          "paper_bgcolor": "white",
          "plot_bgcolor": "#E5ECF6",
          "polar": {
           "angularaxis": {
            "gridcolor": "white",
            "linecolor": "white",
            "ticks": ""
           },
           "bgcolor": "#E5ECF6",
           "radialaxis": {
            "gridcolor": "white",
            "linecolor": "white",
            "ticks": ""
           }
          },
          "scene": {
           "xaxis": {
            "backgroundcolor": "#E5ECF6",
            "gridcolor": "white",
            "gridwidth": 2,
            "linecolor": "white",
            "showbackground": true,
            "ticks": "",
            "zerolinecolor": "white"
           },
           "yaxis": {
            "backgroundcolor": "#E5ECF6",
            "gridcolor": "white",
            "gridwidth": 2,
            "linecolor": "white",
            "showbackground": true,
            "ticks": "",
            "zerolinecolor": "white"
           },
           "zaxis": {
            "backgroundcolor": "#E5ECF6",
            "gridcolor": "white",
            "gridwidth": 2,
            "linecolor": "white",
            "showbackground": true,
            "ticks": "",
            "zerolinecolor": "white"
           }
          },
          "shapedefaults": {
           "line": {
            "color": "#2a3f5f"
           }
          },
          "ternary": {
           "aaxis": {
            "gridcolor": "white",
            "linecolor": "white",
            "ticks": ""
           },
           "baxis": {
            "gridcolor": "white",
            "linecolor": "white",
            "ticks": ""
           },
           "bgcolor": "#E5ECF6",
           "caxis": {
            "gridcolor": "white",
            "linecolor": "white",
            "ticks": ""
           }
          },
          "title": {
           "x": 0.05
          },
          "xaxis": {
           "automargin": true,
           "gridcolor": "white",
           "linecolor": "white",
           "ticks": "",
           "title": {
            "standoff": 15
           },
           "zerolinecolor": "white",
           "zerolinewidth": 2
          },
          "yaxis": {
           "automargin": true,
           "gridcolor": "white",
           "linecolor": "white",
           "ticks": "",
           "title": {
            "standoff": 15
           },
           "zerolinecolor": "white",
           "zerolinewidth": 2
          }
         }
        },
        "width": 2000,
        "xaxis": {
         "anchor": "y",
         "domain": [
          0,
          1
         ],
         "range": [
          -3,
          15
         ],
         "title": {
          "text": "ERCC_attomoles_in_sample"
         },
         "type": "log"
        },
        "yaxis": {
         "anchor": "x",
         "domain": [
          0,
          1
         ],
         "title": {
          "text": "RPK"
         },
         "type": "log"
        }
       }
      }
     },
     "metadata": {},
     "output_type": "display_data"
    },
    {
     "name": "stderr",
     "output_type": "stream",
     "text": [
      "C:\\Users\\adiro\\AppData\\Local\\Temp\\ipykernel_40068\\2061613557.py:205: SettingWithCopyWarning:\n",
      "\n",
      "\n",
      "A value is trying to be set on a copy of a slice from a DataFrame.\n",
      "Try using .loc[row_indexer,col_indexer] = value instead\n",
      "\n",
      "See the caveats in the documentation: https://pandas.pydata.org/pandas-docs/stable/user_guide/indexing.html#returning-a-view-versus-a-copy\n",
      "\n"
     ]
    },
    {
     "data": {
      "application/vnd.plotly.v1+json": {
       "config": {
        "plotlyServerURL": "https://plot.ly"
       },
       "data": [
        {
         "hovertemplate": "<b>%{hovertext}</b><br><br>in_fit=in fit<br>ERCC_attomoles_in_sample=%{x}<br>RPK=%{y}<extra></extra>",
         "hovertext": [
          "ERCC-00002",
          "ERCC-00003",
          "ERCC-00004",
          "ERCC-00009",
          "ERCC-00012",
          "ERCC-00013",
          "ERCC-00014",
          "ERCC-00016",
          "ERCC-00017",
          "ERCC-00019",
          "ERCC-00022",
          "ERCC-00024",
          "ERCC-00025",
          "ERCC-00028",
          "ERCC-00031",
          "ERCC-00033",
          "ERCC-00034",
          "ERCC-00035",
          "ERCC-00039",
          "ERCC-00040",
          "ERCC-00041",
          "ERCC-00042",
          "ERCC-00043",
          "ERCC-00044",
          "ERCC-00046",
          "ERCC-00048",
          "ERCC-00051",
          "ERCC-00053",
          "ERCC-00057",
          "ERCC-00058",
          "ERCC-00059",
          "ERCC-00060",
          "ERCC-00061",
          "ERCC-00062",
          "ERCC-00067",
          "ERCC-00069",
          "ERCC-00071",
          "ERCC-00073",
          "ERCC-00074",
          "ERCC-00075",
          "ERCC-00076",
          "ERCC-00077",
          "ERCC-00078",
          "ERCC-00079",
          "ERCC-00081",
          "ERCC-00083",
          "ERCC-00084",
          "ERCC-00085",
          "ERCC-00086",
          "ERCC-00092",
          "ERCC-00095",
          "ERCC-00096",
          "ERCC-00097",
          "ERCC-00098",
          "ERCC-00099",
          "ERCC-00104",
          "ERCC-00108",
          "ERCC-00109",
          "ERCC-00111",
          "ERCC-00112",
          "ERCC-00113",
          "ERCC-00116",
          "ERCC-00117",
          "ERCC-00120",
          "ERCC-00123",
          "ERCC-00126",
          "ERCC-00130",
          "ERCC-00131",
          "ERCC-00134",
          "ERCC-00136",
          "ERCC-00137",
          "ERCC-00138",
          "ERCC-00142",
          "ERCC-00143",
          "ERCC-00144",
          "ERCC-00145",
          "ERCC-00147",
          "ERCC-00148",
          "ERCC-00150",
          "ERCC-00154",
          "ERCC-00156",
          "ERCC-00157",
          "ERCC-00158",
          "ERCC-00160",
          "ERCC-00162",
          "ERCC-00163",
          "ERCC-00164",
          "ERCC-00165",
          "ERCC-00168",
          "ERCC-00170",
          "ERCC-00171"
         ],
         "legendgroup": "in fit",
         "marker": {
          "color": "#636efa",
          "symbol": "circle"
         },
         "mode": "markers",
         "name": "in fit",
         "orientation": "h",
         "showlegend": true,
         "type": "scatter",
         "x": [
          487.5,
          30.46875,
          243.75,
          30.46875,
          0.0037193299,
          0.02975463855,
          0.11901855485000001,
          0.0074386598,
          0.0037193299,
          0.9521484375,
          7.6171875,
          0.0074386598,
          1.904296875,
          0.11901855485000001,
          0.05950927742500001,
          0.05950927742500001,
          0.238037109375,
          3.80859375,
          0.11901855485000001,
          0.02975463855,
          0.0074386598,
          15.234375,
          15.234375,
          3.80859375,
          121.875,
          0.0004649164,
          1.904296875,
          0.9521484375,
          0.0004649164,
          0.05950927742500001,
          0.47607421875,
          7.6171875,
          0.00185966495,
          1.904296875,
          0.11901855485000001,
          0.05950927742500001,
          1.904296875,
          0.02975463855,
          487.5,
          0.0004649164,
          7.6171875,
          0.11901855485000001,
          0.9521484375,
          1.904296875,
          0.0074386598,
          0.000929832475,
          0.9521484375,
          0.238037109375,
          0.0037193299,
          7.6171875,
          3.80859375,
          487.5,
          0.014877319275,
          0.00185966495,
          0.47607421875,
          0.0074386598,
          30.46875,
          0.02975463855,
          15.234375,
          3.80859375,
          121.875,
          15.234375,
          0.00185966495,
          0.02975463855,
          0.0074386598,
          0.47607421875,
          975,
          3.80859375,
          0.05950927742500001,
          60.9375,
          0.02975463855,
          0.0037193299,
          0.0074386598,
          0.11901855485000001,
          0.9521484375,
          30.46875,
          0.02975463855,
          0.47607421875,
          0.11901855485000001,
          0.238037109375,
          0.014877319275,
          0.238037109375,
          0.014877319275,
          0.238037109375,
          1.904296875,
          0.47607421875,
          0.014877319275,
          1.904296875,
          0.014877319275,
          0.47607421875,
          121.875
         ],
         "xaxis": "x",
         "y": [
          465531.5739868049,
          45484.84848484849,
          307005.73613766726,
          21473.577235772358,
          4.0241448692152915,
          21.03960396039604,
          117.52682677567705,
          5.924170616113744,
          4.401408450704226,
          1055.9006211180124,
          5181.091877496671,
          3.731343283582089,
          1996.9909729187564,
          92.9203539823009,
          47.45166959578208,
          35.1137487636004,
          556.4278704612366,
          2996.4601769911505,
          98.64864864864865,
          20.161290322580644,
          7.1301247771836,
          18078.20136852395,
          12451.612903225807,
          3321.7993079584776,
          166511.49425287356,
          1.0080645161290323,
          762.7737226277371,
          886.6080156402738,
          0.9794319294809012,
          59.85915492957747,
          476.19047619047615,
          11665.391969407265,
          0.8802816901408451,
          2061.5835777126103,
          110.24844720496894,
          77.39665787159191,
          1434.5794392523364,
          43.117744610281925,
          601185.8237547893,
          0.9775171065493647,
          3098.1308411214955,
          54.94505494505494,
          1229.607250755287,
          1753.1055900621118,
          1.8726591760299625,
          6.8493150684931505,
          946.6800804828974,
          204.97630331753555,
          6.862745098039215,
          9495.551601423487,
          6635.316698656429,
          649209.5754290876,
          13.38432122370937,
          8.748906386701663,
          435.55555555555554,
          5.934718100890208,
          26581.213307240705,
          13.059701492537313,
          11714.285714285714,
          4579.225352112677,
          138865.47619047618,
          17952.285283776997,
          2.6408450704225355,
          7.462686567164178,
          16.634050880626223,
          222.71914132379246,
          771179.4145420208,
          5523.994811932555,
          14.5985401459854,
          40766.69893514037,
          26.070763500931097,
          4.8828125,
          0,
          116.07142857142857,
          737.9182156133828,
          14757.197696737043,
          2.932551319648094,
          220.64777327935224,
          87.48317631224765,
          126.62942271880819,
          6.0728744939271255,
          406.28066732090286,
          14.605647517039923,
          547.7792732166891,
          2240.9177820267687,
          511.97053406998157,
          18.59099804305284,
          2107.798165137615,
          36.1328125,
          570.8699902248289,
          112326.73267326732
         ],
         "yaxis": "y"
        },
        {
         "hovertemplate": "<b>%{hovertext}</b><br><br>in_fit=not in fit<br>ERCC_attomoles_in_sample=%{x}<br>RPK=%{y}<extra></extra>",
         "hovertext": [
          "ERCC-00054"
         ],
         "legendgroup": "not in fit",
         "marker": {
          "color": "#EF553B",
          "symbol": "circle"
         },
         "mode": "markers",
         "name": "not in fit",
         "orientation": "h",
         "showlegend": true,
         "type": "scatter",
         "x": [
          0.47607421875
         ],
         "xaxis": "x",
         "y": [
          3.64963503649635
         ],
         "yaxis": "y"
        },
        {
         "mode": "lines",
         "name": "CASP_biorep2",
         "type": "scatter",
         "x": [
          0.01,
          975
         ],
         "y": [
          10.003535473285186,
          817465.5567415104
         ]
        }
       ],
       "layout": {
        "annotations": [
         {
          "align": "left",
          "bordercolor": "black",
          "borderwidth": 1,
          "showarrow": false,
          "text": "fit of log(y) Vs log(x), paremeters: log(y) = m*log(x)+c",
          "x": 0.4,
          "xanchor": "left",
          "xref": "paper",
          "y": 1,
          "yref": "paper"
         },
         {
          "align": "left",
          "bordercolor": "black",
          "borderwidth": 1,
          "showarrow": false,
          "text": "fit in the range ERCC attomoles in sample [0.01,975.00]",
          "x": 0.4,
          "xanchor": "left",
          "xref": "paper",
          "y": 0.9,
          "yref": "paper"
         },
         {
          "align": "left",
          "bordercolor": "black",
          "borderwidth": 1,
          "showarrow": false,
          "text": "the slop in log scale: m = 0.98",
          "x": 0.4,
          "xanchor": "left",
          "xref": "paper",
          "y": 0.8,
          "yref": "paper"
         },
         {
          "align": "left",
          "bordercolor": "black",
          "borderwidth": 1,
          "showarrow": false,
          "text": "the intercept in log scale: c = 6.84",
          "x": 0.4,
          "xanchor": "left",
          "xref": "paper",
          "y": 0.7,
          "yref": "paper"
         },
         {
          "align": "left",
          "bordercolor": "black",
          "borderwidth": 1,
          "showarrow": false,
          "text": "",
          "x": 0.4,
          "xanchor": "left",
          "xref": "paper",
          "y": 0.6,
          "yref": "paper"
         },
         {
          "align": "left",
          "bordercolor": "black",
          "borderwidth": 1,
          "showarrow": false,
          "text": "log(y) = m*log(x)+c --> y = e^c * x^m",
          "x": 0.4,
          "xanchor": "left",
          "xref": "paper",
          "y": 0.5,
          "yref": "paper"
         },
         {
          "align": "left",
          "bordercolor": "black",
          "borderwidth": 1,
          "showarrow": false,
          "text": "the slope in linear scale: e^c = 9.32E+02",
          "x": 0.4,
          "xanchor": "left",
          "xref": "paper",
          "y": 0.3999999999999999,
          "yref": "paper"
         },
         {
          "align": "left",
          "bordercolor": "black",
          "borderwidth": 1,
          "showarrow": false,
          "text": "R^2 = 0.97",
          "x": 0.4,
          "xanchor": "left",
          "xref": "paper",
          "y": 0.29999999999999993,
          "yref": "paper"
         },
         {
          "align": "left",
          "bordercolor": "black",
          "borderwidth": 1,
          "showarrow": false,
          "text": "",
          "x": 0.4,
          "xanchor": "left",
          "xref": "paper",
          "y": 0.19999999999999996,
          "yref": "paper"
         },
         {
          "align": "left",
          "bordercolor": "black",
          "borderwidth": 1,
          "showarrow": false,
          "text": "ERCCs with no reads detected",
          "x": 0.4,
          "xanchor": "left",
          "xref": "paper",
          "y": 0.09999999999999998,
          "yref": "paper"
         },
         {
          "align": "left",
          "bordercolor": "black",
          "borderwidth": 1,
          "showarrow": false,
          "text": " not fitted and not shown",
          "x": 0.4,
          "xanchor": "left",
          "xref": "paper",
          "y": 0,
          "yref": "paper"
         }
        ],
        "font": {
         "size": 24
        },
        "height": 600,
        "legend": {
         "title": {
          "text": "in_fit"
         },
         "tracegroupgap": 0
        },
        "margin": {
         "t": 60
        },
        "template": {
         "data": {
          "bar": [
           {
            "error_x": {
             "color": "#2a3f5f"
            },
            "error_y": {
             "color": "#2a3f5f"
            },
            "marker": {
             "line": {
              "color": "#E5ECF6",
              "width": 0.5
             },
             "pattern": {
              "fillmode": "overlay",
              "size": 10,
              "solidity": 0.2
             }
            },
            "type": "bar"
           }
          ],
          "barpolar": [
           {
            "marker": {
             "line": {
              "color": "#E5ECF6",
              "width": 0.5
             },
             "pattern": {
              "fillmode": "overlay",
              "size": 10,
              "solidity": 0.2
             }
            },
            "type": "barpolar"
           }
          ],
          "carpet": [
           {
            "aaxis": {
             "endlinecolor": "#2a3f5f",
             "gridcolor": "white",
             "linecolor": "white",
             "minorgridcolor": "white",
             "startlinecolor": "#2a3f5f"
            },
            "baxis": {
             "endlinecolor": "#2a3f5f",
             "gridcolor": "white",
             "linecolor": "white",
             "minorgridcolor": "white",
             "startlinecolor": "#2a3f5f"
            },
            "type": "carpet"
           }
          ],
          "choropleth": [
           {
            "colorbar": {
             "outlinewidth": 0,
             "ticks": ""
            },
            "type": "choropleth"
           }
          ],
          "contour": [
           {
            "colorbar": {
             "outlinewidth": 0,
             "ticks": ""
            },
            "colorscale": [
             [
              0,
              "#0d0887"
             ],
             [
              0.1111111111111111,
              "#46039f"
             ],
             [
              0.2222222222222222,
              "#7201a8"
             ],
             [
              0.3333333333333333,
              "#9c179e"
             ],
             [
              0.4444444444444444,
              "#bd3786"
             ],
             [
              0.5555555555555556,
              "#d8576b"
             ],
             [
              0.6666666666666666,
              "#ed7953"
             ],
             [
              0.7777777777777778,
              "#fb9f3a"
             ],
             [
              0.8888888888888888,
              "#fdca26"
             ],
             [
              1,
              "#f0f921"
             ]
            ],
            "type": "contour"
           }
          ],
          "contourcarpet": [
           {
            "colorbar": {
             "outlinewidth": 0,
             "ticks": ""
            },
            "type": "contourcarpet"
           }
          ],
          "heatmap": [
           {
            "colorbar": {
             "outlinewidth": 0,
             "ticks": ""
            },
            "colorscale": [
             [
              0,
              "#0d0887"
             ],
             [
              0.1111111111111111,
              "#46039f"
             ],
             [
              0.2222222222222222,
              "#7201a8"
             ],
             [
              0.3333333333333333,
              "#9c179e"
             ],
             [
              0.4444444444444444,
              "#bd3786"
             ],
             [
              0.5555555555555556,
              "#d8576b"
             ],
             [
              0.6666666666666666,
              "#ed7953"
             ],
             [
              0.7777777777777778,
              "#fb9f3a"
             ],
             [
              0.8888888888888888,
              "#fdca26"
             ],
             [
              1,
              "#f0f921"
             ]
            ],
            "type": "heatmap"
           }
          ],
          "heatmapgl": [
           {
            "colorbar": {
             "outlinewidth": 0,
             "ticks": ""
            },
            "colorscale": [
             [
              0,
              "#0d0887"
             ],
             [
              0.1111111111111111,
              "#46039f"
             ],
             [
              0.2222222222222222,
              "#7201a8"
             ],
             [
              0.3333333333333333,
              "#9c179e"
             ],
             [
              0.4444444444444444,
              "#bd3786"
             ],
             [
              0.5555555555555556,
              "#d8576b"
             ],
             [
              0.6666666666666666,
              "#ed7953"
             ],
             [
              0.7777777777777778,
              "#fb9f3a"
             ],
             [
              0.8888888888888888,
              "#fdca26"
             ],
             [
              1,
              "#f0f921"
             ]
            ],
            "type": "heatmapgl"
           }
          ],
          "histogram": [
           {
            "marker": {
             "pattern": {
              "fillmode": "overlay",
              "size": 10,
              "solidity": 0.2
             }
            },
            "type": "histogram"
           }
          ],
          "histogram2d": [
           {
            "colorbar": {
             "outlinewidth": 0,
             "ticks": ""
            },
            "colorscale": [
             [
              0,
              "#0d0887"
             ],
             [
              0.1111111111111111,
              "#46039f"
             ],
             [
              0.2222222222222222,
              "#7201a8"
             ],
             [
              0.3333333333333333,
              "#9c179e"
             ],
             [
              0.4444444444444444,
              "#bd3786"
             ],
             [
              0.5555555555555556,
              "#d8576b"
             ],
             [
              0.6666666666666666,
              "#ed7953"
             ],
             [
              0.7777777777777778,
              "#fb9f3a"
             ],
             [
              0.8888888888888888,
              "#fdca26"
             ],
             [
              1,
              "#f0f921"
             ]
            ],
            "type": "histogram2d"
           }
          ],
          "histogram2dcontour": [
           {
            "colorbar": {
             "outlinewidth": 0,
             "ticks": ""
            },
            "colorscale": [
             [
              0,
              "#0d0887"
             ],
             [
              0.1111111111111111,
              "#46039f"
             ],
             [
              0.2222222222222222,
              "#7201a8"
             ],
             [
              0.3333333333333333,
              "#9c179e"
             ],
             [
              0.4444444444444444,
              "#bd3786"
             ],
             [
              0.5555555555555556,
              "#d8576b"
             ],
             [
              0.6666666666666666,
              "#ed7953"
             ],
             [
              0.7777777777777778,
              "#fb9f3a"
             ],
             [
              0.8888888888888888,
              "#fdca26"
             ],
             [
              1,
              "#f0f921"
             ]
            ],
            "type": "histogram2dcontour"
           }
          ],
          "mesh3d": [
           {
            "colorbar": {
             "outlinewidth": 0,
             "ticks": ""
            },
            "type": "mesh3d"
           }
          ],
          "parcoords": [
           {
            "line": {
             "colorbar": {
              "outlinewidth": 0,
              "ticks": ""
             }
            },
            "type": "parcoords"
           }
          ],
          "pie": [
           {
            "automargin": true,
            "type": "pie"
           }
          ],
          "scatter": [
           {
            "marker": {
             "colorbar": {
              "outlinewidth": 0,
              "ticks": ""
             }
            },
            "type": "scatter"
           }
          ],
          "scatter3d": [
           {
            "line": {
             "colorbar": {
              "outlinewidth": 0,
              "ticks": ""
             }
            },
            "marker": {
             "colorbar": {
              "outlinewidth": 0,
              "ticks": ""
             }
            },
            "type": "scatter3d"
           }
          ],
          "scattercarpet": [
           {
            "marker": {
             "colorbar": {
              "outlinewidth": 0,
              "ticks": ""
             }
            },
            "type": "scattercarpet"
           }
          ],
          "scattergeo": [
           {
            "marker": {
             "colorbar": {
              "outlinewidth": 0,
              "ticks": ""
             }
            },
            "type": "scattergeo"
           }
          ],
          "scattergl": [
           {
            "marker": {
             "colorbar": {
              "outlinewidth": 0,
              "ticks": ""
             }
            },
            "type": "scattergl"
           }
          ],
          "scattermapbox": [
           {
            "marker": {
             "colorbar": {
              "outlinewidth": 0,
              "ticks": ""
             }
            },
            "type": "scattermapbox"
           }
          ],
          "scatterpolar": [
           {
            "marker": {
             "colorbar": {
              "outlinewidth": 0,
              "ticks": ""
             }
            },
            "type": "scatterpolar"
           }
          ],
          "scatterpolargl": [
           {
            "marker": {
             "colorbar": {
              "outlinewidth": 0,
              "ticks": ""
             }
            },
            "type": "scatterpolargl"
           }
          ],
          "scatterternary": [
           {
            "marker": {
             "colorbar": {
              "outlinewidth": 0,
              "ticks": ""
             }
            },
            "type": "scatterternary"
           }
          ],
          "surface": [
           {
            "colorbar": {
             "outlinewidth": 0,
             "ticks": ""
            },
            "colorscale": [
             [
              0,
              "#0d0887"
             ],
             [
              0.1111111111111111,
              "#46039f"
             ],
             [
              0.2222222222222222,
              "#7201a8"
             ],
             [
              0.3333333333333333,
              "#9c179e"
             ],
             [
              0.4444444444444444,
              "#bd3786"
             ],
             [
              0.5555555555555556,
              "#d8576b"
             ],
             [
              0.6666666666666666,
              "#ed7953"
             ],
             [
              0.7777777777777778,
              "#fb9f3a"
             ],
             [
              0.8888888888888888,
              "#fdca26"
             ],
             [
              1,
              "#f0f921"
             ]
            ],
            "type": "surface"
           }
          ],
          "table": [
           {
            "cells": {
             "fill": {
              "color": "#EBF0F8"
             },
             "line": {
              "color": "white"
             }
            },
            "header": {
             "fill": {
              "color": "#C8D4E3"
             },
             "line": {
              "color": "white"
             }
            },
            "type": "table"
           }
          ]
         },
         "layout": {
          "annotationdefaults": {
           "arrowcolor": "#2a3f5f",
           "arrowhead": 0,
           "arrowwidth": 1
          },
          "autotypenumbers": "strict",
          "coloraxis": {
           "colorbar": {
            "outlinewidth": 0,
            "ticks": ""
           }
          },
          "colorscale": {
           "diverging": [
            [
             0,
             "#8e0152"
            ],
            [
             0.1,
             "#c51b7d"
            ],
            [
             0.2,
             "#de77ae"
            ],
            [
             0.3,
             "#f1b6da"
            ],
            [
             0.4,
             "#fde0ef"
            ],
            [
             0.5,
             "#f7f7f7"
            ],
            [
             0.6,
             "#e6f5d0"
            ],
            [
             0.7,
             "#b8e186"
            ],
            [
             0.8,
             "#7fbc41"
            ],
            [
             0.9,
             "#4d9221"
            ],
            [
             1,
             "#276419"
            ]
           ],
           "sequential": [
            [
             0,
             "#0d0887"
            ],
            [
             0.1111111111111111,
             "#46039f"
            ],
            [
             0.2222222222222222,
             "#7201a8"
            ],
            [
             0.3333333333333333,
             "#9c179e"
            ],
            [
             0.4444444444444444,
             "#bd3786"
            ],
            [
             0.5555555555555556,
             "#d8576b"
            ],
            [
             0.6666666666666666,
             "#ed7953"
            ],
            [
             0.7777777777777778,
             "#fb9f3a"
            ],
            [
             0.8888888888888888,
             "#fdca26"
            ],
            [
             1,
             "#f0f921"
            ]
           ],
           "sequentialminus": [
            [
             0,
             "#0d0887"
            ],
            [
             0.1111111111111111,
             "#46039f"
            ],
            [
             0.2222222222222222,
             "#7201a8"
            ],
            [
             0.3333333333333333,
             "#9c179e"
            ],
            [
             0.4444444444444444,
             "#bd3786"
            ],
            [
             0.5555555555555556,
             "#d8576b"
            ],
            [
             0.6666666666666666,
             "#ed7953"
            ],
            [
             0.7777777777777778,
             "#fb9f3a"
            ],
            [
             0.8888888888888888,
             "#fdca26"
            ],
            [
             1,
             "#f0f921"
            ]
           ]
          },
          "colorway": [
           "#636efa",
           "#EF553B",
           "#00cc96",
           "#ab63fa",
           "#FFA15A",
           "#19d3f3",
           "#FF6692",
           "#B6E880",
           "#FF97FF",
           "#FECB52"
          ],
          "font": {
           "color": "#2a3f5f"
          },
          "geo": {
           "bgcolor": "white",
           "lakecolor": "white",
           "landcolor": "#E5ECF6",
           "showlakes": true,
           "showland": true,
           "subunitcolor": "white"
          },
          "hoverlabel": {
           "align": "left"
          },
          "hovermode": "closest",
          "mapbox": {
           "style": "light"
          },
          "paper_bgcolor": "white",
          "plot_bgcolor": "#E5ECF6",
          "polar": {
           "angularaxis": {
            "gridcolor": "white",
            "linecolor": "white",
            "ticks": ""
           },
           "bgcolor": "#E5ECF6",
           "radialaxis": {
            "gridcolor": "white",
            "linecolor": "white",
            "ticks": ""
           }
          },
          "scene": {
           "xaxis": {
            "backgroundcolor": "#E5ECF6",
            "gridcolor": "white",
            "gridwidth": 2,
            "linecolor": "white",
            "showbackground": true,
            "ticks": "",
            "zerolinecolor": "white"
           },
           "yaxis": {
            "backgroundcolor": "#E5ECF6",
            "gridcolor": "white",
            "gridwidth": 2,
            "linecolor": "white",
            "showbackground": true,
            "ticks": "",
            "zerolinecolor": "white"
           },
           "zaxis": {
            "backgroundcolor": "#E5ECF6",
            "gridcolor": "white",
            "gridwidth": 2,
            "linecolor": "white",
            "showbackground": true,
            "ticks": "",
            "zerolinecolor": "white"
           }
          },
          "shapedefaults": {
           "line": {
            "color": "#2a3f5f"
           }
          },
          "ternary": {
           "aaxis": {
            "gridcolor": "white",
            "linecolor": "white",
            "ticks": ""
           },
           "baxis": {
            "gridcolor": "white",
            "linecolor": "white",
            "ticks": ""
           },
           "bgcolor": "#E5ECF6",
           "caxis": {
            "gridcolor": "white",
            "linecolor": "white",
            "ticks": ""
           }
          },
          "title": {
           "x": 0.05
          },
          "xaxis": {
           "automargin": true,
           "gridcolor": "white",
           "linecolor": "white",
           "ticks": "",
           "title": {
            "standoff": 15
           },
           "zerolinecolor": "white",
           "zerolinewidth": 2
          },
          "yaxis": {
           "automargin": true,
           "gridcolor": "white",
           "linecolor": "white",
           "ticks": "",
           "title": {
            "standoff": 15
           },
           "zerolinecolor": "white",
           "zerolinewidth": 2
          }
         }
        },
        "width": 2000,
        "xaxis": {
         "anchor": "y",
         "domain": [
          0,
          1
         ],
         "range": [
          -3,
          15
         ],
         "title": {
          "text": "ERCC_attomoles_in_sample"
         },
         "type": "log"
        },
        "yaxis": {
         "anchor": "x",
         "domain": [
          0,
          1
         ],
         "title": {
          "text": "RPK"
         },
         "type": "log"
        }
       }
      }
     },
     "metadata": {},
     "output_type": "display_data"
    },
    {
     "name": "stderr",
     "output_type": "stream",
     "text": [
      "C:\\Users\\adiro\\AppData\\Local\\Temp\\ipykernel_40068\\2061613557.py:205: SettingWithCopyWarning:\n",
      "\n",
      "\n",
      "A value is trying to be set on a copy of a slice from a DataFrame.\n",
      "Try using .loc[row_indexer,col_indexer] = value instead\n",
      "\n",
      "See the caveats in the documentation: https://pandas.pydata.org/pandas-docs/stable/user_guide/indexing.html#returning-a-view-versus-a-copy\n",
      "\n"
     ]
    },
    {
     "data": {
      "application/vnd.plotly.v1+json": {
       "config": {
        "plotlyServerURL": "https://plot.ly"
       },
       "data": [
        {
         "hovertemplate": "<b>%{hovertext}</b><br><br>in_fit=in fit<br>ERCC_attomoles_in_sample=%{x}<br>RPK=%{y}<extra></extra>",
         "hovertext": [
          "ERCC-00002",
          "ERCC-00003",
          "ERCC-00004",
          "ERCC-00009",
          "ERCC-00012",
          "ERCC-00013",
          "ERCC-00014",
          "ERCC-00016",
          "ERCC-00017",
          "ERCC-00019",
          "ERCC-00022",
          "ERCC-00024",
          "ERCC-00025",
          "ERCC-00028",
          "ERCC-00031",
          "ERCC-00033",
          "ERCC-00034",
          "ERCC-00035",
          "ERCC-00039",
          "ERCC-00040",
          "ERCC-00041",
          "ERCC-00042",
          "ERCC-00043",
          "ERCC-00044",
          "ERCC-00046",
          "ERCC-00048",
          "ERCC-00051",
          "ERCC-00053",
          "ERCC-00057",
          "ERCC-00058",
          "ERCC-00059",
          "ERCC-00060",
          "ERCC-00061",
          "ERCC-00062",
          "ERCC-00067",
          "ERCC-00069",
          "ERCC-00071",
          "ERCC-00073",
          "ERCC-00074",
          "ERCC-00075",
          "ERCC-00076",
          "ERCC-00077",
          "ERCC-00078",
          "ERCC-00079",
          "ERCC-00081",
          "ERCC-00083",
          "ERCC-00084",
          "ERCC-00085",
          "ERCC-00086",
          "ERCC-00092",
          "ERCC-00095",
          "ERCC-00096",
          "ERCC-00097",
          "ERCC-00098",
          "ERCC-00099",
          "ERCC-00104",
          "ERCC-00108",
          "ERCC-00109",
          "ERCC-00111",
          "ERCC-00112",
          "ERCC-00113",
          "ERCC-00116",
          "ERCC-00117",
          "ERCC-00120",
          "ERCC-00123",
          "ERCC-00126",
          "ERCC-00130",
          "ERCC-00131",
          "ERCC-00134",
          "ERCC-00136",
          "ERCC-00137",
          "ERCC-00138",
          "ERCC-00142",
          "ERCC-00143",
          "ERCC-00144",
          "ERCC-00145",
          "ERCC-00147",
          "ERCC-00148",
          "ERCC-00150",
          "ERCC-00154",
          "ERCC-00156",
          "ERCC-00157",
          "ERCC-00158",
          "ERCC-00160",
          "ERCC-00162",
          "ERCC-00163",
          "ERCC-00164",
          "ERCC-00165",
          "ERCC-00168",
          "ERCC-00170",
          "ERCC-00171"
         ],
         "legendgroup": "in fit",
         "marker": {
          "color": "#636efa",
          "symbol": "circle"
         },
         "mode": "markers",
         "name": "in fit",
         "orientation": "h",
         "showlegend": true,
         "type": "scatter",
         "x": [
          487.5,
          30.46875,
          243.75,
          30.46875,
          0.0037193299,
          0.02975463855,
          0.11901855485000001,
          0.0074386598,
          0.0037193299,
          0.9521484375,
          7.6171875,
          0.0074386598,
          1.904296875,
          0.11901855485000001,
          0.05950927742500001,
          0.05950927742500001,
          0.238037109375,
          3.80859375,
          0.11901855485000001,
          0.02975463855,
          0.0074386598,
          15.234375,
          15.234375,
          3.80859375,
          121.875,
          0.0004649164,
          1.904296875,
          0.9521484375,
          0.0004649164,
          0.05950927742500001,
          0.47607421875,
          7.6171875,
          0.00185966495,
          1.904296875,
          0.11901855485000001,
          0.05950927742500001,
          1.904296875,
          0.02975463855,
          487.5,
          0.0004649164,
          7.6171875,
          0.11901855485000001,
          0.9521484375,
          1.904296875,
          0.0074386598,
          0.000929832475,
          0.9521484375,
          0.238037109375,
          0.0037193299,
          7.6171875,
          3.80859375,
          487.5,
          0.014877319275,
          0.00185966495,
          0.47607421875,
          0.0074386598,
          30.46875,
          0.02975463855,
          15.234375,
          3.80859375,
          121.875,
          15.234375,
          0.00185966495,
          0.02975463855,
          0.0074386598,
          0.47607421875,
          975,
          3.80859375,
          0.05950927742500001,
          60.9375,
          0.02975463855,
          0.0037193299,
          0.0074386598,
          0.11901855485000001,
          0.9521484375,
          30.46875,
          0.02975463855,
          0.47607421875,
          0.11901855485000001,
          0.238037109375,
          0.014877319275,
          0.238037109375,
          0.014877319275,
          0.238037109375,
          1.904296875,
          0.47607421875,
          0.014877319275,
          1.904296875,
          0.014877319275,
          0.47607421875,
          121.875
         ],
         "xaxis": "x",
         "y": [
          492327.99245994346,
          41929.61876832845,
          302040.15296367113,
          24627.032520325203,
          0,
          21.03960396039604,
          111.90597853857946,
          7.109004739336493,
          7.042253521126761,
          1164.5962732919254,
          6025.299600532623,
          3.731343283582089,
          2209.1273821464392,
          89.38053097345134,
          41.30052724077329,
          24.233432245301685,
          568.2041216879294,
          3086.7256637168143,
          137.83783783783784,
          17.473118279569892,
          8.02139037433155,
          18108.504398826983,
          9653.958944281525,
          3899.653979238755,
          154078.54406130267,
          0,
          631.3868613138685,
          839.6871945259043,
          0,
          76.58450704225353,
          579.047619047619,
          7499.043977055449,
          0,
          1887.5855327468232,
          88.50931677018633,
          93.2277924362357,
          1679.1277258566977,
          34.82587064676617,
          585457.8544061303,
          3.910068426197459,
          3528.03738317757,
          25.64102564102564,
          1260.8257804632426,
          2009.3167701863354,
          1.8726591760299625,
          0.9784735812133072,
          1009.0543259557344,
          215.6398104265403,
          4.901960784313726,
          9131.672597864768,
          6786.9481765834935,
          724008.1300813009,
          26.76864244741874,
          8.748906386701663,
          364.4444444444444,
          2.4727992087042536,
          28543.052837573385,
          14.925373134328357,
          11423.541247484909,
          5077.4647887323945,
          156446.42857142858,
          19252.134605725765,
          2.6408450704225355,
          14.925373134328357,
          10.76320939334638,
          233.45259391771017,
          690530.6893295562,
          6006.485084306096,
          14.5985401459854,
          42865.440464666026,
          11.1731843575419,
          2.9296875,
          2.028397565922921,
          163.26530612244898,
          789.9628252788103,
          15234.165067178503,
          2.932551319648094,
          165.9919028340081,
          96.90444145356662,
          61.452513966480446,
          4.048582995951417,
          444.55348380765463,
          14.605647517039923,
          621.8034993270525,
          1921.606118546845,
          545.1197053406997,
          16.634050880626223,
          2493.119266055046,
          36.1328125,
          301.07526881720435,
          109332.67326732673
         ],
         "yaxis": "y"
        },
        {
         "hovertemplate": "<b>%{hovertext}</b><br><br>in_fit=not in fit<br>ERCC_attomoles_in_sample=%{x}<br>RPK=%{y}<extra></extra>",
         "hovertext": [
          "ERCC-00054"
         ],
         "legendgroup": "not in fit",
         "marker": {
          "color": "#EF553B",
          "symbol": "circle"
         },
         "mode": "markers",
         "name": "not in fit",
         "orientation": "h",
         "showlegend": true,
         "type": "scatter",
         "x": [
          0.47607421875
         ],
         "xaxis": "x",
         "y": [
          3.64963503649635
         ],
         "yaxis": "y"
        },
        {
         "mode": "lines",
         "name": "Disrupted_biorep1b",
         "type": "scatter",
         "x": [
          0.01,
          975
         ],
         "y": [
          8.704756026212491,
          904752.9296678997
         ]
        }
       ],
       "layout": {
        "annotations": [
         {
          "align": "left",
          "bordercolor": "black",
          "borderwidth": 1,
          "showarrow": false,
          "text": "fit of log(y) Vs log(x), paremeters: log(y) = m*log(x)+c",
          "x": 0.4,
          "xanchor": "left",
          "xref": "paper",
          "y": 1,
          "yref": "paper"
         },
         {
          "align": "left",
          "bordercolor": "black",
          "borderwidth": 1,
          "showarrow": false,
          "text": "fit in the range ERCC attomoles in sample [0.01,975.00]",
          "x": 0.4,
          "xanchor": "left",
          "xref": "paper",
          "y": 0.9,
          "yref": "paper"
         },
         {
          "align": "left",
          "bordercolor": "black",
          "borderwidth": 1,
          "showarrow": false,
          "text": "the slop in log scale: m = 1.01",
          "x": 0.4,
          "xanchor": "left",
          "xref": "paper",
          "y": 0.8,
          "yref": "paper"
         },
         {
          "align": "left",
          "bordercolor": "black",
          "borderwidth": 1,
          "showarrow": false,
          "text": "the intercept in log scale: c = 6.79",
          "x": 0.4,
          "xanchor": "left",
          "xref": "paper",
          "y": 0.7,
          "yref": "paper"
         },
         {
          "align": "left",
          "bordercolor": "black",
          "borderwidth": 1,
          "showarrow": false,
          "text": "",
          "x": 0.4,
          "xanchor": "left",
          "xref": "paper",
          "y": 0.6,
          "yref": "paper"
         },
         {
          "align": "left",
          "bordercolor": "black",
          "borderwidth": 1,
          "showarrow": false,
          "text": "log(y) = m*log(x)+c --> y = e^c * x^m",
          "x": 0.4,
          "xanchor": "left",
          "xref": "paper",
          "y": 0.5,
          "yref": "paper"
         },
         {
          "align": "left",
          "bordercolor": "black",
          "borderwidth": 1,
          "showarrow": false,
          "text": "the slope in linear scale: e^c = 8.93E+02",
          "x": 0.4,
          "xanchor": "left",
          "xref": "paper",
          "y": 0.3999999999999999,
          "yref": "paper"
         },
         {
          "align": "left",
          "bordercolor": "black",
          "borderwidth": 1,
          "showarrow": false,
          "text": "R^2 = 0.96",
          "x": 0.4,
          "xanchor": "left",
          "xref": "paper",
          "y": 0.29999999999999993,
          "yref": "paper"
         },
         {
          "align": "left",
          "bordercolor": "black",
          "borderwidth": 1,
          "showarrow": false,
          "text": "",
          "x": 0.4,
          "xanchor": "left",
          "xref": "paper",
          "y": 0.19999999999999996,
          "yref": "paper"
         },
         {
          "align": "left",
          "bordercolor": "black",
          "borderwidth": 1,
          "showarrow": false,
          "text": "ERCCs with no reads detected",
          "x": 0.4,
          "xanchor": "left",
          "xref": "paper",
          "y": 0.09999999999999998,
          "yref": "paper"
         },
         {
          "align": "left",
          "bordercolor": "black",
          "borderwidth": 1,
          "showarrow": false,
          "text": " not fitted and not shown",
          "x": 0.4,
          "xanchor": "left",
          "xref": "paper",
          "y": 0,
          "yref": "paper"
         }
        ],
        "font": {
         "size": 24
        },
        "height": 600,
        "legend": {
         "title": {
          "text": "in_fit"
         },
         "tracegroupgap": 0
        },
        "margin": {
         "t": 60
        },
        "template": {
         "data": {
          "bar": [
           {
            "error_x": {
             "color": "#2a3f5f"
            },
            "error_y": {
             "color": "#2a3f5f"
            },
            "marker": {
             "line": {
              "color": "#E5ECF6",
              "width": 0.5
             },
             "pattern": {
              "fillmode": "overlay",
              "size": 10,
              "solidity": 0.2
             }
            },
            "type": "bar"
           }
          ],
          "barpolar": [
           {
            "marker": {
             "line": {
              "color": "#E5ECF6",
              "width": 0.5
             },
             "pattern": {
              "fillmode": "overlay",
              "size": 10,
              "solidity": 0.2
             }
            },
            "type": "barpolar"
           }
          ],
          "carpet": [
           {
            "aaxis": {
             "endlinecolor": "#2a3f5f",
             "gridcolor": "white",
             "linecolor": "white",
             "minorgridcolor": "white",
             "startlinecolor": "#2a3f5f"
            },
            "baxis": {
             "endlinecolor": "#2a3f5f",
             "gridcolor": "white",
             "linecolor": "white",
             "minorgridcolor": "white",
             "startlinecolor": "#2a3f5f"
            },
            "type": "carpet"
           }
          ],
          "choropleth": [
           {
            "colorbar": {
             "outlinewidth": 0,
             "ticks": ""
            },
            "type": "choropleth"
           }
          ],
          "contour": [
           {
            "colorbar": {
             "outlinewidth": 0,
             "ticks": ""
            },
            "colorscale": [
             [
              0,
              "#0d0887"
             ],
             [
              0.1111111111111111,
              "#46039f"
             ],
             [
              0.2222222222222222,
              "#7201a8"
             ],
             [
              0.3333333333333333,
              "#9c179e"
             ],
             [
              0.4444444444444444,
              "#bd3786"
             ],
             [
              0.5555555555555556,
              "#d8576b"
             ],
             [
              0.6666666666666666,
              "#ed7953"
             ],
             [
              0.7777777777777778,
              "#fb9f3a"
             ],
             [
              0.8888888888888888,
              "#fdca26"
             ],
             [
              1,
              "#f0f921"
             ]
            ],
            "type": "contour"
           }
          ],
          "contourcarpet": [
           {
            "colorbar": {
             "outlinewidth": 0,
             "ticks": ""
            },
            "type": "contourcarpet"
           }
          ],
          "heatmap": [
           {
            "colorbar": {
             "outlinewidth": 0,
             "ticks": ""
            },
            "colorscale": [
             [
              0,
              "#0d0887"
             ],
             [
              0.1111111111111111,
              "#46039f"
             ],
             [
              0.2222222222222222,
              "#7201a8"
             ],
             [
              0.3333333333333333,
              "#9c179e"
             ],
             [
              0.4444444444444444,
              "#bd3786"
             ],
             [
              0.5555555555555556,
              "#d8576b"
             ],
             [
              0.6666666666666666,
              "#ed7953"
             ],
             [
              0.7777777777777778,
              "#fb9f3a"
             ],
             [
              0.8888888888888888,
              "#fdca26"
             ],
             [
              1,
              "#f0f921"
             ]
            ],
            "type": "heatmap"
           }
          ],
          "heatmapgl": [
           {
            "colorbar": {
             "outlinewidth": 0,
             "ticks": ""
            },
            "colorscale": [
             [
              0,
              "#0d0887"
             ],
             [
              0.1111111111111111,
              "#46039f"
             ],
             [
              0.2222222222222222,
              "#7201a8"
             ],
             [
              0.3333333333333333,
              "#9c179e"
             ],
             [
              0.4444444444444444,
              "#bd3786"
             ],
             [
              0.5555555555555556,
              "#d8576b"
             ],
             [
              0.6666666666666666,
              "#ed7953"
             ],
             [
              0.7777777777777778,
              "#fb9f3a"
             ],
             [
              0.8888888888888888,
              "#fdca26"
             ],
             [
              1,
              "#f0f921"
             ]
            ],
            "type": "heatmapgl"
           }
          ],
          "histogram": [
           {
            "marker": {
             "pattern": {
              "fillmode": "overlay",
              "size": 10,
              "solidity": 0.2
             }
            },
            "type": "histogram"
           }
          ],
          "histogram2d": [
           {
            "colorbar": {
             "outlinewidth": 0,
             "ticks": ""
            },
            "colorscale": [
             [
              0,
              "#0d0887"
             ],
             [
              0.1111111111111111,
              "#46039f"
             ],
             [
              0.2222222222222222,
              "#7201a8"
             ],
             [
              0.3333333333333333,
              "#9c179e"
             ],
             [
              0.4444444444444444,
              "#bd3786"
             ],
             [
              0.5555555555555556,
              "#d8576b"
             ],
             [
              0.6666666666666666,
              "#ed7953"
             ],
             [
              0.7777777777777778,
              "#fb9f3a"
             ],
             [
              0.8888888888888888,
              "#fdca26"
             ],
             [
              1,
              "#f0f921"
             ]
            ],
            "type": "histogram2d"
           }
          ],
          "histogram2dcontour": [
           {
            "colorbar": {
             "outlinewidth": 0,
             "ticks": ""
            },
            "colorscale": [
             [
              0,
              "#0d0887"
             ],
             [
              0.1111111111111111,
              "#46039f"
             ],
             [
              0.2222222222222222,
              "#7201a8"
             ],
             [
              0.3333333333333333,
              "#9c179e"
             ],
             [
              0.4444444444444444,
              "#bd3786"
             ],
             [
              0.5555555555555556,
              "#d8576b"
             ],
             [
              0.6666666666666666,
              "#ed7953"
             ],
             [
              0.7777777777777778,
              "#fb9f3a"
             ],
             [
              0.8888888888888888,
              "#fdca26"
             ],
             [
              1,
              "#f0f921"
             ]
            ],
            "type": "histogram2dcontour"
           }
          ],
          "mesh3d": [
           {
            "colorbar": {
             "outlinewidth": 0,
             "ticks": ""
            },
            "type": "mesh3d"
           }
          ],
          "parcoords": [
           {
            "line": {
             "colorbar": {
              "outlinewidth": 0,
              "ticks": ""
             }
            },
            "type": "parcoords"
           }
          ],
          "pie": [
           {
            "automargin": true,
            "type": "pie"
           }
          ],
          "scatter": [
           {
            "marker": {
             "colorbar": {
              "outlinewidth": 0,
              "ticks": ""
             }
            },
            "type": "scatter"
           }
          ],
          "scatter3d": [
           {
            "line": {
             "colorbar": {
              "outlinewidth": 0,
              "ticks": ""
             }
            },
            "marker": {
             "colorbar": {
              "outlinewidth": 0,
              "ticks": ""
             }
            },
            "type": "scatter3d"
           }
          ],
          "scattercarpet": [
           {
            "marker": {
             "colorbar": {
              "outlinewidth": 0,
              "ticks": ""
             }
            },
            "type": "scattercarpet"
           }
          ],
          "scattergeo": [
           {
            "marker": {
             "colorbar": {
              "outlinewidth": 0,
              "ticks": ""
             }
            },
            "type": "scattergeo"
           }
          ],
          "scattergl": [
           {
            "marker": {
             "colorbar": {
              "outlinewidth": 0,
              "ticks": ""
             }
            },
            "type": "scattergl"
           }
          ],
          "scattermapbox": [
           {
            "marker": {
             "colorbar": {
              "outlinewidth": 0,
              "ticks": ""
             }
            },
            "type": "scattermapbox"
           }
          ],
          "scatterpolar": [
           {
            "marker": {
             "colorbar": {
              "outlinewidth": 0,
              "ticks": ""
             }
            },
            "type": "scatterpolar"
           }
          ],
          "scatterpolargl": [
           {
            "marker": {
             "colorbar": {
              "outlinewidth": 0,
              "ticks": ""
             }
            },
            "type": "scatterpolargl"
           }
          ],
          "scatterternary": [
           {
            "marker": {
             "colorbar": {
              "outlinewidth": 0,
              "ticks": ""
             }
            },
            "type": "scatterternary"
           }
          ],
          "surface": [
           {
            "colorbar": {
             "outlinewidth": 0,
             "ticks": ""
            },
            "colorscale": [
             [
              0,
              "#0d0887"
             ],
             [
              0.1111111111111111,
              "#46039f"
             ],
             [
              0.2222222222222222,
              "#7201a8"
             ],
             [
              0.3333333333333333,
              "#9c179e"
             ],
             [
              0.4444444444444444,
              "#bd3786"
             ],
             [
              0.5555555555555556,
              "#d8576b"
             ],
             [
              0.6666666666666666,
              "#ed7953"
             ],
             [
              0.7777777777777778,
              "#fb9f3a"
             ],
             [
              0.8888888888888888,
              "#fdca26"
             ],
             [
              1,
              "#f0f921"
             ]
            ],
            "type": "surface"
           }
          ],
          "table": [
           {
            "cells": {
             "fill": {
              "color": "#EBF0F8"
             },
             "line": {
              "color": "white"
             }
            },
            "header": {
             "fill": {
              "color": "#C8D4E3"
             },
             "line": {
              "color": "white"
             }
            },
            "type": "table"
           }
          ]
         },
         "layout": {
          "annotationdefaults": {
           "arrowcolor": "#2a3f5f",
           "arrowhead": 0,
           "arrowwidth": 1
          },
          "autotypenumbers": "strict",
          "coloraxis": {
           "colorbar": {
            "outlinewidth": 0,
            "ticks": ""
           }
          },
          "colorscale": {
           "diverging": [
            [
             0,
             "#8e0152"
            ],
            [
             0.1,
             "#c51b7d"
            ],
            [
             0.2,
             "#de77ae"
            ],
            [
             0.3,
             "#f1b6da"
            ],
            [
             0.4,
             "#fde0ef"
            ],
            [
             0.5,
             "#f7f7f7"
            ],
            [
             0.6,
             "#e6f5d0"
            ],
            [
             0.7,
             "#b8e186"
            ],
            [
             0.8,
             "#7fbc41"
            ],
            [
             0.9,
             "#4d9221"
            ],
            [
             1,
             "#276419"
            ]
           ],
           "sequential": [
            [
             0,
             "#0d0887"
            ],
            [
             0.1111111111111111,
             "#46039f"
            ],
            [
             0.2222222222222222,
             "#7201a8"
            ],
            [
             0.3333333333333333,
             "#9c179e"
            ],
            [
             0.4444444444444444,
             "#bd3786"
            ],
            [
             0.5555555555555556,
             "#d8576b"
            ],
            [
             0.6666666666666666,
             "#ed7953"
            ],
            [
             0.7777777777777778,
             "#fb9f3a"
            ],
            [
             0.8888888888888888,
             "#fdca26"
            ],
            [
             1,
             "#f0f921"
            ]
           ],
           "sequentialminus": [
            [
             0,
             "#0d0887"
            ],
            [
             0.1111111111111111,
             "#46039f"
            ],
            [
             0.2222222222222222,
             "#7201a8"
            ],
            [
             0.3333333333333333,
             "#9c179e"
            ],
            [
             0.4444444444444444,
             "#bd3786"
            ],
            [
             0.5555555555555556,
             "#d8576b"
            ],
            [
             0.6666666666666666,
             "#ed7953"
            ],
            [
             0.7777777777777778,
             "#fb9f3a"
            ],
            [
             0.8888888888888888,
             "#fdca26"
            ],
            [
             1,
             "#f0f921"
            ]
           ]
          },
          "colorway": [
           "#636efa",
           "#EF553B",
           "#00cc96",
           "#ab63fa",
           "#FFA15A",
           "#19d3f3",
           "#FF6692",
           "#B6E880",
           "#FF97FF",
           "#FECB52"
          ],
          "font": {
           "color": "#2a3f5f"
          },
          "geo": {
           "bgcolor": "white",
           "lakecolor": "white",
           "landcolor": "#E5ECF6",
           "showlakes": true,
           "showland": true,
           "subunitcolor": "white"
          },
          "hoverlabel": {
           "align": "left"
          },
          "hovermode": "closest",
          "mapbox": {
           "style": "light"
          },
          "paper_bgcolor": "white",
          "plot_bgcolor": "#E5ECF6",
          "polar": {
           "angularaxis": {
            "gridcolor": "white",
            "linecolor": "white",
            "ticks": ""
           },
           "bgcolor": "#E5ECF6",
           "radialaxis": {
            "gridcolor": "white",
            "linecolor": "white",
            "ticks": ""
           }
          },
          "scene": {
           "xaxis": {
            "backgroundcolor": "#E5ECF6",
            "gridcolor": "white",
            "gridwidth": 2,
            "linecolor": "white",
            "showbackground": true,
            "ticks": "",
            "zerolinecolor": "white"
           },
           "yaxis": {
            "backgroundcolor": "#E5ECF6",
            "gridcolor": "white",
            "gridwidth": 2,
            "linecolor": "white",
            "showbackground": true,
            "ticks": "",
            "zerolinecolor": "white"
           },
           "zaxis": {
            "backgroundcolor": "#E5ECF6",
            "gridcolor": "white",
            "gridwidth": 2,
            "linecolor": "white",
            "showbackground": true,
            "ticks": "",
            "zerolinecolor": "white"
           }
          },
          "shapedefaults": {
           "line": {
            "color": "#2a3f5f"
           }
          },
          "ternary": {
           "aaxis": {
            "gridcolor": "white",
            "linecolor": "white",
            "ticks": ""
           },
           "baxis": {
            "gridcolor": "white",
            "linecolor": "white",
            "ticks": ""
           },
           "bgcolor": "#E5ECF6",
           "caxis": {
            "gridcolor": "white",
            "linecolor": "white",
            "ticks": ""
           }
          },
          "title": {
           "x": 0.05
          },
          "xaxis": {
           "automargin": true,
           "gridcolor": "white",
           "linecolor": "white",
           "ticks": "",
           "title": {
            "standoff": 15
           },
           "zerolinecolor": "white",
           "zerolinewidth": 2
          },
          "yaxis": {
           "automargin": true,
           "gridcolor": "white",
           "linecolor": "white",
           "ticks": "",
           "title": {
            "standoff": 15
           },
           "zerolinecolor": "white",
           "zerolinewidth": 2
          }
         }
        },
        "width": 2000,
        "xaxis": {
         "anchor": "y",
         "domain": [
          0,
          1
         ],
         "range": [
          -3,
          15
         ],
         "title": {
          "text": "ERCC_attomoles_in_sample"
         },
         "type": "log"
        },
        "yaxis": {
         "anchor": "x",
         "domain": [
          0,
          1
         ],
         "title": {
          "text": "RPK"
         },
         "type": "log"
        }
       }
      }
     },
     "metadata": {},
     "output_type": "display_data"
    }
   ],
   "source": [
    "# plot the fit for each sample:\n",
    "# make a folder for the plots:\n",
    "import os\n",
    "if not os.path.exists('ERCC_normalizion_plots/'+Experiment_name):\n",
    "    os.makedirs('ERCC_normalizion_plots/'+Experiment_name)\n",
    "for file in parameter_map.keys():\n",
    "    fig = plot_ERCC_linear_fit(RPK_ERCC,file,parameter_map,x_DL_map,ignore_ERCCs)\n",
    "    # If you don't want to show the plots, comment out the next line:\n",
    "    fig.show()\n",
    "    # Save the plots (comment out if you don't want to save the plots. The html version is interactive):\n",
    "    fig.write_html('ERCC_normalizion_plots/'+Experiment_name+'/'+file+'.html')\n",
    "    #fig.write_image('ERCC_normalizion_plots/downsampled/'+file+'.png')\n"
   ]
  },
  {
   "cell_type": "code",
   "execution_count": 19,
   "metadata": {},
   "outputs": [],
   "source": [
    "# save the raw data and RPK data (after removing transcripts with RPK < LLD):\n",
    "\n",
    "# create save directory:\n",
    "if not os.path.exists('Normalized_data_'+Experiment_name):\n",
    "    os.makedirs('Normalized_data_'+Experiment_name)\n",
    "\n",
    "\n",
    "# Convert to wide format and save to file, for easier reading:\n",
    "raw_reads_wide = raw_reads.pivot(index='ID', columns='file', values='data')\n",
    "raw_reads_wide.to_csv('Normalized_data_'+Experiment_name+'/raw_counts_'+Experiment_name+'.csv')\n",
    "raw_reads_ERCC_wide = raw_reads_ERCC.pivot(index='ID', columns='file', values='data')\n",
    "raw_reads_ERCC_wide.to_csv('Normalized_data_'+Experiment_name+'/raw_counts_ERCC_'+Experiment_name+'.csv')\n",
    "\n",
    "\n",
    "# add the biotype information to the RPK data:\n",
    "biotypes = pd.read_csv('normalizion_help_functions_and_info_tables/gene_biotypes_kly_k12_combined.csv')\n",
    "biotypes = dict(zip(biotypes['gene'],biotypes['biotype']))\n",
    "RPK['biotype'] = RPK['ID'].map(biotypes)\n",
    "\n",
    "# add locus tag information to the RPK data:\n",
    "k12_locus_tags = pd.read_csv('normalizion_help_functions_and_info_tables/gene_locus_tag_map_with_synonims.csv')\n",
    "k12_locus_tags_map = dict(zip(k12_locus_tags['Name'],k12_locus_tags['locus_tag']))\n",
    "RPK['locus_tag'] = RPK['ID'].map(k12_locus_tags_map)\n",
    "\n",
    "RPK_wide = RPK.pivot(index='ID', columns='file', values='RPK')\n",
    "RPK_wide.to_csv('Normalized_data_'+Experiment_name+'/RPK_'+Experiment_name+'.csv')\n",
    "\n",
    "\n",
    "RPK_wide_protein_coding = RPK[RPK['biotype']=='protein_coding'].pivot(index='ID', columns='file', values='RPK')\n",
    "RPK_wide_protein_coding.to_csv('Normalized_data_'+Experiment_name+'/RPK_protein_coding_'+Experiment_name+'.csv')\n"
   ]
  },
  {
   "cell_type": "code",
   "execution_count": 20,
   "metadata": {},
   "outputs": [],
   "source": [
    "# Normalize the data:\n",
    "\n",
    "# add the normalization parameters to the RPK data:\n",
    "for param in ['m','c']:\n",
    "    RPK[param] = RPK['file'].map({file:parameter_map[file][param] for file in parameter_map.keys()})\n",
    "# calculate the normalized data:\n",
    "RPK['ERCC normalized data attomoles per sample'] = np.exp(-RPK['c']/RPK['m']) * RPK['RPK']**(1/RPK['m'])\n",
    "# Change the units from attomoles to molecules in sample:\n",
    "#RPK['ERCC normalized data moles per sample'] = np.array(RPK['ERCC normalized data attomoles per sample'])*10**-18 # there is a bug in panadas for large numbers, must go through numpy\n",
    "RPK['ERCC normalized data molecules per sample'] = np.array(RPK['ERCC normalized data attomoles per sample'])*10**-18*6.022*10**23\n",
    "\n",
    "# save the ERCC normalized data to file (In molecules per sample):\n",
    "# MPS_wide = RPK.pivot(index='ID', columns='file', values='ERCC normalized data molecules per sample')\n",
    "# MPS_wide.to_csv('MPS_'+Experiment_name+'.csv')"
   ]
  },
  {
   "cell_type": "code",
   "execution_count": 1,
   "metadata": {},
   "outputs": [
    {
     "ename": "NameError",
     "evalue": "name 'pd' is not defined",
     "output_type": "error",
     "traceback": [
      "\u001b[1;31m---------------------------------------------------------------------------\u001b[0m",
      "\u001b[1;31mNameError\u001b[0m                                 Traceback (most recent call last)",
      "Input \u001b[1;32mIn [1]\u001b[0m, in \u001b[0;36m<cell line: 3>\u001b[1;34m()\u001b[0m\n\u001b[0;32m      1\u001b[0m \u001b[38;5;66;03m# Estimated molecules per cell:\u001b[39;00m\n\u001b[1;32m----> 3\u001b[0m cells_per_sample \u001b[38;5;241m=\u001b[39m \u001b[43mpd\u001b[49m\u001b[38;5;241m.\u001b[39mread_csv(sample_data_loc)[[\u001b[38;5;124m'\u001b[39m\u001b[38;5;124mfile\u001b[39m\u001b[38;5;124m'\u001b[39m,\u001b[38;5;124m'\u001b[39m\u001b[38;5;124mNumber of cells in sample\u001b[39m\u001b[38;5;124m'\u001b[39m]]\n\u001b[0;32m      4\u001b[0m cells_per_sample \u001b[38;5;241m=\u001b[39m \u001b[38;5;28mdict\u001b[39m(\u001b[38;5;28mzip\u001b[39m(cells_per_sample[\u001b[38;5;124m'\u001b[39m\u001b[38;5;124mfile\u001b[39m\u001b[38;5;124m'\u001b[39m],cells_per_sample[\u001b[38;5;124m'\u001b[39m\u001b[38;5;124mNumber of cells in sample\u001b[39m\u001b[38;5;124m'\u001b[39m]))\n\u001b[0;32m      5\u001b[0m RPK[\u001b[38;5;124m'\u001b[39m\u001b[38;5;124mcells_per_sample\u001b[39m\u001b[38;5;124m'\u001b[39m] \u001b[38;5;241m=\u001b[39m RPK[\u001b[38;5;124m'\u001b[39m\u001b[38;5;124mfile\u001b[39m\u001b[38;5;124m'\u001b[39m]\u001b[38;5;241m.\u001b[39mmap(cells_per_sample)\n",
      "\u001b[1;31mNameError\u001b[0m: name 'pd' is not defined"
     ]
    }
   ],
   "source": [
    "# Estimated molecules per cell:\n",
    "\n",
    "cells_per_sample = pd.read_csv(sample_data_loc)[['file','Number of cells in sample']]\n",
    "cells_per_sample = dict(zip(cells_per_sample['file'],cells_per_sample['Number of cells in sample']))\n",
    "RPK['cells_per_sample'] = RPK['file'].map(cells_per_sample)\n",
    "RPK['ERCC normalized data molecules per cell'] = RPK['ERCC normalized data molecules per sample']/RPK['cells_per_sample']\n",
    "MPC_wide = RPK.pivot(index='ID', columns='file', values='ERCC normalized data molecules per cell')\n",
    "\n",
    "# add gene product information from the gff file (can be commented out if not needed):\n",
    "MPC_wide['source: product'] = MPC_wide.index.map(product_map) # add gene product information (can be commented out if not needed)\n",
    "MPC_wide['locus_tag'] = MPC_wide.index.map(k12_locus_tags_map) # add locus tag information (can be commented out if not needed)\n",
    "\n",
    "# save the ERCC normalized data (molecules per cell) to file:\n",
    "MPC_wide.to_csv('Normalized_data_'+Experiment_name+'\\ERCC_normalized_data_molecules_per_cell_'+Experiment_name+'.csv')\n",
    "\n",
    "MPC_wide_protein_coding = RPK[RPK['biotype']=='protein_coding'].pivot(index='ID', columns='file', values='ERCC normalized data molecules per cell')\n",
    "\n",
    "# add gene product information from the gff file (can be commented out if not needed):\n",
    "MPC_wide_protein_coding['source: product'] = MPC_wide_protein_coding.index.map(product_map) # add gene product information (can be commented out if not needed)\n",
    "MPC_wide_protein_coding['locus_tag'] = MPC_wide_protein_coding.index.map(k12_locus_tags_map) # add locus tag information (can be commented out if not needed)\n",
    "\n",
    "# save the ERCC normalized data for protein coding genes only (molecules per cell) to file:\n",
    "MPC_wide_protein_coding.to_csv('Normalized_data_'+Experiment_name+'\\ERCC_normalized_data_molecules_per_cell_protein_coding_'+Experiment_name+'.csv')"
   ]
  },
  {
   "cell_type": "code",
   "execution_count": 26,
   "metadata": {},
   "outputs": [],
   "source": [
    "# make the correction for the total amount of RNA in the sample:\n",
    "\n",
    "first = True\n",
    "\n",
    "MPC_wide['ID'] = MPC_wide.index\n",
    "# remove the index\n",
    "MPC_wide = MPC_wide.reset_index(drop=True)\n",
    "MPC_wide\n",
    "\n",
    "samples = [rn for rn in MPC_wide.columns if rn != 'ID']\n",
    "for state in ['CASP','Disrupted','EXP']:\n",
    "    this_samples = [rn  for rn in samples if state in rn]\n",
    "    this_counts = MPC_wide[this_samples].copy()\n",
    "    # Calculate the totals and the totals mean\n",
    "    totals = this_counts.sum()\n",
    "    totals_mean = totals.mean()\n",
    "    # normalize each column by it's total\n",
    "    this_counts = this_counts/totals\n",
    "    # and multiply by the totals mean\n",
    "    this_counts = this_counts*totals_mean\n",
    "    this_counts['ID'] = MPC_wide['ID']\n",
    "    if first:\n",
    "        new_MPC_wide = this_counts.copy()\n",
    "        first=False\n",
    "    else:\n",
    "        new_MPC_wide = new_MPC_wide.merge(this_counts,on='ID')\n",
    "MPC_wide_corrected = new_MPC_wide.copy()\n",
    "\n",
    "MPC_wide_corrected['biotype'] = MPC_wide_corrected['ID'].map(biotypes)\n",
    "\n",
    "MPC_wide_corrected.to_csv('Normalized_data_'+Experiment_name+'\\ERCC_normalized_data_molecules_per_cell_total_correction_'+Experiment_name+'.csv')\n",
    "\n",
    "MPC_wide_corrected['biotype'] = MPC_wide_corrected['ID'].map(biotypes)\n",
    "MPC_wide_correcated_protein_coding = MPC_wide_corrected[MPC_wide_corrected['biotype']=='protein_coding']\n",
    "MPC_wide_correcated_protein_coding.to_csv('Normalized_data_'+Experiment_name+'\\ERCC_normalized_data_molecules_per_cell_total_correction_protein_coding_'+Experiment_name+'.csv')"
   ]
  },
  {
   "cell_type": "markdown",
   "metadata": {},
   "source": [
    "# Calculate the downsampling normalization"
   ]
  },
  {
   "cell_type": "markdown",
   "metadata": {},
   "source": [
    "This normalizes the data by subsampaling the raw reads.\n",
    "1. Find the sample with the lowest number of mapped reads\n",
    "2. For each sample, subsample the reads to the number of reads in the sample with the lowest number of reads"
   ]
  },
  {
   "cell_type": "code",
   "execution_count": 18,
   "metadata": {},
   "outputs": [
    {
     "name": "stdout",
     "output_type": "stream",
     "text": [
      "The smalest number of reads in a sample is: 0.355808M reads\n"
     ]
    }
   ],
   "source": [
    "# Calculate the total number of raw reads in each sample:\n",
    "min_totl_reads = raw_reads.groupby('file')['data'].sum().min()\n",
    "print('The smalest number of reads in a sample is: ' + str(min_totl_reads/10**6) + 'M reads')\n",
    "\n"
   ]
  },
  {
   "cell_type": "code",
   "execution_count": 19,
   "metadata": {},
   "outputs": [
    {
     "name": "stdout",
     "output_type": "stream",
     "text": [
      "Time it took to resample: CASP_biorep1a is: 0.4377278049786886 minutes\n",
      "Time it took to resample: CASP_biorep1b is: 1.010517172018687 minutes\n",
      "Time it took to resample: CASP_biorep1c is: 0.49286088546117146 minutes\n",
      "Time it took to resample: CASP_biorep2 is: 0.81421826283137 minutes\n",
      "Time it took to resample: CASP_biorep3 is: 1.0314512411753336 minutes\n",
      "Time it took to resample: CASP_biorep4 is: 0.9517118453979492 minutes\n",
      "Time it took to resample: Disrupted_biorep1a is: 1.1312514623006185 minutes\n",
      "Time it took to resample: Disrupted_biorep1b is: 0.9783519705136617 minutes\n",
      "Time it took to resample: Disrupted_biorep1c is: 1.1729070663452148 minutes\n",
      "Time it took to resample: Disrupted_biorep2 is: 1.228201448917389 minutes\n",
      "Time it took to resample: Disrupted_biorep3 is: 1.0167391220728557 minutes\n",
      "Time it took to resample: Disrupted_biorep4 is: 0.08475191990534464 minutes\n"
     ]
    }
   ],
   "source": [
    "# resample the data to the smallest sample size:\n",
    "\n",
    "samples = raw_reads['file'].unique()\n",
    "import time\n",
    "import random\n",
    "\n",
    "\n",
    "# resample the data to the min_totl_reads for each sample\n",
    "resampled_data = pd.DataFrame(columns=raw_reads.columns)\n",
    "for sample in samples:\n",
    "    \n",
    "    #count the minutes it takes to resample\n",
    "    start = time.time()\n",
    "    \n",
    "    this_sample = raw_reads[raw_reads['file']==sample].copy()\n",
    "    \n",
    "    this_sample_resampled = resample(this_sample,'ID','data',min_totl_reads)\n",
    "    stop=time.time()\n",
    "    # convert to minutes\n",
    "    print('Time it took to resample: ' + sample+ ' is: '+ str((stop-start)/60) + ' minutes')\n",
    "\n",
    "\n",
    "    this_sample_resampled['file'] = sample\n",
    "    resampled_data = pd.concat([resampled_data,this_sample_resampled])\n",
    "\n",
    "    # This run could be long, so uncomment the next line if you want to save the data to file after each sample:\n",
    "    # resampled_data.to_csv('Normalized_data_'+Experiment_name+'/downsampled_data_raw_reads_'+Experiment_name+'.csv')\n",
    "\n",
    "resampled_data_wide = resampled_data.pivot(index='ID', columns='file', values='data')\n",
    "resampled_data_wide.to_csv('Normalized_data_'+Experiment_name+'/downsampled_data_raw_reads_'+Experiment_name+'.csv')"
   ]
  },
  {
   "cell_type": "code",
   "execution_count": 20,
   "metadata": {},
   "outputs": [
    {
     "data": {
      "text/plain": [
       "file\n",
       "CASP_biorep1a         355808\n",
       "CASP_biorep1b         355808\n",
       "CASP_biorep1c         355808\n",
       "CASP_biorep2          355808\n",
       "CASP_biorep3          355808\n",
       "CASP_biorep4          355808\n",
       "Disrupted_biorep1a    355808\n",
       "Disrupted_biorep1b    355808\n",
       "Disrupted_biorep1c    355808\n",
       "Disrupted_biorep2     355808\n",
       "Disrupted_biorep3     355808\n",
       "Disrupted_biorep4     355808\n",
       "Name: data, dtype: object"
      ]
     },
     "execution_count": 20,
     "metadata": {},
     "output_type": "execute_result"
    }
   ],
   "source": [
    "resampled_data.groupby('file')['data'].sum()"
   ]
  },
  {
   "cell_type": "code",
   "execution_count": null,
   "metadata": {},
   "outputs": [],
   "source": [
    "resampled_data_wide['biotype'] = resampled_data_wide['ID'].map(biotypes)\n",
    "resampled_data_wide_protein_coding = resampled_data_wide[resampled_data_wide['biotype']=='protein_coding']\n",
    "resampled_data_wide_protein_coding.to_csv('Normalized_data_'+Experiment_name+'/downsampled_data_raw_reads_protein_coding_'+Experiment_name+'.csv')\n",
    "\n",
    "# add detection limit to the data (>50 raw reads):\n",
    "th = 50\n",
    "sample_cols = [col for col in resampled_data_wide.columns if 'biorep' in col]\n",
    "resampled_data_wide_protein_coding_th = resampled_data_wide_protein_coding[(resampled_data_wide_protein_coding[sample_cols] > th).any(1)].copy()\n",
    "\n",
    "resampled_data_wide_protein_coding_th.to_csv('Normalized_data_'+Experiment_name+'/downsampled_data_raw_reads_protein_coding_th'+str(th)+'_'+Experiment_name+'.csv')\n",
    "\n",
    "# genes kept:\n",
    "genes_kept = resampled_data_wide_protein_coding_th['ID']\n",
    "\n",
    "print('Threshhold:',th)\n",
    "print('Number of genes kept:',genes_kept.shape[0])\n",
    "resampled_data_wide_protein_coding_th.sum()"
   ]
  },
  {
   "cell_type": "markdown",
   "metadata": {},
   "source": [
    "# Calculate the RPK after downsampling normalization"
   ]
  },
  {
   "cell_type": "code",
   "execution_count": 22,
   "metadata": {},
   "outputs": [],
   "source": [
    "# get transcript lengths from the gff file (uncomment if needed, the length are already saved in the file transcript_lengths.csv):\n",
    "\"\"\"\n",
    "import gffpandas.gffpandas as gffpd\n",
    "import pandas as pd\n",
    "\n",
    "gff_file_loc = '..\\Genome_files\\gffFile_combined.gff'\n",
    "transcript_lengths = get_length_from_gff(gff_file_loc)\n",
    "transcript_lengths.to_csv('normalizion_help_functions_and_info_tables/transcript_lengths.csv')\n",
    "\"\"\"\n",
    "\n",
    "# Get the transcript lengths:\n",
    "transcript_lengths = pd.read_csv('normalizion_help_functions_and_info_tables/transcript_lengths.csv')\n",
    "transcript_lengths_map = dict(zip(transcript_lengths['ID'],transcript_lengths['length']))\n",
    "\n",
    "# Calculate the RPK after resampling:\n",
    "resample_RPK = resampled_data.copy()\n",
    "resample_RPK['length'] = resample_RPK['ID'].map(transcript_lengths_map)\n",
    "resample_RPK['RPK'] = resample_RPK['data']/(resample_RPK['length']/1000)\n",
    "\n",
    "# save the RPK after downsampling data to file:\n",
    "resample_RPK_wide = resample_RPK.pivot(index='ID', columns='file', values='RPK')\n",
    "resample_RPK_wide.to_csv('Normalized_data_'+Experiment_name+'/RPK_after_downsample_'+Experiment_name+'.csv')\n",
    "\n",
    "resample_RPK_wide['biotype'] = resample_RPK_wide.index.map(biotypes)\n",
    "resample_RPK_wide_protein_coding = resample_RPK_wide[resample_RPK_wide['biotype']=='protein_coding']\n",
    "resample_RPK_wide_protein_coding.to_csv('Normalized_data_'+Experiment_name+'/RPK_after_downsample_protein_coding_'+Experiment_name+'.csv')\n",
    "\n",
    "# Calculate the RPK after resampling and thresholding and keeping protein coding genes only:\n",
    "genes2keep = resampled_data_wide_protein_coding_th['ID'].unique()\n",
    "resample_RPK_wide_protein_coding_th = resample_RPK_wide_protein_coding[resample_RPK_wide_protein_coding.index.isin(genes2keep)].copy()\n",
    "resample_RPK_wide_protein_coding_th.to_csv('Normalized_data_'+Experiment_name+'/RPK_after_downsample_protein_coding_th'+str(th)+'_'+Experiment_name+'.csv')\n"
   ]
  }
 ],
 "metadata": {
  "kernelspec": {
   "display_name": "base",
   "language": "python",
   "name": "python3"
  },
  "language_info": {
   "codemirror_mode": {
    "name": "ipython",
    "version": 3
   },
   "file_extension": ".py",
   "mimetype": "text/x-python",
   "name": "python",
   "nbconvert_exporter": "python",
   "pygments_lexer": "ipython3",
   "version": "3.9.12"
  }
 },
 "nbformat": 4,
 "nbformat_minor": 2
}
